{
  "cells": [
    {
      "cell_type": "markdown",
      "metadata": {
        "id": "2f39ef98"
      },
      "source": [
        "## Data Preprocessing"
      ],
      "id": "2f39ef98"
    },
    {
      "cell_type": "code",
      "execution_count": 1,
      "metadata": {
        "colab": {
          "base_uri": "https://localhost:8080/",
          "height": 204
        },
        "id": "311d97c6",
        "outputId": "78a17b1a-e77d-4b71-8dea-bc54e4ffd074"
      },
      "outputs": [
        {
          "output_type": "execute_result",
          "data": {
            "text/plain": [
              "   date   day    period  nswprice  nswdemand  vicprice  vicdemand  transfer  \\\n",
              "0   0.0  b'2'  0.000000  0.056443   0.439155  0.003467   0.422915  0.414912   \n",
              "1   0.0  b'2'  0.021277  0.051699   0.415055  0.003467   0.422915  0.414912   \n",
              "2   0.0  b'2'  0.042553  0.051489   0.385004  0.003467   0.422915  0.414912   \n",
              "3   0.0  b'2'  0.063830  0.045485   0.314639  0.003467   0.422915  0.414912   \n",
              "4   0.0  b'2'  0.085106  0.042482   0.251116  0.003467   0.422915  0.414912   \n",
              "\n",
              "     class  \n",
              "0    b'UP'  \n",
              "1    b'UP'  \n",
              "2    b'UP'  \n",
              "3    b'UP'  \n",
              "4  b'DOWN'  "
            ],
            "text/html": [
              "\n",
              "  <div id=\"df-5957d765-c722-4f15-95ef-c5dcfc113954\">\n",
              "    <div class=\"colab-df-container\">\n",
              "      <div>\n",
              "<style scoped>\n",
              "    .dataframe tbody tr th:only-of-type {\n",
              "        vertical-align: middle;\n",
              "    }\n",
              "\n",
              "    .dataframe tbody tr th {\n",
              "        vertical-align: top;\n",
              "    }\n",
              "\n",
              "    .dataframe thead th {\n",
              "        text-align: right;\n",
              "    }\n",
              "</style>\n",
              "<table border=\"1\" class=\"dataframe\">\n",
              "  <thead>\n",
              "    <tr style=\"text-align: right;\">\n",
              "      <th></th>\n",
              "      <th>date</th>\n",
              "      <th>day</th>\n",
              "      <th>period</th>\n",
              "      <th>nswprice</th>\n",
              "      <th>nswdemand</th>\n",
              "      <th>vicprice</th>\n",
              "      <th>vicdemand</th>\n",
              "      <th>transfer</th>\n",
              "      <th>class</th>\n",
              "    </tr>\n",
              "  </thead>\n",
              "  <tbody>\n",
              "    <tr>\n",
              "      <th>0</th>\n",
              "      <td>0.0</td>\n",
              "      <td>b'2'</td>\n",
              "      <td>0.000000</td>\n",
              "      <td>0.056443</td>\n",
              "      <td>0.439155</td>\n",
              "      <td>0.003467</td>\n",
              "      <td>0.422915</td>\n",
              "      <td>0.414912</td>\n",
              "      <td>b'UP'</td>\n",
              "    </tr>\n",
              "    <tr>\n",
              "      <th>1</th>\n",
              "      <td>0.0</td>\n",
              "      <td>b'2'</td>\n",
              "      <td>0.021277</td>\n",
              "      <td>0.051699</td>\n",
              "      <td>0.415055</td>\n",
              "      <td>0.003467</td>\n",
              "      <td>0.422915</td>\n",
              "      <td>0.414912</td>\n",
              "      <td>b'UP'</td>\n",
              "    </tr>\n",
              "    <tr>\n",
              "      <th>2</th>\n",
              "      <td>0.0</td>\n",
              "      <td>b'2'</td>\n",
              "      <td>0.042553</td>\n",
              "      <td>0.051489</td>\n",
              "      <td>0.385004</td>\n",
              "      <td>0.003467</td>\n",
              "      <td>0.422915</td>\n",
              "      <td>0.414912</td>\n",
              "      <td>b'UP'</td>\n",
              "    </tr>\n",
              "    <tr>\n",
              "      <th>3</th>\n",
              "      <td>0.0</td>\n",
              "      <td>b'2'</td>\n",
              "      <td>0.063830</td>\n",
              "      <td>0.045485</td>\n",
              "      <td>0.314639</td>\n",
              "      <td>0.003467</td>\n",
              "      <td>0.422915</td>\n",
              "      <td>0.414912</td>\n",
              "      <td>b'UP'</td>\n",
              "    </tr>\n",
              "    <tr>\n",
              "      <th>4</th>\n",
              "      <td>0.0</td>\n",
              "      <td>b'2'</td>\n",
              "      <td>0.085106</td>\n",
              "      <td>0.042482</td>\n",
              "      <td>0.251116</td>\n",
              "      <td>0.003467</td>\n",
              "      <td>0.422915</td>\n",
              "      <td>0.414912</td>\n",
              "      <td>b'DOWN'</td>\n",
              "    </tr>\n",
              "  </tbody>\n",
              "</table>\n",
              "</div>\n",
              "      <button class=\"colab-df-convert\" onclick=\"convertToInteractive('df-5957d765-c722-4f15-95ef-c5dcfc113954')\"\n",
              "              title=\"Convert this dataframe to an interactive table.\"\n",
              "              style=\"display:none;\">\n",
              "        \n",
              "  <svg xmlns=\"http://www.w3.org/2000/svg\" height=\"24px\"viewBox=\"0 0 24 24\"\n",
              "       width=\"24px\">\n",
              "    <path d=\"M0 0h24v24H0V0z\" fill=\"none\"/>\n",
              "    <path d=\"M18.56 5.44l.94 2.06.94-2.06 2.06-.94-2.06-.94-.94-2.06-.94 2.06-2.06.94zm-11 1L8.5 8.5l.94-2.06 2.06-.94-2.06-.94L8.5 2.5l-.94 2.06-2.06.94zm10 10l.94 2.06.94-2.06 2.06-.94-2.06-.94-.94-2.06-.94 2.06-2.06.94z\"/><path d=\"M17.41 7.96l-1.37-1.37c-.4-.4-.92-.59-1.43-.59-.52 0-1.04.2-1.43.59L10.3 9.45l-7.72 7.72c-.78.78-.78 2.05 0 2.83L4 21.41c.39.39.9.59 1.41.59.51 0 1.02-.2 1.41-.59l7.78-7.78 2.81-2.81c.8-.78.8-2.07 0-2.86zM5.41 20L4 18.59l7.72-7.72 1.47 1.35L5.41 20z\"/>\n",
              "  </svg>\n",
              "      </button>\n",
              "      \n",
              "  <style>\n",
              "    .colab-df-container {\n",
              "      display:flex;\n",
              "      flex-wrap:wrap;\n",
              "      gap: 12px;\n",
              "    }\n",
              "\n",
              "    .colab-df-convert {\n",
              "      background-color: #E8F0FE;\n",
              "      border: none;\n",
              "      border-radius: 50%;\n",
              "      cursor: pointer;\n",
              "      display: none;\n",
              "      fill: #1967D2;\n",
              "      height: 32px;\n",
              "      padding: 0 0 0 0;\n",
              "      width: 32px;\n",
              "    }\n",
              "\n",
              "    .colab-df-convert:hover {\n",
              "      background-color: #E2EBFA;\n",
              "      box-shadow: 0px 1px 2px rgba(60, 64, 67, 0.3), 0px 1px 3px 1px rgba(60, 64, 67, 0.15);\n",
              "      fill: #174EA6;\n",
              "    }\n",
              "\n",
              "    [theme=dark] .colab-df-convert {\n",
              "      background-color: #3B4455;\n",
              "      fill: #D2E3FC;\n",
              "    }\n",
              "\n",
              "    [theme=dark] .colab-df-convert:hover {\n",
              "      background-color: #434B5C;\n",
              "      box-shadow: 0px 1px 3px 1px rgba(0, 0, 0, 0.15);\n",
              "      filter: drop-shadow(0px 1px 2px rgba(0, 0, 0, 0.3));\n",
              "      fill: #FFFFFF;\n",
              "    }\n",
              "  </style>\n",
              "\n",
              "      <script>\n",
              "        const buttonEl =\n",
              "          document.querySelector('#df-5957d765-c722-4f15-95ef-c5dcfc113954 button.colab-df-convert');\n",
              "        buttonEl.style.display =\n",
              "          google.colab.kernel.accessAllowed ? 'block' : 'none';\n",
              "\n",
              "        async function convertToInteractive(key) {\n",
              "          const element = document.querySelector('#df-5957d765-c722-4f15-95ef-c5dcfc113954');\n",
              "          const dataTable =\n",
              "            await google.colab.kernel.invokeFunction('convertToInteractive',\n",
              "                                                     [key], {});\n",
              "          if (!dataTable) return;\n",
              "\n",
              "          const docLinkHtml = 'Like what you see? Visit the ' +\n",
              "            '<a target=\"_blank\" href=https://colab.research.google.com/notebooks/data_table.ipynb>data table notebook</a>'\n",
              "            + ' to learn more about interactive tables.';\n",
              "          element.innerHTML = '';\n",
              "          dataTable['output_type'] = 'display_data';\n",
              "          await google.colab.output.renderOutput(dataTable, element);\n",
              "          const docLink = document.createElement('div');\n",
              "          docLink.innerHTML = docLinkHtml;\n",
              "          element.appendChild(docLink);\n",
              "        }\n",
              "      </script>\n",
              "    </div>\n",
              "  </div>\n",
              "  "
            ]
          },
          "metadata": {},
          "execution_count": 1
        }
      ],
      "source": [
        "from scipy.io import arff\n",
        "import pandas as pd\n",
        "\n",
        "data = arff.loadarff('electricity-normalized.arff')\n",
        "df = pd.DataFrame(data[0])\n",
        "df.head()"
      ],
      "id": "311d97c6"
    },
    {
      "cell_type": "code",
      "execution_count": 2,
      "metadata": {
        "id": "39b188ec"
      },
      "outputs": [],
      "source": [
        "from numpy.random import randint #load  necessary packages\n",
        "import pandas as pd #needed for Data Frames\n",
        "import numpy as np #Needed for computations\n",
        "NIA = 52005602\n",
        "np.random.seed(NIA)"
      ],
      "id": "39b188ec"
    },
    {
      "cell_type": "code",
      "execution_count": null,
      "metadata": {
        "colab": {
          "base_uri": "https://localhost:8080/",
          "height": 364
        },
        "id": "637387a6",
        "outputId": "d5d3751a-0871-4554-97ff-51b748062473"
      },
      "outputs": [
        {
          "output_type": "execute_result",
          "data": {
            "text/plain": [
              "               date        period      nswprice     nswdemand      vicprice  \\\n",
              "count  45312.000000  45312.000000  45312.000000  45312.000000  45312.000000   \n",
              "mean       0.499080      0.500000      0.057868      0.425418      0.003467   \n",
              "std        0.340308      0.294756      0.039991      0.163323      0.010213   \n",
              "min        0.000000      0.000000      0.000000      0.000000      0.000000   \n",
              "25%        0.031934      0.250000      0.035127      0.309134      0.002277   \n",
              "50%        0.456329      0.500000      0.048652      0.443693      0.003467   \n",
              "75%        0.880547      0.750000      0.074336      0.536001      0.003467   \n",
              "max        1.000000      1.000000      1.000000      1.000000      1.000000   \n",
              "\n",
              "          vicdemand      transfer  \n",
              "count  45312.000000  45312.000000  \n",
              "mean       0.422915      0.500526  \n",
              "std        0.120965      0.153373  \n",
              "min        0.000000      0.000000  \n",
              "25%        0.372346      0.414912  \n",
              "50%        0.422915      0.414912  \n",
              "75%        0.469252      0.605702  \n",
              "max        1.000000      1.000000  "
            ],
            "text/html": [
              "\n",
              "  <div id=\"df-e12049f3-536b-4c69-9d34-f58d28b6fd0e\">\n",
              "    <div class=\"colab-df-container\">\n",
              "      <div>\n",
              "<style scoped>\n",
              "    .dataframe tbody tr th:only-of-type {\n",
              "        vertical-align: middle;\n",
              "    }\n",
              "\n",
              "    .dataframe tbody tr th {\n",
              "        vertical-align: top;\n",
              "    }\n",
              "\n",
              "    .dataframe thead th {\n",
              "        text-align: right;\n",
              "    }\n",
              "</style>\n",
              "<table border=\"1\" class=\"dataframe\">\n",
              "  <thead>\n",
              "    <tr style=\"text-align: right;\">\n",
              "      <th></th>\n",
              "      <th>date</th>\n",
              "      <th>period</th>\n",
              "      <th>nswprice</th>\n",
              "      <th>nswdemand</th>\n",
              "      <th>vicprice</th>\n",
              "      <th>vicdemand</th>\n",
              "      <th>transfer</th>\n",
              "    </tr>\n",
              "  </thead>\n",
              "  <tbody>\n",
              "    <tr>\n",
              "      <th>count</th>\n",
              "      <td>45312.000000</td>\n",
              "      <td>45312.000000</td>\n",
              "      <td>45312.000000</td>\n",
              "      <td>45312.000000</td>\n",
              "      <td>45312.000000</td>\n",
              "      <td>45312.000000</td>\n",
              "      <td>45312.000000</td>\n",
              "    </tr>\n",
              "    <tr>\n",
              "      <th>mean</th>\n",
              "      <td>0.499080</td>\n",
              "      <td>0.500000</td>\n",
              "      <td>0.057868</td>\n",
              "      <td>0.425418</td>\n",
              "      <td>0.003467</td>\n",
              "      <td>0.422915</td>\n",
              "      <td>0.500526</td>\n",
              "    </tr>\n",
              "    <tr>\n",
              "      <th>std</th>\n",
              "      <td>0.340308</td>\n",
              "      <td>0.294756</td>\n",
              "      <td>0.039991</td>\n",
              "      <td>0.163323</td>\n",
              "      <td>0.010213</td>\n",
              "      <td>0.120965</td>\n",
              "      <td>0.153373</td>\n",
              "    </tr>\n",
              "    <tr>\n",
              "      <th>min</th>\n",
              "      <td>0.000000</td>\n",
              "      <td>0.000000</td>\n",
              "      <td>0.000000</td>\n",
              "      <td>0.000000</td>\n",
              "      <td>0.000000</td>\n",
              "      <td>0.000000</td>\n",
              "      <td>0.000000</td>\n",
              "    </tr>\n",
              "    <tr>\n",
              "      <th>25%</th>\n",
              "      <td>0.031934</td>\n",
              "      <td>0.250000</td>\n",
              "      <td>0.035127</td>\n",
              "      <td>0.309134</td>\n",
              "      <td>0.002277</td>\n",
              "      <td>0.372346</td>\n",
              "      <td>0.414912</td>\n",
              "    </tr>\n",
              "    <tr>\n",
              "      <th>50%</th>\n",
              "      <td>0.456329</td>\n",
              "      <td>0.500000</td>\n",
              "      <td>0.048652</td>\n",
              "      <td>0.443693</td>\n",
              "      <td>0.003467</td>\n",
              "      <td>0.422915</td>\n",
              "      <td>0.414912</td>\n",
              "    </tr>\n",
              "    <tr>\n",
              "      <th>75%</th>\n",
              "      <td>0.880547</td>\n",
              "      <td>0.750000</td>\n",
              "      <td>0.074336</td>\n",
              "      <td>0.536001</td>\n",
              "      <td>0.003467</td>\n",
              "      <td>0.469252</td>\n",
              "      <td>0.605702</td>\n",
              "    </tr>\n",
              "    <tr>\n",
              "      <th>max</th>\n",
              "      <td>1.000000</td>\n",
              "      <td>1.000000</td>\n",
              "      <td>1.000000</td>\n",
              "      <td>1.000000</td>\n",
              "      <td>1.000000</td>\n",
              "      <td>1.000000</td>\n",
              "      <td>1.000000</td>\n",
              "    </tr>\n",
              "  </tbody>\n",
              "</table>\n",
              "</div>\n",
              "      <button class=\"colab-df-convert\" onclick=\"convertToInteractive('df-e12049f3-536b-4c69-9d34-f58d28b6fd0e')\"\n",
              "              title=\"Convert this dataframe to an interactive table.\"\n",
              "              style=\"display:none;\">\n",
              "        \n",
              "  <svg xmlns=\"http://www.w3.org/2000/svg\" height=\"24px\"viewBox=\"0 0 24 24\"\n",
              "       width=\"24px\">\n",
              "    <path d=\"M0 0h24v24H0V0z\" fill=\"none\"/>\n",
              "    <path d=\"M18.56 5.44l.94 2.06.94-2.06 2.06-.94-2.06-.94-.94-2.06-.94 2.06-2.06.94zm-11 1L8.5 8.5l.94-2.06 2.06-.94-2.06-.94L8.5 2.5l-.94 2.06-2.06.94zm10 10l.94 2.06.94-2.06 2.06-.94-2.06-.94-.94-2.06-.94 2.06-2.06.94z\"/><path d=\"M17.41 7.96l-1.37-1.37c-.4-.4-.92-.59-1.43-.59-.52 0-1.04.2-1.43.59L10.3 9.45l-7.72 7.72c-.78.78-.78 2.05 0 2.83L4 21.41c.39.39.9.59 1.41.59.51 0 1.02-.2 1.41-.59l7.78-7.78 2.81-2.81c.8-.78.8-2.07 0-2.86zM5.41 20L4 18.59l7.72-7.72 1.47 1.35L5.41 20z\"/>\n",
              "  </svg>\n",
              "      </button>\n",
              "      \n",
              "  <style>\n",
              "    .colab-df-container {\n",
              "      display:flex;\n",
              "      flex-wrap:wrap;\n",
              "      gap: 12px;\n",
              "    }\n",
              "\n",
              "    .colab-df-convert {\n",
              "      background-color: #E8F0FE;\n",
              "      border: none;\n",
              "      border-radius: 50%;\n",
              "      cursor: pointer;\n",
              "      display: none;\n",
              "      fill: #1967D2;\n",
              "      height: 32px;\n",
              "      padding: 0 0 0 0;\n",
              "      width: 32px;\n",
              "    }\n",
              "\n",
              "    .colab-df-convert:hover {\n",
              "      background-color: #E2EBFA;\n",
              "      box-shadow: 0px 1px 2px rgba(60, 64, 67, 0.3), 0px 1px 3px 1px rgba(60, 64, 67, 0.15);\n",
              "      fill: #174EA6;\n",
              "    }\n",
              "\n",
              "    [theme=dark] .colab-df-convert {\n",
              "      background-color: #3B4455;\n",
              "      fill: #D2E3FC;\n",
              "    }\n",
              "\n",
              "    [theme=dark] .colab-df-convert:hover {\n",
              "      background-color: #434B5C;\n",
              "      box-shadow: 0px 1px 3px 1px rgba(0, 0, 0, 0.15);\n",
              "      filter: drop-shadow(0px 1px 2px rgba(0, 0, 0, 0.3));\n",
              "      fill: #FFFFFF;\n",
              "    }\n",
              "  </style>\n",
              "\n",
              "      <script>\n",
              "        const buttonEl =\n",
              "          document.querySelector('#df-e12049f3-536b-4c69-9d34-f58d28b6fd0e button.colab-df-convert');\n",
              "        buttonEl.style.display =\n",
              "          google.colab.kernel.accessAllowed ? 'block' : 'none';\n",
              "\n",
              "        async function convertToInteractive(key) {\n",
              "          const element = document.querySelector('#df-e12049f3-536b-4c69-9d34-f58d28b6fd0e');\n",
              "          const dataTable =\n",
              "            await google.colab.kernel.invokeFunction('convertToInteractive',\n",
              "                                                     [key], {});\n",
              "          if (!dataTable) return;\n",
              "\n",
              "          const docLinkHtml = 'Like what you see? Visit the ' +\n",
              "            '<a target=\"_blank\" href=https://colab.research.google.com/notebooks/data_table.ipynb>data table notebook</a>'\n",
              "            + ' to learn more about interactive tables.';\n",
              "          element.innerHTML = '';\n",
              "          dataTable['output_type'] = 'display_data';\n",
              "          await google.colab.output.renderOutput(dataTable, element);\n",
              "          const docLink = document.createElement('div');\n",
              "          docLink.innerHTML = docLinkHtml;\n",
              "          element.appendChild(docLink);\n",
              "        }\n",
              "      </script>\n",
              "    </div>\n",
              "  </div>\n",
              "  "
            ]
          },
          "metadata": {},
          "execution_count": 3
        }
      ],
      "source": [
        "df.describe()"
      ],
      "id": "637387a6"
    },
    {
      "cell_type": "code",
      "execution_count": null,
      "metadata": {
        "colab": {
          "base_uri": "https://localhost:8080/"
        },
        "id": "e4dec66e",
        "outputId": "8ee83b9f-7f8c-4e7f-c06d-db9808d0dff6"
      },
      "outputs": [
        {
          "output_type": "stream",
          "name": "stdout",
          "text": [
            "<class 'pandas.core.frame.DataFrame'>\n",
            "RangeIndex: 45312 entries, 0 to 45311\n",
            "Data columns (total 9 columns):\n",
            " #   Column     Non-Null Count  Dtype  \n",
            "---  ------     --------------  -----  \n",
            " 0   date       45312 non-null  float64\n",
            " 1   day        45312 non-null  object \n",
            " 2   period     45312 non-null  float64\n",
            " 3   nswprice   45312 non-null  float64\n",
            " 4   nswdemand  45312 non-null  float64\n",
            " 5   vicprice   45312 non-null  float64\n",
            " 6   vicdemand  45312 non-null  float64\n",
            " 7   transfer   45312 non-null  float64\n",
            " 8   class      45312 non-null  object \n",
            "dtypes: float64(7), object(2)\n",
            "memory usage: 3.1+ MB\n"
          ]
        }
      ],
      "source": [
        "df.info()"
      ],
      "id": "e4dec66e"
    },
    {
      "cell_type": "code",
      "execution_count": null,
      "metadata": {
        "colab": {
          "base_uri": "https://localhost:8080/"
        },
        "id": "7cba6760",
        "outputId": "a867497a-f4a2-457e-e901-5d4594380536"
      },
      "outputs": [
        {
          "output_type": "stream",
          "name": "stdout",
          "text": [
            "           Total  Percent\n",
            "date           0      0.0\n",
            "day            0      0.0\n",
            "period         0      0.0\n",
            "nswprice       0      0.0\n",
            "nswdemand      0      0.0\n",
            "vicprice       0      0.0\n",
            "vicdemand      0      0.0\n",
            "transfer       0      0.0\n",
            "class          0      0.0\n"
          ]
        }
      ],
      "source": [
        "total = df.isnull().sum().sort_values(ascending = False)\n",
        "percent = (df.isnull().sum() / df.isnull().count()).sort_values(ascending = False)\n",
        "missing_data = pd.concat([total, percent], axis = 1, keys = ['Total', 'Percent'])\n",
        "print(missing_data)"
      ],
      "id": "7cba6760"
    },
    {
      "cell_type": "code",
      "execution_count": null,
      "metadata": {
        "colab": {
          "base_uri": "https://localhost:8080/"
        },
        "id": "1d030687",
        "outputId": "00b0fd41-61a3-4718-ed2f-16e4dd8d8bb1"
      },
      "outputs": [
        {
          "output_type": "execute_result",
          "data": {
            "text/plain": [
              "[]"
            ]
          },
          "metadata": {},
          "execution_count": 6
        }
      ],
      "source": [
        "def remove_constant_value_features(df):\n",
        "    return [e for e in df.columns if df[e].nunique() == 1]\n",
        "\n",
        "remove_constant_value_features(df)"
      ],
      "id": "1d030687"
    },
    {
      "cell_type": "code",
      "execution_count": null,
      "metadata": {
        "colab": {
          "base_uri": "https://localhost:8080/",
          "height": 487
        },
        "id": "b855d9f9",
        "outputId": "27380e27-45ba-438f-dc3e-f8ae43ff09ab"
      },
      "outputs": [
        {
          "output_type": "execute_result",
          "data": {
            "text/plain": [
              "day      7\n",
              "class    2\n",
              "dtype: int64"
            ]
          },
          "metadata": {},
          "execution_count": 7
        },
        {
          "output_type": "display_data",
          "data": {
            "text/plain": [
              "<Figure size 1200x600 with 1 Axes>"
            ],
            "image/png": "[encoded data removed]"
          },
          "metadata": {}
        }
      ],
      "source": [
        "availo=df.select_dtypes(include='object')\n",
        "availo.nunique().plot.bar(figsize=(12,6))\n",
        "availo.nunique()"
      ],
      "id": "b855d9f9"
    },
    {
      "cell_type": "code",
      "execution_count": 3,
      "metadata": {
        "id": "JQ8UNRyt1an7"
      },
      "outputs": [],
      "source": [
        "df['day']=df['day'].astype(int)"
      ],
      "id": "JQ8UNRyt1an7"
    },
    {
      "cell_type": "code",
      "execution_count": null,
      "metadata": {
        "colab": {
          "base_uri": "https://localhost:8080/"
        },
        "id": "9a319266",
        "outputId": "c079cd1d-cccb-457d-ff85-f814abff375c"
      },
      "outputs": [
        {
          "output_type": "stream",
          "name": "stdout",
          "text": [
            "b'DOWN'    26075\n",
            "b'UP'      19237\n",
            "Name: class, dtype: int64\n"
          ]
        }
      ],
      "source": [
        "print(pd.value_counts(df['class'], sort = True))"
      ],
      "id": "9a319266"
    },
    {
      "cell_type": "markdown",
      "metadata": {
        "id": "de79982f"
      },
      "source": [
        "No missing values. Not very unbalanced. Clean data set. Lets define the proprocessor pipelines."
      ],
      "id": "de79982f"
    },
    {
      "cell_type": "code",
      "execution_count": 4,
      "metadata": {
        "id": "b0762136"
      },
      "outputs": [],
      "source": [
        "from sklearn.impute import SimpleImputer\n",
        "from sklearn.impute import KNNImputer\n",
        "from sklearn.pipeline import Pipeline\n",
        "from sklearn.compose import ColumnTransformer\n",
        "from sklearn.linear_model import LogisticRegression\n",
        "from sklearn.preprocessing import OneHotEncoder\n",
        "from sklearn.preprocessing import StandardScaler\n",
        "from sklearn.preprocessing import MinMaxScaler\n",
        "\n",
        "numeric_features=['date','period','nswprice','nswdemand','vicprice','vicdemand','transfer','day']\n",
        "\n",
        "numeric_transformer1=Pipeline(steps=[('scaler1',MinMaxScaler())])\n",
        "preprocessor1=ColumnTransformer(transformers=[('num',numeric_transformer1,numeric_features)])\n"
      ],
      "id": "b0762136"
    },
    {
      "cell_type": "code",
      "execution_count": 5,
      "metadata": {
        "id": "df5b94ee"
      },
      "outputs": [],
      "source": [
        "xtrain = df.drop(['class'],axis=1)\n",
        "ytrain = df.loc[:,'class']"
      ],
      "id": "df5b94ee"
    },
    {
      "cell_type": "code",
      "execution_count": 6,
      "metadata": {
        "id": "5ebe6422"
      },
      "outputs": [],
      "source": [
        "from sklearn import preprocessing\n",
        "label_encoder = preprocessing.LabelEncoder()\n",
        "ytrain = label_encoder.fit_transform(ytrain)"
      ],
      "id": "5ebe6422"
    },
    {
      "cell_type": "code",
      "execution_count": 7,
      "metadata": {
        "colab": {
          "base_uri": "https://localhost:8080/"
        },
        "id": "8622bae5",
        "outputId": "7757072f-05d6-4eff-fd51-b3c716cd902b"
      },
      "outputs": [
        {
          "output_type": "stream",
          "name": "stdout",
          "text": [
            "(30359, 8) (30359,)\n",
            "(14953, 8) (14953,)\n"
          ]
        }
      ],
      "source": [
        "from sklearn.model_selection import train_test_split\n",
        "from sklearn import preprocessing\n",
        "X_train, X_test, y_train, y_test = train_test_split(xtrain,ytrain, test_size=0.33, random_state=33,stratify=ytrain)\n",
        "print(X_train.shape, y_train.shape)\n",
        "print(X_test.shape, y_test.shape)"
      ],
      "id": "8622bae5"
    },
    {
      "cell_type": "markdown",
      "metadata": {
        "id": "dd33d396"
      },
      "source": [
        "## Default Parameters"
      ],
      "id": "dd33d396"
    },
    {
      "cell_type": "markdown",
      "metadata": {
        "id": "blpzElBOcyoe"
      },
      "source": [
        "The following four algorithms will follow the next scheme. Compute the accuracy with default parameters. the selected metric is balanced_accuracy because the data set is unbalanced and offers better results than F1."
      ],
      "id": "blpzElBOcyoe"
    },
    {
      "cell_type": "markdown",
      "metadata": {
        "id": "67725c59"
      },
      "source": [
        "### Extremely Randomized Trees"
      ],
      "id": "67725c59"
    },
    {
      "cell_type": "code",
      "execution_count": 8,
      "metadata": {
        "id": "nB6lvV4zS9nP"
      },
      "outputs": [],
      "source": [
        "import time\n",
        "from sklearn import metrics\n",
        "from sklearn import tree\n",
        "from sklearn.model_selection import cross_val_score, KFold\n",
        "from sklearn.ensemble import ExtraTreesClassifier\n",
        "from sklearn.model_selection import StratifiedKFold\n",
        "def default_hp(classif, X_train, y_train, X_test, y_test):\n",
        "  inicio = time.time()\n",
        "  np.random.seed(NIA)\n",
        "  classif.fit(X_train, y_train)\n",
        "  y_hat=classif.predict(X_test)\n",
        "  bac = metrics.balanced_accuracy_score(y_test, y_hat)\n",
        "  print(f\"Accuracy: {bac}\")\n",
        "  fin=time.time()\n",
        "  print('time',fin-inicio)\n",
        "  return((bac , fin-inicio))"
      ],
      "id": "nB6lvV4zS9nP"
    },
    {
      "cell_type": "code",
      "execution_count": null,
      "metadata": {
        "colab": {
          "base_uri": "https://localhost:8080/"
        },
        "id": "9pWFvxpdT7bL",
        "outputId": "fa405920-c663-4d7e-e6c3-e8c54f11110f"
      },
      "outputs": [
        {
          "output_type": "stream",
          "name": "stdout",
          "text": [
            "Accuracy: 0.8847471942097819\n",
            "time 7.09550929069519\n"
          ]
        }
      ],
      "source": [
        "rs=NIA\n",
        "clf = ExtraTreesClassifier(random_state=rs)\n",
        "classif=Pipeline([('clf',clf)])\n",
        "(bac1, tiempo1)=default_hp(classif, X_train, y_train, X_test, y_test)"
      ],
      "id": "9pWFvxpdT7bL"
    },
    {
      "cell_type": "markdown",
      "metadata": {
        "id": "c0749942"
      },
      "source": [
        "### Support Vector Machines"
      ],
      "id": "c0749942"
    },
    {
      "cell_type": "code",
      "execution_count": null,
      "metadata": {
        "colab": {
          "base_uri": "https://localhost:8080/"
        },
        "id": "75MlDMcqUsKq",
        "outputId": "feb8ae40-8f67-4809-f0da-0ddf5457f87e"
      },
      "outputs": [
        {
          "output_type": "stream",
          "name": "stdout",
          "text": [
            "Accuracy: 0.770129789651318\n",
            "time 55.39457368850708\n"
          ]
        }
      ],
      "source": [
        "from sklearn import svm\n",
        "rs=NIA\n",
        "svmc = svm.SVC(random_state=rs)\n",
        "classif=Pipeline([('preprocessor',preprocessor1),('svmc',svmc)])\n",
        "(bac2, tiempo2)=default_hp(classif, X_train, y_train, X_test, y_test)"
      ],
      "id": "75MlDMcqUsKq"
    },
    {
      "cell_type": "markdown",
      "metadata": {
        "id": "7p3yJVmNu227"
      },
      "source": [
        "We will use balanced accuracy metric because offers better results. Use both of them all the time increase the computational cost."
      ],
      "id": "7p3yJVmNu227"
    },
    {
      "cell_type": "markdown",
      "metadata": {
        "id": "6a5ee3dd"
      },
      "source": [
        "### Hist Grading Boosting"
      ],
      "id": "6a5ee3dd"
    },
    {
      "cell_type": "code",
      "execution_count": null,
      "metadata": {
        "colab": {
          "base_uri": "https://localhost:8080/"
        },
        "id": "qoqlc4jUU5ob",
        "outputId": "75c86715-0793-4f72-ca4f-5001ed6820f2"
      },
      "outputs": [
        {
          "output_type": "stream",
          "name": "stdout",
          "text": [
            "Accuracy: 0.8759628822503585\n",
            "time 2.2594714164733887\n"
          ]
        }
      ],
      "source": [
        "from sklearn.ensemble import HistGradientBoostingClassifier\n",
        "rs=NIA\n",
        "hgb = HistGradientBoostingClassifier(random_state=rs)\n",
        "classif=Pipeline([('hgb',hgb)])\n",
        "(bac3, tiempo3)=default_hp(classif, X_train, y_train, X_test, y_test)\n"
      ],
      "id": "qoqlc4jUU5ob"
    },
    {
      "cell_type": "markdown",
      "metadata": {
        "id": "45aaed69"
      },
      "source": [
        "### XGBoost (XGB Classifier)"
      ],
      "id": "45aaed69"
    },
    {
      "cell_type": "code",
      "execution_count": 9,
      "metadata": {
        "colab": {
          "base_uri": "https://localhost:8080/"
        },
        "id": "e1fc3a77",
        "outputId": "bd7d1a6d-ec8a-4adc-8dc3-5dcbc7491b2b"
      },
      "outputs": [
        {
          "output_type": "stream",
          "name": "stdout",
          "text": [
            "Looking in indexes: https://pypi.org/simple, https://us-python.pkg.dev/colab-wheels/public/simple/\n",
            "Requirement already satisfied: xgboost in /usr/local/lib/python3.10/dist-packages (1.7.5)\n",
            "Requirement already satisfied: numpy in /usr/local/lib/python3.10/dist-packages (from xgboost) (1.22.4)\n",
            "Requirement already satisfied: scipy in /usr/local/lib/python3.10/dist-packages (from xgboost) (1.10.1)\n"
          ]
        }
      ],
      "source": [
        "!pip install xgboost\n",
        "import xgboost as xgb"
      ],
      "id": "e1fc3a77"
    },
    {
      "cell_type": "code",
      "execution_count": null,
      "metadata": {
        "colab": {
          "base_uri": "https://localhost:8080/"
        },
        "id": "O3syAlRHTLvB",
        "outputId": "26bc3038-4315-45e2-8dfd-3e43bf238d74"
      },
      "outputs": [
        {
          "output_type": "stream",
          "name": "stdout",
          "text": [
            "Accuracy: 0.911532454094808\n",
            "time 2.9138503074645996\n"
          ]
        }
      ],
      "source": [
        "rs=NIA\n",
        "xgbc = xgb.XGBClassifier(random_state=rs)\n",
        "classif=Pipeline([('xgb',xgbc)])\n",
        "(bac4, tiempo4)=default_hp(classif, X_train, y_train, X_test, y_test)"
      ],
      "id": "O3syAlRHTLvB"
    },
    {
      "cell_type": "markdown",
      "metadata": {
        "id": "b21df310"
      },
      "source": [
        "## Hyper-Parameter tunning"
      ],
      "id": "b21df310"
    },
    {
      "cell_type": "markdown",
      "metadata": {
        "id": "069eb2d5"
      },
      "source": [
        "### Extremely Randomized Trees"
      ],
      "id": "069eb2d5"
    },
    {
      "cell_type": "code",
      "execution_count": null,
      "metadata": {
        "colab": {
          "base_uri": "https://localhost:8080/"
        },
        "id": "83c43f0f",
        "outputId": "bb91d679-ac8a-488b-fbb6-b8cb2b404cc8"
      },
      "outputs": [
        {
          "output_type": "stream",
          "name": "stdout",
          "text": [
            "Looking in indexes: https://pypi.org/simple, https://us-python.pkg.dev/colab-wheels/public/simple/\n",
            "Collecting optuna\n",
            "  Downloading optuna-3.2.0-py3-none-any.whl (390 kB)\n",
            "\u001b[2K     \u001b[90m━━━━━━━━━━━━━━━━━━━━━━━━━━━━━━━━━━━━━━━\u001b[0m \u001b[32m390.6/390.6 kB\u001b[0m \u001b[31m8.6 MB/s\u001b[0m eta \u001b[36m0:00:00\u001b[0m\n",
            "\u001b[?25hCollecting alembic>=1.5.0 (from optuna)\n",
            "  Downloading alembic-1.11.1-py3-none-any.whl (224 kB)\n",
            "\u001b[2K     \u001b[90m━━━━━━━━━━━━━━━━━━━━━━━━━━━━━━━━━━━━━━\u001b[0m \u001b[32m224.5/224.5 kB\u001b[0m \u001b[31m19.8 MB/s\u001b[0m eta \u001b[36m0:00:00\u001b[0m\n",
            "\u001b[?25hCollecting cmaes>=0.9.1 (from optuna)\n",
            "  Downloading cmaes-0.9.1-py3-none-any.whl (21 kB)\n",
            "Collecting colorlog (from optuna)\n",
            "  Downloading colorlog-6.7.0-py2.py3-none-any.whl (11 kB)\n",
            "Requirement already satisfied: numpy in /usr/local/lib/python3.10/dist-packages (from optuna) (1.22.4)\n",
            "Requirement already satisfied: packaging>=20.0 in /usr/local/lib/python3.10/dist-packages (from optuna) (23.1)\n",
            "Requirement already satisfied: sqlalchemy>=1.3.0 in /usr/local/lib/python3.10/dist-packages (from optuna) (2.0.10)\n",
            "Requirement already satisfied: tqdm in /usr/local/lib/python3.10/dist-packages (from optuna) (4.65.0)\n",
            "Requirement already satisfied: PyYAML in /usr/local/lib/python3.10/dist-packages (from optuna) (6.0)\n",
            "Collecting Mako (from alembic>=1.5.0->optuna)\n",
            "  Downloading Mako-1.2.4-py3-none-any.whl (78 kB)\n",
            "\u001b[2K     \u001b[90m━━━━━━━━━━━━━━━━━━━━━━━━━━━━━━━━━━━━━━━━\u001b[0m \u001b[32m78.7/78.7 kB\u001b[0m \u001b[31m8.7 MB/s\u001b[0m eta \u001b[36m0:00:00\u001b[0m\n",
            "\u001b[?25hRequirement already satisfied: typing-extensions>=4 in /usr/local/lib/python3.10/dist-packages (from alembic>=1.5.0->optuna) (4.5.0)\n",
            "Requirement already satisfied: greenlet!=0.4.17 in /usr/local/lib/python3.10/dist-packages (from sqlalchemy>=1.3.0->optuna) (2.0.2)\n",
            "Requirement already satisfied: MarkupSafe>=0.9.2 in /usr/local/lib/python3.10/dist-packages (from Mako->alembic>=1.5.0->optuna) (2.1.2)\n",
            "Installing collected packages: Mako, colorlog, cmaes, alembic, optuna\n",
            "Successfully installed Mako-1.2.4 alembic-1.11.1 cmaes-0.9.1 colorlog-6.7.0 optuna-3.2.0\n"
          ]
        }
      ],
      "source": [
        "pip install optuna"
      ],
      "id": "83c43f0f"
    },
    {
      "cell_type": "code",
      "execution_count": null,
      "metadata": {
        "colab": {
          "base_uri": "https://localhost:8080/"
        },
        "id": "6fe7d1ba",
        "outputId": "ebdf2031-6b1f-44a8-8981-1f7eee475008"
      },
      "outputs": [
        {
          "output_type": "stream",
          "name": "stderr",
          "text": [
            "\u001b[32m[I 2023-05-11 18:29:00,470]\u001b[0m A new study created in memory with name: no-name-2eef8612-fcc4-4e2b-8673-8137133f9aaf\u001b[0m\n",
            "\u001b[32m[I 2023-05-11 18:29:13,608]\u001b[0m Trial 0 finished with value: 0.7944825367625558 and parameters: {'rf__max_features': 0.44884219868589736, 'rf__max_depth': 17, 'rf__min_samples_leaf': 28}. Best is trial 0 with value: 0.7944825367625558.\u001b[0m\n",
            "\u001b[32m[I 2023-05-11 18:29:15,894]\u001b[0m Trial 1 finished with value: 0.6082518809102432 and parameters: {'rf__max_features': 0.19728557225657956, 'rf__max_depth': 9, 'rf__min_samples_leaf': 11}. Best is trial 0 with value: 0.7944825367625558.\u001b[0m\n",
            "\u001b[32m[I 2023-05-11 18:29:21,234]\u001b[0m Trial 2 finished with value: 0.7790874801149893 and parameters: {'rf__max_features': 0.28854402710024873, 'rf__max_depth': 21, 'rf__min_samples_leaf': 23}. Best is trial 0 with value: 0.7944825367625558.\u001b[0m\n",
            "\u001b[32m[I 2023-05-11 18:29:26,864]\u001b[0m Trial 3 finished with value: 0.7876919298590997 and parameters: {'rf__max_features': 0.39228469945725886, 'rf__max_depth': 25, 'rf__min_samples_leaf': 39}. Best is trial 0 with value: 0.7944825367625558.\u001b[0m\n",
            "\u001b[32m[I 2023-05-11 18:29:32,224]\u001b[0m Trial 4 finished with value: 0.7665219814749146 and parameters: {'rf__max_features': 0.6743002655309529, 'rf__max_depth': 7, 'rf__min_samples_leaf': 45}. Best is trial 0 with value: 0.7944825367625558.\u001b[0m\n",
            "\u001b[32m[I 2023-05-11 18:29:40,557]\u001b[0m Trial 5 finished with value: 0.7972562393104402 and parameters: {'rf__max_features': 0.9592569674234561, 'rf__max_depth': 37, 'rf__min_samples_leaf': 50}. Best is trial 5 with value: 0.7972562393104402.\u001b[0m\n",
            "\u001b[32m[I 2023-05-11 18:29:46,106]\u001b[0m Trial 6 finished with value: 0.8431310365131135 and parameters: {'rf__max_features': 0.7514879098415106, 'rf__max_depth': 38, 'rf__min_samples_leaf': 6}. Best is trial 6 with value: 0.8431310365131135.\u001b[0m\n",
            "\u001b[32m[I 2023-05-11 18:29:48,537]\u001b[0m Trial 7 finished with value: 0.7760028646893752 and parameters: {'rf__max_features': 0.2582351071436707, 'rf__max_depth': 26, 'rf__min_samples_leaf': 26}. Best is trial 6 with value: 0.8431310365131135.\u001b[0m\n",
            "\u001b[32m[I 2023-05-11 18:29:53,066]\u001b[0m Trial 8 finished with value: 0.7939742351242071 and parameters: {'rf__max_features': 0.6617184217349379, 'rf__max_depth': 13, 'rf__min_samples_leaf': 38}. Best is trial 6 with value: 0.8431310365131135.\u001b[0m\n",
            "\u001b[32m[I 2023-05-11 18:29:54,229]\u001b[0m Trial 9 finished with value: 0.5297347292777991 and parameters: {'rf__max_features': 0.11779945496939556, 'rf__max_depth': 18, 'rf__min_samples_leaf': 41}. Best is trial 6 with value: 0.8431310365131135.\u001b[0m\n",
            "\u001b[32m[I 2023-05-11 18:30:00,573]\u001b[0m Trial 10 finished with value: 0.8592887693810826 and parameters: {'rf__max_features': 0.9132524610890286, 'rf__max_depth': 40, 'rf__min_samples_leaf': 4}. Best is trial 10 with value: 0.8592887693810826.\u001b[0m\n",
            "\u001b[32m[I 2023-05-11 18:30:09,991]\u001b[0m Trial 11 finished with value: 0.8830464676358728 and parameters: {'rf__max_features': 0.905121515498031, 'rf__max_depth': 40, 'rf__min_samples_leaf': 1}. Best is trial 11 with value: 0.8830464676358728.\u001b[0m\n",
            "\u001b[32m[I 2023-05-11 18:30:18,720]\u001b[0m Trial 12 finished with value: 0.8833924149043355 and parameters: {'rf__max_features': 0.9877539163773025, 'rf__max_depth': 32, 'rf__min_samples_leaf': 1}. Best is trial 12 with value: 0.8833924149043355.\u001b[0m\n",
            "\u001b[32m[I 2023-05-11 18:30:23,831]\u001b[0m Trial 13 finished with value: 0.8235077651958841 and parameters: {'rf__max_features': 0.9800286969633646, 'rf__max_depth': 31, 'rf__min_samples_leaf': 15}. Best is trial 12 with value: 0.8833924149043355.\u001b[0m\n",
            "\u001b[32m[I 2023-05-11 18:30:31,156]\u001b[0m Trial 14 finished with value: 0.8740290347821432 and parameters: {'rf__max_features': 0.8197839131643708, 'rf__max_depth': 32, 'rf__min_samples_leaf': 2}. Best is trial 12 with value: 0.8833924149043355.\u001b[0m\n",
            "\u001b[32m[I 2023-05-11 18:30:36,105]\u001b[0m Trial 15 finished with value: 0.8157558813028501 and parameters: {'rf__max_features': 0.8292490704501261, 'rf__max_depth': 34, 'rf__min_samples_leaf': 19}. Best is trial 12 with value: 0.8833924149043355.\u001b[0m\n",
            "\u001b[32m[I 2023-05-11 18:30:41,794]\u001b[0m Trial 16 finished with value: 0.8354271376466981 and parameters: {'rf__max_features': 0.9907299983817706, 'rf__max_depth': 29, 'rf__min_samples_leaf': 9}. Best is trial 12 with value: 0.8833924149043355.\u001b[0m\n",
            "\u001b[32m[I 2023-05-11 18:30:51,269]\u001b[0m Trial 17 finished with value: 0.8830630198167327 and parameters: {'rf__max_features': 0.8786484829556883, 'rf__max_depth': 36, 'rf__min_samples_leaf': 1}. Best is trial 12 with value: 0.8833924149043355.\u001b[0m\n",
            "\u001b[32m[I 2023-05-11 18:30:55,033]\u001b[0m Trial 18 finished with value: 0.7934361246935447 and parameters: {'rf__max_features': 0.8541212459108766, 'rf__max_depth': 35, 'rf__min_samples_leaf': 60}. Best is trial 12 with value: 0.8833924149043355.\u001b[0m\n",
            "\u001b[32m[I 2023-05-11 18:31:00,369]\u001b[0m Trial 19 finished with value: 0.8131140890792804 and parameters: {'rf__max_features': 0.5852661682322658, 'rf__max_depth': 28, 'rf__min_samples_leaf': 15}. Best is trial 12 with value: 0.8833924149043355.\u001b[0m\n",
            "\u001b[32m[I 2023-05-11 18:31:05,077]\u001b[0m Trial 20 finished with value: 0.8024069155345538 and parameters: {'rf__max_features': 0.775617441130842, 'rf__max_depth': 22, 'rf__min_samples_leaf': 34}. Best is trial 12 with value: 0.8833924149043355.\u001b[0m\n",
            "\u001b[32m[I 2023-05-11 18:31:13,889]\u001b[0m Trial 21 finished with value: 0.8830464676358728 and parameters: {'rf__max_features': 0.9023754143999823, 'rf__max_depth': 39, 'rf__min_samples_leaf': 1}. Best is trial 12 with value: 0.8833924149043355.\u001b[0m\n",
            "\u001b[32m[I 2023-05-11 18:31:19,443]\u001b[0m Trial 22 finished with value: 0.833052363034169 and parameters: {'rf__max_features': 0.9073494852087424, 'rf__max_depth': 35, 'rf__min_samples_leaf': 10}. Best is trial 12 with value: 0.8833924149043355.\u001b[0m\n",
            "\u001b[32m[I 2023-05-11 18:31:26,092]\u001b[0m Trial 23 finished with value: 0.8428200751642118 and parameters: {'rf__max_features': 0.9856123538699423, 'rf__max_depth': 33, 'rf__min_samples_leaf': 7}. Best is trial 12 with value: 0.8833924149043355.\u001b[0m\n",
            "\u001b[32m[I 2023-05-11 18:31:39,248]\u001b[0m Trial 24 finished with value: 0.8829962569102384 and parameters: {'rf__max_features': 0.8591818320351494, 'rf__max_depth': 40, 'rf__min_samples_leaf': 1}. Best is trial 12 with value: 0.8833924149043355.\u001b[0m\n",
            "\u001b[32m[I 2023-05-11 18:31:48,070]\u001b[0m Trial 25 finished with value: 0.8204027822385482 and parameters: {'rf__max_features': 0.7616845091246667, 'rf__max_depth': 36, 'rf__min_samples_leaf': 16}. Best is trial 12 with value: 0.8833924149043355.\u001b[0m\n",
            "\u001b[32m[I 2023-05-11 18:31:53,842]\u001b[0m Trial 26 finished with value: 0.8149711925730183 and parameters: {'rf__max_features': 0.9110224974691524, 'rf__max_depth': 30, 'rf__min_samples_leaf': 21}. Best is trial 12 with value: 0.8833924149043355.\u001b[0m\n",
            "\u001b[32m[I 2023-05-11 18:31:59,406]\u001b[0m Trial 27 finished with value: 0.8285196241983473 and parameters: {'rf__max_features': 0.9964506192411906, 'rf__max_depth': 27, 'rf__min_samples_leaf': 12}. Best is trial 12 with value: 0.8833924149043355.\u001b[0m\n",
            "\u001b[32m[I 2023-05-11 18:32:05,342]\u001b[0m Trial 28 finished with value: 0.8502461242475423 and parameters: {'rf__max_features': 0.7834295286359105, 'rf__max_depth': 32, 'rf__min_samples_leaf': 5}. Best is trial 12 with value: 0.8833924149043355.\u001b[0m\n",
            "\u001b[32m[I 2023-05-11 18:32:10,384]\u001b[0m Trial 29 finished with value: 0.8038919897106948 and parameters: {'rf__max_features': 0.7263537301686813, 'rf__max_depth': 37, 'rf__min_samples_leaf': 29}. Best is trial 12 with value: 0.8833924149043355.\u001b[0m\n"
          ]
        },
        {
          "output_type": "stream",
          "name": "stdout",
          "text": [
            "time 189.9166214466095\n"
          ]
        }
      ],
      "source": [
        "import optuna\n",
        "import time\n",
        "from sklearn.ensemble import ExtraTreesClassifier\n",
        "from optuna import trial\n",
        "from sklearn.model_selection import cross_val_score\n",
        "from sklearn.model_selection import StratifiedKFold\n",
        "inicio = time.time()\n",
        "rs=NIA\n",
        "cv_inner = StratifiedKFold(n_splits=3, random_state=rs, shuffle=True)\n",
        "np.random.seed(NIA)\n",
        "def objective(trial):\n",
        "    rf__max_features = trial.suggest_float(\"rf__max_features\", 0.1,1)\n",
        "    rf__max_depth = trial.suggest_int(\"rf__max_depth\", 6, 40)\n",
        "    rf__min_samples_leaf=trial.suggest_int(\"rf__min_samples_leaf\", 1, 60)\n",
        "    classifier_obj = Pipeline([('Ext',ExtraTreesClassifier(\n",
        "        max_depth=rf__max_depth, max_features=rf__max_features, min_samples_leaf=rf__min_samples_leaf,random_state=rs\n",
        "    ))])\n",
        "\n",
        "\n",
        "    # Step 3: Scoring method:\n",
        "    score = cross_val_score(classifier_obj, X_train, y_train,scoring='balanced_accuracy', n_jobs=-1, cv = cv_inner)\n",
        "    accuracy = score.mean()\n",
        "    return accuracy\n",
        "\n",
        "# Step 4: Running it\n",
        "study = optuna.create_study(direction=\"maximize\")\n",
        "study.optimize(objective, n_trials=30)\n",
        "\n",
        "fin=time.time()\n",
        "print('time',fin-inicio)\n",
        "tiempoopt1=fin-inicio\n"
      ],
      "id": "6fe7d1ba"
    },
    {
      "cell_type": "code",
      "execution_count": null,
      "metadata": {
        "colab": {
          "base_uri": "https://localhost:8080/"
        },
        "id": "811e9375",
        "outputId": "71f46981-60e6-4b54-9ab7-0a77098c0f77"
      },
      "outputs": [
        {
          "output_type": "stream",
          "name": "stdout",
          "text": [
            "The best trial is : \n",
            "FrozenTrial(number=12, state=TrialState.COMPLETE, values=[0.8833924149043355], datetime_start=datetime.datetime(2023, 5, 11, 18, 30, 9, 998707), datetime_complete=datetime.datetime(2023, 5, 11, 18, 30, 18, 720519), params={'rf__max_features': 0.9877539163773025, 'rf__max_depth': 32, 'rf__min_samples_leaf': 1}, user_attrs={}, system_attrs={}, intermediate_values={}, distributions={'rf__max_features': FloatDistribution(high=1.0, log=False, low=0.1, step=None), 'rf__max_depth': IntDistribution(high=40, log=False, low=6, step=1), 'rf__min_samples_leaf': IntDistribution(high=60, log=False, low=1, step=1)}, trial_id=12, value=None)\n",
            "The best value is : \n",
            "0.8833924149043355\n",
            "The best parameters are : \n",
            "{'rf__max_features': 0.9877539163773025, 'rf__max_depth': 32, 'rf__min_samples_leaf': 1}\n"
          ]
        }
      ],
      "source": [
        "# Getting the best trial:\n",
        "print(f\"The best trial is : \\n{study.best_trial}\")\n",
        "\n",
        "# Getting the best score:\n",
        "print(f\"The best value is : \\n{study.best_value}\")\n",
        "\n",
        "\n",
        "# Getting the best parameters:\n",
        "print(f\"The best parameters are : \\n{study.best_params}\")\n"
      ],
      "id": "811e9375"
    },
    {
      "cell_type": "code",
      "execution_count": null,
      "metadata": {
        "colab": {
          "base_uri": "https://localhost:8080/"
        },
        "id": "d239bf95",
        "outputId": "961908f0-9e1b-45bf-a941-304b5def126e"
      },
      "outputs": [
        {
          "output_type": "stream",
          "name": "stdout",
          "text": [
            "Precision: 0.8833924149043355\n",
            "Best hyperparameters: {'rf__max_features': 0.9877539163773025, 'rf__max_depth': 32, 'rf__min_samples_leaf': 1}\n"
          ]
        }
      ],
      "source": [
        "trial = study.best_trial\n",
        "\n",
        "print('Precision: {}'.format(trial.value))\n",
        "print(\"Best hyperparameters: {}\".format(trial.params))"
      ],
      "id": "d239bf95"
    },
    {
      "cell_type": "code",
      "execution_count": null,
      "metadata": {
        "colab": {
          "base_uri": "https://localhost:8080/",
          "height": 542
        },
        "id": "0b9cdb24",
        "outputId": "e78a7f8c-647d-439a-87cd-f1557dbf8201"
      },
      "outputs": [
        {
          "output_type": "display_data",
          "data": {
            "text/html": [
              "<html>\n",
              "<head><meta charset=\"utf-8\" /></head>\n",
              "<body>\n",
              "    <div>            <script src=\"https://cdnjs.cloudflare.com/ajax/libs/mathjax/2.7.5/MathJax.js?config=TeX-AMS-MML_SVG\"></script><script type=\"text/javascript\">if (window.MathJax && window.MathJax.Hub && window.MathJax.Hub.Config) {window.MathJax.Hub.Config({SVG: {font: \"STIX-Web\"}});}</script>                <script type=\"text/javascript\">window.PlotlyConfig = {MathJaxConfig: 'local'};</script>\n",
              "        <script src=\"https://cdn.plot.ly/plotly-2.18.2.min.js\"></script>                <div id=\"9c71731b-7560-4ebe-8ae3-6654a4d5d638\" class=\"plotly-graph-div\" style=\"height:525px; width:100%;\"></div>            <script type=\"text/javascript\">                                    window.PLOTLYENV=window.PLOTLYENV || {};                                    if (document.getElementById(\"9c71731b-7560-4ebe-8ae3-6654a4d5d638\")) {                    Plotly.newPlot(                        \"9c71731b-7560-4ebe-8ae3-6654a4d5d638\",                        [{\"mode\":\"markers\",\"name\":\"Objective Value\",\"x\":[0,1,2,3,4,5,6,7,8,9,10,11,12,13,14,15,16,17,18,19,20,21,22,23,24,25,26,27,28,29],\"y\":[0.7944825367625558,0.6082518809102432,0.7790874801149893,0.7876919298590997,0.7665219814749146,0.7972562393104402,0.8431310365131135,0.7760028646893752,0.7939742351242071,0.5297347292777991,0.8592887693810826,0.8830464676358728,0.8833924149043355,0.8235077651958841,0.8740290347821432,0.8157558813028501,0.8354271376466981,0.8830630198167327,0.7934361246935447,0.8131140890792804,0.8024069155345538,0.8830464676358728,0.833052363034169,0.8428200751642118,0.8829962569102384,0.8204027822385482,0.8149711925730183,0.8285196241983473,0.8502461242475423,0.8038919897106948],\"type\":\"scatter\"},{\"name\":\"Best Value\",\"x\":[0,1,2,3,4,5,6,7,8,9,10,11,12,13,14,15,16,17,18,19,20,21,22,23,24,25,26,27,28,29],\"y\":[0.7944825367625558,0.7944825367625558,0.7944825367625558,0.7944825367625558,0.7944825367625558,0.7972562393104402,0.8431310365131135,0.8431310365131135,0.8431310365131135,0.8431310365131135,0.8592887693810826,0.8830464676358728,0.8833924149043355,0.8833924149043355,0.8833924149043355,0.8833924149043355,0.8833924149043355,0.8833924149043355,0.8833924149043355,0.8833924149043355,0.8833924149043355,0.8833924149043355,0.8833924149043355,0.8833924149043355,0.8833924149043355,0.8833924149043355,0.8833924149043355,0.8833924149043355,0.8833924149043355,0.8833924149043355],\"type\":\"scatter\"}],                        {\"title\":{\"text\":\"Optimization History Plot\"},\"xaxis\":{\"title\":{\"text\":\"Trial\"}},\"yaxis\":{\"title\":{\"text\":\"Objective Value\"}},\"template\":{\"data\":{\"histogram2dcontour\":[{\"type\":\"histogram2dcontour\",\"colorbar\":{\"outlinewidth\":0,\"ticks\":\"\"},\"colorscale\":[[0.0,\"#0d0887\"],[0.1111111111111111,\"#46039f\"],[0.2222222222222222,\"#7201a8\"],[0.3333333333333333,\"#9c179e\"],[0.4444444444444444,\"#bd3786\"],[0.5555555555555556,\"#d8576b\"],[0.6666666666666666,\"#ed7953\"],[0.7777777777777778,\"#fb9f3a\"],[0.8888888888888888,\"#fdca26\"],[1.0,\"#f0f921\"]]}],\"choropleth\":[{\"type\":\"choropleth\",\"colorbar\":{\"outlinewidth\":0,\"ticks\":\"\"}}],\"histogram2d\":[{\"type\":\"histogram2d\",\"colorbar\":{\"outlinewidth\":0,\"ticks\":\"\"},\"colorscale\":[[0.0,\"#0d0887\"],[0.1111111111111111,\"#46039f\"],[0.2222222222222222,\"#7201a8\"],[0.3333333333333333,\"#9c179e\"],[0.4444444444444444,\"#bd3786\"],[0.5555555555555556,\"#d8576b\"],[0.6666666666666666,\"#ed7953\"],[0.7777777777777778,\"#fb9f3a\"],[0.8888888888888888,\"#fdca26\"],[1.0,\"#f0f921\"]]}],\"heatmap\":[{\"type\":\"heatmap\",\"colorbar\":{\"outlinewidth\":0,\"ticks\":\"\"},\"colorscale\":[[0.0,\"#0d0887\"],[0.1111111111111111,\"#46039f\"],[0.2222222222222222,\"#7201a8\"],[0.3333333333333333,\"#9c179e\"],[0.4444444444444444,\"#bd3786\"],[0.5555555555555556,\"#d8576b\"],[0.6666666666666666,\"#ed7953\"],[0.7777777777777778,\"#fb9f3a\"],[0.8888888888888888,\"#fdca26\"],[1.0,\"#f0f921\"]]}],\"heatmapgl\":[{\"type\":\"heatmapgl\",\"colorbar\":{\"outlinewidth\":0,\"ticks\":\"\"},\"colorscale\":[[0.0,\"#0d0887\"],[0.1111111111111111,\"#46039f\"],[0.2222222222222222,\"#7201a8\"],[0.3333333333333333,\"#9c179e\"],[0.4444444444444444,\"#bd3786\"],[0.5555555555555556,\"#d8576b\"],[0.6666666666666666,\"#ed7953\"],[0.7777777777777778,\"#fb9f3a\"],[0.8888888888888888,\"#fdca26\"],[1.0,\"#f0f921\"]]}],\"contourcarpet\":[{\"type\":\"contourcarpet\",\"colorbar\":{\"outlinewidth\":0,\"ticks\":\"\"}}],\"contour\":[{\"type\":\"contour\",\"colorbar\":{\"outlinewidth\":0,\"ticks\":\"\"},\"colorscale\":[[0.0,\"#0d0887\"],[0.1111111111111111,\"#46039f\"],[0.2222222222222222,\"#7201a8\"],[0.3333333333333333,\"#9c179e\"],[0.4444444444444444,\"#bd3786\"],[0.5555555555555556,\"#d8576b\"],[0.6666666666666666,\"#ed7953\"],[0.7777777777777778,\"#fb9f3a\"],[0.8888888888888888,\"#fdca26\"],[1.0,\"#f0f921\"]]}],\"surface\":[{\"type\":\"surface\",\"colorbar\":{\"outlinewidth\":0,\"ticks\":\"\"},\"colorscale\":[[0.0,\"#0d0887\"],[0.1111111111111111,\"#46039f\"],[0.2222222222222222,\"#7201a8\"],[0.3333333333333333,\"#9c179e\"],[0.4444444444444444,\"#bd3786\"],[0.5555555555555556,\"#d8576b\"],[0.6666666666666666,\"#ed7953\"],[0.7777777777777778,\"#fb9f3a\"],[0.8888888888888888,\"#fdca26\"],[1.0,\"#f0f921\"]]}],\"mesh3d\":[{\"type\":\"mesh3d\",\"colorbar\":{\"outlinewidth\":0,\"ticks\":\"\"}}],\"scatter\":[{\"fillpattern\":{\"fillmode\":\"overlay\",\"size\":10,\"solidity\":0.2},\"type\":\"scatter\"}],\"parcoords\":[{\"type\":\"parcoords\",\"line\":{\"colorbar\":{\"outlinewidth\":0,\"ticks\":\"\"}}}],\"scatterpolargl\":[{\"type\":\"scatterpolargl\",\"marker\":{\"colorbar\":{\"outlinewidth\":0,\"ticks\":\"\"}}}],\"bar\":[{\"error_x\":{\"color\":\"#2a3f5f\"},\"error_y\":{\"color\":\"#2a3f5f\"},\"marker\":{\"line\":{\"color\":\"#E5ECF6\",\"width\":0.5},\"pattern\":{\"fillmode\":\"overlay\",\"size\":10,\"solidity\":0.2}},\"type\":\"bar\"}],\"scattergeo\":[{\"type\":\"scattergeo\",\"marker\":{\"colorbar\":{\"outlinewidth\":0,\"ticks\":\"\"}}}],\"scatterpolar\":[{\"type\":\"scatterpolar\",\"marker\":{\"colorbar\":{\"outlinewidth\":0,\"ticks\":\"\"}}}],\"histogram\":[{\"marker\":{\"pattern\":{\"fillmode\":\"overlay\",\"size\":10,\"solidity\":0.2}},\"type\":\"histogram\"}],\"scattergl\":[{\"type\":\"scattergl\",\"marker\":{\"colorbar\":{\"outlinewidth\":0,\"ticks\":\"\"}}}],\"scatter3d\":[{\"type\":\"scatter3d\",\"line\":{\"colorbar\":{\"outlinewidth\":0,\"ticks\":\"\"}},\"marker\":{\"colorbar\":{\"outlinewidth\":0,\"ticks\":\"\"}}}],\"scattermapbox\":[{\"type\":\"scattermapbox\",\"marker\":{\"colorbar\":{\"outlinewidth\":0,\"ticks\":\"\"}}}],\"scatterternary\":[{\"type\":\"scatterternary\",\"marker\":{\"colorbar\":{\"outlinewidth\":0,\"ticks\":\"\"}}}],\"scattercarpet\":[{\"type\":\"scattercarpet\",\"marker\":{\"colorbar\":{\"outlinewidth\":0,\"ticks\":\"\"}}}],\"carpet\":[{\"aaxis\":{\"endlinecolor\":\"#2a3f5f\",\"gridcolor\":\"white\",\"linecolor\":\"white\",\"minorgridcolor\":\"white\",\"startlinecolor\":\"#2a3f5f\"},\"baxis\":{\"endlinecolor\":\"#2a3f5f\",\"gridcolor\":\"white\",\"linecolor\":\"white\",\"minorgridcolor\":\"white\",\"startlinecolor\":\"#2a3f5f\"},\"type\":\"carpet\"}],\"table\":[{\"cells\":{\"fill\":{\"color\":\"#EBF0F8\"},\"line\":{\"color\":\"white\"}},\"header\":{\"fill\":{\"color\":\"#C8D4E3\"},\"line\":{\"color\":\"white\"}},\"type\":\"table\"}],\"barpolar\":[{\"marker\":{\"line\":{\"color\":\"#E5ECF6\",\"width\":0.5},\"pattern\":{\"fillmode\":\"overlay\",\"size\":10,\"solidity\":0.2}},\"type\":\"barpolar\"}],\"pie\":[{\"automargin\":true,\"type\":\"pie\"}]},\"layout\":{\"autotypenumbers\":\"strict\",\"colorway\":[\"#636efa\",\"#EF553B\",\"#00cc96\",\"#ab63fa\",\"#FFA15A\",\"#19d3f3\",\"#FF6692\",\"#B6E880\",\"#FF97FF\",\"#FECB52\"],\"font\":{\"color\":\"#2a3f5f\"},\"hovermode\":\"closest\",\"hoverlabel\":{\"align\":\"left\"},\"paper_bgcolor\":\"white\",\"plot_bgcolor\":\"#E5ECF6\",\"polar\":{\"bgcolor\":\"#E5ECF6\",\"angularaxis\":{\"gridcolor\":\"white\",\"linecolor\":\"white\",\"ticks\":\"\"},\"radialaxis\":{\"gridcolor\":\"white\",\"linecolor\":\"white\",\"ticks\":\"\"}},\"ternary\":{\"bgcolor\":\"#E5ECF6\",\"aaxis\":{\"gridcolor\":\"white\",\"linecolor\":\"white\",\"ticks\":\"\"},\"baxis\":{\"gridcolor\":\"white\",\"linecolor\":\"white\",\"ticks\":\"\"},\"caxis\":{\"gridcolor\":\"white\",\"linecolor\":\"white\",\"ticks\":\"\"}},\"coloraxis\":{\"colorbar\":{\"outlinewidth\":0,\"ticks\":\"\"}},\"colorscale\":{\"sequential\":[[0.0,\"#0d0887\"],[0.1111111111111111,\"#46039f\"],[0.2222222222222222,\"#7201a8\"],[0.3333333333333333,\"#9c179e\"],[0.4444444444444444,\"#bd3786\"],[0.5555555555555556,\"#d8576b\"],[0.6666666666666666,\"#ed7953\"],[0.7777777777777778,\"#fb9f3a\"],[0.8888888888888888,\"#fdca26\"],[1.0,\"#f0f921\"]],\"sequentialminus\":[[0.0,\"#0d0887\"],[0.1111111111111111,\"#46039f\"],[0.2222222222222222,\"#7201a8\"],[0.3333333333333333,\"#9c179e\"],[0.4444444444444444,\"#bd3786\"],[0.5555555555555556,\"#d8576b\"],[0.6666666666666666,\"#ed7953\"],[0.7777777777777778,\"#fb9f3a\"],[0.8888888888888888,\"#fdca26\"],[1.0,\"#f0f921\"]],\"diverging\":[[0,\"#8e0152\"],[0.1,\"#c51b7d\"],[0.2,\"#de77ae\"],[0.3,\"#f1b6da\"],[0.4,\"#fde0ef\"],[0.5,\"#f7f7f7\"],[0.6,\"#e6f5d0\"],[0.7,\"#b8e186\"],[0.8,\"#7fbc41\"],[0.9,\"#4d9221\"],[1,\"#276419\"]]},\"xaxis\":{\"gridcolor\":\"white\",\"linecolor\":\"white\",\"ticks\":\"\",\"title\":{\"standoff\":15},\"zerolinecolor\":\"white\",\"automargin\":true,\"zerolinewidth\":2},\"yaxis\":{\"gridcolor\":\"white\",\"linecolor\":\"white\",\"ticks\":\"\",\"title\":{\"standoff\":15},\"zerolinecolor\":\"white\",\"automargin\":true,\"zerolinewidth\":2},\"scene\":{\"xaxis\":{\"backgroundcolor\":\"#E5ECF6\",\"gridcolor\":\"white\",\"linecolor\":\"white\",\"showbackground\":true,\"ticks\":\"\",\"zerolinecolor\":\"white\",\"gridwidth\":2},\"yaxis\":{\"backgroundcolor\":\"#E5ECF6\",\"gridcolor\":\"white\",\"linecolor\":\"white\",\"showbackground\":true,\"ticks\":\"\",\"zerolinecolor\":\"white\",\"gridwidth\":2},\"zaxis\":{\"backgroundcolor\":\"#E5ECF6\",\"gridcolor\":\"white\",\"linecolor\":\"white\",\"showbackground\":true,\"ticks\":\"\",\"zerolinecolor\":\"white\",\"gridwidth\":2}},\"shapedefaults\":{\"line\":{\"color\":\"#2a3f5f\"}},\"annotationdefaults\":{\"arrowcolor\":\"#2a3f5f\",\"arrowhead\":0,\"arrowwidth\":1},\"geo\":{\"bgcolor\":\"white\",\"landcolor\":\"#E5ECF6\",\"subunitcolor\":\"white\",\"showland\":true,\"showlakes\":true,\"lakecolor\":\"white\"},\"title\":{\"x\":0.05},\"mapbox\":{\"style\":\"light\"}}}},                        {\"responsive\": true}                    ).then(function(){\n",
              "                            \n",
              "var gd = document.getElementById('9c71731b-7560-4ebe-8ae3-6654a4d5d638');\n",
              "var x = new MutationObserver(function (mutations, observer) {{\n",
              "        var display = window.getComputedStyle(gd).display;\n",
              "        if (!display || display === 'none') {{\n",
              "            console.log([gd, 'removed!']);\n",
              "            Plotly.purge(gd);\n",
              "            observer.disconnect();\n",
              "        }}\n",
              "}});\n",
              "\n",
              "// Listen for the removal of the full notebook cells\n",
              "var notebookContainer = gd.closest('#notebook-container');\n",
              "if (notebookContainer) {{\n",
              "    x.observe(notebookContainer, {childList: true});\n",
              "}}\n",
              "\n",
              "// Listen for the clearing of the current output cell\n",
              "var outputEl = gd.closest('.output');\n",
              "if (outputEl) {{\n",
              "    x.observe(outputEl, {childList: true});\n",
              "}}\n",
              "\n",
              "                        })                };                            </script>        </div>\n",
              "</body>\n",
              "</html>"
            ]
          },
          "metadata": {}
        }
      ],
      "source": [
        "import matplotlib.pyplot as plt\n",
        "optuna.visualization.plot_optimization_history(study).show()"
      ],
      "id": "0b9cdb24"
    },
    {
      "cell_type": "code",
      "execution_count": null,
      "metadata": {
        "colab": {
          "base_uri": "https://localhost:8080/",
          "height": 542
        },
        "id": "LAudMZWRRq53",
        "outputId": "fb7ba04c-3d82-41f7-d8a9-d0dd2a2736bf"
      },
      "outputs": [
        {
          "output_type": "display_data",
          "data": {
            "text/html": [
              "<html>\n",
              "<head><meta charset=\"utf-8\" /></head>\n",
              "<body>\n",
              "    <div>            <script src=\"https://cdnjs.cloudflare.com/ajax/libs/mathjax/2.7.5/MathJax.js?config=TeX-AMS-MML_SVG\"></script><script type=\"text/javascript\">if (window.MathJax && window.MathJax.Hub && window.MathJax.Hub.Config) {window.MathJax.Hub.Config({SVG: {font: \"STIX-Web\"}});}</script>                <script type=\"text/javascript\">window.PlotlyConfig = {MathJaxConfig: 'local'};</script>\n",
              "        <script src=\"https://cdn.plot.ly/plotly-2.18.2.min.js\"></script>                <div id=\"d9874e6c-35d8-4536-bd2e-2df7b2170261\" class=\"plotly-graph-div\" style=\"height:525px; width:100%;\"></div>            <script type=\"text/javascript\">                                    window.PLOTLYENV=window.PLOTLYENV || {};                                    if (document.getElementById(\"d9874e6c-35d8-4536-bd2e-2df7b2170261\")) {                    Plotly.newPlot(                        \"d9874e6c-35d8-4536-bd2e-2df7b2170261\",                        [{\"dimensions\":[{\"label\":\"Objective Value\",\"range\":[0.5297347292777991,0.8833924149043355],\"values\":[0.7944825367625558,0.6082518809102432,0.7790874801149893,0.7876919298590997,0.7665219814749146,0.7972562393104402,0.8431310365131135,0.7760028646893752,0.7939742351242071,0.5297347292777991,0.8592887693810826,0.8830464676358728,0.8833924149043355,0.8235077651958841,0.8740290347821432,0.8157558813028501,0.8354271376466981,0.8830630198167327,0.7934361246935447,0.8131140890792804,0.8024069155345538,0.8830464676358728,0.833052363034169,0.8428200751642118,0.8829962569102384,0.8204027822385482,0.8149711925730183,0.8285196241983473,0.8502461242475423,0.8038919897106948]},{\"label\":\"rf__max_depth\",\"range\":[7,40],\"values\":[17,9,21,25,7,37,38,26,13,18,40,40,32,31,32,34,29,36,35,28,22,39,35,33,40,36,30,27,32,37]},{\"label\":\"rf__max_features\",\"range\":[0.11779945496939556,0.9964506192411906],\"values\":[0.44884219868589736,0.19728557225657956,0.28854402710024873,0.39228469945725886,0.6743002655309529,0.9592569674234561,0.7514879098415106,0.2582351071436707,0.6617184217349379,0.11779945496939556,0.9132524610890286,0.905121515498031,0.9877539163773025,0.9800286969633646,0.8197839131643708,0.8292490704501261,0.9907299983817706,0.8786484829556883,0.8541212459108766,0.5852661682322658,0.775617441130842,0.9023754143999823,0.9073494852087424,0.9856123538699423,0.8591818320351494,0.7616845091246667,0.9110224974691524,0.9964506192411906,0.7834295286359105,0.7263537301686813]},{\"label\":\"rf__min_samples_l...\",\"range\":[1,60],\"values\":[28,11,23,39,45,50,6,26,38,41,4,1,1,15,2,19,9,1,60,15,34,1,10,7,1,16,21,12,5,29]}],\"labelangle\":30,\"labelside\":\"bottom\",\"line\":{\"color\":[0.7944825367625558,0.6082518809102432,0.7790874801149893,0.7876919298590997,0.7665219814749146,0.7972562393104402,0.8431310365131135,0.7760028646893752,0.7939742351242071,0.5297347292777991,0.8592887693810826,0.8830464676358728,0.8833924149043355,0.8235077651958841,0.8740290347821432,0.8157558813028501,0.8354271376466981,0.8830630198167327,0.7934361246935447,0.8131140890792804,0.8024069155345538,0.8830464676358728,0.833052363034169,0.8428200751642118,0.8829962569102384,0.8204027822385482,0.8149711925730183,0.8285196241983473,0.8502461242475423,0.8038919897106948],\"colorbar\":{\"title\":{\"text\":\"Objective Value\"}},\"colorscale\":[[0.0,\"rgb(247,251,255)\"],[0.125,\"rgb(222,235,247)\"],[0.25,\"rgb(198,219,239)\"],[0.375,\"rgb(158,202,225)\"],[0.5,\"rgb(107,174,214)\"],[0.625,\"rgb(66,146,198)\"],[0.75,\"rgb(33,113,181)\"],[0.875,\"rgb(8,81,156)\"],[1.0,\"rgb(8,48,107)\"]],\"reversescale\":false,\"showscale\":true},\"type\":\"parcoords\"}],                        {\"title\":{\"text\":\"Parallel Coordinate Plot\"},\"template\":{\"data\":{\"histogram2dcontour\":[{\"type\":\"histogram2dcontour\",\"colorbar\":{\"outlinewidth\":0,\"ticks\":\"\"},\"colorscale\":[[0.0,\"#0d0887\"],[0.1111111111111111,\"#46039f\"],[0.2222222222222222,\"#7201a8\"],[0.3333333333333333,\"#9c179e\"],[0.4444444444444444,\"#bd3786\"],[0.5555555555555556,\"#d8576b\"],[0.6666666666666666,\"#ed7953\"],[0.7777777777777778,\"#fb9f3a\"],[0.8888888888888888,\"#fdca26\"],[1.0,\"#f0f921\"]]}],\"choropleth\":[{\"type\":\"choropleth\",\"colorbar\":{\"outlinewidth\":0,\"ticks\":\"\"}}],\"histogram2d\":[{\"type\":\"histogram2d\",\"colorbar\":{\"outlinewidth\":0,\"ticks\":\"\"},\"colorscale\":[[0.0,\"#0d0887\"],[0.1111111111111111,\"#46039f\"],[0.2222222222222222,\"#7201a8\"],[0.3333333333333333,\"#9c179e\"],[0.4444444444444444,\"#bd3786\"],[0.5555555555555556,\"#d8576b\"],[0.6666666666666666,\"#ed7953\"],[0.7777777777777778,\"#fb9f3a\"],[0.8888888888888888,\"#fdca26\"],[1.0,\"#f0f921\"]]}],\"heatmap\":[{\"type\":\"heatmap\",\"colorbar\":{\"outlinewidth\":0,\"ticks\":\"\"},\"colorscale\":[[0.0,\"#0d0887\"],[0.1111111111111111,\"#46039f\"],[0.2222222222222222,\"#7201a8\"],[0.3333333333333333,\"#9c179e\"],[0.4444444444444444,\"#bd3786\"],[0.5555555555555556,\"#d8576b\"],[0.6666666666666666,\"#ed7953\"],[0.7777777777777778,\"#fb9f3a\"],[0.8888888888888888,\"#fdca26\"],[1.0,\"#f0f921\"]]}],\"heatmapgl\":[{\"type\":\"heatmapgl\",\"colorbar\":{\"outlinewidth\":0,\"ticks\":\"\"},\"colorscale\":[[0.0,\"#0d0887\"],[0.1111111111111111,\"#46039f\"],[0.2222222222222222,\"#7201a8\"],[0.3333333333333333,\"#9c179e\"],[0.4444444444444444,\"#bd3786\"],[0.5555555555555556,\"#d8576b\"],[0.6666666666666666,\"#ed7953\"],[0.7777777777777778,\"#fb9f3a\"],[0.8888888888888888,\"#fdca26\"],[1.0,\"#f0f921\"]]}],\"contourcarpet\":[{\"type\":\"contourcarpet\",\"colorbar\":{\"outlinewidth\":0,\"ticks\":\"\"}}],\"contour\":[{\"type\":\"contour\",\"colorbar\":{\"outlinewidth\":0,\"ticks\":\"\"},\"colorscale\":[[0.0,\"#0d0887\"],[0.1111111111111111,\"#46039f\"],[0.2222222222222222,\"#7201a8\"],[0.3333333333333333,\"#9c179e\"],[0.4444444444444444,\"#bd3786\"],[0.5555555555555556,\"#d8576b\"],[0.6666666666666666,\"#ed7953\"],[0.7777777777777778,\"#fb9f3a\"],[0.8888888888888888,\"#fdca26\"],[1.0,\"#f0f921\"]]}],\"surface\":[{\"type\":\"surface\",\"colorbar\":{\"outlinewidth\":0,\"ticks\":\"\"},\"colorscale\":[[0.0,\"#0d0887\"],[0.1111111111111111,\"#46039f\"],[0.2222222222222222,\"#7201a8\"],[0.3333333333333333,\"#9c179e\"],[0.4444444444444444,\"#bd3786\"],[0.5555555555555556,\"#d8576b\"],[0.6666666666666666,\"#ed7953\"],[0.7777777777777778,\"#fb9f3a\"],[0.8888888888888888,\"#fdca26\"],[1.0,\"#f0f921\"]]}],\"mesh3d\":[{\"type\":\"mesh3d\",\"colorbar\":{\"outlinewidth\":0,\"ticks\":\"\"}}],\"scatter\":[{\"fillpattern\":{\"fillmode\":\"overlay\",\"size\":10,\"solidity\":0.2},\"type\":\"scatter\"}],\"parcoords\":[{\"type\":\"parcoords\",\"line\":{\"colorbar\":{\"outlinewidth\":0,\"ticks\":\"\"}}}],\"scatterpolargl\":[{\"type\":\"scatterpolargl\",\"marker\":{\"colorbar\":{\"outlinewidth\":0,\"ticks\":\"\"}}}],\"bar\":[{\"error_x\":{\"color\":\"#2a3f5f\"},\"error_y\":{\"color\":\"#2a3f5f\"},\"marker\":{\"line\":{\"color\":\"#E5ECF6\",\"width\":0.5},\"pattern\":{\"fillmode\":\"overlay\",\"size\":10,\"solidity\":0.2}},\"type\":\"bar\"}],\"scattergeo\":[{\"type\":\"scattergeo\",\"marker\":{\"colorbar\":{\"outlinewidth\":0,\"ticks\":\"\"}}}],\"scatterpolar\":[{\"type\":\"scatterpolar\",\"marker\":{\"colorbar\":{\"outlinewidth\":0,\"ticks\":\"\"}}}],\"histogram\":[{\"marker\":{\"pattern\":{\"fillmode\":\"overlay\",\"size\":10,\"solidity\":0.2}},\"type\":\"histogram\"}],\"scattergl\":[{\"type\":\"scattergl\",\"marker\":{\"colorbar\":{\"outlinewidth\":0,\"ticks\":\"\"}}}],\"scatter3d\":[{\"type\":\"scatter3d\",\"line\":{\"colorbar\":{\"outlinewidth\":0,\"ticks\":\"\"}},\"marker\":{\"colorbar\":{\"outlinewidth\":0,\"ticks\":\"\"}}}],\"scattermapbox\":[{\"type\":\"scattermapbox\",\"marker\":{\"colorbar\":{\"outlinewidth\":0,\"ticks\":\"\"}}}],\"scatterternary\":[{\"type\":\"scatterternary\",\"marker\":{\"colorbar\":{\"outlinewidth\":0,\"ticks\":\"\"}}}],\"scattercarpet\":[{\"type\":\"scattercarpet\",\"marker\":{\"colorbar\":{\"outlinewidth\":0,\"ticks\":\"\"}}}],\"carpet\":[{\"aaxis\":{\"endlinecolor\":\"#2a3f5f\",\"gridcolor\":\"white\",\"linecolor\":\"white\",\"minorgridcolor\":\"white\",\"startlinecolor\":\"#2a3f5f\"},\"baxis\":{\"endlinecolor\":\"#2a3f5f\",\"gridcolor\":\"white\",\"linecolor\":\"white\",\"minorgridcolor\":\"white\",\"startlinecolor\":\"#2a3f5f\"},\"type\":\"carpet\"}],\"table\":[{\"cells\":{\"fill\":{\"color\":\"#EBF0F8\"},\"line\":{\"color\":\"white\"}},\"header\":{\"fill\":{\"color\":\"#C8D4E3\"},\"line\":{\"color\":\"white\"}},\"type\":\"table\"}],\"barpolar\":[{\"marker\":{\"line\":{\"color\":\"#E5ECF6\",\"width\":0.5},\"pattern\":{\"fillmode\":\"overlay\",\"size\":10,\"solidity\":0.2}},\"type\":\"barpolar\"}],\"pie\":[{\"automargin\":true,\"type\":\"pie\"}]},\"layout\":{\"autotypenumbers\":\"strict\",\"colorway\":[\"#636efa\",\"#EF553B\",\"#00cc96\",\"#ab63fa\",\"#FFA15A\",\"#19d3f3\",\"#FF6692\",\"#B6E880\",\"#FF97FF\",\"#FECB52\"],\"font\":{\"color\":\"#2a3f5f\"},\"hovermode\":\"closest\",\"hoverlabel\":{\"align\":\"left\"},\"paper_bgcolor\":\"white\",\"plot_bgcolor\":\"#E5ECF6\",\"polar\":{\"bgcolor\":\"#E5ECF6\",\"angularaxis\":{\"gridcolor\":\"white\",\"linecolor\":\"white\",\"ticks\":\"\"},\"radialaxis\":{\"gridcolor\":\"white\",\"linecolor\":\"white\",\"ticks\":\"\"}},\"ternary\":{\"bgcolor\":\"#E5ECF6\",\"aaxis\":{\"gridcolor\":\"white\",\"linecolor\":\"white\",\"ticks\":\"\"},\"baxis\":{\"gridcolor\":\"white\",\"linecolor\":\"white\",\"ticks\":\"\"},\"caxis\":{\"gridcolor\":\"white\",\"linecolor\":\"white\",\"ticks\":\"\"}},\"coloraxis\":{\"colorbar\":{\"outlinewidth\":0,\"ticks\":\"\"}},\"colorscale\":{\"sequential\":[[0.0,\"#0d0887\"],[0.1111111111111111,\"#46039f\"],[0.2222222222222222,\"#7201a8\"],[0.3333333333333333,\"#9c179e\"],[0.4444444444444444,\"#bd3786\"],[0.5555555555555556,\"#d8576b\"],[0.6666666666666666,\"#ed7953\"],[0.7777777777777778,\"#fb9f3a\"],[0.8888888888888888,\"#fdca26\"],[1.0,\"#f0f921\"]],\"sequentialminus\":[[0.0,\"#0d0887\"],[0.1111111111111111,\"#46039f\"],[0.2222222222222222,\"#7201a8\"],[0.3333333333333333,\"#9c179e\"],[0.4444444444444444,\"#bd3786\"],[0.5555555555555556,\"#d8576b\"],[0.6666666666666666,\"#ed7953\"],[0.7777777777777778,\"#fb9f3a\"],[0.8888888888888888,\"#fdca26\"],[1.0,\"#f0f921\"]],\"diverging\":[[0,\"#8e0152\"],[0.1,\"#c51b7d\"],[0.2,\"#de77ae\"],[0.3,\"#f1b6da\"],[0.4,\"#fde0ef\"],[0.5,\"#f7f7f7\"],[0.6,\"#e6f5d0\"],[0.7,\"#b8e186\"],[0.8,\"#7fbc41\"],[0.9,\"#4d9221\"],[1,\"#276419\"]]},\"xaxis\":{\"gridcolor\":\"white\",\"linecolor\":\"white\",\"ticks\":\"\",\"title\":{\"standoff\":15},\"zerolinecolor\":\"white\",\"automargin\":true,\"zerolinewidth\":2},\"yaxis\":{\"gridcolor\":\"white\",\"linecolor\":\"white\",\"ticks\":\"\",\"title\":{\"standoff\":15},\"zerolinecolor\":\"white\",\"automargin\":true,\"zerolinewidth\":2},\"scene\":{\"xaxis\":{\"backgroundcolor\":\"#E5ECF6\",\"gridcolor\":\"white\",\"linecolor\":\"white\",\"showbackground\":true,\"ticks\":\"\",\"zerolinecolor\":\"white\",\"gridwidth\":2},\"yaxis\":{\"backgroundcolor\":\"#E5ECF6\",\"gridcolor\":\"white\",\"linecolor\":\"white\",\"showbackground\":true,\"ticks\":\"\",\"zerolinecolor\":\"white\",\"gridwidth\":2},\"zaxis\":{\"backgroundcolor\":\"#E5ECF6\",\"gridcolor\":\"white\",\"linecolor\":\"white\",\"showbackground\":true,\"ticks\":\"\",\"zerolinecolor\":\"white\",\"gridwidth\":2}},\"shapedefaults\":{\"line\":{\"color\":\"#2a3f5f\"}},\"annotationdefaults\":{\"arrowcolor\":\"#2a3f5f\",\"arrowhead\":0,\"arrowwidth\":1},\"geo\":{\"bgcolor\":\"white\",\"landcolor\":\"#E5ECF6\",\"subunitcolor\":\"white\",\"showland\":true,\"showlakes\":true,\"lakecolor\":\"white\"},\"title\":{\"x\":0.05},\"mapbox\":{\"style\":\"light\"}}}},                        {\"responsive\": true}                    ).then(function(){\n",
              "                            \n",
              "var gd = document.getElementById('d9874e6c-35d8-4536-bd2e-2df7b2170261');\n",
              "var x = new MutationObserver(function (mutations, observer) {{\n",
              "        var display = window.getComputedStyle(gd).display;\n",
              "        if (!display || display === 'none') {{\n",
              "            console.log([gd, 'removed!']);\n",
              "            Plotly.purge(gd);\n",
              "            observer.disconnect();\n",
              "        }}\n",
              "}});\n",
              "\n",
              "// Listen for the removal of the full notebook cells\n",
              "var notebookContainer = gd.closest('#notebook-container');\n",
              "if (notebookContainer) {{\n",
              "    x.observe(notebookContainer, {childList: true});\n",
              "}}\n",
              "\n",
              "// Listen for the clearing of the current output cell\n",
              "var outputEl = gd.closest('.output');\n",
              "if (outputEl) {{\n",
              "    x.observe(outputEl, {childList: true});\n",
              "}}\n",
              "\n",
              "                        })                };                            </script>        </div>\n",
              "</body>\n",
              "</html>"
            ]
          },
          "metadata": {}
        }
      ],
      "source": [
        "from optuna.visualization import plot_parallel_coordinate\n",
        "plot_parallel_coordinate(study)"
      ],
      "id": "LAudMZWRRq53"
    },
    {
      "cell_type": "code",
      "execution_count": null,
      "metadata": {
        "colab": {
          "base_uri": "https://localhost:8080/",
          "height": 562
        },
        "id": "2-LMohnKR-EM",
        "outputId": "0e461e2f-7a4b-40f5-99e7-f8cd57c39acf"
      },
      "outputs": [
        {
          "data": {
            "text/html": [
              "<html>\n",
              "<head><meta charset=\"utf-8\" /></head>\n",
              "<body>\n",
              "    <div>            <script src=\"https://cdnjs.cloudflare.com/ajax/libs/mathjax/2.7.5/MathJax.js?config=TeX-AMS-MML_SVG\"></script><script type=\"text/javascript\">if (window.MathJax && window.MathJax.Hub && window.MathJax.Hub.Config) {window.MathJax.Hub.Config({SVG: {font: \"STIX-Web\"}});}</script>                <script type=\"text/javascript\">window.PlotlyConfig = {MathJaxConfig: 'local'};</script>\n",
              "        <script src=\"https://cdn.plot.ly/plotly-2.18.2.min.js\"></script>                <div id=\"7b66992d-8276-4147-8bb0-9d99cfbb6e52\" class=\"plotly-graph-div\" style=\"height:525px; width:100%;\"></div>            <script type=\"text/javascript\">                                    window.PLOTLYENV=window.PLOTLYENV || {};                                    if (document.getElementById(\"7b66992d-8276-4147-8bb0-9d99cfbb6e52\")) {                    Plotly.newPlot(                        \"7b66992d-8276-4147-8bb0-9d99cfbb6e52\",                        [{\"cliponaxis\":false,\"hovertemplate\":[\"rf__max_depth (IntDistribution): 0.14135517772580344<extra></extra>\",\"rf__min_samples_leaf (IntDistribution): 0.20170485590820508<extra></extra>\",\"rf__max_features (FloatDistribution): 0.6569399663659914<extra></extra>\"],\"marker\":{\"color\":\"rgb(66,146,198)\"},\"orientation\":\"h\",\"text\":[\"0.14\",\"0.20\",\"0.66\"],\"textposition\":\"outside\",\"x\":[0.14135517772580344,0.20170485590820508,0.6569399663659914],\"y\":[\"rf__max_depth\",\"rf__min_samples_leaf\",\"rf__max_features\"],\"type\":\"bar\"}],                        {\"showlegend\":false,\"title\":{\"text\":\"Hyperparameter Importances\"},\"xaxis\":{\"title\":{\"text\":\"Importance for Objective Value\"}},\"yaxis\":{\"title\":{\"text\":\"Hyperparameter\"}},\"template\":{\"data\":{\"histogram2dcontour\":[{\"type\":\"histogram2dcontour\",\"colorbar\":{\"outlinewidth\":0,\"ticks\":\"\"},\"colorscale\":[[0.0,\"#0d0887\"],[0.1111111111111111,\"#46039f\"],[0.2222222222222222,\"#7201a8\"],[0.3333333333333333,\"#9c179e\"],[0.4444444444444444,\"#bd3786\"],[0.5555555555555556,\"#d8576b\"],[0.6666666666666666,\"#ed7953\"],[0.7777777777777778,\"#fb9f3a\"],[0.8888888888888888,\"#fdca26\"],[1.0,\"#f0f921\"]]}],\"choropleth\":[{\"type\":\"choropleth\",\"colorbar\":{\"outlinewidth\":0,\"ticks\":\"\"}}],\"histogram2d\":[{\"type\":\"histogram2d\",\"colorbar\":{\"outlinewidth\":0,\"ticks\":\"\"},\"colorscale\":[[0.0,\"#0d0887\"],[0.1111111111111111,\"#46039f\"],[0.2222222222222222,\"#7201a8\"],[0.3333333333333333,\"#9c179e\"],[0.4444444444444444,\"#bd3786\"],[0.5555555555555556,\"#d8576b\"],[0.6666666666666666,\"#ed7953\"],[0.7777777777777778,\"#fb9f3a\"],[0.8888888888888888,\"#fdca26\"],[1.0,\"#f0f921\"]]}],\"heatmap\":[{\"type\":\"heatmap\",\"colorbar\":{\"outlinewidth\":0,\"ticks\":\"\"},\"colorscale\":[[0.0,\"#0d0887\"],[0.1111111111111111,\"#46039f\"],[0.2222222222222222,\"#7201a8\"],[0.3333333333333333,\"#9c179e\"],[0.4444444444444444,\"#bd3786\"],[0.5555555555555556,\"#d8576b\"],[0.6666666666666666,\"#ed7953\"],[0.7777777777777778,\"#fb9f3a\"],[0.8888888888888888,\"#fdca26\"],[1.0,\"#f0f921\"]]}],\"heatmapgl\":[{\"type\":\"heatmapgl\",\"colorbar\":{\"outlinewidth\":0,\"ticks\":\"\"},\"colorscale\":[[0.0,\"#0d0887\"],[0.1111111111111111,\"#46039f\"],[0.2222222222222222,\"#7201a8\"],[0.3333333333333333,\"#9c179e\"],[0.4444444444444444,\"#bd3786\"],[0.5555555555555556,\"#d8576b\"],[0.6666666666666666,\"#ed7953\"],[0.7777777777777778,\"#fb9f3a\"],[0.8888888888888888,\"#fdca26\"],[1.0,\"#f0f921\"]]}],\"contourcarpet\":[{\"type\":\"contourcarpet\",\"colorbar\":{\"outlinewidth\":0,\"ticks\":\"\"}}],\"contour\":[{\"type\":\"contour\",\"colorbar\":{\"outlinewidth\":0,\"ticks\":\"\"},\"colorscale\":[[0.0,\"#0d0887\"],[0.1111111111111111,\"#46039f\"],[0.2222222222222222,\"#7201a8\"],[0.3333333333333333,\"#9c179e\"],[0.4444444444444444,\"#bd3786\"],[0.5555555555555556,\"#d8576b\"],[0.6666666666666666,\"#ed7953\"],[0.7777777777777778,\"#fb9f3a\"],[0.8888888888888888,\"#fdca26\"],[1.0,\"#f0f921\"]]}],\"surface\":[{\"type\":\"surface\",\"colorbar\":{\"outlinewidth\":0,\"ticks\":\"\"},\"colorscale\":[[0.0,\"#0d0887\"],[0.1111111111111111,\"#46039f\"],[0.2222222222222222,\"#7201a8\"],[0.3333333333333333,\"#9c179e\"],[0.4444444444444444,\"#bd3786\"],[0.5555555555555556,\"#d8576b\"],[0.6666666666666666,\"#ed7953\"],[0.7777777777777778,\"#fb9f3a\"],[0.8888888888888888,\"#fdca26\"],[1.0,\"#f0f921\"]]}],\"mesh3d\":[{\"type\":\"mesh3d\",\"colorbar\":{\"outlinewidth\":0,\"ticks\":\"\"}}],\"scatter\":[{\"fillpattern\":{\"fillmode\":\"overlay\",\"size\":10,\"solidity\":0.2},\"type\":\"scatter\"}],\"parcoords\":[{\"type\":\"parcoords\",\"line\":{\"colorbar\":{\"outlinewidth\":0,\"ticks\":\"\"}}}],\"scatterpolargl\":[{\"type\":\"scatterpolargl\",\"marker\":{\"colorbar\":{\"outlinewidth\":0,\"ticks\":\"\"}}}],\"bar\":[{\"error_x\":{\"color\":\"#2a3f5f\"},\"error_y\":{\"color\":\"#2a3f5f\"},\"marker\":{\"line\":{\"color\":\"#E5ECF6\",\"width\":0.5},\"pattern\":{\"fillmode\":\"overlay\",\"size\":10,\"solidity\":0.2}},\"type\":\"bar\"}],\"scattergeo\":[{\"type\":\"scattergeo\",\"marker\":{\"colorbar\":{\"outlinewidth\":0,\"ticks\":\"\"}}}],\"scatterpolar\":[{\"type\":\"scatterpolar\",\"marker\":{\"colorbar\":{\"outlinewidth\":0,\"ticks\":\"\"}}}],\"histogram\":[{\"marker\":{\"pattern\":{\"fillmode\":\"overlay\",\"size\":10,\"solidity\":0.2}},\"type\":\"histogram\"}],\"scattergl\":[{\"type\":\"scattergl\",\"marker\":{\"colorbar\":{\"outlinewidth\":0,\"ticks\":\"\"}}}],\"scatter3d\":[{\"type\":\"scatter3d\",\"line\":{\"colorbar\":{\"outlinewidth\":0,\"ticks\":\"\"}},\"marker\":{\"colorbar\":{\"outlinewidth\":0,\"ticks\":\"\"}}}],\"scattermapbox\":[{\"type\":\"scattermapbox\",\"marker\":{\"colorbar\":{\"outlinewidth\":0,\"ticks\":\"\"}}}],\"scatterternary\":[{\"type\":\"scatterternary\",\"marker\":{\"colorbar\":{\"outlinewidth\":0,\"ticks\":\"\"}}}],\"scattercarpet\":[{\"type\":\"scattercarpet\",\"marker\":{\"colorbar\":{\"outlinewidth\":0,\"ticks\":\"\"}}}],\"carpet\":[{\"aaxis\":{\"endlinecolor\":\"#2a3f5f\",\"gridcolor\":\"white\",\"linecolor\":\"white\",\"minorgridcolor\":\"white\",\"startlinecolor\":\"#2a3f5f\"},\"baxis\":{\"endlinecolor\":\"#2a3f5f\",\"gridcolor\":\"white\",\"linecolor\":\"white\",\"minorgridcolor\":\"white\",\"startlinecolor\":\"#2a3f5f\"},\"type\":\"carpet\"}],\"table\":[{\"cells\":{\"fill\":{\"color\":\"#EBF0F8\"},\"line\":{\"color\":\"white\"}},\"header\":{\"fill\":{\"color\":\"#C8D4E3\"},\"line\":{\"color\":\"white\"}},\"type\":\"table\"}],\"barpolar\":[{\"marker\":{\"line\":{\"color\":\"#E5ECF6\",\"width\":0.5},\"pattern\":{\"fillmode\":\"overlay\",\"size\":10,\"solidity\":0.2}},\"type\":\"barpolar\"}],\"pie\":[{\"automargin\":true,\"type\":\"pie\"}]},\"layout\":{\"autotypenumbers\":\"strict\",\"colorway\":[\"#636efa\",\"#EF553B\",\"#00cc96\",\"#ab63fa\",\"#FFA15A\",\"#19d3f3\",\"#FF6692\",\"#B6E880\",\"#FF97FF\",\"#FECB52\"],\"font\":{\"color\":\"#2a3f5f\"},\"hovermode\":\"closest\",\"hoverlabel\":{\"align\":\"left\"},\"paper_bgcolor\":\"white\",\"plot_bgcolor\":\"#E5ECF6\",\"polar\":{\"bgcolor\":\"#E5ECF6\",\"angularaxis\":{\"gridcolor\":\"white\",\"linecolor\":\"white\",\"ticks\":\"\"},\"radialaxis\":{\"gridcolor\":\"white\",\"linecolor\":\"white\",\"ticks\":\"\"}},\"ternary\":{\"bgcolor\":\"#E5ECF6\",\"aaxis\":{\"gridcolor\":\"white\",\"linecolor\":\"white\",\"ticks\":\"\"},\"baxis\":{\"gridcolor\":\"white\",\"linecolor\":\"white\",\"ticks\":\"\"},\"caxis\":{\"gridcolor\":\"white\",\"linecolor\":\"white\",\"ticks\":\"\"}},\"coloraxis\":{\"colorbar\":{\"outlinewidth\":0,\"ticks\":\"\"}},\"colorscale\":{\"sequential\":[[0.0,\"#0d0887\"],[0.1111111111111111,\"#46039f\"],[0.2222222222222222,\"#7201a8\"],[0.3333333333333333,\"#9c179e\"],[0.4444444444444444,\"#bd3786\"],[0.5555555555555556,\"#d8576b\"],[0.6666666666666666,\"#ed7953\"],[0.7777777777777778,\"#fb9f3a\"],[0.8888888888888888,\"#fdca26\"],[1.0,\"#f0f921\"]],\"sequentialminus\":[[0.0,\"#0d0887\"],[0.1111111111111111,\"#46039f\"],[0.2222222222222222,\"#7201a8\"],[0.3333333333333333,\"#9c179e\"],[0.4444444444444444,\"#bd3786\"],[0.5555555555555556,\"#d8576b\"],[0.6666666666666666,\"#ed7953\"],[0.7777777777777778,\"#fb9f3a\"],[0.8888888888888888,\"#fdca26\"],[1.0,\"#f0f921\"]],\"diverging\":[[0,\"#8e0152\"],[0.1,\"#c51b7d\"],[0.2,\"#de77ae\"],[0.3,\"#f1b6da\"],[0.4,\"#fde0ef\"],[0.5,\"#f7f7f7\"],[0.6,\"#e6f5d0\"],[0.7,\"#b8e186\"],[0.8,\"#7fbc41\"],[0.9,\"#4d9221\"],[1,\"#276419\"]]},\"xaxis\":{\"gridcolor\":\"white\",\"linecolor\":\"white\",\"ticks\":\"\",\"title\":{\"standoff\":15},\"zerolinecolor\":\"white\",\"automargin\":true,\"zerolinewidth\":2},\"yaxis\":{\"gridcolor\":\"white\",\"linecolor\":\"white\",\"ticks\":\"\",\"title\":{\"standoff\":15},\"zerolinecolor\":\"white\",\"automargin\":true,\"zerolinewidth\":2},\"scene\":{\"xaxis\":{\"backgroundcolor\":\"#E5ECF6\",\"gridcolor\":\"white\",\"linecolor\":\"white\",\"showbackground\":true,\"ticks\":\"\",\"zerolinecolor\":\"white\",\"gridwidth\":2},\"yaxis\":{\"backgroundcolor\":\"#E5ECF6\",\"gridcolor\":\"white\",\"linecolor\":\"white\",\"showbackground\":true,\"ticks\":\"\",\"zerolinecolor\":\"white\",\"gridwidth\":2},\"zaxis\":{\"backgroundcolor\":\"#E5ECF6\",\"gridcolor\":\"white\",\"linecolor\":\"white\",\"showbackground\":true,\"ticks\":\"\",\"zerolinecolor\":\"white\",\"gridwidth\":2}},\"shapedefaults\":{\"line\":{\"color\":\"#2a3f5f\"}},\"annotationdefaults\":{\"arrowcolor\":\"#2a3f5f\",\"arrowhead\":0,\"arrowwidth\":1},\"geo\":{\"bgcolor\":\"white\",\"landcolor\":\"#E5ECF6\",\"subunitcolor\":\"white\",\"showland\":true,\"showlakes\":true,\"lakecolor\":\"white\"},\"title\":{\"x\":0.05},\"mapbox\":{\"style\":\"light\"}}}},                        {\"responsive\": true}                    ).then(function(){\n",
              "                            \n",
              "var gd = document.getElementById('7b66992d-8276-4147-8bb0-9d99cfbb6e52');\n",
              "var x = new MutationObserver(function (mutations, observer) {{\n",
              "        var display = window.getComputedStyle(gd).display;\n",
              "        if (!display || display === 'none') {{\n",
              "            console.log([gd, 'removed!']);\n",
              "            Plotly.purge(gd);\n",
              "            observer.disconnect();\n",
              "        }}\n",
              "}});\n",
              "\n",
              "// Listen for the removal of the full notebook cells\n",
              "var notebookContainer = gd.closest('#notebook-container');\n",
              "if (notebookContainer) {{\n",
              "    x.observe(notebookContainer, {childList: true});\n",
              "}}\n",
              "\n",
              "// Listen for the clearing of the current output cell\n",
              "var outputEl = gd.closest('.output');\n",
              "if (outputEl) {{\n",
              "    x.observe(outputEl, {childList: true});\n",
              "}}\n",
              "\n",
              "                        })                };                            </script>        </div>\n",
              "</body>\n",
              "</html>"
            ]
          },
          "metadata": {},
          "output_type": "display_data"
        }
      ],
      "source": [
        "from optuna.visualization import plot_param_importances\n",
        "plot_param_importances(study)"
      ],
      "id": "2-LMohnKR-EM"
    },
    {
      "cell_type": "code",
      "execution_count": null,
      "metadata": {
        "colab": {
          "base_uri": "https://localhost:8080/"
        },
        "id": "m33aI2j9Yj4L",
        "outputId": "b98cc98f-3d3d-459d-d0d8-3f48df33620b"
      },
      "outputs": [
        {
          "name": "stdout",
          "output_type": "stream",
          "text": [
            "Accuracy: 0.8993884616694254\n",
            "time 6.082575798034668\n"
          ]
        }
      ],
      "source": [
        "rs=NIA\n",
        "rf = ExtraTreesClassifier(random_state=rs)\n",
        "classif=Pipeline([('rf',rf)])\n",
        "classif.set_params(**study.best_params)\n",
        "(bacopt1, tiempo)=default_hp(classif, X_train, y_train, X_test, y_test)"
      ],
      "id": "m33aI2j9Yj4L"
    },
    {
      "cell_type": "code",
      "execution_count": 10,
      "metadata": {
        "id": "dm7NoElaZyH1"
      },
      "outputs": [],
      "source": [
        "import time\n",
        "from scipy.stats import randint as sp_randint\n",
        "from sklearn import metrics\n",
        "from scipy.stats import uniform, expon\n",
        "from sklearn.model_selection import PredefinedSplit, RandomizedSearchCV\n",
        "from sklearn.model_selection import KFold\n",
        "def default_RS(classif, X_train, y_train, X_test, y_test,param_grid,n):\n",
        "  inicio = time.time()\n",
        "  rs=NIA\n",
        "  np.random.seed(NIA)\n",
        "  cv = StratifiedKFold(n_splits=3, shuffle=True, random_state=rs)\n",
        "  clf_rnd=RandomizedSearchCV(classif,param_grid, scoring='balanced_accuracy', cv=cv , n_jobs=1, verbose=1, random_state=rs,n_iter=n)\n",
        "  clf_rnd.fit(X_train, y_train)\n",
        "  y_hat=clf_rnd.predict(X_test)\n",
        "  print(\"Accuracy: \",metrics.balanced_accuracy_score(y_test, y_hat))\n",
        "  print(f\"Best hyper-parameters: {clf_rnd.best_params_} and their score (inner evaluation): {clf_rnd.best_score_}\")\n",
        "  fin=time.time()\n",
        "  print('time',fin-inicio)\n",
        "  return(metrics.balanced_accuracy_score(y_test, y_hat),clf_rnd.best_params_,clf_rnd.best_score_,fin-inicio)"
      ],
      "id": "dm7NoElaZyH1"
    },
    {
      "cell_type": "code",
      "execution_count": null,
      "metadata": {
        "colab": {
          "base_uri": "https://localhost:8080/"
        },
        "id": "XvSuqI-1arCh",
        "outputId": "cdcc601c-2956-463c-96ee-9d5a2559b143"
      },
      "outputs": [
        {
          "output_type": "stream",
          "name": "stdout",
          "text": [
            "Fitting 3 folds for each of 200 candidates, totalling 600 fits\n",
            "Accuracy:  0.8546808540630273\n",
            "Best hyper-parameters: {'clf__max_depth': 26, 'clf__max_features': 0.9610623694680618, 'clf__min_samples_leaf': 7} and their score (inner evaluation): 0.8435163772856051\n",
            "time 822.6879241466522\n"
          ]
        }
      ],
      "source": [
        "import time\n",
        "rs=NIA\n",
        "clf = ExtraTreesClassifier(random_state=rs)\n",
        "classif=Pipeline([('clf',clf)])\n",
        "param_grid = {'clf__max_depth': sp_randint(6,40), 'clf__min_samples_leaf': sp_randint(6,60),'clf__max_features':uniform(0.1,0.9)}\n",
        "(Accur1,best_params,inner_score,timer1)=default_RS(classif, X_train, y_train, X_test, y_test,param_grid,200)"
      ],
      "id": "XvSuqI-1arCh"
    },
    {
      "cell_type": "markdown",
      "metadata": {
        "id": "b0113a16"
      },
      "source": [
        "### Support Vector Machines"
      ],
      "id": "b0113a16"
    },
    {
      "cell_type": "code",
      "execution_count": null,
      "metadata": {
        "colab": {
          "base_uri": "https://localhost:8080/"
        },
        "id": "ebe22ed2",
        "outputId": "ad9f6bf7-c0fa-4f32-c50e-904692b39166"
      },
      "outputs": [
        {
          "output_type": "stream",
          "name": "stderr",
          "text": [
            "\u001b[32m[I 2023-05-11 18:37:07,537]\u001b[0m A new study created in memory with name: no-name-b52f5920-c4ad-45a1-b72b-f9d26e323125\u001b[0m\n",
            "\u001b[32m[I 2023-05-11 18:38:48,824]\u001b[0m Trial 0 finished with value: 0.5785231379212462 and parameters: {'svc__gamma': 0.022814782620797225, 'svc__C': 0.1434081462335421}. Best is trial 0 with value: 0.5785231379212462.\u001b[0m\n",
            "\u001b[32m[I 2023-05-11 18:39:57,396]\u001b[0m Trial 1 finished with value: 0.7743552367999138 and parameters: {'svc__gamma': 0.31143006509060156, 'svc__C': 91.61060356132802}. Best is trial 1 with value: 0.7743552367999138.\u001b[0m\n",
            "\u001b[32m[I 2023-05-11 18:41:11,239]\u001b[0m Trial 2 finished with value: 0.7376414355643414 and parameters: {'svc__gamma': 0.1503970706252709, 'svc__C': 1.3272604542259374}. Best is trial 1 with value: 0.7743552367999138.\u001b[0m\n",
            "\u001b[32m[I 2023-05-11 18:42:29,341]\u001b[0m Trial 3 finished with value: 0.7251602248259171 and parameters: {'svc__gamma': 0.4404977025651611, 'svc__C': 0.2779840592604626}. Best is trial 1 with value: 0.7743552367999138.\u001b[0m\n",
            "\u001b[32m[I 2023-05-11 18:43:30,873]\u001b[0m Trial 4 finished with value: 0.7584843717478993 and parameters: {'svc__gamma': 0.07621979410603993, 'svc__C': 20.30144927064604}. Best is trial 1 with value: 0.7743552367999138.\u001b[0m\n",
            "\u001b[32m[I 2023-05-11 18:45:01,226]\u001b[0m Trial 5 finished with value: 0.5533122191827168 and parameters: {'svc__gamma': 0.004543781237149372, 'svc__C': 0.5654181786666163}. Best is trial 1 with value: 0.7743552367999138.\u001b[0m\n",
            "\u001b[32m[I 2023-05-11 18:46:09,602]\u001b[0m Trial 6 finished with value: 0.7435092652005731 and parameters: {'svc__gamma': 0.02726668330365447, 'svc__C': 15.759166910996196}. Best is trial 1 with value: 0.7743552367999138.\u001b[0m\n",
            "\u001b[32m[I 2023-05-11 18:47:17,698]\u001b[0m Trial 7 finished with value: 0.7395500579456082 and parameters: {'svc__gamma': 0.017082335581009953, 'svc__C': 23.6214865155966}. Best is trial 1 with value: 0.7743552367999138.\u001b[0m\n",
            "\u001b[32m[I 2023-05-11 18:48:34,359]\u001b[0m Trial 8 finished with value: 0.7180511506899148 and parameters: {'svc__gamma': 0.012124718006451403, 'svc__C': 10.459886347012736}. Best is trial 1 with value: 0.7743552367999138.\u001b[0m\n",
            "\u001b[32m[I 2023-05-11 18:49:38,228]\u001b[0m Trial 9 finished with value: 0.7626317032610018 and parameters: {'svc__gamma': 0.07972395918202067, 'svc__C': 50.37364923589856}. Best is trial 1 with value: 0.7743552367999138.\u001b[0m\n",
            "\u001b[32m[I 2023-05-11 18:50:50,490]\u001b[0m Trial 10 finished with value: 0.7864553523082907 and parameters: {'svc__gamma': 0.763022031439743, 'svc__C': 97.94465315860921}. Best is trial 10 with value: 0.7864553523082907.\u001b[0m\n",
            "\u001b[32m[I 2023-05-11 18:52:02,038]\u001b[0m Trial 11 finished with value: 0.7881826391401789 and parameters: {'svc__gamma': 0.899061702133208, 'svc__C': 85.04247821943686}. Best is trial 11 with value: 0.7881826391401789.\u001b[0m\n",
            "\u001b[32m[I 2023-05-11 18:53:12,217]\u001b[0m Trial 12 finished with value: 0.7835312067164669 and parameters: {'svc__gamma': 0.6515048105409506, 'svc__C': 98.3506246823071}. Best is trial 11 with value: 0.7881826391401789.\u001b[0m\n",
            "\u001b[32m[I 2023-05-11 18:54:12,641]\u001b[0m Trial 13 finished with value: 0.7756499629865332 and parameters: {'svc__gamma': 0.845851266093166, 'svc__C': 6.060743602955125}. Best is trial 11 with value: 0.7881826391401789.\u001b[0m\n",
            "\u001b[32m[I 2023-05-11 18:55:14,700]\u001b[0m Trial 14 finished with value: 0.7750650043603922 and parameters: {'svc__gamma': 0.9628444030211585, 'svc__C': 3.5176847235651794}. Best is trial 11 with value: 0.7881826391401789.\u001b[0m\n",
            "\u001b[32m[I 2023-05-11 18:56:16,457]\u001b[0m Trial 15 finished with value: 0.7694087555421056 and parameters: {'svc__gamma': 0.2350208211432091, 'svc__C': 34.99915314336206}. Best is trial 11 with value: 0.7881826391401789.\u001b[0m\n",
            "\u001b[32m[I 2023-05-11 18:57:40,418]\u001b[0m Trial 16 finished with value: 0.69423065280061 and parameters: {'svc__gamma': 0.0010679499046196217, 'svc__C': 46.85019641416901}. Best is trial 11 with value: 0.7881826391401789.\u001b[0m\n",
            "\u001b[32m[I 2023-05-11 18:58:45,782]\u001b[0m Trial 17 finished with value: 0.7760333778587731 and parameters: {'svc__gamma': 0.41549695839464196, 'svc__C': 58.80326706581974}. Best is trial 11 with value: 0.7881826391401789.\u001b[0m\n",
            "\u001b[32m[I 2023-05-11 18:59:46,864]\u001b[0m Trial 18 finished with value: 0.7807374509389317 and parameters: {'svc__gamma': 0.9948215607250522, 'svc__C': 12.036906673966437}. Best is trial 11 with value: 0.7881826391401789.\u001b[0m\n",
            "\u001b[32m[I 2023-05-11 19:00:51,718]\u001b[0m Trial 19 finished with value: 0.7673979365384067 and parameters: {'svc__gamma': 0.1289692386129551, 'svc__C': 96.09210322394709}. Best is trial 11 with value: 0.7881826391401789.\u001b[0m\n",
            "\u001b[32m[I 2023-05-11 19:01:56,823]\u001b[0m Trial 20 finished with value: 0.7742222357946771 and parameters: {'svc__gamma': 0.45268054463197155, 'svc__C': 28.971924847835528}. Best is trial 11 with value: 0.7881826391401789.\u001b[0m\n",
            "\u001b[32m[I 2023-05-11 19:03:06,609]\u001b[0m Trial 21 finished with value: 0.781572495652024 and parameters: {'svc__gamma': 0.6002280271318216, 'svc__C': 87.47639006600477}. Best is trial 11 with value: 0.7881826391401789.\u001b[0m\n",
            "\u001b[32m[I 2023-05-11 19:04:08,199]\u001b[0m Trial 22 finished with value: 0.7709681031052105 and parameters: {'svc__gamma': 0.23790722914947318, 'svc__C': 46.7777050764008}. Best is trial 11 with value: 0.7881826391401789.\u001b[0m\n",
            "\u001b[32m[I 2023-05-11 19:05:18,614]\u001b[0m Trial 23 finished with value: 0.7815031781273861 and parameters: {'svc__gamma': 0.5947042222269884, 'svc__C': 96.91401278675531}. Best is trial 11 with value: 0.7881826391401789.\u001b[0m\n",
            "\u001b[32m[I 2023-05-11 19:06:21,901]\u001b[0m Trial 24 finished with value: 0.7706475887094779 and parameters: {'svc__gamma': 0.28660536253786323, 'svc__C': 29.432151800490974}. Best is trial 11 with value: 0.7881826391401789.\u001b[0m\n",
            "\u001b[32m[I 2023-05-11 19:07:30,427]\u001b[0m Trial 25 finished with value: 0.7881095051288751 and parameters: {'svc__gamma': 0.9948172513183114, 'svc__C': 54.63654037413023}. Best is trial 11 with value: 0.7881826391401789.\u001b[0m\n",
            "\u001b[32m[I 2023-05-11 19:08:30,200]\u001b[0m Trial 26 finished with value: 0.7745065673150323 and parameters: {'svc__gamma': 0.6228137496223162, 'svc__C': 9.496328182170302}. Best is trial 11 with value: 0.7881826391401789.\u001b[0m\n",
            "\u001b[32m[I 2023-05-11 19:09:37,863]\u001b[0m Trial 27 finished with value: 0.786387897483892 and parameters: {'svc__gamma': 0.9254750878088012, 'svc__C': 52.03352141375369}. Best is trial 11 with value: 0.7881826391401789.\u001b[0m\n",
            "\u001b[32m[I 2023-05-11 19:10:38,181]\u001b[0m Trial 28 finished with value: 0.7715353159082792 and parameters: {'svc__gamma': 0.374937321530729, 'svc__C': 19.417959250107693}. Best is trial 11 with value: 0.7881826391401789.\u001b[0m\n",
            "\u001b[32m[I 2023-05-11 19:11:42,200]\u001b[0m Trial 29 finished with value: 0.766518474344433 and parameters: {'svc__gamma': 0.1800178516940536, 'svc__C': 35.23785338630842}. Best is trial 11 with value: 0.7881826391401789.\u001b[0m\n"
          ]
        },
        {
          "output_type": "stream",
          "name": "stdout",
          "text": [
            "time 2074.6722960472107\n"
          ]
        }
      ],
      "source": [
        "import optuna\n",
        "import time\n",
        "from sklearn import svm\n",
        "from optuna import trial\n",
        "from sklearn.model_selection import cross_val_score\n",
        "from sklearn.model_selection import StratifiedKFold\n",
        "from sklearn import svm\n",
        "inicio = time.time()\n",
        "rs=NIA\n",
        "cv_inner = StratifiedKFold(n_splits=3, random_state=rs, shuffle=True)\n",
        "np.random.seed(NIA)\n",
        "def objective(trial):\n",
        "    svc__Gamma = trial.suggest_float('svc__gamma',0.001,1,log=True)\n",
        "    svc__C = trial.suggest_float(\"svc__C\",0.1,100,log=True)\n",
        "    classifier_obj = Pipeline([('preprocessor',preprocessor1),('svc',svm.SVC(gamma=svc__Gamma, C=svc__C,random_state=rs))])\n",
        "\n",
        "\n",
        "    # Step 3: Scoring method:\n",
        "    score = cross_val_score(classifier_obj, X_train, y_train,scoring='balanced_accuracy', n_jobs=-1, cv=cv_inner)\n",
        "    accuracy = score.mean()\n",
        "    return accuracy\n",
        "\n",
        "# Step 4: Running it\n",
        "study = optuna.create_study(direction=\"maximize\")\n",
        "study.optimize(objective, n_trials=30)\n",
        "fin=time.time()\n",
        "print('time',fin-inicio)\n",
        "timeopt2=fin-inicio"
      ],
      "id": "ebe22ed2"
    },
    {
      "cell_type": "code",
      "execution_count": null,
      "metadata": {
        "colab": {
          "base_uri": "https://localhost:8080/",
          "height": 698
        },
        "id": "8c907a62",
        "outputId": "e7e0e455-9a93-4b4f-f8e2-449050fba1ee"
      },
      "outputs": [
        {
          "output_type": "stream",
          "name": "stdout",
          "text": [
            "The best trial is : \n",
            "FrozenTrial(number=11, state=TrialState.COMPLETE, values=[0.7881826391401789], datetime_start=datetime.datetime(2023, 5, 11, 18, 50, 50, 492667), datetime_complete=datetime.datetime(2023, 5, 11, 18, 52, 2, 38013), params={'svc__gamma': 0.899061702133208, 'svc__C': 85.04247821943686}, user_attrs={}, system_attrs={}, intermediate_values={}, distributions={'svc__gamma': FloatDistribution(high=1.0, log=True, low=0.001, step=None), 'svc__C': FloatDistribution(high=100.0, log=True, low=0.1, step=None)}, trial_id=11, value=None)\n",
            "The best value is : \n",
            "0.7881826391401789\n",
            "The best parameters are : \n",
            "{'svc__gamma': 0.899061702133208, 'svc__C': 85.04247821943686}\n",
            "Precision: 0.7881826391401789\n",
            "Best hyperparameters: {'svc__gamma': 0.899061702133208, 'svc__C': 85.04247821943686}\n"
          ]
        },
        {
          "output_type": "display_data",
          "data": {
            "text/html": [
              "<html>\n",
              "<head><meta charset=\"utf-8\" /></head>\n",
              "<body>\n",
              "    <div>            <script src=\"https://cdnjs.cloudflare.com/ajax/libs/mathjax/2.7.5/MathJax.js?config=TeX-AMS-MML_SVG\"></script><script type=\"text/javascript\">if (window.MathJax && window.MathJax.Hub && window.MathJax.Hub.Config) {window.MathJax.Hub.Config({SVG: {font: \"STIX-Web\"}});}</script>                <script type=\"text/javascript\">window.PlotlyConfig = {MathJaxConfig: 'local'};</script>\n",
              "        <script src=\"https://cdn.plot.ly/plotly-2.18.2.min.js\"></script>                <div id=\"14abb024-9414-4071-a3bd-dee2f9535c43\" class=\"plotly-graph-div\" style=\"height:525px; width:100%;\"></div>            <script type=\"text/javascript\">                                    window.PLOTLYENV=window.PLOTLYENV || {};                                    if (document.getElementById(\"14abb024-9414-4071-a3bd-dee2f9535c43\")) {                    Plotly.newPlot(                        \"14abb024-9414-4071-a3bd-dee2f9535c43\",                        [{\"mode\":\"markers\",\"name\":\"Objective Value\",\"x\":[0,1,2,3,4,5,6,7,8,9,10,11,12,13,14,15,16,17,18,19,20,21,22,23,24,25,26,27,28,29],\"y\":[0.5785231379212462,0.7743552367999138,0.7376414355643414,0.7251602248259171,0.7584843717478993,0.5533122191827168,0.7435092652005731,0.7395500579456082,0.7180511506899148,0.7626317032610018,0.7864553523082907,0.7881826391401789,0.7835312067164669,0.7756499629865332,0.7750650043603922,0.7694087555421056,0.69423065280061,0.7760333778587731,0.7807374509389317,0.7673979365384067,0.7742222357946771,0.781572495652024,0.7709681031052105,0.7815031781273861,0.7706475887094779,0.7881095051288751,0.7745065673150323,0.786387897483892,0.7715353159082792,0.766518474344433],\"type\":\"scatter\"},{\"name\":\"Best Value\",\"x\":[0,1,2,3,4,5,6,7,8,9,10,11,12,13,14,15,16,17,18,19,20,21,22,23,24,25,26,27,28,29],\"y\":[0.5785231379212462,0.7743552367999138,0.7743552367999138,0.7743552367999138,0.7743552367999138,0.7743552367999138,0.7743552367999138,0.7743552367999138,0.7743552367999138,0.7743552367999138,0.7864553523082907,0.7881826391401789,0.7881826391401789,0.7881826391401789,0.7881826391401789,0.7881826391401789,0.7881826391401789,0.7881826391401789,0.7881826391401789,0.7881826391401789,0.7881826391401789,0.7881826391401789,0.7881826391401789,0.7881826391401789,0.7881826391401789,0.7881826391401789,0.7881826391401789,0.7881826391401789,0.7881826391401789,0.7881826391401789],\"type\":\"scatter\"}],                        {\"title\":{\"text\":\"Optimization History Plot\"},\"xaxis\":{\"title\":{\"text\":\"Trial\"}},\"yaxis\":{\"title\":{\"text\":\"Objective Value\"}},\"template\":{\"data\":{\"histogram2dcontour\":[{\"type\":\"histogram2dcontour\",\"colorbar\":{\"outlinewidth\":0,\"ticks\":\"\"},\"colorscale\":[[0.0,\"#0d0887\"],[0.1111111111111111,\"#46039f\"],[0.2222222222222222,\"#7201a8\"],[0.3333333333333333,\"#9c179e\"],[0.4444444444444444,\"#bd3786\"],[0.5555555555555556,\"#d8576b\"],[0.6666666666666666,\"#ed7953\"],[0.7777777777777778,\"#fb9f3a\"],[0.8888888888888888,\"#fdca26\"],[1.0,\"#f0f921\"]]}],\"choropleth\":[{\"type\":\"choropleth\",\"colorbar\":{\"outlinewidth\":0,\"ticks\":\"\"}}],\"histogram2d\":[{\"type\":\"histogram2d\",\"colorbar\":{\"outlinewidth\":0,\"ticks\":\"\"},\"colorscale\":[[0.0,\"#0d0887\"],[0.1111111111111111,\"#46039f\"],[0.2222222222222222,\"#7201a8\"],[0.3333333333333333,\"#9c179e\"],[0.4444444444444444,\"#bd3786\"],[0.5555555555555556,\"#d8576b\"],[0.6666666666666666,\"#ed7953\"],[0.7777777777777778,\"#fb9f3a\"],[0.8888888888888888,\"#fdca26\"],[1.0,\"#f0f921\"]]}],\"heatmap\":[{\"type\":\"heatmap\",\"colorbar\":{\"outlinewidth\":0,\"ticks\":\"\"},\"colorscale\":[[0.0,\"#0d0887\"],[0.1111111111111111,\"#46039f\"],[0.2222222222222222,\"#7201a8\"],[0.3333333333333333,\"#9c179e\"],[0.4444444444444444,\"#bd3786\"],[0.5555555555555556,\"#d8576b\"],[0.6666666666666666,\"#ed7953\"],[0.7777777777777778,\"#fb9f3a\"],[0.8888888888888888,\"#fdca26\"],[1.0,\"#f0f921\"]]}],\"heatmapgl\":[{\"type\":\"heatmapgl\",\"colorbar\":{\"outlinewidth\":0,\"ticks\":\"\"},\"colorscale\":[[0.0,\"#0d0887\"],[0.1111111111111111,\"#46039f\"],[0.2222222222222222,\"#7201a8\"],[0.3333333333333333,\"#9c179e\"],[0.4444444444444444,\"#bd3786\"],[0.5555555555555556,\"#d8576b\"],[0.6666666666666666,\"#ed7953\"],[0.7777777777777778,\"#fb9f3a\"],[0.8888888888888888,\"#fdca26\"],[1.0,\"#f0f921\"]]}],\"contourcarpet\":[{\"type\":\"contourcarpet\",\"colorbar\":{\"outlinewidth\":0,\"ticks\":\"\"}}],\"contour\":[{\"type\":\"contour\",\"colorbar\":{\"outlinewidth\":0,\"ticks\":\"\"},\"colorscale\":[[0.0,\"#0d0887\"],[0.1111111111111111,\"#46039f\"],[0.2222222222222222,\"#7201a8\"],[0.3333333333333333,\"#9c179e\"],[0.4444444444444444,\"#bd3786\"],[0.5555555555555556,\"#d8576b\"],[0.6666666666666666,\"#ed7953\"],[0.7777777777777778,\"#fb9f3a\"],[0.8888888888888888,\"#fdca26\"],[1.0,\"#f0f921\"]]}],\"surface\":[{\"type\":\"surface\",\"colorbar\":{\"outlinewidth\":0,\"ticks\":\"\"},\"colorscale\":[[0.0,\"#0d0887\"],[0.1111111111111111,\"#46039f\"],[0.2222222222222222,\"#7201a8\"],[0.3333333333333333,\"#9c179e\"],[0.4444444444444444,\"#bd3786\"],[0.5555555555555556,\"#d8576b\"],[0.6666666666666666,\"#ed7953\"],[0.7777777777777778,\"#fb9f3a\"],[0.8888888888888888,\"#fdca26\"],[1.0,\"#f0f921\"]]}],\"mesh3d\":[{\"type\":\"mesh3d\",\"colorbar\":{\"outlinewidth\":0,\"ticks\":\"\"}}],\"scatter\":[{\"fillpattern\":{\"fillmode\":\"overlay\",\"size\":10,\"solidity\":0.2},\"type\":\"scatter\"}],\"parcoords\":[{\"type\":\"parcoords\",\"line\":{\"colorbar\":{\"outlinewidth\":0,\"ticks\":\"\"}}}],\"scatterpolargl\":[{\"type\":\"scatterpolargl\",\"marker\":{\"colorbar\":{\"outlinewidth\":0,\"ticks\":\"\"}}}],\"bar\":[{\"error_x\":{\"color\":\"#2a3f5f\"},\"error_y\":{\"color\":\"#2a3f5f\"},\"marker\":{\"line\":{\"color\":\"#E5ECF6\",\"width\":0.5},\"pattern\":{\"fillmode\":\"overlay\",\"size\":10,\"solidity\":0.2}},\"type\":\"bar\"}],\"scattergeo\":[{\"type\":\"scattergeo\",\"marker\":{\"colorbar\":{\"outlinewidth\":0,\"ticks\":\"\"}}}],\"scatterpolar\":[{\"type\":\"scatterpolar\",\"marker\":{\"colorbar\":{\"outlinewidth\":0,\"ticks\":\"\"}}}],\"histogram\":[{\"marker\":{\"pattern\":{\"fillmode\":\"overlay\",\"size\":10,\"solidity\":0.2}},\"type\":\"histogram\"}],\"scattergl\":[{\"type\":\"scattergl\",\"marker\":{\"colorbar\":{\"outlinewidth\":0,\"ticks\":\"\"}}}],\"scatter3d\":[{\"type\":\"scatter3d\",\"line\":{\"colorbar\":{\"outlinewidth\":0,\"ticks\":\"\"}},\"marker\":{\"colorbar\":{\"outlinewidth\":0,\"ticks\":\"\"}}}],\"scattermapbox\":[{\"type\":\"scattermapbox\",\"marker\":{\"colorbar\":{\"outlinewidth\":0,\"ticks\":\"\"}}}],\"scatterternary\":[{\"type\":\"scatterternary\",\"marker\":{\"colorbar\":{\"outlinewidth\":0,\"ticks\":\"\"}}}],\"scattercarpet\":[{\"type\":\"scattercarpet\",\"marker\":{\"colorbar\":{\"outlinewidth\":0,\"ticks\":\"\"}}}],\"carpet\":[{\"aaxis\":{\"endlinecolor\":\"#2a3f5f\",\"gridcolor\":\"white\",\"linecolor\":\"white\",\"minorgridcolor\":\"white\",\"startlinecolor\":\"#2a3f5f\"},\"baxis\":{\"endlinecolor\":\"#2a3f5f\",\"gridcolor\":\"white\",\"linecolor\":\"white\",\"minorgridcolor\":\"white\",\"startlinecolor\":\"#2a3f5f\"},\"type\":\"carpet\"}],\"table\":[{\"cells\":{\"fill\":{\"color\":\"#EBF0F8\"},\"line\":{\"color\":\"white\"}},\"header\":{\"fill\":{\"color\":\"#C8D4E3\"},\"line\":{\"color\":\"white\"}},\"type\":\"table\"}],\"barpolar\":[{\"marker\":{\"line\":{\"color\":\"#E5ECF6\",\"width\":0.5},\"pattern\":{\"fillmode\":\"overlay\",\"size\":10,\"solidity\":0.2}},\"type\":\"barpolar\"}],\"pie\":[{\"automargin\":true,\"type\":\"pie\"}]},\"layout\":{\"autotypenumbers\":\"strict\",\"colorway\":[\"#636efa\",\"#EF553B\",\"#00cc96\",\"#ab63fa\",\"#FFA15A\",\"#19d3f3\",\"#FF6692\",\"#B6E880\",\"#FF97FF\",\"#FECB52\"],\"font\":{\"color\":\"#2a3f5f\"},\"hovermode\":\"closest\",\"hoverlabel\":{\"align\":\"left\"},\"paper_bgcolor\":\"white\",\"plot_bgcolor\":\"#E5ECF6\",\"polar\":{\"bgcolor\":\"#E5ECF6\",\"angularaxis\":{\"gridcolor\":\"white\",\"linecolor\":\"white\",\"ticks\":\"\"},\"radialaxis\":{\"gridcolor\":\"white\",\"linecolor\":\"white\",\"ticks\":\"\"}},\"ternary\":{\"bgcolor\":\"#E5ECF6\",\"aaxis\":{\"gridcolor\":\"white\",\"linecolor\":\"white\",\"ticks\":\"\"},\"baxis\":{\"gridcolor\":\"white\",\"linecolor\":\"white\",\"ticks\":\"\"},\"caxis\":{\"gridcolor\":\"white\",\"linecolor\":\"white\",\"ticks\":\"\"}},\"coloraxis\":{\"colorbar\":{\"outlinewidth\":0,\"ticks\":\"\"}},\"colorscale\":{\"sequential\":[[0.0,\"#0d0887\"],[0.1111111111111111,\"#46039f\"],[0.2222222222222222,\"#7201a8\"],[0.3333333333333333,\"#9c179e\"],[0.4444444444444444,\"#bd3786\"],[0.5555555555555556,\"#d8576b\"],[0.6666666666666666,\"#ed7953\"],[0.7777777777777778,\"#fb9f3a\"],[0.8888888888888888,\"#fdca26\"],[1.0,\"#f0f921\"]],\"sequentialminus\":[[0.0,\"#0d0887\"],[0.1111111111111111,\"#46039f\"],[0.2222222222222222,\"#7201a8\"],[0.3333333333333333,\"#9c179e\"],[0.4444444444444444,\"#bd3786\"],[0.5555555555555556,\"#d8576b\"],[0.6666666666666666,\"#ed7953\"],[0.7777777777777778,\"#fb9f3a\"],[0.8888888888888888,\"#fdca26\"],[1.0,\"#f0f921\"]],\"diverging\":[[0,\"#8e0152\"],[0.1,\"#c51b7d\"],[0.2,\"#de77ae\"],[0.3,\"#f1b6da\"],[0.4,\"#fde0ef\"],[0.5,\"#f7f7f7\"],[0.6,\"#e6f5d0\"],[0.7,\"#b8e186\"],[0.8,\"#7fbc41\"],[0.9,\"#4d9221\"],[1,\"#276419\"]]},\"xaxis\":{\"gridcolor\":\"white\",\"linecolor\":\"white\",\"ticks\":\"\",\"title\":{\"standoff\":15},\"zerolinecolor\":\"white\",\"automargin\":true,\"zerolinewidth\":2},\"yaxis\":{\"gridcolor\":\"white\",\"linecolor\":\"white\",\"ticks\":\"\",\"title\":{\"standoff\":15},\"zerolinecolor\":\"white\",\"automargin\":true,\"zerolinewidth\":2},\"scene\":{\"xaxis\":{\"backgroundcolor\":\"#E5ECF6\",\"gridcolor\":\"white\",\"linecolor\":\"white\",\"showbackground\":true,\"ticks\":\"\",\"zerolinecolor\":\"white\",\"gridwidth\":2},\"yaxis\":{\"backgroundcolor\":\"#E5ECF6\",\"gridcolor\":\"white\",\"linecolor\":\"white\",\"showbackground\":true,\"ticks\":\"\",\"zerolinecolor\":\"white\",\"gridwidth\":2},\"zaxis\":{\"backgroundcolor\":\"#E5ECF6\",\"gridcolor\":\"white\",\"linecolor\":\"white\",\"showbackground\":true,\"ticks\":\"\",\"zerolinecolor\":\"white\",\"gridwidth\":2}},\"shapedefaults\":{\"line\":{\"color\":\"#2a3f5f\"}},\"annotationdefaults\":{\"arrowcolor\":\"#2a3f5f\",\"arrowhead\":0,\"arrowwidth\":1},\"geo\":{\"bgcolor\":\"white\",\"landcolor\":\"#E5ECF6\",\"subunitcolor\":\"white\",\"showland\":true,\"showlakes\":true,\"lakecolor\":\"white\"},\"title\":{\"x\":0.05},\"mapbox\":{\"style\":\"light\"}}}},                        {\"responsive\": true}                    ).then(function(){\n",
              "                            \n",
              "var gd = document.getElementById('14abb024-9414-4071-a3bd-dee2f9535c43');\n",
              "var x = new MutationObserver(function (mutations, observer) {{\n",
              "        var display = window.getComputedStyle(gd).display;\n",
              "        if (!display || display === 'none') {{\n",
              "            console.log([gd, 'removed!']);\n",
              "            Plotly.purge(gd);\n",
              "            observer.disconnect();\n",
              "        }}\n",
              "}});\n",
              "\n",
              "// Listen for the removal of the full notebook cells\n",
              "var notebookContainer = gd.closest('#notebook-container');\n",
              "if (notebookContainer) {{\n",
              "    x.observe(notebookContainer, {childList: true});\n",
              "}}\n",
              "\n",
              "// Listen for the clearing of the current output cell\n",
              "var outputEl = gd.closest('.output');\n",
              "if (outputEl) {{\n",
              "    x.observe(outputEl, {childList: true});\n",
              "}}\n",
              "\n",
              "                        })                };                            </script>        </div>\n",
              "</body>\n",
              "</html>"
            ]
          },
          "metadata": {}
        }
      ],
      "source": [
        "# Getting the best trial:\n",
        "print(f\"The best trial is : \\n{study.best_trial}\")\n",
        "# Getting the best score:\n",
        "print(f\"The best value is : \\n{study.best_value}\")\n",
        "# Getting the best parameters:\n",
        "print(f\"The best parameters are : \\n{study.best_params}\")\n",
        "trial = study.best_trial\n",
        "print('Precision: {}'.format(trial.value))\n",
        "print(\"Best hyperparameters: {}\".format(trial.params))\n",
        "optuna.visualization.plot_optimization_history(study).show()"
      ],
      "id": "8c907a62"
    },
    {
      "cell_type": "code",
      "execution_count": null,
      "metadata": {
        "colab": {
          "base_uri": "https://localhost:8080/",
          "height": 542
        },
        "id": "yIx1n4T0VP-n",
        "outputId": "8779263c-528c-4e88-d147-7e424b6bfd8f"
      },
      "outputs": [
        {
          "output_type": "display_data",
          "data": {
            "text/html": [
              "<html>\n",
              "<head><meta charset=\"utf-8\" /></head>\n",
              "<body>\n",
              "    <div>            <script src=\"https://cdnjs.cloudflare.com/ajax/libs/mathjax/2.7.5/MathJax.js?config=TeX-AMS-MML_SVG\"></script><script type=\"text/javascript\">if (window.MathJax && window.MathJax.Hub && window.MathJax.Hub.Config) {window.MathJax.Hub.Config({SVG: {font: \"STIX-Web\"}});}</script>                <script type=\"text/javascript\">window.PlotlyConfig = {MathJaxConfig: 'local'};</script>\n",
              "        <script src=\"https://cdn.plot.ly/plotly-2.18.2.min.js\"></script>                <div id=\"5e7af86e-8db3-4b22-8bd0-460c7b9dff33\" class=\"plotly-graph-div\" style=\"height:525px; width:100%;\"></div>            <script type=\"text/javascript\">                                    window.PLOTLYENV=window.PLOTLYENV || {};                                    if (document.getElementById(\"5e7af86e-8db3-4b22-8bd0-460c7b9dff33\")) {                    Plotly.newPlot(                        \"5e7af86e-8db3-4b22-8bd0-460c7b9dff33\",                        [{\"dimensions\":[{\"label\":\"Objective Value\",\"range\":[0.5533122191827168,0.7881826391401789],\"values\":[0.5785231379212462,0.7743552367999138,0.7376414355643414,0.7251602248259171,0.7584843717478993,0.5533122191827168,0.7435092652005731,0.7395500579456082,0.7180511506899148,0.7626317032610018,0.7864553523082907,0.7881826391401789,0.7835312067164669,0.7756499629865332,0.7750650043603922,0.7694087555421056,0.69423065280061,0.7760333778587731,0.7807374509389317,0.7673979365384067,0.7742222357946771,0.781572495652024,0.7709681031052105,0.7815031781273861,0.7706475887094779,0.7881095051288751,0.7745065673150323,0.786387897483892,0.7715353159082792,0.766518474344433]},{\"label\":\"svc__C\",\"range\":[-0.8434261780699597,1.9927771227222324],\"ticktext\":[\"0.143\",\"1\",\"10\",\"98.4\"],\"tickvals\":[-0.8434261780699597,0,1,1.9927771227222324],\"values\":[-0.8434261780699597,1.961945744428264,0.12295615476644871,-0.5559801075844797,1.3075270422372425,-0.24763023269176856,1.197533255315952,1.3733072245732996,1.0195269656848522,1.7022034137444861,1.9909807326524214,1.9296359074576714,1.9927771227222324,0.7825259117649883,0.5462569127360917,1.5440575360755802,1.6707114159582892,1.7694014558251376,1.0805148933144801,1.9826876991443136,1.461977349985372,1.941890852477593,1.6700389114213257,1.9863865761836765,1.4688220147641404,1.7374831916984894,0.9775557149232403,1.716283218146876,1.2882035853563258,1.5470094442667934]},{\"label\":\"svc__gamma\",\"range\":[-2.971449118709642,-0.0022548108544079033],\"ticktext\":[\"0.00107\",\"0.01\",\"0.1\",\"0.995\"],\"tickvals\":[-2.971449118709642,-2,-1,-0.0022548108544079033],\"values\":[-1.6417836648285544,-0.5066394634677468,-0.8227606226783526,-0.3560563523276995,-1.1179322287301003,-2.342582586140772,-1.5643676860599607,-1.7674527507079383,-1.9163283533167292,-1.098411141880622,-0.11746292207844498,-0.04621050184138257,-0.18608237322280594,-0.07270599629169412,-0.0164438897904361,-0.6288936606770278,-2.971449118709642,-0.38143215107904727,-0.0022548108544079033,-0.8895138640709701,-0.3442081702729042,-0.22168372943014647,-0.6235923611068099,-0.22569897812528444,-0.5427156879832828,-0.002256692152215802,-0.20564180824395314,-0.03363526721122394,-0.42604132744155837,-0.7446844254089451]}],\"labelangle\":30,\"labelside\":\"bottom\",\"line\":{\"color\":[0.5785231379212462,0.7743552367999138,0.7376414355643414,0.7251602248259171,0.7584843717478993,0.5533122191827168,0.7435092652005731,0.7395500579456082,0.7180511506899148,0.7626317032610018,0.7864553523082907,0.7881826391401789,0.7835312067164669,0.7756499629865332,0.7750650043603922,0.7694087555421056,0.69423065280061,0.7760333778587731,0.7807374509389317,0.7673979365384067,0.7742222357946771,0.781572495652024,0.7709681031052105,0.7815031781273861,0.7706475887094779,0.7881095051288751,0.7745065673150323,0.786387897483892,0.7715353159082792,0.766518474344433],\"colorbar\":{\"title\":{\"text\":\"Objective Value\"}},\"colorscale\":[[0.0,\"rgb(247,251,255)\"],[0.125,\"rgb(222,235,247)\"],[0.25,\"rgb(198,219,239)\"],[0.375,\"rgb(158,202,225)\"],[0.5,\"rgb(107,174,214)\"],[0.625,\"rgb(66,146,198)\"],[0.75,\"rgb(33,113,181)\"],[0.875,\"rgb(8,81,156)\"],[1.0,\"rgb(8,48,107)\"]],\"reversescale\":false,\"showscale\":true},\"type\":\"parcoords\"}],                        {\"title\":{\"text\":\"Parallel Coordinate Plot\"},\"template\":{\"data\":{\"histogram2dcontour\":[{\"type\":\"histogram2dcontour\",\"colorbar\":{\"outlinewidth\":0,\"ticks\":\"\"},\"colorscale\":[[0.0,\"#0d0887\"],[0.1111111111111111,\"#46039f\"],[0.2222222222222222,\"#7201a8\"],[0.3333333333333333,\"#9c179e\"],[0.4444444444444444,\"#bd3786\"],[0.5555555555555556,\"#d8576b\"],[0.6666666666666666,\"#ed7953\"],[0.7777777777777778,\"#fb9f3a\"],[0.8888888888888888,\"#fdca26\"],[1.0,\"#f0f921\"]]}],\"choropleth\":[{\"type\":\"choropleth\",\"colorbar\":{\"outlinewidth\":0,\"ticks\":\"\"}}],\"histogram2d\":[{\"type\":\"histogram2d\",\"colorbar\":{\"outlinewidth\":0,\"ticks\":\"\"},\"colorscale\":[[0.0,\"#0d0887\"],[0.1111111111111111,\"#46039f\"],[0.2222222222222222,\"#7201a8\"],[0.3333333333333333,\"#9c179e\"],[0.4444444444444444,\"#bd3786\"],[0.5555555555555556,\"#d8576b\"],[0.6666666666666666,\"#ed7953\"],[0.7777777777777778,\"#fb9f3a\"],[0.8888888888888888,\"#fdca26\"],[1.0,\"#f0f921\"]]}],\"heatmap\":[{\"type\":\"heatmap\",\"colorbar\":{\"outlinewidth\":0,\"ticks\":\"\"},\"colorscale\":[[0.0,\"#0d0887\"],[0.1111111111111111,\"#46039f\"],[0.2222222222222222,\"#7201a8\"],[0.3333333333333333,\"#9c179e\"],[0.4444444444444444,\"#bd3786\"],[0.5555555555555556,\"#d8576b\"],[0.6666666666666666,\"#ed7953\"],[0.7777777777777778,\"#fb9f3a\"],[0.8888888888888888,\"#fdca26\"],[1.0,\"#f0f921\"]]}],\"heatmapgl\":[{\"type\":\"heatmapgl\",\"colorbar\":{\"outlinewidth\":0,\"ticks\":\"\"},\"colorscale\":[[0.0,\"#0d0887\"],[0.1111111111111111,\"#46039f\"],[0.2222222222222222,\"#7201a8\"],[0.3333333333333333,\"#9c179e\"],[0.4444444444444444,\"#bd3786\"],[0.5555555555555556,\"#d8576b\"],[0.6666666666666666,\"#ed7953\"],[0.7777777777777778,\"#fb9f3a\"],[0.8888888888888888,\"#fdca26\"],[1.0,\"#f0f921\"]]}],\"contourcarpet\":[{\"type\":\"contourcarpet\",\"colorbar\":{\"outlinewidth\":0,\"ticks\":\"\"}}],\"contour\":[{\"type\":\"contour\",\"colorbar\":{\"outlinewidth\":0,\"ticks\":\"\"},\"colorscale\":[[0.0,\"#0d0887\"],[0.1111111111111111,\"#46039f\"],[0.2222222222222222,\"#7201a8\"],[0.3333333333333333,\"#9c179e\"],[0.4444444444444444,\"#bd3786\"],[0.5555555555555556,\"#d8576b\"],[0.6666666666666666,\"#ed7953\"],[0.7777777777777778,\"#fb9f3a\"],[0.8888888888888888,\"#fdca26\"],[1.0,\"#f0f921\"]]}],\"surface\":[{\"type\":\"surface\",\"colorbar\":{\"outlinewidth\":0,\"ticks\":\"\"},\"colorscale\":[[0.0,\"#0d0887\"],[0.1111111111111111,\"#46039f\"],[0.2222222222222222,\"#7201a8\"],[0.3333333333333333,\"#9c179e\"],[0.4444444444444444,\"#bd3786\"],[0.5555555555555556,\"#d8576b\"],[0.6666666666666666,\"#ed7953\"],[0.7777777777777778,\"#fb9f3a\"],[0.8888888888888888,\"#fdca26\"],[1.0,\"#f0f921\"]]}],\"mesh3d\":[{\"type\":\"mesh3d\",\"colorbar\":{\"outlinewidth\":0,\"ticks\":\"\"}}],\"scatter\":[{\"fillpattern\":{\"fillmode\":\"overlay\",\"size\":10,\"solidity\":0.2},\"type\":\"scatter\"}],\"parcoords\":[{\"type\":\"parcoords\",\"line\":{\"colorbar\":{\"outlinewidth\":0,\"ticks\":\"\"}}}],\"scatterpolargl\":[{\"type\":\"scatterpolargl\",\"marker\":{\"colorbar\":{\"outlinewidth\":0,\"ticks\":\"\"}}}],\"bar\":[{\"error_x\":{\"color\":\"#2a3f5f\"},\"error_y\":{\"color\":\"#2a3f5f\"},\"marker\":{\"line\":{\"color\":\"#E5ECF6\",\"width\":0.5},\"pattern\":{\"fillmode\":\"overlay\",\"size\":10,\"solidity\":0.2}},\"type\":\"bar\"}],\"scattergeo\":[{\"type\":\"scattergeo\",\"marker\":{\"colorbar\":{\"outlinewidth\":0,\"ticks\":\"\"}}}],\"scatterpolar\":[{\"type\":\"scatterpolar\",\"marker\":{\"colorbar\":{\"outlinewidth\":0,\"ticks\":\"\"}}}],\"histogram\":[{\"marker\":{\"pattern\":{\"fillmode\":\"overlay\",\"size\":10,\"solidity\":0.2}},\"type\":\"histogram\"}],\"scattergl\":[{\"type\":\"scattergl\",\"marker\":{\"colorbar\":{\"outlinewidth\":0,\"ticks\":\"\"}}}],\"scatter3d\":[{\"type\":\"scatter3d\",\"line\":{\"colorbar\":{\"outlinewidth\":0,\"ticks\":\"\"}},\"marker\":{\"colorbar\":{\"outlinewidth\":0,\"ticks\":\"\"}}}],\"scattermapbox\":[{\"type\":\"scattermapbox\",\"marker\":{\"colorbar\":{\"outlinewidth\":0,\"ticks\":\"\"}}}],\"scatterternary\":[{\"type\":\"scatterternary\",\"marker\":{\"colorbar\":{\"outlinewidth\":0,\"ticks\":\"\"}}}],\"scattercarpet\":[{\"type\":\"scattercarpet\",\"marker\":{\"colorbar\":{\"outlinewidth\":0,\"ticks\":\"\"}}}],\"carpet\":[{\"aaxis\":{\"endlinecolor\":\"#2a3f5f\",\"gridcolor\":\"white\",\"linecolor\":\"white\",\"minorgridcolor\":\"white\",\"startlinecolor\":\"#2a3f5f\"},\"baxis\":{\"endlinecolor\":\"#2a3f5f\",\"gridcolor\":\"white\",\"linecolor\":\"white\",\"minorgridcolor\":\"white\",\"startlinecolor\":\"#2a3f5f\"},\"type\":\"carpet\"}],\"table\":[{\"cells\":{\"fill\":{\"color\":\"#EBF0F8\"},\"line\":{\"color\":\"white\"}},\"header\":{\"fill\":{\"color\":\"#C8D4E3\"},\"line\":{\"color\":\"white\"}},\"type\":\"table\"}],\"barpolar\":[{\"marker\":{\"line\":{\"color\":\"#E5ECF6\",\"width\":0.5},\"pattern\":{\"fillmode\":\"overlay\",\"size\":10,\"solidity\":0.2}},\"type\":\"barpolar\"}],\"pie\":[{\"automargin\":true,\"type\":\"pie\"}]},\"layout\":{\"autotypenumbers\":\"strict\",\"colorway\":[\"#636efa\",\"#EF553B\",\"#00cc96\",\"#ab63fa\",\"#FFA15A\",\"#19d3f3\",\"#FF6692\",\"#B6E880\",\"#FF97FF\",\"#FECB52\"],\"font\":{\"color\":\"#2a3f5f\"},\"hovermode\":\"closest\",\"hoverlabel\":{\"align\":\"left\"},\"paper_bgcolor\":\"white\",\"plot_bgcolor\":\"#E5ECF6\",\"polar\":{\"bgcolor\":\"#E5ECF6\",\"angularaxis\":{\"gridcolor\":\"white\",\"linecolor\":\"white\",\"ticks\":\"\"},\"radialaxis\":{\"gridcolor\":\"white\",\"linecolor\":\"white\",\"ticks\":\"\"}},\"ternary\":{\"bgcolor\":\"#E5ECF6\",\"aaxis\":{\"gridcolor\":\"white\",\"linecolor\":\"white\",\"ticks\":\"\"},\"baxis\":{\"gridcolor\":\"white\",\"linecolor\":\"white\",\"ticks\":\"\"},\"caxis\":{\"gridcolor\":\"white\",\"linecolor\":\"white\",\"ticks\":\"\"}},\"coloraxis\":{\"colorbar\":{\"outlinewidth\":0,\"ticks\":\"\"}},\"colorscale\":{\"sequential\":[[0.0,\"#0d0887\"],[0.1111111111111111,\"#46039f\"],[0.2222222222222222,\"#7201a8\"],[0.3333333333333333,\"#9c179e\"],[0.4444444444444444,\"#bd3786\"],[0.5555555555555556,\"#d8576b\"],[0.6666666666666666,\"#ed7953\"],[0.7777777777777778,\"#fb9f3a\"],[0.8888888888888888,\"#fdca26\"],[1.0,\"#f0f921\"]],\"sequentialminus\":[[0.0,\"#0d0887\"],[0.1111111111111111,\"#46039f\"],[0.2222222222222222,\"#7201a8\"],[0.3333333333333333,\"#9c179e\"],[0.4444444444444444,\"#bd3786\"],[0.5555555555555556,\"#d8576b\"],[0.6666666666666666,\"#ed7953\"],[0.7777777777777778,\"#fb9f3a\"],[0.8888888888888888,\"#fdca26\"],[1.0,\"#f0f921\"]],\"diverging\":[[0,\"#8e0152\"],[0.1,\"#c51b7d\"],[0.2,\"#de77ae\"],[0.3,\"#f1b6da\"],[0.4,\"#fde0ef\"],[0.5,\"#f7f7f7\"],[0.6,\"#e6f5d0\"],[0.7,\"#b8e186\"],[0.8,\"#7fbc41\"],[0.9,\"#4d9221\"],[1,\"#276419\"]]},\"xaxis\":{\"gridcolor\":\"white\",\"linecolor\":\"white\",\"ticks\":\"\",\"title\":{\"standoff\":15},\"zerolinecolor\":\"white\",\"automargin\":true,\"zerolinewidth\":2},\"yaxis\":{\"gridcolor\":\"white\",\"linecolor\":\"white\",\"ticks\":\"\",\"title\":{\"standoff\":15},\"zerolinecolor\":\"white\",\"automargin\":true,\"zerolinewidth\":2},\"scene\":{\"xaxis\":{\"backgroundcolor\":\"#E5ECF6\",\"gridcolor\":\"white\",\"linecolor\":\"white\",\"showbackground\":true,\"ticks\":\"\",\"zerolinecolor\":\"white\",\"gridwidth\":2},\"yaxis\":{\"backgroundcolor\":\"#E5ECF6\",\"gridcolor\":\"white\",\"linecolor\":\"white\",\"showbackground\":true,\"ticks\":\"\",\"zerolinecolor\":\"white\",\"gridwidth\":2},\"zaxis\":{\"backgroundcolor\":\"#E5ECF6\",\"gridcolor\":\"white\",\"linecolor\":\"white\",\"showbackground\":true,\"ticks\":\"\",\"zerolinecolor\":\"white\",\"gridwidth\":2}},\"shapedefaults\":{\"line\":{\"color\":\"#2a3f5f\"}},\"annotationdefaults\":{\"arrowcolor\":\"#2a3f5f\",\"arrowhead\":0,\"arrowwidth\":1},\"geo\":{\"bgcolor\":\"white\",\"landcolor\":\"#E5ECF6\",\"subunitcolor\":\"white\",\"showland\":true,\"showlakes\":true,\"lakecolor\":\"white\"},\"title\":{\"x\":0.05},\"mapbox\":{\"style\":\"light\"}}}},                        {\"responsive\": true}                    ).then(function(){\n",
              "                            \n",
              "var gd = document.getElementById('5e7af86e-8db3-4b22-8bd0-460c7b9dff33');\n",
              "var x = new MutationObserver(function (mutations, observer) {{\n",
              "        var display = window.getComputedStyle(gd).display;\n",
              "        if (!display || display === 'none') {{\n",
              "            console.log([gd, 'removed!']);\n",
              "            Plotly.purge(gd);\n",
              "            observer.disconnect();\n",
              "        }}\n",
              "}});\n",
              "\n",
              "// Listen for the removal of the full notebook cells\n",
              "var notebookContainer = gd.closest('#notebook-container');\n",
              "if (notebookContainer) {{\n",
              "    x.observe(notebookContainer, {childList: true});\n",
              "}}\n",
              "\n",
              "// Listen for the clearing of the current output cell\n",
              "var outputEl = gd.closest('.output');\n",
              "if (outputEl) {{\n",
              "    x.observe(outputEl, {childList: true});\n",
              "}}\n",
              "\n",
              "                        })                };                            </script>        </div>\n",
              "</body>\n",
              "</html>"
            ]
          },
          "metadata": {}
        }
      ],
      "source": [
        "from optuna.visualization import plot_parallel_coordinate\n",
        "plot_parallel_coordinate(study)"
      ],
      "id": "yIx1n4T0VP-n"
    },
    {
      "cell_type": "code",
      "execution_count": null,
      "metadata": {
        "colab": {
          "base_uri": "https://localhost:8080/",
          "height": 562
        },
        "id": "Vof3ChhHVXf8",
        "outputId": "ad5877ca-830a-4dc3-cd3a-5e1518a88303"
      },
      "outputs": [
        {
          "data": {
            "text/html": [
              "<html>\n",
              "<head><meta charset=\"utf-8\" /></head>\n",
              "<body>\n",
              "    <div>            <script src=\"https://cdnjs.cloudflare.com/ajax/libs/mathjax/2.7.5/MathJax.js?config=TeX-AMS-MML_SVG\"></script><script type=\"text/javascript\">if (window.MathJax && window.MathJax.Hub && window.MathJax.Hub.Config) {window.MathJax.Hub.Config({SVG: {font: \"STIX-Web\"}});}</script>                <script type=\"text/javascript\">window.PlotlyConfig = {MathJaxConfig: 'local'};</script>\n",
              "        <script src=\"https://cdn.plot.ly/plotly-2.18.2.min.js\"></script>                <div id=\"adcc0072-2e6e-493d-8b82-c2bcff635193\" class=\"plotly-graph-div\" style=\"height:525px; width:100%;\"></div>            <script type=\"text/javascript\">                                    window.PLOTLYENV=window.PLOTLYENV || {};                                    if (document.getElementById(\"adcc0072-2e6e-493d-8b82-c2bcff635193\")) {                    Plotly.newPlot(                        \"adcc0072-2e6e-493d-8b82-c2bcff635193\",                        [{\"cliponaxis\":false,\"hovertemplate\":[\"svc__C (FloatDistribution): 0.41580581195521815<extra></extra>\",\"svc__gamma (FloatDistribution): 0.5841941880447818<extra></extra>\"],\"marker\":{\"color\":\"rgb(66,146,198)\"},\"orientation\":\"h\",\"text\":[\"0.42\",\"0.58\"],\"textposition\":\"outside\",\"x\":[0.41580581195521815,0.5841941880447818],\"y\":[\"svc__C\",\"svc__gamma\"],\"type\":\"bar\"}],                        {\"showlegend\":false,\"title\":{\"text\":\"Hyperparameter Importances\"},\"xaxis\":{\"title\":{\"text\":\"Importance for Objective Value\"}},\"yaxis\":{\"title\":{\"text\":\"Hyperparameter\"}},\"template\":{\"data\":{\"histogram2dcontour\":[{\"type\":\"histogram2dcontour\",\"colorbar\":{\"outlinewidth\":0,\"ticks\":\"\"},\"colorscale\":[[0.0,\"#0d0887\"],[0.1111111111111111,\"#46039f\"],[0.2222222222222222,\"#7201a8\"],[0.3333333333333333,\"#9c179e\"],[0.4444444444444444,\"#bd3786\"],[0.5555555555555556,\"#d8576b\"],[0.6666666666666666,\"#ed7953\"],[0.7777777777777778,\"#fb9f3a\"],[0.8888888888888888,\"#fdca26\"],[1.0,\"#f0f921\"]]}],\"choropleth\":[{\"type\":\"choropleth\",\"colorbar\":{\"outlinewidth\":0,\"ticks\":\"\"}}],\"histogram2d\":[{\"type\":\"histogram2d\",\"colorbar\":{\"outlinewidth\":0,\"ticks\":\"\"},\"colorscale\":[[0.0,\"#0d0887\"],[0.1111111111111111,\"#46039f\"],[0.2222222222222222,\"#7201a8\"],[0.3333333333333333,\"#9c179e\"],[0.4444444444444444,\"#bd3786\"],[0.5555555555555556,\"#d8576b\"],[0.6666666666666666,\"#ed7953\"],[0.7777777777777778,\"#fb9f3a\"],[0.8888888888888888,\"#fdca26\"],[1.0,\"#f0f921\"]]}],\"heatmap\":[{\"type\":\"heatmap\",\"colorbar\":{\"outlinewidth\":0,\"ticks\":\"\"},\"colorscale\":[[0.0,\"#0d0887\"],[0.1111111111111111,\"#46039f\"],[0.2222222222222222,\"#7201a8\"],[0.3333333333333333,\"#9c179e\"],[0.4444444444444444,\"#bd3786\"],[0.5555555555555556,\"#d8576b\"],[0.6666666666666666,\"#ed7953\"],[0.7777777777777778,\"#fb9f3a\"],[0.8888888888888888,\"#fdca26\"],[1.0,\"#f0f921\"]]}],\"heatmapgl\":[{\"type\":\"heatmapgl\",\"colorbar\":{\"outlinewidth\":0,\"ticks\":\"\"},\"colorscale\":[[0.0,\"#0d0887\"],[0.1111111111111111,\"#46039f\"],[0.2222222222222222,\"#7201a8\"],[0.3333333333333333,\"#9c179e\"],[0.4444444444444444,\"#bd3786\"],[0.5555555555555556,\"#d8576b\"],[0.6666666666666666,\"#ed7953\"],[0.7777777777777778,\"#fb9f3a\"],[0.8888888888888888,\"#fdca26\"],[1.0,\"#f0f921\"]]}],\"contourcarpet\":[{\"type\":\"contourcarpet\",\"colorbar\":{\"outlinewidth\":0,\"ticks\":\"\"}}],\"contour\":[{\"type\":\"contour\",\"colorbar\":{\"outlinewidth\":0,\"ticks\":\"\"},\"colorscale\":[[0.0,\"#0d0887\"],[0.1111111111111111,\"#46039f\"],[0.2222222222222222,\"#7201a8\"],[0.3333333333333333,\"#9c179e\"],[0.4444444444444444,\"#bd3786\"],[0.5555555555555556,\"#d8576b\"],[0.6666666666666666,\"#ed7953\"],[0.7777777777777778,\"#fb9f3a\"],[0.8888888888888888,\"#fdca26\"],[1.0,\"#f0f921\"]]}],\"surface\":[{\"type\":\"surface\",\"colorbar\":{\"outlinewidth\":0,\"ticks\":\"\"},\"colorscale\":[[0.0,\"#0d0887\"],[0.1111111111111111,\"#46039f\"],[0.2222222222222222,\"#7201a8\"],[0.3333333333333333,\"#9c179e\"],[0.4444444444444444,\"#bd3786\"],[0.5555555555555556,\"#d8576b\"],[0.6666666666666666,\"#ed7953\"],[0.7777777777777778,\"#fb9f3a\"],[0.8888888888888888,\"#fdca26\"],[1.0,\"#f0f921\"]]}],\"mesh3d\":[{\"type\":\"mesh3d\",\"colorbar\":{\"outlinewidth\":0,\"ticks\":\"\"}}],\"scatter\":[{\"fillpattern\":{\"fillmode\":\"overlay\",\"size\":10,\"solidity\":0.2},\"type\":\"scatter\"}],\"parcoords\":[{\"type\":\"parcoords\",\"line\":{\"colorbar\":{\"outlinewidth\":0,\"ticks\":\"\"}}}],\"scatterpolargl\":[{\"type\":\"scatterpolargl\",\"marker\":{\"colorbar\":{\"outlinewidth\":0,\"ticks\":\"\"}}}],\"bar\":[{\"error_x\":{\"color\":\"#2a3f5f\"},\"error_y\":{\"color\":\"#2a3f5f\"},\"marker\":{\"line\":{\"color\":\"#E5ECF6\",\"width\":0.5},\"pattern\":{\"fillmode\":\"overlay\",\"size\":10,\"solidity\":0.2}},\"type\":\"bar\"}],\"scattergeo\":[{\"type\":\"scattergeo\",\"marker\":{\"colorbar\":{\"outlinewidth\":0,\"ticks\":\"\"}}}],\"scatterpolar\":[{\"type\":\"scatterpolar\",\"marker\":{\"colorbar\":{\"outlinewidth\":0,\"ticks\":\"\"}}}],\"histogram\":[{\"marker\":{\"pattern\":{\"fillmode\":\"overlay\",\"size\":10,\"solidity\":0.2}},\"type\":\"histogram\"}],\"scattergl\":[{\"type\":\"scattergl\",\"marker\":{\"colorbar\":{\"outlinewidth\":0,\"ticks\":\"\"}}}],\"scatter3d\":[{\"type\":\"scatter3d\",\"line\":{\"colorbar\":{\"outlinewidth\":0,\"ticks\":\"\"}},\"marker\":{\"colorbar\":{\"outlinewidth\":0,\"ticks\":\"\"}}}],\"scattermapbox\":[{\"type\":\"scattermapbox\",\"marker\":{\"colorbar\":{\"outlinewidth\":0,\"ticks\":\"\"}}}],\"scatterternary\":[{\"type\":\"scatterternary\",\"marker\":{\"colorbar\":{\"outlinewidth\":0,\"ticks\":\"\"}}}],\"scattercarpet\":[{\"type\":\"scattercarpet\",\"marker\":{\"colorbar\":{\"outlinewidth\":0,\"ticks\":\"\"}}}],\"carpet\":[{\"aaxis\":{\"endlinecolor\":\"#2a3f5f\",\"gridcolor\":\"white\",\"linecolor\":\"white\",\"minorgridcolor\":\"white\",\"startlinecolor\":\"#2a3f5f\"},\"baxis\":{\"endlinecolor\":\"#2a3f5f\",\"gridcolor\":\"white\",\"linecolor\":\"white\",\"minorgridcolor\":\"white\",\"startlinecolor\":\"#2a3f5f\"},\"type\":\"carpet\"}],\"table\":[{\"cells\":{\"fill\":{\"color\":\"#EBF0F8\"},\"line\":{\"color\":\"white\"}},\"header\":{\"fill\":{\"color\":\"#C8D4E3\"},\"line\":{\"color\":\"white\"}},\"type\":\"table\"}],\"barpolar\":[{\"marker\":{\"line\":{\"color\":\"#E5ECF6\",\"width\":0.5},\"pattern\":{\"fillmode\":\"overlay\",\"size\":10,\"solidity\":0.2}},\"type\":\"barpolar\"}],\"pie\":[{\"automargin\":true,\"type\":\"pie\"}]},\"layout\":{\"autotypenumbers\":\"strict\",\"colorway\":[\"#636efa\",\"#EF553B\",\"#00cc96\",\"#ab63fa\",\"#FFA15A\",\"#19d3f3\",\"#FF6692\",\"#B6E880\",\"#FF97FF\",\"#FECB52\"],\"font\":{\"color\":\"#2a3f5f\"},\"hovermode\":\"closest\",\"hoverlabel\":{\"align\":\"left\"},\"paper_bgcolor\":\"white\",\"plot_bgcolor\":\"#E5ECF6\",\"polar\":{\"bgcolor\":\"#E5ECF6\",\"angularaxis\":{\"gridcolor\":\"white\",\"linecolor\":\"white\",\"ticks\":\"\"},\"radialaxis\":{\"gridcolor\":\"white\",\"linecolor\":\"white\",\"ticks\":\"\"}},\"ternary\":{\"bgcolor\":\"#E5ECF6\",\"aaxis\":{\"gridcolor\":\"white\",\"linecolor\":\"white\",\"ticks\":\"\"},\"baxis\":{\"gridcolor\":\"white\",\"linecolor\":\"white\",\"ticks\":\"\"},\"caxis\":{\"gridcolor\":\"white\",\"linecolor\":\"white\",\"ticks\":\"\"}},\"coloraxis\":{\"colorbar\":{\"outlinewidth\":0,\"ticks\":\"\"}},\"colorscale\":{\"sequential\":[[0.0,\"#0d0887\"],[0.1111111111111111,\"#46039f\"],[0.2222222222222222,\"#7201a8\"],[0.3333333333333333,\"#9c179e\"],[0.4444444444444444,\"#bd3786\"],[0.5555555555555556,\"#d8576b\"],[0.6666666666666666,\"#ed7953\"],[0.7777777777777778,\"#fb9f3a\"],[0.8888888888888888,\"#fdca26\"],[1.0,\"#f0f921\"]],\"sequentialminus\":[[0.0,\"#0d0887\"],[0.1111111111111111,\"#46039f\"],[0.2222222222222222,\"#7201a8\"],[0.3333333333333333,\"#9c179e\"],[0.4444444444444444,\"#bd3786\"],[0.5555555555555556,\"#d8576b\"],[0.6666666666666666,\"#ed7953\"],[0.7777777777777778,\"#fb9f3a\"],[0.8888888888888888,\"#fdca26\"],[1.0,\"#f0f921\"]],\"diverging\":[[0,\"#8e0152\"],[0.1,\"#c51b7d\"],[0.2,\"#de77ae\"],[0.3,\"#f1b6da\"],[0.4,\"#fde0ef\"],[0.5,\"#f7f7f7\"],[0.6,\"#e6f5d0\"],[0.7,\"#b8e186\"],[0.8,\"#7fbc41\"],[0.9,\"#4d9221\"],[1,\"#276419\"]]},\"xaxis\":{\"gridcolor\":\"white\",\"linecolor\":\"white\",\"ticks\":\"\",\"title\":{\"standoff\":15},\"zerolinecolor\":\"white\",\"automargin\":true,\"zerolinewidth\":2},\"yaxis\":{\"gridcolor\":\"white\",\"linecolor\":\"white\",\"ticks\":\"\",\"title\":{\"standoff\":15},\"zerolinecolor\":\"white\",\"automargin\":true,\"zerolinewidth\":2},\"scene\":{\"xaxis\":{\"backgroundcolor\":\"#E5ECF6\",\"gridcolor\":\"white\",\"linecolor\":\"white\",\"showbackground\":true,\"ticks\":\"\",\"zerolinecolor\":\"white\",\"gridwidth\":2},\"yaxis\":{\"backgroundcolor\":\"#E5ECF6\",\"gridcolor\":\"white\",\"linecolor\":\"white\",\"showbackground\":true,\"ticks\":\"\",\"zerolinecolor\":\"white\",\"gridwidth\":2},\"zaxis\":{\"backgroundcolor\":\"#E5ECF6\",\"gridcolor\":\"white\",\"linecolor\":\"white\",\"showbackground\":true,\"ticks\":\"\",\"zerolinecolor\":\"white\",\"gridwidth\":2}},\"shapedefaults\":{\"line\":{\"color\":\"#2a3f5f\"}},\"annotationdefaults\":{\"arrowcolor\":\"#2a3f5f\",\"arrowhead\":0,\"arrowwidth\":1},\"geo\":{\"bgcolor\":\"white\",\"landcolor\":\"#E5ECF6\",\"subunitcolor\":\"white\",\"showland\":true,\"showlakes\":true,\"lakecolor\":\"white\"},\"title\":{\"x\":0.05},\"mapbox\":{\"style\":\"light\"}}}},                        {\"responsive\": true}                    ).then(function(){\n",
              "                            \n",
              "var gd = document.getElementById('adcc0072-2e6e-493d-8b82-c2bcff635193');\n",
              "var x = new MutationObserver(function (mutations, observer) {{\n",
              "        var display = window.getComputedStyle(gd).display;\n",
              "        if (!display || display === 'none') {{\n",
              "            console.log([gd, 'removed!']);\n",
              "            Plotly.purge(gd);\n",
              "            observer.disconnect();\n",
              "        }}\n",
              "}});\n",
              "\n",
              "// Listen for the removal of the full notebook cells\n",
              "var notebookContainer = gd.closest('#notebook-container');\n",
              "if (notebookContainer) {{\n",
              "    x.observe(notebookContainer, {childList: true});\n",
              "}}\n",
              "\n",
              "// Listen for the clearing of the current output cell\n",
              "var outputEl = gd.closest('.output');\n",
              "if (outputEl) {{\n",
              "    x.observe(outputEl, {childList: true});\n",
              "}}\n",
              "\n",
              "                        })                };                            </script>        </div>\n",
              "</body>\n",
              "</html>"
            ]
          },
          "metadata": {},
          "output_type": "display_data"
        }
      ],
      "source": [
        "from optuna.visualization import plot_param_importances\n",
        "plot_param_importances(study)"
      ],
      "id": "Vof3ChhHVXf8"
    },
    {
      "cell_type": "code",
      "execution_count": null,
      "metadata": {
        "colab": {
          "base_uri": "https://localhost:8080/"
        },
        "id": "h8vTOBMqYyS5",
        "outputId": "e60482dc-dbaf-463d-b6e6-5982e086ac65"
      },
      "outputs": [
        {
          "name": "stdout",
          "output_type": "stream",
          "text": [
            "Accuracy: 0.7849027287003241\n",
            "time 59.91516923904419\n"
          ]
        }
      ],
      "source": [
        "rs=NIA\n",
        "svc = svm.SVC(random_state=rs)\n",
        "classif=Pipeline([('preprocessor',preprocessor1),('svc',svc)])\n",
        "classif.set_params(**study.best_params)\n",
        "(bacopt2, tiempo)=default_hp(classif, X_train, y_train, X_test, y_test)"
      ],
      "id": "h8vTOBMqYyS5"
    },
    {
      "cell_type": "code",
      "execution_count": null,
      "metadata": {
        "colab": {
          "base_uri": "https://localhost:8080/"
        },
        "id": "64h-nkk1f_ID",
        "outputId": "5ae17145-ac02-4c70-dcfb-83c765245a32"
      },
      "outputs": [
        {
          "output_type": "stream",
          "name": "stdout",
          "text": [
            "Fitting 3 folds for each of 30 candidates, totalling 90 fits\n",
            "Accuracy:  0.7838542530518335\n",
            "Best hyper-parameters: {'svc__C': 58.4555281556, 'svc__gamma': 0.9555442889814889} and their score (inner evaluation): 0.7873088068761852\n",
            "time 2426.6965866088867\n"
          ]
        }
      ],
      "source": [
        "import time\n",
        "from sklearn import metrics\n",
        "from scipy.stats import loguniform\n",
        "from sklearn.model_selection import PredefinedSplit, RandomizedSearchCV\n",
        "from sklearn.model_selection import KFold\n",
        "rs=NIA\n",
        "svc = svm.SVC(random_state=rs)\n",
        "clf=Pipeline([('preprocessor1',preprocessor1),('svc',svc)])\n",
        "param_grid = {'svc__C': loguniform(0.1,100),\n",
        "              'svc__gamma': loguniform(0.001,1)}\n",
        "(Accur2,best_params,inner_score,timer2)=default_RS(clf, X_train, y_train, X_test, y_test,param_grid,30)"
      ],
      "id": "64h-nkk1f_ID"
    },
    {
      "cell_type": "markdown",
      "metadata": {
        "id": "QHh5vUbhAXYU"
      },
      "source": [
        "### Hist Gradient Boosting"
      ],
      "id": "QHh5vUbhAXYU"
    },
    {
      "cell_type": "code",
      "execution_count": null,
      "metadata": {
        "id": "wjGa18C25ZYx",
        "colab": {
          "base_uri": "https://localhost:8080/"
        },
        "outputId": "4dc094cb-5b82-4d01-b2a1-bae6a30a5849"
      },
      "outputs": [
        {
          "output_type": "stream",
          "name": "stderr",
          "text": [
            "[I 2023-05-30 22:28:49,908] A new study created in memory with name: no-name-0cccdf41-c6cc-493a-b294-da314e8deed0\n",
            "[I 2023-05-30 22:28:53,774] Trial 0 finished with value: 0.8951935300804159 and parameters: {'hgb__max_depth': 17, 'hgb__learning_rate': 0.5187892210636453}. Best is trial 0 with value: 0.8951935300804159.\n",
            "[I 2023-05-30 22:28:54,865] Trial 1 finished with value: 0.8795579141865529 and parameters: {'hgb__max_depth': 25, 'hgb__learning_rate': 0.6857575333145391}. Best is trial 0 with value: 0.8951935300804159.\n",
            "[I 2023-05-30 22:28:56,504] Trial 2 finished with value: 0.8849030224964615 and parameters: {'hgb__max_depth': 5, 'hgb__learning_rate': 0.5446110534751253}. Best is trial 0 with value: 0.8951935300804159.\n",
            "[I 2023-05-30 22:28:58,666] Trial 3 finished with value: 0.8511811454306843 and parameters: {'hgb__max_depth': 19, 'hgb__learning_rate': 0.051585588987645266}. Best is trial 0 with value: 0.8951935300804159.\n",
            "[I 2023-05-30 22:29:00,165] Trial 4 finished with value: 0.8606051713217875 and parameters: {'hgb__max_depth': 4, 'hgb__learning_rate': 0.2471966677256481}. Best is trial 0 with value: 0.8951935300804159.\n",
            "[I 2023-05-30 22:29:03,291] Trial 5 finished with value: 0.8969339062413524 and parameters: {'hgb__max_depth': 24, 'hgb__learning_rate': 0.5158942400624256}. Best is trial 5 with value: 0.8969339062413524.\n",
            "[I 2023-05-30 22:29:05,326] Trial 6 finished with value: 0.8847281471985484 and parameters: {'hgb__max_depth': 25, 'hgb__learning_rate': 0.1811243030009065}. Best is trial 5 with value: 0.8969339062413524.\n",
            "[I 2023-05-30 22:29:06,931] Trial 7 finished with value: 0.8926055999432956 and parameters: {'hgb__max_depth': 23, 'hgb__learning_rate': 0.5140904957569585}. Best is trial 5 with value: 0.8969339062413524.\n",
            "[I 2023-05-30 22:29:08,573] Trial 8 finished with value: 0.8923140378628833 and parameters: {'hgb__max_depth': 14, 'hgb__learning_rate': 0.5465840359423981}. Best is trial 5 with value: 0.8969339062413524.\n",
            "[I 2023-05-30 22:29:10,054] Trial 9 finished with value: 0.8926187197700516 and parameters: {'hgb__max_depth': 19, 'hgb__learning_rate': 0.58822773731421}. Best is trial 5 with value: 0.8969339062413524.\n",
            "[I 2023-05-30 22:29:12,004] Trial 10 finished with value: 0.8963473344932592 and parameters: {'hgb__max_depth': 12, 'hgb__learning_rate': 0.39013485486672794}. Best is trial 5 with value: 0.8969339062413524.\n",
            "[I 2023-05-30 22:29:14,329] Trial 11 finished with value: 0.8955365722172909 and parameters: {'hgb__max_depth': 10, 'hgb__learning_rate': 0.38269320353157876}. Best is trial 5 with value: 0.8969339062413524.\n",
            "[I 2023-05-30 22:29:17,361] Trial 12 finished with value: 0.8927841524120552 and parameters: {'hgb__max_depth': 11, 'hgb__learning_rate': 0.3693826143978913}. Best is trial 5 with value: 0.8969339062413524.\n",
            "[I 2023-05-30 22:29:19,136] Trial 13 finished with value: 0.8950234293680227 and parameters: {'hgb__max_depth': 9, 'hgb__learning_rate': 0.42648093291629047}. Best is trial 5 with value: 0.8969339062413524.\n",
            "[I 2023-05-30 22:29:21,066] Trial 14 finished with value: 0.8929099064143973 and parameters: {'hgb__max_depth': 14, 'hgb__learning_rate': 0.2843444956412643}. Best is trial 5 with value: 0.8969339062413524.\n",
            "[I 2023-05-30 22:29:22,932] Trial 15 finished with value: 0.8931369945690579 and parameters: {'hgb__max_depth': 7, 'hgb__learning_rate': 0.4427373982435382}. Best is trial 5 with value: 0.8969339062413524.\n",
            "[I 2023-05-30 22:29:24,778] Trial 16 finished with value: 0.8928410333525908 and parameters: {'hgb__max_depth': 17, 'hgb__learning_rate': 0.3031099906408482}. Best is trial 5 with value: 0.8969339062413524.\n",
            "[I 2023-05-30 22:29:26,417] Trial 17 finished with value: 0.8931238490371977 and parameters: {'hgb__max_depth': 21, 'hgb__learning_rate': 0.4380797235526874}. Best is trial 5 with value: 0.8969339062413524.\n",
            "[I 2023-05-30 22:29:28,577] Trial 18 finished with value: 0.8912180749859084 and parameters: {'hgb__max_depth': 13, 'hgb__learning_rate': 0.6455173814589161}. Best is trial 5 with value: 0.8969339062413524.\n",
            "[I 2023-05-30 22:29:31,305] Trial 19 finished with value: 0.8950419616205737 and parameters: {'hgb__max_depth': 16, 'hgb__learning_rate': 0.46679831796050486}. Best is trial 5 with value: 0.8969339062413524.\n",
            "[I 2023-05-30 22:29:32,729] Trial 20 finished with value: 0.889813155629828 and parameters: {'hgb__max_depth': 7, 'hgb__learning_rate': 0.6028983424734655}. Best is trial 5 with value: 0.8969339062413524.\n",
            "[I 2023-05-30 22:29:34,628] Trial 21 finished with value: 0.8942124731197486 and parameters: {'hgb__max_depth': 11, 'hgb__learning_rate': 0.36659023903093807}. Best is trial 5 with value: 0.8969339062413524.\n",
            "[I 2023-05-30 22:29:36,398] Trial 22 finished with value: 0.8954234942463007 and parameters: {'hgb__max_depth': 9, 'hgb__learning_rate': 0.39401339008247127}. Best is trial 5 with value: 0.8969339062413524.\n",
            "[I 2023-05-30 22:29:38,230] Trial 23 finished with value: 0.8936723982731763 and parameters: {'hgb__max_depth': 12, 'hgb__learning_rate': 0.3221587968201755}. Best is trial 5 with value: 0.8969339062413524.\n",
            "[I 2023-05-30 22:29:40,025] Trial 24 finished with value: 0.8961033048736976 and parameters: {'hgb__max_depth': 9, 'hgb__learning_rate': 0.4745852679041542}. Best is trial 5 with value: 0.8969339062413524.\n",
            "[I 2023-05-30 22:29:42,019] Trial 25 finished with value: 0.8901657142521087 and parameters: {'hgb__max_depth': 7, 'hgb__learning_rate': 0.48439226945752933}. Best is trial 5 with value: 0.8969339062413524.\n",
            "[I 2023-05-30 22:29:44,596] Trial 26 finished with value: 0.8932985963341759 and parameters: {'hgb__max_depth': 15, 'hgb__learning_rate': 0.4835267122431182}. Best is trial 5 with value: 0.8969339062413524.\n",
            "[I 2023-05-30 22:29:46,139] Trial 27 finished with value: 0.8921965167700215 and parameters: {'hgb__max_depth': 20, 'hgb__learning_rate': 0.5795399352714916}. Best is trial 5 with value: 0.8969339062413524.\n",
            "[I 2023-05-30 22:29:47,261] Trial 28 finished with value: 0.8547202629476388 and parameters: {'hgb__max_depth': 3, 'hgb__learning_rate': 0.4157563200774033}. Best is trial 5 with value: 0.8969339062413524.\n",
            "[I 2023-05-30 22:29:48,666] Trial 29 finished with value: 0.889354591487241 and parameters: {'hgb__max_depth': 8, 'hgb__learning_rate': 0.5125404447229046}. Best is trial 5 with value: 0.8969339062413524.\n"
          ]
        },
        {
          "output_type": "stream",
          "name": "stdout",
          "text": [
            "time 58.76118779182434\n"
          ]
        }
      ],
      "source": [
        "from pickle import TRUE\n",
        "import optuna\n",
        "from optuna import trial\n",
        "from sklearn.model_selection import cross_val_score\n",
        "from sklearn.ensemble import HistGradientBoostingClassifier\n",
        "from sklearn.model_selection import StratifiedKFold\n",
        "inicio = time.time()\n",
        "rs=NIA\n",
        "np.random.seed(NIA)\n",
        "def objective(trial):\n",
        "    hgb__max_depth = trial.suggest_int('hgb__max_depth',3,25)\n",
        "    hgb__learning_rate = trial.suggest_float(\"hgb__learning_rate\",0.01,0.7)\n",
        "    classifier_obj = Pipeline([('hgb',HistGradientBoostingClassifier(max_depth=hgb__max_depth, learning_rate=hgb__learning_rate,random_state=rs))])\n",
        "\n",
        "    # Step 3: Scoring method:\n",
        "    score = cross_val_score(classifier_obj, X_train, y_train,scoring='balanced_accuracy', n_jobs=-1, cv=cv_inner)\n",
        "    accuracy = score.mean()\n",
        "    return accuracy\n",
        "\n",
        "# Step 4: Running it\n",
        "study = optuna.create_study(direction=\"maximize\")\n",
        "study.optimize(objective, n_trials=30)\n",
        "\n",
        "fin=time.time()\n",
        "print('time',fin-inicio)\n",
        "timeopt3=fin-inicio"
      ],
      "id": "wjGa18C25ZYx"
    },
    {
      "cell_type": "code",
      "execution_count": null,
      "metadata": {
        "id": "04fbbb1e",
        "colab": {
          "base_uri": "https://localhost:8080/",
          "height": 698
        },
        "outputId": "369281ca-68bc-4f7a-e0c9-75fe265962a9"
      },
      "outputs": [
        {
          "output_type": "stream",
          "name": "stdout",
          "text": [
            "The best trial is : \n",
            "FrozenTrial(number=5, state=TrialState.COMPLETE, values=[0.8969339062413524], datetime_start=datetime.datetime(2023, 5, 30, 22, 29, 0, 168471), datetime_complete=datetime.datetime(2023, 5, 30, 22, 29, 3, 291403), params={'hgb__max_depth': 24, 'hgb__learning_rate': 0.5158942400624256}, user_attrs={}, system_attrs={}, intermediate_values={}, distributions={'hgb__max_depth': IntDistribution(high=25, log=False, low=3, step=1), 'hgb__learning_rate': FloatDistribution(high=0.7, log=False, low=0.01, step=None)}, trial_id=5, value=None)\n",
            "The best value is : \n",
            "0.8969339062413524\n",
            "The best parameters are : \n",
            "{'hgb__max_depth': 24, 'hgb__learning_rate': 0.5158942400624256}\n",
            "Precision: 0.8969339062413524\n",
            "Best hyperparameters: {'hgb__max_depth': 24, 'hgb__learning_rate': 0.5158942400624256}\n"
          ]
        },
        {
          "output_type": "display_data",
          "data": {
            "text/html": [
              "<html>\n",
              "<head><meta charset=\"utf-8\" /></head>\n",
              "<body>\n",
              "    <div>            <script src=\"https://cdnjs.cloudflare.com/ajax/libs/mathjax/2.7.5/MathJax.js?config=TeX-AMS-MML_SVG\"></script><script type=\"text/javascript\">if (window.MathJax && window.MathJax.Hub && window.MathJax.Hub.Config) {window.MathJax.Hub.Config({SVG: {font: \"STIX-Web\"}});}</script>                <script type=\"text/javascript\">window.PlotlyConfig = {MathJaxConfig: 'local'};</script>\n",
              "        <script src=\"https://cdn.plot.ly/plotly-2.18.2.min.js\"></script>                <div id=\"7e2cc4e8-b199-4bd5-ade8-05df2f41f869\" class=\"plotly-graph-div\" style=\"height:525px; width:100%;\"></div>            <script type=\"text/javascript\">                                    window.PLOTLYENV=window.PLOTLYENV || {};                                    if (document.getElementById(\"7e2cc4e8-b199-4bd5-ade8-05df2f41f869\")) {                    Plotly.newPlot(                        \"7e2cc4e8-b199-4bd5-ade8-05df2f41f869\",                        [{\"mode\":\"markers\",\"name\":\"Objective Value\",\"x\":[0,1,2,3,4,5,6,7,8,9,10,11,12,13,14,15,16,17,18,19,20,21,22,23,24,25,26,27,28,29],\"y\":[0.8951935300804159,0.8795579141865529,0.8849030224964615,0.8511811454306843,0.8606051713217875,0.8969339062413524,0.8847281471985484,0.8926055999432956,0.8923140378628833,0.8926187197700516,0.8963473344932592,0.8955365722172909,0.8927841524120552,0.8950234293680227,0.8929099064143973,0.8931369945690579,0.8928410333525908,0.8931238490371977,0.8912180749859084,0.8950419616205737,0.889813155629828,0.8942124731197486,0.8954234942463007,0.8936723982731763,0.8961033048736976,0.8901657142521087,0.8932985963341759,0.8921965167700215,0.8547202629476388,0.889354591487241],\"type\":\"scatter\"},{\"name\":\"Best Value\",\"x\":[0,1,2,3,4,5,6,7,8,9,10,11,12,13,14,15,16,17,18,19,20,21,22,23,24,25,26,27,28,29],\"y\":[0.8951935300804159,0.8951935300804159,0.8951935300804159,0.8951935300804159,0.8951935300804159,0.8969339062413524,0.8969339062413524,0.8969339062413524,0.8969339062413524,0.8969339062413524,0.8969339062413524,0.8969339062413524,0.8969339062413524,0.8969339062413524,0.8969339062413524,0.8969339062413524,0.8969339062413524,0.8969339062413524,0.8969339062413524,0.8969339062413524,0.8969339062413524,0.8969339062413524,0.8969339062413524,0.8969339062413524,0.8969339062413524,0.8969339062413524,0.8969339062413524,0.8969339062413524,0.8969339062413524,0.8969339062413524],\"type\":\"scatter\"}],                        {\"title\":{\"text\":\"Optimization History Plot\"},\"xaxis\":{\"title\":{\"text\":\"Trial\"}},\"yaxis\":{\"title\":{\"text\":\"Objective Value\"}},\"template\":{\"data\":{\"histogram2dcontour\":[{\"type\":\"histogram2dcontour\",\"colorbar\":{\"outlinewidth\":0,\"ticks\":\"\"},\"colorscale\":[[0.0,\"#0d0887\"],[0.1111111111111111,\"#46039f\"],[0.2222222222222222,\"#7201a8\"],[0.3333333333333333,\"#9c179e\"],[0.4444444444444444,\"#bd3786\"],[0.5555555555555556,\"#d8576b\"],[0.6666666666666666,\"#ed7953\"],[0.7777777777777778,\"#fb9f3a\"],[0.8888888888888888,\"#fdca26\"],[1.0,\"#f0f921\"]]}],\"choropleth\":[{\"type\":\"choropleth\",\"colorbar\":{\"outlinewidth\":0,\"ticks\":\"\"}}],\"histogram2d\":[{\"type\":\"histogram2d\",\"colorbar\":{\"outlinewidth\":0,\"ticks\":\"\"},\"colorscale\":[[0.0,\"#0d0887\"],[0.1111111111111111,\"#46039f\"],[0.2222222222222222,\"#7201a8\"],[0.3333333333333333,\"#9c179e\"],[0.4444444444444444,\"#bd3786\"],[0.5555555555555556,\"#d8576b\"],[0.6666666666666666,\"#ed7953\"],[0.7777777777777778,\"#fb9f3a\"],[0.8888888888888888,\"#fdca26\"],[1.0,\"#f0f921\"]]}],\"heatmap\":[{\"type\":\"heatmap\",\"colorbar\":{\"outlinewidth\":0,\"ticks\":\"\"},\"colorscale\":[[0.0,\"#0d0887\"],[0.1111111111111111,\"#46039f\"],[0.2222222222222222,\"#7201a8\"],[0.3333333333333333,\"#9c179e\"],[0.4444444444444444,\"#bd3786\"],[0.5555555555555556,\"#d8576b\"],[0.6666666666666666,\"#ed7953\"],[0.7777777777777778,\"#fb9f3a\"],[0.8888888888888888,\"#fdca26\"],[1.0,\"#f0f921\"]]}],\"heatmapgl\":[{\"type\":\"heatmapgl\",\"colorbar\":{\"outlinewidth\":0,\"ticks\":\"\"},\"colorscale\":[[0.0,\"#0d0887\"],[0.1111111111111111,\"#46039f\"],[0.2222222222222222,\"#7201a8\"],[0.3333333333333333,\"#9c179e\"],[0.4444444444444444,\"#bd3786\"],[0.5555555555555556,\"#d8576b\"],[0.6666666666666666,\"#ed7953\"],[0.7777777777777778,\"#fb9f3a\"],[0.8888888888888888,\"#fdca26\"],[1.0,\"#f0f921\"]]}],\"contourcarpet\":[{\"type\":\"contourcarpet\",\"colorbar\":{\"outlinewidth\":0,\"ticks\":\"\"}}],\"contour\":[{\"type\":\"contour\",\"colorbar\":{\"outlinewidth\":0,\"ticks\":\"\"},\"colorscale\":[[0.0,\"#0d0887\"],[0.1111111111111111,\"#46039f\"],[0.2222222222222222,\"#7201a8\"],[0.3333333333333333,\"#9c179e\"],[0.4444444444444444,\"#bd3786\"],[0.5555555555555556,\"#d8576b\"],[0.6666666666666666,\"#ed7953\"],[0.7777777777777778,\"#fb9f3a\"],[0.8888888888888888,\"#fdca26\"],[1.0,\"#f0f921\"]]}],\"surface\":[{\"type\":\"surface\",\"colorbar\":{\"outlinewidth\":0,\"ticks\":\"\"},\"colorscale\":[[0.0,\"#0d0887\"],[0.1111111111111111,\"#46039f\"],[0.2222222222222222,\"#7201a8\"],[0.3333333333333333,\"#9c179e\"],[0.4444444444444444,\"#bd3786\"],[0.5555555555555556,\"#d8576b\"],[0.6666666666666666,\"#ed7953\"],[0.7777777777777778,\"#fb9f3a\"],[0.8888888888888888,\"#fdca26\"],[1.0,\"#f0f921\"]]}],\"mesh3d\":[{\"type\":\"mesh3d\",\"colorbar\":{\"outlinewidth\":0,\"ticks\":\"\"}}],\"scatter\":[{\"fillpattern\":{\"fillmode\":\"overlay\",\"size\":10,\"solidity\":0.2},\"type\":\"scatter\"}],\"parcoords\":[{\"type\":\"parcoords\",\"line\":{\"colorbar\":{\"outlinewidth\":0,\"ticks\":\"\"}}}],\"scatterpolargl\":[{\"type\":\"scatterpolargl\",\"marker\":{\"colorbar\":{\"outlinewidth\":0,\"ticks\":\"\"}}}],\"bar\":[{\"error_x\":{\"color\":\"#2a3f5f\"},\"error_y\":{\"color\":\"#2a3f5f\"},\"marker\":{\"line\":{\"color\":\"#E5ECF6\",\"width\":0.5},\"pattern\":{\"fillmode\":\"overlay\",\"size\":10,\"solidity\":0.2}},\"type\":\"bar\"}],\"scattergeo\":[{\"type\":\"scattergeo\",\"marker\":{\"colorbar\":{\"outlinewidth\":0,\"ticks\":\"\"}}}],\"scatterpolar\":[{\"type\":\"scatterpolar\",\"marker\":{\"colorbar\":{\"outlinewidth\":0,\"ticks\":\"\"}}}],\"histogram\":[{\"marker\":{\"pattern\":{\"fillmode\":\"overlay\",\"size\":10,\"solidity\":0.2}},\"type\":\"histogram\"}],\"scattergl\":[{\"type\":\"scattergl\",\"marker\":{\"colorbar\":{\"outlinewidth\":0,\"ticks\":\"\"}}}],\"scatter3d\":[{\"type\":\"scatter3d\",\"line\":{\"colorbar\":{\"outlinewidth\":0,\"ticks\":\"\"}},\"marker\":{\"colorbar\":{\"outlinewidth\":0,\"ticks\":\"\"}}}],\"scattermapbox\":[{\"type\":\"scattermapbox\",\"marker\":{\"colorbar\":{\"outlinewidth\":0,\"ticks\":\"\"}}}],\"scatterternary\":[{\"type\":\"scatterternary\",\"marker\":{\"colorbar\":{\"outlinewidth\":0,\"ticks\":\"\"}}}],\"scattercarpet\":[{\"type\":\"scattercarpet\",\"marker\":{\"colorbar\":{\"outlinewidth\":0,\"ticks\":\"\"}}}],\"carpet\":[{\"aaxis\":{\"endlinecolor\":\"#2a3f5f\",\"gridcolor\":\"white\",\"linecolor\":\"white\",\"minorgridcolor\":\"white\",\"startlinecolor\":\"#2a3f5f\"},\"baxis\":{\"endlinecolor\":\"#2a3f5f\",\"gridcolor\":\"white\",\"linecolor\":\"white\",\"minorgridcolor\":\"white\",\"startlinecolor\":\"#2a3f5f\"},\"type\":\"carpet\"}],\"table\":[{\"cells\":{\"fill\":{\"color\":\"#EBF0F8\"},\"line\":{\"color\":\"white\"}},\"header\":{\"fill\":{\"color\":\"#C8D4E3\"},\"line\":{\"color\":\"white\"}},\"type\":\"table\"}],\"barpolar\":[{\"marker\":{\"line\":{\"color\":\"#E5ECF6\",\"width\":0.5},\"pattern\":{\"fillmode\":\"overlay\",\"size\":10,\"solidity\":0.2}},\"type\":\"barpolar\"}],\"pie\":[{\"automargin\":true,\"type\":\"pie\"}]},\"layout\":{\"autotypenumbers\":\"strict\",\"colorway\":[\"#636efa\",\"#EF553B\",\"#00cc96\",\"#ab63fa\",\"#FFA15A\",\"#19d3f3\",\"#FF6692\",\"#B6E880\",\"#FF97FF\",\"#FECB52\"],\"font\":{\"color\":\"#2a3f5f\"},\"hovermode\":\"closest\",\"hoverlabel\":{\"align\":\"left\"},\"paper_bgcolor\":\"white\",\"plot_bgcolor\":\"#E5ECF6\",\"polar\":{\"bgcolor\":\"#E5ECF6\",\"angularaxis\":{\"gridcolor\":\"white\",\"linecolor\":\"white\",\"ticks\":\"\"},\"radialaxis\":{\"gridcolor\":\"white\",\"linecolor\":\"white\",\"ticks\":\"\"}},\"ternary\":{\"bgcolor\":\"#E5ECF6\",\"aaxis\":{\"gridcolor\":\"white\",\"linecolor\":\"white\",\"ticks\":\"\"},\"baxis\":{\"gridcolor\":\"white\",\"linecolor\":\"white\",\"ticks\":\"\"},\"caxis\":{\"gridcolor\":\"white\",\"linecolor\":\"white\",\"ticks\":\"\"}},\"coloraxis\":{\"colorbar\":{\"outlinewidth\":0,\"ticks\":\"\"}},\"colorscale\":{\"sequential\":[[0.0,\"#0d0887\"],[0.1111111111111111,\"#46039f\"],[0.2222222222222222,\"#7201a8\"],[0.3333333333333333,\"#9c179e\"],[0.4444444444444444,\"#bd3786\"],[0.5555555555555556,\"#d8576b\"],[0.6666666666666666,\"#ed7953\"],[0.7777777777777778,\"#fb9f3a\"],[0.8888888888888888,\"#fdca26\"],[1.0,\"#f0f921\"]],\"sequentialminus\":[[0.0,\"#0d0887\"],[0.1111111111111111,\"#46039f\"],[0.2222222222222222,\"#7201a8\"],[0.3333333333333333,\"#9c179e\"],[0.4444444444444444,\"#bd3786\"],[0.5555555555555556,\"#d8576b\"],[0.6666666666666666,\"#ed7953\"],[0.7777777777777778,\"#fb9f3a\"],[0.8888888888888888,\"#fdca26\"],[1.0,\"#f0f921\"]],\"diverging\":[[0,\"#8e0152\"],[0.1,\"#c51b7d\"],[0.2,\"#de77ae\"],[0.3,\"#f1b6da\"],[0.4,\"#fde0ef\"],[0.5,\"#f7f7f7\"],[0.6,\"#e6f5d0\"],[0.7,\"#b8e186\"],[0.8,\"#7fbc41\"],[0.9,\"#4d9221\"],[1,\"#276419\"]]},\"xaxis\":{\"gridcolor\":\"white\",\"linecolor\":\"white\",\"ticks\":\"\",\"title\":{\"standoff\":15},\"zerolinecolor\":\"white\",\"automargin\":true,\"zerolinewidth\":2},\"yaxis\":{\"gridcolor\":\"white\",\"linecolor\":\"white\",\"ticks\":\"\",\"title\":{\"standoff\":15},\"zerolinecolor\":\"white\",\"automargin\":true,\"zerolinewidth\":2},\"scene\":{\"xaxis\":{\"backgroundcolor\":\"#E5ECF6\",\"gridcolor\":\"white\",\"linecolor\":\"white\",\"showbackground\":true,\"ticks\":\"\",\"zerolinecolor\":\"white\",\"gridwidth\":2},\"yaxis\":{\"backgroundcolor\":\"#E5ECF6\",\"gridcolor\":\"white\",\"linecolor\":\"white\",\"showbackground\":true,\"ticks\":\"\",\"zerolinecolor\":\"white\",\"gridwidth\":2},\"zaxis\":{\"backgroundcolor\":\"#E5ECF6\",\"gridcolor\":\"white\",\"linecolor\":\"white\",\"showbackground\":true,\"ticks\":\"\",\"zerolinecolor\":\"white\",\"gridwidth\":2}},\"shapedefaults\":{\"line\":{\"color\":\"#2a3f5f\"}},\"annotationdefaults\":{\"arrowcolor\":\"#2a3f5f\",\"arrowhead\":0,\"arrowwidth\":1},\"geo\":{\"bgcolor\":\"white\",\"landcolor\":\"#E5ECF6\",\"subunitcolor\":\"white\",\"showland\":true,\"showlakes\":true,\"lakecolor\":\"white\"},\"title\":{\"x\":0.05},\"mapbox\":{\"style\":\"light\"}}}},                        {\"responsive\": true}                    ).then(function(){\n",
              "                            \n",
              "var gd = document.getElementById('7e2cc4e8-b199-4bd5-ade8-05df2f41f869');\n",
              "var x = new MutationObserver(function (mutations, observer) {{\n",
              "        var display = window.getComputedStyle(gd).display;\n",
              "        if (!display || display === 'none') {{\n",
              "            console.log([gd, 'removed!']);\n",
              "            Plotly.purge(gd);\n",
              "            observer.disconnect();\n",
              "        }}\n",
              "}});\n",
              "\n",
              "// Listen for the removal of the full notebook cells\n",
              "var notebookContainer = gd.closest('#notebook-container');\n",
              "if (notebookContainer) {{\n",
              "    x.observe(notebookContainer, {childList: true});\n",
              "}}\n",
              "\n",
              "// Listen for the clearing of the current output cell\n",
              "var outputEl = gd.closest('.output');\n",
              "if (outputEl) {{\n",
              "    x.observe(outputEl, {childList: true});\n",
              "}}\n",
              "\n",
              "                        })                };                            </script>        </div>\n",
              "</body>\n",
              "</html>"
            ]
          },
          "metadata": {}
        }
      ],
      "source": [
        "# Getting the best trial:\n",
        "print(f\"The best trial is : \\n{study.best_trial}\")\n",
        "# Getting the best score:\n",
        "print(f\"The best value is : \\n{study.best_value}\")\n",
        "# Getting the best parameters:\n",
        "print(f\"The best parameters are : \\n{study.best_params}\")\n",
        "trial = study.best_trial\n",
        "print('Precision: {}'.format(trial.value))\n",
        "print(\"Best hyperparameters: {}\".format(trial.params))\n",
        "optuna.visualization.plot_optimization_history(study).show()"
      ],
      "id": "04fbbb1e"
    },
    {
      "cell_type": "code",
      "execution_count": null,
      "metadata": {
        "id": "cgrtHqkdU7Tw",
        "colab": {
          "base_uri": "https://localhost:8080/",
          "height": 542
        },
        "outputId": "00322985-0841-417e-8e52-9bde5abb92a0"
      },
      "outputs": [
        {
          "output_type": "display_data",
          "data": {
            "text/html": [
              "<html>\n",
              "<head><meta charset=\"utf-8\" /></head>\n",
              "<body>\n",
              "    <div>            <script src=\"https://cdnjs.cloudflare.com/ajax/libs/mathjax/2.7.5/MathJax.js?config=TeX-AMS-MML_SVG\"></script><script type=\"text/javascript\">if (window.MathJax && window.MathJax.Hub && window.MathJax.Hub.Config) {window.MathJax.Hub.Config({SVG: {font: \"STIX-Web\"}});}</script>                <script type=\"text/javascript\">window.PlotlyConfig = {MathJaxConfig: 'local'};</script>\n",
              "        <script src=\"https://cdn.plot.ly/plotly-2.18.2.min.js\"></script>                <div id=\"d249a122-e8fa-4b71-b9ba-4f6a12b4a166\" class=\"plotly-graph-div\" style=\"height:525px; width:100%;\"></div>            <script type=\"text/javascript\">                                    window.PLOTLYENV=window.PLOTLYENV || {};                                    if (document.getElementById(\"d249a122-e8fa-4b71-b9ba-4f6a12b4a166\")) {                    Plotly.newPlot(                        \"d249a122-e8fa-4b71-b9ba-4f6a12b4a166\",                        [{\"dimensions\":[{\"label\":\"Objective Value\",\"range\":[0.8511811454306843,0.8969339062413524],\"values\":[0.8951935300804159,0.8795579141865529,0.8849030224964615,0.8511811454306843,0.8606051713217875,0.8969339062413524,0.8847281471985484,0.8926055999432956,0.8923140378628833,0.8926187197700516,0.8963473344932592,0.8955365722172909,0.8927841524120552,0.8950234293680227,0.8929099064143973,0.8931369945690579,0.8928410333525908,0.8931238490371977,0.8912180749859084,0.8950419616205737,0.889813155629828,0.8942124731197486,0.8954234942463007,0.8936723982731763,0.8961033048736976,0.8901657142521087,0.8932985963341759,0.8921965167700215,0.8547202629476388,0.889354591487241]},{\"label\":\"hgb__learning_rate\",\"range\":[0.051585588987645266,0.6857575333145391],\"values\":[0.5187892210636453,0.6857575333145391,0.5446110534751253,0.051585588987645266,0.2471966677256481,0.5158942400624256,0.1811243030009065,0.5140904957569585,0.5465840359423981,0.58822773731421,0.39013485486672794,0.38269320353157876,0.3693826143978913,0.42648093291629047,0.2843444956412643,0.4427373982435382,0.3031099906408482,0.4380797235526874,0.6455173814589161,0.46679831796050486,0.6028983424734655,0.36659023903093807,0.39401339008247127,0.3221587968201755,0.4745852679041542,0.48439226945752933,0.4835267122431182,0.5795399352714916,0.4157563200774033,0.5125404447229046]},{\"label\":\"hgb__max_depth\",\"range\":[3,25],\"values\":[17,25,5,19,4,24,25,23,14,19,12,10,11,9,14,7,17,21,13,16,7,11,9,12,9,7,15,20,3,8]}],\"labelangle\":30,\"labelside\":\"bottom\",\"line\":{\"color\":[0.8951935300804159,0.8795579141865529,0.8849030224964615,0.8511811454306843,0.8606051713217875,0.8969339062413524,0.8847281471985484,0.8926055999432956,0.8923140378628833,0.8926187197700516,0.8963473344932592,0.8955365722172909,0.8927841524120552,0.8950234293680227,0.8929099064143973,0.8931369945690579,0.8928410333525908,0.8931238490371977,0.8912180749859084,0.8950419616205737,0.889813155629828,0.8942124731197486,0.8954234942463007,0.8936723982731763,0.8961033048736976,0.8901657142521087,0.8932985963341759,0.8921965167700215,0.8547202629476388,0.889354591487241],\"colorbar\":{\"title\":{\"text\":\"Objective Value\"}},\"colorscale\":[[0.0,\"rgb(247,251,255)\"],[0.125,\"rgb(222,235,247)\"],[0.25,\"rgb(198,219,239)\"],[0.375,\"rgb(158,202,225)\"],[0.5,\"rgb(107,174,214)\"],[0.625,\"rgb(66,146,198)\"],[0.75,\"rgb(33,113,181)\"],[0.875,\"rgb(8,81,156)\"],[1.0,\"rgb(8,48,107)\"]],\"reversescale\":false,\"showscale\":true},\"type\":\"parcoords\"}],                        {\"title\":{\"text\":\"Parallel Coordinate Plot\"},\"template\":{\"data\":{\"histogram2dcontour\":[{\"type\":\"histogram2dcontour\",\"colorbar\":{\"outlinewidth\":0,\"ticks\":\"\"},\"colorscale\":[[0.0,\"#0d0887\"],[0.1111111111111111,\"#46039f\"],[0.2222222222222222,\"#7201a8\"],[0.3333333333333333,\"#9c179e\"],[0.4444444444444444,\"#bd3786\"],[0.5555555555555556,\"#d8576b\"],[0.6666666666666666,\"#ed7953\"],[0.7777777777777778,\"#fb9f3a\"],[0.8888888888888888,\"#fdca26\"],[1.0,\"#f0f921\"]]}],\"choropleth\":[{\"type\":\"choropleth\",\"colorbar\":{\"outlinewidth\":0,\"ticks\":\"\"}}],\"histogram2d\":[{\"type\":\"histogram2d\",\"colorbar\":{\"outlinewidth\":0,\"ticks\":\"\"},\"colorscale\":[[0.0,\"#0d0887\"],[0.1111111111111111,\"#46039f\"],[0.2222222222222222,\"#7201a8\"],[0.3333333333333333,\"#9c179e\"],[0.4444444444444444,\"#bd3786\"],[0.5555555555555556,\"#d8576b\"],[0.6666666666666666,\"#ed7953\"],[0.7777777777777778,\"#fb9f3a\"],[0.8888888888888888,\"#fdca26\"],[1.0,\"#f0f921\"]]}],\"heatmap\":[{\"type\":\"heatmap\",\"colorbar\":{\"outlinewidth\":0,\"ticks\":\"\"},\"colorscale\":[[0.0,\"#0d0887\"],[0.1111111111111111,\"#46039f\"],[0.2222222222222222,\"#7201a8\"],[0.3333333333333333,\"#9c179e\"],[0.4444444444444444,\"#bd3786\"],[0.5555555555555556,\"#d8576b\"],[0.6666666666666666,\"#ed7953\"],[0.7777777777777778,\"#fb9f3a\"],[0.8888888888888888,\"#fdca26\"],[1.0,\"#f0f921\"]]}],\"heatmapgl\":[{\"type\":\"heatmapgl\",\"colorbar\":{\"outlinewidth\":0,\"ticks\":\"\"},\"colorscale\":[[0.0,\"#0d0887\"],[0.1111111111111111,\"#46039f\"],[0.2222222222222222,\"#7201a8\"],[0.3333333333333333,\"#9c179e\"],[0.4444444444444444,\"#bd3786\"],[0.5555555555555556,\"#d8576b\"],[0.6666666666666666,\"#ed7953\"],[0.7777777777777778,\"#fb9f3a\"],[0.8888888888888888,\"#fdca26\"],[1.0,\"#f0f921\"]]}],\"contourcarpet\":[{\"type\":\"contourcarpet\",\"colorbar\":{\"outlinewidth\":0,\"ticks\":\"\"}}],\"contour\":[{\"type\":\"contour\",\"colorbar\":{\"outlinewidth\":0,\"ticks\":\"\"},\"colorscale\":[[0.0,\"#0d0887\"],[0.1111111111111111,\"#46039f\"],[0.2222222222222222,\"#7201a8\"],[0.3333333333333333,\"#9c179e\"],[0.4444444444444444,\"#bd3786\"],[0.5555555555555556,\"#d8576b\"],[0.6666666666666666,\"#ed7953\"],[0.7777777777777778,\"#fb9f3a\"],[0.8888888888888888,\"#fdca26\"],[1.0,\"#f0f921\"]]}],\"surface\":[{\"type\":\"surface\",\"colorbar\":{\"outlinewidth\":0,\"ticks\":\"\"},\"colorscale\":[[0.0,\"#0d0887\"],[0.1111111111111111,\"#46039f\"],[0.2222222222222222,\"#7201a8\"],[0.3333333333333333,\"#9c179e\"],[0.4444444444444444,\"#bd3786\"],[0.5555555555555556,\"#d8576b\"],[0.6666666666666666,\"#ed7953\"],[0.7777777777777778,\"#fb9f3a\"],[0.8888888888888888,\"#fdca26\"],[1.0,\"#f0f921\"]]}],\"mesh3d\":[{\"type\":\"mesh3d\",\"colorbar\":{\"outlinewidth\":0,\"ticks\":\"\"}}],\"scatter\":[{\"fillpattern\":{\"fillmode\":\"overlay\",\"size\":10,\"solidity\":0.2},\"type\":\"scatter\"}],\"parcoords\":[{\"type\":\"parcoords\",\"line\":{\"colorbar\":{\"outlinewidth\":0,\"ticks\":\"\"}}}],\"scatterpolargl\":[{\"type\":\"scatterpolargl\",\"marker\":{\"colorbar\":{\"outlinewidth\":0,\"ticks\":\"\"}}}],\"bar\":[{\"error_x\":{\"color\":\"#2a3f5f\"},\"error_y\":{\"color\":\"#2a3f5f\"},\"marker\":{\"line\":{\"color\":\"#E5ECF6\",\"width\":0.5},\"pattern\":{\"fillmode\":\"overlay\",\"size\":10,\"solidity\":0.2}},\"type\":\"bar\"}],\"scattergeo\":[{\"type\":\"scattergeo\",\"marker\":{\"colorbar\":{\"outlinewidth\":0,\"ticks\":\"\"}}}],\"scatterpolar\":[{\"type\":\"scatterpolar\",\"marker\":{\"colorbar\":{\"outlinewidth\":0,\"ticks\":\"\"}}}],\"histogram\":[{\"marker\":{\"pattern\":{\"fillmode\":\"overlay\",\"size\":10,\"solidity\":0.2}},\"type\":\"histogram\"}],\"scattergl\":[{\"type\":\"scattergl\",\"marker\":{\"colorbar\":{\"outlinewidth\":0,\"ticks\":\"\"}}}],\"scatter3d\":[{\"type\":\"scatter3d\",\"line\":{\"colorbar\":{\"outlinewidth\":0,\"ticks\":\"\"}},\"marker\":{\"colorbar\":{\"outlinewidth\":0,\"ticks\":\"\"}}}],\"scattermapbox\":[{\"type\":\"scattermapbox\",\"marker\":{\"colorbar\":{\"outlinewidth\":0,\"ticks\":\"\"}}}],\"scatterternary\":[{\"type\":\"scatterternary\",\"marker\":{\"colorbar\":{\"outlinewidth\":0,\"ticks\":\"\"}}}],\"scattercarpet\":[{\"type\":\"scattercarpet\",\"marker\":{\"colorbar\":{\"outlinewidth\":0,\"ticks\":\"\"}}}],\"carpet\":[{\"aaxis\":{\"endlinecolor\":\"#2a3f5f\",\"gridcolor\":\"white\",\"linecolor\":\"white\",\"minorgridcolor\":\"white\",\"startlinecolor\":\"#2a3f5f\"},\"baxis\":{\"endlinecolor\":\"#2a3f5f\",\"gridcolor\":\"white\",\"linecolor\":\"white\",\"minorgridcolor\":\"white\",\"startlinecolor\":\"#2a3f5f\"},\"type\":\"carpet\"}],\"table\":[{\"cells\":{\"fill\":{\"color\":\"#EBF0F8\"},\"line\":{\"color\":\"white\"}},\"header\":{\"fill\":{\"color\":\"#C8D4E3\"},\"line\":{\"color\":\"white\"}},\"type\":\"table\"}],\"barpolar\":[{\"marker\":{\"line\":{\"color\":\"#E5ECF6\",\"width\":0.5},\"pattern\":{\"fillmode\":\"overlay\",\"size\":10,\"solidity\":0.2}},\"type\":\"barpolar\"}],\"pie\":[{\"automargin\":true,\"type\":\"pie\"}]},\"layout\":{\"autotypenumbers\":\"strict\",\"colorway\":[\"#636efa\",\"#EF553B\",\"#00cc96\",\"#ab63fa\",\"#FFA15A\",\"#19d3f3\",\"#FF6692\",\"#B6E880\",\"#FF97FF\",\"#FECB52\"],\"font\":{\"color\":\"#2a3f5f\"},\"hovermode\":\"closest\",\"hoverlabel\":{\"align\":\"left\"},\"paper_bgcolor\":\"white\",\"plot_bgcolor\":\"#E5ECF6\",\"polar\":{\"bgcolor\":\"#E5ECF6\",\"angularaxis\":{\"gridcolor\":\"white\",\"linecolor\":\"white\",\"ticks\":\"\"},\"radialaxis\":{\"gridcolor\":\"white\",\"linecolor\":\"white\",\"ticks\":\"\"}},\"ternary\":{\"bgcolor\":\"#E5ECF6\",\"aaxis\":{\"gridcolor\":\"white\",\"linecolor\":\"white\",\"ticks\":\"\"},\"baxis\":{\"gridcolor\":\"white\",\"linecolor\":\"white\",\"ticks\":\"\"},\"caxis\":{\"gridcolor\":\"white\",\"linecolor\":\"white\",\"ticks\":\"\"}},\"coloraxis\":{\"colorbar\":{\"outlinewidth\":0,\"ticks\":\"\"}},\"colorscale\":{\"sequential\":[[0.0,\"#0d0887\"],[0.1111111111111111,\"#46039f\"],[0.2222222222222222,\"#7201a8\"],[0.3333333333333333,\"#9c179e\"],[0.4444444444444444,\"#bd3786\"],[0.5555555555555556,\"#d8576b\"],[0.6666666666666666,\"#ed7953\"],[0.7777777777777778,\"#fb9f3a\"],[0.8888888888888888,\"#fdca26\"],[1.0,\"#f0f921\"]],\"sequentialminus\":[[0.0,\"#0d0887\"],[0.1111111111111111,\"#46039f\"],[0.2222222222222222,\"#7201a8\"],[0.3333333333333333,\"#9c179e\"],[0.4444444444444444,\"#bd3786\"],[0.5555555555555556,\"#d8576b\"],[0.6666666666666666,\"#ed7953\"],[0.7777777777777778,\"#fb9f3a\"],[0.8888888888888888,\"#fdca26\"],[1.0,\"#f0f921\"]],\"diverging\":[[0,\"#8e0152\"],[0.1,\"#c51b7d\"],[0.2,\"#de77ae\"],[0.3,\"#f1b6da\"],[0.4,\"#fde0ef\"],[0.5,\"#f7f7f7\"],[0.6,\"#e6f5d0\"],[0.7,\"#b8e186\"],[0.8,\"#7fbc41\"],[0.9,\"#4d9221\"],[1,\"#276419\"]]},\"xaxis\":{\"gridcolor\":\"white\",\"linecolor\":\"white\",\"ticks\":\"\",\"title\":{\"standoff\":15},\"zerolinecolor\":\"white\",\"automargin\":true,\"zerolinewidth\":2},\"yaxis\":{\"gridcolor\":\"white\",\"linecolor\":\"white\",\"ticks\":\"\",\"title\":{\"standoff\":15},\"zerolinecolor\":\"white\",\"automargin\":true,\"zerolinewidth\":2},\"scene\":{\"xaxis\":{\"backgroundcolor\":\"#E5ECF6\",\"gridcolor\":\"white\",\"linecolor\":\"white\",\"showbackground\":true,\"ticks\":\"\",\"zerolinecolor\":\"white\",\"gridwidth\":2},\"yaxis\":{\"backgroundcolor\":\"#E5ECF6\",\"gridcolor\":\"white\",\"linecolor\":\"white\",\"showbackground\":true,\"ticks\":\"\",\"zerolinecolor\":\"white\",\"gridwidth\":2},\"zaxis\":{\"backgroundcolor\":\"#E5ECF6\",\"gridcolor\":\"white\",\"linecolor\":\"white\",\"showbackground\":true,\"ticks\":\"\",\"zerolinecolor\":\"white\",\"gridwidth\":2}},\"shapedefaults\":{\"line\":{\"color\":\"#2a3f5f\"}},\"annotationdefaults\":{\"arrowcolor\":\"#2a3f5f\",\"arrowhead\":0,\"arrowwidth\":1},\"geo\":{\"bgcolor\":\"white\",\"landcolor\":\"#E5ECF6\",\"subunitcolor\":\"white\",\"showland\":true,\"showlakes\":true,\"lakecolor\":\"white\"},\"title\":{\"x\":0.05},\"mapbox\":{\"style\":\"light\"}}}},                        {\"responsive\": true}                    ).then(function(){\n",
              "                            \n",
              "var gd = document.getElementById('d249a122-e8fa-4b71-b9ba-4f6a12b4a166');\n",
              "var x = new MutationObserver(function (mutations, observer) {{\n",
              "        var display = window.getComputedStyle(gd).display;\n",
              "        if (!display || display === 'none') {{\n",
              "            console.log([gd, 'removed!']);\n",
              "            Plotly.purge(gd);\n",
              "            observer.disconnect();\n",
              "        }}\n",
              "}});\n",
              "\n",
              "// Listen for the removal of the full notebook cells\n",
              "var notebookContainer = gd.closest('#notebook-container');\n",
              "if (notebookContainer) {{\n",
              "    x.observe(notebookContainer, {childList: true});\n",
              "}}\n",
              "\n",
              "// Listen for the clearing of the current output cell\n",
              "var outputEl = gd.closest('.output');\n",
              "if (outputEl) {{\n",
              "    x.observe(outputEl, {childList: true});\n",
              "}}\n",
              "\n",
              "                        })                };                            </script>        </div>\n",
              "</body>\n",
              "</html>"
            ]
          },
          "metadata": {}
        }
      ],
      "source": [
        "plot_parallel_coordinate(study)\n"
      ],
      "id": "cgrtHqkdU7Tw"
    },
    {
      "cell_type": "code",
      "execution_count": null,
      "metadata": {
        "id": "dVvbOALcVdpB",
        "colab": {
          "base_uri": "https://localhost:8080/",
          "height": 542
        },
        "outputId": "209c294e-a4e2-4349-96f7-5654ce66963c"
      },
      "outputs": [
        {
          "output_type": "display_data",
          "data": {
            "text/html": [
              "<html>\n",
              "<head><meta charset=\"utf-8\" /></head>\n",
              "<body>\n",
              "    <div>            <script src=\"https://cdnjs.cloudflare.com/ajax/libs/mathjax/2.7.5/MathJax.js?config=TeX-AMS-MML_SVG\"></script><script type=\"text/javascript\">if (window.MathJax && window.MathJax.Hub && window.MathJax.Hub.Config) {window.MathJax.Hub.Config({SVG: {font: \"STIX-Web\"}});}</script>                <script type=\"text/javascript\">window.PlotlyConfig = {MathJaxConfig: 'local'};</script>\n",
              "        <script src=\"https://cdn.plot.ly/plotly-2.18.2.min.js\"></script>                <div id=\"3eaf1a76-b5a6-4def-be67-0df846d61917\" class=\"plotly-graph-div\" style=\"height:525px; width:100%;\"></div>            <script type=\"text/javascript\">                                    window.PLOTLYENV=window.PLOTLYENV || {};                                    if (document.getElementById(\"3eaf1a76-b5a6-4def-be67-0df846d61917\")) {                    Plotly.newPlot(                        \"3eaf1a76-b5a6-4def-be67-0df846d61917\",                        [{\"cliponaxis\":false,\"hovertemplate\":[\"hgb__max_depth (IntDistribution): 0.44025846817343534<extra></extra>\",\"hgb__learning_rate (FloatDistribution): 0.5597415318265646<extra></extra>\"],\"marker\":{\"color\":\"rgb(66,146,198)\"},\"orientation\":\"h\",\"text\":[\"0.44\",\"0.56\"],\"textposition\":\"outside\",\"x\":[0.44025846817343534,0.5597415318265646],\"y\":[\"hgb__max_depth\",\"hgb__learning_rate\"],\"type\":\"bar\"}],                        {\"showlegend\":false,\"title\":{\"text\":\"Hyperparameter Importances\"},\"xaxis\":{\"title\":{\"text\":\"Importance for Objective Value\"}},\"yaxis\":{\"title\":{\"text\":\"Hyperparameter\"}},\"template\":{\"data\":{\"histogram2dcontour\":[{\"type\":\"histogram2dcontour\",\"colorbar\":{\"outlinewidth\":0,\"ticks\":\"\"},\"colorscale\":[[0.0,\"#0d0887\"],[0.1111111111111111,\"#46039f\"],[0.2222222222222222,\"#7201a8\"],[0.3333333333333333,\"#9c179e\"],[0.4444444444444444,\"#bd3786\"],[0.5555555555555556,\"#d8576b\"],[0.6666666666666666,\"#ed7953\"],[0.7777777777777778,\"#fb9f3a\"],[0.8888888888888888,\"#fdca26\"],[1.0,\"#f0f921\"]]}],\"choropleth\":[{\"type\":\"choropleth\",\"colorbar\":{\"outlinewidth\":0,\"ticks\":\"\"}}],\"histogram2d\":[{\"type\":\"histogram2d\",\"colorbar\":{\"outlinewidth\":0,\"ticks\":\"\"},\"colorscale\":[[0.0,\"#0d0887\"],[0.1111111111111111,\"#46039f\"],[0.2222222222222222,\"#7201a8\"],[0.3333333333333333,\"#9c179e\"],[0.4444444444444444,\"#bd3786\"],[0.5555555555555556,\"#d8576b\"],[0.6666666666666666,\"#ed7953\"],[0.7777777777777778,\"#fb9f3a\"],[0.8888888888888888,\"#fdca26\"],[1.0,\"#f0f921\"]]}],\"heatmap\":[{\"type\":\"heatmap\",\"colorbar\":{\"outlinewidth\":0,\"ticks\":\"\"},\"colorscale\":[[0.0,\"#0d0887\"],[0.1111111111111111,\"#46039f\"],[0.2222222222222222,\"#7201a8\"],[0.3333333333333333,\"#9c179e\"],[0.4444444444444444,\"#bd3786\"],[0.5555555555555556,\"#d8576b\"],[0.6666666666666666,\"#ed7953\"],[0.7777777777777778,\"#fb9f3a\"],[0.8888888888888888,\"#fdca26\"],[1.0,\"#f0f921\"]]}],\"heatmapgl\":[{\"type\":\"heatmapgl\",\"colorbar\":{\"outlinewidth\":0,\"ticks\":\"\"},\"colorscale\":[[0.0,\"#0d0887\"],[0.1111111111111111,\"#46039f\"],[0.2222222222222222,\"#7201a8\"],[0.3333333333333333,\"#9c179e\"],[0.4444444444444444,\"#bd3786\"],[0.5555555555555556,\"#d8576b\"],[0.6666666666666666,\"#ed7953\"],[0.7777777777777778,\"#fb9f3a\"],[0.8888888888888888,\"#fdca26\"],[1.0,\"#f0f921\"]]}],\"contourcarpet\":[{\"type\":\"contourcarpet\",\"colorbar\":{\"outlinewidth\":0,\"ticks\":\"\"}}],\"contour\":[{\"type\":\"contour\",\"colorbar\":{\"outlinewidth\":0,\"ticks\":\"\"},\"colorscale\":[[0.0,\"#0d0887\"],[0.1111111111111111,\"#46039f\"],[0.2222222222222222,\"#7201a8\"],[0.3333333333333333,\"#9c179e\"],[0.4444444444444444,\"#bd3786\"],[0.5555555555555556,\"#d8576b\"],[0.6666666666666666,\"#ed7953\"],[0.7777777777777778,\"#fb9f3a\"],[0.8888888888888888,\"#fdca26\"],[1.0,\"#f0f921\"]]}],\"surface\":[{\"type\":\"surface\",\"colorbar\":{\"outlinewidth\":0,\"ticks\":\"\"},\"colorscale\":[[0.0,\"#0d0887\"],[0.1111111111111111,\"#46039f\"],[0.2222222222222222,\"#7201a8\"],[0.3333333333333333,\"#9c179e\"],[0.4444444444444444,\"#bd3786\"],[0.5555555555555556,\"#d8576b\"],[0.6666666666666666,\"#ed7953\"],[0.7777777777777778,\"#fb9f3a\"],[0.8888888888888888,\"#fdca26\"],[1.0,\"#f0f921\"]]}],\"mesh3d\":[{\"type\":\"mesh3d\",\"colorbar\":{\"outlinewidth\":0,\"ticks\":\"\"}}],\"scatter\":[{\"fillpattern\":{\"fillmode\":\"overlay\",\"size\":10,\"solidity\":0.2},\"type\":\"scatter\"}],\"parcoords\":[{\"type\":\"parcoords\",\"line\":{\"colorbar\":{\"outlinewidth\":0,\"ticks\":\"\"}}}],\"scatterpolargl\":[{\"type\":\"scatterpolargl\",\"marker\":{\"colorbar\":{\"outlinewidth\":0,\"ticks\":\"\"}}}],\"bar\":[{\"error_x\":{\"color\":\"#2a3f5f\"},\"error_y\":{\"color\":\"#2a3f5f\"},\"marker\":{\"line\":{\"color\":\"#E5ECF6\",\"width\":0.5},\"pattern\":{\"fillmode\":\"overlay\",\"size\":10,\"solidity\":0.2}},\"type\":\"bar\"}],\"scattergeo\":[{\"type\":\"scattergeo\",\"marker\":{\"colorbar\":{\"outlinewidth\":0,\"ticks\":\"\"}}}],\"scatterpolar\":[{\"type\":\"scatterpolar\",\"marker\":{\"colorbar\":{\"outlinewidth\":0,\"ticks\":\"\"}}}],\"histogram\":[{\"marker\":{\"pattern\":{\"fillmode\":\"overlay\",\"size\":10,\"solidity\":0.2}},\"type\":\"histogram\"}],\"scattergl\":[{\"type\":\"scattergl\",\"marker\":{\"colorbar\":{\"outlinewidth\":0,\"ticks\":\"\"}}}],\"scatter3d\":[{\"type\":\"scatter3d\",\"line\":{\"colorbar\":{\"outlinewidth\":0,\"ticks\":\"\"}},\"marker\":{\"colorbar\":{\"outlinewidth\":0,\"ticks\":\"\"}}}],\"scattermapbox\":[{\"type\":\"scattermapbox\",\"marker\":{\"colorbar\":{\"outlinewidth\":0,\"ticks\":\"\"}}}],\"scatterternary\":[{\"type\":\"scatterternary\",\"marker\":{\"colorbar\":{\"outlinewidth\":0,\"ticks\":\"\"}}}],\"scattercarpet\":[{\"type\":\"scattercarpet\",\"marker\":{\"colorbar\":{\"outlinewidth\":0,\"ticks\":\"\"}}}],\"carpet\":[{\"aaxis\":{\"endlinecolor\":\"#2a3f5f\",\"gridcolor\":\"white\",\"linecolor\":\"white\",\"minorgridcolor\":\"white\",\"startlinecolor\":\"#2a3f5f\"},\"baxis\":{\"endlinecolor\":\"#2a3f5f\",\"gridcolor\":\"white\",\"linecolor\":\"white\",\"minorgridcolor\":\"white\",\"startlinecolor\":\"#2a3f5f\"},\"type\":\"carpet\"}],\"table\":[{\"cells\":{\"fill\":{\"color\":\"#EBF0F8\"},\"line\":{\"color\":\"white\"}},\"header\":{\"fill\":{\"color\":\"#C8D4E3\"},\"line\":{\"color\":\"white\"}},\"type\":\"table\"}],\"barpolar\":[{\"marker\":{\"line\":{\"color\":\"#E5ECF6\",\"width\":0.5},\"pattern\":{\"fillmode\":\"overlay\",\"size\":10,\"solidity\":0.2}},\"type\":\"barpolar\"}],\"pie\":[{\"automargin\":true,\"type\":\"pie\"}]},\"layout\":{\"autotypenumbers\":\"strict\",\"colorway\":[\"#636efa\",\"#EF553B\",\"#00cc96\",\"#ab63fa\",\"#FFA15A\",\"#19d3f3\",\"#FF6692\",\"#B6E880\",\"#FF97FF\",\"#FECB52\"],\"font\":{\"color\":\"#2a3f5f\"},\"hovermode\":\"closest\",\"hoverlabel\":{\"align\":\"left\"},\"paper_bgcolor\":\"white\",\"plot_bgcolor\":\"#E5ECF6\",\"polar\":{\"bgcolor\":\"#E5ECF6\",\"angularaxis\":{\"gridcolor\":\"white\",\"linecolor\":\"white\",\"ticks\":\"\"},\"radialaxis\":{\"gridcolor\":\"white\",\"linecolor\":\"white\",\"ticks\":\"\"}},\"ternary\":{\"bgcolor\":\"#E5ECF6\",\"aaxis\":{\"gridcolor\":\"white\",\"linecolor\":\"white\",\"ticks\":\"\"},\"baxis\":{\"gridcolor\":\"white\",\"linecolor\":\"white\",\"ticks\":\"\"},\"caxis\":{\"gridcolor\":\"white\",\"linecolor\":\"white\",\"ticks\":\"\"}},\"coloraxis\":{\"colorbar\":{\"outlinewidth\":0,\"ticks\":\"\"}},\"colorscale\":{\"sequential\":[[0.0,\"#0d0887\"],[0.1111111111111111,\"#46039f\"],[0.2222222222222222,\"#7201a8\"],[0.3333333333333333,\"#9c179e\"],[0.4444444444444444,\"#bd3786\"],[0.5555555555555556,\"#d8576b\"],[0.6666666666666666,\"#ed7953\"],[0.7777777777777778,\"#fb9f3a\"],[0.8888888888888888,\"#fdca26\"],[1.0,\"#f0f921\"]],\"sequentialminus\":[[0.0,\"#0d0887\"],[0.1111111111111111,\"#46039f\"],[0.2222222222222222,\"#7201a8\"],[0.3333333333333333,\"#9c179e\"],[0.4444444444444444,\"#bd3786\"],[0.5555555555555556,\"#d8576b\"],[0.6666666666666666,\"#ed7953\"],[0.7777777777777778,\"#fb9f3a\"],[0.8888888888888888,\"#fdca26\"],[1.0,\"#f0f921\"]],\"diverging\":[[0,\"#8e0152\"],[0.1,\"#c51b7d\"],[0.2,\"#de77ae\"],[0.3,\"#f1b6da\"],[0.4,\"#fde0ef\"],[0.5,\"#f7f7f7\"],[0.6,\"#e6f5d0\"],[0.7,\"#b8e186\"],[0.8,\"#7fbc41\"],[0.9,\"#4d9221\"],[1,\"#276419\"]]},\"xaxis\":{\"gridcolor\":\"white\",\"linecolor\":\"white\",\"ticks\":\"\",\"title\":{\"standoff\":15},\"zerolinecolor\":\"white\",\"automargin\":true,\"zerolinewidth\":2},\"yaxis\":{\"gridcolor\":\"white\",\"linecolor\":\"white\",\"ticks\":\"\",\"title\":{\"standoff\":15},\"zerolinecolor\":\"white\",\"automargin\":true,\"zerolinewidth\":2},\"scene\":{\"xaxis\":{\"backgroundcolor\":\"#E5ECF6\",\"gridcolor\":\"white\",\"linecolor\":\"white\",\"showbackground\":true,\"ticks\":\"\",\"zerolinecolor\":\"white\",\"gridwidth\":2},\"yaxis\":{\"backgroundcolor\":\"#E5ECF6\",\"gridcolor\":\"white\",\"linecolor\":\"white\",\"showbackground\":true,\"ticks\":\"\",\"zerolinecolor\":\"white\",\"gridwidth\":2},\"zaxis\":{\"backgroundcolor\":\"#E5ECF6\",\"gridcolor\":\"white\",\"linecolor\":\"white\",\"showbackground\":true,\"ticks\":\"\",\"zerolinecolor\":\"white\",\"gridwidth\":2}},\"shapedefaults\":{\"line\":{\"color\":\"#2a3f5f\"}},\"annotationdefaults\":{\"arrowcolor\":\"#2a3f5f\",\"arrowhead\":0,\"arrowwidth\":1},\"geo\":{\"bgcolor\":\"white\",\"landcolor\":\"#E5ECF6\",\"subunitcolor\":\"white\",\"showland\":true,\"showlakes\":true,\"lakecolor\":\"white\"},\"title\":{\"x\":0.05},\"mapbox\":{\"style\":\"light\"}}}},                        {\"responsive\": true}                    ).then(function(){\n",
              "                            \n",
              "var gd = document.getElementById('3eaf1a76-b5a6-4def-be67-0df846d61917');\n",
              "var x = new MutationObserver(function (mutations, observer) {{\n",
              "        var display = window.getComputedStyle(gd).display;\n",
              "        if (!display || display === 'none') {{\n",
              "            console.log([gd, 'removed!']);\n",
              "            Plotly.purge(gd);\n",
              "            observer.disconnect();\n",
              "        }}\n",
              "}});\n",
              "\n",
              "// Listen for the removal of the full notebook cells\n",
              "var notebookContainer = gd.closest('#notebook-container');\n",
              "if (notebookContainer) {{\n",
              "    x.observe(notebookContainer, {childList: true});\n",
              "}}\n",
              "\n",
              "// Listen for the clearing of the current output cell\n",
              "var outputEl = gd.closest('.output');\n",
              "if (outputEl) {{\n",
              "    x.observe(outputEl, {childList: true});\n",
              "}}\n",
              "\n",
              "                        })                };                            </script>        </div>\n",
              "</body>\n",
              "</html>"
            ]
          },
          "metadata": {}
        }
      ],
      "source": [
        "plot_param_importances(study)\n"
      ],
      "id": "dVvbOALcVdpB"
    },
    {
      "cell_type": "code",
      "execution_count": null,
      "metadata": {
        "id": "N4lijEeSZZIf",
        "colab": {
          "base_uri": "https://localhost:8080/"
        },
        "outputId": "5b498136-615e-4d95-892b-8aa3a32a65d4"
      },
      "outputs": [
        {
          "output_type": "stream",
          "name": "stdout",
          "text": [
            "Accuracy: 0.8923447501800472\n",
            "time 0.5399169921875\n"
          ]
        }
      ],
      "source": [
        "rs=NIA\n",
        "hgb = HistGradientBoostingClassifier(random_state=rs)\n",
        "classif=Pipeline([('hgb',hgb)])\n",
        "classif.set_params(**study.best_params)\n",
        "(bacopt3, tiempo)=default_hp(classif, X_train, y_train, X_test, y_test)"
      ],
      "id": "N4lijEeSZZIf"
    },
    {
      "cell_type": "code",
      "execution_count": null,
      "metadata": {
        "id": "HLLMurXWhWZM",
        "colab": {
          "base_uri": "https://localhost:8080/"
        },
        "outputId": "4bc995d0-67d8-41d8-ecbe-4a26b61db40b"
      },
      "outputs": [
        {
          "output_type": "stream",
          "name": "stdout",
          "text": [
            "Fitting 3 folds for each of 30 candidates, totalling 90 fits\n",
            "Accuracy:  0.9088169987335363\n",
            "Best hyper-parameters: {'hgb__learning_rate': 0.48619872960243593, 'hgb__max_depth': 11} and their score (inner evaluation): 0.8981460926588363\n",
            "time 77.056969165802\n"
          ]
        }
      ],
      "source": [
        "from scipy.stats import randint as sp_randint\n",
        "from scipy.stats import uniform\n",
        "import time\n",
        "rs=NIA\n",
        "hgb = HistGradientBoostingClassifier(random_state=rs)\n",
        "clf=Pipeline([('hgb',hgb)])\n",
        "param_grid = {'hgb__max_depth': sp_randint(3,25),\n",
        "              'hgb__learning_rate': uniform(0.01,0.7)}\n",
        "(Accur3,best_params,inner_score,timer3)=default_RS(clf, X_train, y_train, X_test, y_test,param_grid,30)"
      ],
      "id": "HLLMurXWhWZM"
    },
    {
      "cell_type": "markdown",
      "metadata": {
        "id": "jUBN-UGjDMHI"
      },
      "source": [
        "### XGBoost"
      ],
      "id": "jUBN-UGjDMHI"
    },
    {
      "cell_type": "markdown",
      "metadata": {
        "id": "-S9bdnSiaBx5"
      },
      "source": [
        "#### Early stopping"
      ],
      "id": "-S9bdnSiaBx5"
    },
    {
      "cell_type": "code",
      "execution_count": null,
      "metadata": {
        "id": "njLUrbDG3QdY",
        "colab": {
          "base_uri": "https://localhost:8080/"
        },
        "outputId": "83f47d49-6549-440a-f9c3-7eaff7e71675"
      },
      "outputs": [
        {
          "output_type": "stream",
          "name": "stdout",
          "text": [
            "(20340, 8) (20340,)\n",
            "(10019, 8) (10019,)\n"
          ]
        }
      ],
      "source": [
        "rs=NIA\n",
        "X_val1, X_val2, y_val1, y_val2 = train_test_split(X_train,y_train, test_size=0.33, random_state=rs,stratify=y_train)\n",
        "print(X_val1.shape, y_val1.shape)\n",
        "print(X_val2.shape, y_val2.shape)"
      ],
      "id": "njLUrbDG3QdY"
    },
    {
      "cell_type": "code",
      "execution_count": null,
      "metadata": {
        "id": "w6jwU_dc3phx"
      },
      "outputs": [],
      "source": [
        "dtrain = xgb.DMatrix(X_val1, label=y_val1)\n",
        "dval = xgb.DMatrix(X_val2, label=y_val2)"
      ],
      "id": "w6jwU_dc3phx"
    },
    {
      "cell_type": "code",
      "execution_count": null,
      "metadata": {
        "id": "UQh2gYOwOGx_",
        "colab": {
          "base_uri": "https://localhost:8080/"
        },
        "outputId": "37fe1bfe-0bdb-45b1-e1ad-36bcee4ea6c6"
      },
      "outputs": [
        {
          "output_type": "stream",
          "name": "stderr",
          "text": [
            "[I 2023-05-30 21:29:24,968] A new study created in memory with name: no-name-7b44d29b-ecc9-4158-a99f-db1941d578f0\n",
            "/usr/local/lib/python3.10/dist-packages/xgboost/sklearn.py:835: UserWarning: `early_stopping_rounds` in `fit` method is deprecated for better compatibility with scikit-learn, use `early_stopping_rounds` in constructor or`set_params` instead.\n",
            "  warnings.warn(\n",
            "[I 2023-05-30 21:30:18,294] Trial 0 finished with value: 0.9768119470027903 and parameters: {'max_depth': 27, 'learning_rate': 0.26134183245256465}. Best is trial 0 with value: 0.9768119470027903.\n",
            "[I 2023-05-30 21:30:36,659] Trial 1 finished with value: 0.9740963762079341 and parameters: {'max_depth': 5, 'learning_rate': 0.2587609385557444}. Best is trial 0 with value: 0.9768119470027903.\n",
            "[I 2023-05-30 21:31:41,703] Trial 2 finished with value: 0.9774848711339891 and parameters: {'max_depth': 23, 'learning_rate': 0.1183261788435822}. Best is trial 2 with value: 0.9774848711339891.\n",
            "[I 2023-05-30 21:31:53,692] Trial 3 finished with value: 0.9757640887755863 and parameters: {'max_depth': 6, 'learning_rate': 0.3163116130587683}. Best is trial 2 with value: 0.9774848711339891.\n",
            "[I 2023-05-30 21:32:23,375] Trial 4 finished with value: 0.9759126964224477 and parameters: {'max_depth': 26, 'learning_rate': 0.39720432405138645}. Best is trial 2 with value: 0.9774848711339891.\n",
            "[I 2023-05-30 21:32:52,856] Trial 5 finished with value: 0.9764010485921928 and parameters: {'max_depth': 22, 'learning_rate': 0.41916998577769776}. Best is trial 2 with value: 0.9774848711339891.\n",
            "[I 2023-05-30 21:33:25,499] Trial 6 finished with value: 0.9773066602077694 and parameters: {'max_depth': 17, 'learning_rate': 0.1997187971939983}. Best is trial 2 with value: 0.9774848711339891.\n",
            "[I 2023-05-30 21:33:42,495] Trial 7 finished with value: 0.9761393286905932 and parameters: {'max_depth': 7, 'learning_rate': 0.4064995751561206}. Best is trial 2 with value: 0.9774848711339891.\n",
            "[I 2023-05-30 21:33:59,601] Trial 8 finished with value: 0.9759162235349333 and parameters: {'max_depth': 7, 'learning_rate': 0.4445710089250719}. Best is trial 2 with value: 0.9774848711339891.\n",
            "[I 2023-05-30 21:34:30,544] Trial 9 finished with value: 0.9772107553688565 and parameters: {'max_depth': 30, 'learning_rate': 0.1900687247447186}. Best is trial 2 with value: 0.9774848711339891.\n",
            "[I 2023-05-30 21:35:07,163] Trial 10 finished with value: 0.9737807302223793 and parameters: {'max_depth': 15, 'learning_rate': 0.02070456381436006}. Best is trial 2 with value: 0.9774848711339891.\n",
            "[I 2023-05-30 21:35:35,949] Trial 11 finished with value: 0.9777666731500295 and parameters: {'max_depth': 16, 'learning_rate': 0.12864280734898756}. Best is trial 11 with value: 0.9777666731500295.\n",
            "[I 2023-05-30 21:36:08,170] Trial 12 finished with value: 0.9776152927442199 and parameters: {'max_depth': 16, 'learning_rate': 0.10650668358235912}. Best is trial 11 with value: 0.9777666731500295.\n",
            "[I 2023-05-30 21:36:41,756] Trial 13 finished with value: 0.9771040653131525 and parameters: {'max_depth': 14, 'learning_rate': 0.08878725316444154}. Best is trial 11 with value: 0.9777666731500295.\n",
            "[I 2023-05-30 21:37:23,086] Trial 14 finished with value: 0.977776235090814 and parameters: {'max_depth': 13, 'learning_rate': 0.10591662950771547}. Best is trial 14 with value: 0.977776235090814.\n",
            "[I 2023-05-30 21:38:13,085] Trial 15 finished with value: 0.9694251744493525 and parameters: {'max_depth': 12, 'learning_rate': 0.015598637398371279}. Best is trial 14 with value: 0.977776235090814.\n",
            "[I 2023-05-30 21:38:33,870] Trial 16 finished with value: 0.9777182314201704 and parameters: {'max_depth': 11, 'learning_rate': 0.17101260132798948}. Best is trial 14 with value: 0.977776235090814.\n",
            "[I 2023-05-30 21:39:08,841] Trial 17 finished with value: 0.9777317486200428 and parameters: {'max_depth': 19, 'learning_rate': 0.08178976845060283}. Best is trial 14 with value: 0.977776235090814.\n",
            "[I 2023-05-30 21:39:28,409] Trial 18 finished with value: 0.9767850349306464 and parameters: {'max_depth': 10, 'learning_rate': 0.15979933916502656}. Best is trial 14 with value: 0.977776235090814.\n",
            "[I 2023-05-30 21:40:08,381] Trial 19 finished with value: 0.9770989479418585 and parameters: {'max_depth': 20, 'learning_rate': 0.05519736689738397}. Best is trial 14 with value: 0.977776235090814.\n",
            "[I 2023-05-30 21:40:26,403] Trial 20 finished with value: 0.9772769549887438 and parameters: {'max_depth': 10, 'learning_rate': 0.13419529588419157}. Best is trial 14 with value: 0.977776235090814.\n",
            "[I 2023-05-30 21:41:02,672] Trial 21 finished with value: 0.9774869303152668 and parameters: {'max_depth': 19, 'learning_rate': 0.0655531445148367}. Best is trial 14 with value: 0.977776235090814.\n",
            "[I 2023-05-30 21:41:39,016] Trial 22 finished with value: 0.9775609792895295 and parameters: {'max_depth': 19, 'learning_rate': 0.07370958438777436}. Best is trial 14 with value: 0.977776235090814.\n",
            "[I 2023-05-30 21:42:04,947] Trial 23 finished with value: 0.9775509280383423 and parameters: {'max_depth': 14, 'learning_rate': 0.13996233568229138}. Best is trial 14 with value: 0.977776235090814.\n",
            "[I 2023-05-30 21:42:44,766] Trial 24 finished with value: 0.9773576300413753 and parameters: {'max_depth': 23, 'learning_rate': 0.11355755220725819}. Best is trial 14 with value: 0.977776235090814.\n",
            "[I 2023-05-30 21:43:18,723] Trial 25 finished with value: 0.9761096234715676 and parameters: {'max_depth': 13, 'learning_rate': 0.05165447652484053}. Best is trial 14 with value: 0.977776235090814.\n",
            "[I 2023-05-30 21:43:42,810] Trial 26 finished with value: 0.9776046298550296 and parameters: {'max_depth': 18, 'learning_rate': 0.20901772247860176}. Best is trial 14 with value: 0.977776235090814.\n",
            "[I 2023-05-30 21:44:19,898] Trial 27 finished with value: 0.9774152871171503 and parameters: {'max_depth': 21, 'learning_rate': 0.09046418704542601}. Best is trial 14 with value: 0.977776235090814.\n",
            "[I 2023-05-30 21:44:24,855] Trial 28 finished with value: 0.9532793990942049 and parameters: {'max_depth': 3, 'learning_rate': 0.1548524781552936}. Best is trial 14 with value: 0.977776235090814.\n",
            "[I 2023-05-30 21:44:58,487] Trial 29 finished with value: 0.9760272969963273 and parameters: {'max_depth': 16, 'learning_rate': 0.03316378175855685}. Best is trial 14 with value: 0.977776235090814.\n"
          ]
        },
        {
          "output_type": "stream",
          "name": "stdout",
          "text": [
            "time 933.5221133232117\n",
            "The best trial is : \n",
            "FrozenTrial(number=14, state=TrialState.COMPLETE, values=[0.977776235090814], datetime_start=datetime.datetime(2023, 5, 30, 21, 36, 41, 758062), datetime_complete=datetime.datetime(2023, 5, 30, 21, 37, 23, 86328), params={'max_depth': 13, 'learning_rate': 0.10591662950771547}, user_attrs={'act_iters': 500}, system_attrs={}, intermediate_values={}, distributions={'max_depth': IntDistribution(high=30, log=False, low=3, step=1), 'learning_rate': FloatDistribution(high=0.5, log=False, low=0.01, step=None)}, trial_id=14, value=None)\n",
            "The best value is : \n",
            "0.977776235090814\n",
            "The best parameters are : \n",
            "{'max_depth': 13, 'learning_rate': 0.10591662950771547}\n"
          ]
        }
      ],
      "source": [
        "from pandas.core.common import random_state\n",
        "import optuna\n",
        "import time\n",
        "from sklearn import metrics\n",
        "from sklearn.model_selection import cross_val_score, KFold\n",
        "from sklearn.ensemble import ExtraTreesClassifier\n",
        "from sklearn.model_selection import StratifiedKFold\n",
        "inicio = time.time()\n",
        "cv_inner = StratifiedKFold(n_splits=3, random_state=rs, shuffle=True)\n",
        "rs=NIA\n",
        "np.random.seed(NIA)\n",
        "def _objective(trial):\n",
        "    xgbc__max_depth = trial.suggest_int('max_depth',3,30)\n",
        "    xgbc__learning_rate = trial.suggest_float(\"learning_rate\",0.01,0.5)\n",
        "    model = xgb.XGBClassifier(max_depth=xgbc__max_depth, learning_rate=xgbc__learning_rate,n_estimators=500,eval_metric='auc',random_state=rs)\n",
        "    model.fit(X_val1,y_val1,eval_set = [(X_val2,y_val2)],early_stopping_rounds =100,verbose=0)\n",
        "    results = model.evals_result()['validation_0']['auc']\n",
        "    result = results[-1]\n",
        "    trial.set_user_attr('act_iters', len(results))\n",
        "    return result\n",
        "\n",
        "# Step 4: Running it\n",
        "study = optuna.create_study(direction=\"maximize\")\n",
        "study.optimize( _objective, n_trials=30)\n",
        "\n",
        "fin=time.time()\n",
        "print('time',fin-inicio)\n",
        "timeopt4=fin-inicio\n",
        "# Getting the best trial:\n",
        "print(f\"The best trial is : \\n{study.best_trial}\")\n",
        "# Getting the best score:\n",
        "print(f\"The best value is : \\n{study.best_value}\")\n",
        "# Getting the best parameters:\n",
        "print(f\"The best parameters are : \\n{study.best_params}\")"
      ],
      "id": "UQh2gYOwOGx_"
    },
    {
      "cell_type": "code",
      "execution_count": null,
      "metadata": {
        "id": "IwNpjK9_QXwD",
        "colab": {
          "base_uri": "https://localhost:8080/"
        },
        "outputId": "5a6a5254-7fb1-4a20-b471-75d0d409ef4f"
      },
      "outputs": [
        {
          "output_type": "stream",
          "name": "stdout",
          "text": [
            "Precision: 0.977776235090814\n",
            "Best hyperparameters: {'max_depth': 13, 'learning_rate': 0.10591662950771547}\n"
          ]
        }
      ],
      "source": [
        "\n",
        "trial = study.best_trial\n",
        "print('Precision: {}'.format(trial.value))\n",
        "print(\"Best hyperparameters: {}\".format(trial.params))"
      ],
      "id": "IwNpjK9_QXwD"
    },
    {
      "cell_type": "code",
      "execution_count": null,
      "metadata": {
        "id": "52TzvLpmQlYo",
        "colab": {
          "base_uri": "https://localhost:8080/"
        },
        "outputId": "574565ab-4b22-4f4d-8704-c9935d28d05d"
      },
      "outputs": [
        {
          "output_type": "stream",
          "name": "stdout",
          "text": [
            "Accuracy: 0.9266515104749624\n",
            "time 8.690353155136108\n"
          ]
        }
      ],
      "source": [
        "rs=NIA\n",
        "xgbc = xgb.XGBClassifier(random_state=rs)\n",
        "xgbc.set_params(**study.best_params)\n",
        "classif=Pipeline([('xgbc',xgbc)])\n",
        "(bacopt4, tiempo)=default_hp(classif, X_train, y_train, X_test, y_test)"
      ],
      "id": "52TzvLpmQlYo"
    },
    {
      "cell_type": "code",
      "execution_count": null,
      "metadata": {
        "id": "Ny4bv4MMGbJF",
        "colab": {
          "base_uri": "https://localhost:8080/",
          "height": 542
        },
        "outputId": "b87e1a42-d156-4f58-a9ba-da53c70d7d10"
      },
      "outputs": [
        {
          "output_type": "display_data",
          "data": {
            "text/html": [
              "<html>\n",
              "<head><meta charset=\"utf-8\" /></head>\n",
              "<body>\n",
              "    <div>            <script src=\"https://cdnjs.cloudflare.com/ajax/libs/mathjax/2.7.5/MathJax.js?config=TeX-AMS-MML_SVG\"></script><script type=\"text/javascript\">if (window.MathJax && window.MathJax.Hub && window.MathJax.Hub.Config) {window.MathJax.Hub.Config({SVG: {font: \"STIX-Web\"}});}</script>                <script type=\"text/javascript\">window.PlotlyConfig = {MathJaxConfig: 'local'};</script>\n",
              "        <script src=\"https://cdn.plot.ly/plotly-2.18.2.min.js\"></script>                <div id=\"f7b7a59d-c399-407e-b836-362c37f5a05a\" class=\"plotly-graph-div\" style=\"height:525px; width:100%;\"></div>            <script type=\"text/javascript\">                                    window.PLOTLYENV=window.PLOTLYENV || {};                                    if (document.getElementById(\"f7b7a59d-c399-407e-b836-362c37f5a05a\")) {                    Plotly.newPlot(                        \"f7b7a59d-c399-407e-b836-362c37f5a05a\",                        [{\"mode\":\"markers\",\"name\":\"Objective Value\",\"x\":[0,1,2,3,4,5,6,7,8,9,10,11,12,13,14,15,16,17,18,19,20,21,22,23,24,25,26,27,28,29],\"y\":[0.9768119470027903,0.9740963762079341,0.9774848711339891,0.9757640887755863,0.9759126964224477,0.9764010485921928,0.9773066602077694,0.9761393286905932,0.9759162235349333,0.9772107553688565,0.9737807302223793,0.9777666731500295,0.9776152927442199,0.9771040653131525,0.977776235090814,0.9694251744493525,0.9777182314201704,0.9777317486200428,0.9767850349306464,0.9770989479418585,0.9772769549887438,0.9774869303152668,0.9775609792895295,0.9775509280383423,0.9773576300413753,0.9761096234715676,0.9776046298550296,0.9774152871171503,0.9532793990942049,0.9760272969963273],\"type\":\"scatter\"},{\"name\":\"Best Value\",\"x\":[0,1,2,3,4,5,6,7,8,9,10,11,12,13,14,15,16,17,18,19,20,21,22,23,24,25,26,27,28,29],\"y\":[0.9768119470027903,0.9768119470027903,0.9774848711339891,0.9774848711339891,0.9774848711339891,0.9774848711339891,0.9774848711339891,0.9774848711339891,0.9774848711339891,0.9774848711339891,0.9774848711339891,0.9777666731500295,0.9777666731500295,0.9777666731500295,0.977776235090814,0.977776235090814,0.977776235090814,0.977776235090814,0.977776235090814,0.977776235090814,0.977776235090814,0.977776235090814,0.977776235090814,0.977776235090814,0.977776235090814,0.977776235090814,0.977776235090814,0.977776235090814,0.977776235090814,0.977776235090814],\"type\":\"scatter\"}],                        {\"title\":{\"text\":\"Optimization History Plot\"},\"xaxis\":{\"title\":{\"text\":\"Trial\"}},\"yaxis\":{\"title\":{\"text\":\"Objective Value\"}},\"template\":{\"data\":{\"histogram2dcontour\":[{\"type\":\"histogram2dcontour\",\"colorbar\":{\"outlinewidth\":0,\"ticks\":\"\"},\"colorscale\":[[0.0,\"#0d0887\"],[0.1111111111111111,\"#46039f\"],[0.2222222222222222,\"#7201a8\"],[0.3333333333333333,\"#9c179e\"],[0.4444444444444444,\"#bd3786\"],[0.5555555555555556,\"#d8576b\"],[0.6666666666666666,\"#ed7953\"],[0.7777777777777778,\"#fb9f3a\"],[0.8888888888888888,\"#fdca26\"],[1.0,\"#f0f921\"]]}],\"choropleth\":[{\"type\":\"choropleth\",\"colorbar\":{\"outlinewidth\":0,\"ticks\":\"\"}}],\"histogram2d\":[{\"type\":\"histogram2d\",\"colorbar\":{\"outlinewidth\":0,\"ticks\":\"\"},\"colorscale\":[[0.0,\"#0d0887\"],[0.1111111111111111,\"#46039f\"],[0.2222222222222222,\"#7201a8\"],[0.3333333333333333,\"#9c179e\"],[0.4444444444444444,\"#bd3786\"],[0.5555555555555556,\"#d8576b\"],[0.6666666666666666,\"#ed7953\"],[0.7777777777777778,\"#fb9f3a\"],[0.8888888888888888,\"#fdca26\"],[1.0,\"#f0f921\"]]}],\"heatmap\":[{\"type\":\"heatmap\",\"colorbar\":{\"outlinewidth\":0,\"ticks\":\"\"},\"colorscale\":[[0.0,\"#0d0887\"],[0.1111111111111111,\"#46039f\"],[0.2222222222222222,\"#7201a8\"],[0.3333333333333333,\"#9c179e\"],[0.4444444444444444,\"#bd3786\"],[0.5555555555555556,\"#d8576b\"],[0.6666666666666666,\"#ed7953\"],[0.7777777777777778,\"#fb9f3a\"],[0.8888888888888888,\"#fdca26\"],[1.0,\"#f0f921\"]]}],\"heatmapgl\":[{\"type\":\"heatmapgl\",\"colorbar\":{\"outlinewidth\":0,\"ticks\":\"\"},\"colorscale\":[[0.0,\"#0d0887\"],[0.1111111111111111,\"#46039f\"],[0.2222222222222222,\"#7201a8\"],[0.3333333333333333,\"#9c179e\"],[0.4444444444444444,\"#bd3786\"],[0.5555555555555556,\"#d8576b\"],[0.6666666666666666,\"#ed7953\"],[0.7777777777777778,\"#fb9f3a\"],[0.8888888888888888,\"#fdca26\"],[1.0,\"#f0f921\"]]}],\"contourcarpet\":[{\"type\":\"contourcarpet\",\"colorbar\":{\"outlinewidth\":0,\"ticks\":\"\"}}],\"contour\":[{\"type\":\"contour\",\"colorbar\":{\"outlinewidth\":0,\"ticks\":\"\"},\"colorscale\":[[0.0,\"#0d0887\"],[0.1111111111111111,\"#46039f\"],[0.2222222222222222,\"#7201a8\"],[0.3333333333333333,\"#9c179e\"],[0.4444444444444444,\"#bd3786\"],[0.5555555555555556,\"#d8576b\"],[0.6666666666666666,\"#ed7953\"],[0.7777777777777778,\"#fb9f3a\"],[0.8888888888888888,\"#fdca26\"],[1.0,\"#f0f921\"]]}],\"surface\":[{\"type\":\"surface\",\"colorbar\":{\"outlinewidth\":0,\"ticks\":\"\"},\"colorscale\":[[0.0,\"#0d0887\"],[0.1111111111111111,\"#46039f\"],[0.2222222222222222,\"#7201a8\"],[0.3333333333333333,\"#9c179e\"],[0.4444444444444444,\"#bd3786\"],[0.5555555555555556,\"#d8576b\"],[0.6666666666666666,\"#ed7953\"],[0.7777777777777778,\"#fb9f3a\"],[0.8888888888888888,\"#fdca26\"],[1.0,\"#f0f921\"]]}],\"mesh3d\":[{\"type\":\"mesh3d\",\"colorbar\":{\"outlinewidth\":0,\"ticks\":\"\"}}],\"scatter\":[{\"fillpattern\":{\"fillmode\":\"overlay\",\"size\":10,\"solidity\":0.2},\"type\":\"scatter\"}],\"parcoords\":[{\"type\":\"parcoords\",\"line\":{\"colorbar\":{\"outlinewidth\":0,\"ticks\":\"\"}}}],\"scatterpolargl\":[{\"type\":\"scatterpolargl\",\"marker\":{\"colorbar\":{\"outlinewidth\":0,\"ticks\":\"\"}}}],\"bar\":[{\"error_x\":{\"color\":\"#2a3f5f\"},\"error_y\":{\"color\":\"#2a3f5f\"},\"marker\":{\"line\":{\"color\":\"#E5ECF6\",\"width\":0.5},\"pattern\":{\"fillmode\":\"overlay\",\"size\":10,\"solidity\":0.2}},\"type\":\"bar\"}],\"scattergeo\":[{\"type\":\"scattergeo\",\"marker\":{\"colorbar\":{\"outlinewidth\":0,\"ticks\":\"\"}}}],\"scatterpolar\":[{\"type\":\"scatterpolar\",\"marker\":{\"colorbar\":{\"outlinewidth\":0,\"ticks\":\"\"}}}],\"histogram\":[{\"marker\":{\"pattern\":{\"fillmode\":\"overlay\",\"size\":10,\"solidity\":0.2}},\"type\":\"histogram\"}],\"scattergl\":[{\"type\":\"scattergl\",\"marker\":{\"colorbar\":{\"outlinewidth\":0,\"ticks\":\"\"}}}],\"scatter3d\":[{\"type\":\"scatter3d\",\"line\":{\"colorbar\":{\"outlinewidth\":0,\"ticks\":\"\"}},\"marker\":{\"colorbar\":{\"outlinewidth\":0,\"ticks\":\"\"}}}],\"scattermapbox\":[{\"type\":\"scattermapbox\",\"marker\":{\"colorbar\":{\"outlinewidth\":0,\"ticks\":\"\"}}}],\"scatterternary\":[{\"type\":\"scatterternary\",\"marker\":{\"colorbar\":{\"outlinewidth\":0,\"ticks\":\"\"}}}],\"scattercarpet\":[{\"type\":\"scattercarpet\",\"marker\":{\"colorbar\":{\"outlinewidth\":0,\"ticks\":\"\"}}}],\"carpet\":[{\"aaxis\":{\"endlinecolor\":\"#2a3f5f\",\"gridcolor\":\"white\",\"linecolor\":\"white\",\"minorgridcolor\":\"white\",\"startlinecolor\":\"#2a3f5f\"},\"baxis\":{\"endlinecolor\":\"#2a3f5f\",\"gridcolor\":\"white\",\"linecolor\":\"white\",\"minorgridcolor\":\"white\",\"startlinecolor\":\"#2a3f5f\"},\"type\":\"carpet\"}],\"table\":[{\"cells\":{\"fill\":{\"color\":\"#EBF0F8\"},\"line\":{\"color\":\"white\"}},\"header\":{\"fill\":{\"color\":\"#C8D4E3\"},\"line\":{\"color\":\"white\"}},\"type\":\"table\"}],\"barpolar\":[{\"marker\":{\"line\":{\"color\":\"#E5ECF6\",\"width\":0.5},\"pattern\":{\"fillmode\":\"overlay\",\"size\":10,\"solidity\":0.2}},\"type\":\"barpolar\"}],\"pie\":[{\"automargin\":true,\"type\":\"pie\"}]},\"layout\":{\"autotypenumbers\":\"strict\",\"colorway\":[\"#636efa\",\"#EF553B\",\"#00cc96\",\"#ab63fa\",\"#FFA15A\",\"#19d3f3\",\"#FF6692\",\"#B6E880\",\"#FF97FF\",\"#FECB52\"],\"font\":{\"color\":\"#2a3f5f\"},\"hovermode\":\"closest\",\"hoverlabel\":{\"align\":\"left\"},\"paper_bgcolor\":\"white\",\"plot_bgcolor\":\"#E5ECF6\",\"polar\":{\"bgcolor\":\"#E5ECF6\",\"angularaxis\":{\"gridcolor\":\"white\",\"linecolor\":\"white\",\"ticks\":\"\"},\"radialaxis\":{\"gridcolor\":\"white\",\"linecolor\":\"white\",\"ticks\":\"\"}},\"ternary\":{\"bgcolor\":\"#E5ECF6\",\"aaxis\":{\"gridcolor\":\"white\",\"linecolor\":\"white\",\"ticks\":\"\"},\"baxis\":{\"gridcolor\":\"white\",\"linecolor\":\"white\",\"ticks\":\"\"},\"caxis\":{\"gridcolor\":\"white\",\"linecolor\":\"white\",\"ticks\":\"\"}},\"coloraxis\":{\"colorbar\":{\"outlinewidth\":0,\"ticks\":\"\"}},\"colorscale\":{\"sequential\":[[0.0,\"#0d0887\"],[0.1111111111111111,\"#46039f\"],[0.2222222222222222,\"#7201a8\"],[0.3333333333333333,\"#9c179e\"],[0.4444444444444444,\"#bd3786\"],[0.5555555555555556,\"#d8576b\"],[0.6666666666666666,\"#ed7953\"],[0.7777777777777778,\"#fb9f3a\"],[0.8888888888888888,\"#fdca26\"],[1.0,\"#f0f921\"]],\"sequentialminus\":[[0.0,\"#0d0887\"],[0.1111111111111111,\"#46039f\"],[0.2222222222222222,\"#7201a8\"],[0.3333333333333333,\"#9c179e\"],[0.4444444444444444,\"#bd3786\"],[0.5555555555555556,\"#d8576b\"],[0.6666666666666666,\"#ed7953\"],[0.7777777777777778,\"#fb9f3a\"],[0.8888888888888888,\"#fdca26\"],[1.0,\"#f0f921\"]],\"diverging\":[[0,\"#8e0152\"],[0.1,\"#c51b7d\"],[0.2,\"#de77ae\"],[0.3,\"#f1b6da\"],[0.4,\"#fde0ef\"],[0.5,\"#f7f7f7\"],[0.6,\"#e6f5d0\"],[0.7,\"#b8e186\"],[0.8,\"#7fbc41\"],[0.9,\"#4d9221\"],[1,\"#276419\"]]},\"xaxis\":{\"gridcolor\":\"white\",\"linecolor\":\"white\",\"ticks\":\"\",\"title\":{\"standoff\":15},\"zerolinecolor\":\"white\",\"automargin\":true,\"zerolinewidth\":2},\"yaxis\":{\"gridcolor\":\"white\",\"linecolor\":\"white\",\"ticks\":\"\",\"title\":{\"standoff\":15},\"zerolinecolor\":\"white\",\"automargin\":true,\"zerolinewidth\":2},\"scene\":{\"xaxis\":{\"backgroundcolor\":\"#E5ECF6\",\"gridcolor\":\"white\",\"linecolor\":\"white\",\"showbackground\":true,\"ticks\":\"\",\"zerolinecolor\":\"white\",\"gridwidth\":2},\"yaxis\":{\"backgroundcolor\":\"#E5ECF6\",\"gridcolor\":\"white\",\"linecolor\":\"white\",\"showbackground\":true,\"ticks\":\"\",\"zerolinecolor\":\"white\",\"gridwidth\":2},\"zaxis\":{\"backgroundcolor\":\"#E5ECF6\",\"gridcolor\":\"white\",\"linecolor\":\"white\",\"showbackground\":true,\"ticks\":\"\",\"zerolinecolor\":\"white\",\"gridwidth\":2}},\"shapedefaults\":{\"line\":{\"color\":\"#2a3f5f\"}},\"annotationdefaults\":{\"arrowcolor\":\"#2a3f5f\",\"arrowhead\":0,\"arrowwidth\":1},\"geo\":{\"bgcolor\":\"white\",\"landcolor\":\"#E5ECF6\",\"subunitcolor\":\"white\",\"showland\":true,\"showlakes\":true,\"lakecolor\":\"white\"},\"title\":{\"x\":0.05},\"mapbox\":{\"style\":\"light\"}}}},                        {\"responsive\": true}                    ).then(function(){\n",
              "                            \n",
              "var gd = document.getElementById('f7b7a59d-c399-407e-b836-362c37f5a05a');\n",
              "var x = new MutationObserver(function (mutations, observer) {{\n",
              "        var display = window.getComputedStyle(gd).display;\n",
              "        if (!display || display === 'none') {{\n",
              "            console.log([gd, 'removed!']);\n",
              "            Plotly.purge(gd);\n",
              "            observer.disconnect();\n",
              "        }}\n",
              "}});\n",
              "\n",
              "// Listen for the removal of the full notebook cells\n",
              "var notebookContainer = gd.closest('#notebook-container');\n",
              "if (notebookContainer) {{\n",
              "    x.observe(notebookContainer, {childList: true});\n",
              "}}\n",
              "\n",
              "// Listen for the clearing of the current output cell\n",
              "var outputEl = gd.closest('.output');\n",
              "if (outputEl) {{\n",
              "    x.observe(outputEl, {childList: true});\n",
              "}}\n",
              "\n",
              "                        })                };                            </script>        </div>\n",
              "</body>\n",
              "</html>"
            ]
          },
          "metadata": {}
        }
      ],
      "source": [
        "import matplotlib.pyplot as plt\n",
        "optuna.visualization.plot_optimization_history(study).show()"
      ],
      "id": "Ny4bv4MMGbJF"
    },
    {
      "cell_type": "code",
      "execution_count": null,
      "metadata": {
        "id": "aGiP8j7TGcQs",
        "colab": {
          "base_uri": "https://localhost:8080/",
          "height": 542
        },
        "outputId": "5201d62a-2850-46e8-ef1a-8dbad05d18a0"
      },
      "outputs": [
        {
          "output_type": "display_data",
          "data": {
            "text/html": [
              "<html>\n",
              "<head><meta charset=\"utf-8\" /></head>\n",
              "<body>\n",
              "    <div>            <script src=\"https://cdnjs.cloudflare.com/ajax/libs/mathjax/2.7.5/MathJax.js?config=TeX-AMS-MML_SVG\"></script><script type=\"text/javascript\">if (window.MathJax && window.MathJax.Hub && window.MathJax.Hub.Config) {window.MathJax.Hub.Config({SVG: {font: \"STIX-Web\"}});}</script>                <script type=\"text/javascript\">window.PlotlyConfig = {MathJaxConfig: 'local'};</script>\n",
              "        <script src=\"https://cdn.plot.ly/plotly-2.18.2.min.js\"></script>                <div id=\"9d37d3fa-9673-4c0e-854a-09898157cf38\" class=\"plotly-graph-div\" style=\"height:525px; width:100%;\"></div>            <script type=\"text/javascript\">                                    window.PLOTLYENV=window.PLOTLYENV || {};                                    if (document.getElementById(\"9d37d3fa-9673-4c0e-854a-09898157cf38\")) {                    Plotly.newPlot(                        \"9d37d3fa-9673-4c0e-854a-09898157cf38\",                        [{\"dimensions\":[{\"label\":\"Objective Value\",\"range\":[0.9532793990942049,0.977776235090814],\"values\":[0.9768119470027903,0.9740963762079341,0.9774848711339891,0.9757640887755863,0.9759126964224477,0.9764010485921928,0.9773066602077694,0.9761393286905932,0.9759162235349333,0.9772107553688565,0.9737807302223793,0.9777666731500295,0.9776152927442199,0.9771040653131525,0.977776235090814,0.9694251744493525,0.9777182314201704,0.9777317486200428,0.9767850349306464,0.9770989479418585,0.9772769549887438,0.9774869303152668,0.9775609792895295,0.9775509280383423,0.9773576300413753,0.9761096234715676,0.9776046298550296,0.9774152871171503,0.9532793990942049,0.9760272969963273]},{\"label\":\"learning_rate\",\"range\":[0.015598637398371279,0.4445710089250719],\"values\":[0.26134183245256465,0.2587609385557444,0.1183261788435822,0.3163116130587683,0.39720432405138645,0.41916998577769776,0.1997187971939983,0.4064995751561206,0.4445710089250719,0.1900687247447186,0.02070456381436006,0.12864280734898756,0.10650668358235912,0.08878725316444154,0.10591662950771547,0.015598637398371279,0.17101260132798948,0.08178976845060283,0.15979933916502656,0.05519736689738397,0.13419529588419157,0.0655531445148367,0.07370958438777436,0.13996233568229138,0.11355755220725819,0.05165447652484053,0.20901772247860176,0.09046418704542601,0.1548524781552936,0.03316378175855685]},{\"label\":\"max_depth\",\"range\":[3,30],\"values\":[27,5,23,6,26,22,17,7,7,30,15,16,16,14,13,12,11,19,10,20,10,19,19,14,23,13,18,21,3,16]}],\"labelangle\":30,\"labelside\":\"bottom\",\"line\":{\"color\":[0.9768119470027903,0.9740963762079341,0.9774848711339891,0.9757640887755863,0.9759126964224477,0.9764010485921928,0.9773066602077694,0.9761393286905932,0.9759162235349333,0.9772107553688565,0.9737807302223793,0.9777666731500295,0.9776152927442199,0.9771040653131525,0.977776235090814,0.9694251744493525,0.9777182314201704,0.9777317486200428,0.9767850349306464,0.9770989479418585,0.9772769549887438,0.9774869303152668,0.9775609792895295,0.9775509280383423,0.9773576300413753,0.9761096234715676,0.9776046298550296,0.9774152871171503,0.9532793990942049,0.9760272969963273],\"colorbar\":{\"title\":{\"text\":\"Objective Value\"}},\"colorscale\":[[0.0,\"rgb(247,251,255)\"],[0.125,\"rgb(222,235,247)\"],[0.25,\"rgb(198,219,239)\"],[0.375,\"rgb(158,202,225)\"],[0.5,\"rgb(107,174,214)\"],[0.625,\"rgb(66,146,198)\"],[0.75,\"rgb(33,113,181)\"],[0.875,\"rgb(8,81,156)\"],[1.0,\"rgb(8,48,107)\"]],\"reversescale\":false,\"showscale\":true},\"type\":\"parcoords\"}],                        {\"title\":{\"text\":\"Parallel Coordinate Plot\"},\"template\":{\"data\":{\"histogram2dcontour\":[{\"type\":\"histogram2dcontour\",\"colorbar\":{\"outlinewidth\":0,\"ticks\":\"\"},\"colorscale\":[[0.0,\"#0d0887\"],[0.1111111111111111,\"#46039f\"],[0.2222222222222222,\"#7201a8\"],[0.3333333333333333,\"#9c179e\"],[0.4444444444444444,\"#bd3786\"],[0.5555555555555556,\"#d8576b\"],[0.6666666666666666,\"#ed7953\"],[0.7777777777777778,\"#fb9f3a\"],[0.8888888888888888,\"#fdca26\"],[1.0,\"#f0f921\"]]}],\"choropleth\":[{\"type\":\"choropleth\",\"colorbar\":{\"outlinewidth\":0,\"ticks\":\"\"}}],\"histogram2d\":[{\"type\":\"histogram2d\",\"colorbar\":{\"outlinewidth\":0,\"ticks\":\"\"},\"colorscale\":[[0.0,\"#0d0887\"],[0.1111111111111111,\"#46039f\"],[0.2222222222222222,\"#7201a8\"],[0.3333333333333333,\"#9c179e\"],[0.4444444444444444,\"#bd3786\"],[0.5555555555555556,\"#d8576b\"],[0.6666666666666666,\"#ed7953\"],[0.7777777777777778,\"#fb9f3a\"],[0.8888888888888888,\"#fdca26\"],[1.0,\"#f0f921\"]]}],\"heatmap\":[{\"type\":\"heatmap\",\"colorbar\":{\"outlinewidth\":0,\"ticks\":\"\"},\"colorscale\":[[0.0,\"#0d0887\"],[0.1111111111111111,\"#46039f\"],[0.2222222222222222,\"#7201a8\"],[0.3333333333333333,\"#9c179e\"],[0.4444444444444444,\"#bd3786\"],[0.5555555555555556,\"#d8576b\"],[0.6666666666666666,\"#ed7953\"],[0.7777777777777778,\"#fb9f3a\"],[0.8888888888888888,\"#fdca26\"],[1.0,\"#f0f921\"]]}],\"heatmapgl\":[{\"type\":\"heatmapgl\",\"colorbar\":{\"outlinewidth\":0,\"ticks\":\"\"},\"colorscale\":[[0.0,\"#0d0887\"],[0.1111111111111111,\"#46039f\"],[0.2222222222222222,\"#7201a8\"],[0.3333333333333333,\"#9c179e\"],[0.4444444444444444,\"#bd3786\"],[0.5555555555555556,\"#d8576b\"],[0.6666666666666666,\"#ed7953\"],[0.7777777777777778,\"#fb9f3a\"],[0.8888888888888888,\"#fdca26\"],[1.0,\"#f0f921\"]]}],\"contourcarpet\":[{\"type\":\"contourcarpet\",\"colorbar\":{\"outlinewidth\":0,\"ticks\":\"\"}}],\"contour\":[{\"type\":\"contour\",\"colorbar\":{\"outlinewidth\":0,\"ticks\":\"\"},\"colorscale\":[[0.0,\"#0d0887\"],[0.1111111111111111,\"#46039f\"],[0.2222222222222222,\"#7201a8\"],[0.3333333333333333,\"#9c179e\"],[0.4444444444444444,\"#bd3786\"],[0.5555555555555556,\"#d8576b\"],[0.6666666666666666,\"#ed7953\"],[0.7777777777777778,\"#fb9f3a\"],[0.8888888888888888,\"#fdca26\"],[1.0,\"#f0f921\"]]}],\"surface\":[{\"type\":\"surface\",\"colorbar\":{\"outlinewidth\":0,\"ticks\":\"\"},\"colorscale\":[[0.0,\"#0d0887\"],[0.1111111111111111,\"#46039f\"],[0.2222222222222222,\"#7201a8\"],[0.3333333333333333,\"#9c179e\"],[0.4444444444444444,\"#bd3786\"],[0.5555555555555556,\"#d8576b\"],[0.6666666666666666,\"#ed7953\"],[0.7777777777777778,\"#fb9f3a\"],[0.8888888888888888,\"#fdca26\"],[1.0,\"#f0f921\"]]}],\"mesh3d\":[{\"type\":\"mesh3d\",\"colorbar\":{\"outlinewidth\":0,\"ticks\":\"\"}}],\"scatter\":[{\"fillpattern\":{\"fillmode\":\"overlay\",\"size\":10,\"solidity\":0.2},\"type\":\"scatter\"}],\"parcoords\":[{\"type\":\"parcoords\",\"line\":{\"colorbar\":{\"outlinewidth\":0,\"ticks\":\"\"}}}],\"scatterpolargl\":[{\"type\":\"scatterpolargl\",\"marker\":{\"colorbar\":{\"outlinewidth\":0,\"ticks\":\"\"}}}],\"bar\":[{\"error_x\":{\"color\":\"#2a3f5f\"},\"error_y\":{\"color\":\"#2a3f5f\"},\"marker\":{\"line\":{\"color\":\"#E5ECF6\",\"width\":0.5},\"pattern\":{\"fillmode\":\"overlay\",\"size\":10,\"solidity\":0.2}},\"type\":\"bar\"}],\"scattergeo\":[{\"type\":\"scattergeo\",\"marker\":{\"colorbar\":{\"outlinewidth\":0,\"ticks\":\"\"}}}],\"scatterpolar\":[{\"type\":\"scatterpolar\",\"marker\":{\"colorbar\":{\"outlinewidth\":0,\"ticks\":\"\"}}}],\"histogram\":[{\"marker\":{\"pattern\":{\"fillmode\":\"overlay\",\"size\":10,\"solidity\":0.2}},\"type\":\"histogram\"}],\"scattergl\":[{\"type\":\"scattergl\",\"marker\":{\"colorbar\":{\"outlinewidth\":0,\"ticks\":\"\"}}}],\"scatter3d\":[{\"type\":\"scatter3d\",\"line\":{\"colorbar\":{\"outlinewidth\":0,\"ticks\":\"\"}},\"marker\":{\"colorbar\":{\"outlinewidth\":0,\"ticks\":\"\"}}}],\"scattermapbox\":[{\"type\":\"scattermapbox\",\"marker\":{\"colorbar\":{\"outlinewidth\":0,\"ticks\":\"\"}}}],\"scatterternary\":[{\"type\":\"scatterternary\",\"marker\":{\"colorbar\":{\"outlinewidth\":0,\"ticks\":\"\"}}}],\"scattercarpet\":[{\"type\":\"scattercarpet\",\"marker\":{\"colorbar\":{\"outlinewidth\":0,\"ticks\":\"\"}}}],\"carpet\":[{\"aaxis\":{\"endlinecolor\":\"#2a3f5f\",\"gridcolor\":\"white\",\"linecolor\":\"white\",\"minorgridcolor\":\"white\",\"startlinecolor\":\"#2a3f5f\"},\"baxis\":{\"endlinecolor\":\"#2a3f5f\",\"gridcolor\":\"white\",\"linecolor\":\"white\",\"minorgridcolor\":\"white\",\"startlinecolor\":\"#2a3f5f\"},\"type\":\"carpet\"}],\"table\":[{\"cells\":{\"fill\":{\"color\":\"#EBF0F8\"},\"line\":{\"color\":\"white\"}},\"header\":{\"fill\":{\"color\":\"#C8D4E3\"},\"line\":{\"color\":\"white\"}},\"type\":\"table\"}],\"barpolar\":[{\"marker\":{\"line\":{\"color\":\"#E5ECF6\",\"width\":0.5},\"pattern\":{\"fillmode\":\"overlay\",\"size\":10,\"solidity\":0.2}},\"type\":\"barpolar\"}],\"pie\":[{\"automargin\":true,\"type\":\"pie\"}]},\"layout\":{\"autotypenumbers\":\"strict\",\"colorway\":[\"#636efa\",\"#EF553B\",\"#00cc96\",\"#ab63fa\",\"#FFA15A\",\"#19d3f3\",\"#FF6692\",\"#B6E880\",\"#FF97FF\",\"#FECB52\"],\"font\":{\"color\":\"#2a3f5f\"},\"hovermode\":\"closest\",\"hoverlabel\":{\"align\":\"left\"},\"paper_bgcolor\":\"white\",\"plot_bgcolor\":\"#E5ECF6\",\"polar\":{\"bgcolor\":\"#E5ECF6\",\"angularaxis\":{\"gridcolor\":\"white\",\"linecolor\":\"white\",\"ticks\":\"\"},\"radialaxis\":{\"gridcolor\":\"white\",\"linecolor\":\"white\",\"ticks\":\"\"}},\"ternary\":{\"bgcolor\":\"#E5ECF6\",\"aaxis\":{\"gridcolor\":\"white\",\"linecolor\":\"white\",\"ticks\":\"\"},\"baxis\":{\"gridcolor\":\"white\",\"linecolor\":\"white\",\"ticks\":\"\"},\"caxis\":{\"gridcolor\":\"white\",\"linecolor\":\"white\",\"ticks\":\"\"}},\"coloraxis\":{\"colorbar\":{\"outlinewidth\":0,\"ticks\":\"\"}},\"colorscale\":{\"sequential\":[[0.0,\"#0d0887\"],[0.1111111111111111,\"#46039f\"],[0.2222222222222222,\"#7201a8\"],[0.3333333333333333,\"#9c179e\"],[0.4444444444444444,\"#bd3786\"],[0.5555555555555556,\"#d8576b\"],[0.6666666666666666,\"#ed7953\"],[0.7777777777777778,\"#fb9f3a\"],[0.8888888888888888,\"#fdca26\"],[1.0,\"#f0f921\"]],\"sequentialminus\":[[0.0,\"#0d0887\"],[0.1111111111111111,\"#46039f\"],[0.2222222222222222,\"#7201a8\"],[0.3333333333333333,\"#9c179e\"],[0.4444444444444444,\"#bd3786\"],[0.5555555555555556,\"#d8576b\"],[0.6666666666666666,\"#ed7953\"],[0.7777777777777778,\"#fb9f3a\"],[0.8888888888888888,\"#fdca26\"],[1.0,\"#f0f921\"]],\"diverging\":[[0,\"#8e0152\"],[0.1,\"#c51b7d\"],[0.2,\"#de77ae\"],[0.3,\"#f1b6da\"],[0.4,\"#fde0ef\"],[0.5,\"#f7f7f7\"],[0.6,\"#e6f5d0\"],[0.7,\"#b8e186\"],[0.8,\"#7fbc41\"],[0.9,\"#4d9221\"],[1,\"#276419\"]]},\"xaxis\":{\"gridcolor\":\"white\",\"linecolor\":\"white\",\"ticks\":\"\",\"title\":{\"standoff\":15},\"zerolinecolor\":\"white\",\"automargin\":true,\"zerolinewidth\":2},\"yaxis\":{\"gridcolor\":\"white\",\"linecolor\":\"white\",\"ticks\":\"\",\"title\":{\"standoff\":15},\"zerolinecolor\":\"white\",\"automargin\":true,\"zerolinewidth\":2},\"scene\":{\"xaxis\":{\"backgroundcolor\":\"#E5ECF6\",\"gridcolor\":\"white\",\"linecolor\":\"white\",\"showbackground\":true,\"ticks\":\"\",\"zerolinecolor\":\"white\",\"gridwidth\":2},\"yaxis\":{\"backgroundcolor\":\"#E5ECF6\",\"gridcolor\":\"white\",\"linecolor\":\"white\",\"showbackground\":true,\"ticks\":\"\",\"zerolinecolor\":\"white\",\"gridwidth\":2},\"zaxis\":{\"backgroundcolor\":\"#E5ECF6\",\"gridcolor\":\"white\",\"linecolor\":\"white\",\"showbackground\":true,\"ticks\":\"\",\"zerolinecolor\":\"white\",\"gridwidth\":2}},\"shapedefaults\":{\"line\":{\"color\":\"#2a3f5f\"}},\"annotationdefaults\":{\"arrowcolor\":\"#2a3f5f\",\"arrowhead\":0,\"arrowwidth\":1},\"geo\":{\"bgcolor\":\"white\",\"landcolor\":\"#E5ECF6\",\"subunitcolor\":\"white\",\"showland\":true,\"showlakes\":true,\"lakecolor\":\"white\"},\"title\":{\"x\":0.05},\"mapbox\":{\"style\":\"light\"}}}},                        {\"responsive\": true}                    ).then(function(){\n",
              "                            \n",
              "var gd = document.getElementById('9d37d3fa-9673-4c0e-854a-09898157cf38');\n",
              "var x = new MutationObserver(function (mutations, observer) {{\n",
              "        var display = window.getComputedStyle(gd).display;\n",
              "        if (!display || display === 'none') {{\n",
              "            console.log([gd, 'removed!']);\n",
              "            Plotly.purge(gd);\n",
              "            observer.disconnect();\n",
              "        }}\n",
              "}});\n",
              "\n",
              "// Listen for the removal of the full notebook cells\n",
              "var notebookContainer = gd.closest('#notebook-container');\n",
              "if (notebookContainer) {{\n",
              "    x.observe(notebookContainer, {childList: true});\n",
              "}}\n",
              "\n",
              "// Listen for the clearing of the current output cell\n",
              "var outputEl = gd.closest('.output');\n",
              "if (outputEl) {{\n",
              "    x.observe(outputEl, {childList: true});\n",
              "}}\n",
              "\n",
              "                        })                };                            </script>        </div>\n",
              "</body>\n",
              "</html>"
            ]
          },
          "metadata": {}
        }
      ],
      "source": [
        "from optuna.visualization import plot_parallel_coordinate\n",
        "plot_parallel_coordinate(study)"
      ],
      "id": "aGiP8j7TGcQs"
    },
    {
      "cell_type": "code",
      "execution_count": null,
      "metadata": {
        "id": "BNsA2lkDGckO",
        "colab": {
          "base_uri": "https://localhost:8080/",
          "height": 542
        },
        "outputId": "74dc4c78-e296-4100-9b96-9069bd69248e"
      },
      "outputs": [
        {
          "output_type": "display_data",
          "data": {
            "text/html": [
              "<html>\n",
              "<head><meta charset=\"utf-8\" /></head>\n",
              "<body>\n",
              "    <div>            <script src=\"https://cdnjs.cloudflare.com/ajax/libs/mathjax/2.7.5/MathJax.js?config=TeX-AMS-MML_SVG\"></script><script type=\"text/javascript\">if (window.MathJax && window.MathJax.Hub && window.MathJax.Hub.Config) {window.MathJax.Hub.Config({SVG: {font: \"STIX-Web\"}});}</script>                <script type=\"text/javascript\">window.PlotlyConfig = {MathJaxConfig: 'local'};</script>\n",
              "        <script src=\"https://cdn.plot.ly/plotly-2.18.2.min.js\"></script>                <div id=\"d7219bb5-c031-4d10-aa2e-63e05fb4f602\" class=\"plotly-graph-div\" style=\"height:525px; width:100%;\"></div>            <script type=\"text/javascript\">                                    window.PLOTLYENV=window.PLOTLYENV || {};                                    if (document.getElementById(\"d7219bb5-c031-4d10-aa2e-63e05fb4f602\")) {                    Plotly.newPlot(                        \"d7219bb5-c031-4d10-aa2e-63e05fb4f602\",                        [{\"cliponaxis\":false,\"hovertemplate\":[\"learning_rate (FloatDistribution): 0.3411282253245476<extra></extra>\",\"max_depth (IntDistribution): 0.6588717746754523<extra></extra>\"],\"marker\":{\"color\":\"rgb(66,146,198)\"},\"orientation\":\"h\",\"text\":[\"0.34\",\"0.66\"],\"textposition\":\"outside\",\"x\":[0.3411282253245476,0.6588717746754523],\"y\":[\"learning_rate\",\"max_depth\"],\"type\":\"bar\"}],                        {\"showlegend\":false,\"title\":{\"text\":\"Hyperparameter Importances\"},\"xaxis\":{\"title\":{\"text\":\"Importance for Objective Value\"}},\"yaxis\":{\"title\":{\"text\":\"Hyperparameter\"}},\"template\":{\"data\":{\"histogram2dcontour\":[{\"type\":\"histogram2dcontour\",\"colorbar\":{\"outlinewidth\":0,\"ticks\":\"\"},\"colorscale\":[[0.0,\"#0d0887\"],[0.1111111111111111,\"#46039f\"],[0.2222222222222222,\"#7201a8\"],[0.3333333333333333,\"#9c179e\"],[0.4444444444444444,\"#bd3786\"],[0.5555555555555556,\"#d8576b\"],[0.6666666666666666,\"#ed7953\"],[0.7777777777777778,\"#fb9f3a\"],[0.8888888888888888,\"#fdca26\"],[1.0,\"#f0f921\"]]}],\"choropleth\":[{\"type\":\"choropleth\",\"colorbar\":{\"outlinewidth\":0,\"ticks\":\"\"}}],\"histogram2d\":[{\"type\":\"histogram2d\",\"colorbar\":{\"outlinewidth\":0,\"ticks\":\"\"},\"colorscale\":[[0.0,\"#0d0887\"],[0.1111111111111111,\"#46039f\"],[0.2222222222222222,\"#7201a8\"],[0.3333333333333333,\"#9c179e\"],[0.4444444444444444,\"#bd3786\"],[0.5555555555555556,\"#d8576b\"],[0.6666666666666666,\"#ed7953\"],[0.7777777777777778,\"#fb9f3a\"],[0.8888888888888888,\"#fdca26\"],[1.0,\"#f0f921\"]]}],\"heatmap\":[{\"type\":\"heatmap\",\"colorbar\":{\"outlinewidth\":0,\"ticks\":\"\"},\"colorscale\":[[0.0,\"#0d0887\"],[0.1111111111111111,\"#46039f\"],[0.2222222222222222,\"#7201a8\"],[0.3333333333333333,\"#9c179e\"],[0.4444444444444444,\"#bd3786\"],[0.5555555555555556,\"#d8576b\"],[0.6666666666666666,\"#ed7953\"],[0.7777777777777778,\"#fb9f3a\"],[0.8888888888888888,\"#fdca26\"],[1.0,\"#f0f921\"]]}],\"heatmapgl\":[{\"type\":\"heatmapgl\",\"colorbar\":{\"outlinewidth\":0,\"ticks\":\"\"},\"colorscale\":[[0.0,\"#0d0887\"],[0.1111111111111111,\"#46039f\"],[0.2222222222222222,\"#7201a8\"],[0.3333333333333333,\"#9c179e\"],[0.4444444444444444,\"#bd3786\"],[0.5555555555555556,\"#d8576b\"],[0.6666666666666666,\"#ed7953\"],[0.7777777777777778,\"#fb9f3a\"],[0.8888888888888888,\"#fdca26\"],[1.0,\"#f0f921\"]]}],\"contourcarpet\":[{\"type\":\"contourcarpet\",\"colorbar\":{\"outlinewidth\":0,\"ticks\":\"\"}}],\"contour\":[{\"type\":\"contour\",\"colorbar\":{\"outlinewidth\":0,\"ticks\":\"\"},\"colorscale\":[[0.0,\"#0d0887\"],[0.1111111111111111,\"#46039f\"],[0.2222222222222222,\"#7201a8\"],[0.3333333333333333,\"#9c179e\"],[0.4444444444444444,\"#bd3786\"],[0.5555555555555556,\"#d8576b\"],[0.6666666666666666,\"#ed7953\"],[0.7777777777777778,\"#fb9f3a\"],[0.8888888888888888,\"#fdca26\"],[1.0,\"#f0f921\"]]}],\"surface\":[{\"type\":\"surface\",\"colorbar\":{\"outlinewidth\":0,\"ticks\":\"\"},\"colorscale\":[[0.0,\"#0d0887\"],[0.1111111111111111,\"#46039f\"],[0.2222222222222222,\"#7201a8\"],[0.3333333333333333,\"#9c179e\"],[0.4444444444444444,\"#bd3786\"],[0.5555555555555556,\"#d8576b\"],[0.6666666666666666,\"#ed7953\"],[0.7777777777777778,\"#fb9f3a\"],[0.8888888888888888,\"#fdca26\"],[1.0,\"#f0f921\"]]}],\"mesh3d\":[{\"type\":\"mesh3d\",\"colorbar\":{\"outlinewidth\":0,\"ticks\":\"\"}}],\"scatter\":[{\"fillpattern\":{\"fillmode\":\"overlay\",\"size\":10,\"solidity\":0.2},\"type\":\"scatter\"}],\"parcoords\":[{\"type\":\"parcoords\",\"line\":{\"colorbar\":{\"outlinewidth\":0,\"ticks\":\"\"}}}],\"scatterpolargl\":[{\"type\":\"scatterpolargl\",\"marker\":{\"colorbar\":{\"outlinewidth\":0,\"ticks\":\"\"}}}],\"bar\":[{\"error_x\":{\"color\":\"#2a3f5f\"},\"error_y\":{\"color\":\"#2a3f5f\"},\"marker\":{\"line\":{\"color\":\"#E5ECF6\",\"width\":0.5},\"pattern\":{\"fillmode\":\"overlay\",\"size\":10,\"solidity\":0.2}},\"type\":\"bar\"}],\"scattergeo\":[{\"type\":\"scattergeo\",\"marker\":{\"colorbar\":{\"outlinewidth\":0,\"ticks\":\"\"}}}],\"scatterpolar\":[{\"type\":\"scatterpolar\",\"marker\":{\"colorbar\":{\"outlinewidth\":0,\"ticks\":\"\"}}}],\"histogram\":[{\"marker\":{\"pattern\":{\"fillmode\":\"overlay\",\"size\":10,\"solidity\":0.2}},\"type\":\"histogram\"}],\"scattergl\":[{\"type\":\"scattergl\",\"marker\":{\"colorbar\":{\"outlinewidth\":0,\"ticks\":\"\"}}}],\"scatter3d\":[{\"type\":\"scatter3d\",\"line\":{\"colorbar\":{\"outlinewidth\":0,\"ticks\":\"\"}},\"marker\":{\"colorbar\":{\"outlinewidth\":0,\"ticks\":\"\"}}}],\"scattermapbox\":[{\"type\":\"scattermapbox\",\"marker\":{\"colorbar\":{\"outlinewidth\":0,\"ticks\":\"\"}}}],\"scatterternary\":[{\"type\":\"scatterternary\",\"marker\":{\"colorbar\":{\"outlinewidth\":0,\"ticks\":\"\"}}}],\"scattercarpet\":[{\"type\":\"scattercarpet\",\"marker\":{\"colorbar\":{\"outlinewidth\":0,\"ticks\":\"\"}}}],\"carpet\":[{\"aaxis\":{\"endlinecolor\":\"#2a3f5f\",\"gridcolor\":\"white\",\"linecolor\":\"white\",\"minorgridcolor\":\"white\",\"startlinecolor\":\"#2a3f5f\"},\"baxis\":{\"endlinecolor\":\"#2a3f5f\",\"gridcolor\":\"white\",\"linecolor\":\"white\",\"minorgridcolor\":\"white\",\"startlinecolor\":\"#2a3f5f\"},\"type\":\"carpet\"}],\"table\":[{\"cells\":{\"fill\":{\"color\":\"#EBF0F8\"},\"line\":{\"color\":\"white\"}},\"header\":{\"fill\":{\"color\":\"#C8D4E3\"},\"line\":{\"color\":\"white\"}},\"type\":\"table\"}],\"barpolar\":[{\"marker\":{\"line\":{\"color\":\"#E5ECF6\",\"width\":0.5},\"pattern\":{\"fillmode\":\"overlay\",\"size\":10,\"solidity\":0.2}},\"type\":\"barpolar\"}],\"pie\":[{\"automargin\":true,\"type\":\"pie\"}]},\"layout\":{\"autotypenumbers\":\"strict\",\"colorway\":[\"#636efa\",\"#EF553B\",\"#00cc96\",\"#ab63fa\",\"#FFA15A\",\"#19d3f3\",\"#FF6692\",\"#B6E880\",\"#FF97FF\",\"#FECB52\"],\"font\":{\"color\":\"#2a3f5f\"},\"hovermode\":\"closest\",\"hoverlabel\":{\"align\":\"left\"},\"paper_bgcolor\":\"white\",\"plot_bgcolor\":\"#E5ECF6\",\"polar\":{\"bgcolor\":\"#E5ECF6\",\"angularaxis\":{\"gridcolor\":\"white\",\"linecolor\":\"white\",\"ticks\":\"\"},\"radialaxis\":{\"gridcolor\":\"white\",\"linecolor\":\"white\",\"ticks\":\"\"}},\"ternary\":{\"bgcolor\":\"#E5ECF6\",\"aaxis\":{\"gridcolor\":\"white\",\"linecolor\":\"white\",\"ticks\":\"\"},\"baxis\":{\"gridcolor\":\"white\",\"linecolor\":\"white\",\"ticks\":\"\"},\"caxis\":{\"gridcolor\":\"white\",\"linecolor\":\"white\",\"ticks\":\"\"}},\"coloraxis\":{\"colorbar\":{\"outlinewidth\":0,\"ticks\":\"\"}},\"colorscale\":{\"sequential\":[[0.0,\"#0d0887\"],[0.1111111111111111,\"#46039f\"],[0.2222222222222222,\"#7201a8\"],[0.3333333333333333,\"#9c179e\"],[0.4444444444444444,\"#bd3786\"],[0.5555555555555556,\"#d8576b\"],[0.6666666666666666,\"#ed7953\"],[0.7777777777777778,\"#fb9f3a\"],[0.8888888888888888,\"#fdca26\"],[1.0,\"#f0f921\"]],\"sequentialminus\":[[0.0,\"#0d0887\"],[0.1111111111111111,\"#46039f\"],[0.2222222222222222,\"#7201a8\"],[0.3333333333333333,\"#9c179e\"],[0.4444444444444444,\"#bd3786\"],[0.5555555555555556,\"#d8576b\"],[0.6666666666666666,\"#ed7953\"],[0.7777777777777778,\"#fb9f3a\"],[0.8888888888888888,\"#fdca26\"],[1.0,\"#f0f921\"]],\"diverging\":[[0,\"#8e0152\"],[0.1,\"#c51b7d\"],[0.2,\"#de77ae\"],[0.3,\"#f1b6da\"],[0.4,\"#fde0ef\"],[0.5,\"#f7f7f7\"],[0.6,\"#e6f5d0\"],[0.7,\"#b8e186\"],[0.8,\"#7fbc41\"],[0.9,\"#4d9221\"],[1,\"#276419\"]]},\"xaxis\":{\"gridcolor\":\"white\",\"linecolor\":\"white\",\"ticks\":\"\",\"title\":{\"standoff\":15},\"zerolinecolor\":\"white\",\"automargin\":true,\"zerolinewidth\":2},\"yaxis\":{\"gridcolor\":\"white\",\"linecolor\":\"white\",\"ticks\":\"\",\"title\":{\"standoff\":15},\"zerolinecolor\":\"white\",\"automargin\":true,\"zerolinewidth\":2},\"scene\":{\"xaxis\":{\"backgroundcolor\":\"#E5ECF6\",\"gridcolor\":\"white\",\"linecolor\":\"white\",\"showbackground\":true,\"ticks\":\"\",\"zerolinecolor\":\"white\",\"gridwidth\":2},\"yaxis\":{\"backgroundcolor\":\"#E5ECF6\",\"gridcolor\":\"white\",\"linecolor\":\"white\",\"showbackground\":true,\"ticks\":\"\",\"zerolinecolor\":\"white\",\"gridwidth\":2},\"zaxis\":{\"backgroundcolor\":\"#E5ECF6\",\"gridcolor\":\"white\",\"linecolor\":\"white\",\"showbackground\":true,\"ticks\":\"\",\"zerolinecolor\":\"white\",\"gridwidth\":2}},\"shapedefaults\":{\"line\":{\"color\":\"#2a3f5f\"}},\"annotationdefaults\":{\"arrowcolor\":\"#2a3f5f\",\"arrowhead\":0,\"arrowwidth\":1},\"geo\":{\"bgcolor\":\"white\",\"landcolor\":\"#E5ECF6\",\"subunitcolor\":\"white\",\"showland\":true,\"showlakes\":true,\"lakecolor\":\"white\"},\"title\":{\"x\":0.05},\"mapbox\":{\"style\":\"light\"}}}},                        {\"responsive\": true}                    ).then(function(){\n",
              "                            \n",
              "var gd = document.getElementById('d7219bb5-c031-4d10-aa2e-63e05fb4f602');\n",
              "var x = new MutationObserver(function (mutations, observer) {{\n",
              "        var display = window.getComputedStyle(gd).display;\n",
              "        if (!display || display === 'none') {{\n",
              "            console.log([gd, 'removed!']);\n",
              "            Plotly.purge(gd);\n",
              "            observer.disconnect();\n",
              "        }}\n",
              "}});\n",
              "\n",
              "// Listen for the removal of the full notebook cells\n",
              "var notebookContainer = gd.closest('#notebook-container');\n",
              "if (notebookContainer) {{\n",
              "    x.observe(notebookContainer, {childList: true});\n",
              "}}\n",
              "\n",
              "// Listen for the clearing of the current output cell\n",
              "var outputEl = gd.closest('.output');\n",
              "if (outputEl) {{\n",
              "    x.observe(outputEl, {childList: true});\n",
              "}}\n",
              "\n",
              "                        })                };                            </script>        </div>\n",
              "</body>\n",
              "</html>"
            ]
          },
          "metadata": {}
        }
      ],
      "source": [
        "from optuna.visualization import plot_param_importances\n",
        "plot_param_importances(study)"
      ],
      "id": "BNsA2lkDGckO"
    },
    {
      "cell_type": "markdown",
      "metadata": {
        "id": "_9mpwKJIa92R"
      },
      "source": [
        "#### Pruning"
      ],
      "id": "_9mpwKJIa92R"
    },
    {
      "cell_type": "code",
      "execution_count": null,
      "metadata": {
        "id": "95J1CD2BPOzw",
        "colab": {
          "base_uri": "https://localhost:8080/"
        },
        "outputId": "5ef86758-a912-4bb7-b89b-ed4fcde3cbfd"
      },
      "outputs": [
        {
          "output_type": "stream",
          "name": "stderr",
          "text": [
            "\u001b[32m[I 2023-05-11 19:29:44,896]\u001b[0m A new study created in memory with name: no-name-e3500553-6840-49fa-a351-42e4db6f5fc9\u001b[0m\n",
            "\u001b[32m[I 2023-05-11 19:29:49,563]\u001b[0m Trial 0 finished with value: 0.9421778207525463 and parameters: {'xgbc__max_depth': 4, 'xgbc__learning_rate': 0.2501010114503046}. Best is trial 0 with value: 0.9421778207525463.\u001b[0m\n",
            "\u001b[32m[I 2023-05-11 19:30:41,521]\u001b[0m Trial 1 finished with value: 0.9638854257635364 and parameters: {'xgbc__max_depth': 12, 'xgbc__learning_rate': 0.363151583572117}. Best is trial 1 with value: 0.9638854257635364.\u001b[0m\n",
            "\u001b[32m[I 2023-05-11 19:30:56,500]\u001b[0m Trial 2 finished with value: 0.9552095739977154 and parameters: {'xgbc__max_depth': 19, 'xgbc__learning_rate': 0.47101849332909546}. Best is trial 1 with value: 0.9638854257635364.\u001b[0m\n",
            "\u001b[32m[I 2023-05-11 19:31:16,421]\u001b[0m Trial 3 finished with value: 0.9571645305413584 and parameters: {'xgbc__max_depth': 16, 'xgbc__learning_rate': 0.4789015684096651}. Best is trial 1 with value: 0.9638854257635364.\u001b[0m\n",
            "\u001b[32m[I 2023-05-11 19:31:25,154]\u001b[0m Trial 4 finished with value: 0.9631759975683573 and parameters: {'xgbc__max_depth': 8, 'xgbc__learning_rate': 0.11808817997079907}. Best is trial 1 with value: 0.9638854257635364.\u001b[0m\n",
            "\u001b[32m[I 2023-05-11 19:31:28,600]\u001b[0m Trial 5 pruned. Trial was pruned at iteration 5.\u001b[0m\n",
            "\u001b[32m[I 2023-05-11 19:31:28,988]\u001b[0m Trial 6 pruned. Trial was pruned at iteration 5.\u001b[0m\n",
            "\u001b[32m[I 2023-05-11 19:31:29,244]\u001b[0m Trial 7 pruned. Trial was pruned at iteration 5.\u001b[0m\n",
            "\u001b[32m[I 2023-05-11 19:31:29,641]\u001b[0m Trial 8 pruned. Trial was pruned at iteration 5.\u001b[0m\n",
            "\u001b[32m[I 2023-05-11 19:31:44,363]\u001b[0m Trial 9 pruned. Trial was pruned at iteration 55.\u001b[0m\n",
            "\u001b[32m[I 2023-05-11 19:31:58,115]\u001b[0m Trial 10 pruned. Trial was pruned at iteration 57.\u001b[0m\n",
            "\u001b[32m[I 2023-05-11 19:31:59,042]\u001b[0m Trial 11 pruned. Trial was pruned at iteration 5.\u001b[0m\n",
            "\u001b[32m[I 2023-05-11 19:31:59,969]\u001b[0m Trial 12 pruned. Trial was pruned at iteration 5.\u001b[0m\n",
            "\u001b[32m[I 2023-05-11 19:32:00,798]\u001b[0m Trial 13 pruned. Trial was pruned at iteration 5.\u001b[0m\n",
            "\u001b[32m[I 2023-05-11 19:32:02,037]\u001b[0m Trial 14 pruned. Trial was pruned at iteration 5.\u001b[0m\n",
            "\u001b[32m[I 2023-05-11 19:32:03,261]\u001b[0m Trial 15 pruned. Trial was pruned at iteration 5.\u001b[0m\n",
            "\u001b[32m[I 2023-05-11 19:32:19,533]\u001b[0m Trial 16 pruned. Trial was pruned at iteration 55.\u001b[0m\n",
            "\u001b[32m[I 2023-05-11 19:32:21,175]\u001b[0m Trial 17 pruned. Trial was pruned at iteration 5.\u001b[0m\n",
            "\u001b[32m[I 2023-05-11 19:32:21,807]\u001b[0m Trial 18 pruned. Trial was pruned at iteration 5.\u001b[0m\n",
            "\u001b[32m[I 2023-05-11 19:32:39,946]\u001b[0m Trial 19 finished with value: 0.962586109084986 and parameters: {'xgbc__max_depth': 14, 'xgbc__learning_rate': 0.33558723078918484}. Best is trial 1 with value: 0.9638854257635364.\u001b[0m\n",
            "\u001b[32m[I 2023-05-11 19:32:40,593]\u001b[0m Trial 20 pruned. Trial was pruned at iteration 5.\u001b[0m\n",
            "\u001b[32m[I 2023-05-11 19:32:59,645]\u001b[0m Trial 21 finished with value: 0.9664916732028056 and parameters: {'xgbc__max_depth': 13, 'xgbc__learning_rate': 0.2961667515063771}. Best is trial 21 with value: 0.9664916732028056.\u001b[0m\n",
            "\u001b[32m[I 2023-05-11 19:33:17,468]\u001b[0m Trial 22 finished with value: 0.9663390829986814 and parameters: {'xgbc__max_depth': 13, 'xgbc__learning_rate': 0.2910371961866051}. Best is trial 21 with value: 0.9664916732028056.\u001b[0m\n",
            "\u001b[32m[I 2023-05-11 19:33:37,849]\u001b[0m Trial 23 finished with value: 0.9653445280343192 and parameters: {'xgbc__max_depth': 14, 'xgbc__learning_rate': 0.2865666644508217}. Best is trial 21 with value: 0.9664916732028056.\u001b[0m\n",
            "\u001b[32m[I 2023-05-11 19:33:39,497]\u001b[0m Trial 24 pruned. Trial was pruned at iteration 5.\u001b[0m\n",
            "\u001b[32m[I 2023-05-11 19:33:40,992]\u001b[0m Trial 25 pruned. Trial was pruned at iteration 5.\u001b[0m\n",
            "\u001b[32m[I 2023-05-11 19:33:46,636]\u001b[0m Trial 26 pruned. Trial was pruned at iteration 24.\u001b[0m\n",
            "\u001b[32m[I 2023-05-11 19:33:48,914]\u001b[0m Trial 27 pruned. Trial was pruned at iteration 5.\u001b[0m\n",
            "\u001b[32m[I 2023-05-11 19:33:50,395]\u001b[0m Trial 28 pruned. Trial was pruned at iteration 5.\u001b[0m\n",
            "\u001b[32m[I 2023-05-11 19:33:52,103]\u001b[0m Trial 29 pruned. Trial was pruned at iteration 5.\u001b[0m\n"
          ]
        },
        {
          "output_type": "stream",
          "name": "stdout",
          "text": [
            "Number of finished trials: 30\n",
            "Best trial:\n",
            "  Value: 0.9664916732028056\n",
            "  Params: \n",
            "    xgbc__max_depth: 13\n",
            "    xgbc__learning_rate: 0.2961667515063771\n",
            "time 247.21935892105103\n"
          ]
        }
      ],
      "source": [
        "from pandas.core.common import random_state\n",
        "import optuna\n",
        "import time\n",
        "from sklearn import metrics\n",
        "from sklearn.model_selection import cross_val_score, KFold\n",
        "from sklearn.ensemble import ExtraTreesClassifier\n",
        "from sklearn.model_selection import StratifiedKFold\n",
        "inicio = time.time()\n",
        "rs=NIA\n",
        "cv_inner = StratifiedKFold(n_splits=3, random_state=rs, shuffle=True)\n",
        "np.random.seed(NIA)\n",
        "def objective(trial):\n",
        "    dtrain = xgb.DMatrix(X_train, label=y_train)\n",
        "\n",
        "    param = {\n",
        "        \"max_depth\" : trial.suggest_int(\"xgbc__max_depth\",3,30),\n",
        "        \"learning_rate\" : trial.suggest_float(\"xgbc__learning_rate\",0.01,0.5),\n",
        "        \"eval_metric\": \"auc\"\n",
        "    }\n",
        "\n",
        "    pruning_callback = optuna.integration.XGBoostPruningCallback(trial, \"test-auc\")\n",
        "    history = xgb.cv(param, dtrain, num_boost_round=100, callbacks=[pruning_callback])\n",
        "\n",
        "    mean_auc = history[\"test-auc-mean\"].values[-1]\n",
        "    return mean_auc\n",
        "\n",
        "\n",
        "if __name__ == \"__main__\":\n",
        "    pruner = optuna.pruners.MedianPruner(n_warmup_steps=5)\n",
        "    study = optuna.create_study(pruner=pruner, direction=\"maximize\")\n",
        "    study.optimize(objective, n_trials=30)\n",
        "\n",
        "    print(\"Number of finished trials: {}\".format(len(study.trials)))\n",
        "\n",
        "    print(\"Best trial:\")\n",
        "    trial = study.best_trial\n",
        "\n",
        "    print(\"  Value: {}\".format(trial.value))\n",
        "\n",
        "    print(\"  Params: \")\n",
        "    for key, value in trial.params.items():\n",
        "        print(\"    {}: {}\".format(key, value))\n",
        "fin=time.time()\n",
        "print('time',fin-inicio)\n",
        "timeopt5=fin-inicio"
      ],
      "id": "95J1CD2BPOzw"
    },
    {
      "cell_type": "code",
      "execution_count": null,
      "metadata": {
        "id": "z7rMaSrCQtXY",
        "colab": {
          "base_uri": "https://localhost:8080/"
        },
        "outputId": "34a3957c-d7ee-43f3-83d5-7136d490f74d"
      },
      "outputs": [
        {
          "output_type": "stream",
          "name": "stdout",
          "text": [
            "time 305.9436995983124\n",
            "  Number of finished trials:  30\n",
            "  Number of pruned trials:  17\n",
            "  Number of complete trials:  13\n"
          ]
        }
      ],
      "source": [
        "pruned_trials = [t for t in study.trials if t.state == optuna.trial.TrialState.PRUNED]\n",
        "complete_trials = [t for t in study.trials if t.state == optuna.trial.TrialState.COMPLETE]\n",
        "fin=time.time()\n",
        "print('time',fin-inicio)\n",
        "print(\"  Number of finished trials: \", len(study.trials))\n",
        "print(\"  Number of pruned trials: \", len(pruned_trials))\n",
        "print(\"  Number of complete trials: \", len(complete_trials))"
      ],
      "id": "z7rMaSrCQtXY"
    },
    {
      "cell_type": "code",
      "execution_count": null,
      "metadata": {
        "id": "3ysD17-dQkLx",
        "colab": {
          "base_uri": "https://localhost:8080/"
        },
        "outputId": "2c124e16-8ab3-46e7-8ad7-8aff3c5cf7a9"
      },
      "outputs": [
        {
          "output_type": "stream",
          "name": "stdout",
          "text": [
            "The best trial is : \n",
            "FrozenTrial(number=13, state=TrialState.COMPLETE, values=[0.9624246371175301], datetime_start=datetime.datetime(2023, 4, 13, 14, 40, 41, 444059), datetime_complete=datetime.datetime(2023, 4, 13, 14, 41, 3, 486410), params={'xgbc__max_depth': 15, 'xgbc__learning_rate': 0.34349146291841065}, user_attrs={}, system_attrs={}, intermediate_values={0: 0.9266743418802325, 1: 0.9391809685248312, 2: 0.9444540833491956, 3: 0.9487278253113735, 4: 0.9518902851351271, 5: 0.9539635888736729, 6: 0.9556297815169595, 7: 0.9569671012287374, 8: 0.9579148918223511, 9: 0.9589771200529124, 10: 0.9594544118851731, 11: 0.9600867277817517, 12: 0.9604094496037238, 13: 0.960881479259625, 14: 0.9611900970422166, 15: 0.961187685855199, 16: 0.9612728621335357, 17: 0.9613200612241529, 18: 0.9612570640954513, 19: 0.9613903953941586, 20: 0.9614929082004444, 21: 0.9615296063741822, 22: 0.9614995464513094, 23: 0.9613813109598679, 24: 0.9614349829025032, 25: 0.961534572505411, 26: 0.9616673267299544, 27: 0.9618064796655221, 28: 0.9619504302500835, 29: 0.96201481444758, 30: 0.9621273040020037, 31: 0.9620626333132538, 32: 0.9619961495141789, 33: 0.9620331508784408, 34: 0.9620361538376848, 35: 0.9619622278307292, 36: 0.9620385490652946, 37: 0.9620392191639224, 38: 0.9620742926800593, 39: 0.9621402515410381, 40: 0.9621598883228364, 41: 0.9621837376760506, 42: 0.9621879076905864, 43: 0.9622046090433299, 44: 0.9621735571458054, 45: 0.9621756950946022, 46: 0.9621711065933293, 47: 0.9621637769487998, 48: 0.9621928352355495, 49: 0.962173238267642, 50: 0.9621950703949537, 51: 0.9622156269139494, 52: 0.9622382311528453, 53: 0.962260042337915, 54: 0.9622701027478925, 55: 0.9622879781508883, 56: 0.962280045225573, 57: 0.9622904150924279, 58: 0.9623087519632216, 59: 0.9623126653512744, 60: 0.9622933976376583, 61: 0.9622955392222372, 62: 0.9622844209097116, 63: 0.9622634884540199, 64: 0.9622805099647413, 65: 0.9622863930417628, 66: 0.9623117095265276, 67: 0.9623336861829636, 68: 0.962325406540093, 69: 0.9623422549623909, 70: 0.9623688402420557, 71: 0.9623668235452572, 72: 0.9623604210358109, 73: 0.9623733612269639, 74: 0.9623827637373048, 75: 0.9623823473571075, 76: 0.9623809938890703, 77: 0.9623797392717859, 78: 0.9623802986206517, 79: 0.962389965571116, 80: 0.9623930563074093, 81: 0.962391170976124, 82: 0.9623853517249016, 83: 0.9623936370891549, 84: 0.9623883916406188, 85: 0.9623763762448675, 86: 0.9623880810403059, 87: 0.9624125556796795, 88: 0.9624216296719927, 89: 0.9624008241825287, 90: 0.9624029891464122, 91: 0.962414028952599, 92: 0.9624181652609675, 93: 0.9624144141177814, 94: 0.9624127069738763, 95: 0.962413947993766, 96: 0.9624154521408456, 97: 0.9624217900991625, 98: 0.9624225476831301, 99: 0.9624246371175301}, distributions={'xgbc__max_depth': IntDistribution(high=30, log=False, low=3, step=1), 'xgbc__learning_rate': FloatDistribution(high=0.5, log=False, low=0.01, step=None)}, trial_id=13, value=None)\n",
            "The best value is : \n",
            "0.9624246371175301\n",
            "The best parameters are : \n",
            "{'xgbc__max_depth': 15, 'xgbc__learning_rate': 0.34349146291841065}\n",
            "Precision: 0.9624246371175301\n",
            "Best hyperparameters: {'xgbc__max_depth': 15, 'xgbc__learning_rate': 0.34349146291841065}\n"
          ]
        }
      ],
      "source": [
        "# Getting the best trial:\n",
        "print(f\"The best trial is : \\n{study.best_trial}\")\n",
        "# Getting the best score:\n",
        "print(f\"The best value is : \\n{study.best_value}\")\n",
        "# Getting the best parameters:\n",
        "print(f\"The best parameters are : \\n{study.best_params}\")\n",
        "trial = study.best_trial\n",
        "print('Precision: {}'.format(trial.value))\n",
        "print(\"Best hyperparameters: {}\".format(trial.params))"
      ],
      "id": "3ysD17-dQkLx"
    },
    {
      "cell_type": "code",
      "execution_count": null,
      "metadata": {
        "id": "aKHCMK-VR3f0",
        "colab": {
          "base_uri": "https://localhost:8080/"
        },
        "outputId": "953ded08-5201-4a28-e7b7-a48f02da3945"
      },
      "outputs": [
        {
          "output_type": "stream",
          "name": "stdout",
          "text": [
            "Accuracy: 0.9323587621973568\n",
            "time 9.044769763946533\n"
          ]
        }
      ],
      "source": [
        "rs=NIA\n",
        "xgbc = xgb.XGBClassifier(random_state=rs)\n",
        "classif=Pipeline([('xgbc',xgbc)])\n",
        "classif.set_params(**study.best_params)\n",
        "(bacopt5, tiempo)=default_hp(classif, X_train, y_train, X_test, y_test)"
      ],
      "id": "aKHCMK-VR3f0"
    },
    {
      "cell_type": "code",
      "execution_count": null,
      "metadata": {
        "id": "-wPeXe5pGgNV",
        "colab": {
          "base_uri": "https://localhost:8080/",
          "height": 562
        },
        "outputId": "068adba7-1a77-476e-d6a4-cd059596120d"
      },
      "outputs": [
        {
          "output_type": "display_data",
          "data": {
            "text/html": [
              "<html>\n",
              "<head><meta charset=\"utf-8\" /></head>\n",
              "<body>\n",
              "    <div>            <script src=\"https://cdnjs.cloudflare.com/ajax/libs/mathjax/2.7.5/MathJax.js?config=TeX-AMS-MML_SVG\"></script><script type=\"text/javascript\">if (window.MathJax && window.MathJax.Hub && window.MathJax.Hub.Config) {window.MathJax.Hub.Config({SVG: {font: \"STIX-Web\"}});}</script>                <script type=\"text/javascript\">window.PlotlyConfig = {MathJaxConfig: 'local'};</script>\n",
              "        <script src=\"https://cdn.plot.ly/plotly-2.18.2.min.js\"></script>                <div id=\"ea3e59f1-f326-43bf-a067-305d080f6a7d\" class=\"plotly-graph-div\" style=\"height:525px; width:100%;\"></div>            <script type=\"text/javascript\">                                    window.PLOTLYENV=window.PLOTLYENV || {};                                    if (document.getElementById(\"ea3e59f1-f326-43bf-a067-305d080f6a7d\")) {                    Plotly.newPlot(                        \"ea3e59f1-f326-43bf-a067-305d080f6a7d\",                        [{\"mode\":\"markers\",\"name\":\"Objective Value\",\"x\":[0,1,2,3,4,5,11,13,17,20,21,22,23],\"y\":[0.962279402782891,0.9356734071987164,0.9600336022607171,0.9111423198568752,0.956702831348346,0.960904536315474,0.9598402880800275,0.9624246371175301,0.9618791183483233,0.9604508183456151,0.9606245004245627,0.9609586858967919,0.961983717361805],\"type\":\"scatter\"},{\"name\":\"Best Value\",\"x\":[0,1,2,3,4,5,11,13,17,20,21,22,23],\"y\":[0.962279402782891,0.962279402782891,0.962279402782891,0.962279402782891,0.962279402782891,0.962279402782891,0.962279402782891,0.9624246371175301,0.9624246371175301,0.9624246371175301,0.9624246371175301,0.9624246371175301,0.9624246371175301],\"type\":\"scatter\"}],                        {\"title\":{\"text\":\"Optimization History Plot\"},\"xaxis\":{\"title\":{\"text\":\"Trial\"}},\"yaxis\":{\"title\":{\"text\":\"Objective Value\"}},\"template\":{\"data\":{\"histogram2dcontour\":[{\"type\":\"histogram2dcontour\",\"colorbar\":{\"outlinewidth\":0,\"ticks\":\"\"},\"colorscale\":[[0.0,\"#0d0887\"],[0.1111111111111111,\"#46039f\"],[0.2222222222222222,\"#7201a8\"],[0.3333333333333333,\"#9c179e\"],[0.4444444444444444,\"#bd3786\"],[0.5555555555555556,\"#d8576b\"],[0.6666666666666666,\"#ed7953\"],[0.7777777777777778,\"#fb9f3a\"],[0.8888888888888888,\"#fdca26\"],[1.0,\"#f0f921\"]]}],\"choropleth\":[{\"type\":\"choropleth\",\"colorbar\":{\"outlinewidth\":0,\"ticks\":\"\"}}],\"histogram2d\":[{\"type\":\"histogram2d\",\"colorbar\":{\"outlinewidth\":0,\"ticks\":\"\"},\"colorscale\":[[0.0,\"#0d0887\"],[0.1111111111111111,\"#46039f\"],[0.2222222222222222,\"#7201a8\"],[0.3333333333333333,\"#9c179e\"],[0.4444444444444444,\"#bd3786\"],[0.5555555555555556,\"#d8576b\"],[0.6666666666666666,\"#ed7953\"],[0.7777777777777778,\"#fb9f3a\"],[0.8888888888888888,\"#fdca26\"],[1.0,\"#f0f921\"]]}],\"heatmap\":[{\"type\":\"heatmap\",\"colorbar\":{\"outlinewidth\":0,\"ticks\":\"\"},\"colorscale\":[[0.0,\"#0d0887\"],[0.1111111111111111,\"#46039f\"],[0.2222222222222222,\"#7201a8\"],[0.3333333333333333,\"#9c179e\"],[0.4444444444444444,\"#bd3786\"],[0.5555555555555556,\"#d8576b\"],[0.6666666666666666,\"#ed7953\"],[0.7777777777777778,\"#fb9f3a\"],[0.8888888888888888,\"#fdca26\"],[1.0,\"#f0f921\"]]}],\"heatmapgl\":[{\"type\":\"heatmapgl\",\"colorbar\":{\"outlinewidth\":0,\"ticks\":\"\"},\"colorscale\":[[0.0,\"#0d0887\"],[0.1111111111111111,\"#46039f\"],[0.2222222222222222,\"#7201a8\"],[0.3333333333333333,\"#9c179e\"],[0.4444444444444444,\"#bd3786\"],[0.5555555555555556,\"#d8576b\"],[0.6666666666666666,\"#ed7953\"],[0.7777777777777778,\"#fb9f3a\"],[0.8888888888888888,\"#fdca26\"],[1.0,\"#f0f921\"]]}],\"contourcarpet\":[{\"type\":\"contourcarpet\",\"colorbar\":{\"outlinewidth\":0,\"ticks\":\"\"}}],\"contour\":[{\"type\":\"contour\",\"colorbar\":{\"outlinewidth\":0,\"ticks\":\"\"},\"colorscale\":[[0.0,\"#0d0887\"],[0.1111111111111111,\"#46039f\"],[0.2222222222222222,\"#7201a8\"],[0.3333333333333333,\"#9c179e\"],[0.4444444444444444,\"#bd3786\"],[0.5555555555555556,\"#d8576b\"],[0.6666666666666666,\"#ed7953\"],[0.7777777777777778,\"#fb9f3a\"],[0.8888888888888888,\"#fdca26\"],[1.0,\"#f0f921\"]]}],\"surface\":[{\"type\":\"surface\",\"colorbar\":{\"outlinewidth\":0,\"ticks\":\"\"},\"colorscale\":[[0.0,\"#0d0887\"],[0.1111111111111111,\"#46039f\"],[0.2222222222222222,\"#7201a8\"],[0.3333333333333333,\"#9c179e\"],[0.4444444444444444,\"#bd3786\"],[0.5555555555555556,\"#d8576b\"],[0.6666666666666666,\"#ed7953\"],[0.7777777777777778,\"#fb9f3a\"],[0.8888888888888888,\"#fdca26\"],[1.0,\"#f0f921\"]]}],\"mesh3d\":[{\"type\":\"mesh3d\",\"colorbar\":{\"outlinewidth\":0,\"ticks\":\"\"}}],\"scatter\":[{\"fillpattern\":{\"fillmode\":\"overlay\",\"size\":10,\"solidity\":0.2},\"type\":\"scatter\"}],\"parcoords\":[{\"type\":\"parcoords\",\"line\":{\"colorbar\":{\"outlinewidth\":0,\"ticks\":\"\"}}}],\"scatterpolargl\":[{\"type\":\"scatterpolargl\",\"marker\":{\"colorbar\":{\"outlinewidth\":0,\"ticks\":\"\"}}}],\"bar\":[{\"error_x\":{\"color\":\"#2a3f5f\"},\"error_y\":{\"color\":\"#2a3f5f\"},\"marker\":{\"line\":{\"color\":\"#E5ECF6\",\"width\":0.5},\"pattern\":{\"fillmode\":\"overlay\",\"size\":10,\"solidity\":0.2}},\"type\":\"bar\"}],\"scattergeo\":[{\"type\":\"scattergeo\",\"marker\":{\"colorbar\":{\"outlinewidth\":0,\"ticks\":\"\"}}}],\"scatterpolar\":[{\"type\":\"scatterpolar\",\"marker\":{\"colorbar\":{\"outlinewidth\":0,\"ticks\":\"\"}}}],\"histogram\":[{\"marker\":{\"pattern\":{\"fillmode\":\"overlay\",\"size\":10,\"solidity\":0.2}},\"type\":\"histogram\"}],\"scattergl\":[{\"type\":\"scattergl\",\"marker\":{\"colorbar\":{\"outlinewidth\":0,\"ticks\":\"\"}}}],\"scatter3d\":[{\"type\":\"scatter3d\",\"line\":{\"colorbar\":{\"outlinewidth\":0,\"ticks\":\"\"}},\"marker\":{\"colorbar\":{\"outlinewidth\":0,\"ticks\":\"\"}}}],\"scattermapbox\":[{\"type\":\"scattermapbox\",\"marker\":{\"colorbar\":{\"outlinewidth\":0,\"ticks\":\"\"}}}],\"scatterternary\":[{\"type\":\"scatterternary\",\"marker\":{\"colorbar\":{\"outlinewidth\":0,\"ticks\":\"\"}}}],\"scattercarpet\":[{\"type\":\"scattercarpet\",\"marker\":{\"colorbar\":{\"outlinewidth\":0,\"ticks\":\"\"}}}],\"carpet\":[{\"aaxis\":{\"endlinecolor\":\"#2a3f5f\",\"gridcolor\":\"white\",\"linecolor\":\"white\",\"minorgridcolor\":\"white\",\"startlinecolor\":\"#2a3f5f\"},\"baxis\":{\"endlinecolor\":\"#2a3f5f\",\"gridcolor\":\"white\",\"linecolor\":\"white\",\"minorgridcolor\":\"white\",\"startlinecolor\":\"#2a3f5f\"},\"type\":\"carpet\"}],\"table\":[{\"cells\":{\"fill\":{\"color\":\"#EBF0F8\"},\"line\":{\"color\":\"white\"}},\"header\":{\"fill\":{\"color\":\"#C8D4E3\"},\"line\":{\"color\":\"white\"}},\"type\":\"table\"}],\"barpolar\":[{\"marker\":{\"line\":{\"color\":\"#E5ECF6\",\"width\":0.5},\"pattern\":{\"fillmode\":\"overlay\",\"size\":10,\"solidity\":0.2}},\"type\":\"barpolar\"}],\"pie\":[{\"automargin\":true,\"type\":\"pie\"}]},\"layout\":{\"autotypenumbers\":\"strict\",\"colorway\":[\"#636efa\",\"#EF553B\",\"#00cc96\",\"#ab63fa\",\"#FFA15A\",\"#19d3f3\",\"#FF6692\",\"#B6E880\",\"#FF97FF\",\"#FECB52\"],\"font\":{\"color\":\"#2a3f5f\"},\"hovermode\":\"closest\",\"hoverlabel\":{\"align\":\"left\"},\"paper_bgcolor\":\"white\",\"plot_bgcolor\":\"#E5ECF6\",\"polar\":{\"bgcolor\":\"#E5ECF6\",\"angularaxis\":{\"gridcolor\":\"white\",\"linecolor\":\"white\",\"ticks\":\"\"},\"radialaxis\":{\"gridcolor\":\"white\",\"linecolor\":\"white\",\"ticks\":\"\"}},\"ternary\":{\"bgcolor\":\"#E5ECF6\",\"aaxis\":{\"gridcolor\":\"white\",\"linecolor\":\"white\",\"ticks\":\"\"},\"baxis\":{\"gridcolor\":\"white\",\"linecolor\":\"white\",\"ticks\":\"\"},\"caxis\":{\"gridcolor\":\"white\",\"linecolor\":\"white\",\"ticks\":\"\"}},\"coloraxis\":{\"colorbar\":{\"outlinewidth\":0,\"ticks\":\"\"}},\"colorscale\":{\"sequential\":[[0.0,\"#0d0887\"],[0.1111111111111111,\"#46039f\"],[0.2222222222222222,\"#7201a8\"],[0.3333333333333333,\"#9c179e\"],[0.4444444444444444,\"#bd3786\"],[0.5555555555555556,\"#d8576b\"],[0.6666666666666666,\"#ed7953\"],[0.7777777777777778,\"#fb9f3a\"],[0.8888888888888888,\"#fdca26\"],[1.0,\"#f0f921\"]],\"sequentialminus\":[[0.0,\"#0d0887\"],[0.1111111111111111,\"#46039f\"],[0.2222222222222222,\"#7201a8\"],[0.3333333333333333,\"#9c179e\"],[0.4444444444444444,\"#bd3786\"],[0.5555555555555556,\"#d8576b\"],[0.6666666666666666,\"#ed7953\"],[0.7777777777777778,\"#fb9f3a\"],[0.8888888888888888,\"#fdca26\"],[1.0,\"#f0f921\"]],\"diverging\":[[0,\"#8e0152\"],[0.1,\"#c51b7d\"],[0.2,\"#de77ae\"],[0.3,\"#f1b6da\"],[0.4,\"#fde0ef\"],[0.5,\"#f7f7f7\"],[0.6,\"#e6f5d0\"],[0.7,\"#b8e186\"],[0.8,\"#7fbc41\"],[0.9,\"#4d9221\"],[1,\"#276419\"]]},\"xaxis\":{\"gridcolor\":\"white\",\"linecolor\":\"white\",\"ticks\":\"\",\"title\":{\"standoff\":15},\"zerolinecolor\":\"white\",\"automargin\":true,\"zerolinewidth\":2},\"yaxis\":{\"gridcolor\":\"white\",\"linecolor\":\"white\",\"ticks\":\"\",\"title\":{\"standoff\":15},\"zerolinecolor\":\"white\",\"automargin\":true,\"zerolinewidth\":2},\"scene\":{\"xaxis\":{\"backgroundcolor\":\"#E5ECF6\",\"gridcolor\":\"white\",\"linecolor\":\"white\",\"showbackground\":true,\"ticks\":\"\",\"zerolinecolor\":\"white\",\"gridwidth\":2},\"yaxis\":{\"backgroundcolor\":\"#E5ECF6\",\"gridcolor\":\"white\",\"linecolor\":\"white\",\"showbackground\":true,\"ticks\":\"\",\"zerolinecolor\":\"white\",\"gridwidth\":2},\"zaxis\":{\"backgroundcolor\":\"#E5ECF6\",\"gridcolor\":\"white\",\"linecolor\":\"white\",\"showbackground\":true,\"ticks\":\"\",\"zerolinecolor\":\"white\",\"gridwidth\":2}},\"shapedefaults\":{\"line\":{\"color\":\"#2a3f5f\"}},\"annotationdefaults\":{\"arrowcolor\":\"#2a3f5f\",\"arrowhead\":0,\"arrowwidth\":1},\"geo\":{\"bgcolor\":\"white\",\"landcolor\":\"#E5ECF6\",\"subunitcolor\":\"white\",\"showland\":true,\"showlakes\":true,\"lakecolor\":\"white\"},\"title\":{\"x\":0.05},\"mapbox\":{\"style\":\"light\"}}}},                        {\"responsive\": true}                    ).then(function(){\n",
              "                            \n",
              "var gd = document.getElementById('ea3e59f1-f326-43bf-a067-305d080f6a7d');\n",
              "var x = new MutationObserver(function (mutations, observer) {{\n",
              "        var display = window.getComputedStyle(gd).display;\n",
              "        if (!display || display === 'none') {{\n",
              "            console.log([gd, 'removed!']);\n",
              "            Plotly.purge(gd);\n",
              "            observer.disconnect();\n",
              "        }}\n",
              "}});\n",
              "\n",
              "// Listen for the removal of the full notebook cells\n",
              "var notebookContainer = gd.closest('#notebook-container');\n",
              "if (notebookContainer) {{\n",
              "    x.observe(notebookContainer, {childList: true});\n",
              "}}\n",
              "\n",
              "// Listen for the clearing of the current output cell\n",
              "var outputEl = gd.closest('.output');\n",
              "if (outputEl) {{\n",
              "    x.observe(outputEl, {childList: true});\n",
              "}}\n",
              "\n",
              "                        })                };                            </script>        </div>\n",
              "</body>\n",
              "</html>"
            ]
          },
          "metadata": {}
        }
      ],
      "source": [
        "optuna.visualization.plot_optimization_history(study).show()"
      ],
      "id": "-wPeXe5pGgNV"
    },
    {
      "cell_type": "code",
      "execution_count": null,
      "metadata": {
        "id": "N8wcJn3lGga-",
        "colab": {
          "base_uri": "https://localhost:8080/",
          "height": 542
        },
        "outputId": "75d1c647-7f51-4b7a-8aaa-fe6407d57028"
      },
      "outputs": [
        {
          "output_type": "display_data",
          "data": {
            "text/html": [
              "<html>\n",
              "<head><meta charset=\"utf-8\" /></head>\n",
              "<body>\n",
              "    <div>            <script src=\"https://cdnjs.cloudflare.com/ajax/libs/mathjax/2.7.5/MathJax.js?config=TeX-AMS-MML_SVG\"></script><script type=\"text/javascript\">if (window.MathJax && window.MathJax.Hub && window.MathJax.Hub.Config) {window.MathJax.Hub.Config({SVG: {font: \"STIX-Web\"}});}</script>                <script type=\"text/javascript\">window.PlotlyConfig = {MathJaxConfig: 'local'};</script>\n",
              "        <script src=\"https://cdn.plot.ly/plotly-2.18.2.min.js\"></script>                <div id=\"c295f671-b62d-421f-bbba-fd711893e46b\" class=\"plotly-graph-div\" style=\"height:525px; width:100%;\"></div>            <script type=\"text/javascript\">                                    window.PLOTLYENV=window.PLOTLYENV || {};                                    if (document.getElementById(\"c295f671-b62d-421f-bbba-fd711893e46b\")) {                    Plotly.newPlot(                        \"c295f671-b62d-421f-bbba-fd711893e46b\",                        [{\"dimensions\":[{\"label\":\"Objective Value\",\"range\":[0.9421778207525463,0.9664916732028056],\"values\":[0.9421778207525463,0.9638854257635364,0.9552095739977154,0.9571645305413584,0.9631759975683573,0.962586109084986,0.9664916732028056,0.9663390829986814,0.9653445280343192]},{\"label\":\"xgbc__learning_rate\",\"range\":[0.11808817997079907,0.4789015684096651],\"values\":[0.2501010114503046,0.363151583572117,0.47101849332909546,0.4789015684096651,0.11808817997079907,0.33558723078918484,0.2961667515063771,0.2910371961866051,0.2865666644508217]},{\"label\":\"xgbc__max_depth\",\"range\":[4,19],\"values\":[4,12,19,16,8,14,13,13,14]}],\"labelangle\":30,\"labelside\":\"bottom\",\"line\":{\"color\":[0.9421778207525463,0.9638854257635364,0.9552095739977154,0.9571645305413584,0.9631759975683573,0.962586109084986,0.9664916732028056,0.9663390829986814,0.9653445280343192],\"colorbar\":{\"title\":{\"text\":\"Objective Value\"}},\"colorscale\":[[0.0,\"rgb(247,251,255)\"],[0.125,\"rgb(222,235,247)\"],[0.25,\"rgb(198,219,239)\"],[0.375,\"rgb(158,202,225)\"],[0.5,\"rgb(107,174,214)\"],[0.625,\"rgb(66,146,198)\"],[0.75,\"rgb(33,113,181)\"],[0.875,\"rgb(8,81,156)\"],[1.0,\"rgb(8,48,107)\"]],\"reversescale\":false,\"showscale\":true},\"type\":\"parcoords\"}],                        {\"title\":{\"text\":\"Parallel Coordinate Plot\"},\"template\":{\"data\":{\"histogram2dcontour\":[{\"type\":\"histogram2dcontour\",\"colorbar\":{\"outlinewidth\":0,\"ticks\":\"\"},\"colorscale\":[[0.0,\"#0d0887\"],[0.1111111111111111,\"#46039f\"],[0.2222222222222222,\"#7201a8\"],[0.3333333333333333,\"#9c179e\"],[0.4444444444444444,\"#bd3786\"],[0.5555555555555556,\"#d8576b\"],[0.6666666666666666,\"#ed7953\"],[0.7777777777777778,\"#fb9f3a\"],[0.8888888888888888,\"#fdca26\"],[1.0,\"#f0f921\"]]}],\"choropleth\":[{\"type\":\"choropleth\",\"colorbar\":{\"outlinewidth\":0,\"ticks\":\"\"}}],\"histogram2d\":[{\"type\":\"histogram2d\",\"colorbar\":{\"outlinewidth\":0,\"ticks\":\"\"},\"colorscale\":[[0.0,\"#0d0887\"],[0.1111111111111111,\"#46039f\"],[0.2222222222222222,\"#7201a8\"],[0.3333333333333333,\"#9c179e\"],[0.4444444444444444,\"#bd3786\"],[0.5555555555555556,\"#d8576b\"],[0.6666666666666666,\"#ed7953\"],[0.7777777777777778,\"#fb9f3a\"],[0.8888888888888888,\"#fdca26\"],[1.0,\"#f0f921\"]]}],\"heatmap\":[{\"type\":\"heatmap\",\"colorbar\":{\"outlinewidth\":0,\"ticks\":\"\"},\"colorscale\":[[0.0,\"#0d0887\"],[0.1111111111111111,\"#46039f\"],[0.2222222222222222,\"#7201a8\"],[0.3333333333333333,\"#9c179e\"],[0.4444444444444444,\"#bd3786\"],[0.5555555555555556,\"#d8576b\"],[0.6666666666666666,\"#ed7953\"],[0.7777777777777778,\"#fb9f3a\"],[0.8888888888888888,\"#fdca26\"],[1.0,\"#f0f921\"]]}],\"heatmapgl\":[{\"type\":\"heatmapgl\",\"colorbar\":{\"outlinewidth\":0,\"ticks\":\"\"},\"colorscale\":[[0.0,\"#0d0887\"],[0.1111111111111111,\"#46039f\"],[0.2222222222222222,\"#7201a8\"],[0.3333333333333333,\"#9c179e\"],[0.4444444444444444,\"#bd3786\"],[0.5555555555555556,\"#d8576b\"],[0.6666666666666666,\"#ed7953\"],[0.7777777777777778,\"#fb9f3a\"],[0.8888888888888888,\"#fdca26\"],[1.0,\"#f0f921\"]]}],\"contourcarpet\":[{\"type\":\"contourcarpet\",\"colorbar\":{\"outlinewidth\":0,\"ticks\":\"\"}}],\"contour\":[{\"type\":\"contour\",\"colorbar\":{\"outlinewidth\":0,\"ticks\":\"\"},\"colorscale\":[[0.0,\"#0d0887\"],[0.1111111111111111,\"#46039f\"],[0.2222222222222222,\"#7201a8\"],[0.3333333333333333,\"#9c179e\"],[0.4444444444444444,\"#bd3786\"],[0.5555555555555556,\"#d8576b\"],[0.6666666666666666,\"#ed7953\"],[0.7777777777777778,\"#fb9f3a\"],[0.8888888888888888,\"#fdca26\"],[1.0,\"#f0f921\"]]}],\"surface\":[{\"type\":\"surface\",\"colorbar\":{\"outlinewidth\":0,\"ticks\":\"\"},\"colorscale\":[[0.0,\"#0d0887\"],[0.1111111111111111,\"#46039f\"],[0.2222222222222222,\"#7201a8\"],[0.3333333333333333,\"#9c179e\"],[0.4444444444444444,\"#bd3786\"],[0.5555555555555556,\"#d8576b\"],[0.6666666666666666,\"#ed7953\"],[0.7777777777777778,\"#fb9f3a\"],[0.8888888888888888,\"#fdca26\"],[1.0,\"#f0f921\"]]}],\"mesh3d\":[{\"type\":\"mesh3d\",\"colorbar\":{\"outlinewidth\":0,\"ticks\":\"\"}}],\"scatter\":[{\"fillpattern\":{\"fillmode\":\"overlay\",\"size\":10,\"solidity\":0.2},\"type\":\"scatter\"}],\"parcoords\":[{\"type\":\"parcoords\",\"line\":{\"colorbar\":{\"outlinewidth\":0,\"ticks\":\"\"}}}],\"scatterpolargl\":[{\"type\":\"scatterpolargl\",\"marker\":{\"colorbar\":{\"outlinewidth\":0,\"ticks\":\"\"}}}],\"bar\":[{\"error_x\":{\"color\":\"#2a3f5f\"},\"error_y\":{\"color\":\"#2a3f5f\"},\"marker\":{\"line\":{\"color\":\"#E5ECF6\",\"width\":0.5},\"pattern\":{\"fillmode\":\"overlay\",\"size\":10,\"solidity\":0.2}},\"type\":\"bar\"}],\"scattergeo\":[{\"type\":\"scattergeo\",\"marker\":{\"colorbar\":{\"outlinewidth\":0,\"ticks\":\"\"}}}],\"scatterpolar\":[{\"type\":\"scatterpolar\",\"marker\":{\"colorbar\":{\"outlinewidth\":0,\"ticks\":\"\"}}}],\"histogram\":[{\"marker\":{\"pattern\":{\"fillmode\":\"overlay\",\"size\":10,\"solidity\":0.2}},\"type\":\"histogram\"}],\"scattergl\":[{\"type\":\"scattergl\",\"marker\":{\"colorbar\":{\"outlinewidth\":0,\"ticks\":\"\"}}}],\"scatter3d\":[{\"type\":\"scatter3d\",\"line\":{\"colorbar\":{\"outlinewidth\":0,\"ticks\":\"\"}},\"marker\":{\"colorbar\":{\"outlinewidth\":0,\"ticks\":\"\"}}}],\"scattermapbox\":[{\"type\":\"scattermapbox\",\"marker\":{\"colorbar\":{\"outlinewidth\":0,\"ticks\":\"\"}}}],\"scatterternary\":[{\"type\":\"scatterternary\",\"marker\":{\"colorbar\":{\"outlinewidth\":0,\"ticks\":\"\"}}}],\"scattercarpet\":[{\"type\":\"scattercarpet\",\"marker\":{\"colorbar\":{\"outlinewidth\":0,\"ticks\":\"\"}}}],\"carpet\":[{\"aaxis\":{\"endlinecolor\":\"#2a3f5f\",\"gridcolor\":\"white\",\"linecolor\":\"white\",\"minorgridcolor\":\"white\",\"startlinecolor\":\"#2a3f5f\"},\"baxis\":{\"endlinecolor\":\"#2a3f5f\",\"gridcolor\":\"white\",\"linecolor\":\"white\",\"minorgridcolor\":\"white\",\"startlinecolor\":\"#2a3f5f\"},\"type\":\"carpet\"}],\"table\":[{\"cells\":{\"fill\":{\"color\":\"#EBF0F8\"},\"line\":{\"color\":\"white\"}},\"header\":{\"fill\":{\"color\":\"#C8D4E3\"},\"line\":{\"color\":\"white\"}},\"type\":\"table\"}],\"barpolar\":[{\"marker\":{\"line\":{\"color\":\"#E5ECF6\",\"width\":0.5},\"pattern\":{\"fillmode\":\"overlay\",\"size\":10,\"solidity\":0.2}},\"type\":\"barpolar\"}],\"pie\":[{\"automargin\":true,\"type\":\"pie\"}]},\"layout\":{\"autotypenumbers\":\"strict\",\"colorway\":[\"#636efa\",\"#EF553B\",\"#00cc96\",\"#ab63fa\",\"#FFA15A\",\"#19d3f3\",\"#FF6692\",\"#B6E880\",\"#FF97FF\",\"#FECB52\"],\"font\":{\"color\":\"#2a3f5f\"},\"hovermode\":\"closest\",\"hoverlabel\":{\"align\":\"left\"},\"paper_bgcolor\":\"white\",\"plot_bgcolor\":\"#E5ECF6\",\"polar\":{\"bgcolor\":\"#E5ECF6\",\"angularaxis\":{\"gridcolor\":\"white\",\"linecolor\":\"white\",\"ticks\":\"\"},\"radialaxis\":{\"gridcolor\":\"white\",\"linecolor\":\"white\",\"ticks\":\"\"}},\"ternary\":{\"bgcolor\":\"#E5ECF6\",\"aaxis\":{\"gridcolor\":\"white\",\"linecolor\":\"white\",\"ticks\":\"\"},\"baxis\":{\"gridcolor\":\"white\",\"linecolor\":\"white\",\"ticks\":\"\"},\"caxis\":{\"gridcolor\":\"white\",\"linecolor\":\"white\",\"ticks\":\"\"}},\"coloraxis\":{\"colorbar\":{\"outlinewidth\":0,\"ticks\":\"\"}},\"colorscale\":{\"sequential\":[[0.0,\"#0d0887\"],[0.1111111111111111,\"#46039f\"],[0.2222222222222222,\"#7201a8\"],[0.3333333333333333,\"#9c179e\"],[0.4444444444444444,\"#bd3786\"],[0.5555555555555556,\"#d8576b\"],[0.6666666666666666,\"#ed7953\"],[0.7777777777777778,\"#fb9f3a\"],[0.8888888888888888,\"#fdca26\"],[1.0,\"#f0f921\"]],\"sequentialminus\":[[0.0,\"#0d0887\"],[0.1111111111111111,\"#46039f\"],[0.2222222222222222,\"#7201a8\"],[0.3333333333333333,\"#9c179e\"],[0.4444444444444444,\"#bd3786\"],[0.5555555555555556,\"#d8576b\"],[0.6666666666666666,\"#ed7953\"],[0.7777777777777778,\"#fb9f3a\"],[0.8888888888888888,\"#fdca26\"],[1.0,\"#f0f921\"]],\"diverging\":[[0,\"#8e0152\"],[0.1,\"#c51b7d\"],[0.2,\"#de77ae\"],[0.3,\"#f1b6da\"],[0.4,\"#fde0ef\"],[0.5,\"#f7f7f7\"],[0.6,\"#e6f5d0\"],[0.7,\"#b8e186\"],[0.8,\"#7fbc41\"],[0.9,\"#4d9221\"],[1,\"#276419\"]]},\"xaxis\":{\"gridcolor\":\"white\",\"linecolor\":\"white\",\"ticks\":\"\",\"title\":{\"standoff\":15},\"zerolinecolor\":\"white\",\"automargin\":true,\"zerolinewidth\":2},\"yaxis\":{\"gridcolor\":\"white\",\"linecolor\":\"white\",\"ticks\":\"\",\"title\":{\"standoff\":15},\"zerolinecolor\":\"white\",\"automargin\":true,\"zerolinewidth\":2},\"scene\":{\"xaxis\":{\"backgroundcolor\":\"#E5ECF6\",\"gridcolor\":\"white\",\"linecolor\":\"white\",\"showbackground\":true,\"ticks\":\"\",\"zerolinecolor\":\"white\",\"gridwidth\":2},\"yaxis\":{\"backgroundcolor\":\"#E5ECF6\",\"gridcolor\":\"white\",\"linecolor\":\"white\",\"showbackground\":true,\"ticks\":\"\",\"zerolinecolor\":\"white\",\"gridwidth\":2},\"zaxis\":{\"backgroundcolor\":\"#E5ECF6\",\"gridcolor\":\"white\",\"linecolor\":\"white\",\"showbackground\":true,\"ticks\":\"\",\"zerolinecolor\":\"white\",\"gridwidth\":2}},\"shapedefaults\":{\"line\":{\"color\":\"#2a3f5f\"}},\"annotationdefaults\":{\"arrowcolor\":\"#2a3f5f\",\"arrowhead\":0,\"arrowwidth\":1},\"geo\":{\"bgcolor\":\"white\",\"landcolor\":\"#E5ECF6\",\"subunitcolor\":\"white\",\"showland\":true,\"showlakes\":true,\"lakecolor\":\"white\"},\"title\":{\"x\":0.05},\"mapbox\":{\"style\":\"light\"}}}},                        {\"responsive\": true}                    ).then(function(){\n",
              "                            \n",
              "var gd = document.getElementById('c295f671-b62d-421f-bbba-fd711893e46b');\n",
              "var x = new MutationObserver(function (mutations, observer) {{\n",
              "        var display = window.getComputedStyle(gd).display;\n",
              "        if (!display || display === 'none') {{\n",
              "            console.log([gd, 'removed!']);\n",
              "            Plotly.purge(gd);\n",
              "            observer.disconnect();\n",
              "        }}\n",
              "}});\n",
              "\n",
              "// Listen for the removal of the full notebook cells\n",
              "var notebookContainer = gd.closest('#notebook-container');\n",
              "if (notebookContainer) {{\n",
              "    x.observe(notebookContainer, {childList: true});\n",
              "}}\n",
              "\n",
              "// Listen for the clearing of the current output cell\n",
              "var outputEl = gd.closest('.output');\n",
              "if (outputEl) {{\n",
              "    x.observe(outputEl, {childList: true});\n",
              "}}\n",
              "\n",
              "                        })                };                            </script>        </div>\n",
              "</body>\n",
              "</html>"
            ]
          },
          "metadata": {}
        }
      ],
      "source": [
        "plot_parallel_coordinate(study)"
      ],
      "id": "N8wcJn3lGga-"
    },
    {
      "cell_type": "code",
      "execution_count": null,
      "metadata": {
        "id": "mvg49c3VGgxP",
        "colab": {
          "base_uri": "https://localhost:8080/",
          "height": 562
        },
        "outputId": "92aed301-c1e2-49ac-a04e-d14e974d72da"
      },
      "outputs": [
        {
          "output_type": "display_data",
          "data": {
            "text/html": [
              "<html>\n",
              "<head><meta charset=\"utf-8\" /></head>\n",
              "<body>\n",
              "    <div>            <script src=\"https://cdnjs.cloudflare.com/ajax/libs/mathjax/2.7.5/MathJax.js?config=TeX-AMS-MML_SVG\"></script><script type=\"text/javascript\">if (window.MathJax && window.MathJax.Hub && window.MathJax.Hub.Config) {window.MathJax.Hub.Config({SVG: {font: \"STIX-Web\"}});}</script>                <script type=\"text/javascript\">window.PlotlyConfig = {MathJaxConfig: 'local'};</script>\n",
              "        <script src=\"https://cdn.plot.ly/plotly-2.18.2.min.js\"></script>                <div id=\"86826658-b7a7-40cf-81ff-b1f746ac181e\" class=\"plotly-graph-div\" style=\"height:525px; width:100%;\"></div>            <script type=\"text/javascript\">                                    window.PLOTLYENV=window.PLOTLYENV || {};                                    if (document.getElementById(\"86826658-b7a7-40cf-81ff-b1f746ac181e\")) {                    Plotly.newPlot(                        \"86826658-b7a7-40cf-81ff-b1f746ac181e\",                        [{\"cliponaxis\":false,\"hovertemplate\":[\"xgbc__learning_rate (FloatDistribution): 0.20394913152388366<extra></extra>\",\"xgbc__max_depth (IntDistribution): 0.7960508684761163<extra></extra>\"],\"marker\":{\"color\":\"rgb(66,146,198)\"},\"orientation\":\"h\",\"text\":[\"0.20\",\"0.80\"],\"textposition\":\"outside\",\"x\":[0.20394913152388366,0.7960508684761163],\"y\":[\"xgbc__learning_rate\",\"xgbc__max_depth\"],\"type\":\"bar\"}],                        {\"showlegend\":false,\"title\":{\"text\":\"Hyperparameter Importances\"},\"xaxis\":{\"title\":{\"text\":\"Importance for Objective Value\"}},\"yaxis\":{\"title\":{\"text\":\"Hyperparameter\"}},\"template\":{\"data\":{\"histogram2dcontour\":[{\"type\":\"histogram2dcontour\",\"colorbar\":{\"outlinewidth\":0,\"ticks\":\"\"},\"colorscale\":[[0.0,\"#0d0887\"],[0.1111111111111111,\"#46039f\"],[0.2222222222222222,\"#7201a8\"],[0.3333333333333333,\"#9c179e\"],[0.4444444444444444,\"#bd3786\"],[0.5555555555555556,\"#d8576b\"],[0.6666666666666666,\"#ed7953\"],[0.7777777777777778,\"#fb9f3a\"],[0.8888888888888888,\"#fdca26\"],[1.0,\"#f0f921\"]]}],\"choropleth\":[{\"type\":\"choropleth\",\"colorbar\":{\"outlinewidth\":0,\"ticks\":\"\"}}],\"histogram2d\":[{\"type\":\"histogram2d\",\"colorbar\":{\"outlinewidth\":0,\"ticks\":\"\"},\"colorscale\":[[0.0,\"#0d0887\"],[0.1111111111111111,\"#46039f\"],[0.2222222222222222,\"#7201a8\"],[0.3333333333333333,\"#9c179e\"],[0.4444444444444444,\"#bd3786\"],[0.5555555555555556,\"#d8576b\"],[0.6666666666666666,\"#ed7953\"],[0.7777777777777778,\"#fb9f3a\"],[0.8888888888888888,\"#fdca26\"],[1.0,\"#f0f921\"]]}],\"heatmap\":[{\"type\":\"heatmap\",\"colorbar\":{\"outlinewidth\":0,\"ticks\":\"\"},\"colorscale\":[[0.0,\"#0d0887\"],[0.1111111111111111,\"#46039f\"],[0.2222222222222222,\"#7201a8\"],[0.3333333333333333,\"#9c179e\"],[0.4444444444444444,\"#bd3786\"],[0.5555555555555556,\"#d8576b\"],[0.6666666666666666,\"#ed7953\"],[0.7777777777777778,\"#fb9f3a\"],[0.8888888888888888,\"#fdca26\"],[1.0,\"#f0f921\"]]}],\"heatmapgl\":[{\"type\":\"heatmapgl\",\"colorbar\":{\"outlinewidth\":0,\"ticks\":\"\"},\"colorscale\":[[0.0,\"#0d0887\"],[0.1111111111111111,\"#46039f\"],[0.2222222222222222,\"#7201a8\"],[0.3333333333333333,\"#9c179e\"],[0.4444444444444444,\"#bd3786\"],[0.5555555555555556,\"#d8576b\"],[0.6666666666666666,\"#ed7953\"],[0.7777777777777778,\"#fb9f3a\"],[0.8888888888888888,\"#fdca26\"],[1.0,\"#f0f921\"]]}],\"contourcarpet\":[{\"type\":\"contourcarpet\",\"colorbar\":{\"outlinewidth\":0,\"ticks\":\"\"}}],\"contour\":[{\"type\":\"contour\",\"colorbar\":{\"outlinewidth\":0,\"ticks\":\"\"},\"colorscale\":[[0.0,\"#0d0887\"],[0.1111111111111111,\"#46039f\"],[0.2222222222222222,\"#7201a8\"],[0.3333333333333333,\"#9c179e\"],[0.4444444444444444,\"#bd3786\"],[0.5555555555555556,\"#d8576b\"],[0.6666666666666666,\"#ed7953\"],[0.7777777777777778,\"#fb9f3a\"],[0.8888888888888888,\"#fdca26\"],[1.0,\"#f0f921\"]]}],\"surface\":[{\"type\":\"surface\",\"colorbar\":{\"outlinewidth\":0,\"ticks\":\"\"},\"colorscale\":[[0.0,\"#0d0887\"],[0.1111111111111111,\"#46039f\"],[0.2222222222222222,\"#7201a8\"],[0.3333333333333333,\"#9c179e\"],[0.4444444444444444,\"#bd3786\"],[0.5555555555555556,\"#d8576b\"],[0.6666666666666666,\"#ed7953\"],[0.7777777777777778,\"#fb9f3a\"],[0.8888888888888888,\"#fdca26\"],[1.0,\"#f0f921\"]]}],\"mesh3d\":[{\"type\":\"mesh3d\",\"colorbar\":{\"outlinewidth\":0,\"ticks\":\"\"}}],\"scatter\":[{\"fillpattern\":{\"fillmode\":\"overlay\",\"size\":10,\"solidity\":0.2},\"type\":\"scatter\"}],\"parcoords\":[{\"type\":\"parcoords\",\"line\":{\"colorbar\":{\"outlinewidth\":0,\"ticks\":\"\"}}}],\"scatterpolargl\":[{\"type\":\"scatterpolargl\",\"marker\":{\"colorbar\":{\"outlinewidth\":0,\"ticks\":\"\"}}}],\"bar\":[{\"error_x\":{\"color\":\"#2a3f5f\"},\"error_y\":{\"color\":\"#2a3f5f\"},\"marker\":{\"line\":{\"color\":\"#E5ECF6\",\"width\":0.5},\"pattern\":{\"fillmode\":\"overlay\",\"size\":10,\"solidity\":0.2}},\"type\":\"bar\"}],\"scattergeo\":[{\"type\":\"scattergeo\",\"marker\":{\"colorbar\":{\"outlinewidth\":0,\"ticks\":\"\"}}}],\"scatterpolar\":[{\"type\":\"scatterpolar\",\"marker\":{\"colorbar\":{\"outlinewidth\":0,\"ticks\":\"\"}}}],\"histogram\":[{\"marker\":{\"pattern\":{\"fillmode\":\"overlay\",\"size\":10,\"solidity\":0.2}},\"type\":\"histogram\"}],\"scattergl\":[{\"type\":\"scattergl\",\"marker\":{\"colorbar\":{\"outlinewidth\":0,\"ticks\":\"\"}}}],\"scatter3d\":[{\"type\":\"scatter3d\",\"line\":{\"colorbar\":{\"outlinewidth\":0,\"ticks\":\"\"}},\"marker\":{\"colorbar\":{\"outlinewidth\":0,\"ticks\":\"\"}}}],\"scattermapbox\":[{\"type\":\"scattermapbox\",\"marker\":{\"colorbar\":{\"outlinewidth\":0,\"ticks\":\"\"}}}],\"scatterternary\":[{\"type\":\"scatterternary\",\"marker\":{\"colorbar\":{\"outlinewidth\":0,\"ticks\":\"\"}}}],\"scattercarpet\":[{\"type\":\"scattercarpet\",\"marker\":{\"colorbar\":{\"outlinewidth\":0,\"ticks\":\"\"}}}],\"carpet\":[{\"aaxis\":{\"endlinecolor\":\"#2a3f5f\",\"gridcolor\":\"white\",\"linecolor\":\"white\",\"minorgridcolor\":\"white\",\"startlinecolor\":\"#2a3f5f\"},\"baxis\":{\"endlinecolor\":\"#2a3f5f\",\"gridcolor\":\"white\",\"linecolor\":\"white\",\"minorgridcolor\":\"white\",\"startlinecolor\":\"#2a3f5f\"},\"type\":\"carpet\"}],\"table\":[{\"cells\":{\"fill\":{\"color\":\"#EBF0F8\"},\"line\":{\"color\":\"white\"}},\"header\":{\"fill\":{\"color\":\"#C8D4E3\"},\"line\":{\"color\":\"white\"}},\"type\":\"table\"}],\"barpolar\":[{\"marker\":{\"line\":{\"color\":\"#E5ECF6\",\"width\":0.5},\"pattern\":{\"fillmode\":\"overlay\",\"size\":10,\"solidity\":0.2}},\"type\":\"barpolar\"}],\"pie\":[{\"automargin\":true,\"type\":\"pie\"}]},\"layout\":{\"autotypenumbers\":\"strict\",\"colorway\":[\"#636efa\",\"#EF553B\",\"#00cc96\",\"#ab63fa\",\"#FFA15A\",\"#19d3f3\",\"#FF6692\",\"#B6E880\",\"#FF97FF\",\"#FECB52\"],\"font\":{\"color\":\"#2a3f5f\"},\"hovermode\":\"closest\",\"hoverlabel\":{\"align\":\"left\"},\"paper_bgcolor\":\"white\",\"plot_bgcolor\":\"#E5ECF6\",\"polar\":{\"bgcolor\":\"#E5ECF6\",\"angularaxis\":{\"gridcolor\":\"white\",\"linecolor\":\"white\",\"ticks\":\"\"},\"radialaxis\":{\"gridcolor\":\"white\",\"linecolor\":\"white\",\"ticks\":\"\"}},\"ternary\":{\"bgcolor\":\"#E5ECF6\",\"aaxis\":{\"gridcolor\":\"white\",\"linecolor\":\"white\",\"ticks\":\"\"},\"baxis\":{\"gridcolor\":\"white\",\"linecolor\":\"white\",\"ticks\":\"\"},\"caxis\":{\"gridcolor\":\"white\",\"linecolor\":\"white\",\"ticks\":\"\"}},\"coloraxis\":{\"colorbar\":{\"outlinewidth\":0,\"ticks\":\"\"}},\"colorscale\":{\"sequential\":[[0.0,\"#0d0887\"],[0.1111111111111111,\"#46039f\"],[0.2222222222222222,\"#7201a8\"],[0.3333333333333333,\"#9c179e\"],[0.4444444444444444,\"#bd3786\"],[0.5555555555555556,\"#d8576b\"],[0.6666666666666666,\"#ed7953\"],[0.7777777777777778,\"#fb9f3a\"],[0.8888888888888888,\"#fdca26\"],[1.0,\"#f0f921\"]],\"sequentialminus\":[[0.0,\"#0d0887\"],[0.1111111111111111,\"#46039f\"],[0.2222222222222222,\"#7201a8\"],[0.3333333333333333,\"#9c179e\"],[0.4444444444444444,\"#bd3786\"],[0.5555555555555556,\"#d8576b\"],[0.6666666666666666,\"#ed7953\"],[0.7777777777777778,\"#fb9f3a\"],[0.8888888888888888,\"#fdca26\"],[1.0,\"#f0f921\"]],\"diverging\":[[0,\"#8e0152\"],[0.1,\"#c51b7d\"],[0.2,\"#de77ae\"],[0.3,\"#f1b6da\"],[0.4,\"#fde0ef\"],[0.5,\"#f7f7f7\"],[0.6,\"#e6f5d0\"],[0.7,\"#b8e186\"],[0.8,\"#7fbc41\"],[0.9,\"#4d9221\"],[1,\"#276419\"]]},\"xaxis\":{\"gridcolor\":\"white\",\"linecolor\":\"white\",\"ticks\":\"\",\"title\":{\"standoff\":15},\"zerolinecolor\":\"white\",\"automargin\":true,\"zerolinewidth\":2},\"yaxis\":{\"gridcolor\":\"white\",\"linecolor\":\"white\",\"ticks\":\"\",\"title\":{\"standoff\":15},\"zerolinecolor\":\"white\",\"automargin\":true,\"zerolinewidth\":2},\"scene\":{\"xaxis\":{\"backgroundcolor\":\"#E5ECF6\",\"gridcolor\":\"white\",\"linecolor\":\"white\",\"showbackground\":true,\"ticks\":\"\",\"zerolinecolor\":\"white\",\"gridwidth\":2},\"yaxis\":{\"backgroundcolor\":\"#E5ECF6\",\"gridcolor\":\"white\",\"linecolor\":\"white\",\"showbackground\":true,\"ticks\":\"\",\"zerolinecolor\":\"white\",\"gridwidth\":2},\"zaxis\":{\"backgroundcolor\":\"#E5ECF6\",\"gridcolor\":\"white\",\"linecolor\":\"white\",\"showbackground\":true,\"ticks\":\"\",\"zerolinecolor\":\"white\",\"gridwidth\":2}},\"shapedefaults\":{\"line\":{\"color\":\"#2a3f5f\"}},\"annotationdefaults\":{\"arrowcolor\":\"#2a3f5f\",\"arrowhead\":0,\"arrowwidth\":1},\"geo\":{\"bgcolor\":\"white\",\"landcolor\":\"#E5ECF6\",\"subunitcolor\":\"white\",\"showland\":true,\"showlakes\":true,\"lakecolor\":\"white\"},\"title\":{\"x\":0.05},\"mapbox\":{\"style\":\"light\"}}}},                        {\"responsive\": true}                    ).then(function(){\n",
              "                            \n",
              "var gd = document.getElementById('86826658-b7a7-40cf-81ff-b1f746ac181e');\n",
              "var x = new MutationObserver(function (mutations, observer) {{\n",
              "        var display = window.getComputedStyle(gd).display;\n",
              "        if (!display || display === 'none') {{\n",
              "            console.log([gd, 'removed!']);\n",
              "            Plotly.purge(gd);\n",
              "            observer.disconnect();\n",
              "        }}\n",
              "}});\n",
              "\n",
              "// Listen for the removal of the full notebook cells\n",
              "var notebookContainer = gd.closest('#notebook-container');\n",
              "if (notebookContainer) {{\n",
              "    x.observe(notebookContainer, {childList: true});\n",
              "}}\n",
              "\n",
              "// Listen for the clearing of the current output cell\n",
              "var outputEl = gd.closest('.output');\n",
              "if (outputEl) {{\n",
              "    x.observe(outputEl, {childList: true});\n",
              "}}\n",
              "\n",
              "                        })                };                            </script>        </div>\n",
              "</body>\n",
              "</html>"
            ]
          },
          "metadata": {}
        }
      ],
      "source": [
        "plot_param_importances(study)"
      ],
      "id": "mvg49c3VGgxP"
    },
    {
      "cell_type": "markdown",
      "metadata": {
        "id": "crtH6uqtfHiI"
      },
      "source": [
        "#### n_estimators as an hyperparameter"
      ],
      "id": "crtH6uqtfHiI"
    },
    {
      "cell_type": "code",
      "execution_count": null,
      "metadata": {
        "id": "bA6ANf1RDP8e",
        "colab": {
          "base_uri": "https://localhost:8080/"
        },
        "outputId": "c258e1b0-82a2-4474-bcaf-4aaeaef0b7a8"
      },
      "outputs": [
        {
          "output_type": "stream",
          "name": "stderr",
          "text": [
            "\u001b[32m[I 2023-04-13 14:43:24,323]\u001b[0m A new study created in memory with name: no-name-b6fe32a2-6480-44c2-94bb-a5498b5d1592\u001b[0m\n",
            "\u001b[32m[I 2023-04-13 14:43:45,057]\u001b[0m Trial 0 finished with value: 0.8980188830905457 and parameters: {'xgbc__max_depth': 6, 'xgbc__learning_rate': 0.10016791023218603, 'xgbc__n_estimators': 320}. Best is trial 0 with value: 0.8980188830905457.\u001b[0m\n",
            "\u001b[32m[I 2023-04-13 14:44:04,736]\u001b[0m Trial 1 finished with value: 0.9205533773502408 and parameters: {'xgbc__max_depth': 8, 'xgbc__learning_rate': 0.4870925570988048, 'xgbc__n_estimators': 257}. Best is trial 1 with value: 0.9205533773502408.\u001b[0m\n",
            "\u001b[32m[I 2023-04-13 14:45:02,138]\u001b[0m Trial 2 finished with value: 0.9220669545895381 and parameters: {'xgbc__max_depth': 23, 'xgbc__learning_rate': 0.3122510003811207, 'xgbc__n_estimators': 295}. Best is trial 2 with value: 0.9220669545895381.\u001b[0m\n",
            "\u001b[32m[I 2023-04-13 14:45:32,236]\u001b[0m Trial 3 finished with value: 0.9191707744124962 and parameters: {'xgbc__max_depth': 30, 'xgbc__learning_rate': 0.3923754865476357, 'xgbc__n_estimators': 127}. Best is trial 2 with value: 0.9220669545895381.\u001b[0m\n",
            "\u001b[32m[I 2023-04-13 14:46:41,034]\u001b[0m Trial 4 finished with value: 0.9209025394731971 and parameters: {'xgbc__max_depth': 30, 'xgbc__learning_rate': 0.26980204741728475, 'xgbc__n_estimators': 319}. Best is trial 2 with value: 0.9220669545895381.\u001b[0m\n",
            "\u001b[32m[I 2023-04-13 14:46:59,847]\u001b[0m Trial 5 finished with value: 0.9204644535918733 and parameters: {'xgbc__max_depth': 12, 'xgbc__learning_rate': 0.34809700482792055, 'xgbc__n_estimators': 144}. Best is trial 2 with value: 0.9220669545895381.\u001b[0m\n",
            "\u001b[32m[I 2023-04-13 14:47:06,938]\u001b[0m Trial 6 finished with value: 0.8632821077566654 and parameters: {'xgbc__max_depth': 3, 'xgbc__learning_rate': 0.1630077315514404, 'xgbc__n_estimators': 290}. Best is trial 2 with value: 0.9220669545895381.\u001b[0m\n",
            "\u001b[32m[I 2023-04-13 14:47:44,640]\u001b[0m Trial 7 finished with value: 0.9201680102924849 and parameters: {'xgbc__max_depth': 17, 'xgbc__learning_rate': 0.4428150142716657, 'xgbc__n_estimators': 227}. Best is trial 2 with value: 0.9220669545895381.\u001b[0m\n",
            "\u001b[32m[I 2023-04-13 14:48:55,287]\u001b[0m Trial 8 finished with value: 0.9203417388037449 and parameters: {'xgbc__max_depth': 28, 'xgbc__learning_rate': 0.04665341179323207, 'xgbc__n_estimators': 250}. Best is trial 2 with value: 0.9220669545895381.\u001b[0m\n",
            "\u001b[32m[I 2023-04-13 14:49:28,965]\u001b[0m Trial 9 finished with value: 0.9227203295842606 and parameters: {'xgbc__max_depth': 9, 'xgbc__learning_rate': 0.2974078694655307, 'xgbc__n_estimators': 370}. Best is trial 9 with value: 0.9227203295842606.\u001b[0m\n",
            "\u001b[32m[I 2023-04-13 14:50:27,798]\u001b[0m Trial 10 finished with value: 0.9221369475758445 and parameters: {'xgbc__max_depth': 15, 'xgbc__learning_rate': 0.20692029950972515, 'xgbc__n_estimators': 399}. Best is trial 9 with value: 0.9227203295842606.\u001b[0m\n",
            "\u001b[32m[I 2023-04-13 14:51:38,522]\u001b[0m Trial 11 finished with value: 0.9215912946811488 and parameters: {'xgbc__max_depth': 16, 'xgbc__learning_rate': 0.20533342348277073, 'xgbc__n_estimators': 455}. Best is trial 9 with value: 0.9227203295842606.\u001b[0m\n",
            "\u001b[32m[I 2023-04-13 14:52:34,666]\u001b[0m Trial 12 finished with value: 0.9231832726560573 and parameters: {'xgbc__max_depth': 13, 'xgbc__learning_rate': 0.2363794715300882, 'xgbc__n_estimators': 435}. Best is trial 12 with value: 0.9231832726560573.\u001b[0m\n",
            "\u001b[32m[I 2023-04-13 14:53:22,351]\u001b[0m Trial 13 finished with value: 0.9235469828925008 and parameters: {'xgbc__max_depth': 10, 'xgbc__learning_rate': 0.2850842698243555, 'xgbc__n_estimators': 479}. Best is trial 13 with value: 0.9235469828925008.\u001b[0m\n",
            "\u001b[32m[I 2023-04-13 14:54:48,167]\u001b[0m Trial 14 finished with value: 0.9218165586678984 and parameters: {'xgbc__max_depth': 20, 'xgbc__learning_rate': 0.2454454988990189, 'xgbc__n_estimators': 493}. Best is trial 13 with value: 0.9235469828925008.\u001b[0m\n",
            "\u001b[32m[I 2023-04-13 14:55:41,272]\u001b[0m Trial 15 finished with value: 0.9208600410417936 and parameters: {'xgbc__max_depth': 13, 'xgbc__learning_rate': 0.3595894783250986, 'xgbc__n_estimators': 429}. Best is trial 13 with value: 0.9235469828925008.\u001b[0m\n",
            "\u001b[32m[I 2023-04-13 14:56:36,732]\u001b[0m Trial 16 finished with value: 0.924206396277525 and parameters: {'xgbc__max_depth': 11, 'xgbc__learning_rate': 0.13520957418665258, 'xgbc__n_estimators': 497}. Best is trial 16 with value: 0.924206396277525.\u001b[0m\n",
            "\u001b[32m[I 2023-04-13 14:56:50,208]\u001b[0m Trial 17 finished with value: 0.8741832015923108 and parameters: {'xgbc__max_depth': 3, 'xgbc__learning_rate': 0.14186005506374663, 'xgbc__n_estimators': 496}. Best is trial 16 with value: 0.924206396277525.\u001b[0m\n",
            "\u001b[32m[I 2023-04-13 14:57:35,199]\u001b[0m Trial 18 finished with value: 0.8988624699741897 and parameters: {'xgbc__max_depth': 10, 'xgbc__learning_rate': 0.01901845178172093, 'xgbc__n_estimators': 383}. Best is trial 16 with value: 0.924206396277525.\u001b[0m\n",
            "\u001b[32m[I 2023-04-13 14:57:38,521]\u001b[0m Trial 19 finished with value: 0.8481331275741258 and parameters: {'xgbc__max_depth': 6, 'xgbc__learning_rate': 0.10693523836350688, 'xgbc__n_estimators': 50}. Best is trial 16 with value: 0.924206396277525.\u001b[0m\n",
            "\u001b[32m[I 2023-04-13 14:59:01,966]\u001b[0m Trial 20 finished with value: 0.9226534602544776 and parameters: {'xgbc__max_depth': 19, 'xgbc__learning_rate': 0.1932608692763342, 'xgbc__n_estimators': 468}. Best is trial 16 with value: 0.924206396277525.\u001b[0m\n",
            "\u001b[32m[I 2023-04-13 14:59:52,840]\u001b[0m Trial 21 finished with value: 0.9228989205654071 and parameters: {'xgbc__max_depth': 12, 'xgbc__learning_rate': 0.2341170631016245, 'xgbc__n_estimators': 432}. Best is trial 16 with value: 0.924206396277525.\u001b[0m\n",
            "\u001b[32m[I 2023-04-13 15:00:49,990]\u001b[0m Trial 22 finished with value: 0.9228233040527622 and parameters: {'xgbc__max_depth': 14, 'xgbc__learning_rate': 0.26892341064802194, 'xgbc__n_estimators': 415}. Best is trial 16 with value: 0.924206396277525.\u001b[0m\n",
            "\u001b[32m[I 2023-04-13 15:01:26,138]\u001b[0m Trial 23 finished with value: 0.922879220155453 and parameters: {'xgbc__max_depth': 10, 'xgbc__learning_rate': 0.15873492718697008, 'xgbc__n_estimators': 353}. Best is trial 16 with value: 0.924206396277525.\u001b[0m\n",
            "\u001b[32m[I 2023-04-13 15:01:56,733]\u001b[0m Trial 24 finished with value: 0.9212046879260759 and parameters: {'xgbc__max_depth': 7, 'xgbc__learning_rate': 0.23048250917273042, 'xgbc__n_estimators': 460}. Best is trial 16 with value: 0.924206396277525.\u001b[0m\n",
            "\u001b[32m[I 2023-04-13 15:02:50,485]\u001b[0m Trial 25 finished with value: 0.9237333666412518 and parameters: {'xgbc__max_depth': 11, 'xgbc__learning_rate': 0.28824684462329936, 'xgbc__n_estimators': 498}. Best is trial 16 with value: 0.924206396277525.\u001b[0m\n",
            "\u001b[32m[I 2023-04-13 15:03:39,361]\u001b[0m Trial 26 finished with value: 0.9222063094428932 and parameters: {'xgbc__max_depth': 10, 'xgbc__learning_rate': 0.3047652697452493, 'xgbc__n_estimators': 495}. Best is trial 16 with value: 0.924206396277525.\u001b[0m\n",
            "\u001b[32m[I 2023-04-13 15:04:00,059]\u001b[0m Trial 27 finished with value: 0.9158655414582321 and parameters: {'xgbc__max_depth': 5, 'xgbc__learning_rate': 0.29065331111036863, 'xgbc__n_estimators': 462}. Best is trial 16 with value: 0.924206396277525.\u001b[0m\n",
            "\u001b[32m[I 2023-04-13 15:04:38,739]\u001b[0m Trial 28 finished with value: 0.9230139623754184 and parameters: {'xgbc__max_depth': 11, 'xgbc__learning_rate': 0.34498370787224053, 'xgbc__n_estimators': 353}. Best is trial 16 with value: 0.924206396277525.\u001b[0m\n",
            "\u001b[32m[I 2023-04-13 15:06:17,870]\u001b[0m Trial 29 finished with value: 0.9231462755768098 and parameters: {'xgbc__max_depth': 19, 'xgbc__learning_rate': 0.07336416872559598, 'xgbc__n_estimators': 499}. Best is trial 16 with value: 0.924206396277525.\u001b[0m\n"
          ]
        },
        {
          "output_type": "stream",
          "name": "stdout",
          "text": [
            "time 1373.5503387451172\n"
          ]
        }
      ],
      "source": [
        "from pandas.core.common import random_state\n",
        "import optuna\n",
        "import time\n",
        "from sklearn import metrics\n",
        "from sklearn import tree\n",
        "from sklearn.model_selection import cross_val_score, KFold\n",
        "from sklearn.ensemble import ExtraTreesClassifier\n",
        "from sklearn.model_selection import StratifiedKFold\n",
        "inicio = time.time()\n",
        "rs=NIA\n",
        "np.random.seed(NIA)\n",
        "def objective(trial):\n",
        "    xgbc__max_depth = trial.suggest_int('xgbc__max_depth',3,30)\n",
        "    xgbc__learning_rate = trial.suggest_float(\"xgbc__learning_rate\",0.01,0.5)\n",
        "    xgbc__n_estimators= trial.suggest_int('xgbc__n_estimators', 50, 500)\n",
        "    classifier_obj = Pipeline([('xgbc',xgb.XGBClassifier(max_depth=xgbc__max_depth, learning_rate=xgbc__learning_rate,n_estimators=xgbc__n_estimators,random_state=rs))])\n",
        "\n",
        "\n",
        "    # Step 3: Scoring method:\n",
        "    score = cross_val_score(classifier_obj, X_train, y_train,scoring='balanced_accuracy', n_jobs=-1, cv=cv_inner)\n",
        "    accuracy = score.mean()\n",
        "    return accuracy\n",
        "\n",
        "# Step 4: Running it\n",
        "study = optuna.create_study(direction=\"maximize\")\n",
        "study.optimize(objective, n_trials=30)\n",
        "\n",
        "fin=time.time()\n",
        "print('time',fin-inicio)\n",
        "timeopt6=fin-inicio"
      ],
      "id": "bA6ANf1RDP8e"
    },
    {
      "cell_type": "code",
      "execution_count": null,
      "metadata": {
        "id": "0vPjpLV9c3JX",
        "colab": {
          "base_uri": "https://localhost:8080/",
          "height": 701
        },
        "outputId": "b5ab2753-3c9a-4dfa-b330-49bb5b93e2e3"
      },
      "outputs": [
        {
          "output_type": "stream",
          "name": "stdout",
          "text": [
            "The best trial is : \n",
            "FrozenTrial(number=16, state=TrialState.COMPLETE, values=[0.924206396277525], datetime_start=datetime.datetime(2023, 4, 13, 14, 55, 41, 275218), datetime_complete=datetime.datetime(2023, 4, 13, 14, 56, 36, 732240), params={'xgbc__max_depth': 11, 'xgbc__learning_rate': 0.13520957418665258, 'xgbc__n_estimators': 497}, user_attrs={}, system_attrs={}, intermediate_values={}, distributions={'xgbc__max_depth': IntDistribution(high=30, log=False, low=3, step=1), 'xgbc__learning_rate': FloatDistribution(high=0.5, log=False, low=0.01, step=None), 'xgbc__n_estimators': IntDistribution(high=500, log=False, low=50, step=1)}, trial_id=16, value=None)\n",
            "The best value is : \n",
            "0.924206396277525\n",
            "The best parameters are : \n",
            "{'xgbc__max_depth': 11, 'xgbc__learning_rate': 0.13520957418665258, 'xgbc__n_estimators': 497}\n",
            "Precision: 0.924206396277525\n",
            "Best hyperparameters: {'xgbc__max_depth': 11, 'xgbc__learning_rate': 0.13520957418665258, 'xgbc__n_estimators': 497}\n"
          ]
        },
        {
          "output_type": "display_data",
          "data": {
            "text/html": [
              "<html>\n",
              "<head><meta charset=\"utf-8\" /></head>\n",
              "<body>\n",
              "    <div>            <script src=\"https://cdnjs.cloudflare.com/ajax/libs/mathjax/2.7.5/MathJax.js?config=TeX-AMS-MML_SVG\"></script><script type=\"text/javascript\">if (window.MathJax && window.MathJax.Hub && window.MathJax.Hub.Config) {window.MathJax.Hub.Config({SVG: {font: \"STIX-Web\"}});}</script>                <script type=\"text/javascript\">window.PlotlyConfig = {MathJaxConfig: 'local'};</script>\n",
              "        <script src=\"https://cdn.plot.ly/plotly-2.18.2.min.js\"></script>                <div id=\"1a73b37a-391c-4e8f-8dd0-6f005647c488\" class=\"plotly-graph-div\" style=\"height:525px; width:100%;\"></div>            <script type=\"text/javascript\">                                    window.PLOTLYENV=window.PLOTLYENV || {};                                    if (document.getElementById(\"1a73b37a-391c-4e8f-8dd0-6f005647c488\")) {                    Plotly.newPlot(                        \"1a73b37a-391c-4e8f-8dd0-6f005647c488\",                        [{\"mode\":\"markers\",\"name\":\"Objective Value\",\"x\":[0,1,2,3,4,5,6,7,8,9,10,11,12,13,14,15,16,17,18,19,20,21,22,23,24,25,26,27,28,29],\"y\":[0.8980188830905457,0.9205533773502408,0.9220669545895381,0.9191707744124962,0.9209025394731971,0.9204644535918733,0.8632821077566654,0.9201680102924849,0.9203417388037449,0.9227203295842606,0.9221369475758445,0.9215912946811488,0.9231832726560573,0.9235469828925008,0.9218165586678984,0.9208600410417936,0.924206396277525,0.8741832015923108,0.8988624699741897,0.8481331275741258,0.9226534602544776,0.9228989205654071,0.9228233040527622,0.922879220155453,0.9212046879260759,0.9237333666412518,0.9222063094428932,0.9158655414582321,0.9230139623754184,0.9231462755768098],\"type\":\"scatter\"},{\"name\":\"Best Value\",\"x\":[0,1,2,3,4,5,6,7,8,9,10,11,12,13,14,15,16,17,18,19,20,21,22,23,24,25,26,27,28,29],\"y\":[0.8980188830905457,0.9205533773502408,0.9220669545895381,0.9220669545895381,0.9220669545895381,0.9220669545895381,0.9220669545895381,0.9220669545895381,0.9220669545895381,0.9227203295842606,0.9227203295842606,0.9227203295842606,0.9231832726560573,0.9235469828925008,0.9235469828925008,0.9235469828925008,0.924206396277525,0.924206396277525,0.924206396277525,0.924206396277525,0.924206396277525,0.924206396277525,0.924206396277525,0.924206396277525,0.924206396277525,0.924206396277525,0.924206396277525,0.924206396277525,0.924206396277525,0.924206396277525],\"type\":\"scatter\"}],                        {\"title\":{\"text\":\"Optimization History Plot\"},\"xaxis\":{\"title\":{\"text\":\"Trial\"}},\"yaxis\":{\"title\":{\"text\":\"Objective Value\"}},\"template\":{\"data\":{\"histogram2dcontour\":[{\"type\":\"histogram2dcontour\",\"colorbar\":{\"outlinewidth\":0,\"ticks\":\"\"},\"colorscale\":[[0.0,\"#0d0887\"],[0.1111111111111111,\"#46039f\"],[0.2222222222222222,\"#7201a8\"],[0.3333333333333333,\"#9c179e\"],[0.4444444444444444,\"#bd3786\"],[0.5555555555555556,\"#d8576b\"],[0.6666666666666666,\"#ed7953\"],[0.7777777777777778,\"#fb9f3a\"],[0.8888888888888888,\"#fdca26\"],[1.0,\"#f0f921\"]]}],\"choropleth\":[{\"type\":\"choropleth\",\"colorbar\":{\"outlinewidth\":0,\"ticks\":\"\"}}],\"histogram2d\":[{\"type\":\"histogram2d\",\"colorbar\":{\"outlinewidth\":0,\"ticks\":\"\"},\"colorscale\":[[0.0,\"#0d0887\"],[0.1111111111111111,\"#46039f\"],[0.2222222222222222,\"#7201a8\"],[0.3333333333333333,\"#9c179e\"],[0.4444444444444444,\"#bd3786\"],[0.5555555555555556,\"#d8576b\"],[0.6666666666666666,\"#ed7953\"],[0.7777777777777778,\"#fb9f3a\"],[0.8888888888888888,\"#fdca26\"],[1.0,\"#f0f921\"]]}],\"heatmap\":[{\"type\":\"heatmap\",\"colorbar\":{\"outlinewidth\":0,\"ticks\":\"\"},\"colorscale\":[[0.0,\"#0d0887\"],[0.1111111111111111,\"#46039f\"],[0.2222222222222222,\"#7201a8\"],[0.3333333333333333,\"#9c179e\"],[0.4444444444444444,\"#bd3786\"],[0.5555555555555556,\"#d8576b\"],[0.6666666666666666,\"#ed7953\"],[0.7777777777777778,\"#fb9f3a\"],[0.8888888888888888,\"#fdca26\"],[1.0,\"#f0f921\"]]}],\"heatmapgl\":[{\"type\":\"heatmapgl\",\"colorbar\":{\"outlinewidth\":0,\"ticks\":\"\"},\"colorscale\":[[0.0,\"#0d0887\"],[0.1111111111111111,\"#46039f\"],[0.2222222222222222,\"#7201a8\"],[0.3333333333333333,\"#9c179e\"],[0.4444444444444444,\"#bd3786\"],[0.5555555555555556,\"#d8576b\"],[0.6666666666666666,\"#ed7953\"],[0.7777777777777778,\"#fb9f3a\"],[0.8888888888888888,\"#fdca26\"],[1.0,\"#f0f921\"]]}],\"contourcarpet\":[{\"type\":\"contourcarpet\",\"colorbar\":{\"outlinewidth\":0,\"ticks\":\"\"}}],\"contour\":[{\"type\":\"contour\",\"colorbar\":{\"outlinewidth\":0,\"ticks\":\"\"},\"colorscale\":[[0.0,\"#0d0887\"],[0.1111111111111111,\"#46039f\"],[0.2222222222222222,\"#7201a8\"],[0.3333333333333333,\"#9c179e\"],[0.4444444444444444,\"#bd3786\"],[0.5555555555555556,\"#d8576b\"],[0.6666666666666666,\"#ed7953\"],[0.7777777777777778,\"#fb9f3a\"],[0.8888888888888888,\"#fdca26\"],[1.0,\"#f0f921\"]]}],\"surface\":[{\"type\":\"surface\",\"colorbar\":{\"outlinewidth\":0,\"ticks\":\"\"},\"colorscale\":[[0.0,\"#0d0887\"],[0.1111111111111111,\"#46039f\"],[0.2222222222222222,\"#7201a8\"],[0.3333333333333333,\"#9c179e\"],[0.4444444444444444,\"#bd3786\"],[0.5555555555555556,\"#d8576b\"],[0.6666666666666666,\"#ed7953\"],[0.7777777777777778,\"#fb9f3a\"],[0.8888888888888888,\"#fdca26\"],[1.0,\"#f0f921\"]]}],\"mesh3d\":[{\"type\":\"mesh3d\",\"colorbar\":{\"outlinewidth\":0,\"ticks\":\"\"}}],\"scatter\":[{\"fillpattern\":{\"fillmode\":\"overlay\",\"size\":10,\"solidity\":0.2},\"type\":\"scatter\"}],\"parcoords\":[{\"type\":\"parcoords\",\"line\":{\"colorbar\":{\"outlinewidth\":0,\"ticks\":\"\"}}}],\"scatterpolargl\":[{\"type\":\"scatterpolargl\",\"marker\":{\"colorbar\":{\"outlinewidth\":0,\"ticks\":\"\"}}}],\"bar\":[{\"error_x\":{\"color\":\"#2a3f5f\"},\"error_y\":{\"color\":\"#2a3f5f\"},\"marker\":{\"line\":{\"color\":\"#E5ECF6\",\"width\":0.5},\"pattern\":{\"fillmode\":\"overlay\",\"size\":10,\"solidity\":0.2}},\"type\":\"bar\"}],\"scattergeo\":[{\"type\":\"scattergeo\",\"marker\":{\"colorbar\":{\"outlinewidth\":0,\"ticks\":\"\"}}}],\"scatterpolar\":[{\"type\":\"scatterpolar\",\"marker\":{\"colorbar\":{\"outlinewidth\":0,\"ticks\":\"\"}}}],\"histogram\":[{\"marker\":{\"pattern\":{\"fillmode\":\"overlay\",\"size\":10,\"solidity\":0.2}},\"type\":\"histogram\"}],\"scattergl\":[{\"type\":\"scattergl\",\"marker\":{\"colorbar\":{\"outlinewidth\":0,\"ticks\":\"\"}}}],\"scatter3d\":[{\"type\":\"scatter3d\",\"line\":{\"colorbar\":{\"outlinewidth\":0,\"ticks\":\"\"}},\"marker\":{\"colorbar\":{\"outlinewidth\":0,\"ticks\":\"\"}}}],\"scattermapbox\":[{\"type\":\"scattermapbox\",\"marker\":{\"colorbar\":{\"outlinewidth\":0,\"ticks\":\"\"}}}],\"scatterternary\":[{\"type\":\"scatterternary\",\"marker\":{\"colorbar\":{\"outlinewidth\":0,\"ticks\":\"\"}}}],\"scattercarpet\":[{\"type\":\"scattercarpet\",\"marker\":{\"colorbar\":{\"outlinewidth\":0,\"ticks\":\"\"}}}],\"carpet\":[{\"aaxis\":{\"endlinecolor\":\"#2a3f5f\",\"gridcolor\":\"white\",\"linecolor\":\"white\",\"minorgridcolor\":\"white\",\"startlinecolor\":\"#2a3f5f\"},\"baxis\":{\"endlinecolor\":\"#2a3f5f\",\"gridcolor\":\"white\",\"linecolor\":\"white\",\"minorgridcolor\":\"white\",\"startlinecolor\":\"#2a3f5f\"},\"type\":\"carpet\"}],\"table\":[{\"cells\":{\"fill\":{\"color\":\"#EBF0F8\"},\"line\":{\"color\":\"white\"}},\"header\":{\"fill\":{\"color\":\"#C8D4E3\"},\"line\":{\"color\":\"white\"}},\"type\":\"table\"}],\"barpolar\":[{\"marker\":{\"line\":{\"color\":\"#E5ECF6\",\"width\":0.5},\"pattern\":{\"fillmode\":\"overlay\",\"size\":10,\"solidity\":0.2}},\"type\":\"barpolar\"}],\"pie\":[{\"automargin\":true,\"type\":\"pie\"}]},\"layout\":{\"autotypenumbers\":\"strict\",\"colorway\":[\"#636efa\",\"#EF553B\",\"#00cc96\",\"#ab63fa\",\"#FFA15A\",\"#19d3f3\",\"#FF6692\",\"#B6E880\",\"#FF97FF\",\"#FECB52\"],\"font\":{\"color\":\"#2a3f5f\"},\"hovermode\":\"closest\",\"hoverlabel\":{\"align\":\"left\"},\"paper_bgcolor\":\"white\",\"plot_bgcolor\":\"#E5ECF6\",\"polar\":{\"bgcolor\":\"#E5ECF6\",\"angularaxis\":{\"gridcolor\":\"white\",\"linecolor\":\"white\",\"ticks\":\"\"},\"radialaxis\":{\"gridcolor\":\"white\",\"linecolor\":\"white\",\"ticks\":\"\"}},\"ternary\":{\"bgcolor\":\"#E5ECF6\",\"aaxis\":{\"gridcolor\":\"white\",\"linecolor\":\"white\",\"ticks\":\"\"},\"baxis\":{\"gridcolor\":\"white\",\"linecolor\":\"white\",\"ticks\":\"\"},\"caxis\":{\"gridcolor\":\"white\",\"linecolor\":\"white\",\"ticks\":\"\"}},\"coloraxis\":{\"colorbar\":{\"outlinewidth\":0,\"ticks\":\"\"}},\"colorscale\":{\"sequential\":[[0.0,\"#0d0887\"],[0.1111111111111111,\"#46039f\"],[0.2222222222222222,\"#7201a8\"],[0.3333333333333333,\"#9c179e\"],[0.4444444444444444,\"#bd3786\"],[0.5555555555555556,\"#d8576b\"],[0.6666666666666666,\"#ed7953\"],[0.7777777777777778,\"#fb9f3a\"],[0.8888888888888888,\"#fdca26\"],[1.0,\"#f0f921\"]],\"sequentialminus\":[[0.0,\"#0d0887\"],[0.1111111111111111,\"#46039f\"],[0.2222222222222222,\"#7201a8\"],[0.3333333333333333,\"#9c179e\"],[0.4444444444444444,\"#bd3786\"],[0.5555555555555556,\"#d8576b\"],[0.6666666666666666,\"#ed7953\"],[0.7777777777777778,\"#fb9f3a\"],[0.8888888888888888,\"#fdca26\"],[1.0,\"#f0f921\"]],\"diverging\":[[0,\"#8e0152\"],[0.1,\"#c51b7d\"],[0.2,\"#de77ae\"],[0.3,\"#f1b6da\"],[0.4,\"#fde0ef\"],[0.5,\"#f7f7f7\"],[0.6,\"#e6f5d0\"],[0.7,\"#b8e186\"],[0.8,\"#7fbc41\"],[0.9,\"#4d9221\"],[1,\"#276419\"]]},\"xaxis\":{\"gridcolor\":\"white\",\"linecolor\":\"white\",\"ticks\":\"\",\"title\":{\"standoff\":15},\"zerolinecolor\":\"white\",\"automargin\":true,\"zerolinewidth\":2},\"yaxis\":{\"gridcolor\":\"white\",\"linecolor\":\"white\",\"ticks\":\"\",\"title\":{\"standoff\":15},\"zerolinecolor\":\"white\",\"automargin\":true,\"zerolinewidth\":2},\"scene\":{\"xaxis\":{\"backgroundcolor\":\"#E5ECF6\",\"gridcolor\":\"white\",\"linecolor\":\"white\",\"showbackground\":true,\"ticks\":\"\",\"zerolinecolor\":\"white\",\"gridwidth\":2},\"yaxis\":{\"backgroundcolor\":\"#E5ECF6\",\"gridcolor\":\"white\",\"linecolor\":\"white\",\"showbackground\":true,\"ticks\":\"\",\"zerolinecolor\":\"white\",\"gridwidth\":2},\"zaxis\":{\"backgroundcolor\":\"#E5ECF6\",\"gridcolor\":\"white\",\"linecolor\":\"white\",\"showbackground\":true,\"ticks\":\"\",\"zerolinecolor\":\"white\",\"gridwidth\":2}},\"shapedefaults\":{\"line\":{\"color\":\"#2a3f5f\"}},\"annotationdefaults\":{\"arrowcolor\":\"#2a3f5f\",\"arrowhead\":0,\"arrowwidth\":1},\"geo\":{\"bgcolor\":\"white\",\"landcolor\":\"#E5ECF6\",\"subunitcolor\":\"white\",\"showland\":true,\"showlakes\":true,\"lakecolor\":\"white\"},\"title\":{\"x\":0.05},\"mapbox\":{\"style\":\"light\"}}}},                        {\"responsive\": true}                    ).then(function(){\n",
              "                            \n",
              "var gd = document.getElementById('1a73b37a-391c-4e8f-8dd0-6f005647c488');\n",
              "var x = new MutationObserver(function (mutations, observer) {{\n",
              "        var display = window.getComputedStyle(gd).display;\n",
              "        if (!display || display === 'none') {{\n",
              "            console.log([gd, 'removed!']);\n",
              "            Plotly.purge(gd);\n",
              "            observer.disconnect();\n",
              "        }}\n",
              "}});\n",
              "\n",
              "// Listen for the removal of the full notebook cells\n",
              "var notebookContainer = gd.closest('#notebook-container');\n",
              "if (notebookContainer) {{\n",
              "    x.observe(notebookContainer, {childList: true});\n",
              "}}\n",
              "\n",
              "// Listen for the clearing of the current output cell\n",
              "var outputEl = gd.closest('.output');\n",
              "if (outputEl) {{\n",
              "    x.observe(outputEl, {childList: true});\n",
              "}}\n",
              "\n",
              "                        })                };                            </script>        </div>\n",
              "</body>\n",
              "</html>"
            ]
          },
          "metadata": {}
        }
      ],
      "source": [
        "# Getting the best trial:\n",
        "print(f\"The best trial is : \\n{study.best_trial}\")\n",
        "# Getting the best score:\n",
        "print(f\"The best value is : \\n{study.best_value}\")\n",
        "# Getting the best parameters:\n",
        "print(f\"The best parameters are : \\n{study.best_params}\")\n",
        "trial = study.best_trial\n",
        "print('Precision: {}'.format(trial.value))\n",
        "print(\"Best hyperparameters: {}\".format(trial.params))\n",
        "optuna.visualization.plot_optimization_history(study).show()"
      ],
      "id": "0vPjpLV9c3JX"
    },
    {
      "cell_type": "code",
      "execution_count": null,
      "metadata": {
        "id": "xLE5LTi2oYLu",
        "colab": {
          "base_uri": "https://localhost:8080/",
          "height": 562
        },
        "outputId": "f5070588-4e0d-4e6f-ff34-cc749eed1341"
      },
      "outputs": [
        {
          "output_type": "display_data",
          "data": {
            "text/html": [
              "<html>\n",
              "<head><meta charset=\"utf-8\" /></head>\n",
              "<body>\n",
              "    <div>            <script src=\"https://cdnjs.cloudflare.com/ajax/libs/mathjax/2.7.5/MathJax.js?config=TeX-AMS-MML_SVG\"></script><script type=\"text/javascript\">if (window.MathJax && window.MathJax.Hub && window.MathJax.Hub.Config) {window.MathJax.Hub.Config({SVG: {font: \"STIX-Web\"}});}</script>                <script type=\"text/javascript\">window.PlotlyConfig = {MathJaxConfig: 'local'};</script>\n",
              "        <script src=\"https://cdn.plot.ly/plotly-2.18.2.min.js\"></script>                <div id=\"75bc7352-956d-4aa8-aaf9-e992f5bdaa86\" class=\"plotly-graph-div\" style=\"height:525px; width:100%;\"></div>            <script type=\"text/javascript\">                                    window.PLOTLYENV=window.PLOTLYENV || {};                                    if (document.getElementById(\"75bc7352-956d-4aa8-aaf9-e992f5bdaa86\")) {                    Plotly.newPlot(                        \"75bc7352-956d-4aa8-aaf9-e992f5bdaa86\",                        [{\"dimensions\":[{\"label\":\"Objective Value\",\"range\":[0.8481331275741258,0.924206396277525],\"values\":[0.8980188830905457,0.9205533773502408,0.9220669545895381,0.9191707744124962,0.9209025394731971,0.9204644535918733,0.8632821077566654,0.9201680102924849,0.9203417388037449,0.9227203295842606,0.9221369475758445,0.9215912946811488,0.9231832726560573,0.9235469828925008,0.9218165586678984,0.9208600410417936,0.924206396277525,0.8741832015923108,0.8988624699741897,0.8481331275741258,0.9226534602544776,0.9228989205654071,0.9228233040527622,0.922879220155453,0.9212046879260759,0.9237333666412518,0.9222063094428932,0.9158655414582321,0.9230139623754184,0.9231462755768098]},{\"label\":\"xgbc__learning_rate\",\"range\":[0.01901845178172093,0.4870925570988048],\"values\":[0.10016791023218603,0.4870925570988048,0.3122510003811207,0.3923754865476357,0.26980204741728475,0.34809700482792055,0.1630077315514404,0.4428150142716657,0.04665341179323207,0.2974078694655307,0.20692029950972515,0.20533342348277073,0.2363794715300882,0.2850842698243555,0.2454454988990189,0.3595894783250986,0.13520957418665258,0.14186005506374663,0.01901845178172093,0.10693523836350688,0.1932608692763342,0.2341170631016245,0.26892341064802194,0.15873492718697008,0.23048250917273042,0.28824684462329936,0.3047652697452493,0.29065331111036863,0.34498370787224053,0.07336416872559598]},{\"label\":\"xgbc__max_depth\",\"range\":[3,30],\"values\":[6,8,23,30,30,12,3,17,28,9,15,16,13,10,20,13,11,3,10,6,19,12,14,10,7,11,10,5,11,19]},{\"label\":\"xgbc__n_estimators\",\"range\":[50,499],\"values\":[320,257,295,127,319,144,290,227,250,370,399,455,435,479,493,429,497,496,383,50,468,432,415,353,460,498,495,462,353,499]}],\"labelangle\":30,\"labelside\":\"bottom\",\"line\":{\"color\":[0.8980188830905457,0.9205533773502408,0.9220669545895381,0.9191707744124962,0.9209025394731971,0.9204644535918733,0.8632821077566654,0.9201680102924849,0.9203417388037449,0.9227203295842606,0.9221369475758445,0.9215912946811488,0.9231832726560573,0.9235469828925008,0.9218165586678984,0.9208600410417936,0.924206396277525,0.8741832015923108,0.8988624699741897,0.8481331275741258,0.9226534602544776,0.9228989205654071,0.9228233040527622,0.922879220155453,0.9212046879260759,0.9237333666412518,0.9222063094428932,0.9158655414582321,0.9230139623754184,0.9231462755768098],\"colorbar\":{\"title\":{\"text\":\"Objective Value\"}},\"colorscale\":[[0.0,\"rgb(247,251,255)\"],[0.125,\"rgb(222,235,247)\"],[0.25,\"rgb(198,219,239)\"],[0.375,\"rgb(158,202,225)\"],[0.5,\"rgb(107,174,214)\"],[0.625,\"rgb(66,146,198)\"],[0.75,\"rgb(33,113,181)\"],[0.875,\"rgb(8,81,156)\"],[1.0,\"rgb(8,48,107)\"]],\"reversescale\":false,\"showscale\":true},\"type\":\"parcoords\"}],                        {\"title\":{\"text\":\"Parallel Coordinate Plot\"},\"template\":{\"data\":{\"histogram2dcontour\":[{\"type\":\"histogram2dcontour\",\"colorbar\":{\"outlinewidth\":0,\"ticks\":\"\"},\"colorscale\":[[0.0,\"#0d0887\"],[0.1111111111111111,\"#46039f\"],[0.2222222222222222,\"#7201a8\"],[0.3333333333333333,\"#9c179e\"],[0.4444444444444444,\"#bd3786\"],[0.5555555555555556,\"#d8576b\"],[0.6666666666666666,\"#ed7953\"],[0.7777777777777778,\"#fb9f3a\"],[0.8888888888888888,\"#fdca26\"],[1.0,\"#f0f921\"]]}],\"choropleth\":[{\"type\":\"choropleth\",\"colorbar\":{\"outlinewidth\":0,\"ticks\":\"\"}}],\"histogram2d\":[{\"type\":\"histogram2d\",\"colorbar\":{\"outlinewidth\":0,\"ticks\":\"\"},\"colorscale\":[[0.0,\"#0d0887\"],[0.1111111111111111,\"#46039f\"],[0.2222222222222222,\"#7201a8\"],[0.3333333333333333,\"#9c179e\"],[0.4444444444444444,\"#bd3786\"],[0.5555555555555556,\"#d8576b\"],[0.6666666666666666,\"#ed7953\"],[0.7777777777777778,\"#fb9f3a\"],[0.8888888888888888,\"#fdca26\"],[1.0,\"#f0f921\"]]}],\"heatmap\":[{\"type\":\"heatmap\",\"colorbar\":{\"outlinewidth\":0,\"ticks\":\"\"},\"colorscale\":[[0.0,\"#0d0887\"],[0.1111111111111111,\"#46039f\"],[0.2222222222222222,\"#7201a8\"],[0.3333333333333333,\"#9c179e\"],[0.4444444444444444,\"#bd3786\"],[0.5555555555555556,\"#d8576b\"],[0.6666666666666666,\"#ed7953\"],[0.7777777777777778,\"#fb9f3a\"],[0.8888888888888888,\"#fdca26\"],[1.0,\"#f0f921\"]]}],\"heatmapgl\":[{\"type\":\"heatmapgl\",\"colorbar\":{\"outlinewidth\":0,\"ticks\":\"\"},\"colorscale\":[[0.0,\"#0d0887\"],[0.1111111111111111,\"#46039f\"],[0.2222222222222222,\"#7201a8\"],[0.3333333333333333,\"#9c179e\"],[0.4444444444444444,\"#bd3786\"],[0.5555555555555556,\"#d8576b\"],[0.6666666666666666,\"#ed7953\"],[0.7777777777777778,\"#fb9f3a\"],[0.8888888888888888,\"#fdca26\"],[1.0,\"#f0f921\"]]}],\"contourcarpet\":[{\"type\":\"contourcarpet\",\"colorbar\":{\"outlinewidth\":0,\"ticks\":\"\"}}],\"contour\":[{\"type\":\"contour\",\"colorbar\":{\"outlinewidth\":0,\"ticks\":\"\"},\"colorscale\":[[0.0,\"#0d0887\"],[0.1111111111111111,\"#46039f\"],[0.2222222222222222,\"#7201a8\"],[0.3333333333333333,\"#9c179e\"],[0.4444444444444444,\"#bd3786\"],[0.5555555555555556,\"#d8576b\"],[0.6666666666666666,\"#ed7953\"],[0.7777777777777778,\"#fb9f3a\"],[0.8888888888888888,\"#fdca26\"],[1.0,\"#f0f921\"]]}],\"surface\":[{\"type\":\"surface\",\"colorbar\":{\"outlinewidth\":0,\"ticks\":\"\"},\"colorscale\":[[0.0,\"#0d0887\"],[0.1111111111111111,\"#46039f\"],[0.2222222222222222,\"#7201a8\"],[0.3333333333333333,\"#9c179e\"],[0.4444444444444444,\"#bd3786\"],[0.5555555555555556,\"#d8576b\"],[0.6666666666666666,\"#ed7953\"],[0.7777777777777778,\"#fb9f3a\"],[0.8888888888888888,\"#fdca26\"],[1.0,\"#f0f921\"]]}],\"mesh3d\":[{\"type\":\"mesh3d\",\"colorbar\":{\"outlinewidth\":0,\"ticks\":\"\"}}],\"scatter\":[{\"fillpattern\":{\"fillmode\":\"overlay\",\"size\":10,\"solidity\":0.2},\"type\":\"scatter\"}],\"parcoords\":[{\"type\":\"parcoords\",\"line\":{\"colorbar\":{\"outlinewidth\":0,\"ticks\":\"\"}}}],\"scatterpolargl\":[{\"type\":\"scatterpolargl\",\"marker\":{\"colorbar\":{\"outlinewidth\":0,\"ticks\":\"\"}}}],\"bar\":[{\"error_x\":{\"color\":\"#2a3f5f\"},\"error_y\":{\"color\":\"#2a3f5f\"},\"marker\":{\"line\":{\"color\":\"#E5ECF6\",\"width\":0.5},\"pattern\":{\"fillmode\":\"overlay\",\"size\":10,\"solidity\":0.2}},\"type\":\"bar\"}],\"scattergeo\":[{\"type\":\"scattergeo\",\"marker\":{\"colorbar\":{\"outlinewidth\":0,\"ticks\":\"\"}}}],\"scatterpolar\":[{\"type\":\"scatterpolar\",\"marker\":{\"colorbar\":{\"outlinewidth\":0,\"ticks\":\"\"}}}],\"histogram\":[{\"marker\":{\"pattern\":{\"fillmode\":\"overlay\",\"size\":10,\"solidity\":0.2}},\"type\":\"histogram\"}],\"scattergl\":[{\"type\":\"scattergl\",\"marker\":{\"colorbar\":{\"outlinewidth\":0,\"ticks\":\"\"}}}],\"scatter3d\":[{\"type\":\"scatter3d\",\"line\":{\"colorbar\":{\"outlinewidth\":0,\"ticks\":\"\"}},\"marker\":{\"colorbar\":{\"outlinewidth\":0,\"ticks\":\"\"}}}],\"scattermapbox\":[{\"type\":\"scattermapbox\",\"marker\":{\"colorbar\":{\"outlinewidth\":0,\"ticks\":\"\"}}}],\"scatterternary\":[{\"type\":\"scatterternary\",\"marker\":{\"colorbar\":{\"outlinewidth\":0,\"ticks\":\"\"}}}],\"scattercarpet\":[{\"type\":\"scattercarpet\",\"marker\":{\"colorbar\":{\"outlinewidth\":0,\"ticks\":\"\"}}}],\"carpet\":[{\"aaxis\":{\"endlinecolor\":\"#2a3f5f\",\"gridcolor\":\"white\",\"linecolor\":\"white\",\"minorgridcolor\":\"white\",\"startlinecolor\":\"#2a3f5f\"},\"baxis\":{\"endlinecolor\":\"#2a3f5f\",\"gridcolor\":\"white\",\"linecolor\":\"white\",\"minorgridcolor\":\"white\",\"startlinecolor\":\"#2a3f5f\"},\"type\":\"carpet\"}],\"table\":[{\"cells\":{\"fill\":{\"color\":\"#EBF0F8\"},\"line\":{\"color\":\"white\"}},\"header\":{\"fill\":{\"color\":\"#C8D4E3\"},\"line\":{\"color\":\"white\"}},\"type\":\"table\"}],\"barpolar\":[{\"marker\":{\"line\":{\"color\":\"#E5ECF6\",\"width\":0.5},\"pattern\":{\"fillmode\":\"overlay\",\"size\":10,\"solidity\":0.2}},\"type\":\"barpolar\"}],\"pie\":[{\"automargin\":true,\"type\":\"pie\"}]},\"layout\":{\"autotypenumbers\":\"strict\",\"colorway\":[\"#636efa\",\"#EF553B\",\"#00cc96\",\"#ab63fa\",\"#FFA15A\",\"#19d3f3\",\"#FF6692\",\"#B6E880\",\"#FF97FF\",\"#FECB52\"],\"font\":{\"color\":\"#2a3f5f\"},\"hovermode\":\"closest\",\"hoverlabel\":{\"align\":\"left\"},\"paper_bgcolor\":\"white\",\"plot_bgcolor\":\"#E5ECF6\",\"polar\":{\"bgcolor\":\"#E5ECF6\",\"angularaxis\":{\"gridcolor\":\"white\",\"linecolor\":\"white\",\"ticks\":\"\"},\"radialaxis\":{\"gridcolor\":\"white\",\"linecolor\":\"white\",\"ticks\":\"\"}},\"ternary\":{\"bgcolor\":\"#E5ECF6\",\"aaxis\":{\"gridcolor\":\"white\",\"linecolor\":\"white\",\"ticks\":\"\"},\"baxis\":{\"gridcolor\":\"white\",\"linecolor\":\"white\",\"ticks\":\"\"},\"caxis\":{\"gridcolor\":\"white\",\"linecolor\":\"white\",\"ticks\":\"\"}},\"coloraxis\":{\"colorbar\":{\"outlinewidth\":0,\"ticks\":\"\"}},\"colorscale\":{\"sequential\":[[0.0,\"#0d0887\"],[0.1111111111111111,\"#46039f\"],[0.2222222222222222,\"#7201a8\"],[0.3333333333333333,\"#9c179e\"],[0.4444444444444444,\"#bd3786\"],[0.5555555555555556,\"#d8576b\"],[0.6666666666666666,\"#ed7953\"],[0.7777777777777778,\"#fb9f3a\"],[0.8888888888888888,\"#fdca26\"],[1.0,\"#f0f921\"]],\"sequentialminus\":[[0.0,\"#0d0887\"],[0.1111111111111111,\"#46039f\"],[0.2222222222222222,\"#7201a8\"],[0.3333333333333333,\"#9c179e\"],[0.4444444444444444,\"#bd3786\"],[0.5555555555555556,\"#d8576b\"],[0.6666666666666666,\"#ed7953\"],[0.7777777777777778,\"#fb9f3a\"],[0.8888888888888888,\"#fdca26\"],[1.0,\"#f0f921\"]],\"diverging\":[[0,\"#8e0152\"],[0.1,\"#c51b7d\"],[0.2,\"#de77ae\"],[0.3,\"#f1b6da\"],[0.4,\"#fde0ef\"],[0.5,\"#f7f7f7\"],[0.6,\"#e6f5d0\"],[0.7,\"#b8e186\"],[0.8,\"#7fbc41\"],[0.9,\"#4d9221\"],[1,\"#276419\"]]},\"xaxis\":{\"gridcolor\":\"white\",\"linecolor\":\"white\",\"ticks\":\"\",\"title\":{\"standoff\":15},\"zerolinecolor\":\"white\",\"automargin\":true,\"zerolinewidth\":2},\"yaxis\":{\"gridcolor\":\"white\",\"linecolor\":\"white\",\"ticks\":\"\",\"title\":{\"standoff\":15},\"zerolinecolor\":\"white\",\"automargin\":true,\"zerolinewidth\":2},\"scene\":{\"xaxis\":{\"backgroundcolor\":\"#E5ECF6\",\"gridcolor\":\"white\",\"linecolor\":\"white\",\"showbackground\":true,\"ticks\":\"\",\"zerolinecolor\":\"white\",\"gridwidth\":2},\"yaxis\":{\"backgroundcolor\":\"#E5ECF6\",\"gridcolor\":\"white\",\"linecolor\":\"white\",\"showbackground\":true,\"ticks\":\"\",\"zerolinecolor\":\"white\",\"gridwidth\":2},\"zaxis\":{\"backgroundcolor\":\"#E5ECF6\",\"gridcolor\":\"white\",\"linecolor\":\"white\",\"showbackground\":true,\"ticks\":\"\",\"zerolinecolor\":\"white\",\"gridwidth\":2}},\"shapedefaults\":{\"line\":{\"color\":\"#2a3f5f\"}},\"annotationdefaults\":{\"arrowcolor\":\"#2a3f5f\",\"arrowhead\":0,\"arrowwidth\":1},\"geo\":{\"bgcolor\":\"white\",\"landcolor\":\"#E5ECF6\",\"subunitcolor\":\"white\",\"showland\":true,\"showlakes\":true,\"lakecolor\":\"white\"},\"title\":{\"x\":0.05},\"mapbox\":{\"style\":\"light\"}}}},                        {\"responsive\": true}                    ).then(function(){\n",
              "                            \n",
              "var gd = document.getElementById('75bc7352-956d-4aa8-aaf9-e992f5bdaa86');\n",
              "var x = new MutationObserver(function (mutations, observer) {{\n",
              "        var display = window.getComputedStyle(gd).display;\n",
              "        if (!display || display === 'none') {{\n",
              "            console.log([gd, 'removed!']);\n",
              "            Plotly.purge(gd);\n",
              "            observer.disconnect();\n",
              "        }}\n",
              "}});\n",
              "\n",
              "// Listen for the removal of the full notebook cells\n",
              "var notebookContainer = gd.closest('#notebook-container');\n",
              "if (notebookContainer) {{\n",
              "    x.observe(notebookContainer, {childList: true});\n",
              "}}\n",
              "\n",
              "// Listen for the clearing of the current output cell\n",
              "var outputEl = gd.closest('.output');\n",
              "if (outputEl) {{\n",
              "    x.observe(outputEl, {childList: true});\n",
              "}}\n",
              "\n",
              "                        })                };                            </script>        </div>\n",
              "</body>\n",
              "</html>"
            ]
          },
          "metadata": {}
        }
      ],
      "source": [
        "from optuna.visualization import plot_parallel_coordinate\n",
        "\n",
        "plot_parallel_coordinate(study)\n"
      ],
      "id": "xLE5LTi2oYLu"
    },
    {
      "cell_type": "code",
      "execution_count": null,
      "metadata": {
        "id": "9c8rLt-8oZbv",
        "colab": {
          "base_uri": "https://localhost:8080/",
          "height": 562
        },
        "outputId": "8ee48b7b-5b43-43f7-a8df-58cba015ad7f"
      },
      "outputs": [
        {
          "output_type": "display_data",
          "data": {
            "text/html": [
              "<html>\n",
              "<head><meta charset=\"utf-8\" /></head>\n",
              "<body>\n",
              "    <div>            <script src=\"https://cdnjs.cloudflare.com/ajax/libs/mathjax/2.7.5/MathJax.js?config=TeX-AMS-MML_SVG\"></script><script type=\"text/javascript\">if (window.MathJax && window.MathJax.Hub && window.MathJax.Hub.Config) {window.MathJax.Hub.Config({SVG: {font: \"STIX-Web\"}});}</script>                <script type=\"text/javascript\">window.PlotlyConfig = {MathJaxConfig: 'local'};</script>\n",
              "        <script src=\"https://cdn.plot.ly/plotly-2.18.2.min.js\"></script>                <div id=\"322184fc-0ba4-422e-8b49-7f704f0a8a55\" class=\"plotly-graph-div\" style=\"height:525px; width:100%;\"></div>            <script type=\"text/javascript\">                                    window.PLOTLYENV=window.PLOTLYENV || {};                                    if (document.getElementById(\"322184fc-0ba4-422e-8b49-7f704f0a8a55\")) {                    Plotly.newPlot(                        \"322184fc-0ba4-422e-8b49-7f704f0a8a55\",                        [{\"cliponaxis\":false,\"hovertemplate\":[\"xgbc__n_estimators (IntDistribution): 0.08086447098348566<extra></extra>\",\"xgbc__learning_rate (FloatDistribution): 0.1637844538078872<extra></extra>\",\"xgbc__max_depth (IntDistribution): 0.7553510752086271<extra></extra>\"],\"marker\":{\"color\":\"rgb(66,146,198)\"},\"orientation\":\"h\",\"text\":[\"0.08\",\"0.16\",\"0.76\"],\"textposition\":\"outside\",\"x\":[0.08086447098348566,0.1637844538078872,0.7553510752086271],\"y\":[\"xgbc__n_estimators\",\"xgbc__learning_rate\",\"xgbc__max_depth\"],\"type\":\"bar\"}],                        {\"showlegend\":false,\"title\":{\"text\":\"Hyperparameter Importances\"},\"xaxis\":{\"title\":{\"text\":\"Importance for Objective Value\"}},\"yaxis\":{\"title\":{\"text\":\"Hyperparameter\"}},\"template\":{\"data\":{\"histogram2dcontour\":[{\"type\":\"histogram2dcontour\",\"colorbar\":{\"outlinewidth\":0,\"ticks\":\"\"},\"colorscale\":[[0.0,\"#0d0887\"],[0.1111111111111111,\"#46039f\"],[0.2222222222222222,\"#7201a8\"],[0.3333333333333333,\"#9c179e\"],[0.4444444444444444,\"#bd3786\"],[0.5555555555555556,\"#d8576b\"],[0.6666666666666666,\"#ed7953\"],[0.7777777777777778,\"#fb9f3a\"],[0.8888888888888888,\"#fdca26\"],[1.0,\"#f0f921\"]]}],\"choropleth\":[{\"type\":\"choropleth\",\"colorbar\":{\"outlinewidth\":0,\"ticks\":\"\"}}],\"histogram2d\":[{\"type\":\"histogram2d\",\"colorbar\":{\"outlinewidth\":0,\"ticks\":\"\"},\"colorscale\":[[0.0,\"#0d0887\"],[0.1111111111111111,\"#46039f\"],[0.2222222222222222,\"#7201a8\"],[0.3333333333333333,\"#9c179e\"],[0.4444444444444444,\"#bd3786\"],[0.5555555555555556,\"#d8576b\"],[0.6666666666666666,\"#ed7953\"],[0.7777777777777778,\"#fb9f3a\"],[0.8888888888888888,\"#fdca26\"],[1.0,\"#f0f921\"]]}],\"heatmap\":[{\"type\":\"heatmap\",\"colorbar\":{\"outlinewidth\":0,\"ticks\":\"\"},\"colorscale\":[[0.0,\"#0d0887\"],[0.1111111111111111,\"#46039f\"],[0.2222222222222222,\"#7201a8\"],[0.3333333333333333,\"#9c179e\"],[0.4444444444444444,\"#bd3786\"],[0.5555555555555556,\"#d8576b\"],[0.6666666666666666,\"#ed7953\"],[0.7777777777777778,\"#fb9f3a\"],[0.8888888888888888,\"#fdca26\"],[1.0,\"#f0f921\"]]}],\"heatmapgl\":[{\"type\":\"heatmapgl\",\"colorbar\":{\"outlinewidth\":0,\"ticks\":\"\"},\"colorscale\":[[0.0,\"#0d0887\"],[0.1111111111111111,\"#46039f\"],[0.2222222222222222,\"#7201a8\"],[0.3333333333333333,\"#9c179e\"],[0.4444444444444444,\"#bd3786\"],[0.5555555555555556,\"#d8576b\"],[0.6666666666666666,\"#ed7953\"],[0.7777777777777778,\"#fb9f3a\"],[0.8888888888888888,\"#fdca26\"],[1.0,\"#f0f921\"]]}],\"contourcarpet\":[{\"type\":\"contourcarpet\",\"colorbar\":{\"outlinewidth\":0,\"ticks\":\"\"}}],\"contour\":[{\"type\":\"contour\",\"colorbar\":{\"outlinewidth\":0,\"ticks\":\"\"},\"colorscale\":[[0.0,\"#0d0887\"],[0.1111111111111111,\"#46039f\"],[0.2222222222222222,\"#7201a8\"],[0.3333333333333333,\"#9c179e\"],[0.4444444444444444,\"#bd3786\"],[0.5555555555555556,\"#d8576b\"],[0.6666666666666666,\"#ed7953\"],[0.7777777777777778,\"#fb9f3a\"],[0.8888888888888888,\"#fdca26\"],[1.0,\"#f0f921\"]]}],\"surface\":[{\"type\":\"surface\",\"colorbar\":{\"outlinewidth\":0,\"ticks\":\"\"},\"colorscale\":[[0.0,\"#0d0887\"],[0.1111111111111111,\"#46039f\"],[0.2222222222222222,\"#7201a8\"],[0.3333333333333333,\"#9c179e\"],[0.4444444444444444,\"#bd3786\"],[0.5555555555555556,\"#d8576b\"],[0.6666666666666666,\"#ed7953\"],[0.7777777777777778,\"#fb9f3a\"],[0.8888888888888888,\"#fdca26\"],[1.0,\"#f0f921\"]]}],\"mesh3d\":[{\"type\":\"mesh3d\",\"colorbar\":{\"outlinewidth\":0,\"ticks\":\"\"}}],\"scatter\":[{\"fillpattern\":{\"fillmode\":\"overlay\",\"size\":10,\"solidity\":0.2},\"type\":\"scatter\"}],\"parcoords\":[{\"type\":\"parcoords\",\"line\":{\"colorbar\":{\"outlinewidth\":0,\"ticks\":\"\"}}}],\"scatterpolargl\":[{\"type\":\"scatterpolargl\",\"marker\":{\"colorbar\":{\"outlinewidth\":0,\"ticks\":\"\"}}}],\"bar\":[{\"error_x\":{\"color\":\"#2a3f5f\"},\"error_y\":{\"color\":\"#2a3f5f\"},\"marker\":{\"line\":{\"color\":\"#E5ECF6\",\"width\":0.5},\"pattern\":{\"fillmode\":\"overlay\",\"size\":10,\"solidity\":0.2}},\"type\":\"bar\"}],\"scattergeo\":[{\"type\":\"scattergeo\",\"marker\":{\"colorbar\":{\"outlinewidth\":0,\"ticks\":\"\"}}}],\"scatterpolar\":[{\"type\":\"scatterpolar\",\"marker\":{\"colorbar\":{\"outlinewidth\":0,\"ticks\":\"\"}}}],\"histogram\":[{\"marker\":{\"pattern\":{\"fillmode\":\"overlay\",\"size\":10,\"solidity\":0.2}},\"type\":\"histogram\"}],\"scattergl\":[{\"type\":\"scattergl\",\"marker\":{\"colorbar\":{\"outlinewidth\":0,\"ticks\":\"\"}}}],\"scatter3d\":[{\"type\":\"scatter3d\",\"line\":{\"colorbar\":{\"outlinewidth\":0,\"ticks\":\"\"}},\"marker\":{\"colorbar\":{\"outlinewidth\":0,\"ticks\":\"\"}}}],\"scattermapbox\":[{\"type\":\"scattermapbox\",\"marker\":{\"colorbar\":{\"outlinewidth\":0,\"ticks\":\"\"}}}],\"scatterternary\":[{\"type\":\"scatterternary\",\"marker\":{\"colorbar\":{\"outlinewidth\":0,\"ticks\":\"\"}}}],\"scattercarpet\":[{\"type\":\"scattercarpet\",\"marker\":{\"colorbar\":{\"outlinewidth\":0,\"ticks\":\"\"}}}],\"carpet\":[{\"aaxis\":{\"endlinecolor\":\"#2a3f5f\",\"gridcolor\":\"white\",\"linecolor\":\"white\",\"minorgridcolor\":\"white\",\"startlinecolor\":\"#2a3f5f\"},\"baxis\":{\"endlinecolor\":\"#2a3f5f\",\"gridcolor\":\"white\",\"linecolor\":\"white\",\"minorgridcolor\":\"white\",\"startlinecolor\":\"#2a3f5f\"},\"type\":\"carpet\"}],\"table\":[{\"cells\":{\"fill\":{\"color\":\"#EBF0F8\"},\"line\":{\"color\":\"white\"}},\"header\":{\"fill\":{\"color\":\"#C8D4E3\"},\"line\":{\"color\":\"white\"}},\"type\":\"table\"}],\"barpolar\":[{\"marker\":{\"line\":{\"color\":\"#E5ECF6\",\"width\":0.5},\"pattern\":{\"fillmode\":\"overlay\",\"size\":10,\"solidity\":0.2}},\"type\":\"barpolar\"}],\"pie\":[{\"automargin\":true,\"type\":\"pie\"}]},\"layout\":{\"autotypenumbers\":\"strict\",\"colorway\":[\"#636efa\",\"#EF553B\",\"#00cc96\",\"#ab63fa\",\"#FFA15A\",\"#19d3f3\",\"#FF6692\",\"#B6E880\",\"#FF97FF\",\"#FECB52\"],\"font\":{\"color\":\"#2a3f5f\"},\"hovermode\":\"closest\",\"hoverlabel\":{\"align\":\"left\"},\"paper_bgcolor\":\"white\",\"plot_bgcolor\":\"#E5ECF6\",\"polar\":{\"bgcolor\":\"#E5ECF6\",\"angularaxis\":{\"gridcolor\":\"white\",\"linecolor\":\"white\",\"ticks\":\"\"},\"radialaxis\":{\"gridcolor\":\"white\",\"linecolor\":\"white\",\"ticks\":\"\"}},\"ternary\":{\"bgcolor\":\"#E5ECF6\",\"aaxis\":{\"gridcolor\":\"white\",\"linecolor\":\"white\",\"ticks\":\"\"},\"baxis\":{\"gridcolor\":\"white\",\"linecolor\":\"white\",\"ticks\":\"\"},\"caxis\":{\"gridcolor\":\"white\",\"linecolor\":\"white\",\"ticks\":\"\"}},\"coloraxis\":{\"colorbar\":{\"outlinewidth\":0,\"ticks\":\"\"}},\"colorscale\":{\"sequential\":[[0.0,\"#0d0887\"],[0.1111111111111111,\"#46039f\"],[0.2222222222222222,\"#7201a8\"],[0.3333333333333333,\"#9c179e\"],[0.4444444444444444,\"#bd3786\"],[0.5555555555555556,\"#d8576b\"],[0.6666666666666666,\"#ed7953\"],[0.7777777777777778,\"#fb9f3a\"],[0.8888888888888888,\"#fdca26\"],[1.0,\"#f0f921\"]],\"sequentialminus\":[[0.0,\"#0d0887\"],[0.1111111111111111,\"#46039f\"],[0.2222222222222222,\"#7201a8\"],[0.3333333333333333,\"#9c179e\"],[0.4444444444444444,\"#bd3786\"],[0.5555555555555556,\"#d8576b\"],[0.6666666666666666,\"#ed7953\"],[0.7777777777777778,\"#fb9f3a\"],[0.8888888888888888,\"#fdca26\"],[1.0,\"#f0f921\"]],\"diverging\":[[0,\"#8e0152\"],[0.1,\"#c51b7d\"],[0.2,\"#de77ae\"],[0.3,\"#f1b6da\"],[0.4,\"#fde0ef\"],[0.5,\"#f7f7f7\"],[0.6,\"#e6f5d0\"],[0.7,\"#b8e186\"],[0.8,\"#7fbc41\"],[0.9,\"#4d9221\"],[1,\"#276419\"]]},\"xaxis\":{\"gridcolor\":\"white\",\"linecolor\":\"white\",\"ticks\":\"\",\"title\":{\"standoff\":15},\"zerolinecolor\":\"white\",\"automargin\":true,\"zerolinewidth\":2},\"yaxis\":{\"gridcolor\":\"white\",\"linecolor\":\"white\",\"ticks\":\"\",\"title\":{\"standoff\":15},\"zerolinecolor\":\"white\",\"automargin\":true,\"zerolinewidth\":2},\"scene\":{\"xaxis\":{\"backgroundcolor\":\"#E5ECF6\",\"gridcolor\":\"white\",\"linecolor\":\"white\",\"showbackground\":true,\"ticks\":\"\",\"zerolinecolor\":\"white\",\"gridwidth\":2},\"yaxis\":{\"backgroundcolor\":\"#E5ECF6\",\"gridcolor\":\"white\",\"linecolor\":\"white\",\"showbackground\":true,\"ticks\":\"\",\"zerolinecolor\":\"white\",\"gridwidth\":2},\"zaxis\":{\"backgroundcolor\":\"#E5ECF6\",\"gridcolor\":\"white\",\"linecolor\":\"white\",\"showbackground\":true,\"ticks\":\"\",\"zerolinecolor\":\"white\",\"gridwidth\":2}},\"shapedefaults\":{\"line\":{\"color\":\"#2a3f5f\"}},\"annotationdefaults\":{\"arrowcolor\":\"#2a3f5f\",\"arrowhead\":0,\"arrowwidth\":1},\"geo\":{\"bgcolor\":\"white\",\"landcolor\":\"#E5ECF6\",\"subunitcolor\":\"white\",\"showland\":true,\"showlakes\":true,\"lakecolor\":\"white\"},\"title\":{\"x\":0.05},\"mapbox\":{\"style\":\"light\"}}}},                        {\"responsive\": true}                    ).then(function(){\n",
              "                            \n",
              "var gd = document.getElementById('322184fc-0ba4-422e-8b49-7f704f0a8a55');\n",
              "var x = new MutationObserver(function (mutations, observer) {{\n",
              "        var display = window.getComputedStyle(gd).display;\n",
              "        if (!display || display === 'none') {{\n",
              "            console.log([gd, 'removed!']);\n",
              "            Plotly.purge(gd);\n",
              "            observer.disconnect();\n",
              "        }}\n",
              "}});\n",
              "\n",
              "// Listen for the removal of the full notebook cells\n",
              "var notebookContainer = gd.closest('#notebook-container');\n",
              "if (notebookContainer) {{\n",
              "    x.observe(notebookContainer, {childList: true});\n",
              "}}\n",
              "\n",
              "// Listen for the clearing of the current output cell\n",
              "var outputEl = gd.closest('.output');\n",
              "if (outputEl) {{\n",
              "    x.observe(outputEl, {childList: true});\n",
              "}}\n",
              "\n",
              "                        })                };                            </script>        </div>\n",
              "</body>\n",
              "</html>"
            ]
          },
          "metadata": {}
        }
      ],
      "source": [
        "from optuna.visualization import plot_param_importances\n",
        "plot_param_importances(study)\n"
      ],
      "id": "9c8rLt-8oZbv"
    },
    {
      "cell_type": "code",
      "execution_count": null,
      "metadata": {
        "id": "g-1HQkhfaF6-",
        "colab": {
          "base_uri": "https://localhost:8080/"
        },
        "outputId": "80484fab-d470-4fbc-c458-66ed0427dc7a"
      },
      "outputs": [
        {
          "output_type": "stream",
          "name": "stdout",
          "text": [
            "Accuracy: 0.934232334038877\n",
            "time 28.555567502975464\n"
          ]
        }
      ],
      "source": [
        "rs=NIA\n",
        "xgbc = xgb.XGBClassifier(random_state=rs)\n",
        "classif=Pipeline([('xgbc',xgbc)])\n",
        "classif.set_params(**study.best_params)\n",
        "(bacopt6, tiempo)=default_hp(classif, X_train, y_train, X_test, y_test)"
      ],
      "id": "g-1HQkhfaF6-"
    },
    {
      "cell_type": "code",
      "execution_count": 12,
      "metadata": {
        "id": "K_RSCXxUiWmh",
        "colab": {
          "base_uri": "https://localhost:8080/"
        },
        "outputId": "7abbbd0e-a540-4819-fa53-a78357e837e6"
      },
      "outputs": [
        {
          "output_type": "stream",
          "name": "stdout",
          "text": [
            "Fitting 3 folds for each of 30 candidates, totalling 90 fits\n",
            "Accuracy:  0.9372473617169133\n",
            "Best hyper-parameters: {'xgbc__learning_rate': 0.18346650355853028, 'xgbc__max_depth': 22, 'xgbc__n_estimators': 421} and their score (inner evaluation): 0.9233651676582948\n",
            "time 738.886570930481\n"
          ]
        }
      ],
      "source": [
        "import time\n",
        "from scipy.stats import randint as sp_randint\n",
        "from scipy.stats import uniform\n",
        "rs=NIA\n",
        "xgbc = xgb.XGBClassifier(random_state=rs)\n",
        "clf=Pipeline([('xgbc',xgbc)])\n",
        "param_grid = {'xgbc__max_depth': sp_randint(3,30),\n",
        "              'xgbc__learning_rate': uniform(0.01,0.5),\n",
        "              'xgbc__n_estimators': sp_randint(50, 500)\n",
        "              }\n",
        "(Accur4,best_params,inner_score,timer4)=default_RS(clf, X_train, y_train, X_test, y_test,param_grid,30)"
      ],
      "id": "K_RSCXxUiWmh"
    },
    {
      "cell_type": "markdown",
      "metadata": {
        "id": "uvWK6AzzlKZi"
      },
      "source": [
        "# Results"
      ],
      "id": "uvWK6AzzlKZi"
    },
    {
      "cell_type": "markdown",
      "metadata": {
        "id": "pHCuWxjalRA3"
      },
      "source": [
        "## Optuna results"
      ],
      "id": "pHCuWxjalRA3"
    },
    {
      "cell_type": "code",
      "execution_count": null,
      "metadata": {
        "id": "EjI1cod5lQWu",
        "colab": {
          "base_uri": "https://localhost:8080/"
        },
        "outputId": "e5cb2ef2-aa11-4981-89ff-5acc8d8efc85"
      },
      "outputs": [
        {
          "output_type": "stream",
          "name": "stdout",
          "text": [
            "+------------------------+--------------------+--------------------+--------------------+--------------------+\n",
            "|       Algorithm        |  Default accuracy  |    Default time    |  Optimal Accuracy  |    Optimal time    |\n",
            "+------------------------+--------------------+--------------------+--------------------+--------------------+\n",
            "|      Extra Trees       | 0.8847471942097819 | 3.1589910984039307 | 0.8993884616694254 | 190.86764693260193 |\n",
            "|          SVM           | 0.770129789651318  | 47.32735776901245  | 0.7849027287003241 | 1977.5413889884949 |\n",
            "| Hist Gradient Boosting | 0.8759628822503585 |  8.53391170501709  | 0.9082966190653505 | 152.79963493347168 |\n",
            "| XGBoost Early stopping | 0.911532454094808  | 3.1372694969177246 | 0.9384094767663032 | 612.3966550827026  |\n",
            "|    XGBoost Pruning     | 0.911532454094808  | 3.1372694969177246 | 0.9323587621973568 | 305.78813886642456 |\n",
            "|  XGBoost n_estimators  | 0.911532454094808  | 3.1372694969177246 | 0.934232334038877  | 1373.5503387451172 |\n",
            "+------------------------+--------------------+--------------------+--------------------+--------------------+\n"
          ]
        }
      ],
      "source": [
        "from tabulate import tabulate\n",
        "from prettytable import PrettyTable\n",
        "\n",
        "# Specify the Column Names while initializing the Table\n",
        "myTable = PrettyTable([\"Algorithm\", \"Default accuracy\", \"Default time\", \"Optimal Accuracy\",\"Optimal time\"])\n",
        "# Add rows\n",
        "myTable.add_row([\"Extra Trees\", bac1,tiempo1 ,bacopt1,tiempoopt1 ])\n",
        "myTable.add_row([\"SVM\",bac2,tiempo2 ,bacopt2,timeopt2])\n",
        "myTable.add_row([\"Hist Gradient Boosting\", bac3,tiempo3 ,bacopt3,timeopt3])\n",
        "myTable.add_row([\"XGBoost Early stopping\", bac4,tiempo4 ,bacopt4,timeopt4])\n",
        "myTable.add_row([\"XGBoost Pruning\", bac4,tiempo4 ,bacopt5,timeopt5])\n",
        "myTable.add_row([\"XGBoost n_estimators\", bac4,tiempo4 ,bacopt6,timeopt6])\n",
        "\n",
        "\n",
        "print(myTable)"
      ],
      "id": "EjI1cod5lQWu"
    },
    {
      "cell_type": "markdown",
      "metadata": {
        "id": "i8Rrqm_YpT3j"
      },
      "source": [
        "## Randomized Search Results"
      ],
      "id": "i8Rrqm_YpT3j"
    },
    {
      "cell_type": "code",
      "execution_count": null,
      "metadata": {
        "id": "kzKvC3telU6S",
        "colab": {
          "base_uri": "https://localhost:8080/"
        },
        "outputId": "a85d29c5-b138-45bd-87d4-8978f3486a4e"
      },
      "outputs": [
        {
          "output_type": "stream",
          "name": "stdout",
          "text": [
            "+------------------------+--------------------+--------------------+--------------------+--------------------+\n",
            "|       Algorithm        |  Default accuracy  |    Default time    |  Optimal Accuracy  |    Optimal time    |\n",
            "+------------------------+--------------------+--------------------+--------------------+--------------------+\n",
            "|      Extra Trees       | 0.8847471942097819 | 3.1589910984039307 | 0.8330204611334027 | 739.0420572757721  |\n",
            "|          SVM           | 0.770129789651318  | 47.32735776901245  | 0.7838542530518335 | 2341.3243091106415 |\n",
            "| Hist Gradient Boosting | 0.8759628822503585 |  8.53391170501709  | 0.9076975018920068 | 131.50064516067505 |\n",
            "|        XGBoost         | 0.911532454094808  | 3.1372694969177246 | 0.9339753799299728 | 384.48419094085693 |\n",
            "+------------------------+--------------------+--------------------+--------------------+--------------------+\n"
          ]
        }
      ],
      "source": [
        "from tabulate import tabulate\n",
        "from prettytable import PrettyTable\n",
        "\n",
        "# Specify the Column Names while initializing the Table\n",
        "myTable = PrettyTable([\"Algorithm\", \"Default accuracy\", \"Default time\", \"Optimal Accuracy\",\"Optimal time\"])\n",
        "# Add rows\n",
        "myTable.add_row([\"Extra Trees\", bac1,tiempo1 ,Accur1,timer1 ])\n",
        "myTable.add_row([\"SVM\",bac2,tiempo2 ,Accur2,timer2])\n",
        "myTable.add_row([\"Hist Gradient Boosting\", bac3,tiempo3 ,Accur3,timer3])\n",
        "myTable.add_row([\"XGBoost\", bac4,tiempo4 ,Accur4,timer4])\n",
        "\n",
        "\n",
        "print(myTable)"
      ],
      "id": "kzKvC3telU6S"
    }
  ],
  "metadata": {
    "colab": {
      "provenance": []
    },
    "kernelspec": {
      "display_name": "Python 3 (ipykernel)",
      "language": "python",
      "name": "python3"
    },
    "language_info": {
      "codemirror_mode": {
        "name": "ipython",
        "version": 3
      },
      "file_extension": ".py",
      "mimetype": "text/x-python",
      "name": "python",
      "nbconvert_exporter": "python",
      "pygments_lexer": "ipython3",
      "version": "3.9.12"
    }
  },
  "nbformat": 4,
  "nbformat_minor": 5
}