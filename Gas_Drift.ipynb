{
  "cells": [
    {
      "cell_type": "markdown",
      "metadata": {
        "id": "2f39ef98"
      },
      "source": [
        "## Data Preprocessing"
      ],
      "id": "2f39ef98"
    },
    {
      "cell_type": "code",
      "execution_count": 1,
      "metadata": {
        "colab": {
          "base_uri": "https://localhost:8080/",
          "height": 297
        },
        "id": "311d97c6",
        "outputId": "88ce1a3c-2daa-41a2-b650-46a585b997a8"
      },
      "outputs": [
        {
          "output_type": "execute_result",
          "data": {
            "text/plain": [
              "           V1         V2         V3         V4         V5         V6  \\\n",
              "0  12285.6582   4.076635   4.842317   7.509393  10.822436  -1.312657   \n",
              "1    -35.6889   0.993944   0.166099   0.489363   3.484663  -0.130298   \n",
              "2  63927.2217  14.956941  19.971376  29.188512  33.291320 -10.433776   \n",
              "3   2992.9019   1.380553   0.808910   1.288259   4.660135  -0.755903   \n",
              "4  57524.7812  11.912566  14.631496  19.809240  23.715868  -9.084750   \n",
              "\n",
              "          V7         V8          V9        V10  ...       V120        V121  \\\n",
              "0  -1.853717  -6.924985  11800.9233   4.483500  ...  -3.440387   1784.5324   \n",
              "1  -0.528364  -3.735347    266.4145   1.053988  ...  -4.482534    904.9898   \n",
              "2 -16.062245 -49.490143  57405.8483  15.613843  ... -25.150090  14585.7879   \n",
              "3  -1.120470  -4.075213   4301.4033   1.652701  ...  -7.215792   6044.5554   \n",
              "4 -11.770585 -39.234003  50051.0703  11.732548  ... -10.248794  10580.1006   \n",
              "\n",
              "       V122      V123       V124       V125      V126      V127       V128  \\\n",
              "0  1.907000  1.729200   4.881194   8.623828 -0.314110 -0.661556  -3.521663   \n",
              "1  1.433707  1.068069   2.532958   5.369720 -0.183779 -0.534087  -4.635975   \n",
              "2  8.189021  6.099452  12.127991  15.709651 -3.887082 -6.731473 -19.326895   \n",
              "3  3.488295  2.662288   5.938297   8.544508 -1.567322 -2.701235  -6.472439   \n",
              "4  5.752675  3.880740   8.545897  11.831716 -2.655521 -4.312744  -8.510591   \n",
              "\n",
              "   Class  \n",
              "0   b'4'  \n",
              "1   b'3'  \n",
              "2   b'4'  \n",
              "3   b'3'  \n",
              "4   b'4'  \n",
              "\n",
              "[5 rows x 129 columns]"
            ],
            "text/html": [
              "\n",
              "  <div id=\"df-dc8bcb95-8427-4abb-8c02-3eb1094b5572\">\n",
              "    <div class=\"colab-df-container\">\n",
              "      <div>\n",
              "<style scoped>\n",
              "    .dataframe tbody tr th:only-of-type {\n",
              "        vertical-align: middle;\n",
              "    }\n",
              "\n",
              "    .dataframe tbody tr th {\n",
              "        vertical-align: top;\n",
              "    }\n",
              "\n",
              "    .dataframe thead th {\n",
              "        text-align: right;\n",
              "    }\n",
              "</style>\n",
              "<table border=\"1\" class=\"dataframe\">\n",
              "  <thead>\n",
              "    <tr style=\"text-align: right;\">\n",
              "      <th></th>\n",
              "      <th>V1</th>\n",
              "      <th>V2</th>\n",
              "      <th>V3</th>\n",
              "      <th>V4</th>\n",
              "      <th>V5</th>\n",
              "      <th>V6</th>\n",
              "      <th>V7</th>\n",
              "      <th>V8</th>\n",
              "      <th>V9</th>\n",
              "      <th>V10</th>\n",
              "      <th>...</th>\n",
              "      <th>V120</th>\n",
              "      <th>V121</th>\n",
              "      <th>V122</th>\n",
              "      <th>V123</th>\n",
              "      <th>V124</th>\n",
              "      <th>V125</th>\n",
              "      <th>V126</th>\n",
              "      <th>V127</th>\n",
              "      <th>V128</th>\n",
              "      <th>Class</th>\n",
              "    </tr>\n",
              "  </thead>\n",
              "  <tbody>\n",
              "    <tr>\n",
              "      <th>0</th>\n",
              "      <td>12285.6582</td>\n",
              "      <td>4.076635</td>\n",
              "      <td>4.842317</td>\n",
              "      <td>7.509393</td>\n",
              "      <td>10.822436</td>\n",
              "      <td>-1.312657</td>\n",
              "      <td>-1.853717</td>\n",
              "      <td>-6.924985</td>\n",
              "      <td>11800.9233</td>\n",
              "      <td>4.483500</td>\n",
              "      <td>...</td>\n",
              "      <td>-3.440387</td>\n",
              "      <td>1784.5324</td>\n",
              "      <td>1.907000</td>\n",
              "      <td>1.729200</td>\n",
              "      <td>4.881194</td>\n",
              "      <td>8.623828</td>\n",
              "      <td>-0.314110</td>\n",
              "      <td>-0.661556</td>\n",
              "      <td>-3.521663</td>\n",
              "      <td>b'4'</td>\n",
              "    </tr>\n",
              "    <tr>\n",
              "      <th>1</th>\n",
              "      <td>-35.6889</td>\n",
              "      <td>0.993944</td>\n",
              "      <td>0.166099</td>\n",
              "      <td>0.489363</td>\n",
              "      <td>3.484663</td>\n",
              "      <td>-0.130298</td>\n",
              "      <td>-0.528364</td>\n",
              "      <td>-3.735347</td>\n",
              "      <td>266.4145</td>\n",
              "      <td>1.053988</td>\n",
              "      <td>...</td>\n",
              "      <td>-4.482534</td>\n",
              "      <td>904.9898</td>\n",
              "      <td>1.433707</td>\n",
              "      <td>1.068069</td>\n",
              "      <td>2.532958</td>\n",
              "      <td>5.369720</td>\n",
              "      <td>-0.183779</td>\n",
              "      <td>-0.534087</td>\n",
              "      <td>-4.635975</td>\n",
              "      <td>b'3'</td>\n",
              "    </tr>\n",
              "    <tr>\n",
              "      <th>2</th>\n",
              "      <td>63927.2217</td>\n",
              "      <td>14.956941</td>\n",
              "      <td>19.971376</td>\n",
              "      <td>29.188512</td>\n",
              "      <td>33.291320</td>\n",
              "      <td>-10.433776</td>\n",
              "      <td>-16.062245</td>\n",
              "      <td>-49.490143</td>\n",
              "      <td>57405.8483</td>\n",
              "      <td>15.613843</td>\n",
              "      <td>...</td>\n",
              "      <td>-25.150090</td>\n",
              "      <td>14585.7879</td>\n",
              "      <td>8.189021</td>\n",
              "      <td>6.099452</td>\n",
              "      <td>12.127991</td>\n",
              "      <td>15.709651</td>\n",
              "      <td>-3.887082</td>\n",
              "      <td>-6.731473</td>\n",
              "      <td>-19.326895</td>\n",
              "      <td>b'4'</td>\n",
              "    </tr>\n",
              "    <tr>\n",
              "      <th>3</th>\n",
              "      <td>2992.9019</td>\n",
              "      <td>1.380553</td>\n",
              "      <td>0.808910</td>\n",
              "      <td>1.288259</td>\n",
              "      <td>4.660135</td>\n",
              "      <td>-0.755903</td>\n",
              "      <td>-1.120470</td>\n",
              "      <td>-4.075213</td>\n",
              "      <td>4301.4033</td>\n",
              "      <td>1.652701</td>\n",
              "      <td>...</td>\n",
              "      <td>-7.215792</td>\n",
              "      <td>6044.5554</td>\n",
              "      <td>3.488295</td>\n",
              "      <td>2.662288</td>\n",
              "      <td>5.938297</td>\n",
              "      <td>8.544508</td>\n",
              "      <td>-1.567322</td>\n",
              "      <td>-2.701235</td>\n",
              "      <td>-6.472439</td>\n",
              "      <td>b'3'</td>\n",
              "    </tr>\n",
              "    <tr>\n",
              "      <th>4</th>\n",
              "      <td>57524.7812</td>\n",
              "      <td>11.912566</td>\n",
              "      <td>14.631496</td>\n",
              "      <td>19.809240</td>\n",
              "      <td>23.715868</td>\n",
              "      <td>-9.084750</td>\n",
              "      <td>-11.770585</td>\n",
              "      <td>-39.234003</td>\n",
              "      <td>50051.0703</td>\n",
              "      <td>11.732548</td>\n",
              "      <td>...</td>\n",
              "      <td>-10.248794</td>\n",
              "      <td>10580.1006</td>\n",
              "      <td>5.752675</td>\n",
              "      <td>3.880740</td>\n",
              "      <td>8.545897</td>\n",
              "      <td>11.831716</td>\n",
              "      <td>-2.655521</td>\n",
              "      <td>-4.312744</td>\n",
              "      <td>-8.510591</td>\n",
              "      <td>b'4'</td>\n",
              "    </tr>\n",
              "  </tbody>\n",
              "</table>\n",
              "<p>5 rows × 129 columns</p>\n",
              "</div>\n",
              "      <button class=\"colab-df-convert\" onclick=\"convertToInteractive('df-dc8bcb95-8427-4abb-8c02-3eb1094b5572')\"\n",
              "              title=\"Convert this dataframe to an interactive table.\"\n",
              "              style=\"display:none;\">\n",
              "        \n",
              "  <svg xmlns=\"http://www.w3.org/2000/svg\" height=\"24px\"viewBox=\"0 0 24 24\"\n",
              "       width=\"24px\">\n",
              "    <path d=\"M0 0h24v24H0V0z\" fill=\"none\"/>\n",
              "    <path d=\"M18.56 5.44l.94 2.06.94-2.06 2.06-.94-2.06-.94-.94-2.06-.94 2.06-2.06.94zm-11 1L8.5 8.5l.94-2.06 2.06-.94-2.06-.94L8.5 2.5l-.94 2.06-2.06.94zm10 10l.94 2.06.94-2.06 2.06-.94-2.06-.94-.94-2.06-.94 2.06-2.06.94z\"/><path d=\"M17.41 7.96l-1.37-1.37c-.4-.4-.92-.59-1.43-.59-.52 0-1.04.2-1.43.59L10.3 9.45l-7.72 7.72c-.78.78-.78 2.05 0 2.83L4 21.41c.39.39.9.59 1.41.59.51 0 1.02-.2 1.41-.59l7.78-7.78 2.81-2.81c.8-.78.8-2.07 0-2.86zM5.41 20L4 18.59l7.72-7.72 1.47 1.35L5.41 20z\"/>\n",
              "  </svg>\n",
              "      </button>\n",
              "      \n",
              "  <style>\n",
              "    .colab-df-container {\n",
              "      display:flex;\n",
              "      flex-wrap:wrap;\n",
              "      gap: 12px;\n",
              "    }\n",
              "\n",
              "    .colab-df-convert {\n",
              "      background-color: #E8F0FE;\n",
              "      border: none;\n",
              "      border-radius: 50%;\n",
              "      cursor: pointer;\n",
              "      display: none;\n",
              "      fill: #1967D2;\n",
              "      height: 32px;\n",
              "      padding: 0 0 0 0;\n",
              "      width: 32px;\n",
              "    }\n",
              "\n",
              "    .colab-df-convert:hover {\n",
              "      background-color: #E2EBFA;\n",
              "      box-shadow: 0px 1px 2px rgba(60, 64, 67, 0.3), 0px 1px 3px 1px rgba(60, 64, 67, 0.15);\n",
              "      fill: #174EA6;\n",
              "    }\n",
              "\n",
              "    [theme=dark] .colab-df-convert {\n",
              "      background-color: #3B4455;\n",
              "      fill: #D2E3FC;\n",
              "    }\n",
              "\n",
              "    [theme=dark] .colab-df-convert:hover {\n",
              "      background-color: #434B5C;\n",
              "      box-shadow: 0px 1px 3px 1px rgba(0, 0, 0, 0.15);\n",
              "      filter: drop-shadow(0px 1px 2px rgba(0, 0, 0, 0.3));\n",
              "      fill: #FFFFFF;\n",
              "    }\n",
              "  </style>\n",
              "\n",
              "      <script>\n",
              "        const buttonEl =\n",
              "          document.querySelector('#df-dc8bcb95-8427-4abb-8c02-3eb1094b5572 button.colab-df-convert');\n",
              "        buttonEl.style.display =\n",
              "          google.colab.kernel.accessAllowed ? 'block' : 'none';\n",
              "\n",
              "        async function convertToInteractive(key) {\n",
              "          const element = document.querySelector('#df-dc8bcb95-8427-4abb-8c02-3eb1094b5572');\n",
              "          const dataTable =\n",
              "            await google.colab.kernel.invokeFunction('convertToInteractive',\n",
              "                                                     [key], {});\n",
              "          if (!dataTable) return;\n",
              "\n",
              "          const docLinkHtml = 'Like what you see? Visit the ' +\n",
              "            '<a target=\"_blank\" href=https://colab.research.google.com/notebooks/data_table.ipynb>data table notebook</a>'\n",
              "            + ' to learn more about interactive tables.';\n",
              "          element.innerHTML = '';\n",
              "          dataTable['output_type'] = 'display_data';\n",
              "          await google.colab.output.renderOutput(dataTable, element);\n",
              "          const docLink = document.createElement('div');\n",
              "          docLink.innerHTML = docLinkHtml;\n",
              "          element.appendChild(docLink);\n",
              "        }\n",
              "      </script>\n",
              "    </div>\n",
              "  </div>\n",
              "  "
            ]
          },
          "metadata": {},
          "execution_count": 1
        }
      ],
      "source": [
        "from scipy.io import arff\n",
        "import pandas as pd\n",
        "\n",
        "data = arff.loadarff('phpbL6t4U.arff')\n",
        "df = pd.DataFrame(data[0])\n",
        "df.head()"
      ],
      "id": "311d97c6"
    },
    {
      "cell_type": "code",
      "execution_count": 2,
      "metadata": {
        "id": "39b188ec"
      },
      "outputs": [],
      "source": [
        "from numpy.random import randint #load  necessary packages\n",
        "import pandas as pd #needed for Data Frames\n",
        "import numpy as np #Needed for computations\n",
        "NIA = 52005602\n",
        "np.random.seed(NIA)"
      ],
      "id": "39b188ec"
    },
    {
      "cell_type": "code",
      "execution_count": null,
      "metadata": {
        "colab": {
          "base_uri": "https://localhost:8080/",
          "height": 394
        },
        "id": "637387a6",
        "outputId": "56b1b76e-30ad-4ba7-9aca-e38c0f326ff5"
      },
      "outputs": [
        {
          "output_type": "execute_result",
          "data": {
            "text/plain": [
              "                  V1            V2            V3            V4            V5  \\\n",
              "count   13910.000000  13910.000000  13910.000000  13910.000000  13910.000000   \n",
              "mean    50435.066174      6.638156     12.936688     18.743953     26.890695   \n",
              "std     69844.785952     13.486391     17.610061     24.899450     38.107685   \n",
              "min    -16757.598600      0.088287      0.000100      0.000100      0.000100   \n",
              "25%      6694.725950      2.284843      1.633350      2.386836      4.967988   \n",
              "50%     19364.439350      3.871227      4.977123      7.250892     11.680725   \n",
              "75%     63104.837125      8.400619     17.189166     26.411109     34.843226   \n",
              "max    670687.347700   1339.879283    167.079751    226.619457    993.605306   \n",
              "\n",
              "                 V6            V7            V8             V9           V10  \\\n",
              "count  13910.000000  13910.000000  13910.000000   13910.000000  13910.000000   \n",
              "mean      -9.158655    -14.402383    -59.927598   57340.104585      6.648033   \n",
              "std       12.729206     21.304606    131.017675   64045.265134     15.585780   \n",
              "min     -131.332873   -227.627758  -1664.735576  -16119.460900      0.185164   \n",
              "25%      -11.587169    -17.292559    -48.492764   13287.301875      2.776693   \n",
              "50%       -3.338700     -4.956917    -14.040088   37764.263200      4.734586   \n",
              "75%       -1.126897     -1.670327     -5.212213   70300.782575      8.608522   \n",
              "max       -0.006941     22.201589    115.273147  502202.812500   1672.363221   \n",
              "\n",
              "       ...          V119          V120          V121          V122  \\\n",
              "count  ...  13910.000000  13910.000000  13910.000000  13910.000000   \n",
              "mean   ...     -9.601927    -19.136500  19688.565373      6.072066   \n",
              "std    ...      9.220031     26.516679  14281.652395      4.642192   \n",
              "min    ...    -76.069200   -482.278033  -8297.548800      0.712112   \n",
              "25%    ...    -13.212575    -22.363498   8837.838750      3.007381   \n",
              "50%    ...     -7.338850    -13.527887  16313.967300      4.973783   \n",
              "75%    ...     -3.260080     -7.358031  27009.592425      7.389566   \n",
              "max    ...      9.270956     11.516418  96706.792700     45.574835   \n",
              "\n",
              "               V123          V124          V125          V126          V127  \\\n",
              "count  13910.000000  13910.000000  13910.000000  13910.000000  13910.000000   \n",
              "mean       7.138634     14.929364     19.090980     -4.901016     -8.167792   \n",
              "std        5.248573     12.437311     14.391810      4.195360      7.637701   \n",
              "min        0.003238      0.011488      0.118849    -30.205911    -58.844076   \n",
              "25%        3.059178      5.407551      8.039227     -6.789599    -11.162406   \n",
              "50%        5.809107     11.325214     14.560676     -3.881763     -6.305962   \n",
              "75%       10.222169     21.207572     26.547437     -1.804032     -2.874532   \n",
              "max       32.203601    297.225880    195.242555     -0.003817      6.851792   \n",
              "\n",
              "               V128  \n",
              "count  13910.000000  \n",
              "mean     -16.089791  \n",
              "std       20.958479  \n",
              "min     -410.152297  \n",
              "25%      -18.938690  \n",
              "50%      -11.747499  \n",
              "75%       -6.429690  \n",
              "max        8.357968  \n",
              "\n",
              "[8 rows x 128 columns]"
            ],
            "text/html": [
              "\n",
              "  <div id=\"df-87d9ce5c-b86e-45a5-b1cf-8c4c30ae2305\">\n",
              "    <div class=\"colab-df-container\">\n",
              "      <div>\n",
              "<style scoped>\n",
              "    .dataframe tbody tr th:only-of-type {\n",
              "        vertical-align: middle;\n",
              "    }\n",
              "\n",
              "    .dataframe tbody tr th {\n",
              "        vertical-align: top;\n",
              "    }\n",
              "\n",
              "    .dataframe thead th {\n",
              "        text-align: right;\n",
              "    }\n",
              "</style>\n",
              "<table border=\"1\" class=\"dataframe\">\n",
              "  <thead>\n",
              "    <tr style=\"text-align: right;\">\n",
              "      <th></th>\n",
              "      <th>V1</th>\n",
              "      <th>V2</th>\n",
              "      <th>V3</th>\n",
              "      <th>V4</th>\n",
              "      <th>V5</th>\n",
              "      <th>V6</th>\n",
              "      <th>V7</th>\n",
              "      <th>V8</th>\n",
              "      <th>V9</th>\n",
              "      <th>V10</th>\n",
              "      <th>...</th>\n",
              "      <th>V119</th>\n",
              "      <th>V120</th>\n",
              "      <th>V121</th>\n",
              "      <th>V122</th>\n",
              "      <th>V123</th>\n",
              "      <th>V124</th>\n",
              "      <th>V125</th>\n",
              "      <th>V126</th>\n",
              "      <th>V127</th>\n",
              "      <th>V128</th>\n",
              "    </tr>\n",
              "  </thead>\n",
              "  <tbody>\n",
              "    <tr>\n",
              "      <th>count</th>\n",
              "      <td>13910.000000</td>\n",
              "      <td>13910.000000</td>\n",
              "      <td>13910.000000</td>\n",
              "      <td>13910.000000</td>\n",
              "      <td>13910.000000</td>\n",
              "      <td>13910.000000</td>\n",
              "      <td>13910.000000</td>\n",
              "      <td>13910.000000</td>\n",
              "      <td>13910.000000</td>\n",
              "      <td>13910.000000</td>\n",
              "      <td>...</td>\n",
              "      <td>13910.000000</td>\n",
              "      <td>13910.000000</td>\n",
              "      <td>13910.000000</td>\n",
              "      <td>13910.000000</td>\n",
              "      <td>13910.000000</td>\n",
              "      <td>13910.000000</td>\n",
              "      <td>13910.000000</td>\n",
              "      <td>13910.000000</td>\n",
              "      <td>13910.000000</td>\n",
              "      <td>13910.000000</td>\n",
              "    </tr>\n",
              "    <tr>\n",
              "      <th>mean</th>\n",
              "      <td>50435.066174</td>\n",
              "      <td>6.638156</td>\n",
              "      <td>12.936688</td>\n",
              "      <td>18.743953</td>\n",
              "      <td>26.890695</td>\n",
              "      <td>-9.158655</td>\n",
              "      <td>-14.402383</td>\n",
              "      <td>-59.927598</td>\n",
              "      <td>57340.104585</td>\n",
              "      <td>6.648033</td>\n",
              "      <td>...</td>\n",
              "      <td>-9.601927</td>\n",
              "      <td>-19.136500</td>\n",
              "      <td>19688.565373</td>\n",
              "      <td>6.072066</td>\n",
              "      <td>7.138634</td>\n",
              "      <td>14.929364</td>\n",
              "      <td>19.090980</td>\n",
              "      <td>-4.901016</td>\n",
              "      <td>-8.167792</td>\n",
              "      <td>-16.089791</td>\n",
              "    </tr>\n",
              "    <tr>\n",
              "      <th>std</th>\n",
              "      <td>69844.785952</td>\n",
              "      <td>13.486391</td>\n",
              "      <td>17.610061</td>\n",
              "      <td>24.899450</td>\n",
              "      <td>38.107685</td>\n",
              "      <td>12.729206</td>\n",
              "      <td>21.304606</td>\n",
              "      <td>131.017675</td>\n",
              "      <td>64045.265134</td>\n",
              "      <td>15.585780</td>\n",
              "      <td>...</td>\n",
              "      <td>9.220031</td>\n",
              "      <td>26.516679</td>\n",
              "      <td>14281.652395</td>\n",
              "      <td>4.642192</td>\n",
              "      <td>5.248573</td>\n",
              "      <td>12.437311</td>\n",
              "      <td>14.391810</td>\n",
              "      <td>4.195360</td>\n",
              "      <td>7.637701</td>\n",
              "      <td>20.958479</td>\n",
              "    </tr>\n",
              "    <tr>\n",
              "      <th>min</th>\n",
              "      <td>-16757.598600</td>\n",
              "      <td>0.088287</td>\n",
              "      <td>0.000100</td>\n",
              "      <td>0.000100</td>\n",
              "      <td>0.000100</td>\n",
              "      <td>-131.332873</td>\n",
              "      <td>-227.627758</td>\n",
              "      <td>-1664.735576</td>\n",
              "      <td>-16119.460900</td>\n",
              "      <td>0.185164</td>\n",
              "      <td>...</td>\n",
              "      <td>-76.069200</td>\n",
              "      <td>-482.278033</td>\n",
              "      <td>-8297.548800</td>\n",
              "      <td>0.712112</td>\n",
              "      <td>0.003238</td>\n",
              "      <td>0.011488</td>\n",
              "      <td>0.118849</td>\n",
              "      <td>-30.205911</td>\n",
              "      <td>-58.844076</td>\n",
              "      <td>-410.152297</td>\n",
              "    </tr>\n",
              "    <tr>\n",
              "      <th>25%</th>\n",
              "      <td>6694.725950</td>\n",
              "      <td>2.284843</td>\n",
              "      <td>1.633350</td>\n",
              "      <td>2.386836</td>\n",
              "      <td>4.967988</td>\n",
              "      <td>-11.587169</td>\n",
              "      <td>-17.292559</td>\n",
              "      <td>-48.492764</td>\n",
              "      <td>13287.301875</td>\n",
              "      <td>2.776693</td>\n",
              "      <td>...</td>\n",
              "      <td>-13.212575</td>\n",
              "      <td>-22.363498</td>\n",
              "      <td>8837.838750</td>\n",
              "      <td>3.007381</td>\n",
              "      <td>3.059178</td>\n",
              "      <td>5.407551</td>\n",
              "      <td>8.039227</td>\n",
              "      <td>-6.789599</td>\n",
              "      <td>-11.162406</td>\n",
              "      <td>-18.938690</td>\n",
              "    </tr>\n",
              "    <tr>\n",
              "      <th>50%</th>\n",
              "      <td>19364.439350</td>\n",
              "      <td>3.871227</td>\n",
              "      <td>4.977123</td>\n",
              "      <td>7.250892</td>\n",
              "      <td>11.680725</td>\n",
              "      <td>-3.338700</td>\n",
              "      <td>-4.956917</td>\n",
              "      <td>-14.040088</td>\n",
              "      <td>37764.263200</td>\n",
              "      <td>4.734586</td>\n",
              "      <td>...</td>\n",
              "      <td>-7.338850</td>\n",
              "      <td>-13.527887</td>\n",
              "      <td>16313.967300</td>\n",
              "      <td>4.973783</td>\n",
              "      <td>5.809107</td>\n",
              "      <td>11.325214</td>\n",
              "      <td>14.560676</td>\n",
              "      <td>-3.881763</td>\n",
              "      <td>-6.305962</td>\n",
              "      <td>-11.747499</td>\n",
              "    </tr>\n",
              "    <tr>\n",
              "      <th>75%</th>\n",
              "      <td>63104.837125</td>\n",
              "      <td>8.400619</td>\n",
              "      <td>17.189166</td>\n",
              "      <td>26.411109</td>\n",
              "      <td>34.843226</td>\n",
              "      <td>-1.126897</td>\n",
              "      <td>-1.670327</td>\n",
              "      <td>-5.212213</td>\n",
              "      <td>70300.782575</td>\n",
              "      <td>8.608522</td>\n",
              "      <td>...</td>\n",
              "      <td>-3.260080</td>\n",
              "      <td>-7.358031</td>\n",
              "      <td>27009.592425</td>\n",
              "      <td>7.389566</td>\n",
              "      <td>10.222169</td>\n",
              "      <td>21.207572</td>\n",
              "      <td>26.547437</td>\n",
              "      <td>-1.804032</td>\n",
              "      <td>-2.874532</td>\n",
              "      <td>-6.429690</td>\n",
              "    </tr>\n",
              "    <tr>\n",
              "      <th>max</th>\n",
              "      <td>670687.347700</td>\n",
              "      <td>1339.879283</td>\n",
              "      <td>167.079751</td>\n",
              "      <td>226.619457</td>\n",
              "      <td>993.605306</td>\n",
              "      <td>-0.006941</td>\n",
              "      <td>22.201589</td>\n",
              "      <td>115.273147</td>\n",
              "      <td>502202.812500</td>\n",
              "      <td>1672.363221</td>\n",
              "      <td>...</td>\n",
              "      <td>9.270956</td>\n",
              "      <td>11.516418</td>\n",
              "      <td>96706.792700</td>\n",
              "      <td>45.574835</td>\n",
              "      <td>32.203601</td>\n",
              "      <td>297.225880</td>\n",
              "      <td>195.242555</td>\n",
              "      <td>-0.003817</td>\n",
              "      <td>6.851792</td>\n",
              "      <td>8.357968</td>\n",
              "    </tr>\n",
              "  </tbody>\n",
              "</table>\n",
              "<p>8 rows × 128 columns</p>\n",
              "</div>\n",
              "      <button class=\"colab-df-convert\" onclick=\"convertToInteractive('df-87d9ce5c-b86e-45a5-b1cf-8c4c30ae2305')\"\n",
              "              title=\"Convert this dataframe to an interactive table.\"\n",
              "              style=\"display:none;\">\n",
              "        \n",
              "  <svg xmlns=\"http://www.w3.org/2000/svg\" height=\"24px\"viewBox=\"0 0 24 24\"\n",
              "       width=\"24px\">\n",
              "    <path d=\"M0 0h24v24H0V0z\" fill=\"none\"/>\n",
              "    <path d=\"M18.56 5.44l.94 2.06.94-2.06 2.06-.94-2.06-.94-.94-2.06-.94 2.06-2.06.94zm-11 1L8.5 8.5l.94-2.06 2.06-.94-2.06-.94L8.5 2.5l-.94 2.06-2.06.94zm10 10l.94 2.06.94-2.06 2.06-.94-2.06-.94-.94-2.06-.94 2.06-2.06.94z\"/><path d=\"M17.41 7.96l-1.37-1.37c-.4-.4-.92-.59-1.43-.59-.52 0-1.04.2-1.43.59L10.3 9.45l-7.72 7.72c-.78.78-.78 2.05 0 2.83L4 21.41c.39.39.9.59 1.41.59.51 0 1.02-.2 1.41-.59l7.78-7.78 2.81-2.81c.8-.78.8-2.07 0-2.86zM5.41 20L4 18.59l7.72-7.72 1.47 1.35L5.41 20z\"/>\n",
              "  </svg>\n",
              "      </button>\n",
              "      \n",
              "  <style>\n",
              "    .colab-df-container {\n",
              "      display:flex;\n",
              "      flex-wrap:wrap;\n",
              "      gap: 12px;\n",
              "    }\n",
              "\n",
              "    .colab-df-convert {\n",
              "      background-color: #E8F0FE;\n",
              "      border: none;\n",
              "      border-radius: 50%;\n",
              "      cursor: pointer;\n",
              "      display: none;\n",
              "      fill: #1967D2;\n",
              "      height: 32px;\n",
              "      padding: 0 0 0 0;\n",
              "      width: 32px;\n",
              "    }\n",
              "\n",
              "    .colab-df-convert:hover {\n",
              "      background-color: #E2EBFA;\n",
              "      box-shadow: 0px 1px 2px rgba(60, 64, 67, 0.3), 0px 1px 3px 1px rgba(60, 64, 67, 0.15);\n",
              "      fill: #174EA6;\n",
              "    }\n",
              "\n",
              "    [theme=dark] .colab-df-convert {\n",
              "      background-color: #3B4455;\n",
              "      fill: #D2E3FC;\n",
              "    }\n",
              "\n",
              "    [theme=dark] .colab-df-convert:hover {\n",
              "      background-color: #434B5C;\n",
              "      box-shadow: 0px 1px 3px 1px rgba(0, 0, 0, 0.15);\n",
              "      filter: drop-shadow(0px 1px 2px rgba(0, 0, 0, 0.3));\n",
              "      fill: #FFFFFF;\n",
              "    }\n",
              "  </style>\n",
              "\n",
              "      <script>\n",
              "        const buttonEl =\n",
              "          document.querySelector('#df-87d9ce5c-b86e-45a5-b1cf-8c4c30ae2305 button.colab-df-convert');\n",
              "        buttonEl.style.display =\n",
              "          google.colab.kernel.accessAllowed ? 'block' : 'none';\n",
              "\n",
              "        async function convertToInteractive(key) {\n",
              "          const element = document.querySelector('#df-87d9ce5c-b86e-45a5-b1cf-8c4c30ae2305');\n",
              "          const dataTable =\n",
              "            await google.colab.kernel.invokeFunction('convertToInteractive',\n",
              "                                                     [key], {});\n",
              "          if (!dataTable) return;\n",
              "\n",
              "          const docLinkHtml = 'Like what you see? Visit the ' +\n",
              "            '<a target=\"_blank\" href=https://colab.research.google.com/notebooks/data_table.ipynb>data table notebook</a>'\n",
              "            + ' to learn more about interactive tables.';\n",
              "          element.innerHTML = '';\n",
              "          dataTable['output_type'] = 'display_data';\n",
              "          await google.colab.output.renderOutput(dataTable, element);\n",
              "          const docLink = document.createElement('div');\n",
              "          docLink.innerHTML = docLinkHtml;\n",
              "          element.appendChild(docLink);\n",
              "        }\n",
              "      </script>\n",
              "    </div>\n",
              "  </div>\n",
              "  "
            ]
          },
          "metadata": {},
          "execution_count": 3
        }
      ],
      "source": [
        "df.describe()"
      ],
      "id": "637387a6"
    },
    {
      "cell_type": "code",
      "execution_count": null,
      "metadata": {
        "colab": {
          "base_uri": "https://localhost:8080/"
        },
        "id": "e4dec66e",
        "outputId": "c353cf29-c0b6-4e08-ccb2-bfa90cdc0cbc"
      },
      "outputs": [
        {
          "output_type": "stream",
          "name": "stdout",
          "text": [
            "<class 'pandas.core.frame.DataFrame'>\n",
            "RangeIndex: 13910 entries, 0 to 13909\n",
            "Columns: 129 entries, V1 to Class\n",
            "dtypes: float64(128), object(1)\n",
            "memory usage: 13.7+ MB\n"
          ]
        }
      ],
      "source": [
        "df.info()"
      ],
      "id": "e4dec66e"
    },
    {
      "cell_type": "code",
      "execution_count": null,
      "metadata": {
        "colab": {
          "base_uri": "https://localhost:8080/"
        },
        "id": "7cba6760",
        "outputId": "1dffef48-7d75-422d-9d74-bb83ea51eb60"
      },
      "outputs": [
        {
          "output_type": "stream",
          "name": "stdout",
          "text": [
            "       Total  Percent\n",
            "V1         0      0.0\n",
            "V66        0      0.0\n",
            "V96        0      0.0\n",
            "V95        0      0.0\n",
            "V94        0      0.0\n",
            "...      ...      ...\n",
            "V39        0      0.0\n",
            "V38        0      0.0\n",
            "V37        0      0.0\n",
            "V36        0      0.0\n",
            "Class      0      0.0\n",
            "\n",
            "[129 rows x 2 columns]\n"
          ]
        }
      ],
      "source": [
        "total = df.isnull().sum().sort_values(ascending = False)\n",
        "percent = (df.isnull().sum() / df.isnull().count()).sort_values(ascending = False)\n",
        "missing_data = pd.concat([total, percent], axis = 1, keys = ['Total', 'Percent'])\n",
        "print(missing_data)"
      ],
      "id": "7cba6760"
    },
    {
      "cell_type": "code",
      "execution_count": null,
      "metadata": {
        "colab": {
          "base_uri": "https://localhost:8080/"
        },
        "id": "1d030687",
        "outputId": "f27888e5-43f6-4283-b396-866b0fb2c345"
      },
      "outputs": [
        {
          "output_type": "execute_result",
          "data": {
            "text/plain": [
              "[]"
            ]
          },
          "metadata": {},
          "execution_count": 6
        }
      ],
      "source": [
        "def remove_constant_value_features(df):\n",
        "    return [e for e in df.columns if df[e].nunique() == 1]\n",
        "\n",
        "remove_constant_value_features(df)"
      ],
      "id": "1d030687"
    },
    {
      "cell_type": "code",
      "execution_count": null,
      "metadata": {
        "colab": {
          "base_uri": "https://localhost:8080/",
          "height": 472
        },
        "id": "b855d9f9",
        "outputId": "7d799d2d-ce7c-4696-e858-cfc098b40b8e"
      },
      "outputs": [
        {
          "output_type": "execute_result",
          "data": {
            "text/plain": [
              "Class    6\n",
              "dtype: int64"
            ]
          },
          "metadata": {},
          "execution_count": 7
        },
        {
          "output_type": "display_data",
          "data": {
            "text/plain": [
              "<Figure size 1200x600 with 1 Axes>"
            ],
            "image/png": "[encoded data removed]"
          },
          "metadata": {}
        }
      ],
      "source": [
        "availo=df.select_dtypes(include='object')\n",
        "availo.nunique().plot.bar(figsize=(12,6))\n",
        "availo.nunique()"
      ],
      "id": "b855d9f9"
    },
    {
      "cell_type": "code",
      "execution_count": null,
      "metadata": {
        "colab": {
          "base_uri": "https://localhost:8080/"
        },
        "id": "9a319266",
        "outputId": "ebcb0bc3-838a-444d-f32f-598ed3d023fd"
      },
      "outputs": [
        {
          "output_type": "stream",
          "name": "stdout",
          "text": [
            "b'5'    3009\n",
            "b'2'    2926\n",
            "b'1'    2565\n",
            "b'4'    1936\n",
            "b'6'    1833\n",
            "b'3'    1641\n",
            "Name: Class, dtype: int64\n"
          ]
        }
      ],
      "source": [
        "print(pd.value_counts(df['Class'], sort = True))"
      ],
      "id": "9a319266"
    },
    {
      "cell_type": "code",
      "execution_count": 3,
      "metadata": {
        "id": "jZG7TSQZxqNh"
      },
      "outputs": [],
      "source": [
        "col_names = list(df.iloc[:, :-1].columns)"
      ],
      "id": "jZG7TSQZxqNh"
    },
    {
      "cell_type": "markdown",
      "metadata": {
        "id": "de79982f"
      },
      "source": [
        "No missing values. Clean data set. Lets define the proprocessor pipelines."
      ],
      "id": "de79982f"
    },
    {
      "cell_type": "code",
      "execution_count": 4,
      "metadata": {
        "id": "b0762136"
      },
      "outputs": [],
      "source": [
        "from sklearn.impute import SimpleImputer\n",
        "from sklearn.impute import KNNImputer\n",
        "from sklearn.pipeline import Pipeline\n",
        "from sklearn.compose import ColumnTransformer\n",
        "from sklearn.linear_model import LogisticRegression\n",
        "from sklearn.preprocessing import OneHotEncoder\n",
        "from sklearn.preprocessing import StandardScaler\n",
        "from sklearn.preprocessing import MinMaxScaler\n",
        "\n",
        "numeric_features=col_names\n",
        "\n",
        "numeric_transformer1=Pipeline(steps=[('scaler1',MinMaxScaler())])\n",
        "preprocessor1=ColumnTransformer(transformers=[('num',numeric_transformer1,numeric_features)])"
      ],
      "id": "b0762136"
    },
    {
      "cell_type": "code",
      "execution_count": 5,
      "metadata": {
        "id": "df5b94ee"
      },
      "outputs": [],
      "source": [
        "xtrain = df.drop(['Class'],axis=1)\n",
        "ytrain = df.loc[:,'Class']"
      ],
      "id": "df5b94ee"
    },
    {
      "cell_type": "code",
      "execution_count": 6,
      "metadata": {
        "id": "5ebe6422"
      },
      "outputs": [],
      "source": [
        "from sklearn import preprocessing\n",
        "label_encoder = preprocessing.LabelEncoder()\n",
        "ytrain = label_encoder.fit_transform(ytrain)"
      ],
      "id": "5ebe6422"
    },
    {
      "cell_type": "code",
      "execution_count": 7,
      "metadata": {
        "colab": {
          "base_uri": "https://localhost:8080/"
        },
        "id": "8622bae5",
        "outputId": "1dc87a0e-3af5-4c35-847e-c4fa5a3bda49"
      },
      "outputs": [
        {
          "output_type": "stream",
          "name": "stdout",
          "text": [
            "(9319, 128) (9319,)\n",
            "(4591, 128) (4591,)\n"
          ]
        }
      ],
      "source": [
        "from sklearn.model_selection import train_test_split\n",
        "from sklearn import preprocessing\n",
        "X_train, X_test, y_train, y_test = train_test_split(xtrain,ytrain, test_size=0.33, random_state=33,stratify=ytrain)\n",
        "print(X_train.shape, y_train.shape)\n",
        "print(X_test.shape, y_test.shape)"
      ],
      "id": "8622bae5"
    },
    {
      "cell_type": "markdown",
      "metadata": {
        "id": "dd33d396"
      },
      "source": [
        "## Default Parameters"
      ],
      "id": "dd33d396"
    },
    {
      "cell_type": "markdown",
      "metadata": {
        "id": "blpzElBOcyoe"
      },
      "source": [
        "The following four algorithms will follow the next scheme. Compute the accuracy with default parameters. the selected metric is balanced_accuracy because the data set is unbalanced and offers better results than F1."
      ],
      "id": "blpzElBOcyoe"
    },
    {
      "cell_type": "markdown",
      "metadata": {
        "id": "67725c59"
      },
      "source": [
        "### Extremely Randomized Trees"
      ],
      "id": "67725c59"
    },
    {
      "cell_type": "code",
      "execution_count": 8,
      "metadata": {
        "id": "nB6lvV4zS9nP"
      },
      "outputs": [],
      "source": [
        "import time\n",
        "from sklearn import metrics\n",
        "from sklearn import tree\n",
        "from sklearn.model_selection import cross_val_score, KFold\n",
        "from sklearn.ensemble import ExtraTreesClassifier\n",
        "from sklearn.model_selection import StratifiedKFold\n",
        "def default_hp(classif, X_train, y_train, X_test, y_test):\n",
        "  inicio = time.time()\n",
        "  np.random.seed(NIA)\n",
        "  classif.fit(X_train, y_train)\n",
        "  y_hat=classif.predict(X_test)\n",
        "  bac = metrics.balanced_accuracy_score(y_test, y_hat)\n",
        "  print(f\"Accuracy: {bac}\")\n",
        "  fin=time.time()\n",
        "  print('time',fin-inicio)\n",
        "  return((bac , fin-inicio))"
      ],
      "id": "nB6lvV4zS9nP"
    },
    {
      "cell_type": "code",
      "execution_count": null,
      "metadata": {
        "colab": {
          "base_uri": "https://localhost:8080/"
        },
        "id": "9pWFvxpdT7bL",
        "outputId": "fd41aeb7-7002-4023-9566-0f32cc4d3fa5"
      },
      "outputs": [
        {
          "output_type": "stream",
          "name": "stdout",
          "text": [
            "Accuracy: 0.9956554340384165\n",
            "time 1.7402245998382568\n"
          ]
        }
      ],
      "source": [
        "rs=NIA\n",
        "clf = ExtraTreesClassifier(random_state=rs)\n",
        "classif=Pipeline([('clf',clf)])\n",
        "(bac1, tiempo1)=default_hp(classif, X_train, y_train, X_test, y_test)"
      ],
      "id": "9pWFvxpdT7bL"
    },
    {
      "cell_type": "markdown",
      "metadata": {
        "id": "c0749942"
      },
      "source": [
        "### Support Vector Machines"
      ],
      "id": "c0749942"
    },
    {
      "cell_type": "code",
      "execution_count": null,
      "metadata": {
        "colab": {
          "base_uri": "https://localhost:8080/"
        },
        "id": "75MlDMcqUsKq",
        "outputId": "1c2593f9-ed62-441e-ff44-70e093216366"
      },
      "outputs": [
        {
          "output_type": "stream",
          "name": "stdout",
          "text": [
            "Accuracy: 0.8743476191677337\n",
            "time 12.5738205909729\n"
          ]
        }
      ],
      "source": [
        "from sklearn import svm\n",
        "rs=NIA\n",
        "svmc = svm.SVC(random_state=rs)\n",
        "classif=Pipeline([('preprocessor',preprocessor1),('svmc',svmc)])\n",
        "(bac2, tiempo2)=default_hp(classif, X_train, y_train, X_test, y_test)"
      ],
      "id": "75MlDMcqUsKq"
    },
    {
      "cell_type": "markdown",
      "metadata": {
        "id": "6a5ee3dd"
      },
      "source": [
        "### Hist Grading Boosting"
      ],
      "id": "6a5ee3dd"
    },
    {
      "cell_type": "code",
      "execution_count": null,
      "metadata": {
        "colab": {
          "base_uri": "https://localhost:8080/"
        },
        "id": "qoqlc4jUU5ob",
        "outputId": "5d535f74-c83a-45a8-f318-1b81ac10dad7"
      },
      "outputs": [
        {
          "output_type": "stream",
          "name": "stdout",
          "text": [
            "Accuracy: 0.9910767259023222\n",
            "time 12.994560718536377\n"
          ]
        }
      ],
      "source": [
        "from sklearn.ensemble import HistGradientBoostingClassifier\n",
        "rs=NIA\n",
        "hgb = HistGradientBoostingClassifier(random_state=rs)\n",
        "classif=Pipeline([('hgb',hgb)])\n",
        "(bac3, tiempo3)=default_hp(classif, X_train, y_train, X_test, y_test)\n"
      ],
      "id": "qoqlc4jUU5ob"
    },
    {
      "cell_type": "markdown",
      "metadata": {
        "id": "45aaed69"
      },
      "source": [
        "### XGBoost (XGB Classifier)"
      ],
      "id": "45aaed69"
    },
    {
      "cell_type": "code",
      "execution_count": 9,
      "metadata": {
        "colab": {
          "base_uri": "https://localhost:8080/"
        },
        "id": "e1fc3a77",
        "outputId": "64ba52d4-fd9b-4000-f1c1-99038d79b092"
      },
      "outputs": [
        {
          "output_type": "stream",
          "name": "stdout",
          "text": [
            "Looking in indexes: https://pypi.org/simple, https://us-python.pkg.dev/colab-wheels/public/simple/\n",
            "Requirement already satisfied: xgboost in /usr/local/lib/python3.10/dist-packages (1.7.5)\n",
            "Requirement already satisfied: numpy in /usr/local/lib/python3.10/dist-packages (from xgboost) (1.22.4)\n",
            "Requirement already satisfied: scipy in /usr/local/lib/python3.10/dist-packages (from xgboost) (1.10.1)\n"
          ]
        }
      ],
      "source": [
        "!pip install xgboost\n",
        "import xgboost as xgb"
      ],
      "id": "e1fc3a77"
    },
    {
      "cell_type": "code",
      "execution_count": null,
      "metadata": {
        "colab": {
          "base_uri": "https://localhost:8080/"
        },
        "id": "O3syAlRHTLvB",
        "outputId": "d048925c-0cd0-4d50-945d-4ae66ad7474c"
      },
      "outputs": [
        {
          "output_type": "stream",
          "name": "stdout",
          "text": [
            "Accuracy: 0.9899388459667152\n",
            "time 77.99435138702393\n"
          ]
        }
      ],
      "source": [
        "rs=NIA\n",
        "xgbc = xgb.XGBClassifier(random_state=rs)\n",
        "classif=Pipeline([('xgb',xgbc)])\n",
        "(bac4, tiempo4)=default_hp(classif, X_train, y_train, X_test, y_test)"
      ],
      "id": "O3syAlRHTLvB"
    },
    {
      "cell_type": "markdown",
      "metadata": {
        "id": "b21df310"
      },
      "source": [
        "## Hyper-Parameter tunning"
      ],
      "id": "b21df310"
    },
    {
      "cell_type": "markdown",
      "metadata": {
        "id": "069eb2d5"
      },
      "source": [
        "### Extremely Randomized trees"
      ],
      "id": "069eb2d5"
    },
    {
      "cell_type": "code",
      "execution_count": null,
      "metadata": {
        "colab": {
          "base_uri": "https://localhost:8080/"
        },
        "id": "83c43f0f",
        "outputId": "29cbc739-b16c-4929-d0c0-29d64129f733"
      },
      "outputs": [
        {
          "output_type": "stream",
          "name": "stdout",
          "text": [
            "Looking in indexes: https://pypi.org/simple, https://us-python.pkg.dev/colab-wheels/public/simple/\n",
            "Collecting optuna\n",
            "  Downloading optuna-3.2.0-py3-none-any.whl (390 kB)\n",
            "\u001b[2K     \u001b[90m━━━━━━━━━━━━━━━━━━━━━━━━━━━━━━━━━━━━━━\u001b[0m \u001b[32m390.6/390.6 kB\u001b[0m \u001b[31m24.7 MB/s\u001b[0m eta \u001b[36m0:00:00\u001b[0m\n",
            "\u001b[?25hCollecting alembic>=1.5.0 (from optuna)\n",
            "  Downloading alembic-1.11.1-py3-none-any.whl (224 kB)\n",
            "\u001b[2K     \u001b[90m━━━━━━━━━━━━━━━━━━━━━━━━━━━━━━━━━━━━━━\u001b[0m \u001b[32m224.5/224.5 kB\u001b[0m \u001b[31m21.9 MB/s\u001b[0m eta \u001b[36m0:00:00\u001b[0m\n",
            "\u001b[?25hCollecting cmaes>=0.9.1 (from optuna)\n",
            "  Downloading cmaes-0.9.1-py3-none-any.whl (21 kB)\n",
            "Collecting colorlog (from optuna)\n",
            "  Downloading colorlog-6.7.0-py2.py3-none-any.whl (11 kB)\n",
            "Requirement already satisfied: numpy in /usr/local/lib/python3.10/dist-packages (from optuna) (1.22.4)\n",
            "Requirement already satisfied: packaging>=20.0 in /usr/local/lib/python3.10/dist-packages (from optuna) (23.1)\n",
            "Requirement already satisfied: sqlalchemy>=1.3.0 in /usr/local/lib/python3.10/dist-packages (from optuna) (2.0.10)\n",
            "Requirement already satisfied: tqdm in /usr/local/lib/python3.10/dist-packages (from optuna) (4.65.0)\n",
            "Requirement already satisfied: PyYAML in /usr/local/lib/python3.10/dist-packages (from optuna) (6.0)\n",
            "Collecting Mako (from alembic>=1.5.0->optuna)\n",
            "  Downloading Mako-1.2.4-py3-none-any.whl (78 kB)\n",
            "\u001b[2K     \u001b[90m━━━━━━━━━━━━━━━━━━━━━━━━━━━━━━━━━━━━━━━━\u001b[0m \u001b[32m78.7/78.7 kB\u001b[0m \u001b[31m9.8 MB/s\u001b[0m eta \u001b[36m0:00:00\u001b[0m\n",
            "\u001b[?25hRequirement already satisfied: typing-extensions>=4 in /usr/local/lib/python3.10/dist-packages (from alembic>=1.5.0->optuna) (4.5.0)\n",
            "Requirement already satisfied: greenlet!=0.4.17 in /usr/local/lib/python3.10/dist-packages (from sqlalchemy>=1.3.0->optuna) (2.0.2)\n",
            "Requirement already satisfied: MarkupSafe>=0.9.2 in /usr/local/lib/python3.10/dist-packages (from Mako->alembic>=1.5.0->optuna) (2.1.2)\n",
            "Installing collected packages: Mako, colorlog, cmaes, alembic, optuna\n",
            "Successfully installed Mako-1.2.4 alembic-1.11.1 cmaes-0.9.1 colorlog-6.7.0 optuna-3.2.0\n"
          ]
        }
      ],
      "source": [
        "pip install optuna"
      ],
      "id": "83c43f0f"
    },
    {
      "cell_type": "code",
      "execution_count": null,
      "metadata": {
        "colab": {
          "base_uri": "https://localhost:8080/"
        },
        "id": "6fe7d1ba",
        "outputId": "265a0517-6d03-4014-962d-c5f84a4d5f17"
      },
      "outputs": [
        {
          "output_type": "stream",
          "name": "stderr",
          "text": [
            "\u001b[32m[I 2023-05-12 10:15:50,389]\u001b[0m A new study created in memory with name: no-name-a1fceb0a-26c7-4489-a2a2-d8df6d18c557\u001b[0m\n",
            "\u001b[32m[I 2023-05-12 10:16:19,938]\u001b[0m Trial 0 finished with value: 0.9862417824844262 and parameters: {'rf__max_features': 0.9209109783757075, 'rf__max_depth': 14, 'rf__min_samples_leaf': 12}. Best is trial 0 with value: 0.9862417824844262.\u001b[0m\n",
            "\u001b[32m[I 2023-05-12 10:16:25,817]\u001b[0m Trial 1 finished with value: 0.9578125572384217 and parameters: {'rf__max_features': 0.5034861430001488, 'rf__max_depth': 30, 'rf__min_samples_leaf': 46}. Best is trial 0 with value: 0.9862417824844262.\u001b[0m\n",
            "\u001b[32m[I 2023-05-12 10:16:29,316]\u001b[0m Trial 2 finished with value: 0.9521367536353321 and parameters: {'rf__max_features': 0.33988753261747723, 'rf__max_depth': 29, 'rf__min_samples_leaf': 51}. Best is trial 0 with value: 0.9862417824844262.\u001b[0m\n",
            "\u001b[32m[I 2023-05-12 10:16:35,059]\u001b[0m Trial 3 finished with value: 0.9578125572384217 and parameters: {'rf__max_features': 0.505960651026708, 'rf__max_depth': 34, 'rf__min_samples_leaf': 46}. Best is trial 0 with value: 0.9862417824844262.\u001b[0m\n",
            "\u001b[32m[I 2023-05-12 10:16:37,012]\u001b[0m Trial 4 finished with value: 0.9409375760276238 and parameters: {'rf__max_features': 0.11969487436174514, 'rf__max_depth': 34, 'rf__min_samples_leaf': 50}. Best is trial 0 with value: 0.9862417824844262.\u001b[0m\n",
            "\u001b[32m[I 2023-05-12 10:16:40,260]\u001b[0m Trial 5 finished with value: 0.9888889952349619 and parameters: {'rf__max_features': 0.20401911052827054, 'rf__max_depth': 34, 'rf__min_samples_leaf': 7}. Best is trial 5 with value: 0.9888889952349619.\u001b[0m\n",
            "\u001b[32m[I 2023-05-12 10:16:47,819]\u001b[0m Trial 6 finished with value: 0.9860572025994069 and parameters: {'rf__max_features': 0.6048638782047286, 'rf__max_depth': 40, 'rf__min_samples_leaf': 13}. Best is trial 5 with value: 0.9888889952349619.\u001b[0m\n",
            "\u001b[32m[I 2023-05-12 10:16:52,107]\u001b[0m Trial 7 finished with value: 0.9490429418332509 and parameters: {'rf__max_features': 0.39074861700904007, 'rf__max_depth': 46, 'rf__min_samples_leaf': 60}. Best is trial 5 with value: 0.9888889952349619.\u001b[0m\n",
            "\u001b[32m[I 2023-05-12 10:16:55,676]\u001b[0m Trial 8 finished with value: 0.9925038981060487 and parameters: {'rf__max_features': 0.22271922219758494, 'rf__max_depth': 29, 'rf__min_samples_leaf': 4}. Best is trial 8 with value: 0.9925038981060487.\u001b[0m\n",
            "\u001b[32m[I 2023-05-12 10:16:59,281]\u001b[0m Trial 9 finished with value: 0.9871488698476684 and parameters: {'rf__max_features': 0.24750963577459342, 'rf__max_depth': 17, 'rf__min_samples_leaf': 9}. Best is trial 8 with value: 0.9925038981060487.\u001b[0m\n",
            "\u001b[32m[I 2023-05-12 10:17:02,659]\u001b[0m Trial 10 finished with value: 0.9703779223957257 and parameters: {'rf__max_features': 0.11272713464134664, 'rf__max_depth': 19, 'rf__min_samples_leaf': 26}. Best is trial 8 with value: 0.9925038981060487.\u001b[0m\n",
            "\u001b[32m[I 2023-05-12 10:17:04,939]\u001b[0m Trial 11 finished with value: 0.9100027127330522 and parameters: {'rf__max_features': 0.2314027473471144, 'rf__max_depth': 6, 'rf__min_samples_leaf': 3}. Best is trial 8 with value: 0.9925038981060487.\u001b[0m\n",
            "\u001b[32m[I 2023-05-12 10:17:08,194]\u001b[0m Trial 12 finished with value: 0.9745498286262014 and parameters: {'rf__max_features': 0.26516382356905455, 'rf__max_depth': 22, 'rf__min_samples_leaf': 25}. Best is trial 8 with value: 0.9925038981060487.\u001b[0m\n",
            "\u001b[32m[I 2023-05-12 10:17:10,823]\u001b[0m Trial 13 finished with value: 0.992660027264966 and parameters: {'rf__max_features': 0.13703413227922873, 'rf__max_depth': 49, 'rf__min_samples_leaf': 3}. Best is trial 13 with value: 0.992660027264966.\u001b[0m\n",
            "\u001b[32m[I 2023-05-12 10:17:13,043]\u001b[0m Trial 14 finished with value: 0.9766858611305173 and parameters: {'rf__max_features': 0.10826671304490143, 'rf__max_depth': 48, 'rf__min_samples_leaf': 18}. Best is trial 13 with value: 0.992660027264966.\u001b[0m\n",
            "\u001b[32m[I 2023-05-12 10:17:20,040]\u001b[0m Trial 15 finished with value: 0.9938870300428714 and parameters: {'rf__max_features': 0.3925628106160764, 'rf__max_depth': 40, 'rf__min_samples_leaf': 2}. Best is trial 15 with value: 0.9938870300428714.\u001b[0m\n",
            "\u001b[32m[I 2023-05-12 10:17:24,309]\u001b[0m Trial 16 finished with value: 0.9670505762007622 and parameters: {'rf__max_features': 0.40329161401187497, 'rf__max_depth': 43, 'rf__min_samples_leaf': 36}. Best is trial 15 with value: 0.9938870300428714.\u001b[0m\n",
            "\u001b[32m[I 2023-05-12 10:17:33,749]\u001b[0m Trial 17 finished with value: 0.9814563750450978 and parameters: {'rf__max_features': 0.6278246605375857, 'rf__max_depth': 40, 'rf__min_samples_leaf': 19}. Best is trial 15 with value: 0.9938870300428714.\u001b[0m\n",
            "\u001b[32m[I 2023-05-12 10:17:39,326]\u001b[0m Trial 18 finished with value: 0.9945037903238102 and parameters: {'rf__max_features': 0.3227761167188885, 'rf__max_depth': 48, 'rf__min_samples_leaf': 1}. Best is trial 18 with value: 0.9945037903238102.\u001b[0m\n",
            "\u001b[32m[I 2023-05-12 10:17:44,821]\u001b[0m Trial 19 finished with value: 0.9689535688253589 and parameters: {'rf__max_features': 0.3431294942159243, 'rf__max_depth': 41, 'rf__min_samples_leaf': 35}. Best is trial 18 with value: 0.9945037903238102.\u001b[0m\n",
            "\u001b[32m[I 2023-05-12 10:17:51,366]\u001b[0m Trial 20 finished with value: 0.9940207108273046 and parameters: {'rf__max_features': 0.45972299864189614, 'rf__max_depth': 50, 'rf__min_samples_leaf': 1}. Best is trial 18 with value: 0.9945037903238102.\u001b[0m\n",
            "\u001b[32m[I 2023-05-12 10:17:59,540]\u001b[0m Trial 21 finished with value: 0.9940207108273046 and parameters: {'rf__max_features': 0.4581837421208954, 'rf__max_depth': 50, 'rf__min_samples_leaf': 1}. Best is trial 18 with value: 0.9945037903238102.\u001b[0m\n",
            "\u001b[32m[I 2023-05-12 10:18:04,809]\u001b[0m Trial 22 finished with value: 0.9823713426613354 and parameters: {'rf__max_features': 0.44657607296669344, 'rf__max_depth': 50, 'rf__min_samples_leaf': 16}. Best is trial 18 with value: 0.9945037903238102.\u001b[0m\n",
            "\u001b[32m[I 2023-05-12 10:18:13,616]\u001b[0m Trial 23 finished with value: 0.9876323552457902 and parameters: {'rf__max_features': 0.5878549457553152, 'rf__max_depth': 44, 'rf__min_samples_leaf': 9}. Best is trial 18 with value: 0.9945037903238102.\u001b[0m\n",
            "\u001b[32m[I 2023-05-12 10:18:19,162]\u001b[0m Trial 24 finished with value: 0.9776050357949906 and parameters: {'rf__max_features': 0.5002499649076306, 'rf__max_depth': 50, 'rf__min_samples_leaf': 23}. Best is trial 18 with value: 0.9945037903238102.\u001b[0m\n",
            "\u001b[32m[I 2023-05-12 10:18:29,688]\u001b[0m Trial 25 finished with value: 0.9937425942438435 and parameters: {'rf__max_features': 0.6601094115013549, 'rf__max_depth': 45, 'rf__min_samples_leaf': 1}. Best is trial 18 with value: 0.9945037903238102.\u001b[0m\n",
            "\u001b[32m[I 2023-05-12 10:18:34,044]\u001b[0m Trial 26 finished with value: 0.9888502802985101 and parameters: {'rf__max_features': 0.3175943510822437, 'rf__max_depth': 46, 'rf__min_samples_leaf': 7}. Best is trial 18 with value: 0.9945037903238102.\u001b[0m\n",
            "\u001b[32m[I 2023-05-12 10:18:41,107]\u001b[0m Trial 27 finished with value: 0.9859287282708764 and parameters: {'rf__max_features': 0.4406864296168227, 'rf__max_depth': 37, 'rf__min_samples_leaf': 12}. Best is trial 18 with value: 0.9945037903238102.\u001b[0m\n",
            "\u001b[32m[I 2023-05-12 10:18:44,605]\u001b[0m Trial 28 finished with value: 0.9692187583816155 and parameters: {'rf__max_features': 0.29699318417344917, 'rf__max_depth': 25, 'rf__min_samples_leaf': 32}. Best is trial 18 with value: 0.9945037903238102.\u001b[0m\n",
            "\u001b[32m[I 2023-05-12 10:18:54,686]\u001b[0m Trial 29 finished with value: 0.9858774474190187 and parameters: {'rf__max_features': 0.6838326018979484, 'rf__max_depth': 47, 'rf__min_samples_leaf': 13}. Best is trial 18 with value: 0.9945037903238102.\u001b[0m\n"
          ]
        },
        {
          "output_type": "stream",
          "name": "stdout",
          "text": [
            "time 184.29957723617554\n"
          ]
        }
      ],
      "source": [
        "import optuna\n",
        "import time\n",
        "from sklearn.ensemble import ExtraTreesClassifier\n",
        "from optuna import trial\n",
        "from sklearn.model_selection import cross_val_score\n",
        "from sklearn.model_selection import StratifiedKFold\n",
        "inicio = time.time()\n",
        "rs=NIA\n",
        "cv_inner = StratifiedKFold(n_splits=3, random_state=rs, shuffle=True)\n",
        "np.random.seed(NIA)\n",
        "def objective(trial):\n",
        "    rf__max_features = trial.suggest_float(\"rf__max_features\", 0.1,1)\n",
        "    rf__max_depth = trial.suggest_int(\"rf__max_depth\", 6, 50)\n",
        "    rf__min_samples_leaf=trial.suggest_int(\"rf__min_samples_leaf\", 1, 60)\n",
        "    classifier_obj = Pipeline([('Ext',ExtraTreesClassifier(\n",
        "        max_depth=rf__max_depth, max_features=rf__max_features, min_samples_leaf=rf__min_samples_leaf,random_state=rs\n",
        "    ))])\n",
        "\n",
        "    # Step 3: Scoring method:\n",
        "    score = cross_val_score(classifier_obj, X_train, y_train,scoring='balanced_accuracy', n_jobs=-1, cv = cv_inner)\n",
        "    accuracy = score.mean()\n",
        "    return accuracy\n",
        "\n",
        "# Step 4: Running it\n",
        "study = optuna.create_study(direction=\"maximize\")\n",
        "study.optimize(objective, n_trials=30)\n",
        "fin=time.time()\n",
        "print('time',fin-inicio)\n",
        "tiempoopt1=fin-inicio\n"
      ],
      "id": "6fe7d1ba"
    },
    {
      "cell_type": "code",
      "execution_count": null,
      "metadata": {
        "colab": {
          "base_uri": "https://localhost:8080/"
        },
        "id": "811e9375",
        "outputId": "1dbd91ff-2d0b-47f2-cf35-3c446dd98653"
      },
      "outputs": [
        {
          "output_type": "stream",
          "name": "stdout",
          "text": [
            "The best trial is : \n",
            "FrozenTrial(number=18, state=TrialState.COMPLETE, values=[0.9945037903238102], datetime_start=datetime.datetime(2023, 5, 12, 10, 17, 33, 750939), datetime_complete=datetime.datetime(2023, 5, 12, 10, 17, 39, 326112), params={'rf__max_features': 0.3227761167188885, 'rf__max_depth': 48, 'rf__min_samples_leaf': 1}, user_attrs={}, system_attrs={}, intermediate_values={}, distributions={'rf__max_features': FloatDistribution(high=1.0, log=False, low=0.1, step=None), 'rf__max_depth': IntDistribution(high=50, log=False, low=6, step=1), 'rf__min_samples_leaf': IntDistribution(high=60, log=False, low=1, step=1)}, trial_id=18, value=None)\n",
            "The best value is : \n",
            "0.9945037903238102\n",
            "The best parameters are : \n",
            "{'rf__max_features': 0.3227761167188885, 'rf__max_depth': 48, 'rf__min_samples_leaf': 1}\n"
          ]
        }
      ],
      "source": [
        "# Getting the best trial:\n",
        "print(f\"The best trial is : \\n{study.best_trial}\")\n",
        "\n",
        "# Getting the best score:\n",
        "print(f\"The best value is : \\n{study.best_value}\")\n",
        "\n",
        "\n",
        "# Getting the best parameters:\n",
        "print(f\"The best parameters are : \\n{study.best_params}\")\n"
      ],
      "id": "811e9375"
    },
    {
      "cell_type": "code",
      "execution_count": null,
      "metadata": {
        "colab": {
          "base_uri": "https://localhost:8080/"
        },
        "id": "d239bf95",
        "outputId": "20bd33ab-f81d-44d1-da23-7c878cebaf26"
      },
      "outputs": [
        {
          "output_type": "stream",
          "name": "stdout",
          "text": [
            "Precision: 0.9945037903238102\n",
            "Best hyperparameters: {'rf__max_features': 0.3227761167188885, 'rf__max_depth': 48, 'rf__min_samples_leaf': 1}\n"
          ]
        }
      ],
      "source": [
        "trial = study.best_trial\n",
        "\n",
        "print('Precision: {}'.format(trial.value))\n",
        "print(\"Best hyperparameters: {}\".format(trial.params))"
      ],
      "id": "d239bf95"
    },
    {
      "cell_type": "code",
      "execution_count": null,
      "metadata": {
        "colab": {
          "base_uri": "https://localhost:8080/",
          "height": 542
        },
        "id": "0b9cdb24",
        "outputId": "d093e5fb-a9b2-4ec3-c690-cc1429d44c7d"
      },
      "outputs": [
        {
          "output_type": "display_data",
          "data": {
            "text/html": [
              "<html>\n",
              "<head><meta charset=\"utf-8\" /></head>\n",
              "<body>\n",
              "    <div>            <script src=\"https://cdnjs.cloudflare.com/ajax/libs/mathjax/2.7.5/MathJax.js?config=TeX-AMS-MML_SVG\"></script><script type=\"text/javascript\">if (window.MathJax && window.MathJax.Hub && window.MathJax.Hub.Config) {window.MathJax.Hub.Config({SVG: {font: \"STIX-Web\"}});}</script>                <script type=\"text/javascript\">window.PlotlyConfig = {MathJaxConfig: 'local'};</script>\n",
              "        <script src=\"https://cdn.plot.ly/plotly-2.18.2.min.js\"></script>                <div id=\"335effb0-b537-4fc0-82af-572542e28921\" class=\"plotly-graph-div\" style=\"height:525px; width:100%;\"></div>            <script type=\"text/javascript\">                                    window.PLOTLYENV=window.PLOTLYENV || {};                                    if (document.getElementById(\"335effb0-b537-4fc0-82af-572542e28921\")) {                    Plotly.newPlot(                        \"335effb0-b537-4fc0-82af-572542e28921\",                        [{\"mode\":\"markers\",\"name\":\"Objective Value\",\"x\":[0,1,2,3,4,5,6,7,8,9,10,11,12,13,14,15,16,17,18,19,20,21,22,23,24,25,26,27,28,29],\"y\":[0.9862417824844262,0.9578125572384217,0.9521367536353321,0.9578125572384217,0.9409375760276238,0.9888889952349619,0.9860572025994069,0.9490429418332509,0.9925038981060487,0.9871488698476684,0.9703779223957257,0.9100027127330522,0.9745498286262014,0.992660027264966,0.9766858611305173,0.9938870300428714,0.9670505762007622,0.9814563750450978,0.9945037903238102,0.9689535688253589,0.9940207108273046,0.9940207108273046,0.9823713426613354,0.9876323552457902,0.9776050357949906,0.9937425942438435,0.9888502802985101,0.9859287282708764,0.9692187583816155,0.9858774474190187],\"type\":\"scatter\"},{\"name\":\"Best Value\",\"x\":[0,1,2,3,4,5,6,7,8,9,10,11,12,13,14,15,16,17,18,19,20,21,22,23,24,25,26,27,28,29],\"y\":[0.9862417824844262,0.9862417824844262,0.9862417824844262,0.9862417824844262,0.9862417824844262,0.9888889952349619,0.9888889952349619,0.9888889952349619,0.9925038981060487,0.9925038981060487,0.9925038981060487,0.9925038981060487,0.9925038981060487,0.992660027264966,0.992660027264966,0.9938870300428714,0.9938870300428714,0.9938870300428714,0.9945037903238102,0.9945037903238102,0.9945037903238102,0.9945037903238102,0.9945037903238102,0.9945037903238102,0.9945037903238102,0.9945037903238102,0.9945037903238102,0.9945037903238102,0.9945037903238102,0.9945037903238102],\"type\":\"scatter\"}],                        {\"title\":{\"text\":\"Optimization History Plot\"},\"xaxis\":{\"title\":{\"text\":\"Trial\"}},\"yaxis\":{\"title\":{\"text\":\"Objective Value\"}},\"template\":{\"data\":{\"histogram2dcontour\":[{\"type\":\"histogram2dcontour\",\"colorbar\":{\"outlinewidth\":0,\"ticks\":\"\"},\"colorscale\":[[0.0,\"#0d0887\"],[0.1111111111111111,\"#46039f\"],[0.2222222222222222,\"#7201a8\"],[0.3333333333333333,\"#9c179e\"],[0.4444444444444444,\"#bd3786\"],[0.5555555555555556,\"#d8576b\"],[0.6666666666666666,\"#ed7953\"],[0.7777777777777778,\"#fb9f3a\"],[0.8888888888888888,\"#fdca26\"],[1.0,\"#f0f921\"]]}],\"choropleth\":[{\"type\":\"choropleth\",\"colorbar\":{\"outlinewidth\":0,\"ticks\":\"\"}}],\"histogram2d\":[{\"type\":\"histogram2d\",\"colorbar\":{\"outlinewidth\":0,\"ticks\":\"\"},\"colorscale\":[[0.0,\"#0d0887\"],[0.1111111111111111,\"#46039f\"],[0.2222222222222222,\"#7201a8\"],[0.3333333333333333,\"#9c179e\"],[0.4444444444444444,\"#bd3786\"],[0.5555555555555556,\"#d8576b\"],[0.6666666666666666,\"#ed7953\"],[0.7777777777777778,\"#fb9f3a\"],[0.8888888888888888,\"#fdca26\"],[1.0,\"#f0f921\"]]}],\"heatmap\":[{\"type\":\"heatmap\",\"colorbar\":{\"outlinewidth\":0,\"ticks\":\"\"},\"colorscale\":[[0.0,\"#0d0887\"],[0.1111111111111111,\"#46039f\"],[0.2222222222222222,\"#7201a8\"],[0.3333333333333333,\"#9c179e\"],[0.4444444444444444,\"#bd3786\"],[0.5555555555555556,\"#d8576b\"],[0.6666666666666666,\"#ed7953\"],[0.7777777777777778,\"#fb9f3a\"],[0.8888888888888888,\"#fdca26\"],[1.0,\"#f0f921\"]]}],\"heatmapgl\":[{\"type\":\"heatmapgl\",\"colorbar\":{\"outlinewidth\":0,\"ticks\":\"\"},\"colorscale\":[[0.0,\"#0d0887\"],[0.1111111111111111,\"#46039f\"],[0.2222222222222222,\"#7201a8\"],[0.3333333333333333,\"#9c179e\"],[0.4444444444444444,\"#bd3786\"],[0.5555555555555556,\"#d8576b\"],[0.6666666666666666,\"#ed7953\"],[0.7777777777777778,\"#fb9f3a\"],[0.8888888888888888,\"#fdca26\"],[1.0,\"#f0f921\"]]}],\"contourcarpet\":[{\"type\":\"contourcarpet\",\"colorbar\":{\"outlinewidth\":0,\"ticks\":\"\"}}],\"contour\":[{\"type\":\"contour\",\"colorbar\":{\"outlinewidth\":0,\"ticks\":\"\"},\"colorscale\":[[0.0,\"#0d0887\"],[0.1111111111111111,\"#46039f\"],[0.2222222222222222,\"#7201a8\"],[0.3333333333333333,\"#9c179e\"],[0.4444444444444444,\"#bd3786\"],[0.5555555555555556,\"#d8576b\"],[0.6666666666666666,\"#ed7953\"],[0.7777777777777778,\"#fb9f3a\"],[0.8888888888888888,\"#fdca26\"],[1.0,\"#f0f921\"]]}],\"surface\":[{\"type\":\"surface\",\"colorbar\":{\"outlinewidth\":0,\"ticks\":\"\"},\"colorscale\":[[0.0,\"#0d0887\"],[0.1111111111111111,\"#46039f\"],[0.2222222222222222,\"#7201a8\"],[0.3333333333333333,\"#9c179e\"],[0.4444444444444444,\"#bd3786\"],[0.5555555555555556,\"#d8576b\"],[0.6666666666666666,\"#ed7953\"],[0.7777777777777778,\"#fb9f3a\"],[0.8888888888888888,\"#fdca26\"],[1.0,\"#f0f921\"]]}],\"mesh3d\":[{\"type\":\"mesh3d\",\"colorbar\":{\"outlinewidth\":0,\"ticks\":\"\"}}],\"scatter\":[{\"fillpattern\":{\"fillmode\":\"overlay\",\"size\":10,\"solidity\":0.2},\"type\":\"scatter\"}],\"parcoords\":[{\"type\":\"parcoords\",\"line\":{\"colorbar\":{\"outlinewidth\":0,\"ticks\":\"\"}}}],\"scatterpolargl\":[{\"type\":\"scatterpolargl\",\"marker\":{\"colorbar\":{\"outlinewidth\":0,\"ticks\":\"\"}}}],\"bar\":[{\"error_x\":{\"color\":\"#2a3f5f\"},\"error_y\":{\"color\":\"#2a3f5f\"},\"marker\":{\"line\":{\"color\":\"#E5ECF6\",\"width\":0.5},\"pattern\":{\"fillmode\":\"overlay\",\"size\":10,\"solidity\":0.2}},\"type\":\"bar\"}],\"scattergeo\":[{\"type\":\"scattergeo\",\"marker\":{\"colorbar\":{\"outlinewidth\":0,\"ticks\":\"\"}}}],\"scatterpolar\":[{\"type\":\"scatterpolar\",\"marker\":{\"colorbar\":{\"outlinewidth\":0,\"ticks\":\"\"}}}],\"histogram\":[{\"marker\":{\"pattern\":{\"fillmode\":\"overlay\",\"size\":10,\"solidity\":0.2}},\"type\":\"histogram\"}],\"scattergl\":[{\"type\":\"scattergl\",\"marker\":{\"colorbar\":{\"outlinewidth\":0,\"ticks\":\"\"}}}],\"scatter3d\":[{\"type\":\"scatter3d\",\"line\":{\"colorbar\":{\"outlinewidth\":0,\"ticks\":\"\"}},\"marker\":{\"colorbar\":{\"outlinewidth\":0,\"ticks\":\"\"}}}],\"scattermapbox\":[{\"type\":\"scattermapbox\",\"marker\":{\"colorbar\":{\"outlinewidth\":0,\"ticks\":\"\"}}}],\"scatterternary\":[{\"type\":\"scatterternary\",\"marker\":{\"colorbar\":{\"outlinewidth\":0,\"ticks\":\"\"}}}],\"scattercarpet\":[{\"type\":\"scattercarpet\",\"marker\":{\"colorbar\":{\"outlinewidth\":0,\"ticks\":\"\"}}}],\"carpet\":[{\"aaxis\":{\"endlinecolor\":\"#2a3f5f\",\"gridcolor\":\"white\",\"linecolor\":\"white\",\"minorgridcolor\":\"white\",\"startlinecolor\":\"#2a3f5f\"},\"baxis\":{\"endlinecolor\":\"#2a3f5f\",\"gridcolor\":\"white\",\"linecolor\":\"white\",\"minorgridcolor\":\"white\",\"startlinecolor\":\"#2a3f5f\"},\"type\":\"carpet\"}],\"table\":[{\"cells\":{\"fill\":{\"color\":\"#EBF0F8\"},\"line\":{\"color\":\"white\"}},\"header\":{\"fill\":{\"color\":\"#C8D4E3\"},\"line\":{\"color\":\"white\"}},\"type\":\"table\"}],\"barpolar\":[{\"marker\":{\"line\":{\"color\":\"#E5ECF6\",\"width\":0.5},\"pattern\":{\"fillmode\":\"overlay\",\"size\":10,\"solidity\":0.2}},\"type\":\"barpolar\"}],\"pie\":[{\"automargin\":true,\"type\":\"pie\"}]},\"layout\":{\"autotypenumbers\":\"strict\",\"colorway\":[\"#636efa\",\"#EF553B\",\"#00cc96\",\"#ab63fa\",\"#FFA15A\",\"#19d3f3\",\"#FF6692\",\"#B6E880\",\"#FF97FF\",\"#FECB52\"],\"font\":{\"color\":\"#2a3f5f\"},\"hovermode\":\"closest\",\"hoverlabel\":{\"align\":\"left\"},\"paper_bgcolor\":\"white\",\"plot_bgcolor\":\"#E5ECF6\",\"polar\":{\"bgcolor\":\"#E5ECF6\",\"angularaxis\":{\"gridcolor\":\"white\",\"linecolor\":\"white\",\"ticks\":\"\"},\"radialaxis\":{\"gridcolor\":\"white\",\"linecolor\":\"white\",\"ticks\":\"\"}},\"ternary\":{\"bgcolor\":\"#E5ECF6\",\"aaxis\":{\"gridcolor\":\"white\",\"linecolor\":\"white\",\"ticks\":\"\"},\"baxis\":{\"gridcolor\":\"white\",\"linecolor\":\"white\",\"ticks\":\"\"},\"caxis\":{\"gridcolor\":\"white\",\"linecolor\":\"white\",\"ticks\":\"\"}},\"coloraxis\":{\"colorbar\":{\"outlinewidth\":0,\"ticks\":\"\"}},\"colorscale\":{\"sequential\":[[0.0,\"#0d0887\"],[0.1111111111111111,\"#46039f\"],[0.2222222222222222,\"#7201a8\"],[0.3333333333333333,\"#9c179e\"],[0.4444444444444444,\"#bd3786\"],[0.5555555555555556,\"#d8576b\"],[0.6666666666666666,\"#ed7953\"],[0.7777777777777778,\"#fb9f3a\"],[0.8888888888888888,\"#fdca26\"],[1.0,\"#f0f921\"]],\"sequentialminus\":[[0.0,\"#0d0887\"],[0.1111111111111111,\"#46039f\"],[0.2222222222222222,\"#7201a8\"],[0.3333333333333333,\"#9c179e\"],[0.4444444444444444,\"#bd3786\"],[0.5555555555555556,\"#d8576b\"],[0.6666666666666666,\"#ed7953\"],[0.7777777777777778,\"#fb9f3a\"],[0.8888888888888888,\"#fdca26\"],[1.0,\"#f0f921\"]],\"diverging\":[[0,\"#8e0152\"],[0.1,\"#c51b7d\"],[0.2,\"#de77ae\"],[0.3,\"#f1b6da\"],[0.4,\"#fde0ef\"],[0.5,\"#f7f7f7\"],[0.6,\"#e6f5d0\"],[0.7,\"#b8e186\"],[0.8,\"#7fbc41\"],[0.9,\"#4d9221\"],[1,\"#276419\"]]},\"xaxis\":{\"gridcolor\":\"white\",\"linecolor\":\"white\",\"ticks\":\"\",\"title\":{\"standoff\":15},\"zerolinecolor\":\"white\",\"automargin\":true,\"zerolinewidth\":2},\"yaxis\":{\"gridcolor\":\"white\",\"linecolor\":\"white\",\"ticks\":\"\",\"title\":{\"standoff\":15},\"zerolinecolor\":\"white\",\"automargin\":true,\"zerolinewidth\":2},\"scene\":{\"xaxis\":{\"backgroundcolor\":\"#E5ECF6\",\"gridcolor\":\"white\",\"linecolor\":\"white\",\"showbackground\":true,\"ticks\":\"\",\"zerolinecolor\":\"white\",\"gridwidth\":2},\"yaxis\":{\"backgroundcolor\":\"#E5ECF6\",\"gridcolor\":\"white\",\"linecolor\":\"white\",\"showbackground\":true,\"ticks\":\"\",\"zerolinecolor\":\"white\",\"gridwidth\":2},\"zaxis\":{\"backgroundcolor\":\"#E5ECF6\",\"gridcolor\":\"white\",\"linecolor\":\"white\",\"showbackground\":true,\"ticks\":\"\",\"zerolinecolor\":\"white\",\"gridwidth\":2}},\"shapedefaults\":{\"line\":{\"color\":\"#2a3f5f\"}},\"annotationdefaults\":{\"arrowcolor\":\"#2a3f5f\",\"arrowhead\":0,\"arrowwidth\":1},\"geo\":{\"bgcolor\":\"white\",\"landcolor\":\"#E5ECF6\",\"subunitcolor\":\"white\",\"showland\":true,\"showlakes\":true,\"lakecolor\":\"white\"},\"title\":{\"x\":0.05},\"mapbox\":{\"style\":\"light\"}}}},                        {\"responsive\": true}                    ).then(function(){\n",
              "                            \n",
              "var gd = document.getElementById('335effb0-b537-4fc0-82af-572542e28921');\n",
              "var x = new MutationObserver(function (mutations, observer) {{\n",
              "        var display = window.getComputedStyle(gd).display;\n",
              "        if (!display || display === 'none') {{\n",
              "            console.log([gd, 'removed!']);\n",
              "            Plotly.purge(gd);\n",
              "            observer.disconnect();\n",
              "        }}\n",
              "}});\n",
              "\n",
              "// Listen for the removal of the full notebook cells\n",
              "var notebookContainer = gd.closest('#notebook-container');\n",
              "if (notebookContainer) {{\n",
              "    x.observe(notebookContainer, {childList: true});\n",
              "}}\n",
              "\n",
              "// Listen for the clearing of the current output cell\n",
              "var outputEl = gd.closest('.output');\n",
              "if (outputEl) {{\n",
              "    x.observe(outputEl, {childList: true});\n",
              "}}\n",
              "\n",
              "                        })                };                            </script>        </div>\n",
              "</body>\n",
              "</html>"
            ]
          },
          "metadata": {}
        }
      ],
      "source": [
        "import matplotlib.pyplot as plt\n",
        "optuna.visualization.plot_optimization_history(study).show()"
      ],
      "id": "0b9cdb24"
    },
    {
      "cell_type": "code",
      "execution_count": null,
      "metadata": {
        "colab": {
          "base_uri": "https://localhost:8080/",
          "height": 542
        },
        "id": "LAudMZWRRq53",
        "outputId": "b11aa150-013f-4890-a5b8-5c532beabff1"
      },
      "outputs": [
        {
          "output_type": "display_data",
          "data": {
            "text/html": [
              "<html>\n",
              "<head><meta charset=\"utf-8\" /></head>\n",
              "<body>\n",
              "    <div>            <script src=\"https://cdnjs.cloudflare.com/ajax/libs/mathjax/2.7.5/MathJax.js?config=TeX-AMS-MML_SVG\"></script><script type=\"text/javascript\">if (window.MathJax && window.MathJax.Hub && window.MathJax.Hub.Config) {window.MathJax.Hub.Config({SVG: {font: \"STIX-Web\"}});}</script>                <script type=\"text/javascript\">window.PlotlyConfig = {MathJaxConfig: 'local'};</script>\n",
              "        <script src=\"https://cdn.plot.ly/plotly-2.18.2.min.js\"></script>                <div id=\"252d5ece-d4cf-4c85-9d45-10d1b74440ff\" class=\"plotly-graph-div\" style=\"height:525px; width:100%;\"></div>            <script type=\"text/javascript\">                                    window.PLOTLYENV=window.PLOTLYENV || {};                                    if (document.getElementById(\"252d5ece-d4cf-4c85-9d45-10d1b74440ff\")) {                    Plotly.newPlot(                        \"252d5ece-d4cf-4c85-9d45-10d1b74440ff\",                        [{\"dimensions\":[{\"label\":\"Objective Value\",\"range\":[0.9100027127330522,0.9945037903238102],\"values\":[0.9862417824844262,0.9578125572384217,0.9521367536353321,0.9578125572384217,0.9409375760276238,0.9888889952349619,0.9860572025994069,0.9490429418332509,0.9925038981060487,0.9871488698476684,0.9703779223957257,0.9100027127330522,0.9745498286262014,0.992660027264966,0.9766858611305173,0.9938870300428714,0.9670505762007622,0.9814563750450978,0.9945037903238102,0.9689535688253589,0.9940207108273046,0.9940207108273046,0.9823713426613354,0.9876323552457902,0.9776050357949906,0.9937425942438435,0.9888502802985101,0.9859287282708764,0.9692187583816155,0.9858774474190187]},{\"label\":\"rf__max_depth\",\"range\":[6,50],\"values\":[14,30,29,34,34,34,40,46,29,17,19,6,22,49,48,40,43,40,48,41,50,50,50,44,50,45,46,37,25,47]},{\"label\":\"rf__max_features\",\"range\":[0.10826671304490143,0.9209109783757075],\"values\":[0.9209109783757075,0.5034861430001488,0.33988753261747723,0.505960651026708,0.11969487436174514,0.20401911052827054,0.6048638782047286,0.39074861700904007,0.22271922219758494,0.24750963577459342,0.11272713464134664,0.2314027473471144,0.26516382356905455,0.13703413227922873,0.10826671304490143,0.3925628106160764,0.40329161401187497,0.6278246605375857,0.3227761167188885,0.3431294942159243,0.45972299864189614,0.4581837421208954,0.44657607296669344,0.5878549457553152,0.5002499649076306,0.6601094115013549,0.3175943510822437,0.4406864296168227,0.29699318417344917,0.6838326018979484]},{\"label\":\"rf__min_samples_l...\",\"range\":[1,60],\"values\":[12,46,51,46,50,7,13,60,4,9,26,3,25,3,18,2,36,19,1,35,1,1,16,9,23,1,7,12,32,13]}],\"labelangle\":30,\"labelside\":\"bottom\",\"line\":{\"color\":[0.9862417824844262,0.9578125572384217,0.9521367536353321,0.9578125572384217,0.9409375760276238,0.9888889952349619,0.9860572025994069,0.9490429418332509,0.9925038981060487,0.9871488698476684,0.9703779223957257,0.9100027127330522,0.9745498286262014,0.992660027264966,0.9766858611305173,0.9938870300428714,0.9670505762007622,0.9814563750450978,0.9945037903238102,0.9689535688253589,0.9940207108273046,0.9940207108273046,0.9823713426613354,0.9876323552457902,0.9776050357949906,0.9937425942438435,0.9888502802985101,0.9859287282708764,0.9692187583816155,0.9858774474190187],\"colorbar\":{\"title\":{\"text\":\"Objective Value\"}},\"colorscale\":[[0.0,\"rgb(247,251,255)\"],[0.125,\"rgb(222,235,247)\"],[0.25,\"rgb(198,219,239)\"],[0.375,\"rgb(158,202,225)\"],[0.5,\"rgb(107,174,214)\"],[0.625,\"rgb(66,146,198)\"],[0.75,\"rgb(33,113,181)\"],[0.875,\"rgb(8,81,156)\"],[1.0,\"rgb(8,48,107)\"]],\"reversescale\":false,\"showscale\":true},\"type\":\"parcoords\"}],                        {\"title\":{\"text\":\"Parallel Coordinate Plot\"},\"template\":{\"data\":{\"histogram2dcontour\":[{\"type\":\"histogram2dcontour\",\"colorbar\":{\"outlinewidth\":0,\"ticks\":\"\"},\"colorscale\":[[0.0,\"#0d0887\"],[0.1111111111111111,\"#46039f\"],[0.2222222222222222,\"#7201a8\"],[0.3333333333333333,\"#9c179e\"],[0.4444444444444444,\"#bd3786\"],[0.5555555555555556,\"#d8576b\"],[0.6666666666666666,\"#ed7953\"],[0.7777777777777778,\"#fb9f3a\"],[0.8888888888888888,\"#fdca26\"],[1.0,\"#f0f921\"]]}],\"choropleth\":[{\"type\":\"choropleth\",\"colorbar\":{\"outlinewidth\":0,\"ticks\":\"\"}}],\"histogram2d\":[{\"type\":\"histogram2d\",\"colorbar\":{\"outlinewidth\":0,\"ticks\":\"\"},\"colorscale\":[[0.0,\"#0d0887\"],[0.1111111111111111,\"#46039f\"],[0.2222222222222222,\"#7201a8\"],[0.3333333333333333,\"#9c179e\"],[0.4444444444444444,\"#bd3786\"],[0.5555555555555556,\"#d8576b\"],[0.6666666666666666,\"#ed7953\"],[0.7777777777777778,\"#fb9f3a\"],[0.8888888888888888,\"#fdca26\"],[1.0,\"#f0f921\"]]}],\"heatmap\":[{\"type\":\"heatmap\",\"colorbar\":{\"outlinewidth\":0,\"ticks\":\"\"},\"colorscale\":[[0.0,\"#0d0887\"],[0.1111111111111111,\"#46039f\"],[0.2222222222222222,\"#7201a8\"],[0.3333333333333333,\"#9c179e\"],[0.4444444444444444,\"#bd3786\"],[0.5555555555555556,\"#d8576b\"],[0.6666666666666666,\"#ed7953\"],[0.7777777777777778,\"#fb9f3a\"],[0.8888888888888888,\"#fdca26\"],[1.0,\"#f0f921\"]]}],\"heatmapgl\":[{\"type\":\"heatmapgl\",\"colorbar\":{\"outlinewidth\":0,\"ticks\":\"\"},\"colorscale\":[[0.0,\"#0d0887\"],[0.1111111111111111,\"#46039f\"],[0.2222222222222222,\"#7201a8\"],[0.3333333333333333,\"#9c179e\"],[0.4444444444444444,\"#bd3786\"],[0.5555555555555556,\"#d8576b\"],[0.6666666666666666,\"#ed7953\"],[0.7777777777777778,\"#fb9f3a\"],[0.8888888888888888,\"#fdca26\"],[1.0,\"#f0f921\"]]}],\"contourcarpet\":[{\"type\":\"contourcarpet\",\"colorbar\":{\"outlinewidth\":0,\"ticks\":\"\"}}],\"contour\":[{\"type\":\"contour\",\"colorbar\":{\"outlinewidth\":0,\"ticks\":\"\"},\"colorscale\":[[0.0,\"#0d0887\"],[0.1111111111111111,\"#46039f\"],[0.2222222222222222,\"#7201a8\"],[0.3333333333333333,\"#9c179e\"],[0.4444444444444444,\"#bd3786\"],[0.5555555555555556,\"#d8576b\"],[0.6666666666666666,\"#ed7953\"],[0.7777777777777778,\"#fb9f3a\"],[0.8888888888888888,\"#fdca26\"],[1.0,\"#f0f921\"]]}],\"surface\":[{\"type\":\"surface\",\"colorbar\":{\"outlinewidth\":0,\"ticks\":\"\"},\"colorscale\":[[0.0,\"#0d0887\"],[0.1111111111111111,\"#46039f\"],[0.2222222222222222,\"#7201a8\"],[0.3333333333333333,\"#9c179e\"],[0.4444444444444444,\"#bd3786\"],[0.5555555555555556,\"#d8576b\"],[0.6666666666666666,\"#ed7953\"],[0.7777777777777778,\"#fb9f3a\"],[0.8888888888888888,\"#fdca26\"],[1.0,\"#f0f921\"]]}],\"mesh3d\":[{\"type\":\"mesh3d\",\"colorbar\":{\"outlinewidth\":0,\"ticks\":\"\"}}],\"scatter\":[{\"fillpattern\":{\"fillmode\":\"overlay\",\"size\":10,\"solidity\":0.2},\"type\":\"scatter\"}],\"parcoords\":[{\"type\":\"parcoords\",\"line\":{\"colorbar\":{\"outlinewidth\":0,\"ticks\":\"\"}}}],\"scatterpolargl\":[{\"type\":\"scatterpolargl\",\"marker\":{\"colorbar\":{\"outlinewidth\":0,\"ticks\":\"\"}}}],\"bar\":[{\"error_x\":{\"color\":\"#2a3f5f\"},\"error_y\":{\"color\":\"#2a3f5f\"},\"marker\":{\"line\":{\"color\":\"#E5ECF6\",\"width\":0.5},\"pattern\":{\"fillmode\":\"overlay\",\"size\":10,\"solidity\":0.2}},\"type\":\"bar\"}],\"scattergeo\":[{\"type\":\"scattergeo\",\"marker\":{\"colorbar\":{\"outlinewidth\":0,\"ticks\":\"\"}}}],\"scatterpolar\":[{\"type\":\"scatterpolar\",\"marker\":{\"colorbar\":{\"outlinewidth\":0,\"ticks\":\"\"}}}],\"histogram\":[{\"marker\":{\"pattern\":{\"fillmode\":\"overlay\",\"size\":10,\"solidity\":0.2}},\"type\":\"histogram\"}],\"scattergl\":[{\"type\":\"scattergl\",\"marker\":{\"colorbar\":{\"outlinewidth\":0,\"ticks\":\"\"}}}],\"scatter3d\":[{\"type\":\"scatter3d\",\"line\":{\"colorbar\":{\"outlinewidth\":0,\"ticks\":\"\"}},\"marker\":{\"colorbar\":{\"outlinewidth\":0,\"ticks\":\"\"}}}],\"scattermapbox\":[{\"type\":\"scattermapbox\",\"marker\":{\"colorbar\":{\"outlinewidth\":0,\"ticks\":\"\"}}}],\"scatterternary\":[{\"type\":\"scatterternary\",\"marker\":{\"colorbar\":{\"outlinewidth\":0,\"ticks\":\"\"}}}],\"scattercarpet\":[{\"type\":\"scattercarpet\",\"marker\":{\"colorbar\":{\"outlinewidth\":0,\"ticks\":\"\"}}}],\"carpet\":[{\"aaxis\":{\"endlinecolor\":\"#2a3f5f\",\"gridcolor\":\"white\",\"linecolor\":\"white\",\"minorgridcolor\":\"white\",\"startlinecolor\":\"#2a3f5f\"},\"baxis\":{\"endlinecolor\":\"#2a3f5f\",\"gridcolor\":\"white\",\"linecolor\":\"white\",\"minorgridcolor\":\"white\",\"startlinecolor\":\"#2a3f5f\"},\"type\":\"carpet\"}],\"table\":[{\"cells\":{\"fill\":{\"color\":\"#EBF0F8\"},\"line\":{\"color\":\"white\"}},\"header\":{\"fill\":{\"color\":\"#C8D4E3\"},\"line\":{\"color\":\"white\"}},\"type\":\"table\"}],\"barpolar\":[{\"marker\":{\"line\":{\"color\":\"#E5ECF6\",\"width\":0.5},\"pattern\":{\"fillmode\":\"overlay\",\"size\":10,\"solidity\":0.2}},\"type\":\"barpolar\"}],\"pie\":[{\"automargin\":true,\"type\":\"pie\"}]},\"layout\":{\"autotypenumbers\":\"strict\",\"colorway\":[\"#636efa\",\"#EF553B\",\"#00cc96\",\"#ab63fa\",\"#FFA15A\",\"#19d3f3\",\"#FF6692\",\"#B6E880\",\"#FF97FF\",\"#FECB52\"],\"font\":{\"color\":\"#2a3f5f\"},\"hovermode\":\"closest\",\"hoverlabel\":{\"align\":\"left\"},\"paper_bgcolor\":\"white\",\"plot_bgcolor\":\"#E5ECF6\",\"polar\":{\"bgcolor\":\"#E5ECF6\",\"angularaxis\":{\"gridcolor\":\"white\",\"linecolor\":\"white\",\"ticks\":\"\"},\"radialaxis\":{\"gridcolor\":\"white\",\"linecolor\":\"white\",\"ticks\":\"\"}},\"ternary\":{\"bgcolor\":\"#E5ECF6\",\"aaxis\":{\"gridcolor\":\"white\",\"linecolor\":\"white\",\"ticks\":\"\"},\"baxis\":{\"gridcolor\":\"white\",\"linecolor\":\"white\",\"ticks\":\"\"},\"caxis\":{\"gridcolor\":\"white\",\"linecolor\":\"white\",\"ticks\":\"\"}},\"coloraxis\":{\"colorbar\":{\"outlinewidth\":0,\"ticks\":\"\"}},\"colorscale\":{\"sequential\":[[0.0,\"#0d0887\"],[0.1111111111111111,\"#46039f\"],[0.2222222222222222,\"#7201a8\"],[0.3333333333333333,\"#9c179e\"],[0.4444444444444444,\"#bd3786\"],[0.5555555555555556,\"#d8576b\"],[0.6666666666666666,\"#ed7953\"],[0.7777777777777778,\"#fb9f3a\"],[0.8888888888888888,\"#fdca26\"],[1.0,\"#f0f921\"]],\"sequentialminus\":[[0.0,\"#0d0887\"],[0.1111111111111111,\"#46039f\"],[0.2222222222222222,\"#7201a8\"],[0.3333333333333333,\"#9c179e\"],[0.4444444444444444,\"#bd3786\"],[0.5555555555555556,\"#d8576b\"],[0.6666666666666666,\"#ed7953\"],[0.7777777777777778,\"#fb9f3a\"],[0.8888888888888888,\"#fdca26\"],[1.0,\"#f0f921\"]],\"diverging\":[[0,\"#8e0152\"],[0.1,\"#c51b7d\"],[0.2,\"#de77ae\"],[0.3,\"#f1b6da\"],[0.4,\"#fde0ef\"],[0.5,\"#f7f7f7\"],[0.6,\"#e6f5d0\"],[0.7,\"#b8e186\"],[0.8,\"#7fbc41\"],[0.9,\"#4d9221\"],[1,\"#276419\"]]},\"xaxis\":{\"gridcolor\":\"white\",\"linecolor\":\"white\",\"ticks\":\"\",\"title\":{\"standoff\":15},\"zerolinecolor\":\"white\",\"automargin\":true,\"zerolinewidth\":2},\"yaxis\":{\"gridcolor\":\"white\",\"linecolor\":\"white\",\"ticks\":\"\",\"title\":{\"standoff\":15},\"zerolinecolor\":\"white\",\"automargin\":true,\"zerolinewidth\":2},\"scene\":{\"xaxis\":{\"backgroundcolor\":\"#E5ECF6\",\"gridcolor\":\"white\",\"linecolor\":\"white\",\"showbackground\":true,\"ticks\":\"\",\"zerolinecolor\":\"white\",\"gridwidth\":2},\"yaxis\":{\"backgroundcolor\":\"#E5ECF6\",\"gridcolor\":\"white\",\"linecolor\":\"white\",\"showbackground\":true,\"ticks\":\"\",\"zerolinecolor\":\"white\",\"gridwidth\":2},\"zaxis\":{\"backgroundcolor\":\"#E5ECF6\",\"gridcolor\":\"white\",\"linecolor\":\"white\",\"showbackground\":true,\"ticks\":\"\",\"zerolinecolor\":\"white\",\"gridwidth\":2}},\"shapedefaults\":{\"line\":{\"color\":\"#2a3f5f\"}},\"annotationdefaults\":{\"arrowcolor\":\"#2a3f5f\",\"arrowhead\":0,\"arrowwidth\":1},\"geo\":{\"bgcolor\":\"white\",\"landcolor\":\"#E5ECF6\",\"subunitcolor\":\"white\",\"showland\":true,\"showlakes\":true,\"lakecolor\":\"white\"},\"title\":{\"x\":0.05},\"mapbox\":{\"style\":\"light\"}}}},                        {\"responsive\": true}                    ).then(function(){\n",
              "                            \n",
              "var gd = document.getElementById('252d5ece-d4cf-4c85-9d45-10d1b74440ff');\n",
              "var x = new MutationObserver(function (mutations, observer) {{\n",
              "        var display = window.getComputedStyle(gd).display;\n",
              "        if (!display || display === 'none') {{\n",
              "            console.log([gd, 'removed!']);\n",
              "            Plotly.purge(gd);\n",
              "            observer.disconnect();\n",
              "        }}\n",
              "}});\n",
              "\n",
              "// Listen for the removal of the full notebook cells\n",
              "var notebookContainer = gd.closest('#notebook-container');\n",
              "if (notebookContainer) {{\n",
              "    x.observe(notebookContainer, {childList: true});\n",
              "}}\n",
              "\n",
              "// Listen for the clearing of the current output cell\n",
              "var outputEl = gd.closest('.output');\n",
              "if (outputEl) {{\n",
              "    x.observe(outputEl, {childList: true});\n",
              "}}\n",
              "\n",
              "                        })                };                            </script>        </div>\n",
              "</body>\n",
              "</html>"
            ]
          },
          "metadata": {}
        }
      ],
      "source": [
        "from optuna.visualization import plot_parallel_coordinate\n",
        "plot_parallel_coordinate(study)"
      ],
      "id": "LAudMZWRRq53"
    },
    {
      "cell_type": "code",
      "execution_count": null,
      "metadata": {
        "colab": {
          "base_uri": "https://localhost:8080/",
          "height": 542
        },
        "id": "2-LMohnKR-EM",
        "outputId": "63a0c0a9-b0ed-4e2c-e252-ae07692ef1d1"
      },
      "outputs": [
        {
          "output_type": "display_data",
          "data": {
            "text/html": [
              "<html>\n",
              "<head><meta charset=\"utf-8\" /></head>\n",
              "<body>\n",
              "    <div>            <script src=\"https://cdnjs.cloudflare.com/ajax/libs/mathjax/2.7.5/MathJax.js?config=TeX-AMS-MML_SVG\"></script><script type=\"text/javascript\">if (window.MathJax && window.MathJax.Hub && window.MathJax.Hub.Config) {window.MathJax.Hub.Config({SVG: {font: \"STIX-Web\"}});}</script>                <script type=\"text/javascript\">window.PlotlyConfig = {MathJaxConfig: 'local'};</script>\n",
              "        <script src=\"https://cdn.plot.ly/plotly-2.18.2.min.js\"></script>                <div id=\"a2bf81bf-1bec-4b2c-87b8-87a8d3a892c0\" class=\"plotly-graph-div\" style=\"height:525px; width:100%;\"></div>            <script type=\"text/javascript\">                                    window.PLOTLYENV=window.PLOTLYENV || {};                                    if (document.getElementById(\"a2bf81bf-1bec-4b2c-87b8-87a8d3a892c0\")) {                    Plotly.newPlot(                        \"a2bf81bf-1bec-4b2c-87b8-87a8d3a892c0\",                        [{\"cliponaxis\":false,\"hovertemplate\":[\"rf__max_features (FloatDistribution): 0.011453711713359334<extra></extra>\",\"rf__max_depth (IntDistribution): 0.42525462922433444<extra></extra>\",\"rf__min_samples_leaf (IntDistribution): 0.5632916590623063<extra></extra>\"],\"marker\":{\"color\":\"rgb(66,146,198)\"},\"orientation\":\"h\",\"text\":[\"0.01\",\"0.43\",\"0.56\"],\"textposition\":\"outside\",\"x\":[0.011453711713359334,0.42525462922433444,0.5632916590623063],\"y\":[\"rf__max_features\",\"rf__max_depth\",\"rf__min_samples_leaf\"],\"type\":\"bar\"}],                        {\"showlegend\":false,\"title\":{\"text\":\"Hyperparameter Importances\"},\"xaxis\":{\"title\":{\"text\":\"Importance for Objective Value\"}},\"yaxis\":{\"title\":{\"text\":\"Hyperparameter\"}},\"template\":{\"data\":{\"histogram2dcontour\":[{\"type\":\"histogram2dcontour\",\"colorbar\":{\"outlinewidth\":0,\"ticks\":\"\"},\"colorscale\":[[0.0,\"#0d0887\"],[0.1111111111111111,\"#46039f\"],[0.2222222222222222,\"#7201a8\"],[0.3333333333333333,\"#9c179e\"],[0.4444444444444444,\"#bd3786\"],[0.5555555555555556,\"#d8576b\"],[0.6666666666666666,\"#ed7953\"],[0.7777777777777778,\"#fb9f3a\"],[0.8888888888888888,\"#fdca26\"],[1.0,\"#f0f921\"]]}],\"choropleth\":[{\"type\":\"choropleth\",\"colorbar\":{\"outlinewidth\":0,\"ticks\":\"\"}}],\"histogram2d\":[{\"type\":\"histogram2d\",\"colorbar\":{\"outlinewidth\":0,\"ticks\":\"\"},\"colorscale\":[[0.0,\"#0d0887\"],[0.1111111111111111,\"#46039f\"],[0.2222222222222222,\"#7201a8\"],[0.3333333333333333,\"#9c179e\"],[0.4444444444444444,\"#bd3786\"],[0.5555555555555556,\"#d8576b\"],[0.6666666666666666,\"#ed7953\"],[0.7777777777777778,\"#fb9f3a\"],[0.8888888888888888,\"#fdca26\"],[1.0,\"#f0f921\"]]}],\"heatmap\":[{\"type\":\"heatmap\",\"colorbar\":{\"outlinewidth\":0,\"ticks\":\"\"},\"colorscale\":[[0.0,\"#0d0887\"],[0.1111111111111111,\"#46039f\"],[0.2222222222222222,\"#7201a8\"],[0.3333333333333333,\"#9c179e\"],[0.4444444444444444,\"#bd3786\"],[0.5555555555555556,\"#d8576b\"],[0.6666666666666666,\"#ed7953\"],[0.7777777777777778,\"#fb9f3a\"],[0.8888888888888888,\"#fdca26\"],[1.0,\"#f0f921\"]]}],\"heatmapgl\":[{\"type\":\"heatmapgl\",\"colorbar\":{\"outlinewidth\":0,\"ticks\":\"\"},\"colorscale\":[[0.0,\"#0d0887\"],[0.1111111111111111,\"#46039f\"],[0.2222222222222222,\"#7201a8\"],[0.3333333333333333,\"#9c179e\"],[0.4444444444444444,\"#bd3786\"],[0.5555555555555556,\"#d8576b\"],[0.6666666666666666,\"#ed7953\"],[0.7777777777777778,\"#fb9f3a\"],[0.8888888888888888,\"#fdca26\"],[1.0,\"#f0f921\"]]}],\"contourcarpet\":[{\"type\":\"contourcarpet\",\"colorbar\":{\"outlinewidth\":0,\"ticks\":\"\"}}],\"contour\":[{\"type\":\"contour\",\"colorbar\":{\"outlinewidth\":0,\"ticks\":\"\"},\"colorscale\":[[0.0,\"#0d0887\"],[0.1111111111111111,\"#46039f\"],[0.2222222222222222,\"#7201a8\"],[0.3333333333333333,\"#9c179e\"],[0.4444444444444444,\"#bd3786\"],[0.5555555555555556,\"#d8576b\"],[0.6666666666666666,\"#ed7953\"],[0.7777777777777778,\"#fb9f3a\"],[0.8888888888888888,\"#fdca26\"],[1.0,\"#f0f921\"]]}],\"surface\":[{\"type\":\"surface\",\"colorbar\":{\"outlinewidth\":0,\"ticks\":\"\"},\"colorscale\":[[0.0,\"#0d0887\"],[0.1111111111111111,\"#46039f\"],[0.2222222222222222,\"#7201a8\"],[0.3333333333333333,\"#9c179e\"],[0.4444444444444444,\"#bd3786\"],[0.5555555555555556,\"#d8576b\"],[0.6666666666666666,\"#ed7953\"],[0.7777777777777778,\"#fb9f3a\"],[0.8888888888888888,\"#fdca26\"],[1.0,\"#f0f921\"]]}],\"mesh3d\":[{\"type\":\"mesh3d\",\"colorbar\":{\"outlinewidth\":0,\"ticks\":\"\"}}],\"scatter\":[{\"fillpattern\":{\"fillmode\":\"overlay\",\"size\":10,\"solidity\":0.2},\"type\":\"scatter\"}],\"parcoords\":[{\"type\":\"parcoords\",\"line\":{\"colorbar\":{\"outlinewidth\":0,\"ticks\":\"\"}}}],\"scatterpolargl\":[{\"type\":\"scatterpolargl\",\"marker\":{\"colorbar\":{\"outlinewidth\":0,\"ticks\":\"\"}}}],\"bar\":[{\"error_x\":{\"color\":\"#2a3f5f\"},\"error_y\":{\"color\":\"#2a3f5f\"},\"marker\":{\"line\":{\"color\":\"#E5ECF6\",\"width\":0.5},\"pattern\":{\"fillmode\":\"overlay\",\"size\":10,\"solidity\":0.2}},\"type\":\"bar\"}],\"scattergeo\":[{\"type\":\"scattergeo\",\"marker\":{\"colorbar\":{\"outlinewidth\":0,\"ticks\":\"\"}}}],\"scatterpolar\":[{\"type\":\"scatterpolar\",\"marker\":{\"colorbar\":{\"outlinewidth\":0,\"ticks\":\"\"}}}],\"histogram\":[{\"marker\":{\"pattern\":{\"fillmode\":\"overlay\",\"size\":10,\"solidity\":0.2}},\"type\":\"histogram\"}],\"scattergl\":[{\"type\":\"scattergl\",\"marker\":{\"colorbar\":{\"outlinewidth\":0,\"ticks\":\"\"}}}],\"scatter3d\":[{\"type\":\"scatter3d\",\"line\":{\"colorbar\":{\"outlinewidth\":0,\"ticks\":\"\"}},\"marker\":{\"colorbar\":{\"outlinewidth\":0,\"ticks\":\"\"}}}],\"scattermapbox\":[{\"type\":\"scattermapbox\",\"marker\":{\"colorbar\":{\"outlinewidth\":0,\"ticks\":\"\"}}}],\"scatterternary\":[{\"type\":\"scatterternary\",\"marker\":{\"colorbar\":{\"outlinewidth\":0,\"ticks\":\"\"}}}],\"scattercarpet\":[{\"type\":\"scattercarpet\",\"marker\":{\"colorbar\":{\"outlinewidth\":0,\"ticks\":\"\"}}}],\"carpet\":[{\"aaxis\":{\"endlinecolor\":\"#2a3f5f\",\"gridcolor\":\"white\",\"linecolor\":\"white\",\"minorgridcolor\":\"white\",\"startlinecolor\":\"#2a3f5f\"},\"baxis\":{\"endlinecolor\":\"#2a3f5f\",\"gridcolor\":\"white\",\"linecolor\":\"white\",\"minorgridcolor\":\"white\",\"startlinecolor\":\"#2a3f5f\"},\"type\":\"carpet\"}],\"table\":[{\"cells\":{\"fill\":{\"color\":\"#EBF0F8\"},\"line\":{\"color\":\"white\"}},\"header\":{\"fill\":{\"color\":\"#C8D4E3\"},\"line\":{\"color\":\"white\"}},\"type\":\"table\"}],\"barpolar\":[{\"marker\":{\"line\":{\"color\":\"#E5ECF6\",\"width\":0.5},\"pattern\":{\"fillmode\":\"overlay\",\"size\":10,\"solidity\":0.2}},\"type\":\"barpolar\"}],\"pie\":[{\"automargin\":true,\"type\":\"pie\"}]},\"layout\":{\"autotypenumbers\":\"strict\",\"colorway\":[\"#636efa\",\"#EF553B\",\"#00cc96\",\"#ab63fa\",\"#FFA15A\",\"#19d3f3\",\"#FF6692\",\"#B6E880\",\"#FF97FF\",\"#FECB52\"],\"font\":{\"color\":\"#2a3f5f\"},\"hovermode\":\"closest\",\"hoverlabel\":{\"align\":\"left\"},\"paper_bgcolor\":\"white\",\"plot_bgcolor\":\"#E5ECF6\",\"polar\":{\"bgcolor\":\"#E5ECF6\",\"angularaxis\":{\"gridcolor\":\"white\",\"linecolor\":\"white\",\"ticks\":\"\"},\"radialaxis\":{\"gridcolor\":\"white\",\"linecolor\":\"white\",\"ticks\":\"\"}},\"ternary\":{\"bgcolor\":\"#E5ECF6\",\"aaxis\":{\"gridcolor\":\"white\",\"linecolor\":\"white\",\"ticks\":\"\"},\"baxis\":{\"gridcolor\":\"white\",\"linecolor\":\"white\",\"ticks\":\"\"},\"caxis\":{\"gridcolor\":\"white\",\"linecolor\":\"white\",\"ticks\":\"\"}},\"coloraxis\":{\"colorbar\":{\"outlinewidth\":0,\"ticks\":\"\"}},\"colorscale\":{\"sequential\":[[0.0,\"#0d0887\"],[0.1111111111111111,\"#46039f\"],[0.2222222222222222,\"#7201a8\"],[0.3333333333333333,\"#9c179e\"],[0.4444444444444444,\"#bd3786\"],[0.5555555555555556,\"#d8576b\"],[0.6666666666666666,\"#ed7953\"],[0.7777777777777778,\"#fb9f3a\"],[0.8888888888888888,\"#fdca26\"],[1.0,\"#f0f921\"]],\"sequentialminus\":[[0.0,\"#0d0887\"],[0.1111111111111111,\"#46039f\"],[0.2222222222222222,\"#7201a8\"],[0.3333333333333333,\"#9c179e\"],[0.4444444444444444,\"#bd3786\"],[0.5555555555555556,\"#d8576b\"],[0.6666666666666666,\"#ed7953\"],[0.7777777777777778,\"#fb9f3a\"],[0.8888888888888888,\"#fdca26\"],[1.0,\"#f0f921\"]],\"diverging\":[[0,\"#8e0152\"],[0.1,\"#c51b7d\"],[0.2,\"#de77ae\"],[0.3,\"#f1b6da\"],[0.4,\"#fde0ef\"],[0.5,\"#f7f7f7\"],[0.6,\"#e6f5d0\"],[0.7,\"#b8e186\"],[0.8,\"#7fbc41\"],[0.9,\"#4d9221\"],[1,\"#276419\"]]},\"xaxis\":{\"gridcolor\":\"white\",\"linecolor\":\"white\",\"ticks\":\"\",\"title\":{\"standoff\":15},\"zerolinecolor\":\"white\",\"automargin\":true,\"zerolinewidth\":2},\"yaxis\":{\"gridcolor\":\"white\",\"linecolor\":\"white\",\"ticks\":\"\",\"title\":{\"standoff\":15},\"zerolinecolor\":\"white\",\"automargin\":true,\"zerolinewidth\":2},\"scene\":{\"xaxis\":{\"backgroundcolor\":\"#E5ECF6\",\"gridcolor\":\"white\",\"linecolor\":\"white\",\"showbackground\":true,\"ticks\":\"\",\"zerolinecolor\":\"white\",\"gridwidth\":2},\"yaxis\":{\"backgroundcolor\":\"#E5ECF6\",\"gridcolor\":\"white\",\"linecolor\":\"white\",\"showbackground\":true,\"ticks\":\"\",\"zerolinecolor\":\"white\",\"gridwidth\":2},\"zaxis\":{\"backgroundcolor\":\"#E5ECF6\",\"gridcolor\":\"white\",\"linecolor\":\"white\",\"showbackground\":true,\"ticks\":\"\",\"zerolinecolor\":\"white\",\"gridwidth\":2}},\"shapedefaults\":{\"line\":{\"color\":\"#2a3f5f\"}},\"annotationdefaults\":{\"arrowcolor\":\"#2a3f5f\",\"arrowhead\":0,\"arrowwidth\":1},\"geo\":{\"bgcolor\":\"white\",\"landcolor\":\"#E5ECF6\",\"subunitcolor\":\"white\",\"showland\":true,\"showlakes\":true,\"lakecolor\":\"white\"},\"title\":{\"x\":0.05},\"mapbox\":{\"style\":\"light\"}}}},                        {\"responsive\": true}                    ).then(function(){\n",
              "                            \n",
              "var gd = document.getElementById('a2bf81bf-1bec-4b2c-87b8-87a8d3a892c0');\n",
              "var x = new MutationObserver(function (mutations, observer) {{\n",
              "        var display = window.getComputedStyle(gd).display;\n",
              "        if (!display || display === 'none') {{\n",
              "            console.log([gd, 'removed!']);\n",
              "            Plotly.purge(gd);\n",
              "            observer.disconnect();\n",
              "        }}\n",
              "}});\n",
              "\n",
              "// Listen for the removal of the full notebook cells\n",
              "var notebookContainer = gd.closest('#notebook-container');\n",
              "if (notebookContainer) {{\n",
              "    x.observe(notebookContainer, {childList: true});\n",
              "}}\n",
              "\n",
              "// Listen for the clearing of the current output cell\n",
              "var outputEl = gd.closest('.output');\n",
              "if (outputEl) {{\n",
              "    x.observe(outputEl, {childList: true});\n",
              "}}\n",
              "\n",
              "                        })                };                            </script>        </div>\n",
              "</body>\n",
              "</html>"
            ]
          },
          "metadata": {}
        }
      ],
      "source": [
        "from optuna.visualization import plot_param_importances\n",
        "plot_param_importances(study)"
      ],
      "id": "2-LMohnKR-EM"
    },
    {
      "cell_type": "code",
      "execution_count": null,
      "metadata": {
        "colab": {
          "base_uri": "https://localhost:8080/"
        },
        "id": "m33aI2j9Yj4L",
        "outputId": "3169023e-dd97-4572-818b-f1a91b73140f"
      },
      "outputs": [
        {
          "output_type": "stream",
          "name": "stdout",
          "text": [
            "Accuracy: 0.9948203659541816\n",
            "time 2.8190207481384277\n"
          ]
        }
      ],
      "source": [
        "rs=NIA\n",
        "rf = ExtraTreesClassifier(random_state=rs)\n",
        "classif=Pipeline([('rf',rf)])\n",
        "classif.set_params(**study.best_params)\n",
        "(bacopt1, tiempo)=default_hp(classif, X_train, y_train, X_test, y_test)"
      ],
      "id": "m33aI2j9Yj4L"
    },
    {
      "cell_type": "code",
      "execution_count": 10,
      "metadata": {
        "id": "dm7NoElaZyH1"
      },
      "outputs": [],
      "source": [
        "import time\n",
        "from scipy.stats import randint as sp_randint\n",
        "from sklearn import metrics\n",
        "from scipy.stats import uniform, expon\n",
        "from sklearn.model_selection import PredefinedSplit, RandomizedSearchCV\n",
        "from sklearn.model_selection import KFold\n",
        "def default_RS(classif, X_train, y_train, X_test, y_test,param_grid,n):\n",
        "  inicio = time.time()\n",
        "  rs=NIA\n",
        "  np.random.seed(NIA)\n",
        "  cv = StratifiedKFold(n_splits=3, shuffle=True, random_state=rs)\n",
        "  clf_rnd=RandomizedSearchCV(classif,param_grid, scoring='balanced_accuracy', cv=cv , n_jobs=1, verbose=1, random_state=rs,n_iter=n)\n",
        "  clf_rnd.fit(X_train, y_train)\n",
        "  y_hat=clf_rnd.predict(X_test)\n",
        "  print(\"Accuracy: \",metrics.balanced_accuracy_score(y_test, y_hat))\n",
        "  print(f\"Best hyper-parameters: {clf_rnd.best_params_} and their score (inner evaluation): {clf_rnd.best_score_}\")\n",
        "  fin=time.time()\n",
        "  print('time',fin-inicio)\n",
        "  return(metrics.balanced_accuracy_score(y_test, y_hat),clf_rnd.best_params_,clf_rnd.best_score_,fin-inicio)"
      ],
      "id": "dm7NoElaZyH1"
    },
    {
      "cell_type": "code",
      "execution_count": null,
      "metadata": {
        "colab": {
          "base_uri": "https://localhost:8080/"
        },
        "id": "XvSuqI-1arCh",
        "outputId": "ba17f1ec-55c9-488b-e7c9-04e032f82fa6"
      },
      "outputs": [
        {
          "output_type": "stream",
          "name": "stdout",
          "text": [
            "Fitting 3 folds for each of 30 candidates, totalling 90 fits\n",
            "Accuracy:  0.9924401769440938\n",
            "Best hyper-parameters: {'clf__max_depth': 24, 'clf__max_features': 0.8478170716918709, 'clf__min_samples_leaf': 6} and their score (inner evaluation): 0.990897883095589\n",
            "time 239.65417432785034\n"
          ]
        }
      ],
      "source": [
        "import time\n",
        "rs=NIA\n",
        "clf = ExtraTreesClassifier(random_state=rs)\n",
        "classif=Pipeline([('clf',clf)])\n",
        "param_grid = {'clf__max_depth': sp_randint(6,50), 'clf__min_samples_leaf': sp_randint(6,60),'clf__max_features':uniform(0.1,0.9)}\n",
        "(Accur1,best_params,inner_score,timer1)=default_RS(classif, X_train, y_train, X_test, y_test,param_grid,30)"
      ],
      "id": "XvSuqI-1arCh"
    },
    {
      "cell_type": "markdown",
      "metadata": {
        "id": "b0113a16"
      },
      "source": [
        "### Support Vector Machines"
      ],
      "id": "b0113a16"
    },
    {
      "cell_type": "code",
      "execution_count": null,
      "metadata": {
        "colab": {
          "base_uri": "https://localhost:8080/"
        },
        "id": "ebe22ed2",
        "outputId": "240a8153-2963-4fc0-9931-0c27e7ff3b6c"
      },
      "outputs": [
        {
          "output_type": "stream",
          "name": "stderr",
          "text": [
            "\u001b[32m[I 2023-05-12 11:34:33,345]\u001b[0m A new study created in memory with name: no-name-abfc34a5-7ccf-4db8-917b-60afd8efd6ff\u001b[0m\n",
            "\u001b[32m[I 2023-05-12 11:34:42,932]\u001b[0m Trial 0 finished with value: 0.9231174121424742 and parameters: {'svc__gamma': 0.041078213539959545, 'svc__C': 4.6328785278625055}. Best is trial 0 with value: 0.9231174121424742.\u001b[0m\n",
            "\u001b[32m[I 2023-05-12 11:35:03,309]\u001b[0m Trial 1 finished with value: 0.5627764672293498 and parameters: {'svc__gamma': 0.002687698124398068, 'svc__C': 0.8589961790444642}. Best is trial 0 with value: 0.9231174121424742.\u001b[0m\n",
            "\u001b[32m[I 2023-05-12 11:35:12,247]\u001b[0m Trial 2 finished with value: 0.8993688940306441 and parameters: {'svc__gamma': 0.2463612370542613, 'svc__C': 0.4960887558478995}. Best is trial 0 with value: 0.9231174121424742.\u001b[0m\n",
            "\u001b[32m[I 2023-05-12 11:35:14,098]\u001b[0m Trial 3 finished with value: 0.9922752558451792 and parameters: {'svc__gamma': 0.344868421561429, 'svc__C': 40.81333977641689}. Best is trial 3 with value: 0.9922752558451792.\u001b[0m\n",
            "\u001b[32m[I 2023-05-12 11:35:22,434]\u001b[0m Trial 4 finished with value: 0.8934131107862063 and parameters: {'svc__gamma': 0.0021055816158704445, 'svc__C': 54.29975291715687}. Best is trial 3 with value: 0.9922752558451792.\u001b[0m\n",
            "\u001b[32m[I 2023-05-12 11:35:28,890]\u001b[0m Trial 5 finished with value: 0.9162512469730788 and parameters: {'svc__gamma': 0.005076625208571998, 'svc__C': 33.36745442134595}. Best is trial 3 with value: 0.9922752558451792.\u001b[0m\n",
            "\u001b[32m[I 2023-05-12 11:35:37,695]\u001b[0m Trial 6 finished with value: 0.9051866683555824 and parameters: {'svc__gamma': 0.39474180748648363, 'svc__C': 0.35617211318907965}. Best is trial 3 with value: 0.9922752558451792.\u001b[0m\n",
            "\u001b[32m[I 2023-05-12 11:35:51,389]\u001b[0m Trial 7 finished with value: 0.8226594829782439 and parameters: {'svc__gamma': 0.001889610294189237, 'svc__C': 14.729455291393247}. Best is trial 3 with value: 0.9922752558451792.\u001b[0m\n",
            "\u001b[32m[I 2023-05-12 11:35:55,550]\u001b[0m Trial 8 finished with value: 0.9786614066861495 and parameters: {'svc__gamma': 0.8562929607493688, 'svc__C': 1.1683788902490195}. Best is trial 3 with value: 0.9922752558451792.\u001b[0m\n",
            "\u001b[32m[I 2023-05-12 11:35:58,464]\u001b[0m Trial 9 finished with value: 0.9891888667692411 and parameters: {'svc__gamma': 0.5291950178187554, 'svc__C': 5.052148161030815}. Best is trial 3 with value: 0.9922752558451792.\u001b[0m\n",
            "\u001b[32m[I 2023-05-12 11:36:01,050]\u001b[0m Trial 10 finished with value: 0.9910766719383987 and parameters: {'svc__gamma': 0.10101340230874827, 'svc__C': 95.61307226082727}. Best is trial 3 with value: 0.9922752558451792.\u001b[0m\n",
            "\u001b[32m[I 2023-05-12 11:36:03,579]\u001b[0m Trial 11 finished with value: 0.9914342066747083 and parameters: {'svc__gamma': 0.147465078086741, 'svc__C': 93.90043897311796}. Best is trial 3 with value: 0.9922752558451792.\u001b[0m\n",
            "\u001b[32m[I 2023-05-12 11:36:06,087]\u001b[0m Trial 12 finished with value: 0.9890672073510838 and parameters: {'svc__gamma': 0.12422258689981054, 'svc__C': 25.76945298677189}. Best is trial 3 with value: 0.9922752558451792.\u001b[0m\n",
            "\u001b[32m[I 2023-05-12 11:36:07,921]\u001b[0m Trial 13 finished with value: 0.9912453551901163 and parameters: {'svc__gamma': 0.13058784720367628, 'svc__C': 94.87456223429926}. Best is trial 3 with value: 0.9922752558451792.\u001b[0m\n",
            "\u001b[32m[I 2023-05-12 11:36:10,152]\u001b[0m Trial 14 finished with value: 0.9918429077132687 and parameters: {'svc__gamma': 0.9585950594222914, 'svc__C': 17.96578488852261}. Best is trial 3 with value: 0.9922752558451792.\u001b[0m\n",
            "\u001b[32m[I 2023-05-12 11:36:12,509]\u001b[0m Trial 15 finished with value: 0.9913848600469691 and parameters: {'svc__gamma': 0.8992691770862691, 'svc__C': 10.761316270628356}. Best is trial 3 with value: 0.9922752558451792.\u001b[0m\n",
            "\u001b[32m[I 2023-05-12 11:36:22,119]\u001b[0m Trial 16 finished with value: 0.8972269628839461 and parameters: {'svc__gamma': 0.9806829363871147, 'svc__C': 0.13801922403647238}. Best is trial 3 with value: 0.9922752558451792.\u001b[0m\n",
            "\u001b[32m[I 2023-05-12 11:36:24,649]\u001b[0m Trial 17 finished with value: 0.9900573035867507 and parameters: {'svc__gamma': 0.37120020750021343, 'svc__C': 11.639213779016394}. Best is trial 3 with value: 0.9922752558451792.\u001b[0m\n",
            "\u001b[32m[I 2023-05-12 11:36:28,764]\u001b[0m Trial 18 finished with value: 0.9763965871035535 and parameters: {'svc__gamma': 0.044515093694365716, 'svc__C': 28.19566745127815}. Best is trial 3 with value: 0.9922752558451792.\u001b[0m\n",
            "\u001b[32m[I 2023-05-12 11:36:36,912]\u001b[0m Trial 19 finished with value: 0.886669601328267 and parameters: {'svc__gamma': 0.012988936369940205, 'svc__C': 7.373849440234247}. Best is trial 3 with value: 0.9922752558451792.\u001b[0m\n",
            "\u001b[32m[I 2023-05-12 11:36:41,184]\u001b[0m Trial 20 finished with value: 0.9775314833134509 and parameters: {'svc__gamma': 0.34864585076622356, 'svc__C': 2.8895979760055424}. Best is trial 3 with value: 0.9922752558451792.\u001b[0m\n",
            "\u001b[32m[I 2023-05-12 11:36:44,132]\u001b[0m Trial 21 finished with value: 0.9914007463705846 and parameters: {'svc__gamma': 0.20086377522910934, 'svc__C': 47.01887726418034}. Best is trial 3 with value: 0.9922752558451792.\u001b[0m\n",
            "\u001b[32m[I 2023-05-12 11:36:46,206]\u001b[0m Trial 22 finished with value: 0.9914419945936325 and parameters: {'svc__gamma': 0.4923698364456842, 'svc__C': 21.934886481932036}. Best is trial 3 with value: 0.9922752558451792.\u001b[0m\n",
            "\u001b[32m[I 2023-05-12 11:36:48,424]\u001b[0m Trial 23 finished with value: 0.9912851234968468 and parameters: {'svc__gamma': 0.5428719294973721, 'svc__C': 16.37305105631652}. Best is trial 3 with value: 0.9922752558451792.\u001b[0m\n",
            "\u001b[32m[I 2023-05-12 11:36:50,810]\u001b[0m Trial 24 finished with value: 0.9904853465693395 and parameters: {'svc__gamma': 0.24899881232467644, 'svc__C': 19.025630426888156}. Best is trial 3 with value: 0.9922752558451792.\u001b[0m\n",
            "\u001b[32m[I 2023-05-12 11:36:52,791]\u001b[0m Trial 25 finished with value: 0.9918325979267681 and parameters: {'svc__gamma': 0.5624434079695148, 'svc__C': 29.189428219097152}. Best is trial 3 with value: 0.9922752558451792.\u001b[0m\n",
            "\u001b[32m[I 2023-05-12 11:36:55,207]\u001b[0m Trial 26 finished with value: 0.9926376275227101 and parameters: {'svc__gamma': 0.7057733889052903, 'svc__C': 48.3693277421298}. Best is trial 26 with value: 0.9926376275227101.\u001b[0m\n",
            "\u001b[32m[I 2023-05-12 11:36:58,463]\u001b[0m Trial 27 finished with value: 0.9898236791867405 and parameters: {'svc__gamma': 0.0774507420800793, 'svc__C': 51.995680917634104}. Best is trial 26 with value: 0.9926376275227101.\u001b[0m\n",
            "\u001b[32m[I 2023-05-12 11:37:00,521]\u001b[0m Trial 28 finished with value: 0.9927870131953273 and parameters: {'svc__gamma': 0.9544785997298235, 'svc__C': 42.2424487053143}. Best is trial 28 with value: 0.9927870131953273.\u001b[0m\n",
            "\u001b[32m[I 2023-05-12 11:37:02,573]\u001b[0m Trial 29 finished with value: 0.9917766905740507 and parameters: {'svc__gamma': 0.24252473574649153, 'svc__C': 43.4160142823376}. Best is trial 28 with value: 0.9927870131953273.\u001b[0m\n"
          ]
        },
        {
          "output_type": "stream",
          "name": "stdout",
          "text": [
            "time 149.23210263252258\n"
          ]
        }
      ],
      "source": [
        "import optuna\n",
        "import time\n",
        "from sklearn import svm\n",
        "from optuna import trial\n",
        "from sklearn.model_selection import cross_val_score\n",
        "from sklearn.model_selection import StratifiedKFold\n",
        "from sklearn import svm\n",
        "inicio = time.time()\n",
        "rs=NIA\n",
        "cv_inner = StratifiedKFold(n_splits=3, random_state=rs, shuffle=True)\n",
        "np.random.seed(NIA)\n",
        "def objective(trial):\n",
        "    svc__Gamma = trial.suggest_float('svc__gamma',0.001,1,log=True)\n",
        "    svc__C = trial.suggest_float(\"svc__C\",0.1,100,log=True)\n",
        "    classifier_obj = Pipeline([('preprocessor',preprocessor1),('svc',svm.SVC(gamma=svc__Gamma, C=svc__C,random_state=rs))])\n",
        "\n",
        "\n",
        "    # Step 3: Scoring method:\n",
        "    score = cross_val_score(classifier_obj, X_train, y_train,scoring='balanced_accuracy', n_jobs=-1, cv=cv_inner)\n",
        "    accuracy = score.mean()\n",
        "    return accuracy\n",
        "\n",
        "# Step 4: Running it\n",
        "study = optuna.create_study(direction=\"maximize\")\n",
        "study.optimize(objective, n_trials=30)\n",
        "fin=time.time()\n",
        "print('time',fin-inicio)\n",
        "timeopt2=fin-inicio"
      ],
      "id": "ebe22ed2"
    },
    {
      "cell_type": "code",
      "execution_count": null,
      "metadata": {
        "colab": {
          "base_uri": "https://localhost:8080/",
          "height": 701
        },
        "id": "8c907a62",
        "outputId": "c509f866-9212-4666-aaba-a4546be7d5a3"
      },
      "outputs": [
        {
          "name": "stdout",
          "output_type": "stream",
          "text": [
            "The best trial is : \n",
            "FrozenTrial(number=27, state=TrialState.COMPLETE, values=[0.993327699390406], datetime_start=datetime.datetime(2023, 4, 21, 8, 4, 40, 668241), datetime_complete=datetime.datetime(2023, 4, 21, 8, 4, 43, 475912), params={'svc__gamma': 0.41523028123146105, 'svc__C': 68.68458469191684}, user_attrs={}, system_attrs={}, intermediate_values={}, distributions={'svc__gamma': FloatDistribution(high=1.0, log=True, low=0.001, step=None), 'svc__C': FloatDistribution(high=100.0, log=True, low=0.1, step=None)}, trial_id=27, value=None)\n",
            "The best value is : \n",
            "0.993327699390406\n",
            "The best parameters are : \n",
            "{'svc__gamma': 0.41523028123146105, 'svc__C': 68.68458469191684}\n",
            "Precision: 0.993327699390406\n",
            "Best hyperparameters: {'svc__gamma': 0.41523028123146105, 'svc__C': 68.68458469191684}\n"
          ]
        },
        {
          "data": {
            "text/html": [
              "<html>\n",
              "<head><meta charset=\"utf-8\" /></head>\n",
              "<body>\n",
              "    <div>            <script src=\"https://cdnjs.cloudflare.com/ajax/libs/mathjax/2.7.5/MathJax.js?config=TeX-AMS-MML_SVG\"></script><script type=\"text/javascript\">if (window.MathJax && window.MathJax.Hub && window.MathJax.Hub.Config) {window.MathJax.Hub.Config({SVG: {font: \"STIX-Web\"}});}</script>                <script type=\"text/javascript\">window.PlotlyConfig = {MathJaxConfig: 'local'};</script>\n",
              "        <script src=\"https://cdn.plot.ly/plotly-2.18.2.min.js\"></script>                <div id=\"f5050c8c-732c-4b93-b426-1eaa588971fd\" class=\"plotly-graph-div\" style=\"height:525px; width:100%;\"></div>            <script type=\"text/javascript\">                                    window.PLOTLYENV=window.PLOTLYENV || {};                                    if (document.getElementById(\"f5050c8c-732c-4b93-b426-1eaa588971fd\")) {                    Plotly.newPlot(                        \"f5050c8c-732c-4b93-b426-1eaa588971fd\",                        [{\"mode\":\"markers\",\"name\":\"Objective Value\",\"x\":[0,1,2,3,4,5,6,7,8,9,10,11,12,13,14,15,16,17,18,19,20,21,22,23,24,25,26,27,28,29],\"y\":[0.8365052583127272,0.9903891657870679,0.9900840153673887,0.7201817434179301,0.9895947815953533,0.5788152060498021,0.6939199612961077,0.7881732872194097,0.9335871700988153,0.7364901206066281,0.9911070986317868,0.9923436644234895,0.9919234695725295,0.9922246461420433,0.961831598475857,0.9910657276381065,0.9913121851013927,0.991027236185527,0.9637080757108603,0.9932138677660257,0.9930198014438351,0.9926010258378596,0.9926393023672718,0.9919398633076065,0.9926900576009894,0.9932307437960682,0.9933134157537403,0.993327699390406,0.9906136503927935,0.9917328613766458],\"type\":\"scatter\"},{\"name\":\"Best Value\",\"x\":[0,1,2,3,4,5,6,7,8,9,10,11,12,13,14,15,16,17,18,19,20,21,22,23,24,25,26,27,28,29],\"y\":[0.8365052583127272,0.9903891657870679,0.9903891657870679,0.9903891657870679,0.9903891657870679,0.9903891657870679,0.9903891657870679,0.9903891657870679,0.9903891657870679,0.9903891657870679,0.9911070986317868,0.9923436644234895,0.9923436644234895,0.9923436644234895,0.9923436644234895,0.9923436644234895,0.9923436644234895,0.9923436644234895,0.9923436644234895,0.9932138677660257,0.9932138677660257,0.9932138677660257,0.9932138677660257,0.9932138677660257,0.9932138677660257,0.9932307437960682,0.9933134157537403,0.993327699390406,0.993327699390406,0.993327699390406],\"type\":\"scatter\"}],                        {\"title\":{\"text\":\"Optimization History Plot\"},\"xaxis\":{\"title\":{\"text\":\"Trial\"}},\"yaxis\":{\"title\":{\"text\":\"Objective Value\"}},\"template\":{\"data\":{\"histogram2dcontour\":[{\"type\":\"histogram2dcontour\",\"colorbar\":{\"outlinewidth\":0,\"ticks\":\"\"},\"colorscale\":[[0.0,\"#0d0887\"],[0.1111111111111111,\"#46039f\"],[0.2222222222222222,\"#7201a8\"],[0.3333333333333333,\"#9c179e\"],[0.4444444444444444,\"#bd3786\"],[0.5555555555555556,\"#d8576b\"],[0.6666666666666666,\"#ed7953\"],[0.7777777777777778,\"#fb9f3a\"],[0.8888888888888888,\"#fdca26\"],[1.0,\"#f0f921\"]]}],\"choropleth\":[{\"type\":\"choropleth\",\"colorbar\":{\"outlinewidth\":0,\"ticks\":\"\"}}],\"histogram2d\":[{\"type\":\"histogram2d\",\"colorbar\":{\"outlinewidth\":0,\"ticks\":\"\"},\"colorscale\":[[0.0,\"#0d0887\"],[0.1111111111111111,\"#46039f\"],[0.2222222222222222,\"#7201a8\"],[0.3333333333333333,\"#9c179e\"],[0.4444444444444444,\"#bd3786\"],[0.5555555555555556,\"#d8576b\"],[0.6666666666666666,\"#ed7953\"],[0.7777777777777778,\"#fb9f3a\"],[0.8888888888888888,\"#fdca26\"],[1.0,\"#f0f921\"]]}],\"heatmap\":[{\"type\":\"heatmap\",\"colorbar\":{\"outlinewidth\":0,\"ticks\":\"\"},\"colorscale\":[[0.0,\"#0d0887\"],[0.1111111111111111,\"#46039f\"],[0.2222222222222222,\"#7201a8\"],[0.3333333333333333,\"#9c179e\"],[0.4444444444444444,\"#bd3786\"],[0.5555555555555556,\"#d8576b\"],[0.6666666666666666,\"#ed7953\"],[0.7777777777777778,\"#fb9f3a\"],[0.8888888888888888,\"#fdca26\"],[1.0,\"#f0f921\"]]}],\"heatmapgl\":[{\"type\":\"heatmapgl\",\"colorbar\":{\"outlinewidth\":0,\"ticks\":\"\"},\"colorscale\":[[0.0,\"#0d0887\"],[0.1111111111111111,\"#46039f\"],[0.2222222222222222,\"#7201a8\"],[0.3333333333333333,\"#9c179e\"],[0.4444444444444444,\"#bd3786\"],[0.5555555555555556,\"#d8576b\"],[0.6666666666666666,\"#ed7953\"],[0.7777777777777778,\"#fb9f3a\"],[0.8888888888888888,\"#fdca26\"],[1.0,\"#f0f921\"]]}],\"contourcarpet\":[{\"type\":\"contourcarpet\",\"colorbar\":{\"outlinewidth\":0,\"ticks\":\"\"}}],\"contour\":[{\"type\":\"contour\",\"colorbar\":{\"outlinewidth\":0,\"ticks\":\"\"},\"colorscale\":[[0.0,\"#0d0887\"],[0.1111111111111111,\"#46039f\"],[0.2222222222222222,\"#7201a8\"],[0.3333333333333333,\"#9c179e\"],[0.4444444444444444,\"#bd3786\"],[0.5555555555555556,\"#d8576b\"],[0.6666666666666666,\"#ed7953\"],[0.7777777777777778,\"#fb9f3a\"],[0.8888888888888888,\"#fdca26\"],[1.0,\"#f0f921\"]]}],\"surface\":[{\"type\":\"surface\",\"colorbar\":{\"outlinewidth\":0,\"ticks\":\"\"},\"colorscale\":[[0.0,\"#0d0887\"],[0.1111111111111111,\"#46039f\"],[0.2222222222222222,\"#7201a8\"],[0.3333333333333333,\"#9c179e\"],[0.4444444444444444,\"#bd3786\"],[0.5555555555555556,\"#d8576b\"],[0.6666666666666666,\"#ed7953\"],[0.7777777777777778,\"#fb9f3a\"],[0.8888888888888888,\"#fdca26\"],[1.0,\"#f0f921\"]]}],\"mesh3d\":[{\"type\":\"mesh3d\",\"colorbar\":{\"outlinewidth\":0,\"ticks\":\"\"}}],\"scatter\":[{\"fillpattern\":{\"fillmode\":\"overlay\",\"size\":10,\"solidity\":0.2},\"type\":\"scatter\"}],\"parcoords\":[{\"type\":\"parcoords\",\"line\":{\"colorbar\":{\"outlinewidth\":0,\"ticks\":\"\"}}}],\"scatterpolargl\":[{\"type\":\"scatterpolargl\",\"marker\":{\"colorbar\":{\"outlinewidth\":0,\"ticks\":\"\"}}}],\"bar\":[{\"error_x\":{\"color\":\"#2a3f5f\"},\"error_y\":{\"color\":\"#2a3f5f\"},\"marker\":{\"line\":{\"color\":\"#E5ECF6\",\"width\":0.5},\"pattern\":{\"fillmode\":\"overlay\",\"size\":10,\"solidity\":0.2}},\"type\":\"bar\"}],\"scattergeo\":[{\"type\":\"scattergeo\",\"marker\":{\"colorbar\":{\"outlinewidth\":0,\"ticks\":\"\"}}}],\"scatterpolar\":[{\"type\":\"scatterpolar\",\"marker\":{\"colorbar\":{\"outlinewidth\":0,\"ticks\":\"\"}}}],\"histogram\":[{\"marker\":{\"pattern\":{\"fillmode\":\"overlay\",\"size\":10,\"solidity\":0.2}},\"type\":\"histogram\"}],\"scattergl\":[{\"type\":\"scattergl\",\"marker\":{\"colorbar\":{\"outlinewidth\":0,\"ticks\":\"\"}}}],\"scatter3d\":[{\"type\":\"scatter3d\",\"line\":{\"colorbar\":{\"outlinewidth\":0,\"ticks\":\"\"}},\"marker\":{\"colorbar\":{\"outlinewidth\":0,\"ticks\":\"\"}}}],\"scattermapbox\":[{\"type\":\"scattermapbox\",\"marker\":{\"colorbar\":{\"outlinewidth\":0,\"ticks\":\"\"}}}],\"scatterternary\":[{\"type\":\"scatterternary\",\"marker\":{\"colorbar\":{\"outlinewidth\":0,\"ticks\":\"\"}}}],\"scattercarpet\":[{\"type\":\"scattercarpet\",\"marker\":{\"colorbar\":{\"outlinewidth\":0,\"ticks\":\"\"}}}],\"carpet\":[{\"aaxis\":{\"endlinecolor\":\"#2a3f5f\",\"gridcolor\":\"white\",\"linecolor\":\"white\",\"minorgridcolor\":\"white\",\"startlinecolor\":\"#2a3f5f\"},\"baxis\":{\"endlinecolor\":\"#2a3f5f\",\"gridcolor\":\"white\",\"linecolor\":\"white\",\"minorgridcolor\":\"white\",\"startlinecolor\":\"#2a3f5f\"},\"type\":\"carpet\"}],\"table\":[{\"cells\":{\"fill\":{\"color\":\"#EBF0F8\"},\"line\":{\"color\":\"white\"}},\"header\":{\"fill\":{\"color\":\"#C8D4E3\"},\"line\":{\"color\":\"white\"}},\"type\":\"table\"}],\"barpolar\":[{\"marker\":{\"line\":{\"color\":\"#E5ECF6\",\"width\":0.5},\"pattern\":{\"fillmode\":\"overlay\",\"size\":10,\"solidity\":0.2}},\"type\":\"barpolar\"}],\"pie\":[{\"automargin\":true,\"type\":\"pie\"}]},\"layout\":{\"autotypenumbers\":\"strict\",\"colorway\":[\"#636efa\",\"#EF553B\",\"#00cc96\",\"#ab63fa\",\"#FFA15A\",\"#19d3f3\",\"#FF6692\",\"#B6E880\",\"#FF97FF\",\"#FECB52\"],\"font\":{\"color\":\"#2a3f5f\"},\"hovermode\":\"closest\",\"hoverlabel\":{\"align\":\"left\"},\"paper_bgcolor\":\"white\",\"plot_bgcolor\":\"#E5ECF6\",\"polar\":{\"bgcolor\":\"#E5ECF6\",\"angularaxis\":{\"gridcolor\":\"white\",\"linecolor\":\"white\",\"ticks\":\"\"},\"radialaxis\":{\"gridcolor\":\"white\",\"linecolor\":\"white\",\"ticks\":\"\"}},\"ternary\":{\"bgcolor\":\"#E5ECF6\",\"aaxis\":{\"gridcolor\":\"white\",\"linecolor\":\"white\",\"ticks\":\"\"},\"baxis\":{\"gridcolor\":\"white\",\"linecolor\":\"white\",\"ticks\":\"\"},\"caxis\":{\"gridcolor\":\"white\",\"linecolor\":\"white\",\"ticks\":\"\"}},\"coloraxis\":{\"colorbar\":{\"outlinewidth\":0,\"ticks\":\"\"}},\"colorscale\":{\"sequential\":[[0.0,\"#0d0887\"],[0.1111111111111111,\"#46039f\"],[0.2222222222222222,\"#7201a8\"],[0.3333333333333333,\"#9c179e\"],[0.4444444444444444,\"#bd3786\"],[0.5555555555555556,\"#d8576b\"],[0.6666666666666666,\"#ed7953\"],[0.7777777777777778,\"#fb9f3a\"],[0.8888888888888888,\"#fdca26\"],[1.0,\"#f0f921\"]],\"sequentialminus\":[[0.0,\"#0d0887\"],[0.1111111111111111,\"#46039f\"],[0.2222222222222222,\"#7201a8\"],[0.3333333333333333,\"#9c179e\"],[0.4444444444444444,\"#bd3786\"],[0.5555555555555556,\"#d8576b\"],[0.6666666666666666,\"#ed7953\"],[0.7777777777777778,\"#fb9f3a\"],[0.8888888888888888,\"#fdca26\"],[1.0,\"#f0f921\"]],\"diverging\":[[0,\"#8e0152\"],[0.1,\"#c51b7d\"],[0.2,\"#de77ae\"],[0.3,\"#f1b6da\"],[0.4,\"#fde0ef\"],[0.5,\"#f7f7f7\"],[0.6,\"#e6f5d0\"],[0.7,\"#b8e186\"],[0.8,\"#7fbc41\"],[0.9,\"#4d9221\"],[1,\"#276419\"]]},\"xaxis\":{\"gridcolor\":\"white\",\"linecolor\":\"white\",\"ticks\":\"\",\"title\":{\"standoff\":15},\"zerolinecolor\":\"white\",\"automargin\":true,\"zerolinewidth\":2},\"yaxis\":{\"gridcolor\":\"white\",\"linecolor\":\"white\",\"ticks\":\"\",\"title\":{\"standoff\":15},\"zerolinecolor\":\"white\",\"automargin\":true,\"zerolinewidth\":2},\"scene\":{\"xaxis\":{\"backgroundcolor\":\"#E5ECF6\",\"gridcolor\":\"white\",\"linecolor\":\"white\",\"showbackground\":true,\"ticks\":\"\",\"zerolinecolor\":\"white\",\"gridwidth\":2},\"yaxis\":{\"backgroundcolor\":\"#E5ECF6\",\"gridcolor\":\"white\",\"linecolor\":\"white\",\"showbackground\":true,\"ticks\":\"\",\"zerolinecolor\":\"white\",\"gridwidth\":2},\"zaxis\":{\"backgroundcolor\":\"#E5ECF6\",\"gridcolor\":\"white\",\"linecolor\":\"white\",\"showbackground\":true,\"ticks\":\"\",\"zerolinecolor\":\"white\",\"gridwidth\":2}},\"shapedefaults\":{\"line\":{\"color\":\"#2a3f5f\"}},\"annotationdefaults\":{\"arrowcolor\":\"#2a3f5f\",\"arrowhead\":0,\"arrowwidth\":1},\"geo\":{\"bgcolor\":\"white\",\"landcolor\":\"#E5ECF6\",\"subunitcolor\":\"white\",\"showland\":true,\"showlakes\":true,\"lakecolor\":\"white\"},\"title\":{\"x\":0.05},\"mapbox\":{\"style\":\"light\"}}}},                        {\"responsive\": true}                    ).then(function(){\n",
              "                            \n",
              "var gd = document.getElementById('f5050c8c-732c-4b93-b426-1eaa588971fd');\n",
              "var x = new MutationObserver(function (mutations, observer) {{\n",
              "        var display = window.getComputedStyle(gd).display;\n",
              "        if (!display || display === 'none') {{\n",
              "            console.log([gd, 'removed!']);\n",
              "            Plotly.purge(gd);\n",
              "            observer.disconnect();\n",
              "        }}\n",
              "}});\n",
              "\n",
              "// Listen for the removal of the full notebook cells\n",
              "var notebookContainer = gd.closest('#notebook-container');\n",
              "if (notebookContainer) {{\n",
              "    x.observe(notebookContainer, {childList: true});\n",
              "}}\n",
              "\n",
              "// Listen for the clearing of the current output cell\n",
              "var outputEl = gd.closest('.output');\n",
              "if (outputEl) {{\n",
              "    x.observe(outputEl, {childList: true});\n",
              "}}\n",
              "\n",
              "                        })                };                            </script>        </div>\n",
              "</body>\n",
              "</html>"
            ]
          },
          "metadata": {},
          "output_type": "display_data"
        }
      ],
      "source": [
        "# Getting the best trial:\n",
        "print(f\"The best trial is : \\n{study.best_trial}\")\n",
        "# Getting the best score:\n",
        "print(f\"The best value is : \\n{study.best_value}\")\n",
        "# Getting the best parameters:\n",
        "print(f\"The best parameters are : \\n{study.best_params}\")\n",
        "trial = study.best_trial\n",
        "print('Precision: {}'.format(trial.value))\n",
        "print(\"Best hyperparameters: {}\".format(trial.params))\n",
        "optuna.visualization.plot_optimization_history(study).show()"
      ],
      "id": "8c907a62"
    },
    {
      "cell_type": "code",
      "execution_count": null,
      "metadata": {
        "colab": {
          "base_uri": "https://localhost:8080/",
          "height": 542
        },
        "id": "yIx1n4T0VP-n",
        "outputId": "7f7282b0-96c4-4188-850f-583e35ef56ac"
      },
      "outputs": [
        {
          "output_type": "display_data",
          "data": {
            "text/html": [
              "<html>\n",
              "<head><meta charset=\"utf-8\" /></head>\n",
              "<body>\n",
              "    <div>            <script src=\"https://cdnjs.cloudflare.com/ajax/libs/mathjax/2.7.5/MathJax.js?config=TeX-AMS-MML_SVG\"></script><script type=\"text/javascript\">if (window.MathJax && window.MathJax.Hub && window.MathJax.Hub.Config) {window.MathJax.Hub.Config({SVG: {font: \"STIX-Web\"}});}</script>                <script type=\"text/javascript\">window.PlotlyConfig = {MathJaxConfig: 'local'};</script>\n",
              "        <script src=\"https://cdn.plot.ly/plotly-2.18.2.min.js\"></script>                <div id=\"56e28f9a-242c-4a7f-bb06-139136414f47\" class=\"plotly-graph-div\" style=\"height:525px; width:100%;\"></div>            <script type=\"text/javascript\">                                    window.PLOTLYENV=window.PLOTLYENV || {};                                    if (document.getElementById(\"56e28f9a-242c-4a7f-bb06-139136414f47\")) {                    Plotly.newPlot(                        \"56e28f9a-242c-4a7f-bb06-139136414f47\",                        [{\"dimensions\":[{\"label\":\"Objective Value\",\"range\":[0.5627764672293498,0.9927870131953273],\"values\":[0.9231174121424742,0.5627764672293498,0.8993688940306441,0.9922752558451792,0.8934131107862063,0.9162512469730788,0.9051866683555824,0.8226594829782439,0.9786614066861495,0.9891888667692411,0.9910766719383987,0.9914342066747083,0.9890672073510838,0.9912453551901163,0.9918429077132687,0.9913848600469691,0.8972269628839461,0.9900573035867507,0.9763965871035535,0.886669601328267,0.9775314833134509,0.9914007463705846,0.9914419945936325,0.9912851234968468,0.9904853465693395,0.9918325979267681,0.9926376275227101,0.9898236791867405,0.9927870131953273,0.9917766905740507]},{\"label\":\"svc__C\",\"range\":[-0.8600604185879359,1.980517273265956],\"ticktext\":[\"0.138\",\"1\",\"10\",\"95.6\"],\"tickvals\":[-0.8600604185879359,0,1,1.980517273265956],\"values\":[0.6658509133327439,-0.06600876797736709,-0.3044406163997178,1.61080213476645,1.7347978534017479,1.5233230759106604,-0.4483400870126192,1.1681866865360269,0.06758370173254176,0.7034760783390726,1.980517273265956,1.9726676225446755,1.4111051997946806,1.9771497850071804,1.2544461953958397,1.0318653953181516,-0.8600604185879359,1.0659236450074365,1.4501823797179911,0.8676942659059805,0.46083742443562237,1.6722722546529656,1.3411353911732373,1.2141296160921424,1.27933905631686,1.4652255878375147,1.6845700514175577,1.7159672699512976,1.6257490853870715,1.6376499514390122]},{\"label\":\"svc__gamma\",\"range\":[-2.723627753781469,-0.008471381238551763],\"ticktext\":[\"0.00189\",\"0.01\",\"0.1\",\"0.981\"],\"tickvals\":[-2.723627753781469,-2,-1,-0.008471381238551763],\"values\":[-1.386388451798421,-2.5706195117604898,-0.6084276238524009,-0.46234657069345986,-2.6766279199358554,-2.294424898020901,-0.4036868746200709,-2.723627753781469,-0.06737762612918298,-0.2763842531920342,-0.9956210008452172,-0.8313108148715638,-0.9057994309380382,-0.8840972375935765,-0.018364813682605233,-0.046110291998256885,-0.008471381238551763,-0.43039178968331426,-1.3514927081936414,-1.8864264107112911,-0.45761549896632214,-0.6970983790139904,-0.3077085606685191,-0.2653026140075531,-0.6038027243985185,-0.24992116893747982,-0.15133472068484197,-1.1109744167719202,-0.02023380443473374,-0.6152439599468505]}],\"labelangle\":30,\"labelside\":\"bottom\",\"line\":{\"color\":[0.9231174121424742,0.5627764672293498,0.8993688940306441,0.9922752558451792,0.8934131107862063,0.9162512469730788,0.9051866683555824,0.8226594829782439,0.9786614066861495,0.9891888667692411,0.9910766719383987,0.9914342066747083,0.9890672073510838,0.9912453551901163,0.9918429077132687,0.9913848600469691,0.8972269628839461,0.9900573035867507,0.9763965871035535,0.886669601328267,0.9775314833134509,0.9914007463705846,0.9914419945936325,0.9912851234968468,0.9904853465693395,0.9918325979267681,0.9926376275227101,0.9898236791867405,0.9927870131953273,0.9917766905740507],\"colorbar\":{\"title\":{\"text\":\"Objective Value\"}},\"colorscale\":[[0.0,\"rgb(247,251,255)\"],[0.125,\"rgb(222,235,247)\"],[0.25,\"rgb(198,219,239)\"],[0.375,\"rgb(158,202,225)\"],[0.5,\"rgb(107,174,214)\"],[0.625,\"rgb(66,146,198)\"],[0.75,\"rgb(33,113,181)\"],[0.875,\"rgb(8,81,156)\"],[1.0,\"rgb(8,48,107)\"]],\"reversescale\":false,\"showscale\":true},\"type\":\"parcoords\"}],                        {\"title\":{\"text\":\"Parallel Coordinate Plot\"},\"template\":{\"data\":{\"histogram2dcontour\":[{\"type\":\"histogram2dcontour\",\"colorbar\":{\"outlinewidth\":0,\"ticks\":\"\"},\"colorscale\":[[0.0,\"#0d0887\"],[0.1111111111111111,\"#46039f\"],[0.2222222222222222,\"#7201a8\"],[0.3333333333333333,\"#9c179e\"],[0.4444444444444444,\"#bd3786\"],[0.5555555555555556,\"#d8576b\"],[0.6666666666666666,\"#ed7953\"],[0.7777777777777778,\"#fb9f3a\"],[0.8888888888888888,\"#fdca26\"],[1.0,\"#f0f921\"]]}],\"choropleth\":[{\"type\":\"choropleth\",\"colorbar\":{\"outlinewidth\":0,\"ticks\":\"\"}}],\"histogram2d\":[{\"type\":\"histogram2d\",\"colorbar\":{\"outlinewidth\":0,\"ticks\":\"\"},\"colorscale\":[[0.0,\"#0d0887\"],[0.1111111111111111,\"#46039f\"],[0.2222222222222222,\"#7201a8\"],[0.3333333333333333,\"#9c179e\"],[0.4444444444444444,\"#bd3786\"],[0.5555555555555556,\"#d8576b\"],[0.6666666666666666,\"#ed7953\"],[0.7777777777777778,\"#fb9f3a\"],[0.8888888888888888,\"#fdca26\"],[1.0,\"#f0f921\"]]}],\"heatmap\":[{\"type\":\"heatmap\",\"colorbar\":{\"outlinewidth\":0,\"ticks\":\"\"},\"colorscale\":[[0.0,\"#0d0887\"],[0.1111111111111111,\"#46039f\"],[0.2222222222222222,\"#7201a8\"],[0.3333333333333333,\"#9c179e\"],[0.4444444444444444,\"#bd3786\"],[0.5555555555555556,\"#d8576b\"],[0.6666666666666666,\"#ed7953\"],[0.7777777777777778,\"#fb9f3a\"],[0.8888888888888888,\"#fdca26\"],[1.0,\"#f0f921\"]]}],\"heatmapgl\":[{\"type\":\"heatmapgl\",\"colorbar\":{\"outlinewidth\":0,\"ticks\":\"\"},\"colorscale\":[[0.0,\"#0d0887\"],[0.1111111111111111,\"#46039f\"],[0.2222222222222222,\"#7201a8\"],[0.3333333333333333,\"#9c179e\"],[0.4444444444444444,\"#bd3786\"],[0.5555555555555556,\"#d8576b\"],[0.6666666666666666,\"#ed7953\"],[0.7777777777777778,\"#fb9f3a\"],[0.8888888888888888,\"#fdca26\"],[1.0,\"#f0f921\"]]}],\"contourcarpet\":[{\"type\":\"contourcarpet\",\"colorbar\":{\"outlinewidth\":0,\"ticks\":\"\"}}],\"contour\":[{\"type\":\"contour\",\"colorbar\":{\"outlinewidth\":0,\"ticks\":\"\"},\"colorscale\":[[0.0,\"#0d0887\"],[0.1111111111111111,\"#46039f\"],[0.2222222222222222,\"#7201a8\"],[0.3333333333333333,\"#9c179e\"],[0.4444444444444444,\"#bd3786\"],[0.5555555555555556,\"#d8576b\"],[0.6666666666666666,\"#ed7953\"],[0.7777777777777778,\"#fb9f3a\"],[0.8888888888888888,\"#fdca26\"],[1.0,\"#f0f921\"]]}],\"surface\":[{\"type\":\"surface\",\"colorbar\":{\"outlinewidth\":0,\"ticks\":\"\"},\"colorscale\":[[0.0,\"#0d0887\"],[0.1111111111111111,\"#46039f\"],[0.2222222222222222,\"#7201a8\"],[0.3333333333333333,\"#9c179e\"],[0.4444444444444444,\"#bd3786\"],[0.5555555555555556,\"#d8576b\"],[0.6666666666666666,\"#ed7953\"],[0.7777777777777778,\"#fb9f3a\"],[0.8888888888888888,\"#fdca26\"],[1.0,\"#f0f921\"]]}],\"mesh3d\":[{\"type\":\"mesh3d\",\"colorbar\":{\"outlinewidth\":0,\"ticks\":\"\"}}],\"scatter\":[{\"fillpattern\":{\"fillmode\":\"overlay\",\"size\":10,\"solidity\":0.2},\"type\":\"scatter\"}],\"parcoords\":[{\"type\":\"parcoords\",\"line\":{\"colorbar\":{\"outlinewidth\":0,\"ticks\":\"\"}}}],\"scatterpolargl\":[{\"type\":\"scatterpolargl\",\"marker\":{\"colorbar\":{\"outlinewidth\":0,\"ticks\":\"\"}}}],\"bar\":[{\"error_x\":{\"color\":\"#2a3f5f\"},\"error_y\":{\"color\":\"#2a3f5f\"},\"marker\":{\"line\":{\"color\":\"#E5ECF6\",\"width\":0.5},\"pattern\":{\"fillmode\":\"overlay\",\"size\":10,\"solidity\":0.2}},\"type\":\"bar\"}],\"scattergeo\":[{\"type\":\"scattergeo\",\"marker\":{\"colorbar\":{\"outlinewidth\":0,\"ticks\":\"\"}}}],\"scatterpolar\":[{\"type\":\"scatterpolar\",\"marker\":{\"colorbar\":{\"outlinewidth\":0,\"ticks\":\"\"}}}],\"histogram\":[{\"marker\":{\"pattern\":{\"fillmode\":\"overlay\",\"size\":10,\"solidity\":0.2}},\"type\":\"histogram\"}],\"scattergl\":[{\"type\":\"scattergl\",\"marker\":{\"colorbar\":{\"outlinewidth\":0,\"ticks\":\"\"}}}],\"scatter3d\":[{\"type\":\"scatter3d\",\"line\":{\"colorbar\":{\"outlinewidth\":0,\"ticks\":\"\"}},\"marker\":{\"colorbar\":{\"outlinewidth\":0,\"ticks\":\"\"}}}],\"scattermapbox\":[{\"type\":\"scattermapbox\",\"marker\":{\"colorbar\":{\"outlinewidth\":0,\"ticks\":\"\"}}}],\"scatterternary\":[{\"type\":\"scatterternary\",\"marker\":{\"colorbar\":{\"outlinewidth\":0,\"ticks\":\"\"}}}],\"scattercarpet\":[{\"type\":\"scattercarpet\",\"marker\":{\"colorbar\":{\"outlinewidth\":0,\"ticks\":\"\"}}}],\"carpet\":[{\"aaxis\":{\"endlinecolor\":\"#2a3f5f\",\"gridcolor\":\"white\",\"linecolor\":\"white\",\"minorgridcolor\":\"white\",\"startlinecolor\":\"#2a3f5f\"},\"baxis\":{\"endlinecolor\":\"#2a3f5f\",\"gridcolor\":\"white\",\"linecolor\":\"white\",\"minorgridcolor\":\"white\",\"startlinecolor\":\"#2a3f5f\"},\"type\":\"carpet\"}],\"table\":[{\"cells\":{\"fill\":{\"color\":\"#EBF0F8\"},\"line\":{\"color\":\"white\"}},\"header\":{\"fill\":{\"color\":\"#C8D4E3\"},\"line\":{\"color\":\"white\"}},\"type\":\"table\"}],\"barpolar\":[{\"marker\":{\"line\":{\"color\":\"#E5ECF6\",\"width\":0.5},\"pattern\":{\"fillmode\":\"overlay\",\"size\":10,\"solidity\":0.2}},\"type\":\"barpolar\"}],\"pie\":[{\"automargin\":true,\"type\":\"pie\"}]},\"layout\":{\"autotypenumbers\":\"strict\",\"colorway\":[\"#636efa\",\"#EF553B\",\"#00cc96\",\"#ab63fa\",\"#FFA15A\",\"#19d3f3\",\"#FF6692\",\"#B6E880\",\"#FF97FF\",\"#FECB52\"],\"font\":{\"color\":\"#2a3f5f\"},\"hovermode\":\"closest\",\"hoverlabel\":{\"align\":\"left\"},\"paper_bgcolor\":\"white\",\"plot_bgcolor\":\"#E5ECF6\",\"polar\":{\"bgcolor\":\"#E5ECF6\",\"angularaxis\":{\"gridcolor\":\"white\",\"linecolor\":\"white\",\"ticks\":\"\"},\"radialaxis\":{\"gridcolor\":\"white\",\"linecolor\":\"white\",\"ticks\":\"\"}},\"ternary\":{\"bgcolor\":\"#E5ECF6\",\"aaxis\":{\"gridcolor\":\"white\",\"linecolor\":\"white\",\"ticks\":\"\"},\"baxis\":{\"gridcolor\":\"white\",\"linecolor\":\"white\",\"ticks\":\"\"},\"caxis\":{\"gridcolor\":\"white\",\"linecolor\":\"white\",\"ticks\":\"\"}},\"coloraxis\":{\"colorbar\":{\"outlinewidth\":0,\"ticks\":\"\"}},\"colorscale\":{\"sequential\":[[0.0,\"#0d0887\"],[0.1111111111111111,\"#46039f\"],[0.2222222222222222,\"#7201a8\"],[0.3333333333333333,\"#9c179e\"],[0.4444444444444444,\"#bd3786\"],[0.5555555555555556,\"#d8576b\"],[0.6666666666666666,\"#ed7953\"],[0.7777777777777778,\"#fb9f3a\"],[0.8888888888888888,\"#fdca26\"],[1.0,\"#f0f921\"]],\"sequentialminus\":[[0.0,\"#0d0887\"],[0.1111111111111111,\"#46039f\"],[0.2222222222222222,\"#7201a8\"],[0.3333333333333333,\"#9c179e\"],[0.4444444444444444,\"#bd3786\"],[0.5555555555555556,\"#d8576b\"],[0.6666666666666666,\"#ed7953\"],[0.7777777777777778,\"#fb9f3a\"],[0.8888888888888888,\"#fdca26\"],[1.0,\"#f0f921\"]],\"diverging\":[[0,\"#8e0152\"],[0.1,\"#c51b7d\"],[0.2,\"#de77ae\"],[0.3,\"#f1b6da\"],[0.4,\"#fde0ef\"],[0.5,\"#f7f7f7\"],[0.6,\"#e6f5d0\"],[0.7,\"#b8e186\"],[0.8,\"#7fbc41\"],[0.9,\"#4d9221\"],[1,\"#276419\"]]},\"xaxis\":{\"gridcolor\":\"white\",\"linecolor\":\"white\",\"ticks\":\"\",\"title\":{\"standoff\":15},\"zerolinecolor\":\"white\",\"automargin\":true,\"zerolinewidth\":2},\"yaxis\":{\"gridcolor\":\"white\",\"linecolor\":\"white\",\"ticks\":\"\",\"title\":{\"standoff\":15},\"zerolinecolor\":\"white\",\"automargin\":true,\"zerolinewidth\":2},\"scene\":{\"xaxis\":{\"backgroundcolor\":\"#E5ECF6\",\"gridcolor\":\"white\",\"linecolor\":\"white\",\"showbackground\":true,\"ticks\":\"\",\"zerolinecolor\":\"white\",\"gridwidth\":2},\"yaxis\":{\"backgroundcolor\":\"#E5ECF6\",\"gridcolor\":\"white\",\"linecolor\":\"white\",\"showbackground\":true,\"ticks\":\"\",\"zerolinecolor\":\"white\",\"gridwidth\":2},\"zaxis\":{\"backgroundcolor\":\"#E5ECF6\",\"gridcolor\":\"white\",\"linecolor\":\"white\",\"showbackground\":true,\"ticks\":\"\",\"zerolinecolor\":\"white\",\"gridwidth\":2}},\"shapedefaults\":{\"line\":{\"color\":\"#2a3f5f\"}},\"annotationdefaults\":{\"arrowcolor\":\"#2a3f5f\",\"arrowhead\":0,\"arrowwidth\":1},\"geo\":{\"bgcolor\":\"white\",\"landcolor\":\"#E5ECF6\",\"subunitcolor\":\"white\",\"showland\":true,\"showlakes\":true,\"lakecolor\":\"white\"},\"title\":{\"x\":0.05},\"mapbox\":{\"style\":\"light\"}}}},                        {\"responsive\": true}                    ).then(function(){\n",
              "                            \n",
              "var gd = document.getElementById('56e28f9a-242c-4a7f-bb06-139136414f47');\n",
              "var x = new MutationObserver(function (mutations, observer) {{\n",
              "        var display = window.getComputedStyle(gd).display;\n",
              "        if (!display || display === 'none') {{\n",
              "            console.log([gd, 'removed!']);\n",
              "            Plotly.purge(gd);\n",
              "            observer.disconnect();\n",
              "        }}\n",
              "}});\n",
              "\n",
              "// Listen for the removal of the full notebook cells\n",
              "var notebookContainer = gd.closest('#notebook-container');\n",
              "if (notebookContainer) {{\n",
              "    x.observe(notebookContainer, {childList: true});\n",
              "}}\n",
              "\n",
              "// Listen for the clearing of the current output cell\n",
              "var outputEl = gd.closest('.output');\n",
              "if (outputEl) {{\n",
              "    x.observe(outputEl, {childList: true});\n",
              "}}\n",
              "\n",
              "                        })                };                            </script>        </div>\n",
              "</body>\n",
              "</html>"
            ]
          },
          "metadata": {}
        }
      ],
      "source": [
        "from optuna.visualization import plot_parallel_coordinate\n",
        "plot_parallel_coordinate(study)"
      ],
      "id": "yIx1n4T0VP-n"
    },
    {
      "cell_type": "code",
      "execution_count": null,
      "metadata": {
        "colab": {
          "base_uri": "https://localhost:8080/",
          "height": 562
        },
        "id": "Vof3ChhHVXf8",
        "outputId": "1dd1882f-b07d-44dd-fab4-1f3f20d89e7b"
      },
      "outputs": [
        {
          "data": {
            "text/html": [
              "<html>\n",
              "<head><meta charset=\"utf-8\" /></head>\n",
              "<body>\n",
              "    <div>            <script src=\"https://cdnjs.cloudflare.com/ajax/libs/mathjax/2.7.5/MathJax.js?config=TeX-AMS-MML_SVG\"></script><script type=\"text/javascript\">if (window.MathJax && window.MathJax.Hub && window.MathJax.Hub.Config) {window.MathJax.Hub.Config({SVG: {font: \"STIX-Web\"}});}</script>                <script type=\"text/javascript\">window.PlotlyConfig = {MathJaxConfig: 'local'};</script>\n",
              "        <script src=\"https://cdn.plot.ly/plotly-2.18.2.min.js\"></script>                <div id=\"f5360cc3-9ee5-4420-8b4c-63d3ff3dfc73\" class=\"plotly-graph-div\" style=\"height:525px; width:100%;\"></div>            <script type=\"text/javascript\">                                    window.PLOTLYENV=window.PLOTLYENV || {};                                    if (document.getElementById(\"f5360cc3-9ee5-4420-8b4c-63d3ff3dfc73\")) {                    Plotly.newPlot(                        \"f5360cc3-9ee5-4420-8b4c-63d3ff3dfc73\",                        [{\"cliponaxis\":false,\"hovertemplate\":[\"svc__gamma (FloatDistribution): 0.18085536099323588<extra></extra>\",\"svc__C (FloatDistribution): 0.8191446390067642<extra></extra>\"],\"marker\":{\"color\":\"rgb(66,146,198)\"},\"orientation\":\"h\",\"text\":[\"0.18\",\"0.82\"],\"textposition\":\"outside\",\"x\":[0.18085536099323588,0.8191446390067642],\"y\":[\"svc__gamma\",\"svc__C\"],\"type\":\"bar\"}],                        {\"showlegend\":false,\"title\":{\"text\":\"Hyperparameter Importances\"},\"xaxis\":{\"title\":{\"text\":\"Importance for Objective Value\"}},\"yaxis\":{\"title\":{\"text\":\"Hyperparameter\"}},\"template\":{\"data\":{\"histogram2dcontour\":[{\"type\":\"histogram2dcontour\",\"colorbar\":{\"outlinewidth\":0,\"ticks\":\"\"},\"colorscale\":[[0.0,\"#0d0887\"],[0.1111111111111111,\"#46039f\"],[0.2222222222222222,\"#7201a8\"],[0.3333333333333333,\"#9c179e\"],[0.4444444444444444,\"#bd3786\"],[0.5555555555555556,\"#d8576b\"],[0.6666666666666666,\"#ed7953\"],[0.7777777777777778,\"#fb9f3a\"],[0.8888888888888888,\"#fdca26\"],[1.0,\"#f0f921\"]]}],\"choropleth\":[{\"type\":\"choropleth\",\"colorbar\":{\"outlinewidth\":0,\"ticks\":\"\"}}],\"histogram2d\":[{\"type\":\"histogram2d\",\"colorbar\":{\"outlinewidth\":0,\"ticks\":\"\"},\"colorscale\":[[0.0,\"#0d0887\"],[0.1111111111111111,\"#46039f\"],[0.2222222222222222,\"#7201a8\"],[0.3333333333333333,\"#9c179e\"],[0.4444444444444444,\"#bd3786\"],[0.5555555555555556,\"#d8576b\"],[0.6666666666666666,\"#ed7953\"],[0.7777777777777778,\"#fb9f3a\"],[0.8888888888888888,\"#fdca26\"],[1.0,\"#f0f921\"]]}],\"heatmap\":[{\"type\":\"heatmap\",\"colorbar\":{\"outlinewidth\":0,\"ticks\":\"\"},\"colorscale\":[[0.0,\"#0d0887\"],[0.1111111111111111,\"#46039f\"],[0.2222222222222222,\"#7201a8\"],[0.3333333333333333,\"#9c179e\"],[0.4444444444444444,\"#bd3786\"],[0.5555555555555556,\"#d8576b\"],[0.6666666666666666,\"#ed7953\"],[0.7777777777777778,\"#fb9f3a\"],[0.8888888888888888,\"#fdca26\"],[1.0,\"#f0f921\"]]}],\"heatmapgl\":[{\"type\":\"heatmapgl\",\"colorbar\":{\"outlinewidth\":0,\"ticks\":\"\"},\"colorscale\":[[0.0,\"#0d0887\"],[0.1111111111111111,\"#46039f\"],[0.2222222222222222,\"#7201a8\"],[0.3333333333333333,\"#9c179e\"],[0.4444444444444444,\"#bd3786\"],[0.5555555555555556,\"#d8576b\"],[0.6666666666666666,\"#ed7953\"],[0.7777777777777778,\"#fb9f3a\"],[0.8888888888888888,\"#fdca26\"],[1.0,\"#f0f921\"]]}],\"contourcarpet\":[{\"type\":\"contourcarpet\",\"colorbar\":{\"outlinewidth\":0,\"ticks\":\"\"}}],\"contour\":[{\"type\":\"contour\",\"colorbar\":{\"outlinewidth\":0,\"ticks\":\"\"},\"colorscale\":[[0.0,\"#0d0887\"],[0.1111111111111111,\"#46039f\"],[0.2222222222222222,\"#7201a8\"],[0.3333333333333333,\"#9c179e\"],[0.4444444444444444,\"#bd3786\"],[0.5555555555555556,\"#d8576b\"],[0.6666666666666666,\"#ed7953\"],[0.7777777777777778,\"#fb9f3a\"],[0.8888888888888888,\"#fdca26\"],[1.0,\"#f0f921\"]]}],\"surface\":[{\"type\":\"surface\",\"colorbar\":{\"outlinewidth\":0,\"ticks\":\"\"},\"colorscale\":[[0.0,\"#0d0887\"],[0.1111111111111111,\"#46039f\"],[0.2222222222222222,\"#7201a8\"],[0.3333333333333333,\"#9c179e\"],[0.4444444444444444,\"#bd3786\"],[0.5555555555555556,\"#d8576b\"],[0.6666666666666666,\"#ed7953\"],[0.7777777777777778,\"#fb9f3a\"],[0.8888888888888888,\"#fdca26\"],[1.0,\"#f0f921\"]]}],\"mesh3d\":[{\"type\":\"mesh3d\",\"colorbar\":{\"outlinewidth\":0,\"ticks\":\"\"}}],\"scatter\":[{\"fillpattern\":{\"fillmode\":\"overlay\",\"size\":10,\"solidity\":0.2},\"type\":\"scatter\"}],\"parcoords\":[{\"type\":\"parcoords\",\"line\":{\"colorbar\":{\"outlinewidth\":0,\"ticks\":\"\"}}}],\"scatterpolargl\":[{\"type\":\"scatterpolargl\",\"marker\":{\"colorbar\":{\"outlinewidth\":0,\"ticks\":\"\"}}}],\"bar\":[{\"error_x\":{\"color\":\"#2a3f5f\"},\"error_y\":{\"color\":\"#2a3f5f\"},\"marker\":{\"line\":{\"color\":\"#E5ECF6\",\"width\":0.5},\"pattern\":{\"fillmode\":\"overlay\",\"size\":10,\"solidity\":0.2}},\"type\":\"bar\"}],\"scattergeo\":[{\"type\":\"scattergeo\",\"marker\":{\"colorbar\":{\"outlinewidth\":0,\"ticks\":\"\"}}}],\"scatterpolar\":[{\"type\":\"scatterpolar\",\"marker\":{\"colorbar\":{\"outlinewidth\":0,\"ticks\":\"\"}}}],\"histogram\":[{\"marker\":{\"pattern\":{\"fillmode\":\"overlay\",\"size\":10,\"solidity\":0.2}},\"type\":\"histogram\"}],\"scattergl\":[{\"type\":\"scattergl\",\"marker\":{\"colorbar\":{\"outlinewidth\":0,\"ticks\":\"\"}}}],\"scatter3d\":[{\"type\":\"scatter3d\",\"line\":{\"colorbar\":{\"outlinewidth\":0,\"ticks\":\"\"}},\"marker\":{\"colorbar\":{\"outlinewidth\":0,\"ticks\":\"\"}}}],\"scattermapbox\":[{\"type\":\"scattermapbox\",\"marker\":{\"colorbar\":{\"outlinewidth\":0,\"ticks\":\"\"}}}],\"scatterternary\":[{\"type\":\"scatterternary\",\"marker\":{\"colorbar\":{\"outlinewidth\":0,\"ticks\":\"\"}}}],\"scattercarpet\":[{\"type\":\"scattercarpet\",\"marker\":{\"colorbar\":{\"outlinewidth\":0,\"ticks\":\"\"}}}],\"carpet\":[{\"aaxis\":{\"endlinecolor\":\"#2a3f5f\",\"gridcolor\":\"white\",\"linecolor\":\"white\",\"minorgridcolor\":\"white\",\"startlinecolor\":\"#2a3f5f\"},\"baxis\":{\"endlinecolor\":\"#2a3f5f\",\"gridcolor\":\"white\",\"linecolor\":\"white\",\"minorgridcolor\":\"white\",\"startlinecolor\":\"#2a3f5f\"},\"type\":\"carpet\"}],\"table\":[{\"cells\":{\"fill\":{\"color\":\"#EBF0F8\"},\"line\":{\"color\":\"white\"}},\"header\":{\"fill\":{\"color\":\"#C8D4E3\"},\"line\":{\"color\":\"white\"}},\"type\":\"table\"}],\"barpolar\":[{\"marker\":{\"line\":{\"color\":\"#E5ECF6\",\"width\":0.5},\"pattern\":{\"fillmode\":\"overlay\",\"size\":10,\"solidity\":0.2}},\"type\":\"barpolar\"}],\"pie\":[{\"automargin\":true,\"type\":\"pie\"}]},\"layout\":{\"autotypenumbers\":\"strict\",\"colorway\":[\"#636efa\",\"#EF553B\",\"#00cc96\",\"#ab63fa\",\"#FFA15A\",\"#19d3f3\",\"#FF6692\",\"#B6E880\",\"#FF97FF\",\"#FECB52\"],\"font\":{\"color\":\"#2a3f5f\"},\"hovermode\":\"closest\",\"hoverlabel\":{\"align\":\"left\"},\"paper_bgcolor\":\"white\",\"plot_bgcolor\":\"#E5ECF6\",\"polar\":{\"bgcolor\":\"#E5ECF6\",\"angularaxis\":{\"gridcolor\":\"white\",\"linecolor\":\"white\",\"ticks\":\"\"},\"radialaxis\":{\"gridcolor\":\"white\",\"linecolor\":\"white\",\"ticks\":\"\"}},\"ternary\":{\"bgcolor\":\"#E5ECF6\",\"aaxis\":{\"gridcolor\":\"white\",\"linecolor\":\"white\",\"ticks\":\"\"},\"baxis\":{\"gridcolor\":\"white\",\"linecolor\":\"white\",\"ticks\":\"\"},\"caxis\":{\"gridcolor\":\"white\",\"linecolor\":\"white\",\"ticks\":\"\"}},\"coloraxis\":{\"colorbar\":{\"outlinewidth\":0,\"ticks\":\"\"}},\"colorscale\":{\"sequential\":[[0.0,\"#0d0887\"],[0.1111111111111111,\"#46039f\"],[0.2222222222222222,\"#7201a8\"],[0.3333333333333333,\"#9c179e\"],[0.4444444444444444,\"#bd3786\"],[0.5555555555555556,\"#d8576b\"],[0.6666666666666666,\"#ed7953\"],[0.7777777777777778,\"#fb9f3a\"],[0.8888888888888888,\"#fdca26\"],[1.0,\"#f0f921\"]],\"sequentialminus\":[[0.0,\"#0d0887\"],[0.1111111111111111,\"#46039f\"],[0.2222222222222222,\"#7201a8\"],[0.3333333333333333,\"#9c179e\"],[0.4444444444444444,\"#bd3786\"],[0.5555555555555556,\"#d8576b\"],[0.6666666666666666,\"#ed7953\"],[0.7777777777777778,\"#fb9f3a\"],[0.8888888888888888,\"#fdca26\"],[1.0,\"#f0f921\"]],\"diverging\":[[0,\"#8e0152\"],[0.1,\"#c51b7d\"],[0.2,\"#de77ae\"],[0.3,\"#f1b6da\"],[0.4,\"#fde0ef\"],[0.5,\"#f7f7f7\"],[0.6,\"#e6f5d0\"],[0.7,\"#b8e186\"],[0.8,\"#7fbc41\"],[0.9,\"#4d9221\"],[1,\"#276419\"]]},\"xaxis\":{\"gridcolor\":\"white\",\"linecolor\":\"white\",\"ticks\":\"\",\"title\":{\"standoff\":15},\"zerolinecolor\":\"white\",\"automargin\":true,\"zerolinewidth\":2},\"yaxis\":{\"gridcolor\":\"white\",\"linecolor\":\"white\",\"ticks\":\"\",\"title\":{\"standoff\":15},\"zerolinecolor\":\"white\",\"automargin\":true,\"zerolinewidth\":2},\"scene\":{\"xaxis\":{\"backgroundcolor\":\"#E5ECF6\",\"gridcolor\":\"white\",\"linecolor\":\"white\",\"showbackground\":true,\"ticks\":\"\",\"zerolinecolor\":\"white\",\"gridwidth\":2},\"yaxis\":{\"backgroundcolor\":\"#E5ECF6\",\"gridcolor\":\"white\",\"linecolor\":\"white\",\"showbackground\":true,\"ticks\":\"\",\"zerolinecolor\":\"white\",\"gridwidth\":2},\"zaxis\":{\"backgroundcolor\":\"#E5ECF6\",\"gridcolor\":\"white\",\"linecolor\":\"white\",\"showbackground\":true,\"ticks\":\"\",\"zerolinecolor\":\"white\",\"gridwidth\":2}},\"shapedefaults\":{\"line\":{\"color\":\"#2a3f5f\"}},\"annotationdefaults\":{\"arrowcolor\":\"#2a3f5f\",\"arrowhead\":0,\"arrowwidth\":1},\"geo\":{\"bgcolor\":\"white\",\"landcolor\":\"#E5ECF6\",\"subunitcolor\":\"white\",\"showland\":true,\"showlakes\":true,\"lakecolor\":\"white\"},\"title\":{\"x\":0.05},\"mapbox\":{\"style\":\"light\"}}}},                        {\"responsive\": true}                    ).then(function(){\n",
              "                            \n",
              "var gd = document.getElementById('f5360cc3-9ee5-4420-8b4c-63d3ff3dfc73');\n",
              "var x = new MutationObserver(function (mutations, observer) {{\n",
              "        var display = window.getComputedStyle(gd).display;\n",
              "        if (!display || display === 'none') {{\n",
              "            console.log([gd, 'removed!']);\n",
              "            Plotly.purge(gd);\n",
              "            observer.disconnect();\n",
              "        }}\n",
              "}});\n",
              "\n",
              "// Listen for the removal of the full notebook cells\n",
              "var notebookContainer = gd.closest('#notebook-container');\n",
              "if (notebookContainer) {{\n",
              "    x.observe(notebookContainer, {childList: true});\n",
              "}}\n",
              "\n",
              "// Listen for the clearing of the current output cell\n",
              "var outputEl = gd.closest('.output');\n",
              "if (outputEl) {{\n",
              "    x.observe(outputEl, {childList: true});\n",
              "}}\n",
              "\n",
              "                        })                };                            </script>        </div>\n",
              "</body>\n",
              "</html>"
            ]
          },
          "metadata": {},
          "output_type": "display_data"
        }
      ],
      "source": [
        "from optuna.visualization import plot_param_importances\n",
        "plot_param_importances(study)"
      ],
      "id": "Vof3ChhHVXf8"
    },
    {
      "cell_type": "code",
      "execution_count": null,
      "metadata": {
        "colab": {
          "base_uri": "https://localhost:8080/"
        },
        "id": "h8vTOBMqYyS5",
        "outputId": "34271b0f-ae05-4139-d6c6-13f1d6afb876"
      },
      "outputs": [
        {
          "name": "stdout",
          "output_type": "stream",
          "text": [
            "Accuracy: 0.9921290054673095\n",
            "time 1.1953537464141846\n"
          ]
        }
      ],
      "source": [
        "rs=NIA\n",
        "svc = svm.SVC(random_state=rs)\n",
        "classif=Pipeline([('preprocessor',preprocessor1),('svc',svc)])\n",
        "classif.set_params(**study.best_params)\n",
        "(bacopt2, tiempo)=default_hp(classif, X_train, y_train, X_test, y_test)"
      ],
      "id": "h8vTOBMqYyS5"
    },
    {
      "cell_type": "code",
      "execution_count": null,
      "metadata": {
        "colab": {
          "base_uri": "https://localhost:8080/"
        },
        "id": "64h-nkk1f_ID",
        "outputId": "f5c3ab2c-351d-451f-9aa6-cf249de3d4d1"
      },
      "outputs": [
        {
          "name": "stdout",
          "output_type": "stream",
          "text": [
            "Fitting 3 folds for each of 30 candidates, totalling 90 fits\n",
            "Accuracy:  0.9929223091790608\n",
            "Best hyper-parameters: {'svc__C': 58.4555281556, 'svc__gamma': 0.9555442889814889} and their score (inner evaluation): 0.9930551669296639\n",
            "time 320.3331425189972\n"
          ]
        }
      ],
      "source": [
        "import time\n",
        "from sklearn import metrics\n",
        "from scipy.stats import loguniform\n",
        "from sklearn.model_selection import PredefinedSplit, RandomizedSearchCV\n",
        "from sklearn.model_selection import KFold\n",
        "rs=NIA\n",
        "svc = svm.SVC(random_state=rs)\n",
        "clf=Pipeline([('preprocessor1',preprocessor1),('svc',svc)])\n",
        "param_grid = {'svc__C': loguniform(0.1,100),\n",
        "              'svc__gamma': loguniform(0.001,1)}\n",
        "(Accur2,best_params,inner_score,timer2)=default_RS(classif, X_train, y_train, X_test, y_test,param_grid,30)"
      ],
      "id": "64h-nkk1f_ID"
    },
    {
      "cell_type": "markdown",
      "metadata": {
        "id": "QHh5vUbhAXYU"
      },
      "source": [
        "### Hist Gradient Boosting"
      ],
      "id": "QHh5vUbhAXYU"
    },
    {
      "cell_type": "code",
      "execution_count": null,
      "metadata": {
        "colab": {
          "base_uri": "https://localhost:8080/"
        },
        "id": "wjGa18C25ZYx",
        "outputId": "257d54e0-bbfd-4060-f998-6b834d3f4538"
      },
      "outputs": [
        {
          "output_type": "stream",
          "name": "stderr",
          "text": [
            "[I 2023-05-31 07:53:33,697] A new study created in memory with name: no-name-4e3f9f6e-7555-46c4-9c33-33d722195149\n",
            "[I 2023-05-31 07:53:50,747] Trial 0 finished with value: 0.9927214335994793 and parameters: {'hgb__max_depth': 6, 'hgb__learning_rate': 0.2821396549605388}. Best is trial 0 with value: 0.9927214335994793.\n",
            "[I 2023-05-31 07:54:03,620] Trial 1 finished with value: 0.9922616610155588 and parameters: {'hgb__max_depth': 11, 'hgb__learning_rate': 0.3294473406140297}. Best is trial 0 with value: 0.9927214335994793.\n",
            "[I 2023-05-31 07:54:16,764] Trial 2 finished with value: 0.9924044533084778 and parameters: {'hgb__max_depth': 11, 'hgb__learning_rate': 0.3381025255282813}. Best is trial 0 with value: 0.9927214335994793.\n",
            "[I 2023-05-31 07:54:28,020] Trial 3 finished with value: 0.9924929400265267 and parameters: {'hgb__max_depth': 16, 'hgb__learning_rate': 0.45478454033118393}. Best is trial 0 with value: 0.9927214335994793.\n",
            "[I 2023-05-31 07:54:37,366] Trial 4 finished with value: 0.9714248102356183 and parameters: {'hgb__max_depth': 3, 'hgb__learning_rate': 0.45944080365225276}. Best is trial 0 with value: 0.9927214335994793.\n",
            "[I 2023-05-31 07:54:46,975] Trial 5 finished with value: 0.9922382815331566 and parameters: {'hgb__max_depth': 4, 'hgb__learning_rate': 0.4599521373723666}. Best is trial 0 with value: 0.9927214335994793.\n",
            "[I 2023-05-31 07:54:58,666] Trial 6 finished with value: 0.9923350628740057 and parameters: {'hgb__max_depth': 9, 'hgb__learning_rate': 0.3643957855487086}. Best is trial 0 with value: 0.9927214335994793.\n",
            "[I 2023-05-31 07:55:19,179] Trial 7 finished with value: 0.9921576536156799 and parameters: {'hgb__max_depth': 16, 'hgb__learning_rate': 0.16332863459261993}. Best is trial 0 with value: 0.9927214335994793.\n",
            "[I 2023-05-31 07:55:37,147] Trial 8 finished with value: 0.9923873260404927 and parameters: {'hgb__max_depth': 17, 'hgb__learning_rate': 0.1942453781046478}. Best is trial 0 with value: 0.9927214335994793.\n",
            "[I 2023-05-31 07:56:04,687] Trial 9 finished with value: 0.9920180123879151 and parameters: {'hgb__max_depth': 13, 'hgb__learning_rate': 0.11036799981979972}. Best is trial 0 with value: 0.9927214335994793.\n",
            "[I 2023-05-31 07:56:38,554] Trial 10 finished with value: 0.9900640673066116 and parameters: {'hgb__max_depth': 7, 'hgb__learning_rate': 0.034471073880812414}. Best is trial 0 with value: 0.9927214335994793.\n",
            "[I 2023-05-31 07:56:49,704] Trial 11 finished with value: 0.9922576443720681 and parameters: {'hgb__max_depth': 20, 'hgb__learning_rate': 0.49762221285095476}. Best is trial 0 with value: 0.9927214335994793.\n",
            "[I 2023-05-31 07:57:05,532] Trial 12 finished with value: 0.9924039312187829 and parameters: {'hgb__max_depth': 14, 'hgb__learning_rate': 0.23880032757992778}. Best is trial 0 with value: 0.9927214335994793.\n",
            "[I 2023-05-31 07:57:19,814] Trial 13 finished with value: 0.9924779225265014 and parameters: {'hgb__max_depth': 7, 'hgb__learning_rate': 0.28731253468663903}. Best is trial 0 with value: 0.9927214335994793.\n",
            "[I 2023-05-31 07:57:31,345] Trial 14 finished with value: 0.9929402488017054 and parameters: {'hgb__max_depth': 20, 'hgb__learning_rate': 0.4019102951073945}. Best is trial 14 with value: 0.9929402488017054.\n",
            "[I 2023-05-31 07:57:43,065] Trial 15 finished with value: 0.9916529818746872 and parameters: {'hgb__max_depth': 19, 'hgb__learning_rate': 0.39659982449868225}. Best is trial 14 with value: 0.9929402488017054.\n",
            "[I 2023-05-31 07:57:57,087] Trial 16 finished with value: 0.9930961704829051 and parameters: {'hgb__max_depth': 6, 'hgb__learning_rate': 0.2721258296993709}. Best is trial 16 with value: 0.9930961704829051.\n",
            "[I 2023-05-31 07:58:08,654] Trial 17 finished with value: 0.9922312251460146 and parameters: {'hgb__max_depth': 9, 'hgb__learning_rate': 0.39369126274493244}. Best is trial 16 with value: 0.9930961704829051.\n",
            "[I 2023-05-31 07:58:22,844] Trial 18 finished with value: 0.992955574885742 and parameters: {'hgb__max_depth': 5, 'hgb__learning_rate': 0.24107820697467144}. Best is trial 16 with value: 0.9930961704829051.\n",
            "[I 2023-05-31 07:58:37,055] Trial 19 finished with value: 0.9930272698640455 and parameters: {'hgb__max_depth': 5, 'hgb__learning_rate': 0.2374834205105376}. Best is trial 16 with value: 0.9930961704829051.\n",
            "[I 2023-05-31 07:58:54,176] Trial 20 finished with value: 0.9920325927856716 and parameters: {'hgb__max_depth': 9, 'hgb__learning_rate': 0.19933771849260112}. Best is trial 16 with value: 0.9930961704829051.\n",
            "[I 2023-05-31 07:59:08,335] Trial 21 finished with value: 0.9933320817513085 and parameters: {'hgb__max_depth': 5, 'hgb__learning_rate': 0.24887970435879986}. Best is trial 21 with value: 0.9933320817513085.\n",
            "[I 2023-05-31 07:59:18,143] Trial 22 finished with value: 0.9665970830524581 and parameters: {'hgb__max_depth': 3, 'hgb__learning_rate': 0.2833660405827513}. Best is trial 21 with value: 0.9933320817513085.\n",
            "[I 2023-05-31 07:59:31,880] Trial 23 finished with value: 0.9930597623112045 and parameters: {'hgb__max_depth': 5, 'hgb__learning_rate': 0.243390013777}. Best is trial 21 with value: 0.9933320817513085.\n",
            "[I 2023-05-31 07:59:44,990] Trial 24 finished with value: 0.9922729501988004 and parameters: {'hgb__max_depth': 7, 'hgb__learning_rate': 0.3111792180826441}. Best is trial 21 with value: 0.9933320817513085.\n",
            "[I 2023-05-31 07:59:58,387] Trial 25 finished with value: 0.993311523332464 and parameters: {'hgb__max_depth': 5, 'hgb__learning_rate': 0.2615983336529235}. Best is trial 21 with value: 0.9933320817513085.\n",
            "[I 2023-05-31 08:00:11,682] Trial 26 finished with value: 0.9926364224676995 and parameters: {'hgb__max_depth': 8, 'hgb__learning_rate': 0.31621375269926555}. Best is trial 21 with value: 0.9933320817513085.\n",
            "[I 2023-05-31 08:00:22,227] Trial 27 finished with value: 0.9930822422626423 and parameters: {'hgb__max_depth': 3, 'hgb__learning_rate': 0.19919580028873352}. Best is trial 21 with value: 0.9933320817513085.\n",
            "[I 2023-05-31 08:00:36,936] Trial 28 finished with value: 0.9928395625974965 and parameters: {'hgb__max_depth': 6, 'hgb__learning_rate': 0.2693912984174013}. Best is trial 21 with value: 0.9933320817513085.\n",
            "[I 2023-05-31 08:00:50,565] Trial 29 finished with value: 0.9929357586432664 and parameters: {'hgb__max_depth': 6, 'hgb__learning_rate': 0.2933283120431676}. Best is trial 21 with value: 0.9933320817513085.\n"
          ]
        },
        {
          "output_type": "stream",
          "name": "stdout",
          "text": [
            "time 436.8703031539917\n"
          ]
        }
      ],
      "source": [
        "from pickle import TRUE\n",
        "import optuna\n",
        "from optuna import trial\n",
        "from sklearn.model_selection import cross_val_score\n",
        "from sklearn.ensemble import HistGradientBoostingClassifier\n",
        "from sklearn.model_selection import StratifiedKFold\n",
        "inicio = time.time()\n",
        "rs=NIA\n",
        "cv_inner = StratifiedKFold(n_splits=3, random_state=rs, shuffle=True)\n",
        "np.random.seed(NIA)\n",
        "def objective(trial):\n",
        "    hgb__max_depth = trial.suggest_int('hgb__max_depth',3,20)\n",
        "    hgb__learning_rate = trial.suggest_float(\"hgb__learning_rate\",0.01,0.5)\n",
        "    classifier_obj = Pipeline([('hgb',HistGradientBoostingClassifier(max_depth=hgb__max_depth, learning_rate=hgb__learning_rate,random_state=rs))])\n",
        "\n",
        "    # Step 3: Scoring method:\n",
        "    score = cross_val_score(classifier_obj, X_train, y_train,scoring='balanced_accuracy', n_jobs=-1, cv=cv_inner)\n",
        "    accuracy = score.mean()\n",
        "    return accuracy\n",
        "\n",
        "# Step 4: Running it\n",
        "study = optuna.create_study(direction=\"maximize\")\n",
        "study.optimize(objective, n_trials=30)\n",
        "\n",
        "fin=time.time()\n",
        "print('time',fin-inicio)\n",
        "timeopt3=fin-inicio"
      ],
      "id": "wjGa18C25ZYx"
    },
    {
      "cell_type": "code",
      "execution_count": null,
      "metadata": {
        "colab": {
          "base_uri": "https://localhost:8080/",
          "height": 698
        },
        "id": "04fbbb1e",
        "outputId": "404f6ccd-40fd-4e60-b0c6-f9c8798cc389"
      },
      "outputs": [
        {
          "output_type": "stream",
          "name": "stdout",
          "text": [
            "The best trial is : \n",
            "FrozenTrial(number=21, state=TrialState.COMPLETE, values=[0.9933320817513085], datetime_start=datetime.datetime(2023, 5, 31, 7, 58, 54, 179097), datetime_complete=datetime.datetime(2023, 5, 31, 7, 59, 8, 334805), params={'hgb__max_depth': 5, 'hgb__learning_rate': 0.24887970435879986}, user_attrs={}, system_attrs={}, intermediate_values={}, distributions={'hgb__max_depth': IntDistribution(high=20, log=False, low=3, step=1), 'hgb__learning_rate': FloatDistribution(high=0.5, log=False, low=0.01, step=None)}, trial_id=21, value=None)\n",
            "The best value is : \n",
            "0.9933320817513085\n",
            "The best parameters are : \n",
            "{'hgb__max_depth': 5, 'hgb__learning_rate': 0.24887970435879986}\n",
            "Precision: 0.9933320817513085\n",
            "Best hyperparameters: {'hgb__max_depth': 5, 'hgb__learning_rate': 0.24887970435879986}\n"
          ]
        },
        {
          "output_type": "display_data",
          "data": {
            "text/html": [
              "<html>\n",
              "<head><meta charset=\"utf-8\" /></head>\n",
              "<body>\n",
              "    <div>            <script src=\"https://cdnjs.cloudflare.com/ajax/libs/mathjax/2.7.5/MathJax.js?config=TeX-AMS-MML_SVG\"></script><script type=\"text/javascript\">if (window.MathJax && window.MathJax.Hub && window.MathJax.Hub.Config) {window.MathJax.Hub.Config({SVG: {font: \"STIX-Web\"}});}</script>                <script type=\"text/javascript\">window.PlotlyConfig = {MathJaxConfig: 'local'};</script>\n",
              "        <script src=\"https://cdn.plot.ly/plotly-2.18.2.min.js\"></script>                <div id=\"ddeb0477-cec1-4f1c-8df1-625519b0f087\" class=\"plotly-graph-div\" style=\"height:525px; width:100%;\"></div>            <script type=\"text/javascript\">                                    window.PLOTLYENV=window.PLOTLYENV || {};                                    if (document.getElementById(\"ddeb0477-cec1-4f1c-8df1-625519b0f087\")) {                    Plotly.newPlot(                        \"ddeb0477-cec1-4f1c-8df1-625519b0f087\",                        [{\"mode\":\"markers\",\"name\":\"Objective Value\",\"x\":[0,1,2,3,4,5,6,7,8,9,10,11,12,13,14,15,16,17,18,19,20,21,22,23,24,25,26,27,28,29],\"y\":[0.9927214335994793,0.9922616610155588,0.9924044533084778,0.9924929400265267,0.9714248102356183,0.9922382815331566,0.9923350628740057,0.9921576536156799,0.9923873260404927,0.9920180123879151,0.9900640673066116,0.9922576443720681,0.9924039312187829,0.9924779225265014,0.9929402488017054,0.9916529818746872,0.9930961704829051,0.9922312251460146,0.992955574885742,0.9930272698640455,0.9920325927856716,0.9933320817513085,0.9665970830524581,0.9930597623112045,0.9922729501988004,0.993311523332464,0.9926364224676995,0.9930822422626423,0.9928395625974965,0.9929357586432664],\"type\":\"scatter\"},{\"name\":\"Best Value\",\"x\":[0,1,2,3,4,5,6,7,8,9,10,11,12,13,14,15,16,17,18,19,20,21,22,23,24,25,26,27,28,29],\"y\":[0.9927214335994793,0.9927214335994793,0.9927214335994793,0.9927214335994793,0.9927214335994793,0.9927214335994793,0.9927214335994793,0.9927214335994793,0.9927214335994793,0.9927214335994793,0.9927214335994793,0.9927214335994793,0.9927214335994793,0.9927214335994793,0.9929402488017054,0.9929402488017054,0.9930961704829051,0.9930961704829051,0.9930961704829051,0.9930961704829051,0.9930961704829051,0.9933320817513085,0.9933320817513085,0.9933320817513085,0.9933320817513085,0.9933320817513085,0.9933320817513085,0.9933320817513085,0.9933320817513085,0.9933320817513085],\"type\":\"scatter\"}],                        {\"title\":{\"text\":\"Optimization History Plot\"},\"xaxis\":{\"title\":{\"text\":\"Trial\"}},\"yaxis\":{\"title\":{\"text\":\"Objective Value\"}},\"template\":{\"data\":{\"histogram2dcontour\":[{\"type\":\"histogram2dcontour\",\"colorbar\":{\"outlinewidth\":0,\"ticks\":\"\"},\"colorscale\":[[0.0,\"#0d0887\"],[0.1111111111111111,\"#46039f\"],[0.2222222222222222,\"#7201a8\"],[0.3333333333333333,\"#9c179e\"],[0.4444444444444444,\"#bd3786\"],[0.5555555555555556,\"#d8576b\"],[0.6666666666666666,\"#ed7953\"],[0.7777777777777778,\"#fb9f3a\"],[0.8888888888888888,\"#fdca26\"],[1.0,\"#f0f921\"]]}],\"choropleth\":[{\"type\":\"choropleth\",\"colorbar\":{\"outlinewidth\":0,\"ticks\":\"\"}}],\"histogram2d\":[{\"type\":\"histogram2d\",\"colorbar\":{\"outlinewidth\":0,\"ticks\":\"\"},\"colorscale\":[[0.0,\"#0d0887\"],[0.1111111111111111,\"#46039f\"],[0.2222222222222222,\"#7201a8\"],[0.3333333333333333,\"#9c179e\"],[0.4444444444444444,\"#bd3786\"],[0.5555555555555556,\"#d8576b\"],[0.6666666666666666,\"#ed7953\"],[0.7777777777777778,\"#fb9f3a\"],[0.8888888888888888,\"#fdca26\"],[1.0,\"#f0f921\"]]}],\"heatmap\":[{\"type\":\"heatmap\",\"colorbar\":{\"outlinewidth\":0,\"ticks\":\"\"},\"colorscale\":[[0.0,\"#0d0887\"],[0.1111111111111111,\"#46039f\"],[0.2222222222222222,\"#7201a8\"],[0.3333333333333333,\"#9c179e\"],[0.4444444444444444,\"#bd3786\"],[0.5555555555555556,\"#d8576b\"],[0.6666666666666666,\"#ed7953\"],[0.7777777777777778,\"#fb9f3a\"],[0.8888888888888888,\"#fdca26\"],[1.0,\"#f0f921\"]]}],\"heatmapgl\":[{\"type\":\"heatmapgl\",\"colorbar\":{\"outlinewidth\":0,\"ticks\":\"\"},\"colorscale\":[[0.0,\"#0d0887\"],[0.1111111111111111,\"#46039f\"],[0.2222222222222222,\"#7201a8\"],[0.3333333333333333,\"#9c179e\"],[0.4444444444444444,\"#bd3786\"],[0.5555555555555556,\"#d8576b\"],[0.6666666666666666,\"#ed7953\"],[0.7777777777777778,\"#fb9f3a\"],[0.8888888888888888,\"#fdca26\"],[1.0,\"#f0f921\"]]}],\"contourcarpet\":[{\"type\":\"contourcarpet\",\"colorbar\":{\"outlinewidth\":0,\"ticks\":\"\"}}],\"contour\":[{\"type\":\"contour\",\"colorbar\":{\"outlinewidth\":0,\"ticks\":\"\"},\"colorscale\":[[0.0,\"#0d0887\"],[0.1111111111111111,\"#46039f\"],[0.2222222222222222,\"#7201a8\"],[0.3333333333333333,\"#9c179e\"],[0.4444444444444444,\"#bd3786\"],[0.5555555555555556,\"#d8576b\"],[0.6666666666666666,\"#ed7953\"],[0.7777777777777778,\"#fb9f3a\"],[0.8888888888888888,\"#fdca26\"],[1.0,\"#f0f921\"]]}],\"surface\":[{\"type\":\"surface\",\"colorbar\":{\"outlinewidth\":0,\"ticks\":\"\"},\"colorscale\":[[0.0,\"#0d0887\"],[0.1111111111111111,\"#46039f\"],[0.2222222222222222,\"#7201a8\"],[0.3333333333333333,\"#9c179e\"],[0.4444444444444444,\"#bd3786\"],[0.5555555555555556,\"#d8576b\"],[0.6666666666666666,\"#ed7953\"],[0.7777777777777778,\"#fb9f3a\"],[0.8888888888888888,\"#fdca26\"],[1.0,\"#f0f921\"]]}],\"mesh3d\":[{\"type\":\"mesh3d\",\"colorbar\":{\"outlinewidth\":0,\"ticks\":\"\"}}],\"scatter\":[{\"fillpattern\":{\"fillmode\":\"overlay\",\"size\":10,\"solidity\":0.2},\"type\":\"scatter\"}],\"parcoords\":[{\"type\":\"parcoords\",\"line\":{\"colorbar\":{\"outlinewidth\":0,\"ticks\":\"\"}}}],\"scatterpolargl\":[{\"type\":\"scatterpolargl\",\"marker\":{\"colorbar\":{\"outlinewidth\":0,\"ticks\":\"\"}}}],\"bar\":[{\"error_x\":{\"color\":\"#2a3f5f\"},\"error_y\":{\"color\":\"#2a3f5f\"},\"marker\":{\"line\":{\"color\":\"#E5ECF6\",\"width\":0.5},\"pattern\":{\"fillmode\":\"overlay\",\"size\":10,\"solidity\":0.2}},\"type\":\"bar\"}],\"scattergeo\":[{\"type\":\"scattergeo\",\"marker\":{\"colorbar\":{\"outlinewidth\":0,\"ticks\":\"\"}}}],\"scatterpolar\":[{\"type\":\"scatterpolar\",\"marker\":{\"colorbar\":{\"outlinewidth\":0,\"ticks\":\"\"}}}],\"histogram\":[{\"marker\":{\"pattern\":{\"fillmode\":\"overlay\",\"size\":10,\"solidity\":0.2}},\"type\":\"histogram\"}],\"scattergl\":[{\"type\":\"scattergl\",\"marker\":{\"colorbar\":{\"outlinewidth\":0,\"ticks\":\"\"}}}],\"scatter3d\":[{\"type\":\"scatter3d\",\"line\":{\"colorbar\":{\"outlinewidth\":0,\"ticks\":\"\"}},\"marker\":{\"colorbar\":{\"outlinewidth\":0,\"ticks\":\"\"}}}],\"scattermapbox\":[{\"type\":\"scattermapbox\",\"marker\":{\"colorbar\":{\"outlinewidth\":0,\"ticks\":\"\"}}}],\"scatterternary\":[{\"type\":\"scatterternary\",\"marker\":{\"colorbar\":{\"outlinewidth\":0,\"ticks\":\"\"}}}],\"scattercarpet\":[{\"type\":\"scattercarpet\",\"marker\":{\"colorbar\":{\"outlinewidth\":0,\"ticks\":\"\"}}}],\"carpet\":[{\"aaxis\":{\"endlinecolor\":\"#2a3f5f\",\"gridcolor\":\"white\",\"linecolor\":\"white\",\"minorgridcolor\":\"white\",\"startlinecolor\":\"#2a3f5f\"},\"baxis\":{\"endlinecolor\":\"#2a3f5f\",\"gridcolor\":\"white\",\"linecolor\":\"white\",\"minorgridcolor\":\"white\",\"startlinecolor\":\"#2a3f5f\"},\"type\":\"carpet\"}],\"table\":[{\"cells\":{\"fill\":{\"color\":\"#EBF0F8\"},\"line\":{\"color\":\"white\"}},\"header\":{\"fill\":{\"color\":\"#C8D4E3\"},\"line\":{\"color\":\"white\"}},\"type\":\"table\"}],\"barpolar\":[{\"marker\":{\"line\":{\"color\":\"#E5ECF6\",\"width\":0.5},\"pattern\":{\"fillmode\":\"overlay\",\"size\":10,\"solidity\":0.2}},\"type\":\"barpolar\"}],\"pie\":[{\"automargin\":true,\"type\":\"pie\"}]},\"layout\":{\"autotypenumbers\":\"strict\",\"colorway\":[\"#636efa\",\"#EF553B\",\"#00cc96\",\"#ab63fa\",\"#FFA15A\",\"#19d3f3\",\"#FF6692\",\"#B6E880\",\"#FF97FF\",\"#FECB52\"],\"font\":{\"color\":\"#2a3f5f\"},\"hovermode\":\"closest\",\"hoverlabel\":{\"align\":\"left\"},\"paper_bgcolor\":\"white\",\"plot_bgcolor\":\"#E5ECF6\",\"polar\":{\"bgcolor\":\"#E5ECF6\",\"angularaxis\":{\"gridcolor\":\"white\",\"linecolor\":\"white\",\"ticks\":\"\"},\"radialaxis\":{\"gridcolor\":\"white\",\"linecolor\":\"white\",\"ticks\":\"\"}},\"ternary\":{\"bgcolor\":\"#E5ECF6\",\"aaxis\":{\"gridcolor\":\"white\",\"linecolor\":\"white\",\"ticks\":\"\"},\"baxis\":{\"gridcolor\":\"white\",\"linecolor\":\"white\",\"ticks\":\"\"},\"caxis\":{\"gridcolor\":\"white\",\"linecolor\":\"white\",\"ticks\":\"\"}},\"coloraxis\":{\"colorbar\":{\"outlinewidth\":0,\"ticks\":\"\"}},\"colorscale\":{\"sequential\":[[0.0,\"#0d0887\"],[0.1111111111111111,\"#46039f\"],[0.2222222222222222,\"#7201a8\"],[0.3333333333333333,\"#9c179e\"],[0.4444444444444444,\"#bd3786\"],[0.5555555555555556,\"#d8576b\"],[0.6666666666666666,\"#ed7953\"],[0.7777777777777778,\"#fb9f3a\"],[0.8888888888888888,\"#fdca26\"],[1.0,\"#f0f921\"]],\"sequentialminus\":[[0.0,\"#0d0887\"],[0.1111111111111111,\"#46039f\"],[0.2222222222222222,\"#7201a8\"],[0.3333333333333333,\"#9c179e\"],[0.4444444444444444,\"#bd3786\"],[0.5555555555555556,\"#d8576b\"],[0.6666666666666666,\"#ed7953\"],[0.7777777777777778,\"#fb9f3a\"],[0.8888888888888888,\"#fdca26\"],[1.0,\"#f0f921\"]],\"diverging\":[[0,\"#8e0152\"],[0.1,\"#c51b7d\"],[0.2,\"#de77ae\"],[0.3,\"#f1b6da\"],[0.4,\"#fde0ef\"],[0.5,\"#f7f7f7\"],[0.6,\"#e6f5d0\"],[0.7,\"#b8e186\"],[0.8,\"#7fbc41\"],[0.9,\"#4d9221\"],[1,\"#276419\"]]},\"xaxis\":{\"gridcolor\":\"white\",\"linecolor\":\"white\",\"ticks\":\"\",\"title\":{\"standoff\":15},\"zerolinecolor\":\"white\",\"automargin\":true,\"zerolinewidth\":2},\"yaxis\":{\"gridcolor\":\"white\",\"linecolor\":\"white\",\"ticks\":\"\",\"title\":{\"standoff\":15},\"zerolinecolor\":\"white\",\"automargin\":true,\"zerolinewidth\":2},\"scene\":{\"xaxis\":{\"backgroundcolor\":\"#E5ECF6\",\"gridcolor\":\"white\",\"linecolor\":\"white\",\"showbackground\":true,\"ticks\":\"\",\"zerolinecolor\":\"white\",\"gridwidth\":2},\"yaxis\":{\"backgroundcolor\":\"#E5ECF6\",\"gridcolor\":\"white\",\"linecolor\":\"white\",\"showbackground\":true,\"ticks\":\"\",\"zerolinecolor\":\"white\",\"gridwidth\":2},\"zaxis\":{\"backgroundcolor\":\"#E5ECF6\",\"gridcolor\":\"white\",\"linecolor\":\"white\",\"showbackground\":true,\"ticks\":\"\",\"zerolinecolor\":\"white\",\"gridwidth\":2}},\"shapedefaults\":{\"line\":{\"color\":\"#2a3f5f\"}},\"annotationdefaults\":{\"arrowcolor\":\"#2a3f5f\",\"arrowhead\":0,\"arrowwidth\":1},\"geo\":{\"bgcolor\":\"white\",\"landcolor\":\"#E5ECF6\",\"subunitcolor\":\"white\",\"showland\":true,\"showlakes\":true,\"lakecolor\":\"white\"},\"title\":{\"x\":0.05},\"mapbox\":{\"style\":\"light\"}}}},                        {\"responsive\": true}                    ).then(function(){\n",
              "                            \n",
              "var gd = document.getElementById('ddeb0477-cec1-4f1c-8df1-625519b0f087');\n",
              "var x = new MutationObserver(function (mutations, observer) {{\n",
              "        var display = window.getComputedStyle(gd).display;\n",
              "        if (!display || display === 'none') {{\n",
              "            console.log([gd, 'removed!']);\n",
              "            Plotly.purge(gd);\n",
              "            observer.disconnect();\n",
              "        }}\n",
              "}});\n",
              "\n",
              "// Listen for the removal of the full notebook cells\n",
              "var notebookContainer = gd.closest('#notebook-container');\n",
              "if (notebookContainer) {{\n",
              "    x.observe(notebookContainer, {childList: true});\n",
              "}}\n",
              "\n",
              "// Listen for the clearing of the current output cell\n",
              "var outputEl = gd.closest('.output');\n",
              "if (outputEl) {{\n",
              "    x.observe(outputEl, {childList: true});\n",
              "}}\n",
              "\n",
              "                        })                };                            </script>        </div>\n",
              "</body>\n",
              "</html>"
            ]
          },
          "metadata": {}
        }
      ],
      "source": [
        "# Getting the best trial:\n",
        "print(f\"The best trial is : \\n{study.best_trial}\")\n",
        "# Getting the best score:\n",
        "print(f\"The best value is : \\n{study.best_value}\")\n",
        "# Getting the best parameters:\n",
        "print(f\"The best parameters are : \\n{study.best_params}\")\n",
        "trial = study.best_trial\n",
        "print('Precision: {}'.format(trial.value))\n",
        "print(\"Best hyperparameters: {}\".format(trial.params))\n",
        "import matplotlib.pyplot as plt\n",
        "optuna.visualization.plot_optimization_history(study).show()"
      ],
      "id": "04fbbb1e"
    },
    {
      "cell_type": "code",
      "execution_count": null,
      "metadata": {
        "colab": {
          "base_uri": "https://localhost:8080/",
          "height": 542
        },
        "id": "cgrtHqkdU7Tw",
        "outputId": "f25b17f5-75ba-42d9-9a9b-0d3821a8ba7e"
      },
      "outputs": [
        {
          "output_type": "display_data",
          "data": {
            "text/html": [
              "<html>\n",
              "<head><meta charset=\"utf-8\" /></head>\n",
              "<body>\n",
              "    <div>            <script src=\"https://cdnjs.cloudflare.com/ajax/libs/mathjax/2.7.5/MathJax.js?config=TeX-AMS-MML_SVG\"></script><script type=\"text/javascript\">if (window.MathJax && window.MathJax.Hub && window.MathJax.Hub.Config) {window.MathJax.Hub.Config({SVG: {font: \"STIX-Web\"}});}</script>                <script type=\"text/javascript\">window.PlotlyConfig = {MathJaxConfig: 'local'};</script>\n",
              "        <script src=\"https://cdn.plot.ly/plotly-2.18.2.min.js\"></script>                <div id=\"0247c231-7770-4dc0-bca6-8bd301b31ad9\" class=\"plotly-graph-div\" style=\"height:525px; width:100%;\"></div>            <script type=\"text/javascript\">                                    window.PLOTLYENV=window.PLOTLYENV || {};                                    if (document.getElementById(\"0247c231-7770-4dc0-bca6-8bd301b31ad9\")) {                    Plotly.newPlot(                        \"0247c231-7770-4dc0-bca6-8bd301b31ad9\",                        [{\"dimensions\":[{\"label\":\"Objective Value\",\"range\":[0.9665970830524581,0.9933320817513085],\"values\":[0.9927214335994793,0.9922616610155588,0.9924044533084778,0.9924929400265267,0.9714248102356183,0.9922382815331566,0.9923350628740057,0.9921576536156799,0.9923873260404927,0.9920180123879151,0.9900640673066116,0.9922576443720681,0.9924039312187829,0.9924779225265014,0.9929402488017054,0.9916529818746872,0.9930961704829051,0.9922312251460146,0.992955574885742,0.9930272698640455,0.9920325927856716,0.9933320817513085,0.9665970830524581,0.9930597623112045,0.9922729501988004,0.993311523332464,0.9926364224676995,0.9930822422626423,0.9928395625974965,0.9929357586432664]},{\"label\":\"hgb__learning_rate\",\"range\":[0.034471073880812414,0.49762221285095476],\"values\":[0.2821396549605388,0.3294473406140297,0.3381025255282813,0.45478454033118393,0.45944080365225276,0.4599521373723666,0.3643957855487086,0.16332863459261993,0.1942453781046478,0.11036799981979972,0.034471073880812414,0.49762221285095476,0.23880032757992778,0.28731253468663903,0.4019102951073945,0.39659982449868225,0.2721258296993709,0.39369126274493244,0.24107820697467144,0.2374834205105376,0.19933771849260112,0.24887970435879986,0.2833660405827513,0.243390013777,0.3111792180826441,0.2615983336529235,0.31621375269926555,0.19919580028873352,0.2693912984174013,0.2933283120431676]},{\"label\":\"hgb__max_depth\",\"range\":[3,20],\"values\":[6,11,11,16,3,4,9,16,17,13,7,20,14,7,20,19,6,9,5,5,9,5,3,5,7,5,8,3,6,6]}],\"labelangle\":30,\"labelside\":\"bottom\",\"line\":{\"color\":[0.9927214335994793,0.9922616610155588,0.9924044533084778,0.9924929400265267,0.9714248102356183,0.9922382815331566,0.9923350628740057,0.9921576536156799,0.9923873260404927,0.9920180123879151,0.9900640673066116,0.9922576443720681,0.9924039312187829,0.9924779225265014,0.9929402488017054,0.9916529818746872,0.9930961704829051,0.9922312251460146,0.992955574885742,0.9930272698640455,0.9920325927856716,0.9933320817513085,0.9665970830524581,0.9930597623112045,0.9922729501988004,0.993311523332464,0.9926364224676995,0.9930822422626423,0.9928395625974965,0.9929357586432664],\"colorbar\":{\"title\":{\"text\":\"Objective Value\"}},\"colorscale\":[[0.0,\"rgb(247,251,255)\"],[0.125,\"rgb(222,235,247)\"],[0.25,\"rgb(198,219,239)\"],[0.375,\"rgb(158,202,225)\"],[0.5,\"rgb(107,174,214)\"],[0.625,\"rgb(66,146,198)\"],[0.75,\"rgb(33,113,181)\"],[0.875,\"rgb(8,81,156)\"],[1.0,\"rgb(8,48,107)\"]],\"reversescale\":false,\"showscale\":true},\"type\":\"parcoords\"}],                        {\"title\":{\"text\":\"Parallel Coordinate Plot\"},\"template\":{\"data\":{\"histogram2dcontour\":[{\"type\":\"histogram2dcontour\",\"colorbar\":{\"outlinewidth\":0,\"ticks\":\"\"},\"colorscale\":[[0.0,\"#0d0887\"],[0.1111111111111111,\"#46039f\"],[0.2222222222222222,\"#7201a8\"],[0.3333333333333333,\"#9c179e\"],[0.4444444444444444,\"#bd3786\"],[0.5555555555555556,\"#d8576b\"],[0.6666666666666666,\"#ed7953\"],[0.7777777777777778,\"#fb9f3a\"],[0.8888888888888888,\"#fdca26\"],[1.0,\"#f0f921\"]]}],\"choropleth\":[{\"type\":\"choropleth\",\"colorbar\":{\"outlinewidth\":0,\"ticks\":\"\"}}],\"histogram2d\":[{\"type\":\"histogram2d\",\"colorbar\":{\"outlinewidth\":0,\"ticks\":\"\"},\"colorscale\":[[0.0,\"#0d0887\"],[0.1111111111111111,\"#46039f\"],[0.2222222222222222,\"#7201a8\"],[0.3333333333333333,\"#9c179e\"],[0.4444444444444444,\"#bd3786\"],[0.5555555555555556,\"#d8576b\"],[0.6666666666666666,\"#ed7953\"],[0.7777777777777778,\"#fb9f3a\"],[0.8888888888888888,\"#fdca26\"],[1.0,\"#f0f921\"]]}],\"heatmap\":[{\"type\":\"heatmap\",\"colorbar\":{\"outlinewidth\":0,\"ticks\":\"\"},\"colorscale\":[[0.0,\"#0d0887\"],[0.1111111111111111,\"#46039f\"],[0.2222222222222222,\"#7201a8\"],[0.3333333333333333,\"#9c179e\"],[0.4444444444444444,\"#bd3786\"],[0.5555555555555556,\"#d8576b\"],[0.6666666666666666,\"#ed7953\"],[0.7777777777777778,\"#fb9f3a\"],[0.8888888888888888,\"#fdca26\"],[1.0,\"#f0f921\"]]}],\"heatmapgl\":[{\"type\":\"heatmapgl\",\"colorbar\":{\"outlinewidth\":0,\"ticks\":\"\"},\"colorscale\":[[0.0,\"#0d0887\"],[0.1111111111111111,\"#46039f\"],[0.2222222222222222,\"#7201a8\"],[0.3333333333333333,\"#9c179e\"],[0.4444444444444444,\"#bd3786\"],[0.5555555555555556,\"#d8576b\"],[0.6666666666666666,\"#ed7953\"],[0.7777777777777778,\"#fb9f3a\"],[0.8888888888888888,\"#fdca26\"],[1.0,\"#f0f921\"]]}],\"contourcarpet\":[{\"type\":\"contourcarpet\",\"colorbar\":{\"outlinewidth\":0,\"ticks\":\"\"}}],\"contour\":[{\"type\":\"contour\",\"colorbar\":{\"outlinewidth\":0,\"ticks\":\"\"},\"colorscale\":[[0.0,\"#0d0887\"],[0.1111111111111111,\"#46039f\"],[0.2222222222222222,\"#7201a8\"],[0.3333333333333333,\"#9c179e\"],[0.4444444444444444,\"#bd3786\"],[0.5555555555555556,\"#d8576b\"],[0.6666666666666666,\"#ed7953\"],[0.7777777777777778,\"#fb9f3a\"],[0.8888888888888888,\"#fdca26\"],[1.0,\"#f0f921\"]]}],\"surface\":[{\"type\":\"surface\",\"colorbar\":{\"outlinewidth\":0,\"ticks\":\"\"},\"colorscale\":[[0.0,\"#0d0887\"],[0.1111111111111111,\"#46039f\"],[0.2222222222222222,\"#7201a8\"],[0.3333333333333333,\"#9c179e\"],[0.4444444444444444,\"#bd3786\"],[0.5555555555555556,\"#d8576b\"],[0.6666666666666666,\"#ed7953\"],[0.7777777777777778,\"#fb9f3a\"],[0.8888888888888888,\"#fdca26\"],[1.0,\"#f0f921\"]]}],\"mesh3d\":[{\"type\":\"mesh3d\",\"colorbar\":{\"outlinewidth\":0,\"ticks\":\"\"}}],\"scatter\":[{\"fillpattern\":{\"fillmode\":\"overlay\",\"size\":10,\"solidity\":0.2},\"type\":\"scatter\"}],\"parcoords\":[{\"type\":\"parcoords\",\"line\":{\"colorbar\":{\"outlinewidth\":0,\"ticks\":\"\"}}}],\"scatterpolargl\":[{\"type\":\"scatterpolargl\",\"marker\":{\"colorbar\":{\"outlinewidth\":0,\"ticks\":\"\"}}}],\"bar\":[{\"error_x\":{\"color\":\"#2a3f5f\"},\"error_y\":{\"color\":\"#2a3f5f\"},\"marker\":{\"line\":{\"color\":\"#E5ECF6\",\"width\":0.5},\"pattern\":{\"fillmode\":\"overlay\",\"size\":10,\"solidity\":0.2}},\"type\":\"bar\"}],\"scattergeo\":[{\"type\":\"scattergeo\",\"marker\":{\"colorbar\":{\"outlinewidth\":0,\"ticks\":\"\"}}}],\"scatterpolar\":[{\"type\":\"scatterpolar\",\"marker\":{\"colorbar\":{\"outlinewidth\":0,\"ticks\":\"\"}}}],\"histogram\":[{\"marker\":{\"pattern\":{\"fillmode\":\"overlay\",\"size\":10,\"solidity\":0.2}},\"type\":\"histogram\"}],\"scattergl\":[{\"type\":\"scattergl\",\"marker\":{\"colorbar\":{\"outlinewidth\":0,\"ticks\":\"\"}}}],\"scatter3d\":[{\"type\":\"scatter3d\",\"line\":{\"colorbar\":{\"outlinewidth\":0,\"ticks\":\"\"}},\"marker\":{\"colorbar\":{\"outlinewidth\":0,\"ticks\":\"\"}}}],\"scattermapbox\":[{\"type\":\"scattermapbox\",\"marker\":{\"colorbar\":{\"outlinewidth\":0,\"ticks\":\"\"}}}],\"scatterternary\":[{\"type\":\"scatterternary\",\"marker\":{\"colorbar\":{\"outlinewidth\":0,\"ticks\":\"\"}}}],\"scattercarpet\":[{\"type\":\"scattercarpet\",\"marker\":{\"colorbar\":{\"outlinewidth\":0,\"ticks\":\"\"}}}],\"carpet\":[{\"aaxis\":{\"endlinecolor\":\"#2a3f5f\",\"gridcolor\":\"white\",\"linecolor\":\"white\",\"minorgridcolor\":\"white\",\"startlinecolor\":\"#2a3f5f\"},\"baxis\":{\"endlinecolor\":\"#2a3f5f\",\"gridcolor\":\"white\",\"linecolor\":\"white\",\"minorgridcolor\":\"white\",\"startlinecolor\":\"#2a3f5f\"},\"type\":\"carpet\"}],\"table\":[{\"cells\":{\"fill\":{\"color\":\"#EBF0F8\"},\"line\":{\"color\":\"white\"}},\"header\":{\"fill\":{\"color\":\"#C8D4E3\"},\"line\":{\"color\":\"white\"}},\"type\":\"table\"}],\"barpolar\":[{\"marker\":{\"line\":{\"color\":\"#E5ECF6\",\"width\":0.5},\"pattern\":{\"fillmode\":\"overlay\",\"size\":10,\"solidity\":0.2}},\"type\":\"barpolar\"}],\"pie\":[{\"automargin\":true,\"type\":\"pie\"}]},\"layout\":{\"autotypenumbers\":\"strict\",\"colorway\":[\"#636efa\",\"#EF553B\",\"#00cc96\",\"#ab63fa\",\"#FFA15A\",\"#19d3f3\",\"#FF6692\",\"#B6E880\",\"#FF97FF\",\"#FECB52\"],\"font\":{\"color\":\"#2a3f5f\"},\"hovermode\":\"closest\",\"hoverlabel\":{\"align\":\"left\"},\"paper_bgcolor\":\"white\",\"plot_bgcolor\":\"#E5ECF6\",\"polar\":{\"bgcolor\":\"#E5ECF6\",\"angularaxis\":{\"gridcolor\":\"white\",\"linecolor\":\"white\",\"ticks\":\"\"},\"radialaxis\":{\"gridcolor\":\"white\",\"linecolor\":\"white\",\"ticks\":\"\"}},\"ternary\":{\"bgcolor\":\"#E5ECF6\",\"aaxis\":{\"gridcolor\":\"white\",\"linecolor\":\"white\",\"ticks\":\"\"},\"baxis\":{\"gridcolor\":\"white\",\"linecolor\":\"white\",\"ticks\":\"\"},\"caxis\":{\"gridcolor\":\"white\",\"linecolor\":\"white\",\"ticks\":\"\"}},\"coloraxis\":{\"colorbar\":{\"outlinewidth\":0,\"ticks\":\"\"}},\"colorscale\":{\"sequential\":[[0.0,\"#0d0887\"],[0.1111111111111111,\"#46039f\"],[0.2222222222222222,\"#7201a8\"],[0.3333333333333333,\"#9c179e\"],[0.4444444444444444,\"#bd3786\"],[0.5555555555555556,\"#d8576b\"],[0.6666666666666666,\"#ed7953\"],[0.7777777777777778,\"#fb9f3a\"],[0.8888888888888888,\"#fdca26\"],[1.0,\"#f0f921\"]],\"sequentialminus\":[[0.0,\"#0d0887\"],[0.1111111111111111,\"#46039f\"],[0.2222222222222222,\"#7201a8\"],[0.3333333333333333,\"#9c179e\"],[0.4444444444444444,\"#bd3786\"],[0.5555555555555556,\"#d8576b\"],[0.6666666666666666,\"#ed7953\"],[0.7777777777777778,\"#fb9f3a\"],[0.8888888888888888,\"#fdca26\"],[1.0,\"#f0f921\"]],\"diverging\":[[0,\"#8e0152\"],[0.1,\"#c51b7d\"],[0.2,\"#de77ae\"],[0.3,\"#f1b6da\"],[0.4,\"#fde0ef\"],[0.5,\"#f7f7f7\"],[0.6,\"#e6f5d0\"],[0.7,\"#b8e186\"],[0.8,\"#7fbc41\"],[0.9,\"#4d9221\"],[1,\"#276419\"]]},\"xaxis\":{\"gridcolor\":\"white\",\"linecolor\":\"white\",\"ticks\":\"\",\"title\":{\"standoff\":15},\"zerolinecolor\":\"white\",\"automargin\":true,\"zerolinewidth\":2},\"yaxis\":{\"gridcolor\":\"white\",\"linecolor\":\"white\",\"ticks\":\"\",\"title\":{\"standoff\":15},\"zerolinecolor\":\"white\",\"automargin\":true,\"zerolinewidth\":2},\"scene\":{\"xaxis\":{\"backgroundcolor\":\"#E5ECF6\",\"gridcolor\":\"white\",\"linecolor\":\"white\",\"showbackground\":true,\"ticks\":\"\",\"zerolinecolor\":\"white\",\"gridwidth\":2},\"yaxis\":{\"backgroundcolor\":\"#E5ECF6\",\"gridcolor\":\"white\",\"linecolor\":\"white\",\"showbackground\":true,\"ticks\":\"\",\"zerolinecolor\":\"white\",\"gridwidth\":2},\"zaxis\":{\"backgroundcolor\":\"#E5ECF6\",\"gridcolor\":\"white\",\"linecolor\":\"white\",\"showbackground\":true,\"ticks\":\"\",\"zerolinecolor\":\"white\",\"gridwidth\":2}},\"shapedefaults\":{\"line\":{\"color\":\"#2a3f5f\"}},\"annotationdefaults\":{\"arrowcolor\":\"#2a3f5f\",\"arrowhead\":0,\"arrowwidth\":1},\"geo\":{\"bgcolor\":\"white\",\"landcolor\":\"#E5ECF6\",\"subunitcolor\":\"white\",\"showland\":true,\"showlakes\":true,\"lakecolor\":\"white\"},\"title\":{\"x\":0.05},\"mapbox\":{\"style\":\"light\"}}}},                        {\"responsive\": true}                    ).then(function(){\n",
              "                            \n",
              "var gd = document.getElementById('0247c231-7770-4dc0-bca6-8bd301b31ad9');\n",
              "var x = new MutationObserver(function (mutations, observer) {{\n",
              "        var display = window.getComputedStyle(gd).display;\n",
              "        if (!display || display === 'none') {{\n",
              "            console.log([gd, 'removed!']);\n",
              "            Plotly.purge(gd);\n",
              "            observer.disconnect();\n",
              "        }}\n",
              "}});\n",
              "\n",
              "// Listen for the removal of the full notebook cells\n",
              "var notebookContainer = gd.closest('#notebook-container');\n",
              "if (notebookContainer) {{\n",
              "    x.observe(notebookContainer, {childList: true});\n",
              "}}\n",
              "\n",
              "// Listen for the clearing of the current output cell\n",
              "var outputEl = gd.closest('.output');\n",
              "if (outputEl) {{\n",
              "    x.observe(outputEl, {childList: true});\n",
              "}}\n",
              "\n",
              "                        })                };                            </script>        </div>\n",
              "</body>\n",
              "</html>"
            ]
          },
          "metadata": {}
        }
      ],
      "source": [
        "from optuna.visualization import plot_parallel_coordinate\n",
        "plot_parallel_coordinate(study)"
      ],
      "id": "cgrtHqkdU7Tw"
    },
    {
      "cell_type": "code",
      "execution_count": null,
      "metadata": {
        "colab": {
          "base_uri": "https://localhost:8080/",
          "height": 542
        },
        "id": "dVvbOALcVdpB",
        "outputId": "2964a4ab-4d78-4a75-d047-7df69738a9e9"
      },
      "outputs": [
        {
          "output_type": "display_data",
          "data": {
            "text/html": [
              "<html>\n",
              "<head><meta charset=\"utf-8\" /></head>\n",
              "<body>\n",
              "    <div>            <script src=\"https://cdnjs.cloudflare.com/ajax/libs/mathjax/2.7.5/MathJax.js?config=TeX-AMS-MML_SVG\"></script><script type=\"text/javascript\">if (window.MathJax && window.MathJax.Hub && window.MathJax.Hub.Config) {window.MathJax.Hub.Config({SVG: {font: \"STIX-Web\"}});}</script>                <script type=\"text/javascript\">window.PlotlyConfig = {MathJaxConfig: 'local'};</script>\n",
              "        <script src=\"https://cdn.plot.ly/plotly-2.18.2.min.js\"></script>                <div id=\"25a2f6df-ab5a-4d09-aa0a-50cce2232bd5\" class=\"plotly-graph-div\" style=\"height:525px; width:100%;\"></div>            <script type=\"text/javascript\">                                    window.PLOTLYENV=window.PLOTLYENV || {};                                    if (document.getElementById(\"25a2f6df-ab5a-4d09-aa0a-50cce2232bd5\")) {                    Plotly.newPlot(                        \"25a2f6df-ab5a-4d09-aa0a-50cce2232bd5\",                        [{\"cliponaxis\":false,\"hovertemplate\":[\"hgb__learning_rate (FloatDistribution): 0.22855642973558474<extra></extra>\",\"hgb__max_depth (IntDistribution): 0.7714435702644153<extra></extra>\"],\"marker\":{\"color\":\"rgb(66,146,198)\"},\"orientation\":\"h\",\"text\":[\"0.23\",\"0.77\"],\"textposition\":\"outside\",\"x\":[0.22855642973558474,0.7714435702644153],\"y\":[\"hgb__learning_rate\",\"hgb__max_depth\"],\"type\":\"bar\"}],                        {\"showlegend\":false,\"title\":{\"text\":\"Hyperparameter Importances\"},\"xaxis\":{\"title\":{\"text\":\"Importance for Objective Value\"}},\"yaxis\":{\"title\":{\"text\":\"Hyperparameter\"}},\"template\":{\"data\":{\"histogram2dcontour\":[{\"type\":\"histogram2dcontour\",\"colorbar\":{\"outlinewidth\":0,\"ticks\":\"\"},\"colorscale\":[[0.0,\"#0d0887\"],[0.1111111111111111,\"#46039f\"],[0.2222222222222222,\"#7201a8\"],[0.3333333333333333,\"#9c179e\"],[0.4444444444444444,\"#bd3786\"],[0.5555555555555556,\"#d8576b\"],[0.6666666666666666,\"#ed7953\"],[0.7777777777777778,\"#fb9f3a\"],[0.8888888888888888,\"#fdca26\"],[1.0,\"#f0f921\"]]}],\"choropleth\":[{\"type\":\"choropleth\",\"colorbar\":{\"outlinewidth\":0,\"ticks\":\"\"}}],\"histogram2d\":[{\"type\":\"histogram2d\",\"colorbar\":{\"outlinewidth\":0,\"ticks\":\"\"},\"colorscale\":[[0.0,\"#0d0887\"],[0.1111111111111111,\"#46039f\"],[0.2222222222222222,\"#7201a8\"],[0.3333333333333333,\"#9c179e\"],[0.4444444444444444,\"#bd3786\"],[0.5555555555555556,\"#d8576b\"],[0.6666666666666666,\"#ed7953\"],[0.7777777777777778,\"#fb9f3a\"],[0.8888888888888888,\"#fdca26\"],[1.0,\"#f0f921\"]]}],\"heatmap\":[{\"type\":\"heatmap\",\"colorbar\":{\"outlinewidth\":0,\"ticks\":\"\"},\"colorscale\":[[0.0,\"#0d0887\"],[0.1111111111111111,\"#46039f\"],[0.2222222222222222,\"#7201a8\"],[0.3333333333333333,\"#9c179e\"],[0.4444444444444444,\"#bd3786\"],[0.5555555555555556,\"#d8576b\"],[0.6666666666666666,\"#ed7953\"],[0.7777777777777778,\"#fb9f3a\"],[0.8888888888888888,\"#fdca26\"],[1.0,\"#f0f921\"]]}],\"heatmapgl\":[{\"type\":\"heatmapgl\",\"colorbar\":{\"outlinewidth\":0,\"ticks\":\"\"},\"colorscale\":[[0.0,\"#0d0887\"],[0.1111111111111111,\"#46039f\"],[0.2222222222222222,\"#7201a8\"],[0.3333333333333333,\"#9c179e\"],[0.4444444444444444,\"#bd3786\"],[0.5555555555555556,\"#d8576b\"],[0.6666666666666666,\"#ed7953\"],[0.7777777777777778,\"#fb9f3a\"],[0.8888888888888888,\"#fdca26\"],[1.0,\"#f0f921\"]]}],\"contourcarpet\":[{\"type\":\"contourcarpet\",\"colorbar\":{\"outlinewidth\":0,\"ticks\":\"\"}}],\"contour\":[{\"type\":\"contour\",\"colorbar\":{\"outlinewidth\":0,\"ticks\":\"\"},\"colorscale\":[[0.0,\"#0d0887\"],[0.1111111111111111,\"#46039f\"],[0.2222222222222222,\"#7201a8\"],[0.3333333333333333,\"#9c179e\"],[0.4444444444444444,\"#bd3786\"],[0.5555555555555556,\"#d8576b\"],[0.6666666666666666,\"#ed7953\"],[0.7777777777777778,\"#fb9f3a\"],[0.8888888888888888,\"#fdca26\"],[1.0,\"#f0f921\"]]}],\"surface\":[{\"type\":\"surface\",\"colorbar\":{\"outlinewidth\":0,\"ticks\":\"\"},\"colorscale\":[[0.0,\"#0d0887\"],[0.1111111111111111,\"#46039f\"],[0.2222222222222222,\"#7201a8\"],[0.3333333333333333,\"#9c179e\"],[0.4444444444444444,\"#bd3786\"],[0.5555555555555556,\"#d8576b\"],[0.6666666666666666,\"#ed7953\"],[0.7777777777777778,\"#fb9f3a\"],[0.8888888888888888,\"#fdca26\"],[1.0,\"#f0f921\"]]}],\"mesh3d\":[{\"type\":\"mesh3d\",\"colorbar\":{\"outlinewidth\":0,\"ticks\":\"\"}}],\"scatter\":[{\"fillpattern\":{\"fillmode\":\"overlay\",\"size\":10,\"solidity\":0.2},\"type\":\"scatter\"}],\"parcoords\":[{\"type\":\"parcoords\",\"line\":{\"colorbar\":{\"outlinewidth\":0,\"ticks\":\"\"}}}],\"scatterpolargl\":[{\"type\":\"scatterpolargl\",\"marker\":{\"colorbar\":{\"outlinewidth\":0,\"ticks\":\"\"}}}],\"bar\":[{\"error_x\":{\"color\":\"#2a3f5f\"},\"error_y\":{\"color\":\"#2a3f5f\"},\"marker\":{\"line\":{\"color\":\"#E5ECF6\",\"width\":0.5},\"pattern\":{\"fillmode\":\"overlay\",\"size\":10,\"solidity\":0.2}},\"type\":\"bar\"}],\"scattergeo\":[{\"type\":\"scattergeo\",\"marker\":{\"colorbar\":{\"outlinewidth\":0,\"ticks\":\"\"}}}],\"scatterpolar\":[{\"type\":\"scatterpolar\",\"marker\":{\"colorbar\":{\"outlinewidth\":0,\"ticks\":\"\"}}}],\"histogram\":[{\"marker\":{\"pattern\":{\"fillmode\":\"overlay\",\"size\":10,\"solidity\":0.2}},\"type\":\"histogram\"}],\"scattergl\":[{\"type\":\"scattergl\",\"marker\":{\"colorbar\":{\"outlinewidth\":0,\"ticks\":\"\"}}}],\"scatter3d\":[{\"type\":\"scatter3d\",\"line\":{\"colorbar\":{\"outlinewidth\":0,\"ticks\":\"\"}},\"marker\":{\"colorbar\":{\"outlinewidth\":0,\"ticks\":\"\"}}}],\"scattermapbox\":[{\"type\":\"scattermapbox\",\"marker\":{\"colorbar\":{\"outlinewidth\":0,\"ticks\":\"\"}}}],\"scatterternary\":[{\"type\":\"scatterternary\",\"marker\":{\"colorbar\":{\"outlinewidth\":0,\"ticks\":\"\"}}}],\"scattercarpet\":[{\"type\":\"scattercarpet\",\"marker\":{\"colorbar\":{\"outlinewidth\":0,\"ticks\":\"\"}}}],\"carpet\":[{\"aaxis\":{\"endlinecolor\":\"#2a3f5f\",\"gridcolor\":\"white\",\"linecolor\":\"white\",\"minorgridcolor\":\"white\",\"startlinecolor\":\"#2a3f5f\"},\"baxis\":{\"endlinecolor\":\"#2a3f5f\",\"gridcolor\":\"white\",\"linecolor\":\"white\",\"minorgridcolor\":\"white\",\"startlinecolor\":\"#2a3f5f\"},\"type\":\"carpet\"}],\"table\":[{\"cells\":{\"fill\":{\"color\":\"#EBF0F8\"},\"line\":{\"color\":\"white\"}},\"header\":{\"fill\":{\"color\":\"#C8D4E3\"},\"line\":{\"color\":\"white\"}},\"type\":\"table\"}],\"barpolar\":[{\"marker\":{\"line\":{\"color\":\"#E5ECF6\",\"width\":0.5},\"pattern\":{\"fillmode\":\"overlay\",\"size\":10,\"solidity\":0.2}},\"type\":\"barpolar\"}],\"pie\":[{\"automargin\":true,\"type\":\"pie\"}]},\"layout\":{\"autotypenumbers\":\"strict\",\"colorway\":[\"#636efa\",\"#EF553B\",\"#00cc96\",\"#ab63fa\",\"#FFA15A\",\"#19d3f3\",\"#FF6692\",\"#B6E880\",\"#FF97FF\",\"#FECB52\"],\"font\":{\"color\":\"#2a3f5f\"},\"hovermode\":\"closest\",\"hoverlabel\":{\"align\":\"left\"},\"paper_bgcolor\":\"white\",\"plot_bgcolor\":\"#E5ECF6\",\"polar\":{\"bgcolor\":\"#E5ECF6\",\"angularaxis\":{\"gridcolor\":\"white\",\"linecolor\":\"white\",\"ticks\":\"\"},\"radialaxis\":{\"gridcolor\":\"white\",\"linecolor\":\"white\",\"ticks\":\"\"}},\"ternary\":{\"bgcolor\":\"#E5ECF6\",\"aaxis\":{\"gridcolor\":\"white\",\"linecolor\":\"white\",\"ticks\":\"\"},\"baxis\":{\"gridcolor\":\"white\",\"linecolor\":\"white\",\"ticks\":\"\"},\"caxis\":{\"gridcolor\":\"white\",\"linecolor\":\"white\",\"ticks\":\"\"}},\"coloraxis\":{\"colorbar\":{\"outlinewidth\":0,\"ticks\":\"\"}},\"colorscale\":{\"sequential\":[[0.0,\"#0d0887\"],[0.1111111111111111,\"#46039f\"],[0.2222222222222222,\"#7201a8\"],[0.3333333333333333,\"#9c179e\"],[0.4444444444444444,\"#bd3786\"],[0.5555555555555556,\"#d8576b\"],[0.6666666666666666,\"#ed7953\"],[0.7777777777777778,\"#fb9f3a\"],[0.8888888888888888,\"#fdca26\"],[1.0,\"#f0f921\"]],\"sequentialminus\":[[0.0,\"#0d0887\"],[0.1111111111111111,\"#46039f\"],[0.2222222222222222,\"#7201a8\"],[0.3333333333333333,\"#9c179e\"],[0.4444444444444444,\"#bd3786\"],[0.5555555555555556,\"#d8576b\"],[0.6666666666666666,\"#ed7953\"],[0.7777777777777778,\"#fb9f3a\"],[0.8888888888888888,\"#fdca26\"],[1.0,\"#f0f921\"]],\"diverging\":[[0,\"#8e0152\"],[0.1,\"#c51b7d\"],[0.2,\"#de77ae\"],[0.3,\"#f1b6da\"],[0.4,\"#fde0ef\"],[0.5,\"#f7f7f7\"],[0.6,\"#e6f5d0\"],[0.7,\"#b8e186\"],[0.8,\"#7fbc41\"],[0.9,\"#4d9221\"],[1,\"#276419\"]]},\"xaxis\":{\"gridcolor\":\"white\",\"linecolor\":\"white\",\"ticks\":\"\",\"title\":{\"standoff\":15},\"zerolinecolor\":\"white\",\"automargin\":true,\"zerolinewidth\":2},\"yaxis\":{\"gridcolor\":\"white\",\"linecolor\":\"white\",\"ticks\":\"\",\"title\":{\"standoff\":15},\"zerolinecolor\":\"white\",\"automargin\":true,\"zerolinewidth\":2},\"scene\":{\"xaxis\":{\"backgroundcolor\":\"#E5ECF6\",\"gridcolor\":\"white\",\"linecolor\":\"white\",\"showbackground\":true,\"ticks\":\"\",\"zerolinecolor\":\"white\",\"gridwidth\":2},\"yaxis\":{\"backgroundcolor\":\"#E5ECF6\",\"gridcolor\":\"white\",\"linecolor\":\"white\",\"showbackground\":true,\"ticks\":\"\",\"zerolinecolor\":\"white\",\"gridwidth\":2},\"zaxis\":{\"backgroundcolor\":\"#E5ECF6\",\"gridcolor\":\"white\",\"linecolor\":\"white\",\"showbackground\":true,\"ticks\":\"\",\"zerolinecolor\":\"white\",\"gridwidth\":2}},\"shapedefaults\":{\"line\":{\"color\":\"#2a3f5f\"}},\"annotationdefaults\":{\"arrowcolor\":\"#2a3f5f\",\"arrowhead\":0,\"arrowwidth\":1},\"geo\":{\"bgcolor\":\"white\",\"landcolor\":\"#E5ECF6\",\"subunitcolor\":\"white\",\"showland\":true,\"showlakes\":true,\"lakecolor\":\"white\"},\"title\":{\"x\":0.05},\"mapbox\":{\"style\":\"light\"}}}},                        {\"responsive\": true}                    ).then(function(){\n",
              "                            \n",
              "var gd = document.getElementById('25a2f6df-ab5a-4d09-aa0a-50cce2232bd5');\n",
              "var x = new MutationObserver(function (mutations, observer) {{\n",
              "        var display = window.getComputedStyle(gd).display;\n",
              "        if (!display || display === 'none') {{\n",
              "            console.log([gd, 'removed!']);\n",
              "            Plotly.purge(gd);\n",
              "            observer.disconnect();\n",
              "        }}\n",
              "}});\n",
              "\n",
              "// Listen for the removal of the full notebook cells\n",
              "var notebookContainer = gd.closest('#notebook-container');\n",
              "if (notebookContainer) {{\n",
              "    x.observe(notebookContainer, {childList: true});\n",
              "}}\n",
              "\n",
              "// Listen for the clearing of the current output cell\n",
              "var outputEl = gd.closest('.output');\n",
              "if (outputEl) {{\n",
              "    x.observe(outputEl, {childList: true});\n",
              "}}\n",
              "\n",
              "                        })                };                            </script>        </div>\n",
              "</body>\n",
              "</html>"
            ]
          },
          "metadata": {}
        }
      ],
      "source": [
        "from optuna.visualization import plot_param_importances\n",
        "plot_param_importances(study)\n"
      ],
      "id": "dVvbOALcVdpB"
    },
    {
      "cell_type": "code",
      "execution_count": null,
      "metadata": {
        "colab": {
          "base_uri": "https://localhost:8080/"
        },
        "id": "N4lijEeSZZIf",
        "outputId": "4bb84ae6-9193-4ebc-cf8d-728637b6efe5"
      },
      "outputs": [
        {
          "output_type": "stream",
          "name": "stdout",
          "text": [
            "Accuracy: 0.9920755531447717\n",
            "time 6.196220397949219\n"
          ]
        }
      ],
      "source": [
        "rs=NIA\n",
        "hgb = HistGradientBoostingClassifier(random_state=rs)\n",
        "classif=Pipeline([('hgb',hgb)])\n",
        "classif.set_params(**study.best_params)\n",
        "(bacopt3, tiempo)=default_hp(classif, X_train, y_train, X_test, y_test)"
      ],
      "id": "N4lijEeSZZIf"
    },
    {
      "cell_type": "code",
      "execution_count": null,
      "metadata": {
        "colab": {
          "base_uri": "https://localhost:8080/"
        },
        "id": "HLLMurXWhWZM",
        "outputId": "372df786-81e5-40fe-fbde-382bdaeb3cb8"
      },
      "outputs": [
        {
          "output_type": "stream",
          "name": "stdout",
          "text": [
            "Fitting 3 folds for each of 30 candidates, totalling 90 fits\n",
            "Accuracy:  0.9916101751776902\n",
            "Best hyper-parameters: {'hgb__learning_rate': 0.16178715991268444, 'hgb__max_depth': 8} and their score (inner evaluation): 0.9930246938249669\n",
            "time 648.2407612800598\n"
          ]
        }
      ],
      "source": [
        "from scipy.stats import randint as sp_randint\n",
        "from scipy.stats import uniform\n",
        "import time\n",
        "rs=NIA\n",
        "hgb = HistGradientBoostingClassifier(random_state=rs)\n",
        "clf=Pipeline([('hgb',hgb)])\n",
        "param_grid = {'hgb__max_depth': sp_randint(3,20),\n",
        "              'hgb__learning_rate': uniform(0.01,0.5)}\n",
        "(Accur3,best_params,inner_score,timer3)=default_RS(clf, X_train, y_train, X_test, y_test,param_grid,30)"
      ],
      "id": "HLLMurXWhWZM"
    },
    {
      "cell_type": "markdown",
      "metadata": {
        "id": "jUBN-UGjDMHI"
      },
      "source": [
        "### XGBoost"
      ],
      "id": "jUBN-UGjDMHI"
    },
    {
      "cell_type": "markdown",
      "metadata": {
        "id": "-S9bdnSiaBx5"
      },
      "source": [
        "#### Early stopping"
      ],
      "id": "-S9bdnSiaBx5"
    },
    {
      "cell_type": "code",
      "execution_count": null,
      "metadata": {
        "colab": {
          "base_uri": "https://localhost:8080/"
        },
        "id": "njLUrbDG3QdY",
        "outputId": "d067bdef-74a0-42e0-81b2-06aa3522a8ee"
      },
      "outputs": [
        {
          "output_type": "stream",
          "name": "stdout",
          "text": [
            "(6243, 128) (6243,)\n",
            "(3076, 128) (3076,)\n"
          ]
        }
      ],
      "source": [
        "rs=NIA\n",
        "X_val1, X_val2, y_val1, y_val2 = train_test_split(X_train,y_train, test_size=0.33, random_state=rs,stratify=y_train)\n",
        "print(X_val1.shape, y_val1.shape)\n",
        "print(X_val2.shape, y_val2.shape)"
      ],
      "id": "njLUrbDG3QdY"
    },
    {
      "cell_type": "code",
      "execution_count": null,
      "metadata": {
        "id": "w6jwU_dc3phx"
      },
      "outputs": [],
      "source": [
        "dtrain = xgb.DMatrix(X_val1, label=y_val1)\n",
        "dval = xgb.DMatrix(X_val2, label=y_val2)"
      ],
      "id": "w6jwU_dc3phx"
    },
    {
      "cell_type": "code",
      "execution_count": null,
      "metadata": {
        "colab": {
          "base_uri": "https://localhost:8080/"
        },
        "id": "UQh2gYOwOGx_",
        "outputId": "40d220e3-1f13-4564-c7cf-8f0e61fd549f"
      },
      "outputs": [
        {
          "output_type": "stream",
          "name": "stderr",
          "text": [
            "[I 2023-05-31 08:11:48,546] A new study created in memory with name: no-name-6bbd0066-ae7e-4161-8301-2b8022803577\n",
            "/usr/local/lib/python3.10/dist-packages/xgboost/sklearn.py:835: UserWarning:\n",
            "\n",
            "`early_stopping_rounds` in `fit` method is deprecated for better compatibility with scikit-learn, use `early_stopping_rounds` in constructor or`set_params` instead.\n",
            "\n",
            "[I 2023-05-31 08:14:09,770] Trial 0 finished with value: 0.9997652944667892 and parameters: {'max_depth': 16, 'learning_rate': 0.17242925657327868}. Best is trial 0 with value: 0.9997652944667892.\n",
            "[I 2023-05-31 08:15:29,390] Trial 1 finished with value: 0.9997871457844043 and parameters: {'max_depth': 15, 'learning_rate': 0.3139724195125335}. Best is trial 1 with value: 0.9997871457844043.\n",
            "[I 2023-05-31 08:17:30,806] Trial 2 finished with value: 0.999758808182109 and parameters: {'max_depth': 18, 'learning_rate': 0.1887917189502061}. Best is trial 1 with value: 0.9997871457844043.\n",
            "[I 2023-05-31 08:18:56,238] Trial 3 finished with value: 0.9997759649509425 and parameters: {'max_depth': 27, 'learning_rate': 0.27483768746093734}. Best is trial 1 with value: 0.9997871457844043.\n",
            "[I 2023-05-31 08:19:52,802] Trial 4 finished with value: 0.9997632485644893 and parameters: {'max_depth': 20, 'learning_rate': 0.39250204377302633}. Best is trial 1 with value: 0.9997871457844043.\n",
            "[I 2023-05-31 08:22:27,777] Trial 5 finished with value: 0.999775966293852 and parameters: {'max_depth': 30, 'learning_rate': 0.14562780340885678}. Best is trial 1 with value: 0.9997871457844043.\n",
            "[I 2023-05-31 08:23:57,096] Trial 6 finished with value: 0.9997904424761463 and parameters: {'max_depth': 18, 'learning_rate': 0.3927988709278811}. Best is trial 6 with value: 0.9997904424761463.\n",
            "[I 2023-05-31 08:25:14,178] Trial 7 finished with value: 0.9996934767220116 and parameters: {'max_depth': 5, 'learning_rate': 0.28011421742653625}. Best is trial 6 with value: 0.9997904424761463.\n",
            "[I 2023-05-31 08:29:00,763] Trial 8 finished with value: 0.9997765541981019 and parameters: {'max_depth': 3, 'learning_rate': 0.060454002799213584}. Best is trial 6 with value: 0.9997904424761463.\n",
            "[I 2023-05-31 08:29:55,882] Trial 9 finished with value: 0.9997921126446222 and parameters: {'max_depth': 28, 'learning_rate': 0.45071258127941677}. Best is trial 9 with value: 0.9997921126446222.\n",
            "[I 2023-05-31 08:31:15,454] Trial 10 finished with value: 0.9997890471562574 and parameters: {'max_depth': 24, 'learning_rate': 0.49254019017234857}. Best is trial 9 with value: 0.9997921126446222.\n",
            "[I 2023-05-31 08:32:15,477] Trial 11 finished with value: 0.9997961753329532 and parameters: {'max_depth': 10, 'learning_rate': 0.4412407654478768}. Best is trial 11 with value: 0.9997961753329532.\n",
            "[I 2023-05-31 08:33:34,520] Trial 12 finished with value: 0.9997594877728391 and parameters: {'max_depth': 9, 'learning_rate': 0.4964455471046745}. Best is trial 11 with value: 0.9997961753329532.\n",
            "[I 2023-05-31 08:35:02,012] Trial 13 finished with value: 0.9997684391152638 and parameters: {'max_depth': 12, 'learning_rate': 0.4256452412327129}. Best is trial 11 with value: 0.9997961753329532.\n",
            "[I 2023-05-31 08:36:38,759] Trial 14 finished with value: 0.9997929232351399 and parameters: {'max_depth': 10, 'learning_rate': 0.34513858557569643}. Best is trial 11 with value: 0.9997961753329532.\n",
            "[I 2023-05-31 08:38:12,755] Trial 15 finished with value: 0.9997719252353738 and parameters: {'max_depth': 8, 'learning_rate': 0.35379010037804304}. Best is trial 11 with value: 0.9997961753329532.\n",
            "[I 2023-05-31 08:39:50,728] Trial 16 finished with value: 0.9997841375572848 and parameters: {'max_depth': 11, 'learning_rate': 0.3372269820548651}. Best is trial 11 with value: 0.9997961753329532.\n",
            "[I 2023-05-31 08:40:50,405] Trial 17 finished with value: 0.9997925603250635 and parameters: {'max_depth': 7, 'learning_rate': 0.37296354956034383}. Best is trial 11 with value: 0.9997961753329532.\n",
            "[I 2023-05-31 08:42:15,712] Trial 18 finished with value: 0.9998191830485564 and parameters: {'max_depth': 13, 'learning_rate': 0.4400108452424}. Best is trial 18 with value: 0.9998191830485564.\n",
            "[I 2023-05-31 08:43:41,132] Trial 19 finished with value: 0.9998125864181516 and parameters: {'max_depth': 13, 'learning_rate': 0.4392504557186502}. Best is trial 18 with value: 0.9998191830485564.\n",
            "[I 2023-05-31 08:45:07,054] Trial 20 finished with value: 0.9997823492060497 and parameters: {'max_depth': 14, 'learning_rate': 0.4296151490936009}. Best is trial 18 with value: 0.9998191830485564.\n",
            "[I 2023-05-31 08:46:30,672] Trial 21 finished with value: 0.9998207042114152 and parameters: {'max_depth': 13, 'learning_rate': 0.4521595475599124}. Best is trial 21 with value: 0.9998207042114152.\n",
            "[I 2023-05-31 08:47:22,416] Trial 22 finished with value: 0.9997774325937029 and parameters: {'max_depth': 13, 'learning_rate': 0.4712317112371617}. Best is trial 21 with value: 0.9998207042114152.\n",
            "[I 2023-05-31 08:48:50,962] Trial 23 finished with value: 0.9998143405476839 and parameters: {'max_depth': 22, 'learning_rate': 0.4047844046390775}. Best is trial 21 with value: 0.9998207042114152.\n",
            "[I 2023-05-31 08:50:22,031] Trial 24 finished with value: 0.9997938589458951 and parameters: {'max_depth': 21, 'learning_rate': 0.3884314292958921}. Best is trial 21 with value: 0.9998207042114152.\n",
            "[I 2023-05-31 08:51:44,721] Trial 25 finished with value: 0.9997879199620101 and parameters: {'max_depth': 23, 'learning_rate': 0.4926217954010338}. Best is trial 21 with value: 0.9998207042114152.\n",
            "[I 2023-05-31 08:53:12,079] Trial 26 finished with value: 0.9997679466346944 and parameters: {'max_depth': 17, 'learning_rate': 0.41539169140513976}. Best is trial 21 with value: 0.9998207042114152.\n",
            "[I 2023-05-31 08:54:37,054] Trial 27 finished with value: 0.999774047726337 and parameters: {'max_depth': 20, 'learning_rate': 0.4617505490301636}. Best is trial 21 with value: 0.9998207042114152.\n",
            "[I 2023-05-31 08:55:34,085] Trial 28 finished with value: 0.9997534510510857 and parameters: {'max_depth': 24, 'learning_rate': 0.40930917238565784}. Best is trial 21 with value: 0.9998207042114152.\n",
            "[I 2023-05-31 08:57:05,760] Trial 29 finished with value: 0.9998006951987828 and parameters: {'max_depth': 16, 'learning_rate': 0.31695192596840005}. Best is trial 21 with value: 0.9998207042114152.\n"
          ]
        },
        {
          "output_type": "stream",
          "name": "stdout",
          "text": [
            "time 2717.216331720352\n",
            "The best trial is : \n",
            "FrozenTrial(number=21, state=TrialState.COMPLETE, values=[0.9998207042114152], datetime_start=datetime.datetime(2023, 5, 31, 8, 45, 7, 61403), datetime_complete=datetime.datetime(2023, 5, 31, 8, 46, 30, 672144), params={'max_depth': 13, 'learning_rate': 0.4521595475599124}, user_attrs={'act_iters': 500}, system_attrs={}, intermediate_values={}, distributions={'max_depth': IntDistribution(high=30, log=False, low=3, step=1), 'learning_rate': FloatDistribution(high=0.5, log=False, low=0.01, step=None)}, trial_id=21, value=None)\n",
            "The best value is : \n",
            "0.9998207042114152\n",
            "The best parameters are : \n",
            "{'max_depth': 13, 'learning_rate': 0.4521595475599124}\n"
          ]
        }
      ],
      "source": [
        "from pandas.core.common import random_state\n",
        "import optuna\n",
        "import time\n",
        "from sklearn import metrics\n",
        "from sklearn.model_selection import cross_val_score, KFold\n",
        "from sklearn.ensemble import ExtraTreesClassifier\n",
        "from sklearn.model_selection import StratifiedKFold\n",
        "inicio = time.time()\n",
        "cv_inner = StratifiedKFold(n_splits=3, random_state=rs, shuffle=True)\n",
        "rs=NIA\n",
        "np.random.seed(NIA)\n",
        "def _objective(trial):\n",
        "    xgbc__max_depth = trial.suggest_int('max_depth',3,30)\n",
        "    xgbc__learning_rate = trial.suggest_float(\"learning_rate\",0.01,0.5)\n",
        "    model = xgb.XGBClassifier(max_depth=xgbc__max_depth, learning_rate=xgbc__learning_rate,n_estimators=500,eval_metric='auc',random_state=rs)\n",
        "    model.fit(X_val1,y_val1,eval_set = [(X_val2,y_val2)],early_stopping_rounds =100,verbose=0)\n",
        "    results = model.evals_result()['validation_0']['auc']\n",
        "    result = results[-1]\n",
        "    trial.set_user_attr('act_iters', len(results))\n",
        "    return result\n",
        "\n",
        "# Step 4: Running it\n",
        "study = optuna.create_study(direction=\"maximize\")\n",
        "study.optimize( _objective, n_trials=30)\n",
        "\n",
        "fin=time.time()\n",
        "print('time',fin-inicio)\n",
        "timeopt4=fin-inicio\n",
        "# Getting the best trial:\n",
        "print(f\"The best trial is : \\n{study.best_trial}\")\n",
        "# Getting the best score:\n",
        "print(f\"The best value is : \\n{study.best_value}\")\n",
        "# Getting the best parameters:\n",
        "print(f\"The best parameters are : \\n{study.best_params}\")"
      ],
      "id": "UQh2gYOwOGx_"
    },
    {
      "cell_type": "code",
      "execution_count": null,
      "metadata": {
        "colab": {
          "base_uri": "https://localhost:8080/"
        },
        "id": "IwNpjK9_QXwD",
        "outputId": "8a80493a-e24d-48d6-f43c-77c759aef2aa"
      },
      "outputs": [
        {
          "output_type": "stream",
          "name": "stdout",
          "text": [
            "Precision: 0.9998207042114152\n",
            "Best hyperparameters: {'max_depth': 13, 'learning_rate': 0.4521595475599124}\n"
          ]
        }
      ],
      "source": [
        "\n",
        "trial = study.best_trial\n",
        "print('Precision: {}'.format(trial.value))\n",
        "print(\"Best hyperparameters: {}\".format(trial.params))"
      ],
      "id": "IwNpjK9_QXwD"
    },
    {
      "cell_type": "code",
      "execution_count": null,
      "metadata": {
        "colab": {
          "base_uri": "https://localhost:8080/"
        },
        "id": "52TzvLpmQlYo",
        "outputId": "4c77c501-d71e-4785-bbb3-12de8dcf3060"
      },
      "outputs": [
        {
          "output_type": "stream",
          "name": "stdout",
          "text": [
            "Accuracy: 0.9898546046087443\n",
            "time 64.48458051681519\n"
          ]
        }
      ],
      "source": [
        "rs=NIA\n",
        "xgbc = xgb.XGBClassifier(random_state=rs)\n",
        "xgbc.set_params(**study.best_params)\n",
        "classif=Pipeline([('xgbc',xgbc)])\n",
        "(bacopt4, tiempo)=default_hp(classif, X_train, y_train, X_test, y_test)"
      ],
      "id": "52TzvLpmQlYo"
    },
    {
      "cell_type": "code",
      "execution_count": null,
      "metadata": {
        "colab": {
          "base_uri": "https://localhost:8080/",
          "height": 542
        },
        "id": "Ny4bv4MMGbJF",
        "outputId": "3cd28b16-edf9-4c35-ca9f-b2733733cc58"
      },
      "outputs": [
        {
          "output_type": "display_data",
          "data": {
            "text/html": [
              "<html>\n",
              "<head><meta charset=\"utf-8\" /></head>\n",
              "<body>\n",
              "    <div>            <script src=\"https://cdnjs.cloudflare.com/ajax/libs/mathjax/2.7.5/MathJax.js?config=TeX-AMS-MML_SVG\"></script><script type=\"text/javascript\">if (window.MathJax && window.MathJax.Hub && window.MathJax.Hub.Config) {window.MathJax.Hub.Config({SVG: {font: \"STIX-Web\"}});}</script>                <script type=\"text/javascript\">window.PlotlyConfig = {MathJaxConfig: 'local'};</script>\n",
              "        <script src=\"https://cdn.plot.ly/plotly-2.18.2.min.js\"></script>                <div id=\"8cc214b6-6751-4ebd-bdc7-349aa334c930\" class=\"plotly-graph-div\" style=\"height:525px; width:100%;\"></div>            <script type=\"text/javascript\">                                    window.PLOTLYENV=window.PLOTLYENV || {};                                    if (document.getElementById(\"8cc214b6-6751-4ebd-bdc7-349aa334c930\")) {                    Plotly.newPlot(                        \"8cc214b6-6751-4ebd-bdc7-349aa334c930\",                        [{\"mode\":\"markers\",\"name\":\"Objective Value\",\"x\":[0,1,2,3,4,5,6,7,8,9,10,11,12,13,14,15,16,17,18,19,20,21,22,23,24,25,26,27,28,29],\"y\":[0.9997652944667892,0.9997871457844043,0.999758808182109,0.9997759649509425,0.9997632485644893,0.999775966293852,0.9997904424761463,0.9996934767220116,0.9997765541981019,0.9997921126446222,0.9997890471562574,0.9997961753329532,0.9997594877728391,0.9997684391152638,0.9997929232351399,0.9997719252353738,0.9997841375572848,0.9997925603250635,0.9998191830485564,0.9998125864181516,0.9997823492060497,0.9998207042114152,0.9997774325937029,0.9998143405476839,0.9997938589458951,0.9997879199620101,0.9997679466346944,0.999774047726337,0.9997534510510857,0.9998006951987828],\"type\":\"scatter\"},{\"name\":\"Best Value\",\"x\":[0,1,2,3,4,5,6,7,8,9,10,11,12,13,14,15,16,17,18,19,20,21,22,23,24,25,26,27,28,29],\"y\":[0.9997652944667892,0.9997871457844043,0.9997871457844043,0.9997871457844043,0.9997871457844043,0.9997871457844043,0.9997904424761463,0.9997904424761463,0.9997904424761463,0.9997921126446222,0.9997921126446222,0.9997961753329532,0.9997961753329532,0.9997961753329532,0.9997961753329532,0.9997961753329532,0.9997961753329532,0.9997961753329532,0.9998191830485564,0.9998191830485564,0.9998191830485564,0.9998207042114152,0.9998207042114152,0.9998207042114152,0.9998207042114152,0.9998207042114152,0.9998207042114152,0.9998207042114152,0.9998207042114152,0.9998207042114152],\"type\":\"scatter\"}],                        {\"title\":{\"text\":\"Optimization History Plot\"},\"xaxis\":{\"title\":{\"text\":\"Trial\"}},\"yaxis\":{\"title\":{\"text\":\"Objective Value\"}},\"template\":{\"data\":{\"histogram2dcontour\":[{\"type\":\"histogram2dcontour\",\"colorbar\":{\"outlinewidth\":0,\"ticks\":\"\"},\"colorscale\":[[0.0,\"#0d0887\"],[0.1111111111111111,\"#46039f\"],[0.2222222222222222,\"#7201a8\"],[0.3333333333333333,\"#9c179e\"],[0.4444444444444444,\"#bd3786\"],[0.5555555555555556,\"#d8576b\"],[0.6666666666666666,\"#ed7953\"],[0.7777777777777778,\"#fb9f3a\"],[0.8888888888888888,\"#fdca26\"],[1.0,\"#f0f921\"]]}],\"choropleth\":[{\"type\":\"choropleth\",\"colorbar\":{\"outlinewidth\":0,\"ticks\":\"\"}}],\"histogram2d\":[{\"type\":\"histogram2d\",\"colorbar\":{\"outlinewidth\":0,\"ticks\":\"\"},\"colorscale\":[[0.0,\"#0d0887\"],[0.1111111111111111,\"#46039f\"],[0.2222222222222222,\"#7201a8\"],[0.3333333333333333,\"#9c179e\"],[0.4444444444444444,\"#bd3786\"],[0.5555555555555556,\"#d8576b\"],[0.6666666666666666,\"#ed7953\"],[0.7777777777777778,\"#fb9f3a\"],[0.8888888888888888,\"#fdca26\"],[1.0,\"#f0f921\"]]}],\"heatmap\":[{\"type\":\"heatmap\",\"colorbar\":{\"outlinewidth\":0,\"ticks\":\"\"},\"colorscale\":[[0.0,\"#0d0887\"],[0.1111111111111111,\"#46039f\"],[0.2222222222222222,\"#7201a8\"],[0.3333333333333333,\"#9c179e\"],[0.4444444444444444,\"#bd3786\"],[0.5555555555555556,\"#d8576b\"],[0.6666666666666666,\"#ed7953\"],[0.7777777777777778,\"#fb9f3a\"],[0.8888888888888888,\"#fdca26\"],[1.0,\"#f0f921\"]]}],\"heatmapgl\":[{\"type\":\"heatmapgl\",\"colorbar\":{\"outlinewidth\":0,\"ticks\":\"\"},\"colorscale\":[[0.0,\"#0d0887\"],[0.1111111111111111,\"#46039f\"],[0.2222222222222222,\"#7201a8\"],[0.3333333333333333,\"#9c179e\"],[0.4444444444444444,\"#bd3786\"],[0.5555555555555556,\"#d8576b\"],[0.6666666666666666,\"#ed7953\"],[0.7777777777777778,\"#fb9f3a\"],[0.8888888888888888,\"#fdca26\"],[1.0,\"#f0f921\"]]}],\"contourcarpet\":[{\"type\":\"contourcarpet\",\"colorbar\":{\"outlinewidth\":0,\"ticks\":\"\"}}],\"contour\":[{\"type\":\"contour\",\"colorbar\":{\"outlinewidth\":0,\"ticks\":\"\"},\"colorscale\":[[0.0,\"#0d0887\"],[0.1111111111111111,\"#46039f\"],[0.2222222222222222,\"#7201a8\"],[0.3333333333333333,\"#9c179e\"],[0.4444444444444444,\"#bd3786\"],[0.5555555555555556,\"#d8576b\"],[0.6666666666666666,\"#ed7953\"],[0.7777777777777778,\"#fb9f3a\"],[0.8888888888888888,\"#fdca26\"],[1.0,\"#f0f921\"]]}],\"surface\":[{\"type\":\"surface\",\"colorbar\":{\"outlinewidth\":0,\"ticks\":\"\"},\"colorscale\":[[0.0,\"#0d0887\"],[0.1111111111111111,\"#46039f\"],[0.2222222222222222,\"#7201a8\"],[0.3333333333333333,\"#9c179e\"],[0.4444444444444444,\"#bd3786\"],[0.5555555555555556,\"#d8576b\"],[0.6666666666666666,\"#ed7953\"],[0.7777777777777778,\"#fb9f3a\"],[0.8888888888888888,\"#fdca26\"],[1.0,\"#f0f921\"]]}],\"mesh3d\":[{\"type\":\"mesh3d\",\"colorbar\":{\"outlinewidth\":0,\"ticks\":\"\"}}],\"scatter\":[{\"fillpattern\":{\"fillmode\":\"overlay\",\"size\":10,\"solidity\":0.2},\"type\":\"scatter\"}],\"parcoords\":[{\"type\":\"parcoords\",\"line\":{\"colorbar\":{\"outlinewidth\":0,\"ticks\":\"\"}}}],\"scatterpolargl\":[{\"type\":\"scatterpolargl\",\"marker\":{\"colorbar\":{\"outlinewidth\":0,\"ticks\":\"\"}}}],\"bar\":[{\"error_x\":{\"color\":\"#2a3f5f\"},\"error_y\":{\"color\":\"#2a3f5f\"},\"marker\":{\"line\":{\"color\":\"#E5ECF6\",\"width\":0.5},\"pattern\":{\"fillmode\":\"overlay\",\"size\":10,\"solidity\":0.2}},\"type\":\"bar\"}],\"scattergeo\":[{\"type\":\"scattergeo\",\"marker\":{\"colorbar\":{\"outlinewidth\":0,\"ticks\":\"\"}}}],\"scatterpolar\":[{\"type\":\"scatterpolar\",\"marker\":{\"colorbar\":{\"outlinewidth\":0,\"ticks\":\"\"}}}],\"histogram\":[{\"marker\":{\"pattern\":{\"fillmode\":\"overlay\",\"size\":10,\"solidity\":0.2}},\"type\":\"histogram\"}],\"scattergl\":[{\"type\":\"scattergl\",\"marker\":{\"colorbar\":{\"outlinewidth\":0,\"ticks\":\"\"}}}],\"scatter3d\":[{\"type\":\"scatter3d\",\"line\":{\"colorbar\":{\"outlinewidth\":0,\"ticks\":\"\"}},\"marker\":{\"colorbar\":{\"outlinewidth\":0,\"ticks\":\"\"}}}],\"scattermapbox\":[{\"type\":\"scattermapbox\",\"marker\":{\"colorbar\":{\"outlinewidth\":0,\"ticks\":\"\"}}}],\"scatterternary\":[{\"type\":\"scatterternary\",\"marker\":{\"colorbar\":{\"outlinewidth\":0,\"ticks\":\"\"}}}],\"scattercarpet\":[{\"type\":\"scattercarpet\",\"marker\":{\"colorbar\":{\"outlinewidth\":0,\"ticks\":\"\"}}}],\"carpet\":[{\"aaxis\":{\"endlinecolor\":\"#2a3f5f\",\"gridcolor\":\"white\",\"linecolor\":\"white\",\"minorgridcolor\":\"white\",\"startlinecolor\":\"#2a3f5f\"},\"baxis\":{\"endlinecolor\":\"#2a3f5f\",\"gridcolor\":\"white\",\"linecolor\":\"white\",\"minorgridcolor\":\"white\",\"startlinecolor\":\"#2a3f5f\"},\"type\":\"carpet\"}],\"table\":[{\"cells\":{\"fill\":{\"color\":\"#EBF0F8\"},\"line\":{\"color\":\"white\"}},\"header\":{\"fill\":{\"color\":\"#C8D4E3\"},\"line\":{\"color\":\"white\"}},\"type\":\"table\"}],\"barpolar\":[{\"marker\":{\"line\":{\"color\":\"#E5ECF6\",\"width\":0.5},\"pattern\":{\"fillmode\":\"overlay\",\"size\":10,\"solidity\":0.2}},\"type\":\"barpolar\"}],\"pie\":[{\"automargin\":true,\"type\":\"pie\"}]},\"layout\":{\"autotypenumbers\":\"strict\",\"colorway\":[\"#636efa\",\"#EF553B\",\"#00cc96\",\"#ab63fa\",\"#FFA15A\",\"#19d3f3\",\"#FF6692\",\"#B6E880\",\"#FF97FF\",\"#FECB52\"],\"font\":{\"color\":\"#2a3f5f\"},\"hovermode\":\"closest\",\"hoverlabel\":{\"align\":\"left\"},\"paper_bgcolor\":\"white\",\"plot_bgcolor\":\"#E5ECF6\",\"polar\":{\"bgcolor\":\"#E5ECF6\",\"angularaxis\":{\"gridcolor\":\"white\",\"linecolor\":\"white\",\"ticks\":\"\"},\"radialaxis\":{\"gridcolor\":\"white\",\"linecolor\":\"white\",\"ticks\":\"\"}},\"ternary\":{\"bgcolor\":\"#E5ECF6\",\"aaxis\":{\"gridcolor\":\"white\",\"linecolor\":\"white\",\"ticks\":\"\"},\"baxis\":{\"gridcolor\":\"white\",\"linecolor\":\"white\",\"ticks\":\"\"},\"caxis\":{\"gridcolor\":\"white\",\"linecolor\":\"white\",\"ticks\":\"\"}},\"coloraxis\":{\"colorbar\":{\"outlinewidth\":0,\"ticks\":\"\"}},\"colorscale\":{\"sequential\":[[0.0,\"#0d0887\"],[0.1111111111111111,\"#46039f\"],[0.2222222222222222,\"#7201a8\"],[0.3333333333333333,\"#9c179e\"],[0.4444444444444444,\"#bd3786\"],[0.5555555555555556,\"#d8576b\"],[0.6666666666666666,\"#ed7953\"],[0.7777777777777778,\"#fb9f3a\"],[0.8888888888888888,\"#fdca26\"],[1.0,\"#f0f921\"]],\"sequentialminus\":[[0.0,\"#0d0887\"],[0.1111111111111111,\"#46039f\"],[0.2222222222222222,\"#7201a8\"],[0.3333333333333333,\"#9c179e\"],[0.4444444444444444,\"#bd3786\"],[0.5555555555555556,\"#d8576b\"],[0.6666666666666666,\"#ed7953\"],[0.7777777777777778,\"#fb9f3a\"],[0.8888888888888888,\"#fdca26\"],[1.0,\"#f0f921\"]],\"diverging\":[[0,\"#8e0152\"],[0.1,\"#c51b7d\"],[0.2,\"#de77ae\"],[0.3,\"#f1b6da\"],[0.4,\"#fde0ef\"],[0.5,\"#f7f7f7\"],[0.6,\"#e6f5d0\"],[0.7,\"#b8e186\"],[0.8,\"#7fbc41\"],[0.9,\"#4d9221\"],[1,\"#276419\"]]},\"xaxis\":{\"gridcolor\":\"white\",\"linecolor\":\"white\",\"ticks\":\"\",\"title\":{\"standoff\":15},\"zerolinecolor\":\"white\",\"automargin\":true,\"zerolinewidth\":2},\"yaxis\":{\"gridcolor\":\"white\",\"linecolor\":\"white\",\"ticks\":\"\",\"title\":{\"standoff\":15},\"zerolinecolor\":\"white\",\"automargin\":true,\"zerolinewidth\":2},\"scene\":{\"xaxis\":{\"backgroundcolor\":\"#E5ECF6\",\"gridcolor\":\"white\",\"linecolor\":\"white\",\"showbackground\":true,\"ticks\":\"\",\"zerolinecolor\":\"white\",\"gridwidth\":2},\"yaxis\":{\"backgroundcolor\":\"#E5ECF6\",\"gridcolor\":\"white\",\"linecolor\":\"white\",\"showbackground\":true,\"ticks\":\"\",\"zerolinecolor\":\"white\",\"gridwidth\":2},\"zaxis\":{\"backgroundcolor\":\"#E5ECF6\",\"gridcolor\":\"white\",\"linecolor\":\"white\",\"showbackground\":true,\"ticks\":\"\",\"zerolinecolor\":\"white\",\"gridwidth\":2}},\"shapedefaults\":{\"line\":{\"color\":\"#2a3f5f\"}},\"annotationdefaults\":{\"arrowcolor\":\"#2a3f5f\",\"arrowhead\":0,\"arrowwidth\":1},\"geo\":{\"bgcolor\":\"white\",\"landcolor\":\"#E5ECF6\",\"subunitcolor\":\"white\",\"showland\":true,\"showlakes\":true,\"lakecolor\":\"white\"},\"title\":{\"x\":0.05},\"mapbox\":{\"style\":\"light\"}}}},                        {\"responsive\": true}                    ).then(function(){\n",
              "                            \n",
              "var gd = document.getElementById('8cc214b6-6751-4ebd-bdc7-349aa334c930');\n",
              "var x = new MutationObserver(function (mutations, observer) {{\n",
              "        var display = window.getComputedStyle(gd).display;\n",
              "        if (!display || display === 'none') {{\n",
              "            console.log([gd, 'removed!']);\n",
              "            Plotly.purge(gd);\n",
              "            observer.disconnect();\n",
              "        }}\n",
              "}});\n",
              "\n",
              "// Listen for the removal of the full notebook cells\n",
              "var notebookContainer = gd.closest('#notebook-container');\n",
              "if (notebookContainer) {{\n",
              "    x.observe(notebookContainer, {childList: true});\n",
              "}}\n",
              "\n",
              "// Listen for the clearing of the current output cell\n",
              "var outputEl = gd.closest('.output');\n",
              "if (outputEl) {{\n",
              "    x.observe(outputEl, {childList: true});\n",
              "}}\n",
              "\n",
              "                        })                };                            </script>        </div>\n",
              "</body>\n",
              "</html>"
            ]
          },
          "metadata": {}
        }
      ],
      "source": [
        "optuna.visualization.plot_optimization_history(study).show()"
      ],
      "id": "Ny4bv4MMGbJF"
    },
    {
      "cell_type": "code",
      "execution_count": null,
      "metadata": {
        "colab": {
          "base_uri": "https://localhost:8080/",
          "height": 542
        },
        "id": "aGiP8j7TGcQs",
        "outputId": "80b5a3c5-633b-4186-9e21-c7fe269647f9"
      },
      "outputs": [
        {
          "output_type": "display_data",
          "data": {
            "text/html": [
              "<html>\n",
              "<head><meta charset=\"utf-8\" /></head>\n",
              "<body>\n",
              "    <div>            <script src=\"https://cdnjs.cloudflare.com/ajax/libs/mathjax/2.7.5/MathJax.js?config=TeX-AMS-MML_SVG\"></script><script type=\"text/javascript\">if (window.MathJax && window.MathJax.Hub && window.MathJax.Hub.Config) {window.MathJax.Hub.Config({SVG: {font: \"STIX-Web\"}});}</script>                <script type=\"text/javascript\">window.PlotlyConfig = {MathJaxConfig: 'local'};</script>\n",
              "        <script src=\"https://cdn.plot.ly/plotly-2.18.2.min.js\"></script>                <div id=\"82ecb976-fd7a-4d9d-8aa3-d23e4c3d9149\" class=\"plotly-graph-div\" style=\"height:525px; width:100%;\"></div>            <script type=\"text/javascript\">                                    window.PLOTLYENV=window.PLOTLYENV || {};                                    if (document.getElementById(\"82ecb976-fd7a-4d9d-8aa3-d23e4c3d9149\")) {                    Plotly.newPlot(                        \"82ecb976-fd7a-4d9d-8aa3-d23e4c3d9149\",                        [{\"dimensions\":[{\"label\":\"Objective Value\",\"range\":[0.9996934767220116,0.9998207042114152],\"values\":[0.9997652944667892,0.9997871457844043,0.999758808182109,0.9997759649509425,0.9997632485644893,0.999775966293852,0.9997904424761463,0.9996934767220116,0.9997765541981019,0.9997921126446222,0.9997890471562574,0.9997961753329532,0.9997594877728391,0.9997684391152638,0.9997929232351399,0.9997719252353738,0.9997841375572848,0.9997925603250635,0.9998191830485564,0.9998125864181516,0.9997823492060497,0.9998207042114152,0.9997774325937029,0.9998143405476839,0.9997938589458951,0.9997879199620101,0.9997679466346944,0.999774047726337,0.9997534510510857,0.9998006951987828]},{\"label\":\"learning_rate\",\"range\":[0.060454002799213584,0.4964455471046745],\"values\":[0.17242925657327868,0.3139724195125335,0.1887917189502061,0.27483768746093734,0.39250204377302633,0.14562780340885678,0.3927988709278811,0.28011421742653625,0.060454002799213584,0.45071258127941677,0.49254019017234857,0.4412407654478768,0.4964455471046745,0.4256452412327129,0.34513858557569643,0.35379010037804304,0.3372269820548651,0.37296354956034383,0.4400108452424,0.4392504557186502,0.4296151490936009,0.4521595475599124,0.4712317112371617,0.4047844046390775,0.3884314292958921,0.4926217954010338,0.41539169140513976,0.4617505490301636,0.40930917238565784,0.31695192596840005]},{\"label\":\"max_depth\",\"range\":[3,30],\"values\":[16,15,18,27,20,30,18,5,3,28,24,10,9,12,10,8,11,7,13,13,14,13,13,22,21,23,17,20,24,16]}],\"labelangle\":30,\"labelside\":\"bottom\",\"line\":{\"color\":[0.9997652944667892,0.9997871457844043,0.999758808182109,0.9997759649509425,0.9997632485644893,0.999775966293852,0.9997904424761463,0.9996934767220116,0.9997765541981019,0.9997921126446222,0.9997890471562574,0.9997961753329532,0.9997594877728391,0.9997684391152638,0.9997929232351399,0.9997719252353738,0.9997841375572848,0.9997925603250635,0.9998191830485564,0.9998125864181516,0.9997823492060497,0.9998207042114152,0.9997774325937029,0.9998143405476839,0.9997938589458951,0.9997879199620101,0.9997679466346944,0.999774047726337,0.9997534510510857,0.9998006951987828],\"colorbar\":{\"title\":{\"text\":\"Objective Value\"}},\"colorscale\":[[0.0,\"rgb(247,251,255)\"],[0.125,\"rgb(222,235,247)\"],[0.25,\"rgb(198,219,239)\"],[0.375,\"rgb(158,202,225)\"],[0.5,\"rgb(107,174,214)\"],[0.625,\"rgb(66,146,198)\"],[0.75,\"rgb(33,113,181)\"],[0.875,\"rgb(8,81,156)\"],[1.0,\"rgb(8,48,107)\"]],\"reversescale\":false,\"showscale\":true},\"type\":\"parcoords\"}],                        {\"title\":{\"text\":\"Parallel Coordinate Plot\"},\"template\":{\"data\":{\"histogram2dcontour\":[{\"type\":\"histogram2dcontour\",\"colorbar\":{\"outlinewidth\":0,\"ticks\":\"\"},\"colorscale\":[[0.0,\"#0d0887\"],[0.1111111111111111,\"#46039f\"],[0.2222222222222222,\"#7201a8\"],[0.3333333333333333,\"#9c179e\"],[0.4444444444444444,\"#bd3786\"],[0.5555555555555556,\"#d8576b\"],[0.6666666666666666,\"#ed7953\"],[0.7777777777777778,\"#fb9f3a\"],[0.8888888888888888,\"#fdca26\"],[1.0,\"#f0f921\"]]}],\"choropleth\":[{\"type\":\"choropleth\",\"colorbar\":{\"outlinewidth\":0,\"ticks\":\"\"}}],\"histogram2d\":[{\"type\":\"histogram2d\",\"colorbar\":{\"outlinewidth\":0,\"ticks\":\"\"},\"colorscale\":[[0.0,\"#0d0887\"],[0.1111111111111111,\"#46039f\"],[0.2222222222222222,\"#7201a8\"],[0.3333333333333333,\"#9c179e\"],[0.4444444444444444,\"#bd3786\"],[0.5555555555555556,\"#d8576b\"],[0.6666666666666666,\"#ed7953\"],[0.7777777777777778,\"#fb9f3a\"],[0.8888888888888888,\"#fdca26\"],[1.0,\"#f0f921\"]]}],\"heatmap\":[{\"type\":\"heatmap\",\"colorbar\":{\"outlinewidth\":0,\"ticks\":\"\"},\"colorscale\":[[0.0,\"#0d0887\"],[0.1111111111111111,\"#46039f\"],[0.2222222222222222,\"#7201a8\"],[0.3333333333333333,\"#9c179e\"],[0.4444444444444444,\"#bd3786\"],[0.5555555555555556,\"#d8576b\"],[0.6666666666666666,\"#ed7953\"],[0.7777777777777778,\"#fb9f3a\"],[0.8888888888888888,\"#fdca26\"],[1.0,\"#f0f921\"]]}],\"heatmapgl\":[{\"type\":\"heatmapgl\",\"colorbar\":{\"outlinewidth\":0,\"ticks\":\"\"},\"colorscale\":[[0.0,\"#0d0887\"],[0.1111111111111111,\"#46039f\"],[0.2222222222222222,\"#7201a8\"],[0.3333333333333333,\"#9c179e\"],[0.4444444444444444,\"#bd3786\"],[0.5555555555555556,\"#d8576b\"],[0.6666666666666666,\"#ed7953\"],[0.7777777777777778,\"#fb9f3a\"],[0.8888888888888888,\"#fdca26\"],[1.0,\"#f0f921\"]]}],\"contourcarpet\":[{\"type\":\"contourcarpet\",\"colorbar\":{\"outlinewidth\":0,\"ticks\":\"\"}}],\"contour\":[{\"type\":\"contour\",\"colorbar\":{\"outlinewidth\":0,\"ticks\":\"\"},\"colorscale\":[[0.0,\"#0d0887\"],[0.1111111111111111,\"#46039f\"],[0.2222222222222222,\"#7201a8\"],[0.3333333333333333,\"#9c179e\"],[0.4444444444444444,\"#bd3786\"],[0.5555555555555556,\"#d8576b\"],[0.6666666666666666,\"#ed7953\"],[0.7777777777777778,\"#fb9f3a\"],[0.8888888888888888,\"#fdca26\"],[1.0,\"#f0f921\"]]}],\"surface\":[{\"type\":\"surface\",\"colorbar\":{\"outlinewidth\":0,\"ticks\":\"\"},\"colorscale\":[[0.0,\"#0d0887\"],[0.1111111111111111,\"#46039f\"],[0.2222222222222222,\"#7201a8\"],[0.3333333333333333,\"#9c179e\"],[0.4444444444444444,\"#bd3786\"],[0.5555555555555556,\"#d8576b\"],[0.6666666666666666,\"#ed7953\"],[0.7777777777777778,\"#fb9f3a\"],[0.8888888888888888,\"#fdca26\"],[1.0,\"#f0f921\"]]}],\"mesh3d\":[{\"type\":\"mesh3d\",\"colorbar\":{\"outlinewidth\":0,\"ticks\":\"\"}}],\"scatter\":[{\"fillpattern\":{\"fillmode\":\"overlay\",\"size\":10,\"solidity\":0.2},\"type\":\"scatter\"}],\"parcoords\":[{\"type\":\"parcoords\",\"line\":{\"colorbar\":{\"outlinewidth\":0,\"ticks\":\"\"}}}],\"scatterpolargl\":[{\"type\":\"scatterpolargl\",\"marker\":{\"colorbar\":{\"outlinewidth\":0,\"ticks\":\"\"}}}],\"bar\":[{\"error_x\":{\"color\":\"#2a3f5f\"},\"error_y\":{\"color\":\"#2a3f5f\"},\"marker\":{\"line\":{\"color\":\"#E5ECF6\",\"width\":0.5},\"pattern\":{\"fillmode\":\"overlay\",\"size\":10,\"solidity\":0.2}},\"type\":\"bar\"}],\"scattergeo\":[{\"type\":\"scattergeo\",\"marker\":{\"colorbar\":{\"outlinewidth\":0,\"ticks\":\"\"}}}],\"scatterpolar\":[{\"type\":\"scatterpolar\",\"marker\":{\"colorbar\":{\"outlinewidth\":0,\"ticks\":\"\"}}}],\"histogram\":[{\"marker\":{\"pattern\":{\"fillmode\":\"overlay\",\"size\":10,\"solidity\":0.2}},\"type\":\"histogram\"}],\"scattergl\":[{\"type\":\"scattergl\",\"marker\":{\"colorbar\":{\"outlinewidth\":0,\"ticks\":\"\"}}}],\"scatter3d\":[{\"type\":\"scatter3d\",\"line\":{\"colorbar\":{\"outlinewidth\":0,\"ticks\":\"\"}},\"marker\":{\"colorbar\":{\"outlinewidth\":0,\"ticks\":\"\"}}}],\"scattermapbox\":[{\"type\":\"scattermapbox\",\"marker\":{\"colorbar\":{\"outlinewidth\":0,\"ticks\":\"\"}}}],\"scatterternary\":[{\"type\":\"scatterternary\",\"marker\":{\"colorbar\":{\"outlinewidth\":0,\"ticks\":\"\"}}}],\"scattercarpet\":[{\"type\":\"scattercarpet\",\"marker\":{\"colorbar\":{\"outlinewidth\":0,\"ticks\":\"\"}}}],\"carpet\":[{\"aaxis\":{\"endlinecolor\":\"#2a3f5f\",\"gridcolor\":\"white\",\"linecolor\":\"white\",\"minorgridcolor\":\"white\",\"startlinecolor\":\"#2a3f5f\"},\"baxis\":{\"endlinecolor\":\"#2a3f5f\",\"gridcolor\":\"white\",\"linecolor\":\"white\",\"minorgridcolor\":\"white\",\"startlinecolor\":\"#2a3f5f\"},\"type\":\"carpet\"}],\"table\":[{\"cells\":{\"fill\":{\"color\":\"#EBF0F8\"},\"line\":{\"color\":\"white\"}},\"header\":{\"fill\":{\"color\":\"#C8D4E3\"},\"line\":{\"color\":\"white\"}},\"type\":\"table\"}],\"barpolar\":[{\"marker\":{\"line\":{\"color\":\"#E5ECF6\",\"width\":0.5},\"pattern\":{\"fillmode\":\"overlay\",\"size\":10,\"solidity\":0.2}},\"type\":\"barpolar\"}],\"pie\":[{\"automargin\":true,\"type\":\"pie\"}]},\"layout\":{\"autotypenumbers\":\"strict\",\"colorway\":[\"#636efa\",\"#EF553B\",\"#00cc96\",\"#ab63fa\",\"#FFA15A\",\"#19d3f3\",\"#FF6692\",\"#B6E880\",\"#FF97FF\",\"#FECB52\"],\"font\":{\"color\":\"#2a3f5f\"},\"hovermode\":\"closest\",\"hoverlabel\":{\"align\":\"left\"},\"paper_bgcolor\":\"white\",\"plot_bgcolor\":\"#E5ECF6\",\"polar\":{\"bgcolor\":\"#E5ECF6\",\"angularaxis\":{\"gridcolor\":\"white\",\"linecolor\":\"white\",\"ticks\":\"\"},\"radialaxis\":{\"gridcolor\":\"white\",\"linecolor\":\"white\",\"ticks\":\"\"}},\"ternary\":{\"bgcolor\":\"#E5ECF6\",\"aaxis\":{\"gridcolor\":\"white\",\"linecolor\":\"white\",\"ticks\":\"\"},\"baxis\":{\"gridcolor\":\"white\",\"linecolor\":\"white\",\"ticks\":\"\"},\"caxis\":{\"gridcolor\":\"white\",\"linecolor\":\"white\",\"ticks\":\"\"}},\"coloraxis\":{\"colorbar\":{\"outlinewidth\":0,\"ticks\":\"\"}},\"colorscale\":{\"sequential\":[[0.0,\"#0d0887\"],[0.1111111111111111,\"#46039f\"],[0.2222222222222222,\"#7201a8\"],[0.3333333333333333,\"#9c179e\"],[0.4444444444444444,\"#bd3786\"],[0.5555555555555556,\"#d8576b\"],[0.6666666666666666,\"#ed7953\"],[0.7777777777777778,\"#fb9f3a\"],[0.8888888888888888,\"#fdca26\"],[1.0,\"#f0f921\"]],\"sequentialminus\":[[0.0,\"#0d0887\"],[0.1111111111111111,\"#46039f\"],[0.2222222222222222,\"#7201a8\"],[0.3333333333333333,\"#9c179e\"],[0.4444444444444444,\"#bd3786\"],[0.5555555555555556,\"#d8576b\"],[0.6666666666666666,\"#ed7953\"],[0.7777777777777778,\"#fb9f3a\"],[0.8888888888888888,\"#fdca26\"],[1.0,\"#f0f921\"]],\"diverging\":[[0,\"#8e0152\"],[0.1,\"#c51b7d\"],[0.2,\"#de77ae\"],[0.3,\"#f1b6da\"],[0.4,\"#fde0ef\"],[0.5,\"#f7f7f7\"],[0.6,\"#e6f5d0\"],[0.7,\"#b8e186\"],[0.8,\"#7fbc41\"],[0.9,\"#4d9221\"],[1,\"#276419\"]]},\"xaxis\":{\"gridcolor\":\"white\",\"linecolor\":\"white\",\"ticks\":\"\",\"title\":{\"standoff\":15},\"zerolinecolor\":\"white\",\"automargin\":true,\"zerolinewidth\":2},\"yaxis\":{\"gridcolor\":\"white\",\"linecolor\":\"white\",\"ticks\":\"\",\"title\":{\"standoff\":15},\"zerolinecolor\":\"white\",\"automargin\":true,\"zerolinewidth\":2},\"scene\":{\"xaxis\":{\"backgroundcolor\":\"#E5ECF6\",\"gridcolor\":\"white\",\"linecolor\":\"white\",\"showbackground\":true,\"ticks\":\"\",\"zerolinecolor\":\"white\",\"gridwidth\":2},\"yaxis\":{\"backgroundcolor\":\"#E5ECF6\",\"gridcolor\":\"white\",\"linecolor\":\"white\",\"showbackground\":true,\"ticks\":\"\",\"zerolinecolor\":\"white\",\"gridwidth\":2},\"zaxis\":{\"backgroundcolor\":\"#E5ECF6\",\"gridcolor\":\"white\",\"linecolor\":\"white\",\"showbackground\":true,\"ticks\":\"\",\"zerolinecolor\":\"white\",\"gridwidth\":2}},\"shapedefaults\":{\"line\":{\"color\":\"#2a3f5f\"}},\"annotationdefaults\":{\"arrowcolor\":\"#2a3f5f\",\"arrowhead\":0,\"arrowwidth\":1},\"geo\":{\"bgcolor\":\"white\",\"landcolor\":\"#E5ECF6\",\"subunitcolor\":\"white\",\"showland\":true,\"showlakes\":true,\"lakecolor\":\"white\"},\"title\":{\"x\":0.05},\"mapbox\":{\"style\":\"light\"}}}},                        {\"responsive\": true}                    ).then(function(){\n",
              "                            \n",
              "var gd = document.getElementById('82ecb976-fd7a-4d9d-8aa3-d23e4c3d9149');\n",
              "var x = new MutationObserver(function (mutations, observer) {{\n",
              "        var display = window.getComputedStyle(gd).display;\n",
              "        if (!display || display === 'none') {{\n",
              "            console.log([gd, 'removed!']);\n",
              "            Plotly.purge(gd);\n",
              "            observer.disconnect();\n",
              "        }}\n",
              "}});\n",
              "\n",
              "// Listen for the removal of the full notebook cells\n",
              "var notebookContainer = gd.closest('#notebook-container');\n",
              "if (notebookContainer) {{\n",
              "    x.observe(notebookContainer, {childList: true});\n",
              "}}\n",
              "\n",
              "// Listen for the clearing of the current output cell\n",
              "var outputEl = gd.closest('.output');\n",
              "if (outputEl) {{\n",
              "    x.observe(outputEl, {childList: true});\n",
              "}}\n",
              "\n",
              "                        })                };                            </script>        </div>\n",
              "</body>\n",
              "</html>"
            ]
          },
          "metadata": {}
        }
      ],
      "source": [
        "plot_parallel_coordinate(study)"
      ],
      "id": "aGiP8j7TGcQs"
    },
    {
      "cell_type": "code",
      "execution_count": null,
      "metadata": {
        "colab": {
          "base_uri": "https://localhost:8080/",
          "height": 542
        },
        "id": "BNsA2lkDGckO",
        "outputId": "11d10063-6644-410e-a9b0-e59c9a25bdb7"
      },
      "outputs": [
        {
          "output_type": "display_data",
          "data": {
            "text/html": [
              "<html>\n",
              "<head><meta charset=\"utf-8\" /></head>\n",
              "<body>\n",
              "    <div>            <script src=\"https://cdnjs.cloudflare.com/ajax/libs/mathjax/2.7.5/MathJax.js?config=TeX-AMS-MML_SVG\"></script><script type=\"text/javascript\">if (window.MathJax && window.MathJax.Hub && window.MathJax.Hub.Config) {window.MathJax.Hub.Config({SVG: {font: \"STIX-Web\"}});}</script>                <script type=\"text/javascript\">window.PlotlyConfig = {MathJaxConfig: 'local'};</script>\n",
              "        <script src=\"https://cdn.plot.ly/plotly-2.18.2.min.js\"></script>                <div id=\"970c5513-5a41-4711-858e-f5691eacc75f\" class=\"plotly-graph-div\" style=\"height:525px; width:100%;\"></div>            <script type=\"text/javascript\">                                    window.PLOTLYENV=window.PLOTLYENV || {};                                    if (document.getElementById(\"970c5513-5a41-4711-858e-f5691eacc75f\")) {                    Plotly.newPlot(                        \"970c5513-5a41-4711-858e-f5691eacc75f\",                        [{\"cliponaxis\":false,\"hovertemplate\":[\"learning_rate (FloatDistribution): 0.48910514473364175<extra></extra>\",\"max_depth (IntDistribution): 0.5108948552663582<extra></extra>\"],\"marker\":{\"color\":\"rgb(66,146,198)\"},\"orientation\":\"h\",\"text\":[\"0.49\",\"0.51\"],\"textposition\":\"outside\",\"x\":[0.48910514473364175,0.5108948552663582],\"y\":[\"learning_rate\",\"max_depth\"],\"type\":\"bar\"}],                        {\"showlegend\":false,\"title\":{\"text\":\"Hyperparameter Importances\"},\"xaxis\":{\"title\":{\"text\":\"Importance for Objective Value\"}},\"yaxis\":{\"title\":{\"text\":\"Hyperparameter\"}},\"template\":{\"data\":{\"histogram2dcontour\":[{\"type\":\"histogram2dcontour\",\"colorbar\":{\"outlinewidth\":0,\"ticks\":\"\"},\"colorscale\":[[0.0,\"#0d0887\"],[0.1111111111111111,\"#46039f\"],[0.2222222222222222,\"#7201a8\"],[0.3333333333333333,\"#9c179e\"],[0.4444444444444444,\"#bd3786\"],[0.5555555555555556,\"#d8576b\"],[0.6666666666666666,\"#ed7953\"],[0.7777777777777778,\"#fb9f3a\"],[0.8888888888888888,\"#fdca26\"],[1.0,\"#f0f921\"]]}],\"choropleth\":[{\"type\":\"choropleth\",\"colorbar\":{\"outlinewidth\":0,\"ticks\":\"\"}}],\"histogram2d\":[{\"type\":\"histogram2d\",\"colorbar\":{\"outlinewidth\":0,\"ticks\":\"\"},\"colorscale\":[[0.0,\"#0d0887\"],[0.1111111111111111,\"#46039f\"],[0.2222222222222222,\"#7201a8\"],[0.3333333333333333,\"#9c179e\"],[0.4444444444444444,\"#bd3786\"],[0.5555555555555556,\"#d8576b\"],[0.6666666666666666,\"#ed7953\"],[0.7777777777777778,\"#fb9f3a\"],[0.8888888888888888,\"#fdca26\"],[1.0,\"#f0f921\"]]}],\"heatmap\":[{\"type\":\"heatmap\",\"colorbar\":{\"outlinewidth\":0,\"ticks\":\"\"},\"colorscale\":[[0.0,\"#0d0887\"],[0.1111111111111111,\"#46039f\"],[0.2222222222222222,\"#7201a8\"],[0.3333333333333333,\"#9c179e\"],[0.4444444444444444,\"#bd3786\"],[0.5555555555555556,\"#d8576b\"],[0.6666666666666666,\"#ed7953\"],[0.7777777777777778,\"#fb9f3a\"],[0.8888888888888888,\"#fdca26\"],[1.0,\"#f0f921\"]]}],\"heatmapgl\":[{\"type\":\"heatmapgl\",\"colorbar\":{\"outlinewidth\":0,\"ticks\":\"\"},\"colorscale\":[[0.0,\"#0d0887\"],[0.1111111111111111,\"#46039f\"],[0.2222222222222222,\"#7201a8\"],[0.3333333333333333,\"#9c179e\"],[0.4444444444444444,\"#bd3786\"],[0.5555555555555556,\"#d8576b\"],[0.6666666666666666,\"#ed7953\"],[0.7777777777777778,\"#fb9f3a\"],[0.8888888888888888,\"#fdca26\"],[1.0,\"#f0f921\"]]}],\"contourcarpet\":[{\"type\":\"contourcarpet\",\"colorbar\":{\"outlinewidth\":0,\"ticks\":\"\"}}],\"contour\":[{\"type\":\"contour\",\"colorbar\":{\"outlinewidth\":0,\"ticks\":\"\"},\"colorscale\":[[0.0,\"#0d0887\"],[0.1111111111111111,\"#46039f\"],[0.2222222222222222,\"#7201a8\"],[0.3333333333333333,\"#9c179e\"],[0.4444444444444444,\"#bd3786\"],[0.5555555555555556,\"#d8576b\"],[0.6666666666666666,\"#ed7953\"],[0.7777777777777778,\"#fb9f3a\"],[0.8888888888888888,\"#fdca26\"],[1.0,\"#f0f921\"]]}],\"surface\":[{\"type\":\"surface\",\"colorbar\":{\"outlinewidth\":0,\"ticks\":\"\"},\"colorscale\":[[0.0,\"#0d0887\"],[0.1111111111111111,\"#46039f\"],[0.2222222222222222,\"#7201a8\"],[0.3333333333333333,\"#9c179e\"],[0.4444444444444444,\"#bd3786\"],[0.5555555555555556,\"#d8576b\"],[0.6666666666666666,\"#ed7953\"],[0.7777777777777778,\"#fb9f3a\"],[0.8888888888888888,\"#fdca26\"],[1.0,\"#f0f921\"]]}],\"mesh3d\":[{\"type\":\"mesh3d\",\"colorbar\":{\"outlinewidth\":0,\"ticks\":\"\"}}],\"scatter\":[{\"fillpattern\":{\"fillmode\":\"overlay\",\"size\":10,\"solidity\":0.2},\"type\":\"scatter\"}],\"parcoords\":[{\"type\":\"parcoords\",\"line\":{\"colorbar\":{\"outlinewidth\":0,\"ticks\":\"\"}}}],\"scatterpolargl\":[{\"type\":\"scatterpolargl\",\"marker\":{\"colorbar\":{\"outlinewidth\":0,\"ticks\":\"\"}}}],\"bar\":[{\"error_x\":{\"color\":\"#2a3f5f\"},\"error_y\":{\"color\":\"#2a3f5f\"},\"marker\":{\"line\":{\"color\":\"#E5ECF6\",\"width\":0.5},\"pattern\":{\"fillmode\":\"overlay\",\"size\":10,\"solidity\":0.2}},\"type\":\"bar\"}],\"scattergeo\":[{\"type\":\"scattergeo\",\"marker\":{\"colorbar\":{\"outlinewidth\":0,\"ticks\":\"\"}}}],\"scatterpolar\":[{\"type\":\"scatterpolar\",\"marker\":{\"colorbar\":{\"outlinewidth\":0,\"ticks\":\"\"}}}],\"histogram\":[{\"marker\":{\"pattern\":{\"fillmode\":\"overlay\",\"size\":10,\"solidity\":0.2}},\"type\":\"histogram\"}],\"scattergl\":[{\"type\":\"scattergl\",\"marker\":{\"colorbar\":{\"outlinewidth\":0,\"ticks\":\"\"}}}],\"scatter3d\":[{\"type\":\"scatter3d\",\"line\":{\"colorbar\":{\"outlinewidth\":0,\"ticks\":\"\"}},\"marker\":{\"colorbar\":{\"outlinewidth\":0,\"ticks\":\"\"}}}],\"scattermapbox\":[{\"type\":\"scattermapbox\",\"marker\":{\"colorbar\":{\"outlinewidth\":0,\"ticks\":\"\"}}}],\"scatterternary\":[{\"type\":\"scatterternary\",\"marker\":{\"colorbar\":{\"outlinewidth\":0,\"ticks\":\"\"}}}],\"scattercarpet\":[{\"type\":\"scattercarpet\",\"marker\":{\"colorbar\":{\"outlinewidth\":0,\"ticks\":\"\"}}}],\"carpet\":[{\"aaxis\":{\"endlinecolor\":\"#2a3f5f\",\"gridcolor\":\"white\",\"linecolor\":\"white\",\"minorgridcolor\":\"white\",\"startlinecolor\":\"#2a3f5f\"},\"baxis\":{\"endlinecolor\":\"#2a3f5f\",\"gridcolor\":\"white\",\"linecolor\":\"white\",\"minorgridcolor\":\"white\",\"startlinecolor\":\"#2a3f5f\"},\"type\":\"carpet\"}],\"table\":[{\"cells\":{\"fill\":{\"color\":\"#EBF0F8\"},\"line\":{\"color\":\"white\"}},\"header\":{\"fill\":{\"color\":\"#C8D4E3\"},\"line\":{\"color\":\"white\"}},\"type\":\"table\"}],\"barpolar\":[{\"marker\":{\"line\":{\"color\":\"#E5ECF6\",\"width\":0.5},\"pattern\":{\"fillmode\":\"overlay\",\"size\":10,\"solidity\":0.2}},\"type\":\"barpolar\"}],\"pie\":[{\"automargin\":true,\"type\":\"pie\"}]},\"layout\":{\"autotypenumbers\":\"strict\",\"colorway\":[\"#636efa\",\"#EF553B\",\"#00cc96\",\"#ab63fa\",\"#FFA15A\",\"#19d3f3\",\"#FF6692\",\"#B6E880\",\"#FF97FF\",\"#FECB52\"],\"font\":{\"color\":\"#2a3f5f\"},\"hovermode\":\"closest\",\"hoverlabel\":{\"align\":\"left\"},\"paper_bgcolor\":\"white\",\"plot_bgcolor\":\"#E5ECF6\",\"polar\":{\"bgcolor\":\"#E5ECF6\",\"angularaxis\":{\"gridcolor\":\"white\",\"linecolor\":\"white\",\"ticks\":\"\"},\"radialaxis\":{\"gridcolor\":\"white\",\"linecolor\":\"white\",\"ticks\":\"\"}},\"ternary\":{\"bgcolor\":\"#E5ECF6\",\"aaxis\":{\"gridcolor\":\"white\",\"linecolor\":\"white\",\"ticks\":\"\"},\"baxis\":{\"gridcolor\":\"white\",\"linecolor\":\"white\",\"ticks\":\"\"},\"caxis\":{\"gridcolor\":\"white\",\"linecolor\":\"white\",\"ticks\":\"\"}},\"coloraxis\":{\"colorbar\":{\"outlinewidth\":0,\"ticks\":\"\"}},\"colorscale\":{\"sequential\":[[0.0,\"#0d0887\"],[0.1111111111111111,\"#46039f\"],[0.2222222222222222,\"#7201a8\"],[0.3333333333333333,\"#9c179e\"],[0.4444444444444444,\"#bd3786\"],[0.5555555555555556,\"#d8576b\"],[0.6666666666666666,\"#ed7953\"],[0.7777777777777778,\"#fb9f3a\"],[0.8888888888888888,\"#fdca26\"],[1.0,\"#f0f921\"]],\"sequentialminus\":[[0.0,\"#0d0887\"],[0.1111111111111111,\"#46039f\"],[0.2222222222222222,\"#7201a8\"],[0.3333333333333333,\"#9c179e\"],[0.4444444444444444,\"#bd3786\"],[0.5555555555555556,\"#d8576b\"],[0.6666666666666666,\"#ed7953\"],[0.7777777777777778,\"#fb9f3a\"],[0.8888888888888888,\"#fdca26\"],[1.0,\"#f0f921\"]],\"diverging\":[[0,\"#8e0152\"],[0.1,\"#c51b7d\"],[0.2,\"#de77ae\"],[0.3,\"#f1b6da\"],[0.4,\"#fde0ef\"],[0.5,\"#f7f7f7\"],[0.6,\"#e6f5d0\"],[0.7,\"#b8e186\"],[0.8,\"#7fbc41\"],[0.9,\"#4d9221\"],[1,\"#276419\"]]},\"xaxis\":{\"gridcolor\":\"white\",\"linecolor\":\"white\",\"ticks\":\"\",\"title\":{\"standoff\":15},\"zerolinecolor\":\"white\",\"automargin\":true,\"zerolinewidth\":2},\"yaxis\":{\"gridcolor\":\"white\",\"linecolor\":\"white\",\"ticks\":\"\",\"title\":{\"standoff\":15},\"zerolinecolor\":\"white\",\"automargin\":true,\"zerolinewidth\":2},\"scene\":{\"xaxis\":{\"backgroundcolor\":\"#E5ECF6\",\"gridcolor\":\"white\",\"linecolor\":\"white\",\"showbackground\":true,\"ticks\":\"\",\"zerolinecolor\":\"white\",\"gridwidth\":2},\"yaxis\":{\"backgroundcolor\":\"#E5ECF6\",\"gridcolor\":\"white\",\"linecolor\":\"white\",\"showbackground\":true,\"ticks\":\"\",\"zerolinecolor\":\"white\",\"gridwidth\":2},\"zaxis\":{\"backgroundcolor\":\"#E5ECF6\",\"gridcolor\":\"white\",\"linecolor\":\"white\",\"showbackground\":true,\"ticks\":\"\",\"zerolinecolor\":\"white\",\"gridwidth\":2}},\"shapedefaults\":{\"line\":{\"color\":\"#2a3f5f\"}},\"annotationdefaults\":{\"arrowcolor\":\"#2a3f5f\",\"arrowhead\":0,\"arrowwidth\":1},\"geo\":{\"bgcolor\":\"white\",\"landcolor\":\"#E5ECF6\",\"subunitcolor\":\"white\",\"showland\":true,\"showlakes\":true,\"lakecolor\":\"white\"},\"title\":{\"x\":0.05},\"mapbox\":{\"style\":\"light\"}}}},                        {\"responsive\": true}                    ).then(function(){\n",
              "                            \n",
              "var gd = document.getElementById('970c5513-5a41-4711-858e-f5691eacc75f');\n",
              "var x = new MutationObserver(function (mutations, observer) {{\n",
              "        var display = window.getComputedStyle(gd).display;\n",
              "        if (!display || display === 'none') {{\n",
              "            console.log([gd, 'removed!']);\n",
              "            Plotly.purge(gd);\n",
              "            observer.disconnect();\n",
              "        }}\n",
              "}});\n",
              "\n",
              "// Listen for the removal of the full notebook cells\n",
              "var notebookContainer = gd.closest('#notebook-container');\n",
              "if (notebookContainer) {{\n",
              "    x.observe(notebookContainer, {childList: true});\n",
              "}}\n",
              "\n",
              "// Listen for the clearing of the current output cell\n",
              "var outputEl = gd.closest('.output');\n",
              "if (outputEl) {{\n",
              "    x.observe(outputEl, {childList: true});\n",
              "}}\n",
              "\n",
              "                        })                };                            </script>        </div>\n",
              "</body>\n",
              "</html>"
            ]
          },
          "metadata": {}
        }
      ],
      "source": [
        "plot_param_importances(study)"
      ],
      "id": "BNsA2lkDGckO"
    },
    {
      "cell_type": "markdown",
      "metadata": {
        "id": "_9mpwKJIa92R"
      },
      "source": [
        "#### Pruning"
      ],
      "id": "_9mpwKJIa92R"
    },
    {
      "cell_type": "code",
      "execution_count": null,
      "metadata": {
        "colab": {
          "base_uri": "https://localhost:8080/"
        },
        "id": "95J1CD2BPOzw",
        "outputId": "4bde996e-9ad1-42cc-def8-96874a2d9d20"
      },
      "outputs": [
        {
          "output_type": "stream",
          "name": "stderr",
          "text": [
            "\u001b[32m[I 2023-05-03 13:51:58,740]\u001b[0m A new study created in memory with name: no-name-5d1b873c-9980-4e0e-b655-ef4f1adb583a\u001b[0m\n",
            "\u001b[32m[I 2023-05-03 13:53:55,964]\u001b[0m Trial 0 finished with value: 0.9993963450911125 and parameters: {'xgbc__max_depth': 16, 'xgbc__learning_rate': 0.47176682047720636}. Best is trial 0 with value: 0.9993963450911125.\u001b[0m\n",
            "\u001b[32m[I 2023-05-03 13:57:26,858]\u001b[0m Trial 1 finished with value: 0.9993855170727897 and parameters: {'xgbc__max_depth': 18, 'xgbc__learning_rate': 0.18106120500120795}. Best is trial 0 with value: 0.9993963450911125.\u001b[0m\n",
            "\u001b[32m[I 2023-05-03 14:00:23,175]\u001b[0m Trial 2 finished with value: 0.9993670691998076 and parameters: {'xgbc__max_depth': 9, 'xgbc__learning_rate': 0.25863716985900825}. Best is trial 0 with value: 0.9993963450911125.\u001b[0m\n",
            "\u001b[32m[I 2023-05-03 14:02:30,011]\u001b[0m Trial 3 finished with value: 0.9994014544982109 and parameters: {'xgbc__max_depth': 4, 'xgbc__learning_rate': 0.4659860736298818}. Best is trial 3 with value: 0.9994014544982109.\u001b[0m\n",
            "\u001b[32m[I 2023-05-03 14:05:05,771]\u001b[0m Trial 4 finished with value: 0.9993636250543524 and parameters: {'xgbc__max_depth': 19, 'xgbc__learning_rate': 0.30414665141872377}. Best is trial 3 with value: 0.9994014544982109.\u001b[0m\n",
            "\u001b[32m[I 2023-05-03 14:05:18,661]\u001b[0m Trial 5 pruned. Trial was pruned at iteration 5.\u001b[0m\n",
            "\u001b[32m[I 2023-05-03 14:07:31,003]\u001b[0m Trial 6 pruned. Trial was pruned at iteration 90.\u001b[0m\n",
            "\u001b[32m[I 2023-05-03 14:09:48,619]\u001b[0m Trial 7 finished with value: 0.9993893508664161 and parameters: {'xgbc__max_depth': 12, 'xgbc__learning_rate': 0.35930479383565644}. Best is trial 3 with value: 0.9994014544982109.\u001b[0m\n",
            "\u001b[32m[I 2023-05-03 14:11:54,515]\u001b[0m Trial 8 finished with value: 0.9994034282412013 and parameters: {'xgbc__max_depth': 27, 'xgbc__learning_rate': 0.41473388677020706}. Best is trial 8 with value: 0.9994034282412013.\u001b[0m\n",
            "\u001b[32m[I 2023-05-03 14:12:20,810]\u001b[0m Trial 9 pruned. Trial was pruned at iteration 5.\u001b[0m\n",
            "\u001b[32m[I 2023-05-03 14:13:37,369]\u001b[0m Trial 10 pruned. Trial was pruned at iteration 38.\u001b[0m\n",
            "\u001b[32m[I 2023-05-03 14:14:26,325]\u001b[0m Trial 11 pruned. Trial was pruned at iteration 13.\u001b[0m\n",
            "\u001b[32m[I 2023-05-03 14:14:36,672]\u001b[0m Trial 12 pruned. Trial was pruned at iteration 5.\u001b[0m\n",
            "\u001b[32m[I 2023-05-03 14:15:29,783]\u001b[0m Trial 13 pruned. Trial was pruned at iteration 14.\u001b[0m\n",
            "\u001b[32m[I 2023-05-03 14:16:16,022]\u001b[0m Trial 14 pruned. Trial was pruned at iteration 13.\u001b[0m\n",
            "\u001b[32m[I 2023-05-03 14:16:50,646]\u001b[0m Trial 15 pruned. Trial was pruned at iteration 8.\u001b[0m\n",
            "\u001b[32m[I 2023-05-03 14:17:41,213]\u001b[0m Trial 16 pruned. Trial was pruned at iteration 14.\u001b[0m\n",
            "\u001b[32m[I 2023-05-03 14:18:06,702]\u001b[0m Trial 17 pruned. Trial was pruned at iteration 5.\u001b[0m\n",
            "\u001b[32m[I 2023-05-03 14:18:27,755]\u001b[0m Trial 18 pruned. Trial was pruned at iteration 5.\u001b[0m\n",
            "\u001b[32m[I 2023-05-03 14:20:20,386]\u001b[0m Trial 19 finished with value: 0.9993913111584022 and parameters: {'xgbc__max_depth': 13, 'xgbc__learning_rate': 0.4997998526357607}. Best is trial 8 with value: 0.9994034282412013.\u001b[0m\n",
            "\u001b[32m[I 2023-05-03 14:20:45,448]\u001b[0m Trial 20 pruned. Trial was pruned at iteration 5.\u001b[0m\n",
            "\u001b[32m[I 2023-05-03 14:21:37,068]\u001b[0m Trial 21 pruned. Trial was pruned at iteration 15.\u001b[0m\n",
            "\u001b[32m[I 2023-05-03 14:21:54,593]\u001b[0m Trial 22 pruned. Trial was pruned at iteration 5.\u001b[0m\n",
            "\u001b[32m[I 2023-05-03 14:22:19,776]\u001b[0m Trial 23 pruned. Trial was pruned at iteration 5.\u001b[0m\n",
            "\u001b[32m[I 2023-05-03 14:23:10,379]\u001b[0m Trial 24 pruned. Trial was pruned at iteration 15.\u001b[0m\n",
            "\u001b[32m[I 2023-05-03 14:23:58,722]\u001b[0m Trial 25 pruned. Trial was pruned at iteration 13.\u001b[0m\n",
            "\u001b[32m[I 2023-05-03 14:24:41,196]\u001b[0m Trial 26 pruned. Trial was pruned at iteration 10.\u001b[0m\n",
            "\u001b[32m[I 2023-05-03 14:25:06,745]\u001b[0m Trial 27 pruned. Trial was pruned at iteration 5.\u001b[0m\n",
            "\u001b[32m[I 2023-05-03 14:26:40,423]\u001b[0m Trial 28 pruned. Trial was pruned at iteration 45.\u001b[0m\n",
            "\u001b[32m[I 2023-05-03 14:27:06,163]\u001b[0m Trial 29 pruned. Trial was pruned at iteration 5.\u001b[0m\n"
          ]
        },
        {
          "output_type": "stream",
          "name": "stdout",
          "text": [
            "Number of finished trials: 30\n",
            "Best trial:\n",
            "  Value: 0.9994034282412013\n",
            "  Params: \n",
            "    xgbc__max_depth: 27\n",
            "    xgbc__learning_rate: 0.41473388677020706\n",
            "time 2107.4450645446777\n"
          ]
        }
      ],
      "source": [
        "from pandas.core.common import random_state\n",
        "import optuna\n",
        "import time\n",
        "from sklearn import metrics\n",
        "from sklearn.model_selection import cross_val_score, KFold\n",
        "from sklearn.ensemble import ExtraTreesClassifier\n",
        "from sklearn.model_selection import StratifiedKFold\n",
        "inicio = time.time()\n",
        "rs=NIA\n",
        "cv_inner = StratifiedKFold(n_splits=3, random_state=rs, shuffle=True)\n",
        "np.random.seed(NIA)\n",
        "def objective(trial):\n",
        "    dtrain = xgb.DMatrix(X_train, label=y_train)\n",
        "\n",
        "    param = {\n",
        "        \"max_depth\" : trial.suggest_int(\"xgbc__max_depth\",3,30),\n",
        "        \"learning_rate\" : trial.suggest_float(\"xgbc__learning_rate\",0.01,0.5),\n",
        "        \"eval_metric\": \"auc\",\n",
        "        \"objective\" : 'multi:softprob',\n",
        "        \"num_class\" : 6\n",
        "    }\n",
        "\n",
        "    pruning_callback = optuna.integration.XGBoostPruningCallback(trial, \"test-auc\")\n",
        "    history = xgb.cv(param, dtrain, num_boost_round=100, callbacks=[pruning_callback])\n",
        "    mean_auc = history[\"test-auc-mean\"].values[-1]\n",
        "    return mean_auc\n",
        "\n",
        "\n",
        "if __name__ == \"__main__\":\n",
        "    pruner = optuna.pruners.MedianPruner(n_warmup_steps=5)\n",
        "    study = optuna.create_study(pruner=pruner, direction=\"maximize\")\n",
        "    study.optimize(objective, n_trials=30)\n",
        "\n",
        "    print(\"Number of finished trials: {}\".format(len(study.trials)))\n",
        "\n",
        "    print(\"Best trial:\")\n",
        "    trial = study.best_trial\n",
        "\n",
        "    print(\"  Value: {}\".format(trial.value))\n",
        "\n",
        "    print(\"  Params: \")\n",
        "    for key, value in trial.params.items():\n",
        "        print(\"    {}: {}\".format(key, value))\n",
        "fin=time.time()\n",
        "print('time',fin-inicio)\n",
        "timeopt5=fin-inicio"
      ],
      "id": "95J1CD2BPOzw"
    },
    {
      "cell_type": "code",
      "execution_count": null,
      "metadata": {
        "id": "z7rMaSrCQtXY",
        "colab": {
          "base_uri": "https://localhost:8080/"
        },
        "outputId": "e75a8ae8-a8be-450b-b8f7-f9522d756b18"
      },
      "outputs": [
        {
          "output_type": "stream",
          "name": "stdout",
          "text": [
            "time 2107.528442144394\n",
            "  Number of finished trials:  30\n",
            "  Number of pruned trials:  22\n",
            "  Number of complete trials:  8\n"
          ]
        }
      ],
      "source": [
        "pruned_trials = [t for t in study.trials if t.state == optuna.trial.TrialState.PRUNED]\n",
        "complete_trials = [t for t in study.trials if t.state == optuna.trial.TrialState.COMPLETE]\n",
        "fin=time.time()\n",
        "print('time',fin-inicio)\n",
        "print(\"  Number of finished trials: \", len(study.trials))\n",
        "print(\"  Number of pruned trials: \", len(pruned_trials))\n",
        "print(\"  Number of complete trials: \", len(complete_trials))"
      ],
      "id": "z7rMaSrCQtXY"
    },
    {
      "cell_type": "code",
      "execution_count": null,
      "metadata": {
        "id": "3ysD17-dQkLx",
        "colab": {
          "base_uri": "https://localhost:8080/"
        },
        "outputId": "d7774397-d86e-433a-be99-ff1b36df1dce"
      },
      "outputs": [
        {
          "output_type": "stream",
          "name": "stdout",
          "text": [
            "The best trial is : \n",
            "FrozenTrial(number=8, state=TrialState.COMPLETE, values=[0.9994034282412013], datetime_start=datetime.datetime(2023, 5, 3, 14, 9, 48, 621533), datetime_complete=datetime.datetime(2023, 5, 3, 14, 11, 54, 514602), params={'xgbc__max_depth': 27, 'xgbc__learning_rate': 0.41473388677020706}, user_attrs={}, system_attrs={}, intermediate_values={0: 0.9955485276655901, 1: 0.9975489058604952, 2: 0.9981776818559331, 3: 0.998321949406606, 4: 0.9984783185727476, 5: 0.9986045507165606, 6: 0.9988230617209489, 7: 0.9989254308357856, 8: 0.9990791402484288, 9: 0.999152313341842, 10: 0.999190515406183, 11: 0.999211901590197, 12: 0.9992151974628527, 13: 0.9992397398698293, 14: 0.9992801739056308, 15: 0.9992723547676056, 16: 0.9992782059892611, 17: 0.9992710226679248, 18: 0.9993007306725437, 19: 0.9993089138578041, 20: 0.999304262842239, 21: 0.9993125756346308, 22: 0.9993132063536327, 23: 0.9993084235062112, 24: 0.9992956665018711, 25: 0.9993164621770015, 26: 0.9993310517987174, 27: 0.9993362411195323, 28: 0.999335066772253, 29: 0.999347847813917, 30: 0.9993468209064053, 31: 0.9993388244483291, 32: 0.9993510004594212, 33: 0.9993503005950227, 34: 0.999347736028915, 35: 0.9993503371863074, 36: 0.9993582643029931, 37: 0.9993635120521969, 38: 0.999367384229087, 39: 0.9993714122109654, 40: 0.9993748192155619, 41: 0.9993777975320502, 42: 0.9993766716148765, 43: 0.9993770121345887, 44: 0.9993765561215495, 45: 0.9993824063490574, 46: 0.9993791166365042, 47: 0.9993738668657698, 48: 0.9993771020380531, 49: 0.9993747843565309, 50: 0.9993730978752501, 51: 0.9993733589928193, 52: 0.999377959589414, 53: 0.9993792631653416, 54: 0.9993745360888998, 55: 0.9993787171670049, 56: 0.9993798386939732, 57: 0.999378842566753, 58: 0.9993800104064223, 59: 0.9993840440269436, 60: 0.999383092019451, 61: 0.9993835984734503, 62: 0.9993870973855957, 63: 0.9993879907735476, 64: 0.9993877354427573, 65: 0.9993905178384502, 66: 0.9993918468308212, 67: 0.9993908466110994, 68: 0.9993905757612431, 69: 0.9993864874686721, 70: 0.9993886302280215, 71: 0.9993871021856205, 72: 0.9993885107654116, 73: 0.9993842236064516, 74: 0.9993859861695595, 75: 0.9993857505611371, 76: 0.999390581857388, 77: 0.9993876866809318, 78: 0.9993892970737331, 79: 0.9993925382794587, 80: 0.999396507740885, 81: 0.9993937774702065, 82: 0.9993921855106569, 83: 0.9993918492658099, 84: 0.9993954887023552, 85: 0.9993936206841588, 86: 0.9993955463104734, 87: 0.9993946386482971, 88: 0.9993958307648513, 89: 0.9993984249275952, 90: 0.9993978782786074, 91: 0.9993972372242211, 92: 0.9993983906154975, 93: 0.9994015262624533, 94: 0.9994006426813646, 95: 0.9994047273985717, 96: 0.9994040608754098, 97: 0.9994042196558345, 98: 0.9994041687026414, 99: 0.9994034282412013}, distributions={'xgbc__max_depth': IntDistribution(high=30, log=False, low=3, step=1), 'xgbc__learning_rate': FloatDistribution(high=0.5, log=False, low=0.01, step=None)}, trial_id=8, value=None)\n",
            "The best value is : \n",
            "0.9994034282412013\n",
            "The best parameters are : \n",
            "{'xgbc__max_depth': 27, 'xgbc__learning_rate': 0.41473388677020706}\n",
            "Precision: 0.9994034282412013\n",
            "Best hyperparameters: {'xgbc__max_depth': 27, 'xgbc__learning_rate': 0.41473388677020706}\n"
          ]
        }
      ],
      "source": [
        "# Getting the best trial:\n",
        "print(f\"The best trial is : \\n{study.best_trial}\")\n",
        "# Getting the best score:\n",
        "print(f\"The best value is : \\n{study.best_value}\")\n",
        "# Getting the best parameters:\n",
        "print(f\"The best parameters are : \\n{study.best_params}\")\n",
        "trial = study.best_trial\n",
        "print('Precision: {}'.format(trial.value))\n",
        "print(\"Best hyperparameters: {}\".format(trial.params))"
      ],
      "id": "3ysD17-dQkLx"
    },
    {
      "cell_type": "code",
      "execution_count": null,
      "metadata": {
        "colab": {
          "base_uri": "https://localhost:8080/"
        },
        "id": "aKHCMK-VR3f0",
        "outputId": "b039e31a-52ee-4db5-b6a6-132f9be84ef1"
      },
      "outputs": [
        {
          "output_type": "stream",
          "name": "stdout",
          "text": [
            "Accuracy: 0.9902979282599781\n",
            "time 67.23858571052551\n"
          ]
        }
      ],
      "source": [
        "rs=NIA\n",
        "xgbc = xgb.XGBClassifier(random_state=rs)\n",
        "classif=Pipeline([('xgbc',xgbc)])\n",
        "classif.set_params(**study.best_params)\n",
        "(bacopt5, tiempo)=default_hp(classif, X_train, y_train, X_test, y_test)"
      ],
      "id": "aKHCMK-VR3f0"
    },
    {
      "cell_type": "code",
      "execution_count": null,
      "metadata": {
        "id": "-wPeXe5pGgNV",
        "colab": {
          "base_uri": "https://localhost:8080/",
          "height": 562
        },
        "outputId": "2f0bba40-3dac-45b7-8f4e-28f9b1623044"
      },
      "outputs": [
        {
          "output_type": "display_data",
          "data": {
            "text/html": [
              "<html>\n",
              "<head><meta charset=\"utf-8\" /></head>\n",
              "<body>\n",
              "    <div>            <script src=\"https://cdnjs.cloudflare.com/ajax/libs/mathjax/2.7.5/MathJax.js?config=TeX-AMS-MML_SVG\"></script><script type=\"text/javascript\">if (window.MathJax && window.MathJax.Hub && window.MathJax.Hub.Config) {window.MathJax.Hub.Config({SVG: {font: \"STIX-Web\"}});}</script>                <script type=\"text/javascript\">window.PlotlyConfig = {MathJaxConfig: 'local'};</script>\n",
              "        <script src=\"https://cdn.plot.ly/plotly-2.18.2.min.js\"></script>                <div id=\"910a4989-5173-4df0-8b30-597c13e2cf1c\" class=\"plotly-graph-div\" style=\"height:525px; width:100%;\"></div>            <script type=\"text/javascript\">                                    window.PLOTLYENV=window.PLOTLYENV || {};                                    if (document.getElementById(\"910a4989-5173-4df0-8b30-597c13e2cf1c\")) {                    Plotly.newPlot(                        \"910a4989-5173-4df0-8b30-597c13e2cf1c\",                        [{\"mode\":\"markers\",\"name\":\"Objective Value\",\"x\":[0,1,2,3,4,7,8,19],\"y\":[0.9993963450911125,0.9993855170727897,0.9993670691998076,0.9994014544982109,0.9993636250543524,0.9993893508664161,0.9994034282412013,0.9993913111584022],\"type\":\"scatter\"},{\"name\":\"Best Value\",\"x\":[0,1,2,3,4,7,8,19],\"y\":[0.9993963450911125,0.9993963450911125,0.9993963450911125,0.9994014544982109,0.9994014544982109,0.9994014544982109,0.9994034282412013,0.9994034282412013],\"type\":\"scatter\"}],                        {\"title\":{\"text\":\"Optimization History Plot\"},\"xaxis\":{\"title\":{\"text\":\"Trial\"}},\"yaxis\":{\"title\":{\"text\":\"Objective Value\"}},\"template\":{\"data\":{\"histogram2dcontour\":[{\"type\":\"histogram2dcontour\",\"colorbar\":{\"outlinewidth\":0,\"ticks\":\"\"},\"colorscale\":[[0.0,\"#0d0887\"],[0.1111111111111111,\"#46039f\"],[0.2222222222222222,\"#7201a8\"],[0.3333333333333333,\"#9c179e\"],[0.4444444444444444,\"#bd3786\"],[0.5555555555555556,\"#d8576b\"],[0.6666666666666666,\"#ed7953\"],[0.7777777777777778,\"#fb9f3a\"],[0.8888888888888888,\"#fdca26\"],[1.0,\"#f0f921\"]]}],\"choropleth\":[{\"type\":\"choropleth\",\"colorbar\":{\"outlinewidth\":0,\"ticks\":\"\"}}],\"histogram2d\":[{\"type\":\"histogram2d\",\"colorbar\":{\"outlinewidth\":0,\"ticks\":\"\"},\"colorscale\":[[0.0,\"#0d0887\"],[0.1111111111111111,\"#46039f\"],[0.2222222222222222,\"#7201a8\"],[0.3333333333333333,\"#9c179e\"],[0.4444444444444444,\"#bd3786\"],[0.5555555555555556,\"#d8576b\"],[0.6666666666666666,\"#ed7953\"],[0.7777777777777778,\"#fb9f3a\"],[0.8888888888888888,\"#fdca26\"],[1.0,\"#f0f921\"]]}],\"heatmap\":[{\"type\":\"heatmap\",\"colorbar\":{\"outlinewidth\":0,\"ticks\":\"\"},\"colorscale\":[[0.0,\"#0d0887\"],[0.1111111111111111,\"#46039f\"],[0.2222222222222222,\"#7201a8\"],[0.3333333333333333,\"#9c179e\"],[0.4444444444444444,\"#bd3786\"],[0.5555555555555556,\"#d8576b\"],[0.6666666666666666,\"#ed7953\"],[0.7777777777777778,\"#fb9f3a\"],[0.8888888888888888,\"#fdca26\"],[1.0,\"#f0f921\"]]}],\"heatmapgl\":[{\"type\":\"heatmapgl\",\"colorbar\":{\"outlinewidth\":0,\"ticks\":\"\"},\"colorscale\":[[0.0,\"#0d0887\"],[0.1111111111111111,\"#46039f\"],[0.2222222222222222,\"#7201a8\"],[0.3333333333333333,\"#9c179e\"],[0.4444444444444444,\"#bd3786\"],[0.5555555555555556,\"#d8576b\"],[0.6666666666666666,\"#ed7953\"],[0.7777777777777778,\"#fb9f3a\"],[0.8888888888888888,\"#fdca26\"],[1.0,\"#f0f921\"]]}],\"contourcarpet\":[{\"type\":\"contourcarpet\",\"colorbar\":{\"outlinewidth\":0,\"ticks\":\"\"}}],\"contour\":[{\"type\":\"contour\",\"colorbar\":{\"outlinewidth\":0,\"ticks\":\"\"},\"colorscale\":[[0.0,\"#0d0887\"],[0.1111111111111111,\"#46039f\"],[0.2222222222222222,\"#7201a8\"],[0.3333333333333333,\"#9c179e\"],[0.4444444444444444,\"#bd3786\"],[0.5555555555555556,\"#d8576b\"],[0.6666666666666666,\"#ed7953\"],[0.7777777777777778,\"#fb9f3a\"],[0.8888888888888888,\"#fdca26\"],[1.0,\"#f0f921\"]]}],\"surface\":[{\"type\":\"surface\",\"colorbar\":{\"outlinewidth\":0,\"ticks\":\"\"},\"colorscale\":[[0.0,\"#0d0887\"],[0.1111111111111111,\"#46039f\"],[0.2222222222222222,\"#7201a8\"],[0.3333333333333333,\"#9c179e\"],[0.4444444444444444,\"#bd3786\"],[0.5555555555555556,\"#d8576b\"],[0.6666666666666666,\"#ed7953\"],[0.7777777777777778,\"#fb9f3a\"],[0.8888888888888888,\"#fdca26\"],[1.0,\"#f0f921\"]]}],\"mesh3d\":[{\"type\":\"mesh3d\",\"colorbar\":{\"outlinewidth\":0,\"ticks\":\"\"}}],\"scatter\":[{\"fillpattern\":{\"fillmode\":\"overlay\",\"size\":10,\"solidity\":0.2},\"type\":\"scatter\"}],\"parcoords\":[{\"type\":\"parcoords\",\"line\":{\"colorbar\":{\"outlinewidth\":0,\"ticks\":\"\"}}}],\"scatterpolargl\":[{\"type\":\"scatterpolargl\",\"marker\":{\"colorbar\":{\"outlinewidth\":0,\"ticks\":\"\"}}}],\"bar\":[{\"error_x\":{\"color\":\"#2a3f5f\"},\"error_y\":{\"color\":\"#2a3f5f\"},\"marker\":{\"line\":{\"color\":\"#E5ECF6\",\"width\":0.5},\"pattern\":{\"fillmode\":\"overlay\",\"size\":10,\"solidity\":0.2}},\"type\":\"bar\"}],\"scattergeo\":[{\"type\":\"scattergeo\",\"marker\":{\"colorbar\":{\"outlinewidth\":0,\"ticks\":\"\"}}}],\"scatterpolar\":[{\"type\":\"scatterpolar\",\"marker\":{\"colorbar\":{\"outlinewidth\":0,\"ticks\":\"\"}}}],\"histogram\":[{\"marker\":{\"pattern\":{\"fillmode\":\"overlay\",\"size\":10,\"solidity\":0.2}},\"type\":\"histogram\"}],\"scattergl\":[{\"type\":\"scattergl\",\"marker\":{\"colorbar\":{\"outlinewidth\":0,\"ticks\":\"\"}}}],\"scatter3d\":[{\"type\":\"scatter3d\",\"line\":{\"colorbar\":{\"outlinewidth\":0,\"ticks\":\"\"}},\"marker\":{\"colorbar\":{\"outlinewidth\":0,\"ticks\":\"\"}}}],\"scattermapbox\":[{\"type\":\"scattermapbox\",\"marker\":{\"colorbar\":{\"outlinewidth\":0,\"ticks\":\"\"}}}],\"scatterternary\":[{\"type\":\"scatterternary\",\"marker\":{\"colorbar\":{\"outlinewidth\":0,\"ticks\":\"\"}}}],\"scattercarpet\":[{\"type\":\"scattercarpet\",\"marker\":{\"colorbar\":{\"outlinewidth\":0,\"ticks\":\"\"}}}],\"carpet\":[{\"aaxis\":{\"endlinecolor\":\"#2a3f5f\",\"gridcolor\":\"white\",\"linecolor\":\"white\",\"minorgridcolor\":\"white\",\"startlinecolor\":\"#2a3f5f\"},\"baxis\":{\"endlinecolor\":\"#2a3f5f\",\"gridcolor\":\"white\",\"linecolor\":\"white\",\"minorgridcolor\":\"white\",\"startlinecolor\":\"#2a3f5f\"},\"type\":\"carpet\"}],\"table\":[{\"cells\":{\"fill\":{\"color\":\"#EBF0F8\"},\"line\":{\"color\":\"white\"}},\"header\":{\"fill\":{\"color\":\"#C8D4E3\"},\"line\":{\"color\":\"white\"}},\"type\":\"table\"}],\"barpolar\":[{\"marker\":{\"line\":{\"color\":\"#E5ECF6\",\"width\":0.5},\"pattern\":{\"fillmode\":\"overlay\",\"size\":10,\"solidity\":0.2}},\"type\":\"barpolar\"}],\"pie\":[{\"automargin\":true,\"type\":\"pie\"}]},\"layout\":{\"autotypenumbers\":\"strict\",\"colorway\":[\"#636efa\",\"#EF553B\",\"#00cc96\",\"#ab63fa\",\"#FFA15A\",\"#19d3f3\",\"#FF6692\",\"#B6E880\",\"#FF97FF\",\"#FECB52\"],\"font\":{\"color\":\"#2a3f5f\"},\"hovermode\":\"closest\",\"hoverlabel\":{\"align\":\"left\"},\"paper_bgcolor\":\"white\",\"plot_bgcolor\":\"#E5ECF6\",\"polar\":{\"bgcolor\":\"#E5ECF6\",\"angularaxis\":{\"gridcolor\":\"white\",\"linecolor\":\"white\",\"ticks\":\"\"},\"radialaxis\":{\"gridcolor\":\"white\",\"linecolor\":\"white\",\"ticks\":\"\"}},\"ternary\":{\"bgcolor\":\"#E5ECF6\",\"aaxis\":{\"gridcolor\":\"white\",\"linecolor\":\"white\",\"ticks\":\"\"},\"baxis\":{\"gridcolor\":\"white\",\"linecolor\":\"white\",\"ticks\":\"\"},\"caxis\":{\"gridcolor\":\"white\",\"linecolor\":\"white\",\"ticks\":\"\"}},\"coloraxis\":{\"colorbar\":{\"outlinewidth\":0,\"ticks\":\"\"}},\"colorscale\":{\"sequential\":[[0.0,\"#0d0887\"],[0.1111111111111111,\"#46039f\"],[0.2222222222222222,\"#7201a8\"],[0.3333333333333333,\"#9c179e\"],[0.4444444444444444,\"#bd3786\"],[0.5555555555555556,\"#d8576b\"],[0.6666666666666666,\"#ed7953\"],[0.7777777777777778,\"#fb9f3a\"],[0.8888888888888888,\"#fdca26\"],[1.0,\"#f0f921\"]],\"sequentialminus\":[[0.0,\"#0d0887\"],[0.1111111111111111,\"#46039f\"],[0.2222222222222222,\"#7201a8\"],[0.3333333333333333,\"#9c179e\"],[0.4444444444444444,\"#bd3786\"],[0.5555555555555556,\"#d8576b\"],[0.6666666666666666,\"#ed7953\"],[0.7777777777777778,\"#fb9f3a\"],[0.8888888888888888,\"#fdca26\"],[1.0,\"#f0f921\"]],\"diverging\":[[0,\"#8e0152\"],[0.1,\"#c51b7d\"],[0.2,\"#de77ae\"],[0.3,\"#f1b6da\"],[0.4,\"#fde0ef\"],[0.5,\"#f7f7f7\"],[0.6,\"#e6f5d0\"],[0.7,\"#b8e186\"],[0.8,\"#7fbc41\"],[0.9,\"#4d9221\"],[1,\"#276419\"]]},\"xaxis\":{\"gridcolor\":\"white\",\"linecolor\":\"white\",\"ticks\":\"\",\"title\":{\"standoff\":15},\"zerolinecolor\":\"white\",\"automargin\":true,\"zerolinewidth\":2},\"yaxis\":{\"gridcolor\":\"white\",\"linecolor\":\"white\",\"ticks\":\"\",\"title\":{\"standoff\":15},\"zerolinecolor\":\"white\",\"automargin\":true,\"zerolinewidth\":2},\"scene\":{\"xaxis\":{\"backgroundcolor\":\"#E5ECF6\",\"gridcolor\":\"white\",\"linecolor\":\"white\",\"showbackground\":true,\"ticks\":\"\",\"zerolinecolor\":\"white\",\"gridwidth\":2},\"yaxis\":{\"backgroundcolor\":\"#E5ECF6\",\"gridcolor\":\"white\",\"linecolor\":\"white\",\"showbackground\":true,\"ticks\":\"\",\"zerolinecolor\":\"white\",\"gridwidth\":2},\"zaxis\":{\"backgroundcolor\":\"#E5ECF6\",\"gridcolor\":\"white\",\"linecolor\":\"white\",\"showbackground\":true,\"ticks\":\"\",\"zerolinecolor\":\"white\",\"gridwidth\":2}},\"shapedefaults\":{\"line\":{\"color\":\"#2a3f5f\"}},\"annotationdefaults\":{\"arrowcolor\":\"#2a3f5f\",\"arrowhead\":0,\"arrowwidth\":1},\"geo\":{\"bgcolor\":\"white\",\"landcolor\":\"#E5ECF6\",\"subunitcolor\":\"white\",\"showland\":true,\"showlakes\":true,\"lakecolor\":\"white\"},\"title\":{\"x\":0.05},\"mapbox\":{\"style\":\"light\"}}}},                        {\"responsive\": true}                    ).then(function(){\n",
              "                            \n",
              "var gd = document.getElementById('910a4989-5173-4df0-8b30-597c13e2cf1c');\n",
              "var x = new MutationObserver(function (mutations, observer) {{\n",
              "        var display = window.getComputedStyle(gd).display;\n",
              "        if (!display || display === 'none') {{\n",
              "            console.log([gd, 'removed!']);\n",
              "            Plotly.purge(gd);\n",
              "            observer.disconnect();\n",
              "        }}\n",
              "}});\n",
              "\n",
              "// Listen for the removal of the full notebook cells\n",
              "var notebookContainer = gd.closest('#notebook-container');\n",
              "if (notebookContainer) {{\n",
              "    x.observe(notebookContainer, {childList: true});\n",
              "}}\n",
              "\n",
              "// Listen for the clearing of the current output cell\n",
              "var outputEl = gd.closest('.output');\n",
              "if (outputEl) {{\n",
              "    x.observe(outputEl, {childList: true});\n",
              "}}\n",
              "\n",
              "                        })                };                            </script>        </div>\n",
              "</body>\n",
              "</html>"
            ]
          },
          "metadata": {}
        }
      ],
      "source": [
        "import matplotlib.pyplot as plt\n",
        "optuna.visualization.plot_optimization_history(study).show()"
      ],
      "id": "-wPeXe5pGgNV"
    },
    {
      "cell_type": "code",
      "execution_count": null,
      "metadata": {
        "id": "N8wcJn3lGga-",
        "colab": {
          "base_uri": "https://localhost:8080/",
          "height": 562
        },
        "outputId": "f729ee66-cc01-4fed-ea25-fba42944fc82"
      },
      "outputs": [
        {
          "output_type": "display_data",
          "data": {
            "text/html": [
              "<html>\n",
              "<head><meta charset=\"utf-8\" /></head>\n",
              "<body>\n",
              "    <div>            <script src=\"https://cdnjs.cloudflare.com/ajax/libs/mathjax/2.7.5/MathJax.js?config=TeX-AMS-MML_SVG\"></script><script type=\"text/javascript\">if (window.MathJax && window.MathJax.Hub && window.MathJax.Hub.Config) {window.MathJax.Hub.Config({SVG: {font: \"STIX-Web\"}});}</script>                <script type=\"text/javascript\">window.PlotlyConfig = {MathJaxConfig: 'local'};</script>\n",
              "        <script src=\"https://cdn.plot.ly/plotly-2.18.2.min.js\"></script>                <div id=\"721faf76-4ccd-4cbe-8a5b-5ea712b1f470\" class=\"plotly-graph-div\" style=\"height:525px; width:100%;\"></div>            <script type=\"text/javascript\">                                    window.PLOTLYENV=window.PLOTLYENV || {};                                    if (document.getElementById(\"721faf76-4ccd-4cbe-8a5b-5ea712b1f470\")) {                    Plotly.newPlot(                        \"721faf76-4ccd-4cbe-8a5b-5ea712b1f470\",                        [{\"dimensions\":[{\"label\":\"Objective Value\",\"range\":[0.9993636250543524,0.9994034282412013],\"values\":[0.9993963450911125,0.9993855170727897,0.9993670691998076,0.9994014544982109,0.9993636250543524,0.9993893508664161,0.9994034282412013,0.9993913111584022]},{\"label\":\"xgbc__learning_rate\",\"range\":[0.18106120500120795,0.4997998526357607],\"values\":[0.47176682047720636,0.18106120500120795,0.25863716985900825,0.4659860736298818,0.30414665141872377,0.35930479383565644,0.41473388677020706,0.4997998526357607]},{\"label\":\"xgbc__max_depth\",\"range\":[4,27],\"values\":[16,18,9,4,19,12,27,13]}],\"labelangle\":30,\"labelside\":\"bottom\",\"line\":{\"color\":[0.9993963450911125,0.9993855170727897,0.9993670691998076,0.9994014544982109,0.9993636250543524,0.9993893508664161,0.9994034282412013,0.9993913111584022],\"colorbar\":{\"title\":{\"text\":\"Objective Value\"}},\"colorscale\":[[0.0,\"rgb(247,251,255)\"],[0.125,\"rgb(222,235,247)\"],[0.25,\"rgb(198,219,239)\"],[0.375,\"rgb(158,202,225)\"],[0.5,\"rgb(107,174,214)\"],[0.625,\"rgb(66,146,198)\"],[0.75,\"rgb(33,113,181)\"],[0.875,\"rgb(8,81,156)\"],[1.0,\"rgb(8,48,107)\"]],\"reversescale\":false,\"showscale\":true},\"type\":\"parcoords\"}],                        {\"title\":{\"text\":\"Parallel Coordinate Plot\"},\"template\":{\"data\":{\"histogram2dcontour\":[{\"type\":\"histogram2dcontour\",\"colorbar\":{\"outlinewidth\":0,\"ticks\":\"\"},\"colorscale\":[[0.0,\"#0d0887\"],[0.1111111111111111,\"#46039f\"],[0.2222222222222222,\"#7201a8\"],[0.3333333333333333,\"#9c179e\"],[0.4444444444444444,\"#bd3786\"],[0.5555555555555556,\"#d8576b\"],[0.6666666666666666,\"#ed7953\"],[0.7777777777777778,\"#fb9f3a\"],[0.8888888888888888,\"#fdca26\"],[1.0,\"#f0f921\"]]}],\"choropleth\":[{\"type\":\"choropleth\",\"colorbar\":{\"outlinewidth\":0,\"ticks\":\"\"}}],\"histogram2d\":[{\"type\":\"histogram2d\",\"colorbar\":{\"outlinewidth\":0,\"ticks\":\"\"},\"colorscale\":[[0.0,\"#0d0887\"],[0.1111111111111111,\"#46039f\"],[0.2222222222222222,\"#7201a8\"],[0.3333333333333333,\"#9c179e\"],[0.4444444444444444,\"#bd3786\"],[0.5555555555555556,\"#d8576b\"],[0.6666666666666666,\"#ed7953\"],[0.7777777777777778,\"#fb9f3a\"],[0.8888888888888888,\"#fdca26\"],[1.0,\"#f0f921\"]]}],\"heatmap\":[{\"type\":\"heatmap\",\"colorbar\":{\"outlinewidth\":0,\"ticks\":\"\"},\"colorscale\":[[0.0,\"#0d0887\"],[0.1111111111111111,\"#46039f\"],[0.2222222222222222,\"#7201a8\"],[0.3333333333333333,\"#9c179e\"],[0.4444444444444444,\"#bd3786\"],[0.5555555555555556,\"#d8576b\"],[0.6666666666666666,\"#ed7953\"],[0.7777777777777778,\"#fb9f3a\"],[0.8888888888888888,\"#fdca26\"],[1.0,\"#f0f921\"]]}],\"heatmapgl\":[{\"type\":\"heatmapgl\",\"colorbar\":{\"outlinewidth\":0,\"ticks\":\"\"},\"colorscale\":[[0.0,\"#0d0887\"],[0.1111111111111111,\"#46039f\"],[0.2222222222222222,\"#7201a8\"],[0.3333333333333333,\"#9c179e\"],[0.4444444444444444,\"#bd3786\"],[0.5555555555555556,\"#d8576b\"],[0.6666666666666666,\"#ed7953\"],[0.7777777777777778,\"#fb9f3a\"],[0.8888888888888888,\"#fdca26\"],[1.0,\"#f0f921\"]]}],\"contourcarpet\":[{\"type\":\"contourcarpet\",\"colorbar\":{\"outlinewidth\":0,\"ticks\":\"\"}}],\"contour\":[{\"type\":\"contour\",\"colorbar\":{\"outlinewidth\":0,\"ticks\":\"\"},\"colorscale\":[[0.0,\"#0d0887\"],[0.1111111111111111,\"#46039f\"],[0.2222222222222222,\"#7201a8\"],[0.3333333333333333,\"#9c179e\"],[0.4444444444444444,\"#bd3786\"],[0.5555555555555556,\"#d8576b\"],[0.6666666666666666,\"#ed7953\"],[0.7777777777777778,\"#fb9f3a\"],[0.8888888888888888,\"#fdca26\"],[1.0,\"#f0f921\"]]}],\"surface\":[{\"type\":\"surface\",\"colorbar\":{\"outlinewidth\":0,\"ticks\":\"\"},\"colorscale\":[[0.0,\"#0d0887\"],[0.1111111111111111,\"#46039f\"],[0.2222222222222222,\"#7201a8\"],[0.3333333333333333,\"#9c179e\"],[0.4444444444444444,\"#bd3786\"],[0.5555555555555556,\"#d8576b\"],[0.6666666666666666,\"#ed7953\"],[0.7777777777777778,\"#fb9f3a\"],[0.8888888888888888,\"#fdca26\"],[1.0,\"#f0f921\"]]}],\"mesh3d\":[{\"type\":\"mesh3d\",\"colorbar\":{\"outlinewidth\":0,\"ticks\":\"\"}}],\"scatter\":[{\"fillpattern\":{\"fillmode\":\"overlay\",\"size\":10,\"solidity\":0.2},\"type\":\"scatter\"}],\"parcoords\":[{\"type\":\"parcoords\",\"line\":{\"colorbar\":{\"outlinewidth\":0,\"ticks\":\"\"}}}],\"scatterpolargl\":[{\"type\":\"scatterpolargl\",\"marker\":{\"colorbar\":{\"outlinewidth\":0,\"ticks\":\"\"}}}],\"bar\":[{\"error_x\":{\"color\":\"#2a3f5f\"},\"error_y\":{\"color\":\"#2a3f5f\"},\"marker\":{\"line\":{\"color\":\"#E5ECF6\",\"width\":0.5},\"pattern\":{\"fillmode\":\"overlay\",\"size\":10,\"solidity\":0.2}},\"type\":\"bar\"}],\"scattergeo\":[{\"type\":\"scattergeo\",\"marker\":{\"colorbar\":{\"outlinewidth\":0,\"ticks\":\"\"}}}],\"scatterpolar\":[{\"type\":\"scatterpolar\",\"marker\":{\"colorbar\":{\"outlinewidth\":0,\"ticks\":\"\"}}}],\"histogram\":[{\"marker\":{\"pattern\":{\"fillmode\":\"overlay\",\"size\":10,\"solidity\":0.2}},\"type\":\"histogram\"}],\"scattergl\":[{\"type\":\"scattergl\",\"marker\":{\"colorbar\":{\"outlinewidth\":0,\"ticks\":\"\"}}}],\"scatter3d\":[{\"type\":\"scatter3d\",\"line\":{\"colorbar\":{\"outlinewidth\":0,\"ticks\":\"\"}},\"marker\":{\"colorbar\":{\"outlinewidth\":0,\"ticks\":\"\"}}}],\"scattermapbox\":[{\"type\":\"scattermapbox\",\"marker\":{\"colorbar\":{\"outlinewidth\":0,\"ticks\":\"\"}}}],\"scatterternary\":[{\"type\":\"scatterternary\",\"marker\":{\"colorbar\":{\"outlinewidth\":0,\"ticks\":\"\"}}}],\"scattercarpet\":[{\"type\":\"scattercarpet\",\"marker\":{\"colorbar\":{\"outlinewidth\":0,\"ticks\":\"\"}}}],\"carpet\":[{\"aaxis\":{\"endlinecolor\":\"#2a3f5f\",\"gridcolor\":\"white\",\"linecolor\":\"white\",\"minorgridcolor\":\"white\",\"startlinecolor\":\"#2a3f5f\"},\"baxis\":{\"endlinecolor\":\"#2a3f5f\",\"gridcolor\":\"white\",\"linecolor\":\"white\",\"minorgridcolor\":\"white\",\"startlinecolor\":\"#2a3f5f\"},\"type\":\"carpet\"}],\"table\":[{\"cells\":{\"fill\":{\"color\":\"#EBF0F8\"},\"line\":{\"color\":\"white\"}},\"header\":{\"fill\":{\"color\":\"#C8D4E3\"},\"line\":{\"color\":\"white\"}},\"type\":\"table\"}],\"barpolar\":[{\"marker\":{\"line\":{\"color\":\"#E5ECF6\",\"width\":0.5},\"pattern\":{\"fillmode\":\"overlay\",\"size\":10,\"solidity\":0.2}},\"type\":\"barpolar\"}],\"pie\":[{\"automargin\":true,\"type\":\"pie\"}]},\"layout\":{\"autotypenumbers\":\"strict\",\"colorway\":[\"#636efa\",\"#EF553B\",\"#00cc96\",\"#ab63fa\",\"#FFA15A\",\"#19d3f3\",\"#FF6692\",\"#B6E880\",\"#FF97FF\",\"#FECB52\"],\"font\":{\"color\":\"#2a3f5f\"},\"hovermode\":\"closest\",\"hoverlabel\":{\"align\":\"left\"},\"paper_bgcolor\":\"white\",\"plot_bgcolor\":\"#E5ECF6\",\"polar\":{\"bgcolor\":\"#E5ECF6\",\"angularaxis\":{\"gridcolor\":\"white\",\"linecolor\":\"white\",\"ticks\":\"\"},\"radialaxis\":{\"gridcolor\":\"white\",\"linecolor\":\"white\",\"ticks\":\"\"}},\"ternary\":{\"bgcolor\":\"#E5ECF6\",\"aaxis\":{\"gridcolor\":\"white\",\"linecolor\":\"white\",\"ticks\":\"\"},\"baxis\":{\"gridcolor\":\"white\",\"linecolor\":\"white\",\"ticks\":\"\"},\"caxis\":{\"gridcolor\":\"white\",\"linecolor\":\"white\",\"ticks\":\"\"}},\"coloraxis\":{\"colorbar\":{\"outlinewidth\":0,\"ticks\":\"\"}},\"colorscale\":{\"sequential\":[[0.0,\"#0d0887\"],[0.1111111111111111,\"#46039f\"],[0.2222222222222222,\"#7201a8\"],[0.3333333333333333,\"#9c179e\"],[0.4444444444444444,\"#bd3786\"],[0.5555555555555556,\"#d8576b\"],[0.6666666666666666,\"#ed7953\"],[0.7777777777777778,\"#fb9f3a\"],[0.8888888888888888,\"#fdca26\"],[1.0,\"#f0f921\"]],\"sequentialminus\":[[0.0,\"#0d0887\"],[0.1111111111111111,\"#46039f\"],[0.2222222222222222,\"#7201a8\"],[0.3333333333333333,\"#9c179e\"],[0.4444444444444444,\"#bd3786\"],[0.5555555555555556,\"#d8576b\"],[0.6666666666666666,\"#ed7953\"],[0.7777777777777778,\"#fb9f3a\"],[0.8888888888888888,\"#fdca26\"],[1.0,\"#f0f921\"]],\"diverging\":[[0,\"#8e0152\"],[0.1,\"#c51b7d\"],[0.2,\"#de77ae\"],[0.3,\"#f1b6da\"],[0.4,\"#fde0ef\"],[0.5,\"#f7f7f7\"],[0.6,\"#e6f5d0\"],[0.7,\"#b8e186\"],[0.8,\"#7fbc41\"],[0.9,\"#4d9221\"],[1,\"#276419\"]]},\"xaxis\":{\"gridcolor\":\"white\",\"linecolor\":\"white\",\"ticks\":\"\",\"title\":{\"standoff\":15},\"zerolinecolor\":\"white\",\"automargin\":true,\"zerolinewidth\":2},\"yaxis\":{\"gridcolor\":\"white\",\"linecolor\":\"white\",\"ticks\":\"\",\"title\":{\"standoff\":15},\"zerolinecolor\":\"white\",\"automargin\":true,\"zerolinewidth\":2},\"scene\":{\"xaxis\":{\"backgroundcolor\":\"#E5ECF6\",\"gridcolor\":\"white\",\"linecolor\":\"white\",\"showbackground\":true,\"ticks\":\"\",\"zerolinecolor\":\"white\",\"gridwidth\":2},\"yaxis\":{\"backgroundcolor\":\"#E5ECF6\",\"gridcolor\":\"white\",\"linecolor\":\"white\",\"showbackground\":true,\"ticks\":\"\",\"zerolinecolor\":\"white\",\"gridwidth\":2},\"zaxis\":{\"backgroundcolor\":\"#E5ECF6\",\"gridcolor\":\"white\",\"linecolor\":\"white\",\"showbackground\":true,\"ticks\":\"\",\"zerolinecolor\":\"white\",\"gridwidth\":2}},\"shapedefaults\":{\"line\":{\"color\":\"#2a3f5f\"}},\"annotationdefaults\":{\"arrowcolor\":\"#2a3f5f\",\"arrowhead\":0,\"arrowwidth\":1},\"geo\":{\"bgcolor\":\"white\",\"landcolor\":\"#E5ECF6\",\"subunitcolor\":\"white\",\"showland\":true,\"showlakes\":true,\"lakecolor\":\"white\"},\"title\":{\"x\":0.05},\"mapbox\":{\"style\":\"light\"}}}},                        {\"responsive\": true}                    ).then(function(){\n",
              "                            \n",
              "var gd = document.getElementById('721faf76-4ccd-4cbe-8a5b-5ea712b1f470');\n",
              "var x = new MutationObserver(function (mutations, observer) {{\n",
              "        var display = window.getComputedStyle(gd).display;\n",
              "        if (!display || display === 'none') {{\n",
              "            console.log([gd, 'removed!']);\n",
              "            Plotly.purge(gd);\n",
              "            observer.disconnect();\n",
              "        }}\n",
              "}});\n",
              "\n",
              "// Listen for the removal of the full notebook cells\n",
              "var notebookContainer = gd.closest('#notebook-container');\n",
              "if (notebookContainer) {{\n",
              "    x.observe(notebookContainer, {childList: true});\n",
              "}}\n",
              "\n",
              "// Listen for the clearing of the current output cell\n",
              "var outputEl = gd.closest('.output');\n",
              "if (outputEl) {{\n",
              "    x.observe(outputEl, {childList: true});\n",
              "}}\n",
              "\n",
              "                        })                };                            </script>        </div>\n",
              "</body>\n",
              "</html>"
            ]
          },
          "metadata": {}
        }
      ],
      "source": [
        "from optuna.visualization import plot_parallel_coordinate\n",
        "plot_parallel_coordinate(study)"
      ],
      "id": "N8wcJn3lGga-"
    },
    {
      "cell_type": "code",
      "execution_count": null,
      "metadata": {
        "id": "mvg49c3VGgxP",
        "colab": {
          "base_uri": "https://localhost:8080/",
          "height": 562
        },
        "outputId": "a4a116ed-e787-4129-dafa-7fc4e543ccdc"
      },
      "outputs": [
        {
          "output_type": "display_data",
          "data": {
            "text/html": [
              "<html>\n",
              "<head><meta charset=\"utf-8\" /></head>\n",
              "<body>\n",
              "    <div>            <script src=\"https://cdnjs.cloudflare.com/ajax/libs/mathjax/2.7.5/MathJax.js?config=TeX-AMS-MML_SVG\"></script><script type=\"text/javascript\">if (window.MathJax && window.MathJax.Hub && window.MathJax.Hub.Config) {window.MathJax.Hub.Config({SVG: {font: \"STIX-Web\"}});}</script>                <script type=\"text/javascript\">window.PlotlyConfig = {MathJaxConfig: 'local'};</script>\n",
              "        <script src=\"https://cdn.plot.ly/plotly-2.18.2.min.js\"></script>                <div id=\"48984a54-2823-4797-90d3-b441ad6dc5e7\" class=\"plotly-graph-div\" style=\"height:525px; width:100%;\"></div>            <script type=\"text/javascript\">                                    window.PLOTLYENV=window.PLOTLYENV || {};                                    if (document.getElementById(\"48984a54-2823-4797-90d3-b441ad6dc5e7\")) {                    Plotly.newPlot(                        \"48984a54-2823-4797-90d3-b441ad6dc5e7\",                        [{\"cliponaxis\":false,\"hovertemplate\":[\"xgbc__max_depth (IntDistribution): 0.1651176350331254<extra></extra>\",\"xgbc__learning_rate (FloatDistribution): 0.8348823649668746<extra></extra>\"],\"marker\":{\"color\":\"rgb(66,146,198)\"},\"orientation\":\"h\",\"text\":[\"0.17\",\"0.83\"],\"textposition\":\"outside\",\"x\":[0.1651176350331254,0.8348823649668746],\"y\":[\"xgbc__max_depth\",\"xgbc__learning_rate\"],\"type\":\"bar\"}],                        {\"showlegend\":false,\"title\":{\"text\":\"Hyperparameter Importances\"},\"xaxis\":{\"title\":{\"text\":\"Importance for Objective Value\"}},\"yaxis\":{\"title\":{\"text\":\"Hyperparameter\"}},\"template\":{\"data\":{\"histogram2dcontour\":[{\"type\":\"histogram2dcontour\",\"colorbar\":{\"outlinewidth\":0,\"ticks\":\"\"},\"colorscale\":[[0.0,\"#0d0887\"],[0.1111111111111111,\"#46039f\"],[0.2222222222222222,\"#7201a8\"],[0.3333333333333333,\"#9c179e\"],[0.4444444444444444,\"#bd3786\"],[0.5555555555555556,\"#d8576b\"],[0.6666666666666666,\"#ed7953\"],[0.7777777777777778,\"#fb9f3a\"],[0.8888888888888888,\"#fdca26\"],[1.0,\"#f0f921\"]]}],\"choropleth\":[{\"type\":\"choropleth\",\"colorbar\":{\"outlinewidth\":0,\"ticks\":\"\"}}],\"histogram2d\":[{\"type\":\"histogram2d\",\"colorbar\":{\"outlinewidth\":0,\"ticks\":\"\"},\"colorscale\":[[0.0,\"#0d0887\"],[0.1111111111111111,\"#46039f\"],[0.2222222222222222,\"#7201a8\"],[0.3333333333333333,\"#9c179e\"],[0.4444444444444444,\"#bd3786\"],[0.5555555555555556,\"#d8576b\"],[0.6666666666666666,\"#ed7953\"],[0.7777777777777778,\"#fb9f3a\"],[0.8888888888888888,\"#fdca26\"],[1.0,\"#f0f921\"]]}],\"heatmap\":[{\"type\":\"heatmap\",\"colorbar\":{\"outlinewidth\":0,\"ticks\":\"\"},\"colorscale\":[[0.0,\"#0d0887\"],[0.1111111111111111,\"#46039f\"],[0.2222222222222222,\"#7201a8\"],[0.3333333333333333,\"#9c179e\"],[0.4444444444444444,\"#bd3786\"],[0.5555555555555556,\"#d8576b\"],[0.6666666666666666,\"#ed7953\"],[0.7777777777777778,\"#fb9f3a\"],[0.8888888888888888,\"#fdca26\"],[1.0,\"#f0f921\"]]}],\"heatmapgl\":[{\"type\":\"heatmapgl\",\"colorbar\":{\"outlinewidth\":0,\"ticks\":\"\"},\"colorscale\":[[0.0,\"#0d0887\"],[0.1111111111111111,\"#46039f\"],[0.2222222222222222,\"#7201a8\"],[0.3333333333333333,\"#9c179e\"],[0.4444444444444444,\"#bd3786\"],[0.5555555555555556,\"#d8576b\"],[0.6666666666666666,\"#ed7953\"],[0.7777777777777778,\"#fb9f3a\"],[0.8888888888888888,\"#fdca26\"],[1.0,\"#f0f921\"]]}],\"contourcarpet\":[{\"type\":\"contourcarpet\",\"colorbar\":{\"outlinewidth\":0,\"ticks\":\"\"}}],\"contour\":[{\"type\":\"contour\",\"colorbar\":{\"outlinewidth\":0,\"ticks\":\"\"},\"colorscale\":[[0.0,\"#0d0887\"],[0.1111111111111111,\"#46039f\"],[0.2222222222222222,\"#7201a8\"],[0.3333333333333333,\"#9c179e\"],[0.4444444444444444,\"#bd3786\"],[0.5555555555555556,\"#d8576b\"],[0.6666666666666666,\"#ed7953\"],[0.7777777777777778,\"#fb9f3a\"],[0.8888888888888888,\"#fdca26\"],[1.0,\"#f0f921\"]]}],\"surface\":[{\"type\":\"surface\",\"colorbar\":{\"outlinewidth\":0,\"ticks\":\"\"},\"colorscale\":[[0.0,\"#0d0887\"],[0.1111111111111111,\"#46039f\"],[0.2222222222222222,\"#7201a8\"],[0.3333333333333333,\"#9c179e\"],[0.4444444444444444,\"#bd3786\"],[0.5555555555555556,\"#d8576b\"],[0.6666666666666666,\"#ed7953\"],[0.7777777777777778,\"#fb9f3a\"],[0.8888888888888888,\"#fdca26\"],[1.0,\"#f0f921\"]]}],\"mesh3d\":[{\"type\":\"mesh3d\",\"colorbar\":{\"outlinewidth\":0,\"ticks\":\"\"}}],\"scatter\":[{\"fillpattern\":{\"fillmode\":\"overlay\",\"size\":10,\"solidity\":0.2},\"type\":\"scatter\"}],\"parcoords\":[{\"type\":\"parcoords\",\"line\":{\"colorbar\":{\"outlinewidth\":0,\"ticks\":\"\"}}}],\"scatterpolargl\":[{\"type\":\"scatterpolargl\",\"marker\":{\"colorbar\":{\"outlinewidth\":0,\"ticks\":\"\"}}}],\"bar\":[{\"error_x\":{\"color\":\"#2a3f5f\"},\"error_y\":{\"color\":\"#2a3f5f\"},\"marker\":{\"line\":{\"color\":\"#E5ECF6\",\"width\":0.5},\"pattern\":{\"fillmode\":\"overlay\",\"size\":10,\"solidity\":0.2}},\"type\":\"bar\"}],\"scattergeo\":[{\"type\":\"scattergeo\",\"marker\":{\"colorbar\":{\"outlinewidth\":0,\"ticks\":\"\"}}}],\"scatterpolar\":[{\"type\":\"scatterpolar\",\"marker\":{\"colorbar\":{\"outlinewidth\":0,\"ticks\":\"\"}}}],\"histogram\":[{\"marker\":{\"pattern\":{\"fillmode\":\"overlay\",\"size\":10,\"solidity\":0.2}},\"type\":\"histogram\"}],\"scattergl\":[{\"type\":\"scattergl\",\"marker\":{\"colorbar\":{\"outlinewidth\":0,\"ticks\":\"\"}}}],\"scatter3d\":[{\"type\":\"scatter3d\",\"line\":{\"colorbar\":{\"outlinewidth\":0,\"ticks\":\"\"}},\"marker\":{\"colorbar\":{\"outlinewidth\":0,\"ticks\":\"\"}}}],\"scattermapbox\":[{\"type\":\"scattermapbox\",\"marker\":{\"colorbar\":{\"outlinewidth\":0,\"ticks\":\"\"}}}],\"scatterternary\":[{\"type\":\"scatterternary\",\"marker\":{\"colorbar\":{\"outlinewidth\":0,\"ticks\":\"\"}}}],\"scattercarpet\":[{\"type\":\"scattercarpet\",\"marker\":{\"colorbar\":{\"outlinewidth\":0,\"ticks\":\"\"}}}],\"carpet\":[{\"aaxis\":{\"endlinecolor\":\"#2a3f5f\",\"gridcolor\":\"white\",\"linecolor\":\"white\",\"minorgridcolor\":\"white\",\"startlinecolor\":\"#2a3f5f\"},\"baxis\":{\"endlinecolor\":\"#2a3f5f\",\"gridcolor\":\"white\",\"linecolor\":\"white\",\"minorgridcolor\":\"white\",\"startlinecolor\":\"#2a3f5f\"},\"type\":\"carpet\"}],\"table\":[{\"cells\":{\"fill\":{\"color\":\"#EBF0F8\"},\"line\":{\"color\":\"white\"}},\"header\":{\"fill\":{\"color\":\"#C8D4E3\"},\"line\":{\"color\":\"white\"}},\"type\":\"table\"}],\"barpolar\":[{\"marker\":{\"line\":{\"color\":\"#E5ECF6\",\"width\":0.5},\"pattern\":{\"fillmode\":\"overlay\",\"size\":10,\"solidity\":0.2}},\"type\":\"barpolar\"}],\"pie\":[{\"automargin\":true,\"type\":\"pie\"}]},\"layout\":{\"autotypenumbers\":\"strict\",\"colorway\":[\"#636efa\",\"#EF553B\",\"#00cc96\",\"#ab63fa\",\"#FFA15A\",\"#19d3f3\",\"#FF6692\",\"#B6E880\",\"#FF97FF\",\"#FECB52\"],\"font\":{\"color\":\"#2a3f5f\"},\"hovermode\":\"closest\",\"hoverlabel\":{\"align\":\"left\"},\"paper_bgcolor\":\"white\",\"plot_bgcolor\":\"#E5ECF6\",\"polar\":{\"bgcolor\":\"#E5ECF6\",\"angularaxis\":{\"gridcolor\":\"white\",\"linecolor\":\"white\",\"ticks\":\"\"},\"radialaxis\":{\"gridcolor\":\"white\",\"linecolor\":\"white\",\"ticks\":\"\"}},\"ternary\":{\"bgcolor\":\"#E5ECF6\",\"aaxis\":{\"gridcolor\":\"white\",\"linecolor\":\"white\",\"ticks\":\"\"},\"baxis\":{\"gridcolor\":\"white\",\"linecolor\":\"white\",\"ticks\":\"\"},\"caxis\":{\"gridcolor\":\"white\",\"linecolor\":\"white\",\"ticks\":\"\"}},\"coloraxis\":{\"colorbar\":{\"outlinewidth\":0,\"ticks\":\"\"}},\"colorscale\":{\"sequential\":[[0.0,\"#0d0887\"],[0.1111111111111111,\"#46039f\"],[0.2222222222222222,\"#7201a8\"],[0.3333333333333333,\"#9c179e\"],[0.4444444444444444,\"#bd3786\"],[0.5555555555555556,\"#d8576b\"],[0.6666666666666666,\"#ed7953\"],[0.7777777777777778,\"#fb9f3a\"],[0.8888888888888888,\"#fdca26\"],[1.0,\"#f0f921\"]],\"sequentialminus\":[[0.0,\"#0d0887\"],[0.1111111111111111,\"#46039f\"],[0.2222222222222222,\"#7201a8\"],[0.3333333333333333,\"#9c179e\"],[0.4444444444444444,\"#bd3786\"],[0.5555555555555556,\"#d8576b\"],[0.6666666666666666,\"#ed7953\"],[0.7777777777777778,\"#fb9f3a\"],[0.8888888888888888,\"#fdca26\"],[1.0,\"#f0f921\"]],\"diverging\":[[0,\"#8e0152\"],[0.1,\"#c51b7d\"],[0.2,\"#de77ae\"],[0.3,\"#f1b6da\"],[0.4,\"#fde0ef\"],[0.5,\"#f7f7f7\"],[0.6,\"#e6f5d0\"],[0.7,\"#b8e186\"],[0.8,\"#7fbc41\"],[0.9,\"#4d9221\"],[1,\"#276419\"]]},\"xaxis\":{\"gridcolor\":\"white\",\"linecolor\":\"white\",\"ticks\":\"\",\"title\":{\"standoff\":15},\"zerolinecolor\":\"white\",\"automargin\":true,\"zerolinewidth\":2},\"yaxis\":{\"gridcolor\":\"white\",\"linecolor\":\"white\",\"ticks\":\"\",\"title\":{\"standoff\":15},\"zerolinecolor\":\"white\",\"automargin\":true,\"zerolinewidth\":2},\"scene\":{\"xaxis\":{\"backgroundcolor\":\"#E5ECF6\",\"gridcolor\":\"white\",\"linecolor\":\"white\",\"showbackground\":true,\"ticks\":\"\",\"zerolinecolor\":\"white\",\"gridwidth\":2},\"yaxis\":{\"backgroundcolor\":\"#E5ECF6\",\"gridcolor\":\"white\",\"linecolor\":\"white\",\"showbackground\":true,\"ticks\":\"\",\"zerolinecolor\":\"white\",\"gridwidth\":2},\"zaxis\":{\"backgroundcolor\":\"#E5ECF6\",\"gridcolor\":\"white\",\"linecolor\":\"white\",\"showbackground\":true,\"ticks\":\"\",\"zerolinecolor\":\"white\",\"gridwidth\":2}},\"shapedefaults\":{\"line\":{\"color\":\"#2a3f5f\"}},\"annotationdefaults\":{\"arrowcolor\":\"#2a3f5f\",\"arrowhead\":0,\"arrowwidth\":1},\"geo\":{\"bgcolor\":\"white\",\"landcolor\":\"#E5ECF6\",\"subunitcolor\":\"white\",\"showland\":true,\"showlakes\":true,\"lakecolor\":\"white\"},\"title\":{\"x\":0.05},\"mapbox\":{\"style\":\"light\"}}}},                        {\"responsive\": true}                    ).then(function(){\n",
              "                            \n",
              "var gd = document.getElementById('48984a54-2823-4797-90d3-b441ad6dc5e7');\n",
              "var x = new MutationObserver(function (mutations, observer) {{\n",
              "        var display = window.getComputedStyle(gd).display;\n",
              "        if (!display || display === 'none') {{\n",
              "            console.log([gd, 'removed!']);\n",
              "            Plotly.purge(gd);\n",
              "            observer.disconnect();\n",
              "        }}\n",
              "}});\n",
              "\n",
              "// Listen for the removal of the full notebook cells\n",
              "var notebookContainer = gd.closest('#notebook-container');\n",
              "if (notebookContainer) {{\n",
              "    x.observe(notebookContainer, {childList: true});\n",
              "}}\n",
              "\n",
              "// Listen for the clearing of the current output cell\n",
              "var outputEl = gd.closest('.output');\n",
              "if (outputEl) {{\n",
              "    x.observe(outputEl, {childList: true});\n",
              "}}\n",
              "\n",
              "                        })                };                            </script>        </div>\n",
              "</body>\n",
              "</html>"
            ]
          },
          "metadata": {}
        }
      ],
      "source": [
        "from optuna.visualization import plot_param_importances\n",
        "plot_param_importances(study)"
      ],
      "id": "mvg49c3VGgxP"
    },
    {
      "cell_type": "markdown",
      "metadata": {
        "id": "crtH6uqtfHiI"
      },
      "source": [
        "#### n_estimators as an hyperparameter"
      ],
      "id": "crtH6uqtfHiI"
    },
    {
      "cell_type": "code",
      "execution_count": null,
      "metadata": {
        "colab": {
          "base_uri": "https://localhost:8080/"
        },
        "id": "bA6ANf1RDP8e",
        "outputId": "a80e65b9-085a-4b3d-a0bb-edd238a2e212"
      },
      "outputs": [
        {
          "output_type": "stream",
          "name": "stderr",
          "text": [
            "\u001b[32m[I 2023-04-21 10:02:18,287]\u001b[0m A new study created in memory with name: no-name-b14bed12-3cf7-40d6-8d0a-a3bba6dc8c48\u001b[0m\n",
            "\u001b[32m[I 2023-04-21 10:05:00,017]\u001b[0m Trial 0 finished with value: 0.9907616645572354 and parameters: {'xgbc__max_depth': 26, 'xgbc__learning_rate': 0.49995075122512295, 'xgbc__n_estimators': 235}. Best is trial 0 with value: 0.9907616645572354.\u001b[0m\n",
            "\u001b[32m[I 2023-04-21 10:09:30,019]\u001b[0m Trial 1 finished with value: 0.9901696995615263 and parameters: {'xgbc__max_depth': 29, 'xgbc__learning_rate': 0.16835915049984723, 'xgbc__n_estimators': 174}. Best is trial 0 with value: 0.9907616645572354.\u001b[0m\n",
            "\u001b[32m[I 2023-04-21 10:14:56,847]\u001b[0m Trial 2 finished with value: 0.9904201208973228 and parameters: {'xgbc__max_depth': 27, 'xgbc__learning_rate': 0.13592501880514254, 'xgbc__n_estimators': 204}. Best is trial 0 with value: 0.9907616645572354.\u001b[0m\n",
            "\u001b[32m[I 2023-04-21 10:19:14,890]\u001b[0m Trial 3 finished with value: 0.9904275040020205 and parameters: {'xgbc__max_depth': 17, 'xgbc__learning_rate': 0.25152148330991553, 'xgbc__n_estimators': 296}. Best is trial 0 with value: 0.9907616645572354.\u001b[0m\n",
            "\u001b[32m[I 2023-04-21 10:23:27,290]\u001b[0m Trial 4 finished with value: 0.9909179109224476 and parameters: {'xgbc__max_depth': 7, 'xgbc__learning_rate': 0.3608219442035208, 'xgbc__n_estimators': 496}. Best is trial 4 with value: 0.9909179109224476.\u001b[0m\n",
            "\u001b[32m[I 2023-04-21 10:26:48,427]\u001b[0m Trial 5 finished with value: 0.9912456440862364 and parameters: {'xgbc__max_depth': 30, 'xgbc__learning_rate': 0.4993743312112262, 'xgbc__n_estimators': 441}. Best is trial 5 with value: 0.9912456440862364.\u001b[0m\n",
            "\u001b[32m[I 2023-04-21 10:30:18,407]\u001b[0m Trial 6 finished with value: 0.9899951953774523 and parameters: {'xgbc__max_depth': 15, 'xgbc__learning_rate': 0.1992616413606144, 'xgbc__n_estimators': 125}. Best is trial 5 with value: 0.9912456440862364.\u001b[0m\n",
            "\u001b[32m[I 2023-04-21 10:33:39,269]\u001b[0m Trial 7 finished with value: 0.9900213179191617 and parameters: {'xgbc__max_depth': 11, 'xgbc__learning_rate': 0.18257915566528612, 'xgbc__n_estimators': 105}. Best is trial 5 with value: 0.9912456440862364.\u001b[0m\n",
            "\u001b[32m[I 2023-04-21 10:37:34,698]\u001b[0m Trial 8 finished with value: 0.9907742781377512 and parameters: {'xgbc__max_depth': 8, 'xgbc__learning_rate': 0.3196027968330165, 'xgbc__n_estimators': 359}. Best is trial 5 with value: 0.9912456440862364.\u001b[0m\n",
            "\u001b[32m[I 2023-04-21 10:43:39,524]\u001b[0m Trial 9 finished with value: 0.9832292712298193 and parameters: {'xgbc__max_depth': 26, 'xgbc__learning_rate': 0.02710153041392066, 'xgbc__n_estimators': 90}. Best is trial 5 with value: 0.9912456440862364.\u001b[0m\n",
            "\u001b[32m[I 2023-04-21 10:47:15,887]\u001b[0m Trial 10 finished with value: 0.9912041923878475 and parameters: {'xgbc__max_depth': 20, 'xgbc__learning_rate': 0.4957248738221822, 'xgbc__n_estimators': 499}. Best is trial 5 with value: 0.9912456440862364.\u001b[0m\n",
            "\u001b[32m[I 2023-04-21 10:50:48,009]\u001b[0m Trial 11 finished with value: 0.9910608740710082 and parameters: {'xgbc__max_depth': 21, 'xgbc__learning_rate': 0.48870846969953663, 'xgbc__n_estimators': 473}. Best is trial 5 with value: 0.9912456440862364.\u001b[0m\n",
            "\u001b[32m[I 2023-04-21 10:54:23,631]\u001b[0m Trial 12 finished with value: 0.9904957231472507 and parameters: {'xgbc__max_depth': 21, 'xgbc__learning_rate': 0.4071960161443171, 'xgbc__n_estimators': 399}. Best is trial 5 with value: 0.9912456440862364.\u001b[0m\n",
            "\u001b[32m[I 2023-04-21 10:57:59,380]\u001b[0m Trial 13 finished with value: 0.9912725807088535 and parameters: {'xgbc__max_depth': 21, 'xgbc__learning_rate': 0.43151742395102, 'xgbc__n_estimators': 425}. Best is trial 13 with value: 0.9912725807088535.\u001b[0m\n",
            "\u001b[32m[I 2023-04-21 11:01:33,149]\u001b[0m Trial 14 finished with value: 0.9906181721972503 and parameters: {'xgbc__max_depth': 30, 'xgbc__learning_rate': 0.41915350151431796, 'xgbc__n_estimators': 400}. Best is trial 13 with value: 0.9912725807088535.\u001b[0m\n",
            "\u001b[32m[I 2023-04-21 11:04:57,870]\u001b[0m Trial 15 finished with value: 0.992893108194495 and parameters: {'xgbc__max_depth': 3, 'xgbc__learning_rate': 0.4316958257801275, 'xgbc__n_estimators': 325}. Best is trial 15 with value: 0.992893108194495.\u001b[0m\n",
            "\u001b[32m[I 2023-04-21 11:08:50,616]\u001b[0m Trial 16 finished with value: 0.9926618924134413 and parameters: {'xgbc__max_depth': 3, 'xgbc__learning_rate': 0.322427695891974, 'xgbc__n_estimators': 305}. Best is trial 15 with value: 0.992893108194495.\u001b[0m\n",
            "\u001b[32m[I 2023-04-21 11:12:45,112]\u001b[0m Trial 17 finished with value: 0.9925628231088742 and parameters: {'xgbc__max_depth': 3, 'xgbc__learning_rate': 0.3198297602512692, 'xgbc__n_estimators': 311}. Best is trial 15 with value: 0.992893108194495.\u001b[0m\n",
            "\u001b[32m[I 2023-04-21 11:16:30,609]\u001b[0m Trial 18 finished with value: 0.9915152396396939 and parameters: {'xgbc__max_depth': 4, 'xgbc__learning_rate': 0.3586149270306631, 'xgbc__n_estimators': 348}. Best is trial 15 with value: 0.992893108194495.\u001b[0m\n",
            "\u001b[32m[I 2023-04-21 11:20:09,146]\u001b[0m Trial 19 finished with value: 0.9907497233327205 and parameters: {'xgbc__max_depth': 11, 'xgbc__learning_rate': 0.2790911281102247, 'xgbc__n_estimators': 251}. Best is trial 15 with value: 0.992893108194495.\u001b[0m\n",
            "\u001b[32m[I 2023-04-21 11:23:33,812]\u001b[0m Trial 20 finished with value: 0.9915555093798973 and parameters: {'xgbc__max_depth': 6, 'xgbc__learning_rate': 0.3853993551685135, 'xgbc__n_estimators': 340}. Best is trial 15 with value: 0.992893108194495.\u001b[0m\n",
            "\u001b[32m[I 2023-04-21 11:27:25,787]\u001b[0m Trial 21 finished with value: 0.9926216086309769 and parameters: {'xgbc__max_depth': 3, 'xgbc__learning_rate': 0.3233305456549134, 'xgbc__n_estimators': 302}. Best is trial 15 with value: 0.992893108194495.\u001b[0m\n",
            "\u001b[32m[I 2023-04-21 11:30:19,689]\u001b[0m Trial 22 finished with value: 0.9907426927129532 and parameters: {'xgbc__max_depth': 10, 'xgbc__learning_rate': 0.43882129306364437, 'xgbc__n_estimators': 273}. Best is trial 15 with value: 0.992893108194495.\u001b[0m\n",
            "\u001b[32m[I 2023-04-21 11:34:20,203]\u001b[0m Trial 23 finished with value: 0.9927623846274987 and parameters: {'xgbc__max_depth': 3, 'xgbc__learning_rate': 0.32276528130990745, 'xgbc__n_estimators': 324}. Best is trial 15 with value: 0.992893108194495.\u001b[0m\n",
            "\u001b[32m[I 2023-04-21 11:38:06,596]\u001b[0m Trial 24 finished with value: 0.9916621374961753 and parameters: {'xgbc__max_depth': 5, 'xgbc__learning_rate': 0.36078403605390635, 'xgbc__n_estimators': 380}. Best is trial 15 with value: 0.992893108194495.\u001b[0m\n",
            "\u001b[32m[I 2023-04-21 11:42:12,118]\u001b[0m Trial 25 finished with value: 0.9906248104029675 and parameters: {'xgbc__max_depth': 9, 'xgbc__learning_rate': 0.2769392681167764, 'xgbc__n_estimators': 325}. Best is trial 15 with value: 0.992893108194495.\u001b[0m\n",
            "\u001b[32m[I 2023-04-21 11:45:06,222]\u001b[0m Trial 26 finished with value: 0.9902133530519178 and parameters: {'xgbc__max_depth': 13, 'xgbc__learning_rate': 0.43539386558227755, 'xgbc__n_estimators': 266}. Best is trial 15 with value: 0.992893108194495.\u001b[0m\n",
            "\u001b[32m[I 2023-04-21 11:48:10,758]\u001b[0m Trial 27 finished with value: 0.9916547403492167 and parameters: {'xgbc__max_depth': 6, 'xgbc__learning_rate': 0.33590640497931357, 'xgbc__n_estimators': 224}. Best is trial 15 with value: 0.992893108194495.\u001b[0m\n",
            "\u001b[32m[I 2023-04-21 11:50:54,883]\u001b[0m Trial 28 finished with value: 0.9925440600412405 and parameters: {'xgbc__max_depth': 3, 'xgbc__learning_rate': 0.3834982079828735, 'xgbc__n_estimators': 180}. Best is trial 15 with value: 0.992893108194495.\u001b[0m\n",
            "\u001b[32m[I 2023-04-21 11:53:33,007]\u001b[0m Trial 29 finished with value: 0.9906577198759553 and parameters: {'xgbc__max_depth': 8, 'xgbc__learning_rate': 0.4588919082588626, 'xgbc__n_estimators': 236}. Best is trial 15 with value: 0.992893108194495.\u001b[0m\n"
          ]
        },
        {
          "output_type": "stream",
          "name": "stdout",
          "text": [
            "time 6674.723722696304\n"
          ]
        }
      ],
      "source": [
        "from pandas.core.common import random_state\n",
        "import optuna\n",
        "import time\n",
        "from sklearn import metrics\n",
        "from sklearn import tree\n",
        "from sklearn.model_selection import cross_val_score, KFold\n",
        "from sklearn.ensemble import ExtraTreesClassifier\n",
        "from sklearn.model_selection import StratifiedKFold\n",
        "inicio = time.time()\n",
        "rs=NIA\n",
        "np.random.seed(NIA)\n",
        "def objective(trial):\n",
        "    xgbc__max_depth = trial.suggest_int('xgbc__max_depth',3,30)\n",
        "    xgbc__learning_rate = trial.suggest_float(\"xgbc__learning_rate\",0.01,0.5)\n",
        "    xgbc__n_estimators= trial.suggest_int('xgbc__n_estimators', 50, 500)\n",
        "    classifier_obj = Pipeline([('xgbc',xgb.XGBClassifier(max_depth=xgbc__max_depth, learning_rate=xgbc__learning_rate,n_estimators=xgbc__n_estimators,random_state=rs))])\n",
        "\n",
        "\n",
        "    # Step 3: Scoring method:\n",
        "    score = cross_val_score(classifier_obj, X_train, y_train,scoring='balanced_accuracy', n_jobs=-1, cv=cv_inner)\n",
        "    accuracy = score.mean()\n",
        "    return accuracy\n",
        "\n",
        "# Step 4: Running it\n",
        "study = optuna.create_study(direction=\"maximize\")\n",
        "study.optimize(objective, n_trials=30)\n",
        "\n",
        "fin=time.time()\n",
        "print('time',fin-inicio)\n",
        "timeopt6=fin-inicio"
      ],
      "id": "bA6ANf1RDP8e"
    },
    {
      "cell_type": "code",
      "execution_count": null,
      "metadata": {
        "id": "0vPjpLV9c3JX",
        "colab": {
          "base_uri": "https://localhost:8080/",
          "height": 701
        },
        "outputId": "d3363505-6591-415f-f38b-dbc6006f0d8e"
      },
      "outputs": [
        {
          "output_type": "stream",
          "name": "stdout",
          "text": [
            "The best trial is : \n",
            "FrozenTrial(number=15, state=TrialState.COMPLETE, values=[0.992893108194495], datetime_start=datetime.datetime(2023, 4, 21, 11, 1, 33, 151734), datetime_complete=datetime.datetime(2023, 4, 21, 11, 4, 57, 869853), params={'xgbc__max_depth': 3, 'xgbc__learning_rate': 0.4316958257801275, 'xgbc__n_estimators': 325}, user_attrs={}, system_attrs={}, intermediate_values={}, distributions={'xgbc__max_depth': IntDistribution(high=30, log=False, low=3, step=1), 'xgbc__learning_rate': FloatDistribution(high=0.5, log=False, low=0.01, step=None), 'xgbc__n_estimators': IntDistribution(high=500, log=False, low=50, step=1)}, trial_id=15, value=None)\n",
            "The best value is : \n",
            "0.992893108194495\n",
            "The best parameters are : \n",
            "{'xgbc__max_depth': 3, 'xgbc__learning_rate': 0.4316958257801275, 'xgbc__n_estimators': 325}\n",
            "Precision: 0.992893108194495\n",
            "Best hyperparameters: {'xgbc__max_depth': 3, 'xgbc__learning_rate': 0.4316958257801275, 'xgbc__n_estimators': 325}\n"
          ]
        },
        {
          "output_type": "display_data",
          "data": {
            "text/html": [
              "<html>\n",
              "<head><meta charset=\"utf-8\" /></head>\n",
              "<body>\n",
              "    <div>            <script src=\"https://cdnjs.cloudflare.com/ajax/libs/mathjax/2.7.5/MathJax.js?config=TeX-AMS-MML_SVG\"></script><script type=\"text/javascript\">if (window.MathJax && window.MathJax.Hub && window.MathJax.Hub.Config) {window.MathJax.Hub.Config({SVG: {font: \"STIX-Web\"}});}</script>                <script type=\"text/javascript\">window.PlotlyConfig = {MathJaxConfig: 'local'};</script>\n",
              "        <script src=\"https://cdn.plot.ly/plotly-2.18.2.min.js\"></script>                <div id=\"31fd624b-2f36-4884-b389-a1b28aeb1c52\" class=\"plotly-graph-div\" style=\"height:525px; width:100%;\"></div>            <script type=\"text/javascript\">                                    window.PLOTLYENV=window.PLOTLYENV || {};                                    if (document.getElementById(\"31fd624b-2f36-4884-b389-a1b28aeb1c52\")) {                    Plotly.newPlot(                        \"31fd624b-2f36-4884-b389-a1b28aeb1c52\",                        [{\"mode\":\"markers\",\"name\":\"Objective Value\",\"x\":[0,1,2,3,4,5,6,7,8,9,10,11,12,13,14,15,16,17,18,19,20,21,22,23,24,25,26,27,28,29],\"y\":[0.9907616645572354,0.9901696995615263,0.9904201208973228,0.9904275040020205,0.9909179109224476,0.9912456440862364,0.9899951953774523,0.9900213179191617,0.9907742781377512,0.9832292712298193,0.9912041923878475,0.9910608740710082,0.9904957231472507,0.9912725807088535,0.9906181721972503,0.992893108194495,0.9926618924134413,0.9925628231088742,0.9915152396396939,0.9907497233327205,0.9915555093798973,0.9926216086309769,0.9907426927129532,0.9927623846274987,0.9916621374961753,0.9906248104029675,0.9902133530519178,0.9916547403492167,0.9925440600412405,0.9906577198759553],\"type\":\"scatter\"},{\"name\":\"Best Value\",\"x\":[0,1,2,3,4,5,6,7,8,9,10,11,12,13,14,15,16,17,18,19,20,21,22,23,24,25,26,27,28,29],\"y\":[0.9907616645572354,0.9907616645572354,0.9907616645572354,0.9907616645572354,0.9909179109224476,0.9912456440862364,0.9912456440862364,0.9912456440862364,0.9912456440862364,0.9912456440862364,0.9912456440862364,0.9912456440862364,0.9912456440862364,0.9912725807088535,0.9912725807088535,0.992893108194495,0.992893108194495,0.992893108194495,0.992893108194495,0.992893108194495,0.992893108194495,0.992893108194495,0.992893108194495,0.992893108194495,0.992893108194495,0.992893108194495,0.992893108194495,0.992893108194495,0.992893108194495,0.992893108194495],\"type\":\"scatter\"}],                        {\"title\":{\"text\":\"Optimization History Plot\"},\"xaxis\":{\"title\":{\"text\":\"Trial\"}},\"yaxis\":{\"title\":{\"text\":\"Objective Value\"}},\"template\":{\"data\":{\"histogram2dcontour\":[{\"type\":\"histogram2dcontour\",\"colorbar\":{\"outlinewidth\":0,\"ticks\":\"\"},\"colorscale\":[[0.0,\"#0d0887\"],[0.1111111111111111,\"#46039f\"],[0.2222222222222222,\"#7201a8\"],[0.3333333333333333,\"#9c179e\"],[0.4444444444444444,\"#bd3786\"],[0.5555555555555556,\"#d8576b\"],[0.6666666666666666,\"#ed7953\"],[0.7777777777777778,\"#fb9f3a\"],[0.8888888888888888,\"#fdca26\"],[1.0,\"#f0f921\"]]}],\"choropleth\":[{\"type\":\"choropleth\",\"colorbar\":{\"outlinewidth\":0,\"ticks\":\"\"}}],\"histogram2d\":[{\"type\":\"histogram2d\",\"colorbar\":{\"outlinewidth\":0,\"ticks\":\"\"},\"colorscale\":[[0.0,\"#0d0887\"],[0.1111111111111111,\"#46039f\"],[0.2222222222222222,\"#7201a8\"],[0.3333333333333333,\"#9c179e\"],[0.4444444444444444,\"#bd3786\"],[0.5555555555555556,\"#d8576b\"],[0.6666666666666666,\"#ed7953\"],[0.7777777777777778,\"#fb9f3a\"],[0.8888888888888888,\"#fdca26\"],[1.0,\"#f0f921\"]]}],\"heatmap\":[{\"type\":\"heatmap\",\"colorbar\":{\"outlinewidth\":0,\"ticks\":\"\"},\"colorscale\":[[0.0,\"#0d0887\"],[0.1111111111111111,\"#46039f\"],[0.2222222222222222,\"#7201a8\"],[0.3333333333333333,\"#9c179e\"],[0.4444444444444444,\"#bd3786\"],[0.5555555555555556,\"#d8576b\"],[0.6666666666666666,\"#ed7953\"],[0.7777777777777778,\"#fb9f3a\"],[0.8888888888888888,\"#fdca26\"],[1.0,\"#f0f921\"]]}],\"heatmapgl\":[{\"type\":\"heatmapgl\",\"colorbar\":{\"outlinewidth\":0,\"ticks\":\"\"},\"colorscale\":[[0.0,\"#0d0887\"],[0.1111111111111111,\"#46039f\"],[0.2222222222222222,\"#7201a8\"],[0.3333333333333333,\"#9c179e\"],[0.4444444444444444,\"#bd3786\"],[0.5555555555555556,\"#d8576b\"],[0.6666666666666666,\"#ed7953\"],[0.7777777777777778,\"#fb9f3a\"],[0.8888888888888888,\"#fdca26\"],[1.0,\"#f0f921\"]]}],\"contourcarpet\":[{\"type\":\"contourcarpet\",\"colorbar\":{\"outlinewidth\":0,\"ticks\":\"\"}}],\"contour\":[{\"type\":\"contour\",\"colorbar\":{\"outlinewidth\":0,\"ticks\":\"\"},\"colorscale\":[[0.0,\"#0d0887\"],[0.1111111111111111,\"#46039f\"],[0.2222222222222222,\"#7201a8\"],[0.3333333333333333,\"#9c179e\"],[0.4444444444444444,\"#bd3786\"],[0.5555555555555556,\"#d8576b\"],[0.6666666666666666,\"#ed7953\"],[0.7777777777777778,\"#fb9f3a\"],[0.8888888888888888,\"#fdca26\"],[1.0,\"#f0f921\"]]}],\"surface\":[{\"type\":\"surface\",\"colorbar\":{\"outlinewidth\":0,\"ticks\":\"\"},\"colorscale\":[[0.0,\"#0d0887\"],[0.1111111111111111,\"#46039f\"],[0.2222222222222222,\"#7201a8\"],[0.3333333333333333,\"#9c179e\"],[0.4444444444444444,\"#bd3786\"],[0.5555555555555556,\"#d8576b\"],[0.6666666666666666,\"#ed7953\"],[0.7777777777777778,\"#fb9f3a\"],[0.8888888888888888,\"#fdca26\"],[1.0,\"#f0f921\"]]}],\"mesh3d\":[{\"type\":\"mesh3d\",\"colorbar\":{\"outlinewidth\":0,\"ticks\":\"\"}}],\"scatter\":[{\"fillpattern\":{\"fillmode\":\"overlay\",\"size\":10,\"solidity\":0.2},\"type\":\"scatter\"}],\"parcoords\":[{\"type\":\"parcoords\",\"line\":{\"colorbar\":{\"outlinewidth\":0,\"ticks\":\"\"}}}],\"scatterpolargl\":[{\"type\":\"scatterpolargl\",\"marker\":{\"colorbar\":{\"outlinewidth\":0,\"ticks\":\"\"}}}],\"bar\":[{\"error_x\":{\"color\":\"#2a3f5f\"},\"error_y\":{\"color\":\"#2a3f5f\"},\"marker\":{\"line\":{\"color\":\"#E5ECF6\",\"width\":0.5},\"pattern\":{\"fillmode\":\"overlay\",\"size\":10,\"solidity\":0.2}},\"type\":\"bar\"}],\"scattergeo\":[{\"type\":\"scattergeo\",\"marker\":{\"colorbar\":{\"outlinewidth\":0,\"ticks\":\"\"}}}],\"scatterpolar\":[{\"type\":\"scatterpolar\",\"marker\":{\"colorbar\":{\"outlinewidth\":0,\"ticks\":\"\"}}}],\"histogram\":[{\"marker\":{\"pattern\":{\"fillmode\":\"overlay\",\"size\":10,\"solidity\":0.2}},\"type\":\"histogram\"}],\"scattergl\":[{\"type\":\"scattergl\",\"marker\":{\"colorbar\":{\"outlinewidth\":0,\"ticks\":\"\"}}}],\"scatter3d\":[{\"type\":\"scatter3d\",\"line\":{\"colorbar\":{\"outlinewidth\":0,\"ticks\":\"\"}},\"marker\":{\"colorbar\":{\"outlinewidth\":0,\"ticks\":\"\"}}}],\"scattermapbox\":[{\"type\":\"scattermapbox\",\"marker\":{\"colorbar\":{\"outlinewidth\":0,\"ticks\":\"\"}}}],\"scatterternary\":[{\"type\":\"scatterternary\",\"marker\":{\"colorbar\":{\"outlinewidth\":0,\"ticks\":\"\"}}}],\"scattercarpet\":[{\"type\":\"scattercarpet\",\"marker\":{\"colorbar\":{\"outlinewidth\":0,\"ticks\":\"\"}}}],\"carpet\":[{\"aaxis\":{\"endlinecolor\":\"#2a3f5f\",\"gridcolor\":\"white\",\"linecolor\":\"white\",\"minorgridcolor\":\"white\",\"startlinecolor\":\"#2a3f5f\"},\"baxis\":{\"endlinecolor\":\"#2a3f5f\",\"gridcolor\":\"white\",\"linecolor\":\"white\",\"minorgridcolor\":\"white\",\"startlinecolor\":\"#2a3f5f\"},\"type\":\"carpet\"}],\"table\":[{\"cells\":{\"fill\":{\"color\":\"#EBF0F8\"},\"line\":{\"color\":\"white\"}},\"header\":{\"fill\":{\"color\":\"#C8D4E3\"},\"line\":{\"color\":\"white\"}},\"type\":\"table\"}],\"barpolar\":[{\"marker\":{\"line\":{\"color\":\"#E5ECF6\",\"width\":0.5},\"pattern\":{\"fillmode\":\"overlay\",\"size\":10,\"solidity\":0.2}},\"type\":\"barpolar\"}],\"pie\":[{\"automargin\":true,\"type\":\"pie\"}]},\"layout\":{\"autotypenumbers\":\"strict\",\"colorway\":[\"#636efa\",\"#EF553B\",\"#00cc96\",\"#ab63fa\",\"#FFA15A\",\"#19d3f3\",\"#FF6692\",\"#B6E880\",\"#FF97FF\",\"#FECB52\"],\"font\":{\"color\":\"#2a3f5f\"},\"hovermode\":\"closest\",\"hoverlabel\":{\"align\":\"left\"},\"paper_bgcolor\":\"white\",\"plot_bgcolor\":\"#E5ECF6\",\"polar\":{\"bgcolor\":\"#E5ECF6\",\"angularaxis\":{\"gridcolor\":\"white\",\"linecolor\":\"white\",\"ticks\":\"\"},\"radialaxis\":{\"gridcolor\":\"white\",\"linecolor\":\"white\",\"ticks\":\"\"}},\"ternary\":{\"bgcolor\":\"#E5ECF6\",\"aaxis\":{\"gridcolor\":\"white\",\"linecolor\":\"white\",\"ticks\":\"\"},\"baxis\":{\"gridcolor\":\"white\",\"linecolor\":\"white\",\"ticks\":\"\"},\"caxis\":{\"gridcolor\":\"white\",\"linecolor\":\"white\",\"ticks\":\"\"}},\"coloraxis\":{\"colorbar\":{\"outlinewidth\":0,\"ticks\":\"\"}},\"colorscale\":{\"sequential\":[[0.0,\"#0d0887\"],[0.1111111111111111,\"#46039f\"],[0.2222222222222222,\"#7201a8\"],[0.3333333333333333,\"#9c179e\"],[0.4444444444444444,\"#bd3786\"],[0.5555555555555556,\"#d8576b\"],[0.6666666666666666,\"#ed7953\"],[0.7777777777777778,\"#fb9f3a\"],[0.8888888888888888,\"#fdca26\"],[1.0,\"#f0f921\"]],\"sequentialminus\":[[0.0,\"#0d0887\"],[0.1111111111111111,\"#46039f\"],[0.2222222222222222,\"#7201a8\"],[0.3333333333333333,\"#9c179e\"],[0.4444444444444444,\"#bd3786\"],[0.5555555555555556,\"#d8576b\"],[0.6666666666666666,\"#ed7953\"],[0.7777777777777778,\"#fb9f3a\"],[0.8888888888888888,\"#fdca26\"],[1.0,\"#f0f921\"]],\"diverging\":[[0,\"#8e0152\"],[0.1,\"#c51b7d\"],[0.2,\"#de77ae\"],[0.3,\"#f1b6da\"],[0.4,\"#fde0ef\"],[0.5,\"#f7f7f7\"],[0.6,\"#e6f5d0\"],[0.7,\"#b8e186\"],[0.8,\"#7fbc41\"],[0.9,\"#4d9221\"],[1,\"#276419\"]]},\"xaxis\":{\"gridcolor\":\"white\",\"linecolor\":\"white\",\"ticks\":\"\",\"title\":{\"standoff\":15},\"zerolinecolor\":\"white\",\"automargin\":true,\"zerolinewidth\":2},\"yaxis\":{\"gridcolor\":\"white\",\"linecolor\":\"white\",\"ticks\":\"\",\"title\":{\"standoff\":15},\"zerolinecolor\":\"white\",\"automargin\":true,\"zerolinewidth\":2},\"scene\":{\"xaxis\":{\"backgroundcolor\":\"#E5ECF6\",\"gridcolor\":\"white\",\"linecolor\":\"white\",\"showbackground\":true,\"ticks\":\"\",\"zerolinecolor\":\"white\",\"gridwidth\":2},\"yaxis\":{\"backgroundcolor\":\"#E5ECF6\",\"gridcolor\":\"white\",\"linecolor\":\"white\",\"showbackground\":true,\"ticks\":\"\",\"zerolinecolor\":\"white\",\"gridwidth\":2},\"zaxis\":{\"backgroundcolor\":\"#E5ECF6\",\"gridcolor\":\"white\",\"linecolor\":\"white\",\"showbackground\":true,\"ticks\":\"\",\"zerolinecolor\":\"white\",\"gridwidth\":2}},\"shapedefaults\":{\"line\":{\"color\":\"#2a3f5f\"}},\"annotationdefaults\":{\"arrowcolor\":\"#2a3f5f\",\"arrowhead\":0,\"arrowwidth\":1},\"geo\":{\"bgcolor\":\"white\",\"landcolor\":\"#E5ECF6\",\"subunitcolor\":\"white\",\"showland\":true,\"showlakes\":true,\"lakecolor\":\"white\"},\"title\":{\"x\":0.05},\"mapbox\":{\"style\":\"light\"}}}},                        {\"responsive\": true}                    ).then(function(){\n",
              "                            \n",
              "var gd = document.getElementById('31fd624b-2f36-4884-b389-a1b28aeb1c52');\n",
              "var x = new MutationObserver(function (mutations, observer) {{\n",
              "        var display = window.getComputedStyle(gd).display;\n",
              "        if (!display || display === 'none') {{\n",
              "            console.log([gd, 'removed!']);\n",
              "            Plotly.purge(gd);\n",
              "            observer.disconnect();\n",
              "        }}\n",
              "}});\n",
              "\n",
              "// Listen for the removal of the full notebook cells\n",
              "var notebookContainer = gd.closest('#notebook-container');\n",
              "if (notebookContainer) {{\n",
              "    x.observe(notebookContainer, {childList: true});\n",
              "}}\n",
              "\n",
              "// Listen for the clearing of the current output cell\n",
              "var outputEl = gd.closest('.output');\n",
              "if (outputEl) {{\n",
              "    x.observe(outputEl, {childList: true});\n",
              "}}\n",
              "\n",
              "                        })                };                            </script>        </div>\n",
              "</body>\n",
              "</html>"
            ]
          },
          "metadata": {}
        }
      ],
      "source": [
        "# Getting the best trial:\n",
        "print(f\"The best trial is : \\n{study.best_trial}\")\n",
        "# Getting the best score:\n",
        "print(f\"The best value is : \\n{study.best_value}\")\n",
        "# Getting the best parameters:\n",
        "print(f\"The best parameters are : \\n{study.best_params}\")\n",
        "trial = study.best_trial\n",
        "print('Precision: {}'.format(trial.value))\n",
        "print(\"Best hyperparameters: {}\".format(trial.params))\n",
        "optuna.visualization.plot_optimization_history(study).show()"
      ],
      "id": "0vPjpLV9c3JX"
    },
    {
      "cell_type": "code",
      "execution_count": null,
      "metadata": {
        "id": "xLE5LTi2oYLu",
        "colab": {
          "base_uri": "https://localhost:8080/",
          "height": 562
        },
        "outputId": "c50c86c3-c080-4c68-a7f6-7d487f3cfb06"
      },
      "outputs": [
        {
          "output_type": "display_data",
          "data": {
            "text/html": [
              "<html>\n",
              "<head><meta charset=\"utf-8\" /></head>\n",
              "<body>\n",
              "    <div>            <script src=\"https://cdnjs.cloudflare.com/ajax/libs/mathjax/2.7.5/MathJax.js?config=TeX-AMS-MML_SVG\"></script><script type=\"text/javascript\">if (window.MathJax && window.MathJax.Hub && window.MathJax.Hub.Config) {window.MathJax.Hub.Config({SVG: {font: \"STIX-Web\"}});}</script>                <script type=\"text/javascript\">window.PlotlyConfig = {MathJaxConfig: 'local'};</script>\n",
              "        <script src=\"https://cdn.plot.ly/plotly-2.18.2.min.js\"></script>                <div id=\"786cffc4-5e67-4d27-8b08-729b1622560b\" class=\"plotly-graph-div\" style=\"height:525px; width:100%;\"></div>            <script type=\"text/javascript\">                                    window.PLOTLYENV=window.PLOTLYENV || {};                                    if (document.getElementById(\"786cffc4-5e67-4d27-8b08-729b1622560b\")) {                    Plotly.newPlot(                        \"786cffc4-5e67-4d27-8b08-729b1622560b\",                        [{\"dimensions\":[{\"label\":\"Objective Value\",\"range\":[0.9832292712298193,0.992893108194495],\"values\":[0.9907616645572354,0.9901696995615263,0.9904201208973228,0.9904275040020205,0.9909179109224476,0.9912456440862364,0.9899951953774523,0.9900213179191617,0.9907742781377512,0.9832292712298193,0.9912041923878475,0.9910608740710082,0.9904957231472507,0.9912725807088535,0.9906181721972503,0.992893108194495,0.9926618924134413,0.9925628231088742,0.9915152396396939,0.9907497233327205,0.9915555093798973,0.9926216086309769,0.9907426927129532,0.9927623846274987,0.9916621374961753,0.9906248104029675,0.9902133530519178,0.9916547403492167,0.9925440600412405,0.9906577198759553]},{\"label\":\"xgbc__learning_rate\",\"range\":[0.02710153041392066,0.49995075122512295],\"values\":[0.49995075122512295,0.16835915049984723,0.13592501880514254,0.25152148330991553,0.3608219442035208,0.4993743312112262,0.1992616413606144,0.18257915566528612,0.3196027968330165,0.02710153041392066,0.4957248738221822,0.48870846969953663,0.4071960161443171,0.43151742395102,0.41915350151431796,0.4316958257801275,0.322427695891974,0.3198297602512692,0.3586149270306631,0.2790911281102247,0.3853993551685135,0.3233305456549134,0.43882129306364437,0.32276528130990745,0.36078403605390635,0.2769392681167764,0.43539386558227755,0.33590640497931357,0.3834982079828735,0.4588919082588626]},{\"label\":\"xgbc__max_depth\",\"range\":[3,30],\"values\":[26,29,27,17,7,30,15,11,8,26,20,21,21,21,30,3,3,3,4,11,6,3,10,3,5,9,13,6,3,8]},{\"label\":\"xgbc__n_estimators\",\"range\":[90,499],\"values\":[235,174,204,296,496,441,125,105,359,90,499,473,399,425,400,325,305,311,348,251,340,302,273,324,380,325,266,224,180,236]}],\"labelangle\":30,\"labelside\":\"bottom\",\"line\":{\"color\":[0.9907616645572354,0.9901696995615263,0.9904201208973228,0.9904275040020205,0.9909179109224476,0.9912456440862364,0.9899951953774523,0.9900213179191617,0.9907742781377512,0.9832292712298193,0.9912041923878475,0.9910608740710082,0.9904957231472507,0.9912725807088535,0.9906181721972503,0.992893108194495,0.9926618924134413,0.9925628231088742,0.9915152396396939,0.9907497233327205,0.9915555093798973,0.9926216086309769,0.9907426927129532,0.9927623846274987,0.9916621374961753,0.9906248104029675,0.9902133530519178,0.9916547403492167,0.9925440600412405,0.9906577198759553],\"colorbar\":{\"title\":{\"text\":\"Objective Value\"}},\"colorscale\":[[0.0,\"rgb(247,251,255)\"],[0.125,\"rgb(222,235,247)\"],[0.25,\"rgb(198,219,239)\"],[0.375,\"rgb(158,202,225)\"],[0.5,\"rgb(107,174,214)\"],[0.625,\"rgb(66,146,198)\"],[0.75,\"rgb(33,113,181)\"],[0.875,\"rgb(8,81,156)\"],[1.0,\"rgb(8,48,107)\"]],\"reversescale\":false,\"showscale\":true},\"type\":\"parcoords\"}],                        {\"title\":{\"text\":\"Parallel Coordinate Plot\"},\"template\":{\"data\":{\"histogram2dcontour\":[{\"type\":\"histogram2dcontour\",\"colorbar\":{\"outlinewidth\":0,\"ticks\":\"\"},\"colorscale\":[[0.0,\"#0d0887\"],[0.1111111111111111,\"#46039f\"],[0.2222222222222222,\"#7201a8\"],[0.3333333333333333,\"#9c179e\"],[0.4444444444444444,\"#bd3786\"],[0.5555555555555556,\"#d8576b\"],[0.6666666666666666,\"#ed7953\"],[0.7777777777777778,\"#fb9f3a\"],[0.8888888888888888,\"#fdca26\"],[1.0,\"#f0f921\"]]}],\"choropleth\":[{\"type\":\"choropleth\",\"colorbar\":{\"outlinewidth\":0,\"ticks\":\"\"}}],\"histogram2d\":[{\"type\":\"histogram2d\",\"colorbar\":{\"outlinewidth\":0,\"ticks\":\"\"},\"colorscale\":[[0.0,\"#0d0887\"],[0.1111111111111111,\"#46039f\"],[0.2222222222222222,\"#7201a8\"],[0.3333333333333333,\"#9c179e\"],[0.4444444444444444,\"#bd3786\"],[0.5555555555555556,\"#d8576b\"],[0.6666666666666666,\"#ed7953\"],[0.7777777777777778,\"#fb9f3a\"],[0.8888888888888888,\"#fdca26\"],[1.0,\"#f0f921\"]]}],\"heatmap\":[{\"type\":\"heatmap\",\"colorbar\":{\"outlinewidth\":0,\"ticks\":\"\"},\"colorscale\":[[0.0,\"#0d0887\"],[0.1111111111111111,\"#46039f\"],[0.2222222222222222,\"#7201a8\"],[0.3333333333333333,\"#9c179e\"],[0.4444444444444444,\"#bd3786\"],[0.5555555555555556,\"#d8576b\"],[0.6666666666666666,\"#ed7953\"],[0.7777777777777778,\"#fb9f3a\"],[0.8888888888888888,\"#fdca26\"],[1.0,\"#f0f921\"]]}],\"heatmapgl\":[{\"type\":\"heatmapgl\",\"colorbar\":{\"outlinewidth\":0,\"ticks\":\"\"},\"colorscale\":[[0.0,\"#0d0887\"],[0.1111111111111111,\"#46039f\"],[0.2222222222222222,\"#7201a8\"],[0.3333333333333333,\"#9c179e\"],[0.4444444444444444,\"#bd3786\"],[0.5555555555555556,\"#d8576b\"],[0.6666666666666666,\"#ed7953\"],[0.7777777777777778,\"#fb9f3a\"],[0.8888888888888888,\"#fdca26\"],[1.0,\"#f0f921\"]]}],\"contourcarpet\":[{\"type\":\"contourcarpet\",\"colorbar\":{\"outlinewidth\":0,\"ticks\":\"\"}}],\"contour\":[{\"type\":\"contour\",\"colorbar\":{\"outlinewidth\":0,\"ticks\":\"\"},\"colorscale\":[[0.0,\"#0d0887\"],[0.1111111111111111,\"#46039f\"],[0.2222222222222222,\"#7201a8\"],[0.3333333333333333,\"#9c179e\"],[0.4444444444444444,\"#bd3786\"],[0.5555555555555556,\"#d8576b\"],[0.6666666666666666,\"#ed7953\"],[0.7777777777777778,\"#fb9f3a\"],[0.8888888888888888,\"#fdca26\"],[1.0,\"#f0f921\"]]}],\"surface\":[{\"type\":\"surface\",\"colorbar\":{\"outlinewidth\":0,\"ticks\":\"\"},\"colorscale\":[[0.0,\"#0d0887\"],[0.1111111111111111,\"#46039f\"],[0.2222222222222222,\"#7201a8\"],[0.3333333333333333,\"#9c179e\"],[0.4444444444444444,\"#bd3786\"],[0.5555555555555556,\"#d8576b\"],[0.6666666666666666,\"#ed7953\"],[0.7777777777777778,\"#fb9f3a\"],[0.8888888888888888,\"#fdca26\"],[1.0,\"#f0f921\"]]}],\"mesh3d\":[{\"type\":\"mesh3d\",\"colorbar\":{\"outlinewidth\":0,\"ticks\":\"\"}}],\"scatter\":[{\"fillpattern\":{\"fillmode\":\"overlay\",\"size\":10,\"solidity\":0.2},\"type\":\"scatter\"}],\"parcoords\":[{\"type\":\"parcoords\",\"line\":{\"colorbar\":{\"outlinewidth\":0,\"ticks\":\"\"}}}],\"scatterpolargl\":[{\"type\":\"scatterpolargl\",\"marker\":{\"colorbar\":{\"outlinewidth\":0,\"ticks\":\"\"}}}],\"bar\":[{\"error_x\":{\"color\":\"#2a3f5f\"},\"error_y\":{\"color\":\"#2a3f5f\"},\"marker\":{\"line\":{\"color\":\"#E5ECF6\",\"width\":0.5},\"pattern\":{\"fillmode\":\"overlay\",\"size\":10,\"solidity\":0.2}},\"type\":\"bar\"}],\"scattergeo\":[{\"type\":\"scattergeo\",\"marker\":{\"colorbar\":{\"outlinewidth\":0,\"ticks\":\"\"}}}],\"scatterpolar\":[{\"type\":\"scatterpolar\",\"marker\":{\"colorbar\":{\"outlinewidth\":0,\"ticks\":\"\"}}}],\"histogram\":[{\"marker\":{\"pattern\":{\"fillmode\":\"overlay\",\"size\":10,\"solidity\":0.2}},\"type\":\"histogram\"}],\"scattergl\":[{\"type\":\"scattergl\",\"marker\":{\"colorbar\":{\"outlinewidth\":0,\"ticks\":\"\"}}}],\"scatter3d\":[{\"type\":\"scatter3d\",\"line\":{\"colorbar\":{\"outlinewidth\":0,\"ticks\":\"\"}},\"marker\":{\"colorbar\":{\"outlinewidth\":0,\"ticks\":\"\"}}}],\"scattermapbox\":[{\"type\":\"scattermapbox\",\"marker\":{\"colorbar\":{\"outlinewidth\":0,\"ticks\":\"\"}}}],\"scatterternary\":[{\"type\":\"scatterternary\",\"marker\":{\"colorbar\":{\"outlinewidth\":0,\"ticks\":\"\"}}}],\"scattercarpet\":[{\"type\":\"scattercarpet\",\"marker\":{\"colorbar\":{\"outlinewidth\":0,\"ticks\":\"\"}}}],\"carpet\":[{\"aaxis\":{\"endlinecolor\":\"#2a3f5f\",\"gridcolor\":\"white\",\"linecolor\":\"white\",\"minorgridcolor\":\"white\",\"startlinecolor\":\"#2a3f5f\"},\"baxis\":{\"endlinecolor\":\"#2a3f5f\",\"gridcolor\":\"white\",\"linecolor\":\"white\",\"minorgridcolor\":\"white\",\"startlinecolor\":\"#2a3f5f\"},\"type\":\"carpet\"}],\"table\":[{\"cells\":{\"fill\":{\"color\":\"#EBF0F8\"},\"line\":{\"color\":\"white\"}},\"header\":{\"fill\":{\"color\":\"#C8D4E3\"},\"line\":{\"color\":\"white\"}},\"type\":\"table\"}],\"barpolar\":[{\"marker\":{\"line\":{\"color\":\"#E5ECF6\",\"width\":0.5},\"pattern\":{\"fillmode\":\"overlay\",\"size\":10,\"solidity\":0.2}},\"type\":\"barpolar\"}],\"pie\":[{\"automargin\":true,\"type\":\"pie\"}]},\"layout\":{\"autotypenumbers\":\"strict\",\"colorway\":[\"#636efa\",\"#EF553B\",\"#00cc96\",\"#ab63fa\",\"#FFA15A\",\"#19d3f3\",\"#FF6692\",\"#B6E880\",\"#FF97FF\",\"#FECB52\"],\"font\":{\"color\":\"#2a3f5f\"},\"hovermode\":\"closest\",\"hoverlabel\":{\"align\":\"left\"},\"paper_bgcolor\":\"white\",\"plot_bgcolor\":\"#E5ECF6\",\"polar\":{\"bgcolor\":\"#E5ECF6\",\"angularaxis\":{\"gridcolor\":\"white\",\"linecolor\":\"white\",\"ticks\":\"\"},\"radialaxis\":{\"gridcolor\":\"white\",\"linecolor\":\"white\",\"ticks\":\"\"}},\"ternary\":{\"bgcolor\":\"#E5ECF6\",\"aaxis\":{\"gridcolor\":\"white\",\"linecolor\":\"white\",\"ticks\":\"\"},\"baxis\":{\"gridcolor\":\"white\",\"linecolor\":\"white\",\"ticks\":\"\"},\"caxis\":{\"gridcolor\":\"white\",\"linecolor\":\"white\",\"ticks\":\"\"}},\"coloraxis\":{\"colorbar\":{\"outlinewidth\":0,\"ticks\":\"\"}},\"colorscale\":{\"sequential\":[[0.0,\"#0d0887\"],[0.1111111111111111,\"#46039f\"],[0.2222222222222222,\"#7201a8\"],[0.3333333333333333,\"#9c179e\"],[0.4444444444444444,\"#bd3786\"],[0.5555555555555556,\"#d8576b\"],[0.6666666666666666,\"#ed7953\"],[0.7777777777777778,\"#fb9f3a\"],[0.8888888888888888,\"#fdca26\"],[1.0,\"#f0f921\"]],\"sequentialminus\":[[0.0,\"#0d0887\"],[0.1111111111111111,\"#46039f\"],[0.2222222222222222,\"#7201a8\"],[0.3333333333333333,\"#9c179e\"],[0.4444444444444444,\"#bd3786\"],[0.5555555555555556,\"#d8576b\"],[0.6666666666666666,\"#ed7953\"],[0.7777777777777778,\"#fb9f3a\"],[0.8888888888888888,\"#fdca26\"],[1.0,\"#f0f921\"]],\"diverging\":[[0,\"#8e0152\"],[0.1,\"#c51b7d\"],[0.2,\"#de77ae\"],[0.3,\"#f1b6da\"],[0.4,\"#fde0ef\"],[0.5,\"#f7f7f7\"],[0.6,\"#e6f5d0\"],[0.7,\"#b8e186\"],[0.8,\"#7fbc41\"],[0.9,\"#4d9221\"],[1,\"#276419\"]]},\"xaxis\":{\"gridcolor\":\"white\",\"linecolor\":\"white\",\"ticks\":\"\",\"title\":{\"standoff\":15},\"zerolinecolor\":\"white\",\"automargin\":true,\"zerolinewidth\":2},\"yaxis\":{\"gridcolor\":\"white\",\"linecolor\":\"white\",\"ticks\":\"\",\"title\":{\"standoff\":15},\"zerolinecolor\":\"white\",\"automargin\":true,\"zerolinewidth\":2},\"scene\":{\"xaxis\":{\"backgroundcolor\":\"#E5ECF6\",\"gridcolor\":\"white\",\"linecolor\":\"white\",\"showbackground\":true,\"ticks\":\"\",\"zerolinecolor\":\"white\",\"gridwidth\":2},\"yaxis\":{\"backgroundcolor\":\"#E5ECF6\",\"gridcolor\":\"white\",\"linecolor\":\"white\",\"showbackground\":true,\"ticks\":\"\",\"zerolinecolor\":\"white\",\"gridwidth\":2},\"zaxis\":{\"backgroundcolor\":\"#E5ECF6\",\"gridcolor\":\"white\",\"linecolor\":\"white\",\"showbackground\":true,\"ticks\":\"\",\"zerolinecolor\":\"white\",\"gridwidth\":2}},\"shapedefaults\":{\"line\":{\"color\":\"#2a3f5f\"}},\"annotationdefaults\":{\"arrowcolor\":\"#2a3f5f\",\"arrowhead\":0,\"arrowwidth\":1},\"geo\":{\"bgcolor\":\"white\",\"landcolor\":\"#E5ECF6\",\"subunitcolor\":\"white\",\"showland\":true,\"showlakes\":true,\"lakecolor\":\"white\"},\"title\":{\"x\":0.05},\"mapbox\":{\"style\":\"light\"}}}},                        {\"responsive\": true}                    ).then(function(){\n",
              "                            \n",
              "var gd = document.getElementById('786cffc4-5e67-4d27-8b08-729b1622560b');\n",
              "var x = new MutationObserver(function (mutations, observer) {{\n",
              "        var display = window.getComputedStyle(gd).display;\n",
              "        if (!display || display === 'none') {{\n",
              "            console.log([gd, 'removed!']);\n",
              "            Plotly.purge(gd);\n",
              "            observer.disconnect();\n",
              "        }}\n",
              "}});\n",
              "\n",
              "// Listen for the removal of the full notebook cells\n",
              "var notebookContainer = gd.closest('#notebook-container');\n",
              "if (notebookContainer) {{\n",
              "    x.observe(notebookContainer, {childList: true});\n",
              "}}\n",
              "\n",
              "// Listen for the clearing of the current output cell\n",
              "var outputEl = gd.closest('.output');\n",
              "if (outputEl) {{\n",
              "    x.observe(outputEl, {childList: true});\n",
              "}}\n",
              "\n",
              "                        })                };                            </script>        </div>\n",
              "</body>\n",
              "</html>"
            ]
          },
          "metadata": {}
        }
      ],
      "source": [
        "from optuna.visualization import plot_parallel_coordinate\n",
        "\n",
        "plot_parallel_coordinate(study)\n"
      ],
      "id": "xLE5LTi2oYLu"
    },
    {
      "cell_type": "code",
      "execution_count": null,
      "metadata": {
        "id": "9c8rLt-8oZbv",
        "colab": {
          "base_uri": "https://localhost:8080/",
          "height": 562
        },
        "outputId": "a5a20c39-6884-4f7e-e50d-377a2b834b8a"
      },
      "outputs": [
        {
          "output_type": "display_data",
          "data": {
            "text/html": [
              "<html>\n",
              "<head><meta charset=\"utf-8\" /></head>\n",
              "<body>\n",
              "    <div>            <script src=\"https://cdnjs.cloudflare.com/ajax/libs/mathjax/2.7.5/MathJax.js?config=TeX-AMS-MML_SVG\"></script><script type=\"text/javascript\">if (window.MathJax && window.MathJax.Hub && window.MathJax.Hub.Config) {window.MathJax.Hub.Config({SVG: {font: \"STIX-Web\"}});}</script>                <script type=\"text/javascript\">window.PlotlyConfig = {MathJaxConfig: 'local'};</script>\n",
              "        <script src=\"https://cdn.plot.ly/plotly-2.18.2.min.js\"></script>                <div id=\"4d945b2a-2f8f-4a27-9779-09f101fc1aa9\" class=\"plotly-graph-div\" style=\"height:525px; width:100%;\"></div>            <script type=\"text/javascript\">                                    window.PLOTLYENV=window.PLOTLYENV || {};                                    if (document.getElementById(\"4d945b2a-2f8f-4a27-9779-09f101fc1aa9\")) {                    Plotly.newPlot(                        \"4d945b2a-2f8f-4a27-9779-09f101fc1aa9\",                        [{\"cliponaxis\":false,\"hovertemplate\":[\"xgbc__max_depth (IntDistribution): 0.22193952773046222<extra></extra>\",\"xgbc__learning_rate (FloatDistribution): 0.34157347291253054<extra></extra>\",\"xgbc__n_estimators (IntDistribution): 0.4364869993570072<extra></extra>\"],\"marker\":{\"color\":\"rgb(66,146,198)\"},\"orientation\":\"h\",\"text\":[\"0.22\",\"0.34\",\"0.44\"],\"textposition\":\"outside\",\"x\":[0.22193952773046222,0.34157347291253054,0.4364869993570072],\"y\":[\"xgbc__max_depth\",\"xgbc__learning_rate\",\"xgbc__n_estimators\"],\"type\":\"bar\"}],                        {\"showlegend\":false,\"title\":{\"text\":\"Hyperparameter Importances\"},\"xaxis\":{\"title\":{\"text\":\"Importance for Objective Value\"}},\"yaxis\":{\"title\":{\"text\":\"Hyperparameter\"}},\"template\":{\"data\":{\"histogram2dcontour\":[{\"type\":\"histogram2dcontour\",\"colorbar\":{\"outlinewidth\":0,\"ticks\":\"\"},\"colorscale\":[[0.0,\"#0d0887\"],[0.1111111111111111,\"#46039f\"],[0.2222222222222222,\"#7201a8\"],[0.3333333333333333,\"#9c179e\"],[0.4444444444444444,\"#bd3786\"],[0.5555555555555556,\"#d8576b\"],[0.6666666666666666,\"#ed7953\"],[0.7777777777777778,\"#fb9f3a\"],[0.8888888888888888,\"#fdca26\"],[1.0,\"#f0f921\"]]}],\"choropleth\":[{\"type\":\"choropleth\",\"colorbar\":{\"outlinewidth\":0,\"ticks\":\"\"}}],\"histogram2d\":[{\"type\":\"histogram2d\",\"colorbar\":{\"outlinewidth\":0,\"ticks\":\"\"},\"colorscale\":[[0.0,\"#0d0887\"],[0.1111111111111111,\"#46039f\"],[0.2222222222222222,\"#7201a8\"],[0.3333333333333333,\"#9c179e\"],[0.4444444444444444,\"#bd3786\"],[0.5555555555555556,\"#d8576b\"],[0.6666666666666666,\"#ed7953\"],[0.7777777777777778,\"#fb9f3a\"],[0.8888888888888888,\"#fdca26\"],[1.0,\"#f0f921\"]]}],\"heatmap\":[{\"type\":\"heatmap\",\"colorbar\":{\"outlinewidth\":0,\"ticks\":\"\"},\"colorscale\":[[0.0,\"#0d0887\"],[0.1111111111111111,\"#46039f\"],[0.2222222222222222,\"#7201a8\"],[0.3333333333333333,\"#9c179e\"],[0.4444444444444444,\"#bd3786\"],[0.5555555555555556,\"#d8576b\"],[0.6666666666666666,\"#ed7953\"],[0.7777777777777778,\"#fb9f3a\"],[0.8888888888888888,\"#fdca26\"],[1.0,\"#f0f921\"]]}],\"heatmapgl\":[{\"type\":\"heatmapgl\",\"colorbar\":{\"outlinewidth\":0,\"ticks\":\"\"},\"colorscale\":[[0.0,\"#0d0887\"],[0.1111111111111111,\"#46039f\"],[0.2222222222222222,\"#7201a8\"],[0.3333333333333333,\"#9c179e\"],[0.4444444444444444,\"#bd3786\"],[0.5555555555555556,\"#d8576b\"],[0.6666666666666666,\"#ed7953\"],[0.7777777777777778,\"#fb9f3a\"],[0.8888888888888888,\"#fdca26\"],[1.0,\"#f0f921\"]]}],\"contourcarpet\":[{\"type\":\"contourcarpet\",\"colorbar\":{\"outlinewidth\":0,\"ticks\":\"\"}}],\"contour\":[{\"type\":\"contour\",\"colorbar\":{\"outlinewidth\":0,\"ticks\":\"\"},\"colorscale\":[[0.0,\"#0d0887\"],[0.1111111111111111,\"#46039f\"],[0.2222222222222222,\"#7201a8\"],[0.3333333333333333,\"#9c179e\"],[0.4444444444444444,\"#bd3786\"],[0.5555555555555556,\"#d8576b\"],[0.6666666666666666,\"#ed7953\"],[0.7777777777777778,\"#fb9f3a\"],[0.8888888888888888,\"#fdca26\"],[1.0,\"#f0f921\"]]}],\"surface\":[{\"type\":\"surface\",\"colorbar\":{\"outlinewidth\":0,\"ticks\":\"\"},\"colorscale\":[[0.0,\"#0d0887\"],[0.1111111111111111,\"#46039f\"],[0.2222222222222222,\"#7201a8\"],[0.3333333333333333,\"#9c179e\"],[0.4444444444444444,\"#bd3786\"],[0.5555555555555556,\"#d8576b\"],[0.6666666666666666,\"#ed7953\"],[0.7777777777777778,\"#fb9f3a\"],[0.8888888888888888,\"#fdca26\"],[1.0,\"#f0f921\"]]}],\"mesh3d\":[{\"type\":\"mesh3d\",\"colorbar\":{\"outlinewidth\":0,\"ticks\":\"\"}}],\"scatter\":[{\"fillpattern\":{\"fillmode\":\"overlay\",\"size\":10,\"solidity\":0.2},\"type\":\"scatter\"}],\"parcoords\":[{\"type\":\"parcoords\",\"line\":{\"colorbar\":{\"outlinewidth\":0,\"ticks\":\"\"}}}],\"scatterpolargl\":[{\"type\":\"scatterpolargl\",\"marker\":{\"colorbar\":{\"outlinewidth\":0,\"ticks\":\"\"}}}],\"bar\":[{\"error_x\":{\"color\":\"#2a3f5f\"},\"error_y\":{\"color\":\"#2a3f5f\"},\"marker\":{\"line\":{\"color\":\"#E5ECF6\",\"width\":0.5},\"pattern\":{\"fillmode\":\"overlay\",\"size\":10,\"solidity\":0.2}},\"type\":\"bar\"}],\"scattergeo\":[{\"type\":\"scattergeo\",\"marker\":{\"colorbar\":{\"outlinewidth\":0,\"ticks\":\"\"}}}],\"scatterpolar\":[{\"type\":\"scatterpolar\",\"marker\":{\"colorbar\":{\"outlinewidth\":0,\"ticks\":\"\"}}}],\"histogram\":[{\"marker\":{\"pattern\":{\"fillmode\":\"overlay\",\"size\":10,\"solidity\":0.2}},\"type\":\"histogram\"}],\"scattergl\":[{\"type\":\"scattergl\",\"marker\":{\"colorbar\":{\"outlinewidth\":0,\"ticks\":\"\"}}}],\"scatter3d\":[{\"type\":\"scatter3d\",\"line\":{\"colorbar\":{\"outlinewidth\":0,\"ticks\":\"\"}},\"marker\":{\"colorbar\":{\"outlinewidth\":0,\"ticks\":\"\"}}}],\"scattermapbox\":[{\"type\":\"scattermapbox\",\"marker\":{\"colorbar\":{\"outlinewidth\":0,\"ticks\":\"\"}}}],\"scatterternary\":[{\"type\":\"scatterternary\",\"marker\":{\"colorbar\":{\"outlinewidth\":0,\"ticks\":\"\"}}}],\"scattercarpet\":[{\"type\":\"scattercarpet\",\"marker\":{\"colorbar\":{\"outlinewidth\":0,\"ticks\":\"\"}}}],\"carpet\":[{\"aaxis\":{\"endlinecolor\":\"#2a3f5f\",\"gridcolor\":\"white\",\"linecolor\":\"white\",\"minorgridcolor\":\"white\",\"startlinecolor\":\"#2a3f5f\"},\"baxis\":{\"endlinecolor\":\"#2a3f5f\",\"gridcolor\":\"white\",\"linecolor\":\"white\",\"minorgridcolor\":\"white\",\"startlinecolor\":\"#2a3f5f\"},\"type\":\"carpet\"}],\"table\":[{\"cells\":{\"fill\":{\"color\":\"#EBF0F8\"},\"line\":{\"color\":\"white\"}},\"header\":{\"fill\":{\"color\":\"#C8D4E3\"},\"line\":{\"color\":\"white\"}},\"type\":\"table\"}],\"barpolar\":[{\"marker\":{\"line\":{\"color\":\"#E5ECF6\",\"width\":0.5},\"pattern\":{\"fillmode\":\"overlay\",\"size\":10,\"solidity\":0.2}},\"type\":\"barpolar\"}],\"pie\":[{\"automargin\":true,\"type\":\"pie\"}]},\"layout\":{\"autotypenumbers\":\"strict\",\"colorway\":[\"#636efa\",\"#EF553B\",\"#00cc96\",\"#ab63fa\",\"#FFA15A\",\"#19d3f3\",\"#FF6692\",\"#B6E880\",\"#FF97FF\",\"#FECB52\"],\"font\":{\"color\":\"#2a3f5f\"},\"hovermode\":\"closest\",\"hoverlabel\":{\"align\":\"left\"},\"paper_bgcolor\":\"white\",\"plot_bgcolor\":\"#E5ECF6\",\"polar\":{\"bgcolor\":\"#E5ECF6\",\"angularaxis\":{\"gridcolor\":\"white\",\"linecolor\":\"white\",\"ticks\":\"\"},\"radialaxis\":{\"gridcolor\":\"white\",\"linecolor\":\"white\",\"ticks\":\"\"}},\"ternary\":{\"bgcolor\":\"#E5ECF6\",\"aaxis\":{\"gridcolor\":\"white\",\"linecolor\":\"white\",\"ticks\":\"\"},\"baxis\":{\"gridcolor\":\"white\",\"linecolor\":\"white\",\"ticks\":\"\"},\"caxis\":{\"gridcolor\":\"white\",\"linecolor\":\"white\",\"ticks\":\"\"}},\"coloraxis\":{\"colorbar\":{\"outlinewidth\":0,\"ticks\":\"\"}},\"colorscale\":{\"sequential\":[[0.0,\"#0d0887\"],[0.1111111111111111,\"#46039f\"],[0.2222222222222222,\"#7201a8\"],[0.3333333333333333,\"#9c179e\"],[0.4444444444444444,\"#bd3786\"],[0.5555555555555556,\"#d8576b\"],[0.6666666666666666,\"#ed7953\"],[0.7777777777777778,\"#fb9f3a\"],[0.8888888888888888,\"#fdca26\"],[1.0,\"#f0f921\"]],\"sequentialminus\":[[0.0,\"#0d0887\"],[0.1111111111111111,\"#46039f\"],[0.2222222222222222,\"#7201a8\"],[0.3333333333333333,\"#9c179e\"],[0.4444444444444444,\"#bd3786\"],[0.5555555555555556,\"#d8576b\"],[0.6666666666666666,\"#ed7953\"],[0.7777777777777778,\"#fb9f3a\"],[0.8888888888888888,\"#fdca26\"],[1.0,\"#f0f921\"]],\"diverging\":[[0,\"#8e0152\"],[0.1,\"#c51b7d\"],[0.2,\"#de77ae\"],[0.3,\"#f1b6da\"],[0.4,\"#fde0ef\"],[0.5,\"#f7f7f7\"],[0.6,\"#e6f5d0\"],[0.7,\"#b8e186\"],[0.8,\"#7fbc41\"],[0.9,\"#4d9221\"],[1,\"#276419\"]]},\"xaxis\":{\"gridcolor\":\"white\",\"linecolor\":\"white\",\"ticks\":\"\",\"title\":{\"standoff\":15},\"zerolinecolor\":\"white\",\"automargin\":true,\"zerolinewidth\":2},\"yaxis\":{\"gridcolor\":\"white\",\"linecolor\":\"white\",\"ticks\":\"\",\"title\":{\"standoff\":15},\"zerolinecolor\":\"white\",\"automargin\":true,\"zerolinewidth\":2},\"scene\":{\"xaxis\":{\"backgroundcolor\":\"#E5ECF6\",\"gridcolor\":\"white\",\"linecolor\":\"white\",\"showbackground\":true,\"ticks\":\"\",\"zerolinecolor\":\"white\",\"gridwidth\":2},\"yaxis\":{\"backgroundcolor\":\"#E5ECF6\",\"gridcolor\":\"white\",\"linecolor\":\"white\",\"showbackground\":true,\"ticks\":\"\",\"zerolinecolor\":\"white\",\"gridwidth\":2},\"zaxis\":{\"backgroundcolor\":\"#E5ECF6\",\"gridcolor\":\"white\",\"linecolor\":\"white\",\"showbackground\":true,\"ticks\":\"\",\"zerolinecolor\":\"white\",\"gridwidth\":2}},\"shapedefaults\":{\"line\":{\"color\":\"#2a3f5f\"}},\"annotationdefaults\":{\"arrowcolor\":\"#2a3f5f\",\"arrowhead\":0,\"arrowwidth\":1},\"geo\":{\"bgcolor\":\"white\",\"landcolor\":\"#E5ECF6\",\"subunitcolor\":\"white\",\"showland\":true,\"showlakes\":true,\"lakecolor\":\"white\"},\"title\":{\"x\":0.05},\"mapbox\":{\"style\":\"light\"}}}},                        {\"responsive\": true}                    ).then(function(){\n",
              "                            \n",
              "var gd = document.getElementById('4d945b2a-2f8f-4a27-9779-09f101fc1aa9');\n",
              "var x = new MutationObserver(function (mutations, observer) {{\n",
              "        var display = window.getComputedStyle(gd).display;\n",
              "        if (!display || display === 'none') {{\n",
              "            console.log([gd, 'removed!']);\n",
              "            Plotly.purge(gd);\n",
              "            observer.disconnect();\n",
              "        }}\n",
              "}});\n",
              "\n",
              "// Listen for the removal of the full notebook cells\n",
              "var notebookContainer = gd.closest('#notebook-container');\n",
              "if (notebookContainer) {{\n",
              "    x.observe(notebookContainer, {childList: true});\n",
              "}}\n",
              "\n",
              "// Listen for the clearing of the current output cell\n",
              "var outputEl = gd.closest('.output');\n",
              "if (outputEl) {{\n",
              "    x.observe(outputEl, {childList: true});\n",
              "}}\n",
              "\n",
              "                        })                };                            </script>        </div>\n",
              "</body>\n",
              "</html>"
            ]
          },
          "metadata": {}
        }
      ],
      "source": [
        "from optuna.visualization import plot_param_importances\n",
        "plot_param_importances(study)\n"
      ],
      "id": "9c8rLt-8oZbv"
    },
    {
      "cell_type": "code",
      "execution_count": null,
      "metadata": {
        "id": "g-1HQkhfaF6-",
        "colab": {
          "base_uri": "https://localhost:8080/"
        },
        "outputId": "eb7344bc-9f1c-48e8-ec49-07dc4bf60d23"
      },
      "outputs": [
        {
          "output_type": "stream",
          "name": "stdout",
          "text": [
            "Accuracy: 0.9910066478536539\n",
            "time 118.41173386573792\n"
          ]
        }
      ],
      "source": [
        "rs=NIA\n",
        "xgbc = xgb.XGBClassifier(random_state=rs)\n",
        "classif=Pipeline([('xgbc',xgbc)])\n",
        "classif.set_params(**study.best_params)\n",
        "(bacopt6, tiempo)=default_hp(classif, X_train, y_train, X_test, y_test)"
      ],
      "id": "g-1HQkhfaF6-"
    },
    {
      "cell_type": "code",
      "execution_count": null,
      "metadata": {
        "colab": {
          "base_uri": "https://localhost:8080/"
        },
        "id": "K_RSCXxUiWmh",
        "outputId": "b48c0590-cd99-4b0d-8d26-e98c368a27c4"
      },
      "outputs": [
        {
          "metadata": {
            "tags": null
          },
          "name": "stdout",
          "output_type": "stream",
          "text": [
            "Fitting 3 folds for each of 30 candidates, totalling 90 fits\n"
          ]
        }
      ],
      "source": [
        "import time\n",
        "from scipy.stats import randint as sp_randint\n",
        "from scipy.stats import uniform\n",
        "rs=NIA\n",
        "xgbc = xgb.XGBClassifier(random_state=rs)\n",
        "clf=Pipeline([('xgbc',xgbc)])\n",
        "param_grid = {'xgbc__max_depth': sp_randint(3,30),\n",
        "              'xgbc__learning_rate': uniform(0.01,0.5),\n",
        "              'xgbc__n_estimators': sp_randint(50, 500)}\n",
        "(Accur4,best_params,inner_score,timer4)=default_RS(clf, X_train, y_train, X_test, y_test,param_grid,30)"
      ],
      "id": "K_RSCXxUiWmh"
    },
    {
      "cell_type": "code",
      "source": [
        "print(Accur4,best_params,inner_score,timer4)"
      ],
      "metadata": {
        "colab": {
          "base_uri": "https://localhost:8080/"
        },
        "id": "Y79fNBezERjj",
        "outputId": "20e2bf27-dc02-45f1-802f-d71619c4a0cf"
      },
      "id": "Y79fNBezERjj",
      "execution_count": 13,
      "outputs": [
        {
          "output_type": "stream",
          "name": "stdout",
          "text": [
            "0.9915100828880368 {'xgbc__learning_rate': 0.4254539287177061, 'xgbc__max_depth': 3, 'xgbc__n_estimators': 242} 0.9927955092333479 9980.496442556381\n"
          ]
        }
      ]
    },
    {
      "cell_type": "markdown",
      "metadata": {
        "id": "uvWK6AzzlKZi"
      },
      "source": [
        "# Results"
      ],
      "id": "uvWK6AzzlKZi"
    },
    {
      "cell_type": "markdown",
      "metadata": {
        "id": "pHCuWxjalRA3"
      },
      "source": [
        "## Optuna results"
      ],
      "id": "pHCuWxjalRA3"
    },
    {
      "cell_type": "code",
      "execution_count": null,
      "metadata": {
        "id": "EjI1cod5lQWu",
        "colab": {
          "base_uri": "https://localhost:8080/"
        },
        "outputId": "94c9001a-e36c-4fef-c69f-3d6ab67bfbd9"
      },
      "outputs": [
        {
          "output_type": "stream",
          "name": "stdout",
          "text": [
            "+------------------------+--------------------+--------------------+--------------------+--------------------+\n",
            "|       Algorithm        |  Default accuracy  |    Default time    |  Optimal Accuracy  |    Optimal time    |\n",
            "+------------------------+--------------------+--------------------+--------------------+--------------------+\n",
            "|      Extra Trees       | 0.9956554340384165 | 1.7402245998382568 | 0.9945413283751058 | 210.8178515434265  |\n",
            "|          SVM           | 0.8743476191677337 |  12.5738205909729  | 0.9921290054673095 | 159.8254656791687  |\n",
            "| Hist Gradient Boosting | 0.9910767259023222 | 12.994560718536377 | 0.9923794385529462 | 441.5919575691223  |\n",
            "| XGBoost Early stopping | 0.9899388459667152 | 77.99435138702393  | 0.9898447897629962 | 2588.5885610580444 |\n",
            "|    XGBoost Pruning     | 0.9899388459667152 | 77.99435138702393  | 0.9902979282599781 | 2107.4450645446777 |\n",
            "|  XGBoost n_estimators  | 0.9899388459667152 | 77.99435138702393  | 0.9910066478536539 | 6674.723722696304  |\n",
            "+------------------------+--------------------+--------------------+--------------------+--------------------+\n"
          ]
        }
      ],
      "source": [
        "from tabulate import tabulate\n",
        "from prettytable import PrettyTable\n",
        "\n",
        "# Specify the Column Names while initializing the Table\n",
        "myTable = PrettyTable([\"Algorithm\", \"Default accuracy\", \"Default time\", \"Optimal Accuracy\",\"Optimal time\"])\n",
        "# Add rows\n",
        "myTable.add_row([\"Extra Trees\", bac1,tiempo1 ,bacopt1,tiempoopt1 ])\n",
        "myTable.add_row([\"SVM\",bac2,tiempo2 ,bacopt2,timeopt2])\n",
        "myTable.add_row([\"Hist Gradient Boosting\", bac3,tiempo3 ,bacopt3,timeopt3])\n",
        "myTable.add_row([\"XGBoost Early stopping\", bac4,tiempo4 ,bacopt4,timeopt4])\n",
        "myTable.add_row([\"XGBoost Pruning\", bac4,tiempo4 ,bacopt5,timeopt5])\n",
        "myTable.add_row([\"XGBoost n_estimators\", bac4,tiempo4 ,bacopt6,timeopt6])\n",
        "\n",
        "\n",
        "print(myTable)"
      ],
      "id": "EjI1cod5lQWu"
    },
    {
      "cell_type": "markdown",
      "metadata": {
        "id": "i8Rrqm_YpT3j"
      },
      "source": [
        "## Randomized Search Results"
      ],
      "id": "i8Rrqm_YpT3j"
    },
    {
      "cell_type": "code",
      "execution_count": null,
      "metadata": {
        "id": "kzKvC3telU6S",
        "colab": {
          "base_uri": "https://localhost:8080/"
        },
        "outputId": "4c11803d-b600-4926-ab4c-618d9b45a4f9"
      },
      "outputs": [
        {
          "output_type": "stream",
          "name": "stdout",
          "text": [
            "+------------------------+--------------------+--------------------+--------------------+--------------------+\n",
            "|       Algorithm        |  Default accuracy  |    Default time    |  Optimal Accuracy  |    Optimal time    |\n",
            "+------------------------+--------------------+--------------------+--------------------+--------------------+\n",
            "|      Extra Trees       | 0.9956554340384165 | 1.7402245998382568 | 0.9922723353865242 | 423.23201274871826 |\n",
            "|          SVM           | 0.8743476191677337 |  12.5738205909729  | 0.9929223091790608 | 320.3331425189972  |\n",
            "| Hist Gradient Boosting | 0.9910767259023222 | 12.994560718536377 | 0.9916101751776902 | 705.5156226158142  |\n",
            "|        XGBoost         | 0.9899388459667152 | 77.99435138702393  | 0.9917242282219784 | 5626.421203613281  |\n",
            "+------------------------+--------------------+--------------------+--------------------+--------------------+\n"
          ]
        }
      ],
      "source": [
        "from tabulate import tabulate\n",
        "from prettytable import PrettyTable\n",
        "\n",
        "# Specify the Column Names while initializing the Table\n",
        "myTable = PrettyTable([\"Algorithm\", \"Default accuracy\", \"Default time\", \"Optimal Accuracy\",\"Optimal time\"])\n",
        "# Add rows\n",
        "myTable.add_row([\"Extra Trees\", bac1,tiempo1 ,Accur1,timer1 ])\n",
        "myTable.add_row([\"SVM\",bac2,tiempo2 ,Accur2,timer2])\n",
        "myTable.add_row([\"Hist Gradient Boosting\", bac3,tiempo3 ,Accur3,timer3])\n",
        "myTable.add_row([\"XGBoost\", bac4,tiempo4 ,Accur4,timer4])\n",
        "\n",
        "\n",
        "print(myTable)"
      ],
      "id": "kzKvC3telU6S"
    }
  ],
  "metadata": {
    "colab": {
      "provenance": []
    },
    "kernelspec": {
      "display_name": "Python 3 (ipykernel)",
      "language": "python",
      "name": "python3"
    },
    "language_info": {
      "codemirror_mode": {
        "name": "ipython",
        "version": 3
      },
      "file_extension": ".py",
      "mimetype": "text/x-python",
      "name": "python",
      "nbconvert_exporter": "python",
      "pygments_lexer": "ipython3",
      "version": "3.9.12"
    }
  },
  "nbformat": 4,
  "nbformat_minor": 5
}