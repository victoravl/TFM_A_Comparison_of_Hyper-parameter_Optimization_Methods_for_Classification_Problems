{
  "cells": [
    {
      "cell_type": "markdown",
      "metadata": {
        "id": "2f39ef98"
      },
      "source": [
        "## Data Preprocessing"
      ],
      "id": "2f39ef98"
    },
    {
      "cell_type": "code",
      "execution_count": null,
      "metadata": {
        "colab": {
          "base_uri": "https://localhost:8080/",
          "height": 297
        },
        "id": "311d97c6",
        "outputId": "d191d2a6-b306-4d4a-c800-78a181d6e0a6"
      },
      "outputs": [
        {
          "data": {
            "text/html": [
              "\n",
              "  <div id=\"df-8d4a0826-6709-47e5-a0ea-557648dbe963\">\n",
              "    <div class=\"colab-df-container\">\n",
              "      <div>\n",
              "<style scoped>\n",
              "    .dataframe tbody tr th:only-of-type {\n",
              "        vertical-align: middle;\n",
              "    }\n",
              "\n",
              "    .dataframe tbody tr th {\n",
              "        vertical-align: top;\n",
              "    }\n",
              "\n",
              "    .dataframe thead th {\n",
              "        text-align: right;\n",
              "    }\n",
              "</style>\n",
              "<table border=\"1\" class=\"dataframe\">\n",
              "  <thead>\n",
              "    <tr style=\"text-align: right;\">\n",
              "      <th></th>\n",
              "      <th>V1</th>\n",
              "      <th>V2</th>\n",
              "      <th>V3</th>\n",
              "      <th>V4</th>\n",
              "      <th>V5</th>\n",
              "      <th>V6</th>\n",
              "      <th>V7</th>\n",
              "      <th>V8</th>\n",
              "      <th>V9</th>\n",
              "      <th>V10</th>\n",
              "      <th>...</th>\n",
              "      <th>V110</th>\n",
              "      <th>V111</th>\n",
              "      <th>V112</th>\n",
              "      <th>V113</th>\n",
              "      <th>V114</th>\n",
              "      <th>V115</th>\n",
              "      <th>V116</th>\n",
              "      <th>V117</th>\n",
              "      <th>V118</th>\n",
              "      <th>Class</th>\n",
              "    </tr>\n",
              "  </thead>\n",
              "  <tbody>\n",
              "    <tr>\n",
              "      <th>0</th>\n",
              "      <td>1.0</td>\n",
              "      <td>1.00</td>\n",
              "      <td>1.000000</td>\n",
              "      <td>1.000000</td>\n",
              "      <td>1.000000</td>\n",
              "      <td>1.000000</td>\n",
              "      <td>b'2'</td>\n",
              "      <td>b'2'</td>\n",
              "      <td>0.860946</td>\n",
              "      <td>0.82159</td>\n",
              "      <td>...</td>\n",
              "      <td>0.750000</td>\n",
              "      <td>0.500000</td>\n",
              "      <td>b'2'</td>\n",
              "      <td>0.999953</td>\n",
              "      <td>0.777778</td>\n",
              "      <td>0.461538</td>\n",
              "      <td>b'2'</td>\n",
              "      <td>1.0</td>\n",
              "      <td>1.000000</td>\n",
              "      <td>b'2'</td>\n",
              "    </tr>\n",
              "    <tr>\n",
              "      <th>1</th>\n",
              "      <td>1.0</td>\n",
              "      <td>0.75</td>\n",
              "      <td>0.857143</td>\n",
              "      <td>0.857143</td>\n",
              "      <td>0.894737</td>\n",
              "      <td>0.947368</td>\n",
              "      <td>b'2'</td>\n",
              "      <td>b'1'</td>\n",
              "      <td>0.860946</td>\n",
              "      <td>0.82159</td>\n",
              "      <td>...</td>\n",
              "      <td>0.500000</td>\n",
              "      <td>0.307692</td>\n",
              "      <td>b'2'</td>\n",
              "      <td>0.999983</td>\n",
              "      <td>0.538462</td>\n",
              "      <td>0.437500</td>\n",
              "      <td>b'2'</td>\n",
              "      <td>1.0</td>\n",
              "      <td>1.000000</td>\n",
              "      <td>b'2'</td>\n",
              "    </tr>\n",
              "    <tr>\n",
              "      <th>2</th>\n",
              "      <td>1.0</td>\n",
              "      <td>1.00</td>\n",
              "      <td>1.000000</td>\n",
              "      <td>1.000000</td>\n",
              "      <td>1.000000</td>\n",
              "      <td>1.000000</td>\n",
              "      <td>b'2'</td>\n",
              "      <td>b'2'</td>\n",
              "      <td>0.860946</td>\n",
              "      <td>0.82159</td>\n",
              "      <td>...</td>\n",
              "      <td>0.666667</td>\n",
              "      <td>0.461538</td>\n",
              "      <td>b'2'</td>\n",
              "      <td>0.999993</td>\n",
              "      <td>0.800000</td>\n",
              "      <td>0.666667</td>\n",
              "      <td>b'2'</td>\n",
              "      <td>1.0</td>\n",
              "      <td>1.000000</td>\n",
              "      <td>b'2'</td>\n",
              "    </tr>\n",
              "    <tr>\n",
              "      <th>3</th>\n",
              "      <td>1.0</td>\n",
              "      <td>0.75</td>\n",
              "      <td>0.857143</td>\n",
              "      <td>0.857143</td>\n",
              "      <td>0.842105</td>\n",
              "      <td>0.833333</td>\n",
              "      <td>b'2'</td>\n",
              "      <td>b'1'</td>\n",
              "      <td>1.000000</td>\n",
              "      <td>1.00000</td>\n",
              "      <td>...</td>\n",
              "      <td>0.500000</td>\n",
              "      <td>0.285714</td>\n",
              "      <td>b'2'</td>\n",
              "      <td>0.998605</td>\n",
              "      <td>0.555556</td>\n",
              "      <td>0.384615</td>\n",
              "      <td>b'2'</td>\n",
              "      <td>1.0</td>\n",
              "      <td>0.999994</td>\n",
              "      <td>b'2'</td>\n",
              "    </tr>\n",
              "    <tr>\n",
              "      <th>4</th>\n",
              "      <td>0.0</td>\n",
              "      <td>0.00</td>\n",
              "      <td>0.250000</td>\n",
              "      <td>0.000000</td>\n",
              "      <td>0.250000</td>\n",
              "      <td>0.000000</td>\n",
              "      <td>b'1'</td>\n",
              "      <td>b'1'</td>\n",
              "      <td>0.860946</td>\n",
              "      <td>0.82159</td>\n",
              "      <td>...</td>\n",
              "      <td>0.607880</td>\n",
              "      <td>0.396168</td>\n",
              "      <td>b'1'</td>\n",
              "      <td>0.982576</td>\n",
              "      <td>0.644336</td>\n",
              "      <td>0.438054</td>\n",
              "      <td>b'1'</td>\n",
              "      <td>1.0</td>\n",
              "      <td>0.979322</td>\n",
              "      <td>b'2'</td>\n",
              "    </tr>\n",
              "  </tbody>\n",
              "</table>\n",
              "<p>5 rows × 119 columns</p>\n",
              "</div>\n",
              "      <button class=\"colab-df-convert\" onclick=\"convertToInteractive('df-8d4a0826-6709-47e5-a0ea-557648dbe963')\"\n",
              "              title=\"Convert this dataframe to an interactive table.\"\n",
              "              style=\"display:none;\">\n",
              "        \n",
              "  <svg xmlns=\"http://www.w3.org/2000/svg\" height=\"24px\"viewBox=\"0 0 24 24\"\n",
              "       width=\"24px\">\n",
              "    <path d=\"M0 0h24v24H0V0z\" fill=\"none\"/>\n",
              "    <path d=\"M18.56 5.44l.94 2.06.94-2.06 2.06-.94-2.06-.94-.94-2.06-.94 2.06-2.06.94zm-11 1L8.5 8.5l.94-2.06 2.06-.94-2.06-.94L8.5 2.5l-.94 2.06-2.06.94zm10 10l.94 2.06.94-2.06 2.06-.94-2.06-.94-.94-2.06-.94 2.06-2.06.94z\"/><path d=\"M17.41 7.96l-1.37-1.37c-.4-.4-.92-.59-1.43-.59-.52 0-1.04.2-1.43.59L10.3 9.45l-7.72 7.72c-.78.78-.78 2.05 0 2.83L4 21.41c.39.39.9.59 1.41.59.51 0 1.02-.2 1.41-.59l7.78-7.78 2.81-2.81c.8-.78.8-2.07 0-2.86zM5.41 20L4 18.59l7.72-7.72 1.47 1.35L5.41 20z\"/>\n",
              "  </svg>\n",
              "      </button>\n",
              "      \n",
              "  <style>\n",
              "    .colab-df-container {\n",
              "      display:flex;\n",
              "      flex-wrap:wrap;\n",
              "      gap: 12px;\n",
              "    }\n",
              "\n",
              "    .colab-df-convert {\n",
              "      background-color: #E8F0FE;\n",
              "      border: none;\n",
              "      border-radius: 50%;\n",
              "      cursor: pointer;\n",
              "      display: none;\n",
              "      fill: #1967D2;\n",
              "      height: 32px;\n",
              "      padding: 0 0 0 0;\n",
              "      width: 32px;\n",
              "    }\n",
              "\n",
              "    .colab-df-convert:hover {\n",
              "      background-color: #E2EBFA;\n",
              "      box-shadow: 0px 1px 2px rgba(60, 64, 67, 0.3), 0px 1px 3px 1px rgba(60, 64, 67, 0.15);\n",
              "      fill: #174EA6;\n",
              "    }\n",
              "\n",
              "    [theme=dark] .colab-df-convert {\n",
              "      background-color: #3B4455;\n",
              "      fill: #D2E3FC;\n",
              "    }\n",
              "\n",
              "    [theme=dark] .colab-df-convert:hover {\n",
              "      background-color: #434B5C;\n",
              "      box-shadow: 0px 1px 3px 1px rgba(0, 0, 0, 0.15);\n",
              "      filter: drop-shadow(0px 1px 2px rgba(0, 0, 0, 0.3));\n",
              "      fill: #FFFFFF;\n",
              "    }\n",
              "  </style>\n",
              "\n",
              "      <script>\n",
              "        const buttonEl =\n",
              "          document.querySelector('#df-8d4a0826-6709-47e5-a0ea-557648dbe963 button.colab-df-convert');\n",
              "        buttonEl.style.display =\n",
              "          google.colab.kernel.accessAllowed ? 'block' : 'none';\n",
              "\n",
              "        async function convertToInteractive(key) {\n",
              "          const element = document.querySelector('#df-8d4a0826-6709-47e5-a0ea-557648dbe963');\n",
              "          const dataTable =\n",
              "            await google.colab.kernel.invokeFunction('convertToInteractive',\n",
              "                                                     [key], {});\n",
              "          if (!dataTable) return;\n",
              "\n",
              "          const docLinkHtml = 'Like what you see? Visit the ' +\n",
              "            '<a target=\"_blank\" href=https://colab.research.google.com/notebooks/data_table.ipynb>data table notebook</a>'\n",
              "            + ' to learn more about interactive tables.';\n",
              "          element.innerHTML = '';\n",
              "          dataTable['output_type'] = 'display_data';\n",
              "          await google.colab.output.renderOutput(dataTable, element);\n",
              "          const docLink = document.createElement('div');\n",
              "          docLink.innerHTML = docLinkHtml;\n",
              "          element.appendChild(docLink);\n",
              "        }\n",
              "      </script>\n",
              "    </div>\n",
              "  </div>\n",
              "  "
            ],
            "text/plain": [
              "    V1    V2        V3        V4        V5        V6    V7    V8        V9  \\\n",
              "0  1.0  1.00  1.000000  1.000000  1.000000  1.000000  b'2'  b'2'  0.860946   \n",
              "1  1.0  0.75  0.857143  0.857143  0.894737  0.947368  b'2'  b'1'  0.860946   \n",
              "2  1.0  1.00  1.000000  1.000000  1.000000  1.000000  b'2'  b'2'  0.860946   \n",
              "3  1.0  0.75  0.857143  0.857143  0.842105  0.833333  b'2'  b'1'  1.000000   \n",
              "4  0.0  0.00  0.250000  0.000000  0.250000  0.000000  b'1'  b'1'  0.860946   \n",
              "\n",
              "       V10  ...      V110      V111  V112      V113      V114      V115  V116  \\\n",
              "0  0.82159  ...  0.750000  0.500000  b'2'  0.999953  0.777778  0.461538  b'2'   \n",
              "1  0.82159  ...  0.500000  0.307692  b'2'  0.999983  0.538462  0.437500  b'2'   \n",
              "2  0.82159  ...  0.666667  0.461538  b'2'  0.999993  0.800000  0.666667  b'2'   \n",
              "3  1.00000  ...  0.500000  0.285714  b'2'  0.998605  0.555556  0.384615  b'2'   \n",
              "4  0.82159  ...  0.607880  0.396168  b'1'  0.982576  0.644336  0.438054  b'1'   \n",
              "\n",
              "   V117      V118  Class  \n",
              "0   1.0  1.000000   b'2'  \n",
              "1   1.0  1.000000   b'2'  \n",
              "2   1.0  1.000000   b'2'  \n",
              "3   1.0  0.999994   b'2'  \n",
              "4   1.0  0.979322   b'2'  \n",
              "\n",
              "[5 rows x 119 columns]"
            ]
          },
          "execution_count": 1,
          "metadata": {},
          "output_type": "execute_result"
        }
      ],
      "source": [
        "from scipy.io import arff\n",
        "import pandas as pd\n",
        "\n",
        "data = arff.loadarff('phpDYCOet.arff')\n",
        "df = pd.DataFrame(data[0])\n",
        "df.head()"
      ],
      "id": "311d97c6"
    },
    {
      "cell_type": "code",
      "execution_count": null,
      "metadata": {
        "id": "39b188ec"
      },
      "outputs": [],
      "source": [
        "from numpy.random import randint #load  necessary packages\n",
        "import pandas as pd #needed for Data Frames\n",
        "import numpy as np #Needed for computations\n",
        "NIA = 52005602\n",
        "np.random.seed(NIA)"
      ],
      "id": "39b188ec"
    },
    {
      "cell_type": "code",
      "execution_count": null,
      "metadata": {
        "colab": {
          "base_uri": "https://localhost:8080/",
          "height": 394
        },
        "id": "637387a6",
        "outputId": "3f7c011c-2fd9-4531-e6f2-04d5ed070dac"
      },
      "outputs": [
        {
          "data": {
            "text/html": [
              "\n",
              "  <div id=\"df-c1cf0799-0865-4507-a3d9-bd2aa4329c5e\">\n",
              "    <div class=\"colab-df-container\">\n",
              "      <div>\n",
              "<style scoped>\n",
              "    .dataframe tbody tr th:only-of-type {\n",
              "        vertical-align: middle;\n",
              "    }\n",
              "\n",
              "    .dataframe tbody tr th {\n",
              "        vertical-align: top;\n",
              "    }\n",
              "\n",
              "    .dataframe thead th {\n",
              "        text-align: right;\n",
              "    }\n",
              "</style>\n",
              "<table border=\"1\" class=\"dataframe\">\n",
              "  <thead>\n",
              "    <tr style=\"text-align: right;\">\n",
              "      <th></th>\n",
              "      <th>V1</th>\n",
              "      <th>V2</th>\n",
              "      <th>V3</th>\n",
              "      <th>V4</th>\n",
              "      <th>V5</th>\n",
              "      <th>V6</th>\n",
              "      <th>V9</th>\n",
              "      <th>V10</th>\n",
              "      <th>V11</th>\n",
              "      <th>V12</th>\n",
              "      <th>...</th>\n",
              "      <th>V106</th>\n",
              "      <th>V107</th>\n",
              "      <th>V109</th>\n",
              "      <th>V110</th>\n",
              "      <th>V111</th>\n",
              "      <th>V113</th>\n",
              "      <th>V114</th>\n",
              "      <th>V115</th>\n",
              "      <th>V117</th>\n",
              "      <th>V118</th>\n",
              "    </tr>\n",
              "  </thead>\n",
              "  <tbody>\n",
              "    <tr>\n",
              "      <th>count</th>\n",
              "      <td>34465.000000</td>\n",
              "      <td>34465.000000</td>\n",
              "      <td>34465.000000</td>\n",
              "      <td>34465.000000</td>\n",
              "      <td>34465.000000</td>\n",
              "      <td>34465.000000</td>\n",
              "      <td>34465.000000</td>\n",
              "      <td>34465.000000</td>\n",
              "      <td>34465.000000</td>\n",
              "      <td>34465.000000</td>\n",
              "      <td>...</td>\n",
              "      <td>34465.000000</td>\n",
              "      <td>34465.000000</td>\n",
              "      <td>34465.000000</td>\n",
              "      <td>34465.000000</td>\n",
              "      <td>34465.000000</td>\n",
              "      <td>34465.000000</td>\n",
              "      <td>34465.000000</td>\n",
              "      <td>34465.000000</td>\n",
              "      <td>34465.000000</td>\n",
              "      <td>34465.000000</td>\n",
              "    </tr>\n",
              "    <tr>\n",
              "      <th>mean</th>\n",
              "      <td>0.636477</td>\n",
              "      <td>0.494806</td>\n",
              "      <td>0.626273</td>\n",
              "      <td>0.560947</td>\n",
              "      <td>0.534202</td>\n",
              "      <td>0.506693</td>\n",
              "      <td>0.860946</td>\n",
              "      <td>0.821590</td>\n",
              "      <td>0.883386</td>\n",
              "      <td>0.854119</td>\n",
              "      <td>...</td>\n",
              "      <td>0.765575</td>\n",
              "      <td>0.628865</td>\n",
              "      <td>0.978679</td>\n",
              "      <td>0.607880</td>\n",
              "      <td>0.396168</td>\n",
              "      <td>0.982576</td>\n",
              "      <td>0.644336</td>\n",
              "      <td>0.438054</td>\n",
              "      <td>0.988839</td>\n",
              "      <td>0.979322</td>\n",
              "    </tr>\n",
              "    <tr>\n",
              "      <th>std</th>\n",
              "      <td>0.424382</td>\n",
              "      <td>0.380142</td>\n",
              "      <td>0.305667</td>\n",
              "      <td>0.369695</td>\n",
              "      <td>0.325744</td>\n",
              "      <td>0.372908</td>\n",
              "      <td>0.203808</td>\n",
              "      <td>0.210159</td>\n",
              "      <td>0.149473</td>\n",
              "      <td>0.181257</td>\n",
              "      <td>...</td>\n",
              "      <td>0.234591</td>\n",
              "      <td>0.346032</td>\n",
              "      <td>0.070081</td>\n",
              "      <td>0.137677</td>\n",
              "      <td>0.172149</td>\n",
              "      <td>0.064814</td>\n",
              "      <td>0.123862</td>\n",
              "      <td>0.156237</td>\n",
              "      <td>0.086640</td>\n",
              "      <td>0.084597</td>\n",
              "    </tr>\n",
              "    <tr>\n",
              "      <th>min</th>\n",
              "      <td>0.000000</td>\n",
              "      <td>0.000000</td>\n",
              "      <td>0.000000</td>\n",
              "      <td>0.000000</td>\n",
              "      <td>0.000000</td>\n",
              "      <td>0.000000</td>\n",
              "      <td>0.000000</td>\n",
              "      <td>0.000000</td>\n",
              "      <td>0.000000</td>\n",
              "      <td>0.000000</td>\n",
              "      <td>...</td>\n",
              "      <td>0.100000</td>\n",
              "      <td>0.000000</td>\n",
              "      <td>0.008755</td>\n",
              "      <td>0.000000</td>\n",
              "      <td>0.000000</td>\n",
              "      <td>0.020058</td>\n",
              "      <td>0.000000</td>\n",
              "      <td>0.000000</td>\n",
              "      <td>0.000064</td>\n",
              "      <td>0.000077</td>\n",
              "    </tr>\n",
              "    <tr>\n",
              "      <th>25%</th>\n",
              "      <td>0.000000</td>\n",
              "      <td>0.000000</td>\n",
              "      <td>0.361111</td>\n",
              "      <td>0.218750</td>\n",
              "      <td>0.240000</td>\n",
              "      <td>0.139535</td>\n",
              "      <td>0.860946</td>\n",
              "      <td>0.821590</td>\n",
              "      <td>0.883386</td>\n",
              "      <td>0.854119</td>\n",
              "      <td>...</td>\n",
              "      <td>0.600000</td>\n",
              "      <td>0.294118</td>\n",
              "      <td>0.978679</td>\n",
              "      <td>0.607880</td>\n",
              "      <td>0.357143</td>\n",
              "      <td>0.982576</td>\n",
              "      <td>0.644336</td>\n",
              "      <td>0.400000</td>\n",
              "      <td>0.999992</td>\n",
              "      <td>0.979322</td>\n",
              "    </tr>\n",
              "    <tr>\n",
              "      <th>50%</th>\n",
              "      <td>1.000000</td>\n",
              "      <td>0.500000</td>\n",
              "      <td>0.666667</td>\n",
              "      <td>0.666667</td>\n",
              "      <td>0.473684</td>\n",
              "      <td>0.478261</td>\n",
              "      <td>0.860946</td>\n",
              "      <td>0.821590</td>\n",
              "      <td>0.883386</td>\n",
              "      <td>0.854119</td>\n",
              "      <td>...</td>\n",
              "      <td>0.700000</td>\n",
              "      <td>0.466667</td>\n",
              "      <td>0.978679</td>\n",
              "      <td>0.607880</td>\n",
              "      <td>0.396168</td>\n",
              "      <td>0.982576</td>\n",
              "      <td>0.644336</td>\n",
              "      <td>0.438054</td>\n",
              "      <td>1.000000</td>\n",
              "      <td>0.979322</td>\n",
              "    </tr>\n",
              "    <tr>\n",
              "      <th>75%</th>\n",
              "      <td>1.000000</td>\n",
              "      <td>1.000000</td>\n",
              "      <td>1.000000</td>\n",
              "      <td>1.000000</td>\n",
              "      <td>0.875000</td>\n",
              "      <td>1.000000</td>\n",
              "      <td>1.000000</td>\n",
              "      <td>1.000000</td>\n",
              "      <td>1.000000</td>\n",
              "      <td>1.000000</td>\n",
              "      <td>...</td>\n",
              "      <td>1.000000</td>\n",
              "      <td>1.000000</td>\n",
              "      <td>0.999457</td>\n",
              "      <td>0.607880</td>\n",
              "      <td>0.396168</td>\n",
              "      <td>0.999653</td>\n",
              "      <td>0.644336</td>\n",
              "      <td>0.438054</td>\n",
              "      <td>1.000000</td>\n",
              "      <td>0.999999</td>\n",
              "    </tr>\n",
              "    <tr>\n",
              "      <th>max</th>\n",
              "      <td>1.000000</td>\n",
              "      <td>1.000000</td>\n",
              "      <td>1.000000</td>\n",
              "      <td>1.000000</td>\n",
              "      <td>1.000000</td>\n",
              "      <td>1.000000</td>\n",
              "      <td>1.000000</td>\n",
              "      <td>1.000000</td>\n",
              "      <td>1.000000</td>\n",
              "      <td>1.000000</td>\n",
              "      <td>...</td>\n",
              "      <td>1.000000</td>\n",
              "      <td>1.000000</td>\n",
              "      <td>1.000000</td>\n",
              "      <td>1.000000</td>\n",
              "      <td>1.000000</td>\n",
              "      <td>1.000000</td>\n",
              "      <td>1.000000</td>\n",
              "      <td>1.000000</td>\n",
              "      <td>1.000000</td>\n",
              "      <td>1.000000</td>\n",
              "    </tr>\n",
              "  </tbody>\n",
              "</table>\n",
              "<p>8 rows × 89 columns</p>\n",
              "</div>\n",
              "      <button class=\"colab-df-convert\" onclick=\"convertToInteractive('df-c1cf0799-0865-4507-a3d9-bd2aa4329c5e')\"\n",
              "              title=\"Convert this dataframe to an interactive table.\"\n",
              "              style=\"display:none;\">\n",
              "        \n",
              "  <svg xmlns=\"http://www.w3.org/2000/svg\" height=\"24px\"viewBox=\"0 0 24 24\"\n",
              "       width=\"24px\">\n",
              "    <path d=\"M0 0h24v24H0V0z\" fill=\"none\"/>\n",
              "    <path d=\"M18.56 5.44l.94 2.06.94-2.06 2.06-.94-2.06-.94-.94-2.06-.94 2.06-2.06.94zm-11 1L8.5 8.5l.94-2.06 2.06-.94-2.06-.94L8.5 2.5l-.94 2.06-2.06.94zm10 10l.94 2.06.94-2.06 2.06-.94-2.06-.94-.94-2.06-.94 2.06-2.06.94z\"/><path d=\"M17.41 7.96l-1.37-1.37c-.4-.4-.92-.59-1.43-.59-.52 0-1.04.2-1.43.59L10.3 9.45l-7.72 7.72c-.78.78-.78 2.05 0 2.83L4 21.41c.39.39.9.59 1.41.59.51 0 1.02-.2 1.41-.59l7.78-7.78 2.81-2.81c.8-.78.8-2.07 0-2.86zM5.41 20L4 18.59l7.72-7.72 1.47 1.35L5.41 20z\"/>\n",
              "  </svg>\n",
              "      </button>\n",
              "      \n",
              "  <style>\n",
              "    .colab-df-container {\n",
              "      display:flex;\n",
              "      flex-wrap:wrap;\n",
              "      gap: 12px;\n",
              "    }\n",
              "\n",
              "    .colab-df-convert {\n",
              "      background-color: #E8F0FE;\n",
              "      border: none;\n",
              "      border-radius: 50%;\n",
              "      cursor: pointer;\n",
              "      display: none;\n",
              "      fill: #1967D2;\n",
              "      height: 32px;\n",
              "      padding: 0 0 0 0;\n",
              "      width: 32px;\n",
              "    }\n",
              "\n",
              "    .colab-df-convert:hover {\n",
              "      background-color: #E2EBFA;\n",
              "      box-shadow: 0px 1px 2px rgba(60, 64, 67, 0.3), 0px 1px 3px 1px rgba(60, 64, 67, 0.15);\n",
              "      fill: #174EA6;\n",
              "    }\n",
              "\n",
              "    [theme=dark] .colab-df-convert {\n",
              "      background-color: #3B4455;\n",
              "      fill: #D2E3FC;\n",
              "    }\n",
              "\n",
              "    [theme=dark] .colab-df-convert:hover {\n",
              "      background-color: #434B5C;\n",
              "      box-shadow: 0px 1px 3px 1px rgba(0, 0, 0, 0.15);\n",
              "      filter: drop-shadow(0px 1px 2px rgba(0, 0, 0, 0.3));\n",
              "      fill: #FFFFFF;\n",
              "    }\n",
              "  </style>\n",
              "\n",
              "      <script>\n",
              "        const buttonEl =\n",
              "          document.querySelector('#df-c1cf0799-0865-4507-a3d9-bd2aa4329c5e button.colab-df-convert');\n",
              "        buttonEl.style.display =\n",
              "          google.colab.kernel.accessAllowed ? 'block' : 'none';\n",
              "\n",
              "        async function convertToInteractive(key) {\n",
              "          const element = document.querySelector('#df-c1cf0799-0865-4507-a3d9-bd2aa4329c5e');\n",
              "          const dataTable =\n",
              "            await google.colab.kernel.invokeFunction('convertToInteractive',\n",
              "                                                     [key], {});\n",
              "          if (!dataTable) return;\n",
              "\n",
              "          const docLinkHtml = 'Like what you see? Visit the ' +\n",
              "            '<a target=\"_blank\" href=https://colab.research.google.com/notebooks/data_table.ipynb>data table notebook</a>'\n",
              "            + ' to learn more about interactive tables.';\n",
              "          element.innerHTML = '';\n",
              "          dataTable['output_type'] = 'display_data';\n",
              "          await google.colab.output.renderOutput(dataTable, element);\n",
              "          const docLink = document.createElement('div');\n",
              "          docLink.innerHTML = docLinkHtml;\n",
              "          element.appendChild(docLink);\n",
              "        }\n",
              "      </script>\n",
              "    </div>\n",
              "  </div>\n",
              "  "
            ],
            "text/plain": [
              "                 V1            V2            V3            V4            V5  \\\n",
              "count  34465.000000  34465.000000  34465.000000  34465.000000  34465.000000   \n",
              "mean       0.636477      0.494806      0.626273      0.560947      0.534202   \n",
              "std        0.424382      0.380142      0.305667      0.369695      0.325744   \n",
              "min        0.000000      0.000000      0.000000      0.000000      0.000000   \n",
              "25%        0.000000      0.000000      0.361111      0.218750      0.240000   \n",
              "50%        1.000000      0.500000      0.666667      0.666667      0.473684   \n",
              "75%        1.000000      1.000000      1.000000      1.000000      0.875000   \n",
              "max        1.000000      1.000000      1.000000      1.000000      1.000000   \n",
              "\n",
              "                 V6            V9           V10           V11           V12  \\\n",
              "count  34465.000000  34465.000000  34465.000000  34465.000000  34465.000000   \n",
              "mean       0.506693      0.860946      0.821590      0.883386      0.854119   \n",
              "std        0.372908      0.203808      0.210159      0.149473      0.181257   \n",
              "min        0.000000      0.000000      0.000000      0.000000      0.000000   \n",
              "25%        0.139535      0.860946      0.821590      0.883386      0.854119   \n",
              "50%        0.478261      0.860946      0.821590      0.883386      0.854119   \n",
              "75%        1.000000      1.000000      1.000000      1.000000      1.000000   \n",
              "max        1.000000      1.000000      1.000000      1.000000      1.000000   \n",
              "\n",
              "       ...          V106          V107          V109          V110  \\\n",
              "count  ...  34465.000000  34465.000000  34465.000000  34465.000000   \n",
              "mean   ...      0.765575      0.628865      0.978679      0.607880   \n",
              "std    ...      0.234591      0.346032      0.070081      0.137677   \n",
              "min    ...      0.100000      0.000000      0.008755      0.000000   \n",
              "25%    ...      0.600000      0.294118      0.978679      0.607880   \n",
              "50%    ...      0.700000      0.466667      0.978679      0.607880   \n",
              "75%    ...      1.000000      1.000000      0.999457      0.607880   \n",
              "max    ...      1.000000      1.000000      1.000000      1.000000   \n",
              "\n",
              "               V111          V113          V114          V115          V117  \\\n",
              "count  34465.000000  34465.000000  34465.000000  34465.000000  34465.000000   \n",
              "mean       0.396168      0.982576      0.644336      0.438054      0.988839   \n",
              "std        0.172149      0.064814      0.123862      0.156237      0.086640   \n",
              "min        0.000000      0.020058      0.000000      0.000000      0.000064   \n",
              "25%        0.357143      0.982576      0.644336      0.400000      0.999992   \n",
              "50%        0.396168      0.982576      0.644336      0.438054      1.000000   \n",
              "75%        0.396168      0.999653      0.644336      0.438054      1.000000   \n",
              "max        1.000000      1.000000      1.000000      1.000000      1.000000   \n",
              "\n",
              "               V118  \n",
              "count  34465.000000  \n",
              "mean       0.979322  \n",
              "std        0.084597  \n",
              "min        0.000077  \n",
              "25%        0.979322  \n",
              "50%        0.979322  \n",
              "75%        0.999999  \n",
              "max        1.000000  \n",
              "\n",
              "[8 rows x 89 columns]"
            ]
          },
          "execution_count": 3,
          "metadata": {},
          "output_type": "execute_result"
        }
      ],
      "source": [
        "df.describe()"
      ],
      "id": "637387a6"
    },
    {
      "cell_type": "code",
      "execution_count": null,
      "metadata": {
        "colab": {
          "base_uri": "https://localhost:8080/"
        },
        "id": "e4dec66e",
        "outputId": "00379d30-a839-457d-8e6e-e7ca476e7e04"
      },
      "outputs": [
        {
          "name": "stdout",
          "output_type": "stream",
          "text": [
            "<class 'pandas.core.frame.DataFrame'>\n",
            "RangeIndex: 34465 entries, 0 to 34464\n",
            "Columns: 119 entries, V1 to Class\n",
            "dtypes: float64(89), object(30)\n",
            "memory usage: 31.3+ MB\n"
          ]
        }
      ],
      "source": [
        "df.info()"
      ],
      "id": "e4dec66e"
    },
    {
      "cell_type": "code",
      "execution_count": null,
      "metadata": {
        "colab": {
          "base_uri": "https://localhost:8080/"
        },
        "id": "7cba6760",
        "outputId": "aad3b183-3085-4c2b-b7d7-6502b2acbc1e"
      },
      "outputs": [
        {
          "name": "stdout",
          "output_type": "stream",
          "text": [
            "       Total  Percent\n",
            "V1         0      0.0\n",
            "V76        0      0.0\n",
            "V88        0      0.0\n",
            "V87        0      0.0\n",
            "V86        0      0.0\n",
            "...      ...      ...\n",
            "V36        0      0.0\n",
            "V35        0      0.0\n",
            "V34        0      0.0\n",
            "V33        0      0.0\n",
            "Class      0      0.0\n",
            "\n",
            "[119 rows x 2 columns]\n"
          ]
        }
      ],
      "source": [
        "total = df.isnull().sum().sort_values(ascending = False)\n",
        "percent = (df.isnull().sum() / df.isnull().count()).sort_values(ascending = False)\n",
        "missing_data = pd.concat([total, percent], axis = 1, keys = ['Total', 'Percent'])\n",
        "print(missing_data)"
      ],
      "id": "7cba6760"
    },
    {
      "cell_type": "code",
      "execution_count": null,
      "metadata": {
        "colab": {
          "base_uri": "https://localhost:8080/"
        },
        "id": "MhgHJQixfHy-",
        "outputId": "3c42a8fe-0cf7-44c1-b6f6-705660f728af"
      },
      "outputs": [
        {
          "name": "stdout",
          "output_type": "stream",
          "text": [
            "Variables with missing values: []\n",
            "Number of missing values per variable: V1       0\n",
            "V2       0\n",
            "V3       0\n",
            "V4       0\n",
            "V5       0\n",
            "        ..\n",
            "V115     0\n",
            "V116     0\n",
            "V117     0\n",
            "V118     0\n",
            "Class    0\n",
            "Length: 119, dtype: int64\n"
          ]
        }
      ],
      "source": [
        "# find which variables have missing values\n",
        "has_missing = df.eq('?').any()\n",
        "\n",
        "# count the number of missing values in each variable\n",
        "missing_counts = df.eq('?').sum()\n",
        "\n",
        "# print the results\n",
        "print('Variables with missing values:', has_missing[has_missing].index.tolist())\n",
        "print('Number of missing values per variable:', missing_counts)"
      ],
      "id": "MhgHJQixfHy-"
    },
    {
      "cell_type": "markdown",
      "metadata": {
        "id": "N5p9dn8RfQT7"
      },
      "source": [
        "Altough the data set information say that missing data is allowed and denoted as '?', we have checked that there's none."
      ],
      "id": "N5p9dn8RfQT7"
    },
    {
      "cell_type": "code",
      "execution_count": null,
      "metadata": {
        "colab": {
          "base_uri": "https://localhost:8080/",
          "height": 1000
        },
        "id": "b855d9f9",
        "outputId": "2306e412-8e3c-465d-977a-6108fd71d5e5"
      },
      "outputs": [
        {
          "data": {
            "text/plain": [
              "V7       2\n",
              "V8       2\n",
              "V15      3\n",
              "V16      3\n",
              "V23      3\n",
              "V24      3\n",
              "V31      3\n",
              "V32      3\n",
              "V39      3\n",
              "V40      3\n",
              "V47      3\n",
              "V48      3\n",
              "V55      3\n",
              "V56      3\n",
              "V63      3\n",
              "V64      3\n",
              "V71      3\n",
              "V72      3\n",
              "V79      3\n",
              "V80      3\n",
              "V87      3\n",
              "V88      3\n",
              "V92      3\n",
              "V96      3\n",
              "V100     3\n",
              "V104     3\n",
              "V108     3\n",
              "V112     3\n",
              "V116     3\n",
              "Class    2\n",
              "dtype: int64"
            ]
          },
          "execution_count": 3,
          "metadata": {},
          "output_type": "execute_result"
        },
        {
          "data": {
            "image/png": "[encoded data removed]",
            "text/plain": [
              "<Figure size 1200x600 with 1 Axes>"
            ]
          },
          "metadata": {},
          "output_type": "display_data"
        }
      ],
      "source": [
        "availo=df.select_dtypes(include='object')\n",
        "availo.nunique().plot.bar(figsize=(12,6))\n",
        "availo.nunique()"
      ],
      "id": "b855d9f9"
    },
    {
      "cell_type": "markdown",
      "metadata": {
        "id": "lxrXBzipfeGW"
      },
      "source": [
        "Due to all levels are integers, for instance, 1,2,3 or 1,2, it is used the analogous process to electricity preprocess."
      ],
      "id": "lxrXBzipfeGW"
    },
    {
      "cell_type": "code",
      "execution_count": null,
      "metadata": {
        "id": "JQ8UNRyt1an7"
      },
      "outputs": [],
      "source": [
        "df[list(availo.columns)[:-1]]=df[list(availo.columns)[:-1]].astype(int)"
      ],
      "id": "JQ8UNRyt1an7"
    },
    {
      "cell_type": "markdown",
      "metadata": {
        "id": "SSP4Rc_HfrgN"
      },
      "source": [
        "Other option is threat each categorical variable as factor, but computational cost will increase a lot because number of variables considerably grow up after applying dummy vars."
      ],
      "id": "SSP4Rc_HfrgN"
    },
    {
      "cell_type": "code",
      "execution_count": null,
      "metadata": {
        "colab": {
          "base_uri": "https://localhost:8080/"
        },
        "id": "9a319266",
        "outputId": "37dbaf04-2726-4182-a4f7-37a21654031e"
      },
      "outputs": [
        {
          "name": "stdout",
          "output_type": "stream",
          "text": [
            "b'2'    24621\n",
            "b'1'     9844\n",
            "Name: Class, dtype: int64\n"
          ]
        }
      ],
      "source": [
        "print(pd.value_counts(df['Class'], sort = True))"
      ],
      "id": "9a319266"
    },
    {
      "cell_type": "markdown",
      "metadata": {
        "id": "de79982f"
      },
      "source": [
        "No missing values. Unbalanced. Clean data set. Lets define the proprocessor pipelines."
      ],
      "id": "de79982f"
    },
    {
      "cell_type": "code",
      "execution_count": null,
      "metadata": {
        "id": "b0762136"
      },
      "outputs": [],
      "source": [
        "from sklearn.impute import SimpleImputer\n",
        "from sklearn.impute import KNNImputer\n",
        "from sklearn.pipeline import Pipeline\n",
        "from sklearn.compose import ColumnTransformer\n",
        "from sklearn.linear_model import LogisticRegression\n",
        "from sklearn.preprocessing import OneHotEncoder\n",
        "from sklearn.preprocessing import StandardScaler\n",
        "from sklearn.preprocessing import MinMaxScaler\n",
        "\n",
        "numeric_features=list(df.columns)[:-1]\n",
        "\n",
        "\n",
        "numeric_transformer1=Pipeline(steps=[('scaler1',MinMaxScaler())])\n",
        "preprocessor1=ColumnTransformer(transformers=[('num',numeric_transformer1,numeric_features)])\n"
      ],
      "id": "b0762136"
    },
    {
      "cell_type": "code",
      "execution_count": null,
      "metadata": {
        "id": "df5b94ee"
      },
      "outputs": [],
      "source": [
        "xtrain = df.drop(['Class'],axis=1)\n",
        "ytrain = df.loc[:,'Class']"
      ],
      "id": "df5b94ee"
    },
    {
      "cell_type": "code",
      "execution_count": null,
      "metadata": {
        "id": "5ebe6422"
      },
      "outputs": [],
      "source": [
        "from sklearn import preprocessing\n",
        "label_encoder = preprocessing.LabelEncoder()\n",
        "ytrain = label_encoder.fit_transform(ytrain)"
      ],
      "id": "5ebe6422"
    },
    {
      "cell_type": "code",
      "execution_count": null,
      "metadata": {
        "colab": {
          "base_uri": "https://localhost:8080/"
        },
        "id": "8622bae5",
        "outputId": "c36afe9a-a457-4905-9634-db7f415e9e6c"
      },
      "outputs": [
        {
          "name": "stdout",
          "output_type": "stream",
          "text": [
            "(23091, 118) (23091,)\n",
            "(11374, 118) (11374,)\n"
          ]
        }
      ],
      "source": [
        "from sklearn.model_selection import train_test_split\n",
        "from sklearn import preprocessing\n",
        "X_train, X_test, y_train, y_test = train_test_split(xtrain,ytrain, test_size=0.33, random_state=33,stratify=ytrain)\n",
        "print(X_train.shape, y_train.shape)\n",
        "print(X_test.shape, y_test.shape)"
      ],
      "id": "8622bae5"
    },
    {
      "cell_type": "markdown",
      "metadata": {
        "id": "dd33d396"
      },
      "source": [
        "## Default Parameters"
      ],
      "id": "dd33d396"
    },
    {
      "cell_type": "markdown",
      "metadata": {
        "id": "blpzElBOcyoe"
      },
      "source": [
        "The following four algorithms will follow the next scheme. Compute the accuracy with default parameters. the selected metric is balanced_accuracy because the data set is unbalanced and offers better results than F1."
      ],
      "id": "blpzElBOcyoe"
    },
    {
      "cell_type": "markdown",
      "metadata": {
        "id": "67725c59"
      },
      "source": [
        "### Extremely Randomized Trees"
      ],
      "id": "67725c59"
    },
    {
      "cell_type": "code",
      "execution_count": null,
      "metadata": {
        "id": "nB6lvV4zS9nP"
      },
      "outputs": [],
      "source": [
        "import time\n",
        "from sklearn import metrics\n",
        "from sklearn import tree\n",
        "from sklearn.model_selection import cross_val_score, KFold\n",
        "from sklearn.ensemble import ExtraTreesClassifier\n",
        "from sklearn.model_selection import StratifiedKFold\n",
        "def default_hp(classif, X_train, y_train, X_test, y_test):\n",
        "  inicio = time.time()\n",
        "  np.random.seed(NIA)\n",
        "  classif.fit(X_train, y_train)\n",
        "  y_hat=classif.predict(X_test)\n",
        "  bac = metrics.balanced_accuracy_score(y_test, y_hat)\n",
        "  print(f\"Accuracy: {bac}\")\n",
        "  fin=time.time()\n",
        "  print('time',fin-inicio)\n",
        "  return((bac , fin-inicio))"
      ],
      "id": "nB6lvV4zS9nP"
    },
    {
      "cell_type": "code",
      "execution_count": null,
      "metadata": {
        "colab": {
          "base_uri": "https://localhost:8080/"
        },
        "id": "9pWFvxpdT7bL",
        "outputId": "9bfc2004-02b0-41c8-e490-bae668df1627"
      },
      "outputs": [
        {
          "name": "stdout",
          "output_type": "stream",
          "text": [
            "Accuracy: 0.9537436655065463\n",
            "time 7.868129014968872\n"
          ]
        }
      ],
      "source": [
        "rs=NIA\n",
        "clf = ExtraTreesClassifier(random_state=rs)\n",
        "classif=Pipeline([('clf',clf)])\n",
        "(bac1, tiempo1)=default_hp(classif, X_train, y_train, X_test, y_test)"
      ],
      "id": "9pWFvxpdT7bL"
    },
    {
      "cell_type": "markdown",
      "metadata": {
        "id": "c0749942"
      },
      "source": [
        "### Support Vector Machines"
      ],
      "id": "c0749942"
    },
    {
      "cell_type": "code",
      "execution_count": null,
      "metadata": {
        "colab": {
          "base_uri": "https://localhost:8080/"
        },
        "id": "75MlDMcqUsKq",
        "outputId": "c4a75fb2-1021-4c46-930a-043cdcbdeec5"
      },
      "outputs": [
        {
          "name": "stdout",
          "output_type": "stream",
          "text": [
            "Accuracy: 0.9432483746478206\n",
            "time 16.514610528945923\n"
          ]
        }
      ],
      "source": [
        "from sklearn import svm\n",
        "rs=NIA\n",
        "svmc = svm.SVC(random_state=rs)\n",
        "classif=Pipeline([('preprocessor',preprocessor1),('svmc',svmc)])\n",
        "(bac2, tiempo2)=default_hp(classif, X_train, y_train, X_test, y_test)"
      ],
      "id": "75MlDMcqUsKq"
    },
    {
      "cell_type": "markdown",
      "metadata": {
        "id": "6a5ee3dd"
      },
      "source": [
        "### Hist Grading Boosting"
      ],
      "id": "6a5ee3dd"
    },
    {
      "cell_type": "code",
      "execution_count": null,
      "metadata": {
        "colab": {
          "base_uri": "https://localhost:8080/"
        },
        "id": "qoqlc4jUU5ob",
        "outputId": "9ad38496-d612-40e5-84a8-9db36e2e1b03"
      },
      "outputs": [
        {
          "name": "stdout",
          "output_type": "stream",
          "text": [
            "Accuracy: 0.9588529677770674\n",
            "time 4.83767557144165\n"
          ]
        }
      ],
      "source": [
        "from sklearn.ensemble import HistGradientBoostingClassifier\n",
        "rs=NIA\n",
        "hgb = HistGradientBoostingClassifier(random_state=rs)\n",
        "classif=Pipeline([('hgb',hgb)])\n",
        "(bac3, tiempo3)=default_hp(classif, X_train, y_train, X_test, y_test)\n"
      ],
      "id": "qoqlc4jUU5ob"
    },
    {
      "cell_type": "markdown",
      "metadata": {
        "id": "45aaed69"
      },
      "source": [
        "### XGBoost (XGB Classifier)"
      ],
      "id": "45aaed69"
    },
    {
      "cell_type": "code",
      "execution_count": null,
      "metadata": {
        "colab": {
          "base_uri": "https://localhost:8080/"
        },
        "id": "e1fc3a77",
        "outputId": "105eed78-292b-4320-f08d-76a727680f1b"
      },
      "outputs": [
        {
          "name": "stdout",
          "output_type": "stream",
          "text": [
            "Looking in indexes: https://pypi.org/simple, https://us-python.pkg.dev/colab-wheels/public/simple/\n",
            "Requirement already satisfied: xgboost in /usr/local/lib/python3.10/dist-packages (1.7.5)\n",
            "Requirement already satisfied: numpy in /usr/local/lib/python3.10/dist-packages (from xgboost) (1.22.4)\n",
            "Requirement already satisfied: scipy in /usr/local/lib/python3.10/dist-packages (from xgboost) (1.10.1)\n"
          ]
        }
      ],
      "source": [
        "!pip install xgboost\n",
        "import xgboost as xgb"
      ],
      "id": "e1fc3a77"
    },
    {
      "cell_type": "code",
      "execution_count": null,
      "metadata": {
        "colab": {
          "base_uri": "https://localhost:8080/"
        },
        "id": "O3syAlRHTLvB",
        "outputId": "48b5662f-926e-4100-a0b3-e5c1ff31c8d8"
      },
      "outputs": [
        {
          "name": "stdout",
          "output_type": "stream",
          "text": [
            "Accuracy: 0.9634690153183227\n",
            "time 33.11443471908569\n"
          ]
        }
      ],
      "source": [
        "rs=NIA\n",
        "xgbc = xgb.XGBClassifier(random_state=rs)\n",
        "classif=Pipeline([('xgb',xgbc)])\n",
        "(bac4, tiempo4)=default_hp(classif, X_train, y_train, X_test, y_test)"
      ],
      "id": "O3syAlRHTLvB"
    },
    {
      "cell_type": "markdown",
      "metadata": {
        "id": "b21df310"
      },
      "source": [
        "## Hyper-Parameter tunning"
      ],
      "id": "b21df310"
    },
    {
      "cell_type": "markdown",
      "metadata": {
        "id": "069eb2d5"
      },
      "source": [
        "### Extremely Randomized Trees"
      ],
      "id": "069eb2d5"
    },
    {
      "cell_type": "code",
      "execution_count": null,
      "metadata": {
        "colab": {
          "base_uri": "https://localhost:8080/"
        },
        "id": "83c43f0f",
        "outputId": "6311f4bd-e6fe-4884-8417-7c6580c847dd"
      },
      "outputs": [
        {
          "name": "stdout",
          "output_type": "stream",
          "text": [
            "Looking in indexes: https://pypi.org/simple, https://us-python.pkg.dev/colab-wheels/public/simple/\n",
            "Collecting optuna\n",
            "  Downloading optuna-3.2.0-py3-none-any.whl (390 kB)\n",
            "\u001b[2K     \u001b[90m━━━━━━━━━━━━━━━━━━━━━━━━━━━━━━━━━━━━━━\u001b[0m \u001b[32m390.6/390.6 kB\u001b[0m \u001b[31m26.5 MB/s\u001b[0m eta \u001b[36m0:00:00\u001b[0m\n",
            "\u001b[?25hCollecting alembic>=1.5.0 (from optuna)\n",
            "  Downloading alembic-1.11.1-py3-none-any.whl (224 kB)\n",
            "\u001b[2K     \u001b[90m━━━━━━━━━━━━━━━━━━━━━━━━━━━━━━━━━━━━━━\u001b[0m \u001b[32m224.5/224.5 kB\u001b[0m \u001b[31m21.4 MB/s\u001b[0m eta \u001b[36m0:00:00\u001b[0m\n",
            "\u001b[?25hCollecting cmaes>=0.9.1 (from optuna)\n",
            "  Downloading cmaes-0.9.1-py3-none-any.whl (21 kB)\n",
            "Collecting colorlog (from optuna)\n",
            "  Downloading colorlog-6.7.0-py2.py3-none-any.whl (11 kB)\n",
            "Requirement already satisfied: numpy in /usr/local/lib/python3.10/dist-packages (from optuna) (1.22.4)\n",
            "Requirement already satisfied: packaging>=20.0 in /usr/local/lib/python3.10/dist-packages (from optuna) (23.1)\n",
            "Requirement already satisfied: sqlalchemy>=1.3.0 in /usr/local/lib/python3.10/dist-packages (from optuna) (2.0.10)\n",
            "Requirement already satisfied: tqdm in /usr/local/lib/python3.10/dist-packages (from optuna) (4.65.0)\n",
            "Requirement already satisfied: PyYAML in /usr/local/lib/python3.10/dist-packages (from optuna) (6.0)\n",
            "Collecting Mako (from alembic>=1.5.0->optuna)\n",
            "  Downloading Mako-1.2.4-py3-none-any.whl (78 kB)\n",
            "\u001b[2K     \u001b[90m━━━━━━━━━━━━━━━━━━━━━━━━━━━━━━━━━━━━━━━━\u001b[0m \u001b[32m78.7/78.7 kB\u001b[0m \u001b[31m7.0 MB/s\u001b[0m eta \u001b[36m0:00:00\u001b[0m\n",
            "\u001b[?25hRequirement already satisfied: typing-extensions>=4 in /usr/local/lib/python3.10/dist-packages (from alembic>=1.5.0->optuna) (4.5.0)\n",
            "Requirement already satisfied: greenlet!=0.4.17 in /usr/local/lib/python3.10/dist-packages (from sqlalchemy>=1.3.0->optuna) (2.0.2)\n",
            "Requirement already satisfied: MarkupSafe>=0.9.2 in /usr/local/lib/python3.10/dist-packages (from Mako->alembic>=1.5.0->optuna) (2.1.2)\n",
            "Installing collected packages: Mako, colorlog, cmaes, alembic, optuna\n",
            "Successfully installed Mako-1.2.4 alembic-1.11.1 cmaes-0.9.1 colorlog-6.7.0 optuna-3.2.0\n"
          ]
        }
      ],
      "source": [
        "pip install optuna"
      ],
      "id": "83c43f0f"
    },
    {
      "cell_type": "code",
      "execution_count": null,
      "metadata": {
        "colab": {
          "base_uri": "https://localhost:8080/"
        },
        "id": "6fe7d1ba",
        "outputId": "ed86da92-bec7-4fc9-8df7-3ce5e6b87769"
      },
      "outputs": [
        {
          "name": "stderr",
          "output_type": "stream",
          "text": [
            "\u001b[32m[I 2023-04-30 14:12:48,876]\u001b[0m A new study created in memory with name: no-name-fbce59f6-25ec-4bd5-aa26-373fc9f766f2\u001b[0m\n",
            "\u001b[32m[I 2023-04-30 14:13:11,095]\u001b[0m Trial 0 finished with value: 0.933459055828064 and parameters: {'rf__max_features': 0.29973807911566597, 'rf__max_depth': 20, 'rf__min_samples_leaf': 37}. Best is trial 0 with value: 0.933459055828064.\u001b[0m\n",
            "\u001b[32m[I 2023-04-30 14:13:45,977]\u001b[0m Trial 1 finished with value: 0.9404635289587949 and parameters: {'rf__max_features': 0.3194352232657748, 'rf__max_depth': 23, 'rf__min_samples_leaf': 16}. Best is trial 1 with value: 0.9404635289587949.\u001b[0m\n",
            "\u001b[32m[I 2023-04-30 14:14:02,636]\u001b[0m Trial 2 finished with value: 0.9344298433206827 and parameters: {'rf__max_features': 0.5164749682261014, 'rf__max_depth': 16, 'rf__min_samples_leaf': 33}. Best is trial 1 with value: 0.9404635289587949.\u001b[0m\n",
            "\u001b[32m[I 2023-04-30 14:14:20,629]\u001b[0m Trial 3 finished with value: 0.9360215738602463 and parameters: {'rf__max_features': 0.5372613545342911, 'rf__max_depth': 22, 'rf__min_samples_leaf': 28}. Best is trial 1 with value: 0.9404635289587949.\u001b[0m\n",
            "\u001b[32m[I 2023-04-30 14:14:42,826]\u001b[0m Trial 4 finished with value: 0.9307304915539433 and parameters: {'rf__max_features': 0.7914448741387982, 'rf__max_depth': 9, 'rf__min_samples_leaf': 56}. Best is trial 1 with value: 0.9404635289587949.\u001b[0m\n",
            "\u001b[32m[I 2023-04-30 14:15:05,438]\u001b[0m Trial 5 finished with value: 0.9521527757080098 and parameters: {'rf__max_features': 0.5390875337856889, 'rf__max_depth': 26, 'rf__min_samples_leaf': 4}. Best is trial 5 with value: 0.9521527757080098.\u001b[0m\n",
            "\u001b[32m[I 2023-04-30 14:15:28,564]\u001b[0m Trial 6 finished with value: 0.9340357923009773 and parameters: {'rf__max_features': 0.7737234608585386, 'rf__max_depth': 9, 'rf__min_samples_leaf': 34}. Best is trial 5 with value: 0.9521527757080098.\u001b[0m\n",
            "\u001b[32m[I 2023-04-30 14:15:39,294]\u001b[0m Trial 7 finished with value: 0.9309121084330728 and parameters: {'rf__max_features': 0.33901020417241734, 'rf__max_depth': 15, 'rf__min_samples_leaf': 52}. Best is trial 5 with value: 0.9521527757080098.\u001b[0m\n",
            "\u001b[32m[I 2023-04-30 14:16:12,246]\u001b[0m Trial 8 finished with value: 0.9370831656823991 and parameters: {'rf__max_features': 0.9595110131458804, 'rf__max_depth': 12, 'rf__min_samples_leaf': 28}. Best is trial 5 with value: 0.9521527757080098.\u001b[0m\n",
            "\u001b[32m[I 2023-04-30 14:16:30,897]\u001b[0m Trial 9 finished with value: 0.930366586380583 and parameters: {'rf__max_features': 0.6417078004074594, 'rf__max_depth': 29, 'rf__min_samples_leaf': 60}. Best is trial 5 with value: 0.9521527757080098.\u001b[0m\n",
            "\u001b[32m[I 2023-04-30 14:16:40,199]\u001b[0m Trial 10 finished with value: 0.9565034865780869 and parameters: {'rf__max_features': 0.15958444601459376, 'rf__max_depth': 39, 'rf__min_samples_leaf': 1}. Best is trial 10 with value: 0.9565034865780869.\u001b[0m\n",
            "\u001b[32m[I 2023-04-30 14:16:46,353]\u001b[0m Trial 11 finished with value: 0.9542292636701761 and parameters: {'rf__max_features': 0.11743855855395646, 'rf__max_depth': 39, 'rf__min_samples_leaf': 2}. Best is trial 10 with value: 0.9565034865780869.\u001b[0m\n",
            "\u001b[32m[I 2023-04-30 14:16:53,597]\u001b[0m Trial 12 finished with value: 0.9488014027724305 and parameters: {'rf__max_features': 0.10640138590113417, 'rf__max_depth': 36, 'rf__min_samples_leaf': 4}. Best is trial 10 with value: 0.9565034865780869.\u001b[0m\n",
            "\u001b[32m[I 2023-04-30 14:16:59,074]\u001b[0m Trial 13 finished with value: 0.9387035722063933 and parameters: {'rf__max_features': 0.122599502801778, 'rf__max_depth': 40, 'rf__min_samples_leaf': 14}. Best is trial 10 with value: 0.9565034865780869.\u001b[0m\n",
            "\u001b[32m[I 2023-04-30 14:17:08,782]\u001b[0m Trial 14 finished with value: 0.9405691124353642 and parameters: {'rf__max_features': 0.21456591308636577, 'rf__max_depth': 33, 'rf__min_samples_leaf': 15}. Best is trial 10 with value: 0.9565034865780869.\u001b[0m\n",
            "\u001b[32m[I 2023-04-30 14:17:19,027]\u001b[0m Trial 15 finished with value: 0.9561548984375289 and parameters: {'rf__max_features': 0.20170220752748486, 'rf__max_depth': 40, 'rf__min_samples_leaf': 2}. Best is trial 10 with value: 0.9565034865780869.\u001b[0m\n",
            "\u001b[32m[I 2023-04-30 14:17:34,166]\u001b[0m Trial 16 finished with value: 0.9456025748359768 and parameters: {'rf__max_features': 0.40206783017200953, 'rf__max_depth': 33, 'rf__min_samples_leaf': 11}. Best is trial 10 with value: 0.9565034865780869.\u001b[0m\n",
            "\u001b[32m[I 2023-04-30 14:17:42,025]\u001b[0m Trial 17 finished with value: 0.9365515500335512 and parameters: {'rf__max_features': 0.2171833425693863, 'rf__max_depth': 30, 'rf__min_samples_leaf': 22}. Best is trial 10 with value: 0.9565034865780869.\u001b[0m\n",
            "\u001b[32m[I 2023-04-30 14:17:51,065]\u001b[0m Trial 18 finished with value: 0.9318363534095379 and parameters: {'rf__max_features': 0.23898845808251, 'rf__max_depth': 36, 'rf__min_samples_leaf': 45}. Best is trial 10 with value: 0.9565034865780869.\u001b[0m\n",
            "\u001b[32m[I 2023-04-30 14:18:07,281]\u001b[0m Trial 19 finished with value: 0.9466944958508123 and parameters: {'rf__max_features': 0.4132101522338594, 'rf__max_depth': 36, 'rf__min_samples_leaf': 9}. Best is trial 10 with value: 0.9565034865780869.\u001b[0m\n",
            "\u001b[32m[I 2023-04-30 14:18:15,615]\u001b[0m Trial 20 finished with value: 0.9364300276326109 and parameters: {'rf__max_features': 0.1746087543379175, 'rf__max_depth': 40, 'rf__min_samples_leaf': 21}. Best is trial 10 with value: 0.9565034865780869.\u001b[0m\n",
            "\u001b[32m[I 2023-04-30 14:18:21,808]\u001b[0m Trial 21 finished with value: 0.9569581519271221 and parameters: {'rf__max_features': 0.1042004033073586, 'rf__max_depth': 39, 'rf__min_samples_leaf': 1}. Best is trial 21 with value: 0.9569581519271221.\u001b[0m\n",
            "\u001b[32m[I 2023-04-30 14:18:31,453]\u001b[0m Trial 22 finished with value: 0.9552908209649088 and parameters: {'rf__max_features': 0.17778857832481168, 'rf__max_depth': 33, 'rf__min_samples_leaf': 2}. Best is trial 21 with value: 0.9569581519271221.\u001b[0m\n",
            "\u001b[32m[I 2023-04-30 14:18:36,979]\u001b[0m Trial 23 finished with value: 0.9418419166805907 and parameters: {'rf__max_features': 0.10458818470695244, 'rf__max_depth': 37, 'rf__min_samples_leaf': 9}. Best is trial 21 with value: 0.9569581519271221.\u001b[0m\n",
            "\u001b[32m[I 2023-04-30 14:18:47,837]\u001b[0m Trial 24 finished with value: 0.9474371888440464 and parameters: {'rf__max_features': 0.2562574378178398, 'rf__max_depth': 30, 'rf__min_samples_leaf': 7}. Best is trial 21 with value: 0.9569581519271221.\u001b[0m\n",
            "\u001b[32m[I 2023-04-30 14:18:58,248]\u001b[0m Trial 25 finished with value: 0.95721606544716 and parameters: {'rf__max_features': 0.17813844452878497, 'rf__max_depth': 38, 'rf__min_samples_leaf': 1}. Best is trial 25 with value: 0.95721606544716.\u001b[0m\n",
            "\u001b[32m[I 2023-04-30 14:19:09,549]\u001b[0m Trial 26 finished with value: 0.9374158591051177 and parameters: {'rf__max_features': 0.28081360450329096, 'rf__max_depth': 34, 'rf__min_samples_leaf': 21}. Best is trial 25 with value: 0.95721606544716.\u001b[0m\n",
            "\u001b[32m[I 2023-04-30 14:19:17,015]\u001b[0m Trial 27 finished with value: 0.9450868374121745 and parameters: {'rf__max_features': 0.16433544014517584, 'rf__max_depth': 26, 'rf__min_samples_leaf': 8}. Best is trial 25 with value: 0.95721606544716.\u001b[0m\n",
            "\u001b[32m[I 2023-04-30 14:19:31,324]\u001b[0m Trial 28 finished with value: 0.9424644620133981 and parameters: {'rf__max_features': 0.3657032553405685, 'rf__max_depth': 38, 'rf__min_samples_leaf': 13}. Best is trial 25 with value: 0.95721606544716.\u001b[0m\n",
            "\u001b[32m[I 2023-04-30 14:19:40,603]\u001b[0m Trial 29 finished with value: 0.9328222041800744 and parameters: {'rf__max_features': 0.2818850413037384, 'rf__max_depth': 31, 'rf__min_samples_leaf': 40}. Best is trial 25 with value: 0.95721606544716.\u001b[0m\n"
          ]
        },
        {
          "name": "stdout",
          "output_type": "stream",
          "text": [
            "time 411.728595495224\n"
          ]
        }
      ],
      "source": [
        "import optuna\n",
        "import time\n",
        "from sklearn.ensemble import ExtraTreesClassifier\n",
        "from optuna import trial\n",
        "from sklearn.model_selection import cross_val_score\n",
        "from sklearn.model_selection import StratifiedKFold\n",
        "inicio = time.time()\n",
        "rs=NIA\n",
        "cv_inner = StratifiedKFold(n_splits=3, random_state=rs, shuffle=True)\n",
        "np.random.seed(NIA)\n",
        "def objective(trial):\n",
        "    rf__max_features = trial.suggest_float(\"rf__max_features\", 0.1,1)\n",
        "    rf__max_depth = trial.suggest_int(\"rf__max_depth\", 6, 40)\n",
        "    rf__min_samples_leaf=trial.suggest_int(\"rf__min_samples_leaf\", 1, 60)\n",
        "    classifier_obj = Pipeline([('Ext',ExtraTreesClassifier(\n",
        "        max_depth=rf__max_depth, max_features=rf__max_features, min_samples_leaf=rf__min_samples_leaf,random_state=rs\n",
        "    ))])\n",
        "\n",
        "    # Step 3: Scoring method:\n",
        "    score = cross_val_score(classifier_obj, X_train, y_train,scoring='balanced_accuracy', n_jobs=-1, cv = cv_inner)\n",
        "    accuracy = score.mean()\n",
        "    return accuracy\n",
        "\n",
        "# Step 4: Running it\n",
        "study = optuna.create_study(direction=\"maximize\")\n",
        "study.optimize(objective, n_trials=30)\n",
        "\n",
        "fin=time.time()\n",
        "print('time',fin-inicio)\n",
        "tiempoopt1=fin-inicio\n",
        "\n"
      ],
      "id": "6fe7d1ba"
    },
    {
      "cell_type": "code",
      "execution_count": null,
      "metadata": {
        "colab": {
          "base_uri": "https://localhost:8080/"
        },
        "id": "811e9375",
        "outputId": "4ea6fd29-6bfb-4139-c605-30f5e4d6601d"
      },
      "outputs": [
        {
          "name": "stdout",
          "output_type": "stream",
          "text": [
            "The best trial is : \n",
            "FrozenTrial(number=25, state=TrialState.COMPLETE, values=[0.95721606544716], datetime_start=datetime.datetime(2023, 4, 30, 14, 18, 47, 839090), datetime_complete=datetime.datetime(2023, 4, 30, 14, 18, 58, 247753), params={'rf__max_features': 0.17813844452878497, 'rf__max_depth': 38, 'rf__min_samples_leaf': 1}, user_attrs={}, system_attrs={}, intermediate_values={}, distributions={'rf__max_features': FloatDistribution(high=1.0, log=False, low=0.1, step=None), 'rf__max_depth': IntDistribution(high=40, log=False, low=6, step=1), 'rf__min_samples_leaf': IntDistribution(high=60, log=False, low=1, step=1)}, trial_id=25, value=None)\n",
            "The best value is : \n",
            "0.95721606544716\n",
            "The best parameters are : \n",
            "{'rf__max_features': 0.17813844452878497, 'rf__max_depth': 38, 'rf__min_samples_leaf': 1}\n"
          ]
        }
      ],
      "source": [
        "# Getting the best trial:\n",
        "print(f\"The best trial is : \\n{study.best_trial}\")\n",
        "\n",
        "# Getting the best score:\n",
        "print(f\"The best value is : \\n{study.best_value}\")\n",
        "\n",
        "\n",
        "# Getting the best parameters:\n",
        "print(f\"The best parameters are : \\n{study.best_params}\")\n"
      ],
      "id": "811e9375"
    },
    {
      "cell_type": "code",
      "execution_count": null,
      "metadata": {
        "colab": {
          "base_uri": "https://localhost:8080/"
        },
        "id": "d239bf95",
        "outputId": "c1f81e6e-d642-41fa-c0b2-d35cceafb2a1"
      },
      "outputs": [
        {
          "name": "stdout",
          "output_type": "stream",
          "text": [
            "Precision: 0.95721606544716\n",
            "Best hyperparameters: {'rf__max_features': 0.17813844452878497, 'rf__max_depth': 38, 'rf__min_samples_leaf': 1}\n"
          ]
        }
      ],
      "source": [
        "trial = study.best_trial\n",
        "\n",
        "print('Precision: {}'.format(trial.value))\n",
        "print(\"Best hyperparameters: {}\".format(trial.params))"
      ],
      "id": "d239bf95"
    },
    {
      "cell_type": "code",
      "execution_count": null,
      "metadata": {
        "colab": {
          "base_uri": "https://localhost:8080/",
          "height": 562
        },
        "id": "0b9cdb24",
        "outputId": "ef10d591-f5f5-4b5c-990b-9518043d5515"
      },
      "outputs": [
        {
          "data": {
            "text/html": [
              "<html>\n",
              "<head><meta charset=\"utf-8\" /></head>\n",
              "<body>\n",
              "    <div>            <script src=\"https://cdnjs.cloudflare.com/ajax/libs/mathjax/2.7.5/MathJax.js?config=TeX-AMS-MML_SVG\"></script><script type=\"text/javascript\">if (window.MathJax && window.MathJax.Hub && window.MathJax.Hub.Config) {window.MathJax.Hub.Config({SVG: {font: \"STIX-Web\"}});}</script>                <script type=\"text/javascript\">window.PlotlyConfig = {MathJaxConfig: 'local'};</script>\n",
              "        <script src=\"https://cdn.plot.ly/plotly-2.18.2.min.js\"></script>                <div id=\"8dde14a6-3781-444b-bab9-046007d661d0\" class=\"plotly-graph-div\" style=\"height:525px; width:100%;\"></div>            <script type=\"text/javascript\">                                    window.PLOTLYENV=window.PLOTLYENV || {};                                    if (document.getElementById(\"8dde14a6-3781-444b-bab9-046007d661d0\")) {                    Plotly.newPlot(                        \"8dde14a6-3781-444b-bab9-046007d661d0\",                        [{\"mode\":\"markers\",\"name\":\"Objective Value\",\"x\":[0,1,2,3,4,5,6,7,8,9,10,11,12,13,14,15,16,17,18,19,20,21,22,23,24,25,26,27,28,29],\"y\":[0.933459055828064,0.9404635289587949,0.9344298433206827,0.9360215738602463,0.9307304915539433,0.9521527757080098,0.9340357923009773,0.9309121084330728,0.9370831656823991,0.930366586380583,0.9565034865780869,0.9542292636701761,0.9488014027724305,0.9387035722063933,0.9405691124353642,0.9561548984375289,0.9456025748359768,0.9365515500335512,0.9318363534095379,0.9466944958508123,0.9364300276326109,0.9569581519271221,0.9552908209649088,0.9418419166805907,0.9474371888440464,0.95721606544716,0.9374158591051177,0.9450868374121745,0.9424644620133981,0.9328222041800744],\"type\":\"scatter\"},{\"name\":\"Best Value\",\"x\":[0,1,2,3,4,5,6,7,8,9,10,11,12,13,14,15,16,17,18,19,20,21,22,23,24,25,26,27,28,29],\"y\":[0.933459055828064,0.9404635289587949,0.9404635289587949,0.9404635289587949,0.9404635289587949,0.9521527757080098,0.9521527757080098,0.9521527757080098,0.9521527757080098,0.9521527757080098,0.9565034865780869,0.9565034865780869,0.9565034865780869,0.9565034865780869,0.9565034865780869,0.9565034865780869,0.9565034865780869,0.9565034865780869,0.9565034865780869,0.9565034865780869,0.9565034865780869,0.9569581519271221,0.9569581519271221,0.9569581519271221,0.9569581519271221,0.95721606544716,0.95721606544716,0.95721606544716,0.95721606544716,0.95721606544716],\"type\":\"scatter\"}],                        {\"title\":{\"text\":\"Optimization History Plot\"},\"xaxis\":{\"title\":{\"text\":\"Trial\"}},\"yaxis\":{\"title\":{\"text\":\"Objective Value\"}},\"template\":{\"data\":{\"histogram2dcontour\":[{\"type\":\"histogram2dcontour\",\"colorbar\":{\"outlinewidth\":0,\"ticks\":\"\"},\"colorscale\":[[0.0,\"#0d0887\"],[0.1111111111111111,\"#46039f\"],[0.2222222222222222,\"#7201a8\"],[0.3333333333333333,\"#9c179e\"],[0.4444444444444444,\"#bd3786\"],[0.5555555555555556,\"#d8576b\"],[0.6666666666666666,\"#ed7953\"],[0.7777777777777778,\"#fb9f3a\"],[0.8888888888888888,\"#fdca26\"],[1.0,\"#f0f921\"]]}],\"choropleth\":[{\"type\":\"choropleth\",\"colorbar\":{\"outlinewidth\":0,\"ticks\":\"\"}}],\"histogram2d\":[{\"type\":\"histogram2d\",\"colorbar\":{\"outlinewidth\":0,\"ticks\":\"\"},\"colorscale\":[[0.0,\"#0d0887\"],[0.1111111111111111,\"#46039f\"],[0.2222222222222222,\"#7201a8\"],[0.3333333333333333,\"#9c179e\"],[0.4444444444444444,\"#bd3786\"],[0.5555555555555556,\"#d8576b\"],[0.6666666666666666,\"#ed7953\"],[0.7777777777777778,\"#fb9f3a\"],[0.8888888888888888,\"#fdca26\"],[1.0,\"#f0f921\"]]}],\"heatmap\":[{\"type\":\"heatmap\",\"colorbar\":{\"outlinewidth\":0,\"ticks\":\"\"},\"colorscale\":[[0.0,\"#0d0887\"],[0.1111111111111111,\"#46039f\"],[0.2222222222222222,\"#7201a8\"],[0.3333333333333333,\"#9c179e\"],[0.4444444444444444,\"#bd3786\"],[0.5555555555555556,\"#d8576b\"],[0.6666666666666666,\"#ed7953\"],[0.7777777777777778,\"#fb9f3a\"],[0.8888888888888888,\"#fdca26\"],[1.0,\"#f0f921\"]]}],\"heatmapgl\":[{\"type\":\"heatmapgl\",\"colorbar\":{\"outlinewidth\":0,\"ticks\":\"\"},\"colorscale\":[[0.0,\"#0d0887\"],[0.1111111111111111,\"#46039f\"],[0.2222222222222222,\"#7201a8\"],[0.3333333333333333,\"#9c179e\"],[0.4444444444444444,\"#bd3786\"],[0.5555555555555556,\"#d8576b\"],[0.6666666666666666,\"#ed7953\"],[0.7777777777777778,\"#fb9f3a\"],[0.8888888888888888,\"#fdca26\"],[1.0,\"#f0f921\"]]}],\"contourcarpet\":[{\"type\":\"contourcarpet\",\"colorbar\":{\"outlinewidth\":0,\"ticks\":\"\"}}],\"contour\":[{\"type\":\"contour\",\"colorbar\":{\"outlinewidth\":0,\"ticks\":\"\"},\"colorscale\":[[0.0,\"#0d0887\"],[0.1111111111111111,\"#46039f\"],[0.2222222222222222,\"#7201a8\"],[0.3333333333333333,\"#9c179e\"],[0.4444444444444444,\"#bd3786\"],[0.5555555555555556,\"#d8576b\"],[0.6666666666666666,\"#ed7953\"],[0.7777777777777778,\"#fb9f3a\"],[0.8888888888888888,\"#fdca26\"],[1.0,\"#f0f921\"]]}],\"surface\":[{\"type\":\"surface\",\"colorbar\":{\"outlinewidth\":0,\"ticks\":\"\"},\"colorscale\":[[0.0,\"#0d0887\"],[0.1111111111111111,\"#46039f\"],[0.2222222222222222,\"#7201a8\"],[0.3333333333333333,\"#9c179e\"],[0.4444444444444444,\"#bd3786\"],[0.5555555555555556,\"#d8576b\"],[0.6666666666666666,\"#ed7953\"],[0.7777777777777778,\"#fb9f3a\"],[0.8888888888888888,\"#fdca26\"],[1.0,\"#f0f921\"]]}],\"mesh3d\":[{\"type\":\"mesh3d\",\"colorbar\":{\"outlinewidth\":0,\"ticks\":\"\"}}],\"scatter\":[{\"fillpattern\":{\"fillmode\":\"overlay\",\"size\":10,\"solidity\":0.2},\"type\":\"scatter\"}],\"parcoords\":[{\"type\":\"parcoords\",\"line\":{\"colorbar\":{\"outlinewidth\":0,\"ticks\":\"\"}}}],\"scatterpolargl\":[{\"type\":\"scatterpolargl\",\"marker\":{\"colorbar\":{\"outlinewidth\":0,\"ticks\":\"\"}}}],\"bar\":[{\"error_x\":{\"color\":\"#2a3f5f\"},\"error_y\":{\"color\":\"#2a3f5f\"},\"marker\":{\"line\":{\"color\":\"#E5ECF6\",\"width\":0.5},\"pattern\":{\"fillmode\":\"overlay\",\"size\":10,\"solidity\":0.2}},\"type\":\"bar\"}],\"scattergeo\":[{\"type\":\"scattergeo\",\"marker\":{\"colorbar\":{\"outlinewidth\":0,\"ticks\":\"\"}}}],\"scatterpolar\":[{\"type\":\"scatterpolar\",\"marker\":{\"colorbar\":{\"outlinewidth\":0,\"ticks\":\"\"}}}],\"histogram\":[{\"marker\":{\"pattern\":{\"fillmode\":\"overlay\",\"size\":10,\"solidity\":0.2}},\"type\":\"histogram\"}],\"scattergl\":[{\"type\":\"scattergl\",\"marker\":{\"colorbar\":{\"outlinewidth\":0,\"ticks\":\"\"}}}],\"scatter3d\":[{\"type\":\"scatter3d\",\"line\":{\"colorbar\":{\"outlinewidth\":0,\"ticks\":\"\"}},\"marker\":{\"colorbar\":{\"outlinewidth\":0,\"ticks\":\"\"}}}],\"scattermapbox\":[{\"type\":\"scattermapbox\",\"marker\":{\"colorbar\":{\"outlinewidth\":0,\"ticks\":\"\"}}}],\"scatterternary\":[{\"type\":\"scatterternary\",\"marker\":{\"colorbar\":{\"outlinewidth\":0,\"ticks\":\"\"}}}],\"scattercarpet\":[{\"type\":\"scattercarpet\",\"marker\":{\"colorbar\":{\"outlinewidth\":0,\"ticks\":\"\"}}}],\"carpet\":[{\"aaxis\":{\"endlinecolor\":\"#2a3f5f\",\"gridcolor\":\"white\",\"linecolor\":\"white\",\"minorgridcolor\":\"white\",\"startlinecolor\":\"#2a3f5f\"},\"baxis\":{\"endlinecolor\":\"#2a3f5f\",\"gridcolor\":\"white\",\"linecolor\":\"white\",\"minorgridcolor\":\"white\",\"startlinecolor\":\"#2a3f5f\"},\"type\":\"carpet\"}],\"table\":[{\"cells\":{\"fill\":{\"color\":\"#EBF0F8\"},\"line\":{\"color\":\"white\"}},\"header\":{\"fill\":{\"color\":\"#C8D4E3\"},\"line\":{\"color\":\"white\"}},\"type\":\"table\"}],\"barpolar\":[{\"marker\":{\"line\":{\"color\":\"#E5ECF6\",\"width\":0.5},\"pattern\":{\"fillmode\":\"overlay\",\"size\":10,\"solidity\":0.2}},\"type\":\"barpolar\"}],\"pie\":[{\"automargin\":true,\"type\":\"pie\"}]},\"layout\":{\"autotypenumbers\":\"strict\",\"colorway\":[\"#636efa\",\"#EF553B\",\"#00cc96\",\"#ab63fa\",\"#FFA15A\",\"#19d3f3\",\"#FF6692\",\"#B6E880\",\"#FF97FF\",\"#FECB52\"],\"font\":{\"color\":\"#2a3f5f\"},\"hovermode\":\"closest\",\"hoverlabel\":{\"align\":\"left\"},\"paper_bgcolor\":\"white\",\"plot_bgcolor\":\"#E5ECF6\",\"polar\":{\"bgcolor\":\"#E5ECF6\",\"angularaxis\":{\"gridcolor\":\"white\",\"linecolor\":\"white\",\"ticks\":\"\"},\"radialaxis\":{\"gridcolor\":\"white\",\"linecolor\":\"white\",\"ticks\":\"\"}},\"ternary\":{\"bgcolor\":\"#E5ECF6\",\"aaxis\":{\"gridcolor\":\"white\",\"linecolor\":\"white\",\"ticks\":\"\"},\"baxis\":{\"gridcolor\":\"white\",\"linecolor\":\"white\",\"ticks\":\"\"},\"caxis\":{\"gridcolor\":\"white\",\"linecolor\":\"white\",\"ticks\":\"\"}},\"coloraxis\":{\"colorbar\":{\"outlinewidth\":0,\"ticks\":\"\"}},\"colorscale\":{\"sequential\":[[0.0,\"#0d0887\"],[0.1111111111111111,\"#46039f\"],[0.2222222222222222,\"#7201a8\"],[0.3333333333333333,\"#9c179e\"],[0.4444444444444444,\"#bd3786\"],[0.5555555555555556,\"#d8576b\"],[0.6666666666666666,\"#ed7953\"],[0.7777777777777778,\"#fb9f3a\"],[0.8888888888888888,\"#fdca26\"],[1.0,\"#f0f921\"]],\"sequentialminus\":[[0.0,\"#0d0887\"],[0.1111111111111111,\"#46039f\"],[0.2222222222222222,\"#7201a8\"],[0.3333333333333333,\"#9c179e\"],[0.4444444444444444,\"#bd3786\"],[0.5555555555555556,\"#d8576b\"],[0.6666666666666666,\"#ed7953\"],[0.7777777777777778,\"#fb9f3a\"],[0.8888888888888888,\"#fdca26\"],[1.0,\"#f0f921\"]],\"diverging\":[[0,\"#8e0152\"],[0.1,\"#c51b7d\"],[0.2,\"#de77ae\"],[0.3,\"#f1b6da\"],[0.4,\"#fde0ef\"],[0.5,\"#f7f7f7\"],[0.6,\"#e6f5d0\"],[0.7,\"#b8e186\"],[0.8,\"#7fbc41\"],[0.9,\"#4d9221\"],[1,\"#276419\"]]},\"xaxis\":{\"gridcolor\":\"white\",\"linecolor\":\"white\",\"ticks\":\"\",\"title\":{\"standoff\":15},\"zerolinecolor\":\"white\",\"automargin\":true,\"zerolinewidth\":2},\"yaxis\":{\"gridcolor\":\"white\",\"linecolor\":\"white\",\"ticks\":\"\",\"title\":{\"standoff\":15},\"zerolinecolor\":\"white\",\"automargin\":true,\"zerolinewidth\":2},\"scene\":{\"xaxis\":{\"backgroundcolor\":\"#E5ECF6\",\"gridcolor\":\"white\",\"linecolor\":\"white\",\"showbackground\":true,\"ticks\":\"\",\"zerolinecolor\":\"white\",\"gridwidth\":2},\"yaxis\":{\"backgroundcolor\":\"#E5ECF6\",\"gridcolor\":\"white\",\"linecolor\":\"white\",\"showbackground\":true,\"ticks\":\"\",\"zerolinecolor\":\"white\",\"gridwidth\":2},\"zaxis\":{\"backgroundcolor\":\"#E5ECF6\",\"gridcolor\":\"white\",\"linecolor\":\"white\",\"showbackground\":true,\"ticks\":\"\",\"zerolinecolor\":\"white\",\"gridwidth\":2}},\"shapedefaults\":{\"line\":{\"color\":\"#2a3f5f\"}},\"annotationdefaults\":{\"arrowcolor\":\"#2a3f5f\",\"arrowhead\":0,\"arrowwidth\":1},\"geo\":{\"bgcolor\":\"white\",\"landcolor\":\"#E5ECF6\",\"subunitcolor\":\"white\",\"showland\":true,\"showlakes\":true,\"lakecolor\":\"white\"},\"title\":{\"x\":0.05},\"mapbox\":{\"style\":\"light\"}}}},                        {\"responsive\": true}                    ).then(function(){\n",
              "                            \n",
              "var gd = document.getElementById('8dde14a6-3781-444b-bab9-046007d661d0');\n",
              "var x = new MutationObserver(function (mutations, observer) {{\n",
              "        var display = window.getComputedStyle(gd).display;\n",
              "        if (!display || display === 'none') {{\n",
              "            console.log([gd, 'removed!']);\n",
              "            Plotly.purge(gd);\n",
              "            observer.disconnect();\n",
              "        }}\n",
              "}});\n",
              "\n",
              "// Listen for the removal of the full notebook cells\n",
              "var notebookContainer = gd.closest('#notebook-container');\n",
              "if (notebookContainer) {{\n",
              "    x.observe(notebookContainer, {childList: true});\n",
              "}}\n",
              "\n",
              "// Listen for the clearing of the current output cell\n",
              "var outputEl = gd.closest('.output');\n",
              "if (outputEl) {{\n",
              "    x.observe(outputEl, {childList: true});\n",
              "}}\n",
              "\n",
              "                        })                };                            </script>        </div>\n",
              "</body>\n",
              "</html>"
            ]
          },
          "metadata": {},
          "output_type": "display_data"
        }
      ],
      "source": [
        "import matplotlib.pyplot as plt\n",
        "optuna.visualization.plot_optimization_history(study).show()"
      ],
      "id": "0b9cdb24"
    },
    {
      "cell_type": "code",
      "execution_count": null,
      "metadata": {
        "colab": {
          "base_uri": "https://localhost:8080/",
          "height": 562
        },
        "id": "LAudMZWRRq53",
        "outputId": "c0d3c183-4071-44c1-dafc-8b2436b9c4b3"
      },
      "outputs": [
        {
          "data": {
            "text/html": [
              "<html>\n",
              "<head><meta charset=\"utf-8\" /></head>\n",
              "<body>\n",
              "    <div>            <script src=\"https://cdnjs.cloudflare.com/ajax/libs/mathjax/2.7.5/MathJax.js?config=TeX-AMS-MML_SVG\"></script><script type=\"text/javascript\">if (window.MathJax && window.MathJax.Hub && window.MathJax.Hub.Config) {window.MathJax.Hub.Config({SVG: {font: \"STIX-Web\"}});}</script>                <script type=\"text/javascript\">window.PlotlyConfig = {MathJaxConfig: 'local'};</script>\n",
              "        <script src=\"https://cdn.plot.ly/plotly-2.18.2.min.js\"></script>                <div id=\"6fff4212-d8ae-46ac-add2-720bca02627d\" class=\"plotly-graph-div\" style=\"height:525px; width:100%;\"></div>            <script type=\"text/javascript\">                                    window.PLOTLYENV=window.PLOTLYENV || {};                                    if (document.getElementById(\"6fff4212-d8ae-46ac-add2-720bca02627d\")) {                    Plotly.newPlot(                        \"6fff4212-d8ae-46ac-add2-720bca02627d\",                        [{\"dimensions\":[{\"label\":\"Objective Value\",\"range\":[0.930366586380583,0.95721606544716],\"values\":[0.933459055828064,0.9404635289587949,0.9344298433206827,0.9360215738602463,0.9307304915539433,0.9521527757080098,0.9340357923009773,0.9309121084330728,0.9370831656823991,0.930366586380583,0.9565034865780869,0.9542292636701761,0.9488014027724305,0.9387035722063933,0.9405691124353642,0.9561548984375289,0.9456025748359768,0.9365515500335512,0.9318363534095379,0.9466944958508123,0.9364300276326109,0.9569581519271221,0.9552908209649088,0.9418419166805907,0.9474371888440464,0.95721606544716,0.9374158591051177,0.9450868374121745,0.9424644620133981,0.9328222041800744]},{\"label\":\"rf__max_depth\",\"range\":[9,40],\"values\":[20,23,16,22,9,26,9,15,12,29,39,39,36,40,33,40,33,30,36,36,40,39,33,37,30,38,34,26,38,31]},{\"label\":\"rf__max_features\",\"range\":[0.1042004033073586,0.9595110131458804],\"values\":[0.29973807911566597,0.3194352232657748,0.5164749682261014,0.5372613545342911,0.7914448741387982,0.5390875337856889,0.7737234608585386,0.33901020417241734,0.9595110131458804,0.6417078004074594,0.15958444601459376,0.11743855855395646,0.10640138590113417,0.122599502801778,0.21456591308636577,0.20170220752748486,0.40206783017200953,0.2171833425693863,0.23898845808251,0.4132101522338594,0.1746087543379175,0.1042004033073586,0.17778857832481168,0.10458818470695244,0.2562574378178398,0.17813844452878497,0.28081360450329096,0.16433544014517584,0.3657032553405685,0.2818850413037384]},{\"label\":\"rf__min_samples_l...\",\"range\":[1,60],\"values\":[37,16,33,28,56,4,34,52,28,60,1,2,4,14,15,2,11,22,45,9,21,1,2,9,7,1,21,8,13,40]}],\"labelangle\":30,\"labelside\":\"bottom\",\"line\":{\"color\":[0.933459055828064,0.9404635289587949,0.9344298433206827,0.9360215738602463,0.9307304915539433,0.9521527757080098,0.9340357923009773,0.9309121084330728,0.9370831656823991,0.930366586380583,0.9565034865780869,0.9542292636701761,0.9488014027724305,0.9387035722063933,0.9405691124353642,0.9561548984375289,0.9456025748359768,0.9365515500335512,0.9318363534095379,0.9466944958508123,0.9364300276326109,0.9569581519271221,0.9552908209649088,0.9418419166805907,0.9474371888440464,0.95721606544716,0.9374158591051177,0.9450868374121745,0.9424644620133981,0.9328222041800744],\"colorbar\":{\"title\":{\"text\":\"Objective Value\"}},\"colorscale\":[[0.0,\"rgb(247,251,255)\"],[0.125,\"rgb(222,235,247)\"],[0.25,\"rgb(198,219,239)\"],[0.375,\"rgb(158,202,225)\"],[0.5,\"rgb(107,174,214)\"],[0.625,\"rgb(66,146,198)\"],[0.75,\"rgb(33,113,181)\"],[0.875,\"rgb(8,81,156)\"],[1.0,\"rgb(8,48,107)\"]],\"reversescale\":false,\"showscale\":true},\"type\":\"parcoords\"}],                        {\"title\":{\"text\":\"Parallel Coordinate Plot\"},\"template\":{\"data\":{\"histogram2dcontour\":[{\"type\":\"histogram2dcontour\",\"colorbar\":{\"outlinewidth\":0,\"ticks\":\"\"},\"colorscale\":[[0.0,\"#0d0887\"],[0.1111111111111111,\"#46039f\"],[0.2222222222222222,\"#7201a8\"],[0.3333333333333333,\"#9c179e\"],[0.4444444444444444,\"#bd3786\"],[0.5555555555555556,\"#d8576b\"],[0.6666666666666666,\"#ed7953\"],[0.7777777777777778,\"#fb9f3a\"],[0.8888888888888888,\"#fdca26\"],[1.0,\"#f0f921\"]]}],\"choropleth\":[{\"type\":\"choropleth\",\"colorbar\":{\"outlinewidth\":0,\"ticks\":\"\"}}],\"histogram2d\":[{\"type\":\"histogram2d\",\"colorbar\":{\"outlinewidth\":0,\"ticks\":\"\"},\"colorscale\":[[0.0,\"#0d0887\"],[0.1111111111111111,\"#46039f\"],[0.2222222222222222,\"#7201a8\"],[0.3333333333333333,\"#9c179e\"],[0.4444444444444444,\"#bd3786\"],[0.5555555555555556,\"#d8576b\"],[0.6666666666666666,\"#ed7953\"],[0.7777777777777778,\"#fb9f3a\"],[0.8888888888888888,\"#fdca26\"],[1.0,\"#f0f921\"]]}],\"heatmap\":[{\"type\":\"heatmap\",\"colorbar\":{\"outlinewidth\":0,\"ticks\":\"\"},\"colorscale\":[[0.0,\"#0d0887\"],[0.1111111111111111,\"#46039f\"],[0.2222222222222222,\"#7201a8\"],[0.3333333333333333,\"#9c179e\"],[0.4444444444444444,\"#bd3786\"],[0.5555555555555556,\"#d8576b\"],[0.6666666666666666,\"#ed7953\"],[0.7777777777777778,\"#fb9f3a\"],[0.8888888888888888,\"#fdca26\"],[1.0,\"#f0f921\"]]}],\"heatmapgl\":[{\"type\":\"heatmapgl\",\"colorbar\":{\"outlinewidth\":0,\"ticks\":\"\"},\"colorscale\":[[0.0,\"#0d0887\"],[0.1111111111111111,\"#46039f\"],[0.2222222222222222,\"#7201a8\"],[0.3333333333333333,\"#9c179e\"],[0.4444444444444444,\"#bd3786\"],[0.5555555555555556,\"#d8576b\"],[0.6666666666666666,\"#ed7953\"],[0.7777777777777778,\"#fb9f3a\"],[0.8888888888888888,\"#fdca26\"],[1.0,\"#f0f921\"]]}],\"contourcarpet\":[{\"type\":\"contourcarpet\",\"colorbar\":{\"outlinewidth\":0,\"ticks\":\"\"}}],\"contour\":[{\"type\":\"contour\",\"colorbar\":{\"outlinewidth\":0,\"ticks\":\"\"},\"colorscale\":[[0.0,\"#0d0887\"],[0.1111111111111111,\"#46039f\"],[0.2222222222222222,\"#7201a8\"],[0.3333333333333333,\"#9c179e\"],[0.4444444444444444,\"#bd3786\"],[0.5555555555555556,\"#d8576b\"],[0.6666666666666666,\"#ed7953\"],[0.7777777777777778,\"#fb9f3a\"],[0.8888888888888888,\"#fdca26\"],[1.0,\"#f0f921\"]]}],\"surface\":[{\"type\":\"surface\",\"colorbar\":{\"outlinewidth\":0,\"ticks\":\"\"},\"colorscale\":[[0.0,\"#0d0887\"],[0.1111111111111111,\"#46039f\"],[0.2222222222222222,\"#7201a8\"],[0.3333333333333333,\"#9c179e\"],[0.4444444444444444,\"#bd3786\"],[0.5555555555555556,\"#d8576b\"],[0.6666666666666666,\"#ed7953\"],[0.7777777777777778,\"#fb9f3a\"],[0.8888888888888888,\"#fdca26\"],[1.0,\"#f0f921\"]]}],\"mesh3d\":[{\"type\":\"mesh3d\",\"colorbar\":{\"outlinewidth\":0,\"ticks\":\"\"}}],\"scatter\":[{\"fillpattern\":{\"fillmode\":\"overlay\",\"size\":10,\"solidity\":0.2},\"type\":\"scatter\"}],\"parcoords\":[{\"type\":\"parcoords\",\"line\":{\"colorbar\":{\"outlinewidth\":0,\"ticks\":\"\"}}}],\"scatterpolargl\":[{\"type\":\"scatterpolargl\",\"marker\":{\"colorbar\":{\"outlinewidth\":0,\"ticks\":\"\"}}}],\"bar\":[{\"error_x\":{\"color\":\"#2a3f5f\"},\"error_y\":{\"color\":\"#2a3f5f\"},\"marker\":{\"line\":{\"color\":\"#E5ECF6\",\"width\":0.5},\"pattern\":{\"fillmode\":\"overlay\",\"size\":10,\"solidity\":0.2}},\"type\":\"bar\"}],\"scattergeo\":[{\"type\":\"scattergeo\",\"marker\":{\"colorbar\":{\"outlinewidth\":0,\"ticks\":\"\"}}}],\"scatterpolar\":[{\"type\":\"scatterpolar\",\"marker\":{\"colorbar\":{\"outlinewidth\":0,\"ticks\":\"\"}}}],\"histogram\":[{\"marker\":{\"pattern\":{\"fillmode\":\"overlay\",\"size\":10,\"solidity\":0.2}},\"type\":\"histogram\"}],\"scattergl\":[{\"type\":\"scattergl\",\"marker\":{\"colorbar\":{\"outlinewidth\":0,\"ticks\":\"\"}}}],\"scatter3d\":[{\"type\":\"scatter3d\",\"line\":{\"colorbar\":{\"outlinewidth\":0,\"ticks\":\"\"}},\"marker\":{\"colorbar\":{\"outlinewidth\":0,\"ticks\":\"\"}}}],\"scattermapbox\":[{\"type\":\"scattermapbox\",\"marker\":{\"colorbar\":{\"outlinewidth\":0,\"ticks\":\"\"}}}],\"scatterternary\":[{\"type\":\"scatterternary\",\"marker\":{\"colorbar\":{\"outlinewidth\":0,\"ticks\":\"\"}}}],\"scattercarpet\":[{\"type\":\"scattercarpet\",\"marker\":{\"colorbar\":{\"outlinewidth\":0,\"ticks\":\"\"}}}],\"carpet\":[{\"aaxis\":{\"endlinecolor\":\"#2a3f5f\",\"gridcolor\":\"white\",\"linecolor\":\"white\",\"minorgridcolor\":\"white\",\"startlinecolor\":\"#2a3f5f\"},\"baxis\":{\"endlinecolor\":\"#2a3f5f\",\"gridcolor\":\"white\",\"linecolor\":\"white\",\"minorgridcolor\":\"white\",\"startlinecolor\":\"#2a3f5f\"},\"type\":\"carpet\"}],\"table\":[{\"cells\":{\"fill\":{\"color\":\"#EBF0F8\"},\"line\":{\"color\":\"white\"}},\"header\":{\"fill\":{\"color\":\"#C8D4E3\"},\"line\":{\"color\":\"white\"}},\"type\":\"table\"}],\"barpolar\":[{\"marker\":{\"line\":{\"color\":\"#E5ECF6\",\"width\":0.5},\"pattern\":{\"fillmode\":\"overlay\",\"size\":10,\"solidity\":0.2}},\"type\":\"barpolar\"}],\"pie\":[{\"automargin\":true,\"type\":\"pie\"}]},\"layout\":{\"autotypenumbers\":\"strict\",\"colorway\":[\"#636efa\",\"#EF553B\",\"#00cc96\",\"#ab63fa\",\"#FFA15A\",\"#19d3f3\",\"#FF6692\",\"#B6E880\",\"#FF97FF\",\"#FECB52\"],\"font\":{\"color\":\"#2a3f5f\"},\"hovermode\":\"closest\",\"hoverlabel\":{\"align\":\"left\"},\"paper_bgcolor\":\"white\",\"plot_bgcolor\":\"#E5ECF6\",\"polar\":{\"bgcolor\":\"#E5ECF6\",\"angularaxis\":{\"gridcolor\":\"white\",\"linecolor\":\"white\",\"ticks\":\"\"},\"radialaxis\":{\"gridcolor\":\"white\",\"linecolor\":\"white\",\"ticks\":\"\"}},\"ternary\":{\"bgcolor\":\"#E5ECF6\",\"aaxis\":{\"gridcolor\":\"white\",\"linecolor\":\"white\",\"ticks\":\"\"},\"baxis\":{\"gridcolor\":\"white\",\"linecolor\":\"white\",\"ticks\":\"\"},\"caxis\":{\"gridcolor\":\"white\",\"linecolor\":\"white\",\"ticks\":\"\"}},\"coloraxis\":{\"colorbar\":{\"outlinewidth\":0,\"ticks\":\"\"}},\"colorscale\":{\"sequential\":[[0.0,\"#0d0887\"],[0.1111111111111111,\"#46039f\"],[0.2222222222222222,\"#7201a8\"],[0.3333333333333333,\"#9c179e\"],[0.4444444444444444,\"#bd3786\"],[0.5555555555555556,\"#d8576b\"],[0.6666666666666666,\"#ed7953\"],[0.7777777777777778,\"#fb9f3a\"],[0.8888888888888888,\"#fdca26\"],[1.0,\"#f0f921\"]],\"sequentialminus\":[[0.0,\"#0d0887\"],[0.1111111111111111,\"#46039f\"],[0.2222222222222222,\"#7201a8\"],[0.3333333333333333,\"#9c179e\"],[0.4444444444444444,\"#bd3786\"],[0.5555555555555556,\"#d8576b\"],[0.6666666666666666,\"#ed7953\"],[0.7777777777777778,\"#fb9f3a\"],[0.8888888888888888,\"#fdca26\"],[1.0,\"#f0f921\"]],\"diverging\":[[0,\"#8e0152\"],[0.1,\"#c51b7d\"],[0.2,\"#de77ae\"],[0.3,\"#f1b6da\"],[0.4,\"#fde0ef\"],[0.5,\"#f7f7f7\"],[0.6,\"#e6f5d0\"],[0.7,\"#b8e186\"],[0.8,\"#7fbc41\"],[0.9,\"#4d9221\"],[1,\"#276419\"]]},\"xaxis\":{\"gridcolor\":\"white\",\"linecolor\":\"white\",\"ticks\":\"\",\"title\":{\"standoff\":15},\"zerolinecolor\":\"white\",\"automargin\":true,\"zerolinewidth\":2},\"yaxis\":{\"gridcolor\":\"white\",\"linecolor\":\"white\",\"ticks\":\"\",\"title\":{\"standoff\":15},\"zerolinecolor\":\"white\",\"automargin\":true,\"zerolinewidth\":2},\"scene\":{\"xaxis\":{\"backgroundcolor\":\"#E5ECF6\",\"gridcolor\":\"white\",\"linecolor\":\"white\",\"showbackground\":true,\"ticks\":\"\",\"zerolinecolor\":\"white\",\"gridwidth\":2},\"yaxis\":{\"backgroundcolor\":\"#E5ECF6\",\"gridcolor\":\"white\",\"linecolor\":\"white\",\"showbackground\":true,\"ticks\":\"\",\"zerolinecolor\":\"white\",\"gridwidth\":2},\"zaxis\":{\"backgroundcolor\":\"#E5ECF6\",\"gridcolor\":\"white\",\"linecolor\":\"white\",\"showbackground\":true,\"ticks\":\"\",\"zerolinecolor\":\"white\",\"gridwidth\":2}},\"shapedefaults\":{\"line\":{\"color\":\"#2a3f5f\"}},\"annotationdefaults\":{\"arrowcolor\":\"#2a3f5f\",\"arrowhead\":0,\"arrowwidth\":1},\"geo\":{\"bgcolor\":\"white\",\"landcolor\":\"#E5ECF6\",\"subunitcolor\":\"white\",\"showland\":true,\"showlakes\":true,\"lakecolor\":\"white\"},\"title\":{\"x\":0.05},\"mapbox\":{\"style\":\"light\"}}}},                        {\"responsive\": true}                    ).then(function(){\n",
              "                            \n",
              "var gd = document.getElementById('6fff4212-d8ae-46ac-add2-720bca02627d');\n",
              "var x = new MutationObserver(function (mutations, observer) {{\n",
              "        var display = window.getComputedStyle(gd).display;\n",
              "        if (!display || display === 'none') {{\n",
              "            console.log([gd, 'removed!']);\n",
              "            Plotly.purge(gd);\n",
              "            observer.disconnect();\n",
              "        }}\n",
              "}});\n",
              "\n",
              "// Listen for the removal of the full notebook cells\n",
              "var notebookContainer = gd.closest('#notebook-container');\n",
              "if (notebookContainer) {{\n",
              "    x.observe(notebookContainer, {childList: true});\n",
              "}}\n",
              "\n",
              "// Listen for the clearing of the current output cell\n",
              "var outputEl = gd.closest('.output');\n",
              "if (outputEl) {{\n",
              "    x.observe(outputEl, {childList: true});\n",
              "}}\n",
              "\n",
              "                        })                };                            </script>        </div>\n",
              "</body>\n",
              "</html>"
            ]
          },
          "metadata": {},
          "output_type": "display_data"
        }
      ],
      "source": [
        "from optuna.visualization import plot_parallel_coordinate\n",
        "plot_parallel_coordinate(study)"
      ],
      "id": "LAudMZWRRq53"
    },
    {
      "cell_type": "code",
      "execution_count": null,
      "metadata": {
        "colab": {
          "base_uri": "https://localhost:8080/",
          "height": 562
        },
        "id": "2-LMohnKR-EM",
        "outputId": "67a4f891-c71c-4215-b666-6adb7fb56856"
      },
      "outputs": [
        {
          "data": {
            "text/html": [
              "<html>\n",
              "<head><meta charset=\"utf-8\" /></head>\n",
              "<body>\n",
              "    <div>            <script src=\"https://cdnjs.cloudflare.com/ajax/libs/mathjax/2.7.5/MathJax.js?config=TeX-AMS-MML_SVG\"></script><script type=\"text/javascript\">if (window.MathJax && window.MathJax.Hub && window.MathJax.Hub.Config) {window.MathJax.Hub.Config({SVG: {font: \"STIX-Web\"}});}</script>                <script type=\"text/javascript\">window.PlotlyConfig = {MathJaxConfig: 'local'};</script>\n",
              "        <script src=\"https://cdn.plot.ly/plotly-2.18.2.min.js\"></script>                <div id=\"c28b6f80-e584-429c-9ce9-ce0bb4943cfb\" class=\"plotly-graph-div\" style=\"height:525px; width:100%;\"></div>            <script type=\"text/javascript\">                                    window.PLOTLYENV=window.PLOTLYENV || {};                                    if (document.getElementById(\"c28b6f80-e584-429c-9ce9-ce0bb4943cfb\")) {                    Plotly.newPlot(                        \"c28b6f80-e584-429c-9ce9-ce0bb4943cfb\",                        [{\"cliponaxis\":false,\"hovertemplate\":[\"rf__max_depth (IntDistribution): 0.0026418436921804753<extra></extra>\",\"rf__max_features (FloatDistribution): 0.0055128018593442515<extra></extra>\",\"rf__min_samples_leaf (IntDistribution): 0.9918453544484753<extra></extra>\"],\"marker\":{\"color\":\"rgb(66,146,198)\"},\"orientation\":\"h\",\"text\":[\"<0.01\",\"<0.01\",\"0.99\"],\"textposition\":\"outside\",\"x\":[0.0026418436921804753,0.0055128018593442515,0.9918453544484753],\"y\":[\"rf__max_depth\",\"rf__max_features\",\"rf__min_samples_leaf\"],\"type\":\"bar\"}],                        {\"showlegend\":false,\"title\":{\"text\":\"Hyperparameter Importances\"},\"xaxis\":{\"title\":{\"text\":\"Importance for Objective Value\"}},\"yaxis\":{\"title\":{\"text\":\"Hyperparameter\"}},\"template\":{\"data\":{\"histogram2dcontour\":[{\"type\":\"histogram2dcontour\",\"colorbar\":{\"outlinewidth\":0,\"ticks\":\"\"},\"colorscale\":[[0.0,\"#0d0887\"],[0.1111111111111111,\"#46039f\"],[0.2222222222222222,\"#7201a8\"],[0.3333333333333333,\"#9c179e\"],[0.4444444444444444,\"#bd3786\"],[0.5555555555555556,\"#d8576b\"],[0.6666666666666666,\"#ed7953\"],[0.7777777777777778,\"#fb9f3a\"],[0.8888888888888888,\"#fdca26\"],[1.0,\"#f0f921\"]]}],\"choropleth\":[{\"type\":\"choropleth\",\"colorbar\":{\"outlinewidth\":0,\"ticks\":\"\"}}],\"histogram2d\":[{\"type\":\"histogram2d\",\"colorbar\":{\"outlinewidth\":0,\"ticks\":\"\"},\"colorscale\":[[0.0,\"#0d0887\"],[0.1111111111111111,\"#46039f\"],[0.2222222222222222,\"#7201a8\"],[0.3333333333333333,\"#9c179e\"],[0.4444444444444444,\"#bd3786\"],[0.5555555555555556,\"#d8576b\"],[0.6666666666666666,\"#ed7953\"],[0.7777777777777778,\"#fb9f3a\"],[0.8888888888888888,\"#fdca26\"],[1.0,\"#f0f921\"]]}],\"heatmap\":[{\"type\":\"heatmap\",\"colorbar\":{\"outlinewidth\":0,\"ticks\":\"\"},\"colorscale\":[[0.0,\"#0d0887\"],[0.1111111111111111,\"#46039f\"],[0.2222222222222222,\"#7201a8\"],[0.3333333333333333,\"#9c179e\"],[0.4444444444444444,\"#bd3786\"],[0.5555555555555556,\"#d8576b\"],[0.6666666666666666,\"#ed7953\"],[0.7777777777777778,\"#fb9f3a\"],[0.8888888888888888,\"#fdca26\"],[1.0,\"#f0f921\"]]}],\"heatmapgl\":[{\"type\":\"heatmapgl\",\"colorbar\":{\"outlinewidth\":0,\"ticks\":\"\"},\"colorscale\":[[0.0,\"#0d0887\"],[0.1111111111111111,\"#46039f\"],[0.2222222222222222,\"#7201a8\"],[0.3333333333333333,\"#9c179e\"],[0.4444444444444444,\"#bd3786\"],[0.5555555555555556,\"#d8576b\"],[0.6666666666666666,\"#ed7953\"],[0.7777777777777778,\"#fb9f3a\"],[0.8888888888888888,\"#fdca26\"],[1.0,\"#f0f921\"]]}],\"contourcarpet\":[{\"type\":\"contourcarpet\",\"colorbar\":{\"outlinewidth\":0,\"ticks\":\"\"}}],\"contour\":[{\"type\":\"contour\",\"colorbar\":{\"outlinewidth\":0,\"ticks\":\"\"},\"colorscale\":[[0.0,\"#0d0887\"],[0.1111111111111111,\"#46039f\"],[0.2222222222222222,\"#7201a8\"],[0.3333333333333333,\"#9c179e\"],[0.4444444444444444,\"#bd3786\"],[0.5555555555555556,\"#d8576b\"],[0.6666666666666666,\"#ed7953\"],[0.7777777777777778,\"#fb9f3a\"],[0.8888888888888888,\"#fdca26\"],[1.0,\"#f0f921\"]]}],\"surface\":[{\"type\":\"surface\",\"colorbar\":{\"outlinewidth\":0,\"ticks\":\"\"},\"colorscale\":[[0.0,\"#0d0887\"],[0.1111111111111111,\"#46039f\"],[0.2222222222222222,\"#7201a8\"],[0.3333333333333333,\"#9c179e\"],[0.4444444444444444,\"#bd3786\"],[0.5555555555555556,\"#d8576b\"],[0.6666666666666666,\"#ed7953\"],[0.7777777777777778,\"#fb9f3a\"],[0.8888888888888888,\"#fdca26\"],[1.0,\"#f0f921\"]]}],\"mesh3d\":[{\"type\":\"mesh3d\",\"colorbar\":{\"outlinewidth\":0,\"ticks\":\"\"}}],\"scatter\":[{\"fillpattern\":{\"fillmode\":\"overlay\",\"size\":10,\"solidity\":0.2},\"type\":\"scatter\"}],\"parcoords\":[{\"type\":\"parcoords\",\"line\":{\"colorbar\":{\"outlinewidth\":0,\"ticks\":\"\"}}}],\"scatterpolargl\":[{\"type\":\"scatterpolargl\",\"marker\":{\"colorbar\":{\"outlinewidth\":0,\"ticks\":\"\"}}}],\"bar\":[{\"error_x\":{\"color\":\"#2a3f5f\"},\"error_y\":{\"color\":\"#2a3f5f\"},\"marker\":{\"line\":{\"color\":\"#E5ECF6\",\"width\":0.5},\"pattern\":{\"fillmode\":\"overlay\",\"size\":10,\"solidity\":0.2}},\"type\":\"bar\"}],\"scattergeo\":[{\"type\":\"scattergeo\",\"marker\":{\"colorbar\":{\"outlinewidth\":0,\"ticks\":\"\"}}}],\"scatterpolar\":[{\"type\":\"scatterpolar\",\"marker\":{\"colorbar\":{\"outlinewidth\":0,\"ticks\":\"\"}}}],\"histogram\":[{\"marker\":{\"pattern\":{\"fillmode\":\"overlay\",\"size\":10,\"solidity\":0.2}},\"type\":\"histogram\"}],\"scattergl\":[{\"type\":\"scattergl\",\"marker\":{\"colorbar\":{\"outlinewidth\":0,\"ticks\":\"\"}}}],\"scatter3d\":[{\"type\":\"scatter3d\",\"line\":{\"colorbar\":{\"outlinewidth\":0,\"ticks\":\"\"}},\"marker\":{\"colorbar\":{\"outlinewidth\":0,\"ticks\":\"\"}}}],\"scattermapbox\":[{\"type\":\"scattermapbox\",\"marker\":{\"colorbar\":{\"outlinewidth\":0,\"ticks\":\"\"}}}],\"scatterternary\":[{\"type\":\"scatterternary\",\"marker\":{\"colorbar\":{\"outlinewidth\":0,\"ticks\":\"\"}}}],\"scattercarpet\":[{\"type\":\"scattercarpet\",\"marker\":{\"colorbar\":{\"outlinewidth\":0,\"ticks\":\"\"}}}],\"carpet\":[{\"aaxis\":{\"endlinecolor\":\"#2a3f5f\",\"gridcolor\":\"white\",\"linecolor\":\"white\",\"minorgridcolor\":\"white\",\"startlinecolor\":\"#2a3f5f\"},\"baxis\":{\"endlinecolor\":\"#2a3f5f\",\"gridcolor\":\"white\",\"linecolor\":\"white\",\"minorgridcolor\":\"white\",\"startlinecolor\":\"#2a3f5f\"},\"type\":\"carpet\"}],\"table\":[{\"cells\":{\"fill\":{\"color\":\"#EBF0F8\"},\"line\":{\"color\":\"white\"}},\"header\":{\"fill\":{\"color\":\"#C8D4E3\"},\"line\":{\"color\":\"white\"}},\"type\":\"table\"}],\"barpolar\":[{\"marker\":{\"line\":{\"color\":\"#E5ECF6\",\"width\":0.5},\"pattern\":{\"fillmode\":\"overlay\",\"size\":10,\"solidity\":0.2}},\"type\":\"barpolar\"}],\"pie\":[{\"automargin\":true,\"type\":\"pie\"}]},\"layout\":{\"autotypenumbers\":\"strict\",\"colorway\":[\"#636efa\",\"#EF553B\",\"#00cc96\",\"#ab63fa\",\"#FFA15A\",\"#19d3f3\",\"#FF6692\",\"#B6E880\",\"#FF97FF\",\"#FECB52\"],\"font\":{\"color\":\"#2a3f5f\"},\"hovermode\":\"closest\",\"hoverlabel\":{\"align\":\"left\"},\"paper_bgcolor\":\"white\",\"plot_bgcolor\":\"#E5ECF6\",\"polar\":{\"bgcolor\":\"#E5ECF6\",\"angularaxis\":{\"gridcolor\":\"white\",\"linecolor\":\"white\",\"ticks\":\"\"},\"radialaxis\":{\"gridcolor\":\"white\",\"linecolor\":\"white\",\"ticks\":\"\"}},\"ternary\":{\"bgcolor\":\"#E5ECF6\",\"aaxis\":{\"gridcolor\":\"white\",\"linecolor\":\"white\",\"ticks\":\"\"},\"baxis\":{\"gridcolor\":\"white\",\"linecolor\":\"white\",\"ticks\":\"\"},\"caxis\":{\"gridcolor\":\"white\",\"linecolor\":\"white\",\"ticks\":\"\"}},\"coloraxis\":{\"colorbar\":{\"outlinewidth\":0,\"ticks\":\"\"}},\"colorscale\":{\"sequential\":[[0.0,\"#0d0887\"],[0.1111111111111111,\"#46039f\"],[0.2222222222222222,\"#7201a8\"],[0.3333333333333333,\"#9c179e\"],[0.4444444444444444,\"#bd3786\"],[0.5555555555555556,\"#d8576b\"],[0.6666666666666666,\"#ed7953\"],[0.7777777777777778,\"#fb9f3a\"],[0.8888888888888888,\"#fdca26\"],[1.0,\"#f0f921\"]],\"sequentialminus\":[[0.0,\"#0d0887\"],[0.1111111111111111,\"#46039f\"],[0.2222222222222222,\"#7201a8\"],[0.3333333333333333,\"#9c179e\"],[0.4444444444444444,\"#bd3786\"],[0.5555555555555556,\"#d8576b\"],[0.6666666666666666,\"#ed7953\"],[0.7777777777777778,\"#fb9f3a\"],[0.8888888888888888,\"#fdca26\"],[1.0,\"#f0f921\"]],\"diverging\":[[0,\"#8e0152\"],[0.1,\"#c51b7d\"],[0.2,\"#de77ae\"],[0.3,\"#f1b6da\"],[0.4,\"#fde0ef\"],[0.5,\"#f7f7f7\"],[0.6,\"#e6f5d0\"],[0.7,\"#b8e186\"],[0.8,\"#7fbc41\"],[0.9,\"#4d9221\"],[1,\"#276419\"]]},\"xaxis\":{\"gridcolor\":\"white\",\"linecolor\":\"white\",\"ticks\":\"\",\"title\":{\"standoff\":15},\"zerolinecolor\":\"white\",\"automargin\":true,\"zerolinewidth\":2},\"yaxis\":{\"gridcolor\":\"white\",\"linecolor\":\"white\",\"ticks\":\"\",\"title\":{\"standoff\":15},\"zerolinecolor\":\"white\",\"automargin\":true,\"zerolinewidth\":2},\"scene\":{\"xaxis\":{\"backgroundcolor\":\"#E5ECF6\",\"gridcolor\":\"white\",\"linecolor\":\"white\",\"showbackground\":true,\"ticks\":\"\",\"zerolinecolor\":\"white\",\"gridwidth\":2},\"yaxis\":{\"backgroundcolor\":\"#E5ECF6\",\"gridcolor\":\"white\",\"linecolor\":\"white\",\"showbackground\":true,\"ticks\":\"\",\"zerolinecolor\":\"white\",\"gridwidth\":2},\"zaxis\":{\"backgroundcolor\":\"#E5ECF6\",\"gridcolor\":\"white\",\"linecolor\":\"white\",\"showbackground\":true,\"ticks\":\"\",\"zerolinecolor\":\"white\",\"gridwidth\":2}},\"shapedefaults\":{\"line\":{\"color\":\"#2a3f5f\"}},\"annotationdefaults\":{\"arrowcolor\":\"#2a3f5f\",\"arrowhead\":0,\"arrowwidth\":1},\"geo\":{\"bgcolor\":\"white\",\"landcolor\":\"#E5ECF6\",\"subunitcolor\":\"white\",\"showland\":true,\"showlakes\":true,\"lakecolor\":\"white\"},\"title\":{\"x\":0.05},\"mapbox\":{\"style\":\"light\"}}}},                        {\"responsive\": true}                    ).then(function(){\n",
              "                            \n",
              "var gd = document.getElementById('c28b6f80-e584-429c-9ce9-ce0bb4943cfb');\n",
              "var x = new MutationObserver(function (mutations, observer) {{\n",
              "        var display = window.getComputedStyle(gd).display;\n",
              "        if (!display || display === 'none') {{\n",
              "            console.log([gd, 'removed!']);\n",
              "            Plotly.purge(gd);\n",
              "            observer.disconnect();\n",
              "        }}\n",
              "}});\n",
              "\n",
              "// Listen for the removal of the full notebook cells\n",
              "var notebookContainer = gd.closest('#notebook-container');\n",
              "if (notebookContainer) {{\n",
              "    x.observe(notebookContainer, {childList: true});\n",
              "}}\n",
              "\n",
              "// Listen for the clearing of the current output cell\n",
              "var outputEl = gd.closest('.output');\n",
              "if (outputEl) {{\n",
              "    x.observe(outputEl, {childList: true});\n",
              "}}\n",
              "\n",
              "                        })                };                            </script>        </div>\n",
              "</body>\n",
              "</html>"
            ]
          },
          "metadata": {},
          "output_type": "display_data"
        }
      ],
      "source": [
        "from optuna.visualization import plot_param_importances\n",
        "plot_param_importances(study)"
      ],
      "id": "2-LMohnKR-EM"
    },
    {
      "cell_type": "code",
      "execution_count": null,
      "metadata": {
        "colab": {
          "base_uri": "https://localhost:8080/"
        },
        "id": "m33aI2j9Yj4L",
        "outputId": "2654cf5d-6bbc-46a1-d257-f2072c5ba618"
      },
      "outputs": [
        {
          "name": "stdout",
          "output_type": "stream",
          "text": [
            "Accuracy: 0.9568215356204276\n",
            "time 7.037830114364624\n"
          ]
        }
      ],
      "source": [
        "rs=NIA\n",
        "rf = ExtraTreesClassifier(random_state=rs)\n",
        "classif=Pipeline([('rf',rf)])\n",
        "classif.set_params(**study.best_params)\n",
        "(bacopt1, tiempo)=default_hp(classif, X_train, y_train, X_test, y_test)"
      ],
      "id": "m33aI2j9Yj4L"
    },
    {
      "cell_type": "code",
      "execution_count": null,
      "metadata": {
        "id": "dm7NoElaZyH1"
      },
      "outputs": [],
      "source": [
        "import time\n",
        "from scipy.stats import randint as sp_randint\n",
        "from sklearn import metrics\n",
        "from scipy.stats import uniform, expon\n",
        "from sklearn.model_selection import PredefinedSplit, RandomizedSearchCV\n",
        "from sklearn.model_selection import KFold\n",
        "def default_RS(classif, X_train, y_train, X_test, y_test,param_grid,n):\n",
        "  inicio = time.time()\n",
        "  rs=NIA\n",
        "  np.random.seed(NIA)\n",
        "  cv = StratifiedKFold(n_splits=3, shuffle=True, random_state=rs)\n",
        "  clf_rnd=RandomizedSearchCV(classif,param_grid, scoring='balanced_accuracy', cv=cv , n_jobs=1, verbose=1, random_state=rs,n_iter=n)\n",
        "  clf_rnd.fit(X_train, y_train)\n",
        "  y_hat=clf_rnd.predict(X_test)\n",
        "  print(\"Accuracy: \",metrics.balanced_accuracy_score(y_test, y_hat))\n",
        "  print(f\"Best hyper-parameters: {clf_rnd.best_params_} and their score (inner evaluation): {clf_rnd.best_score_}\")\n",
        "  fin=time.time()\n",
        "  print('time',fin-inicio)\n",
        "  return(metrics.balanced_accuracy_score(y_test, y_hat),clf_rnd.best_params_,clf_rnd.best_score_,fin-inicio)"
      ],
      "id": "dm7NoElaZyH1"
    },
    {
      "cell_type": "code",
      "execution_count": null,
      "metadata": {
        "colab": {
          "base_uri": "https://localhost:8080/"
        },
        "id": "XvSuqI-1arCh",
        "outputId": "6c5a3850-2c09-4371-87c0-f0bd06c740cd"
      },
      "outputs": [
        {
          "name": "stdout",
          "output_type": "stream",
          "text": [
            "Fitting 3 folds for each of 30 candidates, totalling 90 fits\n",
            "Accuracy:  0.9521436655065464\n",
            "Best hyper-parameters: {'clf__max_depth': 26, 'clf__max_features': 0.9610623694680618, 'clf__min_samples_leaf': 7} and their score (inner evaluation): 0.9499845816054721\n",
            "time 667.9371857643127\n"
          ]
        }
      ],
      "source": [
        "import time\n",
        "rs=NIA\n",
        "clf = ExtraTreesClassifier(random_state=rs)\n",
        "classif=Pipeline([('clf',clf)])\n",
        "param_grid = {'clf__max_depth': sp_randint(6,40), 'clf__min_samples_leaf': sp_randint(6,60),'clf__max_features':uniform(0.1,0.9)}\n",
        "(Accur1,best_params,inner_score,timer1)=default_RS(classif, X_train, y_train, X_test, y_test,param_grid,30)"
      ],
      "id": "XvSuqI-1arCh"
    },
    {
      "cell_type": "markdown",
      "metadata": {
        "id": "b0113a16"
      },
      "source": [
        "### Support Vector Machines"
      ],
      "id": "b0113a16"
    },
    {
      "cell_type": "code",
      "execution_count": null,
      "metadata": {
        "colab": {
          "base_uri": "https://localhost:8080/"
        },
        "id": "ebe22ed2",
        "outputId": "4c8207d0-c641-48db-a0de-a4c9b636c9a6"
      },
      "outputs": [
        {
          "name": "stderr",
          "output_type": "stream",
          "text": [
            "\u001b[32m[I 2023-04-30 14:41:10,176]\u001b[0m A new study created in memory with name: no-name-331a3ea9-1d24-44a8-9b0c-c620545657a9\u001b[0m\n",
            "\u001b[32m[I 2023-04-30 14:41:47,242]\u001b[0m Trial 0 finished with value: 0.9222845259629455 and parameters: {'svc__gamma': 0.006457054399616974, 'svc__C': 0.360560196215256}. Best is trial 0 with value: 0.9222845259629455.\u001b[0m\n",
            "\u001b[32m[I 2023-04-30 14:42:12,296]\u001b[0m Trial 1 finished with value: 0.9518939065140541 and parameters: {'svc__gamma': 0.3159299018004245, 'svc__C': 1.431977489590716}. Best is trial 1 with value: 0.9518939065140541.\u001b[0m\n",
            "\u001b[32m[I 2023-04-30 14:42:40,072]\u001b[0m Trial 2 finished with value: 0.9359304207974016 and parameters: {'svc__gamma': 0.07531905240113891, 'svc__C': 0.1123410908909567}. Best is trial 1 with value: 0.9518939065140541.\u001b[0m\n",
            "\u001b[32m[I 2023-04-30 14:42:57,778]\u001b[0m Trial 3 finished with value: 0.9551393802704925 and parameters: {'svc__gamma': 0.11930026632170891, 'svc__C': 9.024271312272173}. Best is trial 3 with value: 0.9551393802704925.\u001b[0m\n",
            "\u001b[32m[I 2023-04-30 14:43:22,976]\u001b[0m Trial 4 finished with value: 0.9529560304158552 and parameters: {'svc__gamma': 0.31297644842020306, 'svc__C': 9.83946485298502}. Best is trial 3 with value: 0.9551393802704925.\u001b[0m\n",
            "\u001b[32m[I 2023-04-30 14:43:43,052]\u001b[0m Trial 5 finished with value: 0.9417675117884698 and parameters: {'svc__gamma': 0.004571775988781049, 'svc__C': 23.6812990975749}. Best is trial 3 with value: 0.9551393802704925.\u001b[0m\n",
            "\u001b[32m[I 2023-04-30 14:44:08,045]\u001b[0m Trial 6 finished with value: 0.9322313931037902 and parameters: {'svc__gamma': 0.006957006138813752, 'svc__C': 1.8751675795367801}. Best is trial 3 with value: 0.9551393802704925.\u001b[0m\n",
            "\u001b[32m[I 2023-04-30 14:45:54,743]\u001b[0m Trial 7 finished with value: 0.9259037847080118 and parameters: {'svc__gamma': 0.9437425701036339, 'svc__C': 60.94087873239638}. Best is trial 3 with value: 0.9551393802704925.\u001b[0m\n",
            "\u001b[32m[I 2023-04-30 14:46:16,262]\u001b[0m Trial 8 finished with value: 0.94522317345746 and parameters: {'svc__gamma': 0.13356901880524788, 'svc__C': 0.5477725930360496}. Best is trial 3 with value: 0.9551393802704925.\u001b[0m\n",
            "\u001b[32m[I 2023-04-30 14:46:35,230]\u001b[0m Trial 9 finished with value: 0.9467241907879648 and parameters: {'svc__gamma': 0.025119571212447678, 'svc__C': 10.072164257625108}. Best is trial 3 with value: 0.9551393802704925.\u001b[0m\n",
            "\u001b[32m[I 2023-04-30 14:46:53,471]\u001b[0m Trial 10 finished with value: 0.944738485052067 and parameters: {'svc__gamma': 0.02591486090792906, 'svc__C': 5.064079067147977}. Best is trial 3 with value: 0.9551393802704925.\u001b[0m\n",
            "\u001b[32m[I 2023-04-30 14:47:16,948]\u001b[0m Trial 11 finished with value: 0.9531985911122675 and parameters: {'svc__gamma': 0.3178477948284527, 'svc__C': 11.565503167945698}. Best is trial 3 with value: 0.9551393802704925.\u001b[0m\n",
            "\u001b[32m[I 2023-04-30 14:47:39,016]\u001b[0m Trial 12 finished with value: 0.9350970793931831 and parameters: {'svc__gamma': 0.0011422681246485726, 'svc__C': 29.48215398132372}. Best is trial 3 with value: 0.9551393802704925.\u001b[0m\n",
            "\u001b[32m[I 2023-04-30 14:49:21,512]\u001b[0m Trial 13 finished with value: 0.9296642858319402 and parameters: {'svc__gamma': 0.9442672143250387, 'svc__C': 4.606694890571774}. Best is trial 3 with value: 0.9551393802704925.\u001b[0m\n",
            "\u001b[32m[I 2023-04-30 14:49:39,669]\u001b[0m Trial 14 finished with value: 0.9535023839609384 and parameters: {'svc__gamma': 0.09146215334889606, 'svc__C': 69.38246674202217}. Best is trial 3 with value: 0.9551393802704925.\u001b[0m\n",
            "\u001b[32m[I 2023-04-30 14:49:58,034]\u001b[0m Trial 15 finished with value: 0.9553218685844606 and parameters: {'svc__gamma': 0.05365786630087935, 'svc__C': 95.6950301089892}. Best is trial 15 with value: 0.9553218685844606.\u001b[0m\n",
            "\u001b[32m[I 2023-04-30 14:50:16,689]\u001b[0m Trial 16 finished with value: 0.9546543223220367 and parameters: {'svc__gamma': 0.04243195301842749, 'svc__C': 88.72570541090941}. Best is trial 15 with value: 0.9553218685844606.\u001b[0m\n",
            "\u001b[32m[I 2023-04-30 14:50:34,161]\u001b[0m Trial 17 finished with value: 0.9536535806849259 and parameters: {'svc__gamma': 0.0463722394848499, 'svc__C': 28.634040656265068}. Best is trial 15 with value: 0.9553218685844606.\u001b[0m\n",
            "\u001b[32m[I 2023-04-30 14:50:51,593]\u001b[0m Trial 18 finished with value: 0.951515714466516 and parameters: {'svc__gamma': 0.018343623931784094, 'svc__C': 93.05761021954447}. Best is trial 15 with value: 0.9553218685844606.\u001b[0m\n",
            "\u001b[32m[I 2023-04-30 14:51:10,032]\u001b[0m Trial 19 finished with value: 0.9535477005479752 and parameters: {'svc__gamma': 0.15536849586939022, 'svc__C': 39.78705008414907}. Best is trial 15 with value: 0.9553218685844606.\u001b[0m\n",
            "\u001b[32m[I 2023-04-30 14:51:28,373]\u001b[0m Trial 20 finished with value: 0.9521522972205337 and parameters: {'svc__gamma': 0.0503682626830411, 'svc__C': 14.156002478424146}. Best is trial 15 with value: 0.9553218685844606.\u001b[0m\n",
            "\u001b[32m[I 2023-04-30 14:51:46,322]\u001b[0m Trial 21 finished with value: 0.9548060056632584 and parameters: {'svc__gamma': 0.04627865196914464, 'svc__C': 95.71418842477014}. Best is trial 15 with value: 0.9553218685844606.\u001b[0m\n",
            "\u001b[32m[I 2023-04-30 14:52:03,501]\u001b[0m Trial 22 finished with value: 0.9500298045226372 and parameters: {'svc__gamma': 0.018018001645352364, 'svc__C': 51.79031124999253}. Best is trial 15 with value: 0.9553218685844606.\u001b[0m\n",
            "\u001b[32m[I 2023-04-30 14:52:20,980]\u001b[0m Trial 23 finished with value: 0.9554734346934945 and parameters: {'svc__gamma': 0.08112221033008013, 'svc__C': 43.43260372967945}. Best is trial 23 with value: 0.9554734346934945.\u001b[0m\n",
            "\u001b[32m[I 2023-04-30 14:52:39,146]\u001b[0m Trial 24 finished with value: 0.9551393733514658 and parameters: {'svc__gamma': 0.09034482798947086, 'svc__C': 20.880460213469295}. Best is trial 23 with value: 0.9554734346934945.\u001b[0m\n",
            "\u001b[32m[I 2023-04-30 14:52:56,637]\u001b[0m Trial 25 finished with value: 0.9544119407076762 and parameters: {'svc__gamma': 0.1135426433426423, 'svc__C': 37.372568747702296}. Best is trial 23 with value: 0.9554734346934945.\u001b[0m\n",
            "\u001b[32m[I 2023-04-30 14:53:16,748]\u001b[0m Trial 26 finished with value: 0.9533807360550778 and parameters: {'svc__gamma': 0.22710822394057106, 'svc__C': 47.777999400646024}. Best is trial 23 with value: 0.9554734346934945.\u001b[0m\n",
            "\u001b[32m[I 2023-04-30 14:53:35,273]\u001b[0m Trial 27 finished with value: 0.9553519095851417 and parameters: {'svc__gamma': 0.0681675235693684, 'svc__C': 54.718534216198655}. Best is trial 23 with value: 0.9554734346934945.\u001b[0m\n",
            "\u001b[32m[I 2023-04-30 14:53:52,135]\u001b[0m Trial 28 finished with value: 0.9545479142192285 and parameters: {'svc__gamma': 0.0653550204772136, 'svc__C': 19.180534500300922}. Best is trial 23 with value: 0.9554734346934945.\u001b[0m\n",
            "\u001b[32m[I 2023-04-30 14:54:09,116]\u001b[0m Trial 29 finished with value: 0.9526226821686524 and parameters: {'svc__gamma': 0.03112740675019179, 'svc__C': 48.472758956033545}. Best is trial 23 with value: 0.9554734346934945.\u001b[0m\n"
          ]
        },
        {
          "name": "stdout",
          "output_type": "stream",
          "text": [
            "time 778.9429323673248\n"
          ]
        }
      ],
      "source": [
        "import optuna\n",
        "import time\n",
        "from sklearn import svm\n",
        "from optuna import trial\n",
        "from sklearn.model_selection import cross_val_score\n",
        "from sklearn.model_selection import StratifiedKFold\n",
        "from sklearn import svm\n",
        "inicio = time.time()\n",
        "rs=NIA\n",
        "cv_inner = StratifiedKFold(n_splits=3, random_state=rs, shuffle=True)\n",
        "np.random.seed(NIA)\n",
        "def objective(trial):\n",
        "    svc__Gamma = trial.suggest_float('svc__gamma',0.001,1,log=True)\n",
        "    svc__C = trial.suggest_float(\"svc__C\",0.1,100,log=True)\n",
        "    classifier_obj = Pipeline([('preprocessor',preprocessor1),('svc',svm.SVC(gamma=svc__Gamma, C=svc__C,random_state=rs))])\n",
        "\n",
        "\n",
        "    # Step 3: Scoring method:\n",
        "    score = cross_val_score(classifier_obj, X_train, y_train,scoring='balanced_accuracy', n_jobs=-1, cv=cv_inner)\n",
        "    accuracy = score.mean()\n",
        "    return accuracy\n",
        "\n",
        "# Step 4: Running it\n",
        "study = optuna.create_study(direction=\"maximize\")\n",
        "study.optimize(objective, n_trials=30)\n",
        "fin=time.time()\n",
        "print('time',fin-inicio)\n",
        "timeopt2=fin-inicio"
      ],
      "id": "ebe22ed2"
    },
    {
      "cell_type": "code",
      "execution_count": null,
      "metadata": {
        "colab": {
          "base_uri": "https://localhost:8080/",
          "height": 701
        },
        "id": "8c907a62",
        "outputId": "8f2a191e-f0ff-4339-8408-81cf808442e2"
      },
      "outputs": [
        {
          "name": "stdout",
          "output_type": "stream",
          "text": [
            "The best trial is : \n",
            "FrozenTrial(number=23, state=TrialState.COMPLETE, values=[0.9554734346934945], datetime_start=datetime.datetime(2023, 4, 30, 14, 52, 3, 502913), datetime_complete=datetime.datetime(2023, 4, 30, 14, 52, 20, 979966), params={'svc__gamma': 0.08112221033008013, 'svc__C': 43.43260372967945}, user_attrs={}, system_attrs={}, intermediate_values={}, distributions={'svc__gamma': FloatDistribution(high=1.0, log=True, low=0.001, step=None), 'svc__C': FloatDistribution(high=100.0, log=True, low=0.1, step=None)}, trial_id=23, value=None)\n",
            "The best value is : \n",
            "0.9554734346934945\n",
            "The best parameters are : \n",
            "{'svc__gamma': 0.08112221033008013, 'svc__C': 43.43260372967945}\n",
            "Precision: 0.9554734346934945\n",
            "Best hyperparameters: {'svc__gamma': 0.08112221033008013, 'svc__C': 43.43260372967945}\n"
          ]
        },
        {
          "data": {
            "text/html": [
              "<html>\n",
              "<head><meta charset=\"utf-8\" /></head>\n",
              "<body>\n",
              "    <div>            <script src=\"https://cdnjs.cloudflare.com/ajax/libs/mathjax/2.7.5/MathJax.js?config=TeX-AMS-MML_SVG\"></script><script type=\"text/javascript\">if (window.MathJax && window.MathJax.Hub && window.MathJax.Hub.Config) {window.MathJax.Hub.Config({SVG: {font: \"STIX-Web\"}});}</script>                <script type=\"text/javascript\">window.PlotlyConfig = {MathJaxConfig: 'local'};</script>\n",
              "        <script src=\"https://cdn.plot.ly/plotly-2.18.2.min.js\"></script>                <div id=\"222f06cc-f104-4034-a866-808c56fa9cb9\" class=\"plotly-graph-div\" style=\"height:525px; width:100%;\"></div>            <script type=\"text/javascript\">                                    window.PLOTLYENV=window.PLOTLYENV || {};                                    if (document.getElementById(\"222f06cc-f104-4034-a866-808c56fa9cb9\")) {                    Plotly.newPlot(                        \"222f06cc-f104-4034-a866-808c56fa9cb9\",                        [{\"mode\":\"markers\",\"name\":\"Objective Value\",\"x\":[0,1,2,3,4,5,6,7,8,9,10,11,12,13,14,15,16,17,18,19,20,21,22,23,24,25,26,27,28,29],\"y\":[0.9222845259629455,0.9518939065140541,0.9359304207974016,0.9551393802704925,0.9529560304158552,0.9417675117884698,0.9322313931037902,0.9259037847080118,0.94522317345746,0.9467241907879648,0.944738485052067,0.9531985911122675,0.9350970793931831,0.9296642858319402,0.9535023839609384,0.9553218685844606,0.9546543223220367,0.9536535806849259,0.951515714466516,0.9535477005479752,0.9521522972205337,0.9548060056632584,0.9500298045226372,0.9554734346934945,0.9551393733514658,0.9544119407076762,0.9533807360550778,0.9553519095851417,0.9545479142192285,0.9526226821686524],\"type\":\"scatter\"},{\"name\":\"Best Value\",\"x\":[0,1,2,3,4,5,6,7,8,9,10,11,12,13,14,15,16,17,18,19,20,21,22,23,24,25,26,27,28,29],\"y\":[0.9222845259629455,0.9518939065140541,0.9518939065140541,0.9551393802704925,0.9551393802704925,0.9551393802704925,0.9551393802704925,0.9551393802704925,0.9551393802704925,0.9551393802704925,0.9551393802704925,0.9551393802704925,0.9551393802704925,0.9551393802704925,0.9551393802704925,0.9553218685844606,0.9553218685844606,0.9553218685844606,0.9553218685844606,0.9553218685844606,0.9553218685844606,0.9553218685844606,0.9553218685844606,0.9554734346934945,0.9554734346934945,0.9554734346934945,0.9554734346934945,0.9554734346934945,0.9554734346934945,0.9554734346934945],\"type\":\"scatter\"}],                        {\"title\":{\"text\":\"Optimization History Plot\"},\"xaxis\":{\"title\":{\"text\":\"Trial\"}},\"yaxis\":{\"title\":{\"text\":\"Objective Value\"}},\"template\":{\"data\":{\"histogram2dcontour\":[{\"type\":\"histogram2dcontour\",\"colorbar\":{\"outlinewidth\":0,\"ticks\":\"\"},\"colorscale\":[[0.0,\"#0d0887\"],[0.1111111111111111,\"#46039f\"],[0.2222222222222222,\"#7201a8\"],[0.3333333333333333,\"#9c179e\"],[0.4444444444444444,\"#bd3786\"],[0.5555555555555556,\"#d8576b\"],[0.6666666666666666,\"#ed7953\"],[0.7777777777777778,\"#fb9f3a\"],[0.8888888888888888,\"#fdca26\"],[1.0,\"#f0f921\"]]}],\"choropleth\":[{\"type\":\"choropleth\",\"colorbar\":{\"outlinewidth\":0,\"ticks\":\"\"}}],\"histogram2d\":[{\"type\":\"histogram2d\",\"colorbar\":{\"outlinewidth\":0,\"ticks\":\"\"},\"colorscale\":[[0.0,\"#0d0887\"],[0.1111111111111111,\"#46039f\"],[0.2222222222222222,\"#7201a8\"],[0.3333333333333333,\"#9c179e\"],[0.4444444444444444,\"#bd3786\"],[0.5555555555555556,\"#d8576b\"],[0.6666666666666666,\"#ed7953\"],[0.7777777777777778,\"#fb9f3a\"],[0.8888888888888888,\"#fdca26\"],[1.0,\"#f0f921\"]]}],\"heatmap\":[{\"type\":\"heatmap\",\"colorbar\":{\"outlinewidth\":0,\"ticks\":\"\"},\"colorscale\":[[0.0,\"#0d0887\"],[0.1111111111111111,\"#46039f\"],[0.2222222222222222,\"#7201a8\"],[0.3333333333333333,\"#9c179e\"],[0.4444444444444444,\"#bd3786\"],[0.5555555555555556,\"#d8576b\"],[0.6666666666666666,\"#ed7953\"],[0.7777777777777778,\"#fb9f3a\"],[0.8888888888888888,\"#fdca26\"],[1.0,\"#f0f921\"]]}],\"heatmapgl\":[{\"type\":\"heatmapgl\",\"colorbar\":{\"outlinewidth\":0,\"ticks\":\"\"},\"colorscale\":[[0.0,\"#0d0887\"],[0.1111111111111111,\"#46039f\"],[0.2222222222222222,\"#7201a8\"],[0.3333333333333333,\"#9c179e\"],[0.4444444444444444,\"#bd3786\"],[0.5555555555555556,\"#d8576b\"],[0.6666666666666666,\"#ed7953\"],[0.7777777777777778,\"#fb9f3a\"],[0.8888888888888888,\"#fdca26\"],[1.0,\"#f0f921\"]]}],\"contourcarpet\":[{\"type\":\"contourcarpet\",\"colorbar\":{\"outlinewidth\":0,\"ticks\":\"\"}}],\"contour\":[{\"type\":\"contour\",\"colorbar\":{\"outlinewidth\":0,\"ticks\":\"\"},\"colorscale\":[[0.0,\"#0d0887\"],[0.1111111111111111,\"#46039f\"],[0.2222222222222222,\"#7201a8\"],[0.3333333333333333,\"#9c179e\"],[0.4444444444444444,\"#bd3786\"],[0.5555555555555556,\"#d8576b\"],[0.6666666666666666,\"#ed7953\"],[0.7777777777777778,\"#fb9f3a\"],[0.8888888888888888,\"#fdca26\"],[1.0,\"#f0f921\"]]}],\"surface\":[{\"type\":\"surface\",\"colorbar\":{\"outlinewidth\":0,\"ticks\":\"\"},\"colorscale\":[[0.0,\"#0d0887\"],[0.1111111111111111,\"#46039f\"],[0.2222222222222222,\"#7201a8\"],[0.3333333333333333,\"#9c179e\"],[0.4444444444444444,\"#bd3786\"],[0.5555555555555556,\"#d8576b\"],[0.6666666666666666,\"#ed7953\"],[0.7777777777777778,\"#fb9f3a\"],[0.8888888888888888,\"#fdca26\"],[1.0,\"#f0f921\"]]}],\"mesh3d\":[{\"type\":\"mesh3d\",\"colorbar\":{\"outlinewidth\":0,\"ticks\":\"\"}}],\"scatter\":[{\"fillpattern\":{\"fillmode\":\"overlay\",\"size\":10,\"solidity\":0.2},\"type\":\"scatter\"}],\"parcoords\":[{\"type\":\"parcoords\",\"line\":{\"colorbar\":{\"outlinewidth\":0,\"ticks\":\"\"}}}],\"scatterpolargl\":[{\"type\":\"scatterpolargl\",\"marker\":{\"colorbar\":{\"outlinewidth\":0,\"ticks\":\"\"}}}],\"bar\":[{\"error_x\":{\"color\":\"#2a3f5f\"},\"error_y\":{\"color\":\"#2a3f5f\"},\"marker\":{\"line\":{\"color\":\"#E5ECF6\",\"width\":0.5},\"pattern\":{\"fillmode\":\"overlay\",\"size\":10,\"solidity\":0.2}},\"type\":\"bar\"}],\"scattergeo\":[{\"type\":\"scattergeo\",\"marker\":{\"colorbar\":{\"outlinewidth\":0,\"ticks\":\"\"}}}],\"scatterpolar\":[{\"type\":\"scatterpolar\",\"marker\":{\"colorbar\":{\"outlinewidth\":0,\"ticks\":\"\"}}}],\"histogram\":[{\"marker\":{\"pattern\":{\"fillmode\":\"overlay\",\"size\":10,\"solidity\":0.2}},\"type\":\"histogram\"}],\"scattergl\":[{\"type\":\"scattergl\",\"marker\":{\"colorbar\":{\"outlinewidth\":0,\"ticks\":\"\"}}}],\"scatter3d\":[{\"type\":\"scatter3d\",\"line\":{\"colorbar\":{\"outlinewidth\":0,\"ticks\":\"\"}},\"marker\":{\"colorbar\":{\"outlinewidth\":0,\"ticks\":\"\"}}}],\"scattermapbox\":[{\"type\":\"scattermapbox\",\"marker\":{\"colorbar\":{\"outlinewidth\":0,\"ticks\":\"\"}}}],\"scatterternary\":[{\"type\":\"scatterternary\",\"marker\":{\"colorbar\":{\"outlinewidth\":0,\"ticks\":\"\"}}}],\"scattercarpet\":[{\"type\":\"scattercarpet\",\"marker\":{\"colorbar\":{\"outlinewidth\":0,\"ticks\":\"\"}}}],\"carpet\":[{\"aaxis\":{\"endlinecolor\":\"#2a3f5f\",\"gridcolor\":\"white\",\"linecolor\":\"white\",\"minorgridcolor\":\"white\",\"startlinecolor\":\"#2a3f5f\"},\"baxis\":{\"endlinecolor\":\"#2a3f5f\",\"gridcolor\":\"white\",\"linecolor\":\"white\",\"minorgridcolor\":\"white\",\"startlinecolor\":\"#2a3f5f\"},\"type\":\"carpet\"}],\"table\":[{\"cells\":{\"fill\":{\"color\":\"#EBF0F8\"},\"line\":{\"color\":\"white\"}},\"header\":{\"fill\":{\"color\":\"#C8D4E3\"},\"line\":{\"color\":\"white\"}},\"type\":\"table\"}],\"barpolar\":[{\"marker\":{\"line\":{\"color\":\"#E5ECF6\",\"width\":0.5},\"pattern\":{\"fillmode\":\"overlay\",\"size\":10,\"solidity\":0.2}},\"type\":\"barpolar\"}],\"pie\":[{\"automargin\":true,\"type\":\"pie\"}]},\"layout\":{\"autotypenumbers\":\"strict\",\"colorway\":[\"#636efa\",\"#EF553B\",\"#00cc96\",\"#ab63fa\",\"#FFA15A\",\"#19d3f3\",\"#FF6692\",\"#B6E880\",\"#FF97FF\",\"#FECB52\"],\"font\":{\"color\":\"#2a3f5f\"},\"hovermode\":\"closest\",\"hoverlabel\":{\"align\":\"left\"},\"paper_bgcolor\":\"white\",\"plot_bgcolor\":\"#E5ECF6\",\"polar\":{\"bgcolor\":\"#E5ECF6\",\"angularaxis\":{\"gridcolor\":\"white\",\"linecolor\":\"white\",\"ticks\":\"\"},\"radialaxis\":{\"gridcolor\":\"white\",\"linecolor\":\"white\",\"ticks\":\"\"}},\"ternary\":{\"bgcolor\":\"#E5ECF6\",\"aaxis\":{\"gridcolor\":\"white\",\"linecolor\":\"white\",\"ticks\":\"\"},\"baxis\":{\"gridcolor\":\"white\",\"linecolor\":\"white\",\"ticks\":\"\"},\"caxis\":{\"gridcolor\":\"white\",\"linecolor\":\"white\",\"ticks\":\"\"}},\"coloraxis\":{\"colorbar\":{\"outlinewidth\":0,\"ticks\":\"\"}},\"colorscale\":{\"sequential\":[[0.0,\"#0d0887\"],[0.1111111111111111,\"#46039f\"],[0.2222222222222222,\"#7201a8\"],[0.3333333333333333,\"#9c179e\"],[0.4444444444444444,\"#bd3786\"],[0.5555555555555556,\"#d8576b\"],[0.6666666666666666,\"#ed7953\"],[0.7777777777777778,\"#fb9f3a\"],[0.8888888888888888,\"#fdca26\"],[1.0,\"#f0f921\"]],\"sequentialminus\":[[0.0,\"#0d0887\"],[0.1111111111111111,\"#46039f\"],[0.2222222222222222,\"#7201a8\"],[0.3333333333333333,\"#9c179e\"],[0.4444444444444444,\"#bd3786\"],[0.5555555555555556,\"#d8576b\"],[0.6666666666666666,\"#ed7953\"],[0.7777777777777778,\"#fb9f3a\"],[0.8888888888888888,\"#fdca26\"],[1.0,\"#f0f921\"]],\"diverging\":[[0,\"#8e0152\"],[0.1,\"#c51b7d\"],[0.2,\"#de77ae\"],[0.3,\"#f1b6da\"],[0.4,\"#fde0ef\"],[0.5,\"#f7f7f7\"],[0.6,\"#e6f5d0\"],[0.7,\"#b8e186\"],[0.8,\"#7fbc41\"],[0.9,\"#4d9221\"],[1,\"#276419\"]]},\"xaxis\":{\"gridcolor\":\"white\",\"linecolor\":\"white\",\"ticks\":\"\",\"title\":{\"standoff\":15},\"zerolinecolor\":\"white\",\"automargin\":true,\"zerolinewidth\":2},\"yaxis\":{\"gridcolor\":\"white\",\"linecolor\":\"white\",\"ticks\":\"\",\"title\":{\"standoff\":15},\"zerolinecolor\":\"white\",\"automargin\":true,\"zerolinewidth\":2},\"scene\":{\"xaxis\":{\"backgroundcolor\":\"#E5ECF6\",\"gridcolor\":\"white\",\"linecolor\":\"white\",\"showbackground\":true,\"ticks\":\"\",\"zerolinecolor\":\"white\",\"gridwidth\":2},\"yaxis\":{\"backgroundcolor\":\"#E5ECF6\",\"gridcolor\":\"white\",\"linecolor\":\"white\",\"showbackground\":true,\"ticks\":\"\",\"zerolinecolor\":\"white\",\"gridwidth\":2},\"zaxis\":{\"backgroundcolor\":\"#E5ECF6\",\"gridcolor\":\"white\",\"linecolor\":\"white\",\"showbackground\":true,\"ticks\":\"\",\"zerolinecolor\":\"white\",\"gridwidth\":2}},\"shapedefaults\":{\"line\":{\"color\":\"#2a3f5f\"}},\"annotationdefaults\":{\"arrowcolor\":\"#2a3f5f\",\"arrowhead\":0,\"arrowwidth\":1},\"geo\":{\"bgcolor\":\"white\",\"landcolor\":\"#E5ECF6\",\"subunitcolor\":\"white\",\"showland\":true,\"showlakes\":true,\"lakecolor\":\"white\"},\"title\":{\"x\":0.05},\"mapbox\":{\"style\":\"light\"}}}},                        {\"responsive\": true}                    ).then(function(){\n",
              "                            \n",
              "var gd = document.getElementById('222f06cc-f104-4034-a866-808c56fa9cb9');\n",
              "var x = new MutationObserver(function (mutations, observer) {{\n",
              "        var display = window.getComputedStyle(gd).display;\n",
              "        if (!display || display === 'none') {{\n",
              "            console.log([gd, 'removed!']);\n",
              "            Plotly.purge(gd);\n",
              "            observer.disconnect();\n",
              "        }}\n",
              "}});\n",
              "\n",
              "// Listen for the removal of the full notebook cells\n",
              "var notebookContainer = gd.closest('#notebook-container');\n",
              "if (notebookContainer) {{\n",
              "    x.observe(notebookContainer, {childList: true});\n",
              "}}\n",
              "\n",
              "// Listen for the clearing of the current output cell\n",
              "var outputEl = gd.closest('.output');\n",
              "if (outputEl) {{\n",
              "    x.observe(outputEl, {childList: true});\n",
              "}}\n",
              "\n",
              "                        })                };                            </script>        </div>\n",
              "</body>\n",
              "</html>"
            ]
          },
          "metadata": {},
          "output_type": "display_data"
        }
      ],
      "source": [
        "# Getting the best trial:\n",
        "print(f\"The best trial is : \\n{study.best_trial}\")\n",
        "# Getting the best score:\n",
        "print(f\"The best value is : \\n{study.best_value}\")\n",
        "# Getting the best parameters:\n",
        "print(f\"The best parameters are : \\n{study.best_params}\")\n",
        "trial = study.best_trial\n",
        "print('Precision: {}'.format(trial.value))\n",
        "print(\"Best hyperparameters: {}\".format(trial.params))\n",
        "optuna.visualization.plot_optimization_history(study).show()"
      ],
      "id": "8c907a62"
    },
    {
      "cell_type": "code",
      "execution_count": null,
      "metadata": {
        "colab": {
          "base_uri": "https://localhost:8080/",
          "height": 562
        },
        "id": "yIx1n4T0VP-n",
        "outputId": "c07e9533-85ff-45c6-cc85-8987dac83a68"
      },
      "outputs": [
        {
          "data": {
            "text/html": [
              "<html>\n",
              "<head><meta charset=\"utf-8\" /></head>\n",
              "<body>\n",
              "    <div>            <script src=\"https://cdnjs.cloudflare.com/ajax/libs/mathjax/2.7.5/MathJax.js?config=TeX-AMS-MML_SVG\"></script><script type=\"text/javascript\">if (window.MathJax && window.MathJax.Hub && window.MathJax.Hub.Config) {window.MathJax.Hub.Config({SVG: {font: \"STIX-Web\"}});}</script>                <script type=\"text/javascript\">window.PlotlyConfig = {MathJaxConfig: 'local'};</script>\n",
              "        <script src=\"https://cdn.plot.ly/plotly-2.18.2.min.js\"></script>                <div id=\"ba8718b6-0859-4c61-9f17-ff44285876bc\" class=\"plotly-graph-div\" style=\"height:525px; width:100%;\"></div>            <script type=\"text/javascript\">                                    window.PLOTLYENV=window.PLOTLYENV || {};                                    if (document.getElementById(\"ba8718b6-0859-4c61-9f17-ff44285876bc\")) {                    Plotly.newPlot(                        \"ba8718b6-0859-4c61-9f17-ff44285876bc\",                        [{\"dimensions\":[{\"label\":\"Objective Value\",\"range\":[0.9222845259629455,0.9554734346934945],\"values\":[0.9222845259629455,0.9518939065140541,0.9359304207974016,0.9551393802704925,0.9529560304158552,0.9417675117884698,0.9322313931037902,0.9259037847080118,0.94522317345746,0.9467241907879648,0.944738485052067,0.9531985911122675,0.9350970793931831,0.9296642858319402,0.9535023839609384,0.9553218685844606,0.9546543223220367,0.9536535806849259,0.951515714466516,0.9535477005479752,0.9521522972205337,0.9548060056632584,0.9500298045226372,0.9554734346934945,0.9551393733514658,0.9544119407076762,0.9533807360550778,0.9553519095851417,0.9545479142192285,0.9526226821686524]},{\"label\":\"svc__C\",\"range\":[-0.9494613632120344,1.9809763212444074],\"ticktext\":[\"0.112\",\"1\",\"10\",\"95.7\"],\"tickvals\":[-0.9494613632120344,0,1,1.9809763212444074],\"values\":[-0.4430222185958881,0.15593619100020506,-0.9494613632120344,0.9554121437814883,0.9929714787447894,1.3744055230269332,0.27304008572558525,1.7849087122082723,-0.26139970079868924,1.0031227996651868,0.7045004778461859,1.063164531902029,1.4695592101242427,0.663389449125036,1.8412497361720046,1.9808893834164623,1.9480494608778731,1.45688263726008,1.968751895373358,1.5997417406123795,1.1509406300014928,1.9809763212444074,1.7142485210535776,1.6378158655477437,1.31974006645511,1.5725529494582093,1.6792279606618654,1.738134455116614,1.2828607054048673,1.6854977394521007]},{\"label\":\"svc__gamma\",\"range\":[-2.9422319421604937,-0.024905089086375693],\"ticktext\":[\"0.00114\",\"0.01\",\"0.1\",\"0.944\"],\"tickvals\":[-2.9422319421604937,-2,-1,-0.024905089086375693],\"values\":[-2.1899655547194588,-0.500409267503042,-1.1230951525367485,-0.9233585868248845,-0.5044883420253679,-2.339915057633646,-2.1575776134237556,-0.025146454462829187,-0.8742942643322934,-1.5999877782173753,-1.5864511177941971,-0.4977807972810522,-2.9422319421604937,-0.024905089086375693,-1.03875857797683,-1.2703666009927796,-1.37230697847128,-1.3337419299306537,-1.7365148617901736,-0.808637038669896,-1.2978430286971976,-1.3346192999123447,-1.7442933777588439,-1.0908602246641017,-1.04409670464069,-0.9448409993499904,-0.6437671390196222,-1.1664224830250671,-1.1847210449342098,-1.5068570592402069]}],\"labelangle\":30,\"labelside\":\"bottom\",\"line\":{\"color\":[0.9222845259629455,0.9518939065140541,0.9359304207974016,0.9551393802704925,0.9529560304158552,0.9417675117884698,0.9322313931037902,0.9259037847080118,0.94522317345746,0.9467241907879648,0.944738485052067,0.9531985911122675,0.9350970793931831,0.9296642858319402,0.9535023839609384,0.9553218685844606,0.9546543223220367,0.9536535806849259,0.951515714466516,0.9535477005479752,0.9521522972205337,0.9548060056632584,0.9500298045226372,0.9554734346934945,0.9551393733514658,0.9544119407076762,0.9533807360550778,0.9553519095851417,0.9545479142192285,0.9526226821686524],\"colorbar\":{\"title\":{\"text\":\"Objective Value\"}},\"colorscale\":[[0.0,\"rgb(247,251,255)\"],[0.125,\"rgb(222,235,247)\"],[0.25,\"rgb(198,219,239)\"],[0.375,\"rgb(158,202,225)\"],[0.5,\"rgb(107,174,214)\"],[0.625,\"rgb(66,146,198)\"],[0.75,\"rgb(33,113,181)\"],[0.875,\"rgb(8,81,156)\"],[1.0,\"rgb(8,48,107)\"]],\"reversescale\":false,\"showscale\":true},\"type\":\"parcoords\"}],                        {\"title\":{\"text\":\"Parallel Coordinate Plot\"},\"template\":{\"data\":{\"histogram2dcontour\":[{\"type\":\"histogram2dcontour\",\"colorbar\":{\"outlinewidth\":0,\"ticks\":\"\"},\"colorscale\":[[0.0,\"#0d0887\"],[0.1111111111111111,\"#46039f\"],[0.2222222222222222,\"#7201a8\"],[0.3333333333333333,\"#9c179e\"],[0.4444444444444444,\"#bd3786\"],[0.5555555555555556,\"#d8576b\"],[0.6666666666666666,\"#ed7953\"],[0.7777777777777778,\"#fb9f3a\"],[0.8888888888888888,\"#fdca26\"],[1.0,\"#f0f921\"]]}],\"choropleth\":[{\"type\":\"choropleth\",\"colorbar\":{\"outlinewidth\":0,\"ticks\":\"\"}}],\"histogram2d\":[{\"type\":\"histogram2d\",\"colorbar\":{\"outlinewidth\":0,\"ticks\":\"\"},\"colorscale\":[[0.0,\"#0d0887\"],[0.1111111111111111,\"#46039f\"],[0.2222222222222222,\"#7201a8\"],[0.3333333333333333,\"#9c179e\"],[0.4444444444444444,\"#bd3786\"],[0.5555555555555556,\"#d8576b\"],[0.6666666666666666,\"#ed7953\"],[0.7777777777777778,\"#fb9f3a\"],[0.8888888888888888,\"#fdca26\"],[1.0,\"#f0f921\"]]}],\"heatmap\":[{\"type\":\"heatmap\",\"colorbar\":{\"outlinewidth\":0,\"ticks\":\"\"},\"colorscale\":[[0.0,\"#0d0887\"],[0.1111111111111111,\"#46039f\"],[0.2222222222222222,\"#7201a8\"],[0.3333333333333333,\"#9c179e\"],[0.4444444444444444,\"#bd3786\"],[0.5555555555555556,\"#d8576b\"],[0.6666666666666666,\"#ed7953\"],[0.7777777777777778,\"#fb9f3a\"],[0.8888888888888888,\"#fdca26\"],[1.0,\"#f0f921\"]]}],\"heatmapgl\":[{\"type\":\"heatmapgl\",\"colorbar\":{\"outlinewidth\":0,\"ticks\":\"\"},\"colorscale\":[[0.0,\"#0d0887\"],[0.1111111111111111,\"#46039f\"],[0.2222222222222222,\"#7201a8\"],[0.3333333333333333,\"#9c179e\"],[0.4444444444444444,\"#bd3786\"],[0.5555555555555556,\"#d8576b\"],[0.6666666666666666,\"#ed7953\"],[0.7777777777777778,\"#fb9f3a\"],[0.8888888888888888,\"#fdca26\"],[1.0,\"#f0f921\"]]}],\"contourcarpet\":[{\"type\":\"contourcarpet\",\"colorbar\":{\"outlinewidth\":0,\"ticks\":\"\"}}],\"contour\":[{\"type\":\"contour\",\"colorbar\":{\"outlinewidth\":0,\"ticks\":\"\"},\"colorscale\":[[0.0,\"#0d0887\"],[0.1111111111111111,\"#46039f\"],[0.2222222222222222,\"#7201a8\"],[0.3333333333333333,\"#9c179e\"],[0.4444444444444444,\"#bd3786\"],[0.5555555555555556,\"#d8576b\"],[0.6666666666666666,\"#ed7953\"],[0.7777777777777778,\"#fb9f3a\"],[0.8888888888888888,\"#fdca26\"],[1.0,\"#f0f921\"]]}],\"surface\":[{\"type\":\"surface\",\"colorbar\":{\"outlinewidth\":0,\"ticks\":\"\"},\"colorscale\":[[0.0,\"#0d0887\"],[0.1111111111111111,\"#46039f\"],[0.2222222222222222,\"#7201a8\"],[0.3333333333333333,\"#9c179e\"],[0.4444444444444444,\"#bd3786\"],[0.5555555555555556,\"#d8576b\"],[0.6666666666666666,\"#ed7953\"],[0.7777777777777778,\"#fb9f3a\"],[0.8888888888888888,\"#fdca26\"],[1.0,\"#f0f921\"]]}],\"mesh3d\":[{\"type\":\"mesh3d\",\"colorbar\":{\"outlinewidth\":0,\"ticks\":\"\"}}],\"scatter\":[{\"fillpattern\":{\"fillmode\":\"overlay\",\"size\":10,\"solidity\":0.2},\"type\":\"scatter\"}],\"parcoords\":[{\"type\":\"parcoords\",\"line\":{\"colorbar\":{\"outlinewidth\":0,\"ticks\":\"\"}}}],\"scatterpolargl\":[{\"type\":\"scatterpolargl\",\"marker\":{\"colorbar\":{\"outlinewidth\":0,\"ticks\":\"\"}}}],\"bar\":[{\"error_x\":{\"color\":\"#2a3f5f\"},\"error_y\":{\"color\":\"#2a3f5f\"},\"marker\":{\"line\":{\"color\":\"#E5ECF6\",\"width\":0.5},\"pattern\":{\"fillmode\":\"overlay\",\"size\":10,\"solidity\":0.2}},\"type\":\"bar\"}],\"scattergeo\":[{\"type\":\"scattergeo\",\"marker\":{\"colorbar\":{\"outlinewidth\":0,\"ticks\":\"\"}}}],\"scatterpolar\":[{\"type\":\"scatterpolar\",\"marker\":{\"colorbar\":{\"outlinewidth\":0,\"ticks\":\"\"}}}],\"histogram\":[{\"marker\":{\"pattern\":{\"fillmode\":\"overlay\",\"size\":10,\"solidity\":0.2}},\"type\":\"histogram\"}],\"scattergl\":[{\"type\":\"scattergl\",\"marker\":{\"colorbar\":{\"outlinewidth\":0,\"ticks\":\"\"}}}],\"scatter3d\":[{\"type\":\"scatter3d\",\"line\":{\"colorbar\":{\"outlinewidth\":0,\"ticks\":\"\"}},\"marker\":{\"colorbar\":{\"outlinewidth\":0,\"ticks\":\"\"}}}],\"scattermapbox\":[{\"type\":\"scattermapbox\",\"marker\":{\"colorbar\":{\"outlinewidth\":0,\"ticks\":\"\"}}}],\"scatterternary\":[{\"type\":\"scatterternary\",\"marker\":{\"colorbar\":{\"outlinewidth\":0,\"ticks\":\"\"}}}],\"scattercarpet\":[{\"type\":\"scattercarpet\",\"marker\":{\"colorbar\":{\"outlinewidth\":0,\"ticks\":\"\"}}}],\"carpet\":[{\"aaxis\":{\"endlinecolor\":\"#2a3f5f\",\"gridcolor\":\"white\",\"linecolor\":\"white\",\"minorgridcolor\":\"white\",\"startlinecolor\":\"#2a3f5f\"},\"baxis\":{\"endlinecolor\":\"#2a3f5f\",\"gridcolor\":\"white\",\"linecolor\":\"white\",\"minorgridcolor\":\"white\",\"startlinecolor\":\"#2a3f5f\"},\"type\":\"carpet\"}],\"table\":[{\"cells\":{\"fill\":{\"color\":\"#EBF0F8\"},\"line\":{\"color\":\"white\"}},\"header\":{\"fill\":{\"color\":\"#C8D4E3\"},\"line\":{\"color\":\"white\"}},\"type\":\"table\"}],\"barpolar\":[{\"marker\":{\"line\":{\"color\":\"#E5ECF6\",\"width\":0.5},\"pattern\":{\"fillmode\":\"overlay\",\"size\":10,\"solidity\":0.2}},\"type\":\"barpolar\"}],\"pie\":[{\"automargin\":true,\"type\":\"pie\"}]},\"layout\":{\"autotypenumbers\":\"strict\",\"colorway\":[\"#636efa\",\"#EF553B\",\"#00cc96\",\"#ab63fa\",\"#FFA15A\",\"#19d3f3\",\"#FF6692\",\"#B6E880\",\"#FF97FF\",\"#FECB52\"],\"font\":{\"color\":\"#2a3f5f\"},\"hovermode\":\"closest\",\"hoverlabel\":{\"align\":\"left\"},\"paper_bgcolor\":\"white\",\"plot_bgcolor\":\"#E5ECF6\",\"polar\":{\"bgcolor\":\"#E5ECF6\",\"angularaxis\":{\"gridcolor\":\"white\",\"linecolor\":\"white\",\"ticks\":\"\"},\"radialaxis\":{\"gridcolor\":\"white\",\"linecolor\":\"white\",\"ticks\":\"\"}},\"ternary\":{\"bgcolor\":\"#E5ECF6\",\"aaxis\":{\"gridcolor\":\"white\",\"linecolor\":\"white\",\"ticks\":\"\"},\"baxis\":{\"gridcolor\":\"white\",\"linecolor\":\"white\",\"ticks\":\"\"},\"caxis\":{\"gridcolor\":\"white\",\"linecolor\":\"white\",\"ticks\":\"\"}},\"coloraxis\":{\"colorbar\":{\"outlinewidth\":0,\"ticks\":\"\"}},\"colorscale\":{\"sequential\":[[0.0,\"#0d0887\"],[0.1111111111111111,\"#46039f\"],[0.2222222222222222,\"#7201a8\"],[0.3333333333333333,\"#9c179e\"],[0.4444444444444444,\"#bd3786\"],[0.5555555555555556,\"#d8576b\"],[0.6666666666666666,\"#ed7953\"],[0.7777777777777778,\"#fb9f3a\"],[0.8888888888888888,\"#fdca26\"],[1.0,\"#f0f921\"]],\"sequentialminus\":[[0.0,\"#0d0887\"],[0.1111111111111111,\"#46039f\"],[0.2222222222222222,\"#7201a8\"],[0.3333333333333333,\"#9c179e\"],[0.4444444444444444,\"#bd3786\"],[0.5555555555555556,\"#d8576b\"],[0.6666666666666666,\"#ed7953\"],[0.7777777777777778,\"#fb9f3a\"],[0.8888888888888888,\"#fdca26\"],[1.0,\"#f0f921\"]],\"diverging\":[[0,\"#8e0152\"],[0.1,\"#c51b7d\"],[0.2,\"#de77ae\"],[0.3,\"#f1b6da\"],[0.4,\"#fde0ef\"],[0.5,\"#f7f7f7\"],[0.6,\"#e6f5d0\"],[0.7,\"#b8e186\"],[0.8,\"#7fbc41\"],[0.9,\"#4d9221\"],[1,\"#276419\"]]},\"xaxis\":{\"gridcolor\":\"white\",\"linecolor\":\"white\",\"ticks\":\"\",\"title\":{\"standoff\":15},\"zerolinecolor\":\"white\",\"automargin\":true,\"zerolinewidth\":2},\"yaxis\":{\"gridcolor\":\"white\",\"linecolor\":\"white\",\"ticks\":\"\",\"title\":{\"standoff\":15},\"zerolinecolor\":\"white\",\"automargin\":true,\"zerolinewidth\":2},\"scene\":{\"xaxis\":{\"backgroundcolor\":\"#E5ECF6\",\"gridcolor\":\"white\",\"linecolor\":\"white\",\"showbackground\":true,\"ticks\":\"\",\"zerolinecolor\":\"white\",\"gridwidth\":2},\"yaxis\":{\"backgroundcolor\":\"#E5ECF6\",\"gridcolor\":\"white\",\"linecolor\":\"white\",\"showbackground\":true,\"ticks\":\"\",\"zerolinecolor\":\"white\",\"gridwidth\":2},\"zaxis\":{\"backgroundcolor\":\"#E5ECF6\",\"gridcolor\":\"white\",\"linecolor\":\"white\",\"showbackground\":true,\"ticks\":\"\",\"zerolinecolor\":\"white\",\"gridwidth\":2}},\"shapedefaults\":{\"line\":{\"color\":\"#2a3f5f\"}},\"annotationdefaults\":{\"arrowcolor\":\"#2a3f5f\",\"arrowhead\":0,\"arrowwidth\":1},\"geo\":{\"bgcolor\":\"white\",\"landcolor\":\"#E5ECF6\",\"subunitcolor\":\"white\",\"showland\":true,\"showlakes\":true,\"lakecolor\":\"white\"},\"title\":{\"x\":0.05},\"mapbox\":{\"style\":\"light\"}}}},                        {\"responsive\": true}                    ).then(function(){\n",
              "                            \n",
              "var gd = document.getElementById('ba8718b6-0859-4c61-9f17-ff44285876bc');\n",
              "var x = new MutationObserver(function (mutations, observer) {{\n",
              "        var display = window.getComputedStyle(gd).display;\n",
              "        if (!display || display === 'none') {{\n",
              "            console.log([gd, 'removed!']);\n",
              "            Plotly.purge(gd);\n",
              "            observer.disconnect();\n",
              "        }}\n",
              "}});\n",
              "\n",
              "// Listen for the removal of the full notebook cells\n",
              "var notebookContainer = gd.closest('#notebook-container');\n",
              "if (notebookContainer) {{\n",
              "    x.observe(notebookContainer, {childList: true});\n",
              "}}\n",
              "\n",
              "// Listen for the clearing of the current output cell\n",
              "var outputEl = gd.closest('.output');\n",
              "if (outputEl) {{\n",
              "    x.observe(outputEl, {childList: true});\n",
              "}}\n",
              "\n",
              "                        })                };                            </script>        </div>\n",
              "</body>\n",
              "</html>"
            ]
          },
          "metadata": {},
          "output_type": "display_data"
        }
      ],
      "source": [
        "from optuna.visualization import plot_parallel_coordinate\n",
        "plot_parallel_coordinate(study)"
      ],
      "id": "yIx1n4T0VP-n"
    },
    {
      "cell_type": "code",
      "execution_count": null,
      "metadata": {
        "colab": {
          "base_uri": "https://localhost:8080/",
          "height": 562
        },
        "id": "Vof3ChhHVXf8",
        "outputId": "e44dcb3b-aac1-485c-8520-3c4838f2cec3"
      },
      "outputs": [
        {
          "data": {
            "text/html": [
              "<html>\n",
              "<head><meta charset=\"utf-8\" /></head>\n",
              "<body>\n",
              "    <div>            <script src=\"https://cdnjs.cloudflare.com/ajax/libs/mathjax/2.7.5/MathJax.js?config=TeX-AMS-MML_SVG\"></script><script type=\"text/javascript\">if (window.MathJax && window.MathJax.Hub && window.MathJax.Hub.Config) {window.MathJax.Hub.Config({SVG: {font: \"STIX-Web\"}});}</script>                <script type=\"text/javascript\">window.PlotlyConfig = {MathJaxConfig: 'local'};</script>\n",
              "        <script src=\"https://cdn.plot.ly/plotly-2.18.2.min.js\"></script>                <div id=\"1222fda4-66b0-41e4-9145-97b8b7be073e\" class=\"plotly-graph-div\" style=\"height:525px; width:100%;\"></div>            <script type=\"text/javascript\">                                    window.PLOTLYENV=window.PLOTLYENV || {};                                    if (document.getElementById(\"1222fda4-66b0-41e4-9145-97b8b7be073e\")) {                    Plotly.newPlot(                        \"1222fda4-66b0-41e4-9145-97b8b7be073e\",                        [{\"cliponaxis\":false,\"hovertemplate\":[\"svc__C (FloatDistribution): 0.18005716518031278<extra></extra>\",\"svc__gamma (FloatDistribution): 0.8199428348196872<extra></extra>\"],\"marker\":{\"color\":\"rgb(66,146,198)\"},\"orientation\":\"h\",\"text\":[\"0.18\",\"0.82\"],\"textposition\":\"outside\",\"x\":[0.18005716518031278,0.8199428348196872],\"y\":[\"svc__C\",\"svc__gamma\"],\"type\":\"bar\"}],                        {\"showlegend\":false,\"title\":{\"text\":\"Hyperparameter Importances\"},\"xaxis\":{\"title\":{\"text\":\"Importance for Objective Value\"}},\"yaxis\":{\"title\":{\"text\":\"Hyperparameter\"}},\"template\":{\"data\":{\"histogram2dcontour\":[{\"type\":\"histogram2dcontour\",\"colorbar\":{\"outlinewidth\":0,\"ticks\":\"\"},\"colorscale\":[[0.0,\"#0d0887\"],[0.1111111111111111,\"#46039f\"],[0.2222222222222222,\"#7201a8\"],[0.3333333333333333,\"#9c179e\"],[0.4444444444444444,\"#bd3786\"],[0.5555555555555556,\"#d8576b\"],[0.6666666666666666,\"#ed7953\"],[0.7777777777777778,\"#fb9f3a\"],[0.8888888888888888,\"#fdca26\"],[1.0,\"#f0f921\"]]}],\"choropleth\":[{\"type\":\"choropleth\",\"colorbar\":{\"outlinewidth\":0,\"ticks\":\"\"}}],\"histogram2d\":[{\"type\":\"histogram2d\",\"colorbar\":{\"outlinewidth\":0,\"ticks\":\"\"},\"colorscale\":[[0.0,\"#0d0887\"],[0.1111111111111111,\"#46039f\"],[0.2222222222222222,\"#7201a8\"],[0.3333333333333333,\"#9c179e\"],[0.4444444444444444,\"#bd3786\"],[0.5555555555555556,\"#d8576b\"],[0.6666666666666666,\"#ed7953\"],[0.7777777777777778,\"#fb9f3a\"],[0.8888888888888888,\"#fdca26\"],[1.0,\"#f0f921\"]]}],\"heatmap\":[{\"type\":\"heatmap\",\"colorbar\":{\"outlinewidth\":0,\"ticks\":\"\"},\"colorscale\":[[0.0,\"#0d0887\"],[0.1111111111111111,\"#46039f\"],[0.2222222222222222,\"#7201a8\"],[0.3333333333333333,\"#9c179e\"],[0.4444444444444444,\"#bd3786\"],[0.5555555555555556,\"#d8576b\"],[0.6666666666666666,\"#ed7953\"],[0.7777777777777778,\"#fb9f3a\"],[0.8888888888888888,\"#fdca26\"],[1.0,\"#f0f921\"]]}],\"heatmapgl\":[{\"type\":\"heatmapgl\",\"colorbar\":{\"outlinewidth\":0,\"ticks\":\"\"},\"colorscale\":[[0.0,\"#0d0887\"],[0.1111111111111111,\"#46039f\"],[0.2222222222222222,\"#7201a8\"],[0.3333333333333333,\"#9c179e\"],[0.4444444444444444,\"#bd3786\"],[0.5555555555555556,\"#d8576b\"],[0.6666666666666666,\"#ed7953\"],[0.7777777777777778,\"#fb9f3a\"],[0.8888888888888888,\"#fdca26\"],[1.0,\"#f0f921\"]]}],\"contourcarpet\":[{\"type\":\"contourcarpet\",\"colorbar\":{\"outlinewidth\":0,\"ticks\":\"\"}}],\"contour\":[{\"type\":\"contour\",\"colorbar\":{\"outlinewidth\":0,\"ticks\":\"\"},\"colorscale\":[[0.0,\"#0d0887\"],[0.1111111111111111,\"#46039f\"],[0.2222222222222222,\"#7201a8\"],[0.3333333333333333,\"#9c179e\"],[0.4444444444444444,\"#bd3786\"],[0.5555555555555556,\"#d8576b\"],[0.6666666666666666,\"#ed7953\"],[0.7777777777777778,\"#fb9f3a\"],[0.8888888888888888,\"#fdca26\"],[1.0,\"#f0f921\"]]}],\"surface\":[{\"type\":\"surface\",\"colorbar\":{\"outlinewidth\":0,\"ticks\":\"\"},\"colorscale\":[[0.0,\"#0d0887\"],[0.1111111111111111,\"#46039f\"],[0.2222222222222222,\"#7201a8\"],[0.3333333333333333,\"#9c179e\"],[0.4444444444444444,\"#bd3786\"],[0.5555555555555556,\"#d8576b\"],[0.6666666666666666,\"#ed7953\"],[0.7777777777777778,\"#fb9f3a\"],[0.8888888888888888,\"#fdca26\"],[1.0,\"#f0f921\"]]}],\"mesh3d\":[{\"type\":\"mesh3d\",\"colorbar\":{\"outlinewidth\":0,\"ticks\":\"\"}}],\"scatter\":[{\"fillpattern\":{\"fillmode\":\"overlay\",\"size\":10,\"solidity\":0.2},\"type\":\"scatter\"}],\"parcoords\":[{\"type\":\"parcoords\",\"line\":{\"colorbar\":{\"outlinewidth\":0,\"ticks\":\"\"}}}],\"scatterpolargl\":[{\"type\":\"scatterpolargl\",\"marker\":{\"colorbar\":{\"outlinewidth\":0,\"ticks\":\"\"}}}],\"bar\":[{\"error_x\":{\"color\":\"#2a3f5f\"},\"error_y\":{\"color\":\"#2a3f5f\"},\"marker\":{\"line\":{\"color\":\"#E5ECF6\",\"width\":0.5},\"pattern\":{\"fillmode\":\"overlay\",\"size\":10,\"solidity\":0.2}},\"type\":\"bar\"}],\"scattergeo\":[{\"type\":\"scattergeo\",\"marker\":{\"colorbar\":{\"outlinewidth\":0,\"ticks\":\"\"}}}],\"scatterpolar\":[{\"type\":\"scatterpolar\",\"marker\":{\"colorbar\":{\"outlinewidth\":0,\"ticks\":\"\"}}}],\"histogram\":[{\"marker\":{\"pattern\":{\"fillmode\":\"overlay\",\"size\":10,\"solidity\":0.2}},\"type\":\"histogram\"}],\"scattergl\":[{\"type\":\"scattergl\",\"marker\":{\"colorbar\":{\"outlinewidth\":0,\"ticks\":\"\"}}}],\"scatter3d\":[{\"type\":\"scatter3d\",\"line\":{\"colorbar\":{\"outlinewidth\":0,\"ticks\":\"\"}},\"marker\":{\"colorbar\":{\"outlinewidth\":0,\"ticks\":\"\"}}}],\"scattermapbox\":[{\"type\":\"scattermapbox\",\"marker\":{\"colorbar\":{\"outlinewidth\":0,\"ticks\":\"\"}}}],\"scatterternary\":[{\"type\":\"scatterternary\",\"marker\":{\"colorbar\":{\"outlinewidth\":0,\"ticks\":\"\"}}}],\"scattercarpet\":[{\"type\":\"scattercarpet\",\"marker\":{\"colorbar\":{\"outlinewidth\":0,\"ticks\":\"\"}}}],\"carpet\":[{\"aaxis\":{\"endlinecolor\":\"#2a3f5f\",\"gridcolor\":\"white\",\"linecolor\":\"white\",\"minorgridcolor\":\"white\",\"startlinecolor\":\"#2a3f5f\"},\"baxis\":{\"endlinecolor\":\"#2a3f5f\",\"gridcolor\":\"white\",\"linecolor\":\"white\",\"minorgridcolor\":\"white\",\"startlinecolor\":\"#2a3f5f\"},\"type\":\"carpet\"}],\"table\":[{\"cells\":{\"fill\":{\"color\":\"#EBF0F8\"},\"line\":{\"color\":\"white\"}},\"header\":{\"fill\":{\"color\":\"#C8D4E3\"},\"line\":{\"color\":\"white\"}},\"type\":\"table\"}],\"barpolar\":[{\"marker\":{\"line\":{\"color\":\"#E5ECF6\",\"width\":0.5},\"pattern\":{\"fillmode\":\"overlay\",\"size\":10,\"solidity\":0.2}},\"type\":\"barpolar\"}],\"pie\":[{\"automargin\":true,\"type\":\"pie\"}]},\"layout\":{\"autotypenumbers\":\"strict\",\"colorway\":[\"#636efa\",\"#EF553B\",\"#00cc96\",\"#ab63fa\",\"#FFA15A\",\"#19d3f3\",\"#FF6692\",\"#B6E880\",\"#FF97FF\",\"#FECB52\"],\"font\":{\"color\":\"#2a3f5f\"},\"hovermode\":\"closest\",\"hoverlabel\":{\"align\":\"left\"},\"paper_bgcolor\":\"white\",\"plot_bgcolor\":\"#E5ECF6\",\"polar\":{\"bgcolor\":\"#E5ECF6\",\"angularaxis\":{\"gridcolor\":\"white\",\"linecolor\":\"white\",\"ticks\":\"\"},\"radialaxis\":{\"gridcolor\":\"white\",\"linecolor\":\"white\",\"ticks\":\"\"}},\"ternary\":{\"bgcolor\":\"#E5ECF6\",\"aaxis\":{\"gridcolor\":\"white\",\"linecolor\":\"white\",\"ticks\":\"\"},\"baxis\":{\"gridcolor\":\"white\",\"linecolor\":\"white\",\"ticks\":\"\"},\"caxis\":{\"gridcolor\":\"white\",\"linecolor\":\"white\",\"ticks\":\"\"}},\"coloraxis\":{\"colorbar\":{\"outlinewidth\":0,\"ticks\":\"\"}},\"colorscale\":{\"sequential\":[[0.0,\"#0d0887\"],[0.1111111111111111,\"#46039f\"],[0.2222222222222222,\"#7201a8\"],[0.3333333333333333,\"#9c179e\"],[0.4444444444444444,\"#bd3786\"],[0.5555555555555556,\"#d8576b\"],[0.6666666666666666,\"#ed7953\"],[0.7777777777777778,\"#fb9f3a\"],[0.8888888888888888,\"#fdca26\"],[1.0,\"#f0f921\"]],\"sequentialminus\":[[0.0,\"#0d0887\"],[0.1111111111111111,\"#46039f\"],[0.2222222222222222,\"#7201a8\"],[0.3333333333333333,\"#9c179e\"],[0.4444444444444444,\"#bd3786\"],[0.5555555555555556,\"#d8576b\"],[0.6666666666666666,\"#ed7953\"],[0.7777777777777778,\"#fb9f3a\"],[0.8888888888888888,\"#fdca26\"],[1.0,\"#f0f921\"]],\"diverging\":[[0,\"#8e0152\"],[0.1,\"#c51b7d\"],[0.2,\"#de77ae\"],[0.3,\"#f1b6da\"],[0.4,\"#fde0ef\"],[0.5,\"#f7f7f7\"],[0.6,\"#e6f5d0\"],[0.7,\"#b8e186\"],[0.8,\"#7fbc41\"],[0.9,\"#4d9221\"],[1,\"#276419\"]]},\"xaxis\":{\"gridcolor\":\"white\",\"linecolor\":\"white\",\"ticks\":\"\",\"title\":{\"standoff\":15},\"zerolinecolor\":\"white\",\"automargin\":true,\"zerolinewidth\":2},\"yaxis\":{\"gridcolor\":\"white\",\"linecolor\":\"white\",\"ticks\":\"\",\"title\":{\"standoff\":15},\"zerolinecolor\":\"white\",\"automargin\":true,\"zerolinewidth\":2},\"scene\":{\"xaxis\":{\"backgroundcolor\":\"#E5ECF6\",\"gridcolor\":\"white\",\"linecolor\":\"white\",\"showbackground\":true,\"ticks\":\"\",\"zerolinecolor\":\"white\",\"gridwidth\":2},\"yaxis\":{\"backgroundcolor\":\"#E5ECF6\",\"gridcolor\":\"white\",\"linecolor\":\"white\",\"showbackground\":true,\"ticks\":\"\",\"zerolinecolor\":\"white\",\"gridwidth\":2},\"zaxis\":{\"backgroundcolor\":\"#E5ECF6\",\"gridcolor\":\"white\",\"linecolor\":\"white\",\"showbackground\":true,\"ticks\":\"\",\"zerolinecolor\":\"white\",\"gridwidth\":2}},\"shapedefaults\":{\"line\":{\"color\":\"#2a3f5f\"}},\"annotationdefaults\":{\"arrowcolor\":\"#2a3f5f\",\"arrowhead\":0,\"arrowwidth\":1},\"geo\":{\"bgcolor\":\"white\",\"landcolor\":\"#E5ECF6\",\"subunitcolor\":\"white\",\"showland\":true,\"showlakes\":true,\"lakecolor\":\"white\"},\"title\":{\"x\":0.05},\"mapbox\":{\"style\":\"light\"}}}},                        {\"responsive\": true}                    ).then(function(){\n",
              "                            \n",
              "var gd = document.getElementById('1222fda4-66b0-41e4-9145-97b8b7be073e');\n",
              "var x = new MutationObserver(function (mutations, observer) {{\n",
              "        var display = window.getComputedStyle(gd).display;\n",
              "        if (!display || display === 'none') {{\n",
              "            console.log([gd, 'removed!']);\n",
              "            Plotly.purge(gd);\n",
              "            observer.disconnect();\n",
              "        }}\n",
              "}});\n",
              "\n",
              "// Listen for the removal of the full notebook cells\n",
              "var notebookContainer = gd.closest('#notebook-container');\n",
              "if (notebookContainer) {{\n",
              "    x.observe(notebookContainer, {childList: true});\n",
              "}}\n",
              "\n",
              "// Listen for the clearing of the current output cell\n",
              "var outputEl = gd.closest('.output');\n",
              "if (outputEl) {{\n",
              "    x.observe(outputEl, {childList: true});\n",
              "}}\n",
              "\n",
              "                        })                };                            </script>        </div>\n",
              "</body>\n",
              "</html>"
            ]
          },
          "metadata": {},
          "output_type": "display_data"
        }
      ],
      "source": [
        "from optuna.visualization import plot_param_importances\n",
        "plot_param_importances(study)"
      ],
      "id": "Vof3ChhHVXf8"
    },
    {
      "cell_type": "code",
      "execution_count": null,
      "metadata": {
        "colab": {
          "base_uri": "https://localhost:8080/"
        },
        "id": "h8vTOBMqYyS5",
        "outputId": "a8a6e1e8-2d80-4e65-c3c2-90f05344f85a"
      },
      "outputs": [
        {
          "name": "stdout",
          "output_type": "stream",
          "text": [
            "Accuracy: 0.954636494069181\n",
            "time 15.586849689483643\n"
          ]
        }
      ],
      "source": [
        "rs=NIA\n",
        "svc = svm.SVC(random_state=rs)\n",
        "classif=Pipeline([('preprocessor',preprocessor1),('svc',svc)])\n",
        "classif.set_params(**study.best_params)\n",
        "(bacopt2, tiempo)=default_hp(classif, X_train, y_train, X_test, y_test)"
      ],
      "id": "h8vTOBMqYyS5"
    },
    {
      "cell_type": "code",
      "execution_count": null,
      "metadata": {
        "colab": {
          "base_uri": "https://localhost:8080/"
        },
        "id": "64h-nkk1f_ID",
        "outputId": "e76e1d82-baa8-457e-f848-47bcbe2e30a4"
      },
      "outputs": [
        {
          "name": "stdout",
          "output_type": "stream",
          "text": [
            "Fitting 3 folds for each of 30 candidates, totalling 90 fits\n",
            "Accuracy:  0.9545442337287213\n",
            "Best hyper-parameters: {'svc__C': 61.9405922708757, 'svc__gamma': 0.08870762783585633} and their score (inner evaluation): 0.9545331142248105\n",
            "time 993.8959851264954\n"
          ]
        }
      ],
      "source": [
        "import time\n",
        "from sklearn import metrics\n",
        "from scipy.stats import loguniform\n",
        "from sklearn.model_selection import PredefinedSplit, RandomizedSearchCV\n",
        "from sklearn.model_selection import KFold\n",
        "rs=NIA\n",
        "svc = svm.SVC(random_state=rs)\n",
        "clf=Pipeline([('preprocessor1',preprocessor1),('svc',svc)])\n",
        "param_grid = {'svc__C': loguniform(0.1,100),\n",
        "              'svc__gamma': loguniform(0.001,1)}\n",
        "(Accur2,best_params,inner_score,timer2)=default_RS(clf, X_train, y_train, X_test, y_test,param_grid,30)"
      ],
      "id": "64h-nkk1f_ID"
    },
    {
      "cell_type": "markdown",
      "metadata": {
        "id": "QHh5vUbhAXYU"
      },
      "source": [
        "### Hist Gradient Boosting"
      ],
      "id": "QHh5vUbhAXYU"
    },
    {
      "cell_type": "code",
      "execution_count": null,
      "metadata": {
        "colab": {
          "base_uri": "https://localhost:8080/"
        },
        "id": "wjGa18C25ZYx",
        "outputId": "06a11231-4933-42db-826f-9a0fe5494b2a"
      },
      "outputs": [
        {
          "name": "stderr",
          "output_type": "stream",
          "text": [
            "[I 2023-05-31 10:55:47,177] A new study created in memory with name: no-name-e6cac432-4f1f-47b5-8e18-8a9101555305\n",
            "[I 2023-05-31 10:55:57,817] Trial 0 finished with value: 0.9541535101492542 and parameters: {'hgb__max_depth': 9, 'hgb__learning_rate': 0.05727808721274964}. Best is trial 0 with value: 0.9541535101492542.\n",
            "[I 2023-05-31 10:56:01,041] Trial 1 finished with value: 0.9582624822793763 and parameters: {'hgb__max_depth': 16, 'hgb__learning_rate': 0.37831410771065443}. Best is trial 1 with value: 0.9582624822793763.\n",
            "[I 2023-05-31 10:56:06,067] Trial 2 finished with value: 0.9593084371093896 and parameters: {'hgb__max_depth': 11, 'hgb__learning_rate': 0.3945684743716521}. Best is trial 2 with value: 0.9593084371093896.\n",
            "[I 2023-05-31 10:56:09,223] Trial 3 finished with value: 0.958065089215629 and parameters: {'hgb__max_depth': 16, 'hgb__learning_rate': 0.3479611924882534}. Best is trial 2 with value: 0.9593084371093896.\n",
            "[I 2023-05-31 10:56:11,767] Trial 4 finished with value: 0.954456885194733 and parameters: {'hgb__max_depth': 3, 'hgb__learning_rate': 0.3463802022504212}. Best is trial 2 with value: 0.9593084371093896.\n",
            "[I 2023-05-31 10:56:14,473] Trial 5 finished with value: 0.9564128340081602 and parameters: {'hgb__max_depth': 5, 'hgb__learning_rate': 0.45010206808441283}. Best is trial 2 with value: 0.9593084371093896.\n",
            "[I 2023-05-31 10:56:20,223] Trial 6 finished with value: 0.9588232592288546 and parameters: {'hgb__max_depth': 19, 'hgb__learning_rate': 0.3015420967734912}. Best is trial 2 with value: 0.9593084371093896.\n",
            "[I 2023-05-31 10:56:22,800] Trial 7 finished with value: 0.9562911461675752 and parameters: {'hgb__max_depth': 7, 'hgb__learning_rate': 0.49471935001563605}. Best is trial 2 with value: 0.9593084371093896.\n",
            "[I 2023-05-31 10:56:27,372] Trial 8 finished with value: 0.9610214873678955 and parameters: {'hgb__max_depth': 19, 'hgb__learning_rate': 0.2890214312011376}. Best is trial 8 with value: 0.9610214873678955.\n",
            "[I 2023-05-31 10:56:30,655] Trial 9 finished with value: 0.9558060178030523 and parameters: {'hgb__max_depth': 14, 'hgb__learning_rate': 0.43268697927807115}. Best is trial 8 with value: 0.9610214873678955.\n",
            "[I 2023-05-31 10:56:36,394] Trial 10 finished with value: 0.9592022800540531 and parameters: {'hgb__max_depth': 20, 'hgb__learning_rate': 0.22882684141857146}. Best is trial 8 with value: 0.9610214873678955.\n",
            "[I 2023-05-31 10:56:41,837] Trial 11 finished with value: 0.9596715893811331 and parameters: {'hgb__max_depth': 11, 'hgb__learning_rate': 0.23131338389630393}. Best is trial 8 with value: 0.9610214873678955.\n",
            "[I 2023-05-31 10:56:48,020] Trial 12 finished with value: 0.9599298214616504 and parameters: {'hgb__max_depth': 13, 'hgb__learning_rate': 0.22355337389078353}. Best is trial 8 with value: 0.9610214873678955.\n",
            "[I 2023-05-31 10:56:54,139] Trial 13 finished with value: 0.9607941209067777 and parameters: {'hgb__max_depth': 14, 'hgb__learning_rate': 0.17439719632493578}. Best is trial 8 with value: 0.9610214873678955.\n",
            "[I 2023-05-31 10:57:01,925] Trial 14 finished with value: 0.9600966246136524 and parameters: {'hgb__max_depth': 16, 'hgb__learning_rate': 0.13185606987837106}. Best is trial 8 with value: 0.9610214873678955.\n",
            "[I 2023-05-31 10:57:07,704] Trial 15 finished with value: 0.9616736615613357 and parameters: {'hgb__max_depth': 18, 'hgb__learning_rate': 0.16049697346442926}. Best is trial 15 with value: 0.9616736615613357.\n",
            "[I 2023-05-31 10:57:13,071] Trial 16 finished with value: 0.9586264605310647 and parameters: {'hgb__max_depth': 18, 'hgb__learning_rate': 0.28964571949133183}. Best is trial 15 with value: 0.9616736615613357.\n",
            "[I 2023-05-31 10:57:19,353] Trial 17 finished with value: 0.924615179617985 and parameters: {'hgb__max_depth': 18, 'hgb__learning_rate': 0.011675624148252323}. Best is trial 15 with value: 0.9616736615613357.\n",
            "[I 2023-05-31 10:57:26,401] Trial 18 finished with value: 0.9609004821483141 and parameters: {'hgb__max_depth': 20, 'hgb__learning_rate': 0.16327950039091732}. Best is trial 15 with value: 0.9616736615613357.\n",
            "[I 2023-05-31 10:57:30,418] Trial 19 finished with value: 0.9598389041566943 and parameters: {'hgb__max_depth': 17, 'hgb__learning_rate': 0.27445488104625426}. Best is trial 15 with value: 0.9616736615613357.\n",
            "[I 2023-05-31 10:57:37,027] Trial 20 finished with value: 0.9589140785921323 and parameters: {'hgb__max_depth': 13, 'hgb__learning_rate': 0.11775465306152363}. Best is trial 15 with value: 0.9616736615613357.\n",
            "[I 2023-05-31 10:57:44,235] Trial 21 finished with value: 0.9601420777760579 and parameters: {'hgb__max_depth': 20, 'hgb__learning_rate': 0.18094221942375546}. Best is trial 15 with value: 0.9616736615613357.\n",
            "[I 2023-05-31 10:57:50,334] Trial 22 finished with value: 0.9604759350823823 and parameters: {'hgb__max_depth': 20, 'hgb__learning_rate': 0.15992778590398415}. Best is trial 15 with value: 0.9616736615613357.\n",
            "[I 2023-05-31 10:57:56,069] Trial 23 finished with value: 0.9590197985537676 and parameters: {'hgb__max_depth': 18, 'hgb__learning_rate': 0.20125893391675767}. Best is trial 15 with value: 0.9616736615613357.\n",
            "[I 2023-05-31 10:58:01,321] Trial 24 finished with value: 0.9603089567589519 and parameters: {'hgb__max_depth': 15, 'hgb__learning_rate': 0.25025569106975265}. Best is trial 15 with value: 0.9616736615613357.\n",
            "[I 2023-05-31 10:58:09,347] Trial 25 finished with value: 0.9584290013004955 and parameters: {'hgb__max_depth': 18, 'hgb__learning_rate': 0.11418646781560654}. Best is trial 15 with value: 0.9616736615613357.\n",
            "[I 2023-05-31 10:58:14,176] Trial 26 finished with value: 0.9593536599738828 and parameters: {'hgb__max_depth': 20, 'hgb__learning_rate': 0.20341509796753554}. Best is trial 15 with value: 0.9616736615613357.\n",
            "[I 2023-05-31 10:58:19,765] Trial 27 finished with value: 0.9588687716842067 and parameters: {'hgb__max_depth': 17, 'hgb__learning_rate': 0.26379110896248026}. Best is trial 15 with value: 0.9616736615613357.\n",
            "[I 2023-05-31 10:58:26,179] Trial 28 finished with value: 0.9589898940757831 and parameters: {'hgb__max_depth': 19, 'hgb__learning_rate': 0.1467155174870128}. Best is trial 15 with value: 0.9616736615613357.\n",
            "[I 2023-05-31 10:58:33,983] Trial 29 finished with value: 0.95920248679717 and parameters: {'hgb__max_depth': 19, 'hgb__learning_rate': 0.08295642756175008}. Best is trial 15 with value: 0.9616736615613357.\n"
          ]
        },
        {
          "name": "stdout",
          "output_type": "stream",
          "text": [
            "time 166.80991435050964\n"
          ]
        }
      ],
      "source": [
        "from pickle import TRUE\n",
        "import optuna\n",
        "from optuna import trial\n",
        "from sklearn.model_selection import cross_val_score\n",
        "from sklearn.ensemble import HistGradientBoostingClassifier\n",
        "from sklearn.model_selection import StratifiedKFold\n",
        "inicio = time.time()\n",
        "rs=NIA\n",
        "cv_inner = StratifiedKFold(n_splits=3, random_state=rs, shuffle=True)\n",
        "np.random.seed(NIA)\n",
        "def objective(trial):\n",
        "    hgb__max_depth = trial.suggest_int('hgb__max_depth',3,20)\n",
        "    hgb__learning_rate = trial.suggest_float(\"hgb__learning_rate\",0.01,0.5)\n",
        "    classifier_obj = Pipeline([('hgb',HistGradientBoostingClassifier(max_depth=hgb__max_depth, learning_rate=hgb__learning_rate,random_state=rs))])\n",
        "\n",
        "    # Step 3: Scoring method:\n",
        "    score = cross_val_score(classifier_obj, X_train, y_train,scoring='balanced_accuracy', n_jobs=-1, cv=cv_inner)\n",
        "    accuracy = score.mean()\n",
        "    return accuracy\n",
        "\n",
        "# Step 4: Running it\n",
        "study = optuna.create_study(direction=\"maximize\")\n",
        "study.optimize(objective, n_trials=30)\n",
        "\n",
        "fin=time.time()\n",
        "print('time',fin-inicio)\n",
        "timeopt3=fin-inicio"
      ],
      "id": "wjGa18C25ZYx"
    },
    {
      "cell_type": "code",
      "execution_count": null,
      "metadata": {
        "colab": {
          "base_uri": "https://localhost:8080/",
          "height": 698
        },
        "id": "04fbbb1e",
        "outputId": "3f5cc676-8048-4763-e8fb-f636a5c041cc"
      },
      "outputs": [
        {
          "name": "stdout",
          "output_type": "stream",
          "text": [
            "The best trial is : \n",
            "FrozenTrial(number=15, state=TrialState.COMPLETE, values=[0.9616736615613357], datetime_start=datetime.datetime(2023, 5, 31, 10, 57, 1, 929269), datetime_complete=datetime.datetime(2023, 5, 31, 10, 57, 7, 703815), params={'hgb__max_depth': 18, 'hgb__learning_rate': 0.16049697346442926}, user_attrs={}, system_attrs={}, intermediate_values={}, distributions={'hgb__max_depth': IntDistribution(high=20, log=False, low=3, step=1), 'hgb__learning_rate': FloatDistribution(high=0.5, log=False, low=0.01, step=None)}, trial_id=15, value=None)\n",
            "The best value is : \n",
            "0.9616736615613357\n",
            "The best parameters are : \n",
            "{'hgb__max_depth': 18, 'hgb__learning_rate': 0.16049697346442926}\n",
            "Precision: 0.9616736615613357\n",
            "Best hyperparameters: {'hgb__max_depth': 18, 'hgb__learning_rate': 0.16049697346442926}\n"
          ]
        },
        {
          "data": {
            "text/html": [
              "<html>\n",
              "<head><meta charset=\"utf-8\" /></head>\n",
              "<body>\n",
              "    <div>            <script src=\"https://cdnjs.cloudflare.com/ajax/libs/mathjax/2.7.5/MathJax.js?config=TeX-AMS-MML_SVG\"></script><script type=\"text/javascript\">if (window.MathJax && window.MathJax.Hub && window.MathJax.Hub.Config) {window.MathJax.Hub.Config({SVG: {font: \"STIX-Web\"}});}</script>                <script type=\"text/javascript\">window.PlotlyConfig = {MathJaxConfig: 'local'};</script>\n",
              "        <script src=\"https://cdn.plot.ly/plotly-2.18.2.min.js\"></script>                <div id=\"205f0c14-d046-4fa0-987b-d4c71f44645c\" class=\"plotly-graph-div\" style=\"height:525px; width:100%;\"></div>            <script type=\"text/javascript\">                                    window.PLOTLYENV=window.PLOTLYENV || {};                                    if (document.getElementById(\"205f0c14-d046-4fa0-987b-d4c71f44645c\")) {                    Plotly.newPlot(                        \"205f0c14-d046-4fa0-987b-d4c71f44645c\",                        [{\"mode\":\"markers\",\"name\":\"Objective Value\",\"x\":[0,1,2,3,4,5,6,7,8,9,10,11,12,13,14,15,16,17,18,19,20,21,22,23,24,25,26,27,28,29],\"y\":[0.9541535101492542,0.9582624822793763,0.9593084371093896,0.958065089215629,0.954456885194733,0.9564128340081602,0.9588232592288546,0.9562911461675752,0.9610214873678955,0.9558060178030523,0.9592022800540531,0.9596715893811331,0.9599298214616504,0.9607941209067777,0.9600966246136524,0.9616736615613357,0.9586264605310647,0.924615179617985,0.9609004821483141,0.9598389041566943,0.9589140785921323,0.9601420777760579,0.9604759350823823,0.9590197985537676,0.9603089567589519,0.9584290013004955,0.9593536599738828,0.9588687716842067,0.9589898940757831,0.95920248679717],\"type\":\"scatter\"},{\"name\":\"Best Value\",\"x\":[0,1,2,3,4,5,6,7,8,9,10,11,12,13,14,15,16,17,18,19,20,21,22,23,24,25,26,27,28,29],\"y\":[0.9541535101492542,0.9582624822793763,0.9593084371093896,0.9593084371093896,0.9593084371093896,0.9593084371093896,0.9593084371093896,0.9593084371093896,0.9610214873678955,0.9610214873678955,0.9610214873678955,0.9610214873678955,0.9610214873678955,0.9610214873678955,0.9610214873678955,0.9616736615613357,0.9616736615613357,0.9616736615613357,0.9616736615613357,0.9616736615613357,0.9616736615613357,0.9616736615613357,0.9616736615613357,0.9616736615613357,0.9616736615613357,0.9616736615613357,0.9616736615613357,0.9616736615613357,0.9616736615613357,0.9616736615613357],\"type\":\"scatter\"}],                        {\"title\":{\"text\":\"Optimization History Plot\"},\"xaxis\":{\"title\":{\"text\":\"Trial\"}},\"yaxis\":{\"title\":{\"text\":\"Objective Value\"}},\"template\":{\"data\":{\"histogram2dcontour\":[{\"type\":\"histogram2dcontour\",\"colorbar\":{\"outlinewidth\":0,\"ticks\":\"\"},\"colorscale\":[[0.0,\"#0d0887\"],[0.1111111111111111,\"#46039f\"],[0.2222222222222222,\"#7201a8\"],[0.3333333333333333,\"#9c179e\"],[0.4444444444444444,\"#bd3786\"],[0.5555555555555556,\"#d8576b\"],[0.6666666666666666,\"#ed7953\"],[0.7777777777777778,\"#fb9f3a\"],[0.8888888888888888,\"#fdca26\"],[1.0,\"#f0f921\"]]}],\"choropleth\":[{\"type\":\"choropleth\",\"colorbar\":{\"outlinewidth\":0,\"ticks\":\"\"}}],\"histogram2d\":[{\"type\":\"histogram2d\",\"colorbar\":{\"outlinewidth\":0,\"ticks\":\"\"},\"colorscale\":[[0.0,\"#0d0887\"],[0.1111111111111111,\"#46039f\"],[0.2222222222222222,\"#7201a8\"],[0.3333333333333333,\"#9c179e\"],[0.4444444444444444,\"#bd3786\"],[0.5555555555555556,\"#d8576b\"],[0.6666666666666666,\"#ed7953\"],[0.7777777777777778,\"#fb9f3a\"],[0.8888888888888888,\"#fdca26\"],[1.0,\"#f0f921\"]]}],\"heatmap\":[{\"type\":\"heatmap\",\"colorbar\":{\"outlinewidth\":0,\"ticks\":\"\"},\"colorscale\":[[0.0,\"#0d0887\"],[0.1111111111111111,\"#46039f\"],[0.2222222222222222,\"#7201a8\"],[0.3333333333333333,\"#9c179e\"],[0.4444444444444444,\"#bd3786\"],[0.5555555555555556,\"#d8576b\"],[0.6666666666666666,\"#ed7953\"],[0.7777777777777778,\"#fb9f3a\"],[0.8888888888888888,\"#fdca26\"],[1.0,\"#f0f921\"]]}],\"heatmapgl\":[{\"type\":\"heatmapgl\",\"colorbar\":{\"outlinewidth\":0,\"ticks\":\"\"},\"colorscale\":[[0.0,\"#0d0887\"],[0.1111111111111111,\"#46039f\"],[0.2222222222222222,\"#7201a8\"],[0.3333333333333333,\"#9c179e\"],[0.4444444444444444,\"#bd3786\"],[0.5555555555555556,\"#d8576b\"],[0.6666666666666666,\"#ed7953\"],[0.7777777777777778,\"#fb9f3a\"],[0.8888888888888888,\"#fdca26\"],[1.0,\"#f0f921\"]]}],\"contourcarpet\":[{\"type\":\"contourcarpet\",\"colorbar\":{\"outlinewidth\":0,\"ticks\":\"\"}}],\"contour\":[{\"type\":\"contour\",\"colorbar\":{\"outlinewidth\":0,\"ticks\":\"\"},\"colorscale\":[[0.0,\"#0d0887\"],[0.1111111111111111,\"#46039f\"],[0.2222222222222222,\"#7201a8\"],[0.3333333333333333,\"#9c179e\"],[0.4444444444444444,\"#bd3786\"],[0.5555555555555556,\"#d8576b\"],[0.6666666666666666,\"#ed7953\"],[0.7777777777777778,\"#fb9f3a\"],[0.8888888888888888,\"#fdca26\"],[1.0,\"#f0f921\"]]}],\"surface\":[{\"type\":\"surface\",\"colorbar\":{\"outlinewidth\":0,\"ticks\":\"\"},\"colorscale\":[[0.0,\"#0d0887\"],[0.1111111111111111,\"#46039f\"],[0.2222222222222222,\"#7201a8\"],[0.3333333333333333,\"#9c179e\"],[0.4444444444444444,\"#bd3786\"],[0.5555555555555556,\"#d8576b\"],[0.6666666666666666,\"#ed7953\"],[0.7777777777777778,\"#fb9f3a\"],[0.8888888888888888,\"#fdca26\"],[1.0,\"#f0f921\"]]}],\"mesh3d\":[{\"type\":\"mesh3d\",\"colorbar\":{\"outlinewidth\":0,\"ticks\":\"\"}}],\"scatter\":[{\"fillpattern\":{\"fillmode\":\"overlay\",\"size\":10,\"solidity\":0.2},\"type\":\"scatter\"}],\"parcoords\":[{\"type\":\"parcoords\",\"line\":{\"colorbar\":{\"outlinewidth\":0,\"ticks\":\"\"}}}],\"scatterpolargl\":[{\"type\":\"scatterpolargl\",\"marker\":{\"colorbar\":{\"outlinewidth\":0,\"ticks\":\"\"}}}],\"bar\":[{\"error_x\":{\"color\":\"#2a3f5f\"},\"error_y\":{\"color\":\"#2a3f5f\"},\"marker\":{\"line\":{\"color\":\"#E5ECF6\",\"width\":0.5},\"pattern\":{\"fillmode\":\"overlay\",\"size\":10,\"solidity\":0.2}},\"type\":\"bar\"}],\"scattergeo\":[{\"type\":\"scattergeo\",\"marker\":{\"colorbar\":{\"outlinewidth\":0,\"ticks\":\"\"}}}],\"scatterpolar\":[{\"type\":\"scatterpolar\",\"marker\":{\"colorbar\":{\"outlinewidth\":0,\"ticks\":\"\"}}}],\"histogram\":[{\"marker\":{\"pattern\":{\"fillmode\":\"overlay\",\"size\":10,\"solidity\":0.2}},\"type\":\"histogram\"}],\"scattergl\":[{\"type\":\"scattergl\",\"marker\":{\"colorbar\":{\"outlinewidth\":0,\"ticks\":\"\"}}}],\"scatter3d\":[{\"type\":\"scatter3d\",\"line\":{\"colorbar\":{\"outlinewidth\":0,\"ticks\":\"\"}},\"marker\":{\"colorbar\":{\"outlinewidth\":0,\"ticks\":\"\"}}}],\"scattermapbox\":[{\"type\":\"scattermapbox\",\"marker\":{\"colorbar\":{\"outlinewidth\":0,\"ticks\":\"\"}}}],\"scatterternary\":[{\"type\":\"scatterternary\",\"marker\":{\"colorbar\":{\"outlinewidth\":0,\"ticks\":\"\"}}}],\"scattercarpet\":[{\"type\":\"scattercarpet\",\"marker\":{\"colorbar\":{\"outlinewidth\":0,\"ticks\":\"\"}}}],\"carpet\":[{\"aaxis\":{\"endlinecolor\":\"#2a3f5f\",\"gridcolor\":\"white\",\"linecolor\":\"white\",\"minorgridcolor\":\"white\",\"startlinecolor\":\"#2a3f5f\"},\"baxis\":{\"endlinecolor\":\"#2a3f5f\",\"gridcolor\":\"white\",\"linecolor\":\"white\",\"minorgridcolor\":\"white\",\"startlinecolor\":\"#2a3f5f\"},\"type\":\"carpet\"}],\"table\":[{\"cells\":{\"fill\":{\"color\":\"#EBF0F8\"},\"line\":{\"color\":\"white\"}},\"header\":{\"fill\":{\"color\":\"#C8D4E3\"},\"line\":{\"color\":\"white\"}},\"type\":\"table\"}],\"barpolar\":[{\"marker\":{\"line\":{\"color\":\"#E5ECF6\",\"width\":0.5},\"pattern\":{\"fillmode\":\"overlay\",\"size\":10,\"solidity\":0.2}},\"type\":\"barpolar\"}],\"pie\":[{\"automargin\":true,\"type\":\"pie\"}]},\"layout\":{\"autotypenumbers\":\"strict\",\"colorway\":[\"#636efa\",\"#EF553B\",\"#00cc96\",\"#ab63fa\",\"#FFA15A\",\"#19d3f3\",\"#FF6692\",\"#B6E880\",\"#FF97FF\",\"#FECB52\"],\"font\":{\"color\":\"#2a3f5f\"},\"hovermode\":\"closest\",\"hoverlabel\":{\"align\":\"left\"},\"paper_bgcolor\":\"white\",\"plot_bgcolor\":\"#E5ECF6\",\"polar\":{\"bgcolor\":\"#E5ECF6\",\"angularaxis\":{\"gridcolor\":\"white\",\"linecolor\":\"white\",\"ticks\":\"\"},\"radialaxis\":{\"gridcolor\":\"white\",\"linecolor\":\"white\",\"ticks\":\"\"}},\"ternary\":{\"bgcolor\":\"#E5ECF6\",\"aaxis\":{\"gridcolor\":\"white\",\"linecolor\":\"white\",\"ticks\":\"\"},\"baxis\":{\"gridcolor\":\"white\",\"linecolor\":\"white\",\"ticks\":\"\"},\"caxis\":{\"gridcolor\":\"white\",\"linecolor\":\"white\",\"ticks\":\"\"}},\"coloraxis\":{\"colorbar\":{\"outlinewidth\":0,\"ticks\":\"\"}},\"colorscale\":{\"sequential\":[[0.0,\"#0d0887\"],[0.1111111111111111,\"#46039f\"],[0.2222222222222222,\"#7201a8\"],[0.3333333333333333,\"#9c179e\"],[0.4444444444444444,\"#bd3786\"],[0.5555555555555556,\"#d8576b\"],[0.6666666666666666,\"#ed7953\"],[0.7777777777777778,\"#fb9f3a\"],[0.8888888888888888,\"#fdca26\"],[1.0,\"#f0f921\"]],\"sequentialminus\":[[0.0,\"#0d0887\"],[0.1111111111111111,\"#46039f\"],[0.2222222222222222,\"#7201a8\"],[0.3333333333333333,\"#9c179e\"],[0.4444444444444444,\"#bd3786\"],[0.5555555555555556,\"#d8576b\"],[0.6666666666666666,\"#ed7953\"],[0.7777777777777778,\"#fb9f3a\"],[0.8888888888888888,\"#fdca26\"],[1.0,\"#f0f921\"]],\"diverging\":[[0,\"#8e0152\"],[0.1,\"#c51b7d\"],[0.2,\"#de77ae\"],[0.3,\"#f1b6da\"],[0.4,\"#fde0ef\"],[0.5,\"#f7f7f7\"],[0.6,\"#e6f5d0\"],[0.7,\"#b8e186\"],[0.8,\"#7fbc41\"],[0.9,\"#4d9221\"],[1,\"#276419\"]]},\"xaxis\":{\"gridcolor\":\"white\",\"linecolor\":\"white\",\"ticks\":\"\",\"title\":{\"standoff\":15},\"zerolinecolor\":\"white\",\"automargin\":true,\"zerolinewidth\":2},\"yaxis\":{\"gridcolor\":\"white\",\"linecolor\":\"white\",\"ticks\":\"\",\"title\":{\"standoff\":15},\"zerolinecolor\":\"white\",\"automargin\":true,\"zerolinewidth\":2},\"scene\":{\"xaxis\":{\"backgroundcolor\":\"#E5ECF6\",\"gridcolor\":\"white\",\"linecolor\":\"white\",\"showbackground\":true,\"ticks\":\"\",\"zerolinecolor\":\"white\",\"gridwidth\":2},\"yaxis\":{\"backgroundcolor\":\"#E5ECF6\",\"gridcolor\":\"white\",\"linecolor\":\"white\",\"showbackground\":true,\"ticks\":\"\",\"zerolinecolor\":\"white\",\"gridwidth\":2},\"zaxis\":{\"backgroundcolor\":\"#E5ECF6\",\"gridcolor\":\"white\",\"linecolor\":\"white\",\"showbackground\":true,\"ticks\":\"\",\"zerolinecolor\":\"white\",\"gridwidth\":2}},\"shapedefaults\":{\"line\":{\"color\":\"#2a3f5f\"}},\"annotationdefaults\":{\"arrowcolor\":\"#2a3f5f\",\"arrowhead\":0,\"arrowwidth\":1},\"geo\":{\"bgcolor\":\"white\",\"landcolor\":\"#E5ECF6\",\"subunitcolor\":\"white\",\"showland\":true,\"showlakes\":true,\"lakecolor\":\"white\"},\"title\":{\"x\":0.05},\"mapbox\":{\"style\":\"light\"}}}},                        {\"responsive\": true}                    ).then(function(){\n",
              "                            \n",
              "var gd = document.getElementById('205f0c14-d046-4fa0-987b-d4c71f44645c');\n",
              "var x = new MutationObserver(function (mutations, observer) {{\n",
              "        var display = window.getComputedStyle(gd).display;\n",
              "        if (!display || display === 'none') {{\n",
              "            console.log([gd, 'removed!']);\n",
              "            Plotly.purge(gd);\n",
              "            observer.disconnect();\n",
              "        }}\n",
              "}});\n",
              "\n",
              "// Listen for the removal of the full notebook cells\n",
              "var notebookContainer = gd.closest('#notebook-container');\n",
              "if (notebookContainer) {{\n",
              "    x.observe(notebookContainer, {childList: true});\n",
              "}}\n",
              "\n",
              "// Listen for the clearing of the current output cell\n",
              "var outputEl = gd.closest('.output');\n",
              "if (outputEl) {{\n",
              "    x.observe(outputEl, {childList: true});\n",
              "}}\n",
              "\n",
              "                        })                };                            </script>        </div>\n",
              "</body>\n",
              "</html>"
            ]
          },
          "metadata": {},
          "output_type": "display_data"
        }
      ],
      "source": [
        "# Getting the best trial:\n",
        "print(f\"The best trial is : \\n{study.best_trial}\")\n",
        "# Getting the best score:\n",
        "print(f\"The best value is : \\n{study.best_value}\")\n",
        "# Getting the best parameters:\n",
        "print(f\"The best parameters are : \\n{study.best_params}\")\n",
        "trial = study.best_trial\n",
        "print('Precision: {}'.format(trial.value))\n",
        "print(\"Best hyperparameters: {}\".format(trial.params))\n",
        "import matplotlib.pyplot as plt\n",
        "optuna.visualization.plot_optimization_history(study).show()"
      ],
      "id": "04fbbb1e"
    },
    {
      "cell_type": "code",
      "execution_count": null,
      "metadata": {
        "colab": {
          "base_uri": "https://localhost:8080/",
          "height": 542
        },
        "id": "cgrtHqkdU7Tw",
        "outputId": "1d603994-2463-407d-ee77-45fa22afb8af"
      },
      "outputs": [
        {
          "data": {
            "text/html": [
              "<html>\n",
              "<head><meta charset=\"utf-8\" /></head>\n",
              "<body>\n",
              "    <div>            <script src=\"https://cdnjs.cloudflare.com/ajax/libs/mathjax/2.7.5/MathJax.js?config=TeX-AMS-MML_SVG\"></script><script type=\"text/javascript\">if (window.MathJax && window.MathJax.Hub && window.MathJax.Hub.Config) {window.MathJax.Hub.Config({SVG: {font: \"STIX-Web\"}});}</script>                <script type=\"text/javascript\">window.PlotlyConfig = {MathJaxConfig: 'local'};</script>\n",
              "        <script src=\"https://cdn.plot.ly/plotly-2.18.2.min.js\"></script>                <div id=\"e56bd073-2aa9-4079-b70d-4981d9bb3e63\" class=\"plotly-graph-div\" style=\"height:525px; width:100%;\"></div>            <script type=\"text/javascript\">                                    window.PLOTLYENV=window.PLOTLYENV || {};                                    if (document.getElementById(\"e56bd073-2aa9-4079-b70d-4981d9bb3e63\")) {                    Plotly.newPlot(                        \"e56bd073-2aa9-4079-b70d-4981d9bb3e63\",                        [{\"dimensions\":[{\"label\":\"Objective Value\",\"range\":[0.924615179617985,0.9616736615613357],\"values\":[0.9541535101492542,0.9582624822793763,0.9593084371093896,0.958065089215629,0.954456885194733,0.9564128340081602,0.9588232592288546,0.9562911461675752,0.9610214873678955,0.9558060178030523,0.9592022800540531,0.9596715893811331,0.9599298214616504,0.9607941209067777,0.9600966246136524,0.9616736615613357,0.9586264605310647,0.924615179617985,0.9609004821483141,0.9598389041566943,0.9589140785921323,0.9601420777760579,0.9604759350823823,0.9590197985537676,0.9603089567589519,0.9584290013004955,0.9593536599738828,0.9588687716842067,0.9589898940757831,0.95920248679717]},{\"label\":\"hgb__learning_rate\",\"range\":[0.011675624148252323,0.49471935001563605],\"values\":[0.05727808721274964,0.37831410771065443,0.3945684743716521,0.3479611924882534,0.3463802022504212,0.45010206808441283,0.3015420967734912,0.49471935001563605,0.2890214312011376,0.43268697927807115,0.22882684141857146,0.23131338389630393,0.22355337389078353,0.17439719632493578,0.13185606987837106,0.16049697346442926,0.28964571949133183,0.011675624148252323,0.16327950039091732,0.27445488104625426,0.11775465306152363,0.18094221942375546,0.15992778590398415,0.20125893391675767,0.25025569106975265,0.11418646781560654,0.20341509796753554,0.26379110896248026,0.1467155174870128,0.08295642756175008]},{\"label\":\"hgb__max_depth\",\"range\":[3,20],\"values\":[9,16,11,16,3,5,19,7,19,14,20,11,13,14,16,18,18,18,20,17,13,20,20,18,15,18,20,17,19,19]}],\"labelangle\":30,\"labelside\":\"bottom\",\"line\":{\"color\":[0.9541535101492542,0.9582624822793763,0.9593084371093896,0.958065089215629,0.954456885194733,0.9564128340081602,0.9588232592288546,0.9562911461675752,0.9610214873678955,0.9558060178030523,0.9592022800540531,0.9596715893811331,0.9599298214616504,0.9607941209067777,0.9600966246136524,0.9616736615613357,0.9586264605310647,0.924615179617985,0.9609004821483141,0.9598389041566943,0.9589140785921323,0.9601420777760579,0.9604759350823823,0.9590197985537676,0.9603089567589519,0.9584290013004955,0.9593536599738828,0.9588687716842067,0.9589898940757831,0.95920248679717],\"colorbar\":{\"title\":{\"text\":\"Objective Value\"}},\"colorscale\":[[0.0,\"rgb(247,251,255)\"],[0.125,\"rgb(222,235,247)\"],[0.25,\"rgb(198,219,239)\"],[0.375,\"rgb(158,202,225)\"],[0.5,\"rgb(107,174,214)\"],[0.625,\"rgb(66,146,198)\"],[0.75,\"rgb(33,113,181)\"],[0.875,\"rgb(8,81,156)\"],[1.0,\"rgb(8,48,107)\"]],\"reversescale\":false,\"showscale\":true},\"type\":\"parcoords\"}],                        {\"title\":{\"text\":\"Parallel Coordinate Plot\"},\"template\":{\"data\":{\"histogram2dcontour\":[{\"type\":\"histogram2dcontour\",\"colorbar\":{\"outlinewidth\":0,\"ticks\":\"\"},\"colorscale\":[[0.0,\"#0d0887\"],[0.1111111111111111,\"#46039f\"],[0.2222222222222222,\"#7201a8\"],[0.3333333333333333,\"#9c179e\"],[0.4444444444444444,\"#bd3786\"],[0.5555555555555556,\"#d8576b\"],[0.6666666666666666,\"#ed7953\"],[0.7777777777777778,\"#fb9f3a\"],[0.8888888888888888,\"#fdca26\"],[1.0,\"#f0f921\"]]}],\"choropleth\":[{\"type\":\"choropleth\",\"colorbar\":{\"outlinewidth\":0,\"ticks\":\"\"}}],\"histogram2d\":[{\"type\":\"histogram2d\",\"colorbar\":{\"outlinewidth\":0,\"ticks\":\"\"},\"colorscale\":[[0.0,\"#0d0887\"],[0.1111111111111111,\"#46039f\"],[0.2222222222222222,\"#7201a8\"],[0.3333333333333333,\"#9c179e\"],[0.4444444444444444,\"#bd3786\"],[0.5555555555555556,\"#d8576b\"],[0.6666666666666666,\"#ed7953\"],[0.7777777777777778,\"#fb9f3a\"],[0.8888888888888888,\"#fdca26\"],[1.0,\"#f0f921\"]]}],\"heatmap\":[{\"type\":\"heatmap\",\"colorbar\":{\"outlinewidth\":0,\"ticks\":\"\"},\"colorscale\":[[0.0,\"#0d0887\"],[0.1111111111111111,\"#46039f\"],[0.2222222222222222,\"#7201a8\"],[0.3333333333333333,\"#9c179e\"],[0.4444444444444444,\"#bd3786\"],[0.5555555555555556,\"#d8576b\"],[0.6666666666666666,\"#ed7953\"],[0.7777777777777778,\"#fb9f3a\"],[0.8888888888888888,\"#fdca26\"],[1.0,\"#f0f921\"]]}],\"heatmapgl\":[{\"type\":\"heatmapgl\",\"colorbar\":{\"outlinewidth\":0,\"ticks\":\"\"},\"colorscale\":[[0.0,\"#0d0887\"],[0.1111111111111111,\"#46039f\"],[0.2222222222222222,\"#7201a8\"],[0.3333333333333333,\"#9c179e\"],[0.4444444444444444,\"#bd3786\"],[0.5555555555555556,\"#d8576b\"],[0.6666666666666666,\"#ed7953\"],[0.7777777777777778,\"#fb9f3a\"],[0.8888888888888888,\"#fdca26\"],[1.0,\"#f0f921\"]]}],\"contourcarpet\":[{\"type\":\"contourcarpet\",\"colorbar\":{\"outlinewidth\":0,\"ticks\":\"\"}}],\"contour\":[{\"type\":\"contour\",\"colorbar\":{\"outlinewidth\":0,\"ticks\":\"\"},\"colorscale\":[[0.0,\"#0d0887\"],[0.1111111111111111,\"#46039f\"],[0.2222222222222222,\"#7201a8\"],[0.3333333333333333,\"#9c179e\"],[0.4444444444444444,\"#bd3786\"],[0.5555555555555556,\"#d8576b\"],[0.6666666666666666,\"#ed7953\"],[0.7777777777777778,\"#fb9f3a\"],[0.8888888888888888,\"#fdca26\"],[1.0,\"#f0f921\"]]}],\"surface\":[{\"type\":\"surface\",\"colorbar\":{\"outlinewidth\":0,\"ticks\":\"\"},\"colorscale\":[[0.0,\"#0d0887\"],[0.1111111111111111,\"#46039f\"],[0.2222222222222222,\"#7201a8\"],[0.3333333333333333,\"#9c179e\"],[0.4444444444444444,\"#bd3786\"],[0.5555555555555556,\"#d8576b\"],[0.6666666666666666,\"#ed7953\"],[0.7777777777777778,\"#fb9f3a\"],[0.8888888888888888,\"#fdca26\"],[1.0,\"#f0f921\"]]}],\"mesh3d\":[{\"type\":\"mesh3d\",\"colorbar\":{\"outlinewidth\":0,\"ticks\":\"\"}}],\"scatter\":[{\"fillpattern\":{\"fillmode\":\"overlay\",\"size\":10,\"solidity\":0.2},\"type\":\"scatter\"}],\"parcoords\":[{\"type\":\"parcoords\",\"line\":{\"colorbar\":{\"outlinewidth\":0,\"ticks\":\"\"}}}],\"scatterpolargl\":[{\"type\":\"scatterpolargl\",\"marker\":{\"colorbar\":{\"outlinewidth\":0,\"ticks\":\"\"}}}],\"bar\":[{\"error_x\":{\"color\":\"#2a3f5f\"},\"error_y\":{\"color\":\"#2a3f5f\"},\"marker\":{\"line\":{\"color\":\"#E5ECF6\",\"width\":0.5},\"pattern\":{\"fillmode\":\"overlay\",\"size\":10,\"solidity\":0.2}},\"type\":\"bar\"}],\"scattergeo\":[{\"type\":\"scattergeo\",\"marker\":{\"colorbar\":{\"outlinewidth\":0,\"ticks\":\"\"}}}],\"scatterpolar\":[{\"type\":\"scatterpolar\",\"marker\":{\"colorbar\":{\"outlinewidth\":0,\"ticks\":\"\"}}}],\"histogram\":[{\"marker\":{\"pattern\":{\"fillmode\":\"overlay\",\"size\":10,\"solidity\":0.2}},\"type\":\"histogram\"}],\"scattergl\":[{\"type\":\"scattergl\",\"marker\":{\"colorbar\":{\"outlinewidth\":0,\"ticks\":\"\"}}}],\"scatter3d\":[{\"type\":\"scatter3d\",\"line\":{\"colorbar\":{\"outlinewidth\":0,\"ticks\":\"\"}},\"marker\":{\"colorbar\":{\"outlinewidth\":0,\"ticks\":\"\"}}}],\"scattermapbox\":[{\"type\":\"scattermapbox\",\"marker\":{\"colorbar\":{\"outlinewidth\":0,\"ticks\":\"\"}}}],\"scatterternary\":[{\"type\":\"scatterternary\",\"marker\":{\"colorbar\":{\"outlinewidth\":0,\"ticks\":\"\"}}}],\"scattercarpet\":[{\"type\":\"scattercarpet\",\"marker\":{\"colorbar\":{\"outlinewidth\":0,\"ticks\":\"\"}}}],\"carpet\":[{\"aaxis\":{\"endlinecolor\":\"#2a3f5f\",\"gridcolor\":\"white\",\"linecolor\":\"white\",\"minorgridcolor\":\"white\",\"startlinecolor\":\"#2a3f5f\"},\"baxis\":{\"endlinecolor\":\"#2a3f5f\",\"gridcolor\":\"white\",\"linecolor\":\"white\",\"minorgridcolor\":\"white\",\"startlinecolor\":\"#2a3f5f\"},\"type\":\"carpet\"}],\"table\":[{\"cells\":{\"fill\":{\"color\":\"#EBF0F8\"},\"line\":{\"color\":\"white\"}},\"header\":{\"fill\":{\"color\":\"#C8D4E3\"},\"line\":{\"color\":\"white\"}},\"type\":\"table\"}],\"barpolar\":[{\"marker\":{\"line\":{\"color\":\"#E5ECF6\",\"width\":0.5},\"pattern\":{\"fillmode\":\"overlay\",\"size\":10,\"solidity\":0.2}},\"type\":\"barpolar\"}],\"pie\":[{\"automargin\":true,\"type\":\"pie\"}]},\"layout\":{\"autotypenumbers\":\"strict\",\"colorway\":[\"#636efa\",\"#EF553B\",\"#00cc96\",\"#ab63fa\",\"#FFA15A\",\"#19d3f3\",\"#FF6692\",\"#B6E880\",\"#FF97FF\",\"#FECB52\"],\"font\":{\"color\":\"#2a3f5f\"},\"hovermode\":\"closest\",\"hoverlabel\":{\"align\":\"left\"},\"paper_bgcolor\":\"white\",\"plot_bgcolor\":\"#E5ECF6\",\"polar\":{\"bgcolor\":\"#E5ECF6\",\"angularaxis\":{\"gridcolor\":\"white\",\"linecolor\":\"white\",\"ticks\":\"\"},\"radialaxis\":{\"gridcolor\":\"white\",\"linecolor\":\"white\",\"ticks\":\"\"}},\"ternary\":{\"bgcolor\":\"#E5ECF6\",\"aaxis\":{\"gridcolor\":\"white\",\"linecolor\":\"white\",\"ticks\":\"\"},\"baxis\":{\"gridcolor\":\"white\",\"linecolor\":\"white\",\"ticks\":\"\"},\"caxis\":{\"gridcolor\":\"white\",\"linecolor\":\"white\",\"ticks\":\"\"}},\"coloraxis\":{\"colorbar\":{\"outlinewidth\":0,\"ticks\":\"\"}},\"colorscale\":{\"sequential\":[[0.0,\"#0d0887\"],[0.1111111111111111,\"#46039f\"],[0.2222222222222222,\"#7201a8\"],[0.3333333333333333,\"#9c179e\"],[0.4444444444444444,\"#bd3786\"],[0.5555555555555556,\"#d8576b\"],[0.6666666666666666,\"#ed7953\"],[0.7777777777777778,\"#fb9f3a\"],[0.8888888888888888,\"#fdca26\"],[1.0,\"#f0f921\"]],\"sequentialminus\":[[0.0,\"#0d0887\"],[0.1111111111111111,\"#46039f\"],[0.2222222222222222,\"#7201a8\"],[0.3333333333333333,\"#9c179e\"],[0.4444444444444444,\"#bd3786\"],[0.5555555555555556,\"#d8576b\"],[0.6666666666666666,\"#ed7953\"],[0.7777777777777778,\"#fb9f3a\"],[0.8888888888888888,\"#fdca26\"],[1.0,\"#f0f921\"]],\"diverging\":[[0,\"#8e0152\"],[0.1,\"#c51b7d\"],[0.2,\"#de77ae\"],[0.3,\"#f1b6da\"],[0.4,\"#fde0ef\"],[0.5,\"#f7f7f7\"],[0.6,\"#e6f5d0\"],[0.7,\"#b8e186\"],[0.8,\"#7fbc41\"],[0.9,\"#4d9221\"],[1,\"#276419\"]]},\"xaxis\":{\"gridcolor\":\"white\",\"linecolor\":\"white\",\"ticks\":\"\",\"title\":{\"standoff\":15},\"zerolinecolor\":\"white\",\"automargin\":true,\"zerolinewidth\":2},\"yaxis\":{\"gridcolor\":\"white\",\"linecolor\":\"white\",\"ticks\":\"\",\"title\":{\"standoff\":15},\"zerolinecolor\":\"white\",\"automargin\":true,\"zerolinewidth\":2},\"scene\":{\"xaxis\":{\"backgroundcolor\":\"#E5ECF6\",\"gridcolor\":\"white\",\"linecolor\":\"white\",\"showbackground\":true,\"ticks\":\"\",\"zerolinecolor\":\"white\",\"gridwidth\":2},\"yaxis\":{\"backgroundcolor\":\"#E5ECF6\",\"gridcolor\":\"white\",\"linecolor\":\"white\",\"showbackground\":true,\"ticks\":\"\",\"zerolinecolor\":\"white\",\"gridwidth\":2},\"zaxis\":{\"backgroundcolor\":\"#E5ECF6\",\"gridcolor\":\"white\",\"linecolor\":\"white\",\"showbackground\":true,\"ticks\":\"\",\"zerolinecolor\":\"white\",\"gridwidth\":2}},\"shapedefaults\":{\"line\":{\"color\":\"#2a3f5f\"}},\"annotationdefaults\":{\"arrowcolor\":\"#2a3f5f\",\"arrowhead\":0,\"arrowwidth\":1},\"geo\":{\"bgcolor\":\"white\",\"landcolor\":\"#E5ECF6\",\"subunitcolor\":\"white\",\"showland\":true,\"showlakes\":true,\"lakecolor\":\"white\"},\"title\":{\"x\":0.05},\"mapbox\":{\"style\":\"light\"}}}},                        {\"responsive\": true}                    ).then(function(){\n",
              "                            \n",
              "var gd = document.getElementById('e56bd073-2aa9-4079-b70d-4981d9bb3e63');\n",
              "var x = new MutationObserver(function (mutations, observer) {{\n",
              "        var display = window.getComputedStyle(gd).display;\n",
              "        if (!display || display === 'none') {{\n",
              "            console.log([gd, 'removed!']);\n",
              "            Plotly.purge(gd);\n",
              "            observer.disconnect();\n",
              "        }}\n",
              "}});\n",
              "\n",
              "// Listen for the removal of the full notebook cells\n",
              "var notebookContainer = gd.closest('#notebook-container');\n",
              "if (notebookContainer) {{\n",
              "    x.observe(notebookContainer, {childList: true});\n",
              "}}\n",
              "\n",
              "// Listen for the clearing of the current output cell\n",
              "var outputEl = gd.closest('.output');\n",
              "if (outputEl) {{\n",
              "    x.observe(outputEl, {childList: true});\n",
              "}}\n",
              "\n",
              "                        })                };                            </script>        </div>\n",
              "</body>\n",
              "</html>"
            ]
          },
          "metadata": {},
          "output_type": "display_data"
        }
      ],
      "source": [
        "from optuna.visualization import plot_parallel_coordinate\n",
        "\n",
        "plot_parallel_coordinate(study)\n"
      ],
      "id": "cgrtHqkdU7Tw"
    },
    {
      "cell_type": "code",
      "execution_count": null,
      "metadata": {
        "colab": {
          "base_uri": "https://localhost:8080/",
          "height": 542
        },
        "id": "dVvbOALcVdpB",
        "outputId": "8b33e588-ff56-4302-fe7e-caeefa2a7fe7"
      },
      "outputs": [
        {
          "data": {
            "text/html": [
              "<html>\n",
              "<head><meta charset=\"utf-8\" /></head>\n",
              "<body>\n",
              "    <div>            <script src=\"https://cdnjs.cloudflare.com/ajax/libs/mathjax/2.7.5/MathJax.js?config=TeX-AMS-MML_SVG\"></script><script type=\"text/javascript\">if (window.MathJax && window.MathJax.Hub && window.MathJax.Hub.Config) {window.MathJax.Hub.Config({SVG: {font: \"STIX-Web\"}});}</script>                <script type=\"text/javascript\">window.PlotlyConfig = {MathJaxConfig: 'local'};</script>\n",
              "        <script src=\"https://cdn.plot.ly/plotly-2.18.2.min.js\"></script>                <div id=\"0ffa22ec-6cc5-486f-9164-9a1131a3361e\" class=\"plotly-graph-div\" style=\"height:525px; width:100%;\"></div>            <script type=\"text/javascript\">                                    window.PLOTLYENV=window.PLOTLYENV || {};                                    if (document.getElementById(\"0ffa22ec-6cc5-486f-9164-9a1131a3361e\")) {                    Plotly.newPlot(                        \"0ffa22ec-6cc5-486f-9164-9a1131a3361e\",                        [{\"cliponaxis\":false,\"hovertemplate\":[\"hgb__max_depth (IntDistribution): 0.18995276855070775<extra></extra>\",\"hgb__learning_rate (FloatDistribution): 0.8100472314492922<extra></extra>\"],\"marker\":{\"color\":\"rgb(66,146,198)\"},\"orientation\":\"h\",\"text\":[\"0.19\",\"0.81\"],\"textposition\":\"outside\",\"x\":[0.18995276855070775,0.8100472314492922],\"y\":[\"hgb__max_depth\",\"hgb__learning_rate\"],\"type\":\"bar\"}],                        {\"showlegend\":false,\"title\":{\"text\":\"Hyperparameter Importances\"},\"xaxis\":{\"title\":{\"text\":\"Importance for Objective Value\"}},\"yaxis\":{\"title\":{\"text\":\"Hyperparameter\"}},\"template\":{\"data\":{\"histogram2dcontour\":[{\"type\":\"histogram2dcontour\",\"colorbar\":{\"outlinewidth\":0,\"ticks\":\"\"},\"colorscale\":[[0.0,\"#0d0887\"],[0.1111111111111111,\"#46039f\"],[0.2222222222222222,\"#7201a8\"],[0.3333333333333333,\"#9c179e\"],[0.4444444444444444,\"#bd3786\"],[0.5555555555555556,\"#d8576b\"],[0.6666666666666666,\"#ed7953\"],[0.7777777777777778,\"#fb9f3a\"],[0.8888888888888888,\"#fdca26\"],[1.0,\"#f0f921\"]]}],\"choropleth\":[{\"type\":\"choropleth\",\"colorbar\":{\"outlinewidth\":0,\"ticks\":\"\"}}],\"histogram2d\":[{\"type\":\"histogram2d\",\"colorbar\":{\"outlinewidth\":0,\"ticks\":\"\"},\"colorscale\":[[0.0,\"#0d0887\"],[0.1111111111111111,\"#46039f\"],[0.2222222222222222,\"#7201a8\"],[0.3333333333333333,\"#9c179e\"],[0.4444444444444444,\"#bd3786\"],[0.5555555555555556,\"#d8576b\"],[0.6666666666666666,\"#ed7953\"],[0.7777777777777778,\"#fb9f3a\"],[0.8888888888888888,\"#fdca26\"],[1.0,\"#f0f921\"]]}],\"heatmap\":[{\"type\":\"heatmap\",\"colorbar\":{\"outlinewidth\":0,\"ticks\":\"\"},\"colorscale\":[[0.0,\"#0d0887\"],[0.1111111111111111,\"#46039f\"],[0.2222222222222222,\"#7201a8\"],[0.3333333333333333,\"#9c179e\"],[0.4444444444444444,\"#bd3786\"],[0.5555555555555556,\"#d8576b\"],[0.6666666666666666,\"#ed7953\"],[0.7777777777777778,\"#fb9f3a\"],[0.8888888888888888,\"#fdca26\"],[1.0,\"#f0f921\"]]}],\"heatmapgl\":[{\"type\":\"heatmapgl\",\"colorbar\":{\"outlinewidth\":0,\"ticks\":\"\"},\"colorscale\":[[0.0,\"#0d0887\"],[0.1111111111111111,\"#46039f\"],[0.2222222222222222,\"#7201a8\"],[0.3333333333333333,\"#9c179e\"],[0.4444444444444444,\"#bd3786\"],[0.5555555555555556,\"#d8576b\"],[0.6666666666666666,\"#ed7953\"],[0.7777777777777778,\"#fb9f3a\"],[0.8888888888888888,\"#fdca26\"],[1.0,\"#f0f921\"]]}],\"contourcarpet\":[{\"type\":\"contourcarpet\",\"colorbar\":{\"outlinewidth\":0,\"ticks\":\"\"}}],\"contour\":[{\"type\":\"contour\",\"colorbar\":{\"outlinewidth\":0,\"ticks\":\"\"},\"colorscale\":[[0.0,\"#0d0887\"],[0.1111111111111111,\"#46039f\"],[0.2222222222222222,\"#7201a8\"],[0.3333333333333333,\"#9c179e\"],[0.4444444444444444,\"#bd3786\"],[0.5555555555555556,\"#d8576b\"],[0.6666666666666666,\"#ed7953\"],[0.7777777777777778,\"#fb9f3a\"],[0.8888888888888888,\"#fdca26\"],[1.0,\"#f0f921\"]]}],\"surface\":[{\"type\":\"surface\",\"colorbar\":{\"outlinewidth\":0,\"ticks\":\"\"},\"colorscale\":[[0.0,\"#0d0887\"],[0.1111111111111111,\"#46039f\"],[0.2222222222222222,\"#7201a8\"],[0.3333333333333333,\"#9c179e\"],[0.4444444444444444,\"#bd3786\"],[0.5555555555555556,\"#d8576b\"],[0.6666666666666666,\"#ed7953\"],[0.7777777777777778,\"#fb9f3a\"],[0.8888888888888888,\"#fdca26\"],[1.0,\"#f0f921\"]]}],\"mesh3d\":[{\"type\":\"mesh3d\",\"colorbar\":{\"outlinewidth\":0,\"ticks\":\"\"}}],\"scatter\":[{\"fillpattern\":{\"fillmode\":\"overlay\",\"size\":10,\"solidity\":0.2},\"type\":\"scatter\"}],\"parcoords\":[{\"type\":\"parcoords\",\"line\":{\"colorbar\":{\"outlinewidth\":0,\"ticks\":\"\"}}}],\"scatterpolargl\":[{\"type\":\"scatterpolargl\",\"marker\":{\"colorbar\":{\"outlinewidth\":0,\"ticks\":\"\"}}}],\"bar\":[{\"error_x\":{\"color\":\"#2a3f5f\"},\"error_y\":{\"color\":\"#2a3f5f\"},\"marker\":{\"line\":{\"color\":\"#E5ECF6\",\"width\":0.5},\"pattern\":{\"fillmode\":\"overlay\",\"size\":10,\"solidity\":0.2}},\"type\":\"bar\"}],\"scattergeo\":[{\"type\":\"scattergeo\",\"marker\":{\"colorbar\":{\"outlinewidth\":0,\"ticks\":\"\"}}}],\"scatterpolar\":[{\"type\":\"scatterpolar\",\"marker\":{\"colorbar\":{\"outlinewidth\":0,\"ticks\":\"\"}}}],\"histogram\":[{\"marker\":{\"pattern\":{\"fillmode\":\"overlay\",\"size\":10,\"solidity\":0.2}},\"type\":\"histogram\"}],\"scattergl\":[{\"type\":\"scattergl\",\"marker\":{\"colorbar\":{\"outlinewidth\":0,\"ticks\":\"\"}}}],\"scatter3d\":[{\"type\":\"scatter3d\",\"line\":{\"colorbar\":{\"outlinewidth\":0,\"ticks\":\"\"}},\"marker\":{\"colorbar\":{\"outlinewidth\":0,\"ticks\":\"\"}}}],\"scattermapbox\":[{\"type\":\"scattermapbox\",\"marker\":{\"colorbar\":{\"outlinewidth\":0,\"ticks\":\"\"}}}],\"scatterternary\":[{\"type\":\"scatterternary\",\"marker\":{\"colorbar\":{\"outlinewidth\":0,\"ticks\":\"\"}}}],\"scattercarpet\":[{\"type\":\"scattercarpet\",\"marker\":{\"colorbar\":{\"outlinewidth\":0,\"ticks\":\"\"}}}],\"carpet\":[{\"aaxis\":{\"endlinecolor\":\"#2a3f5f\",\"gridcolor\":\"white\",\"linecolor\":\"white\",\"minorgridcolor\":\"white\",\"startlinecolor\":\"#2a3f5f\"},\"baxis\":{\"endlinecolor\":\"#2a3f5f\",\"gridcolor\":\"white\",\"linecolor\":\"white\",\"minorgridcolor\":\"white\",\"startlinecolor\":\"#2a3f5f\"},\"type\":\"carpet\"}],\"table\":[{\"cells\":{\"fill\":{\"color\":\"#EBF0F8\"},\"line\":{\"color\":\"white\"}},\"header\":{\"fill\":{\"color\":\"#C8D4E3\"},\"line\":{\"color\":\"white\"}},\"type\":\"table\"}],\"barpolar\":[{\"marker\":{\"line\":{\"color\":\"#E5ECF6\",\"width\":0.5},\"pattern\":{\"fillmode\":\"overlay\",\"size\":10,\"solidity\":0.2}},\"type\":\"barpolar\"}],\"pie\":[{\"automargin\":true,\"type\":\"pie\"}]},\"layout\":{\"autotypenumbers\":\"strict\",\"colorway\":[\"#636efa\",\"#EF553B\",\"#00cc96\",\"#ab63fa\",\"#FFA15A\",\"#19d3f3\",\"#FF6692\",\"#B6E880\",\"#FF97FF\",\"#FECB52\"],\"font\":{\"color\":\"#2a3f5f\"},\"hovermode\":\"closest\",\"hoverlabel\":{\"align\":\"left\"},\"paper_bgcolor\":\"white\",\"plot_bgcolor\":\"#E5ECF6\",\"polar\":{\"bgcolor\":\"#E5ECF6\",\"angularaxis\":{\"gridcolor\":\"white\",\"linecolor\":\"white\",\"ticks\":\"\"},\"radialaxis\":{\"gridcolor\":\"white\",\"linecolor\":\"white\",\"ticks\":\"\"}},\"ternary\":{\"bgcolor\":\"#E5ECF6\",\"aaxis\":{\"gridcolor\":\"white\",\"linecolor\":\"white\",\"ticks\":\"\"},\"baxis\":{\"gridcolor\":\"white\",\"linecolor\":\"white\",\"ticks\":\"\"},\"caxis\":{\"gridcolor\":\"white\",\"linecolor\":\"white\",\"ticks\":\"\"}},\"coloraxis\":{\"colorbar\":{\"outlinewidth\":0,\"ticks\":\"\"}},\"colorscale\":{\"sequential\":[[0.0,\"#0d0887\"],[0.1111111111111111,\"#46039f\"],[0.2222222222222222,\"#7201a8\"],[0.3333333333333333,\"#9c179e\"],[0.4444444444444444,\"#bd3786\"],[0.5555555555555556,\"#d8576b\"],[0.6666666666666666,\"#ed7953\"],[0.7777777777777778,\"#fb9f3a\"],[0.8888888888888888,\"#fdca26\"],[1.0,\"#f0f921\"]],\"sequentialminus\":[[0.0,\"#0d0887\"],[0.1111111111111111,\"#46039f\"],[0.2222222222222222,\"#7201a8\"],[0.3333333333333333,\"#9c179e\"],[0.4444444444444444,\"#bd3786\"],[0.5555555555555556,\"#d8576b\"],[0.6666666666666666,\"#ed7953\"],[0.7777777777777778,\"#fb9f3a\"],[0.8888888888888888,\"#fdca26\"],[1.0,\"#f0f921\"]],\"diverging\":[[0,\"#8e0152\"],[0.1,\"#c51b7d\"],[0.2,\"#de77ae\"],[0.3,\"#f1b6da\"],[0.4,\"#fde0ef\"],[0.5,\"#f7f7f7\"],[0.6,\"#e6f5d0\"],[0.7,\"#b8e186\"],[0.8,\"#7fbc41\"],[0.9,\"#4d9221\"],[1,\"#276419\"]]},\"xaxis\":{\"gridcolor\":\"white\",\"linecolor\":\"white\",\"ticks\":\"\",\"title\":{\"standoff\":15},\"zerolinecolor\":\"white\",\"automargin\":true,\"zerolinewidth\":2},\"yaxis\":{\"gridcolor\":\"white\",\"linecolor\":\"white\",\"ticks\":\"\",\"title\":{\"standoff\":15},\"zerolinecolor\":\"white\",\"automargin\":true,\"zerolinewidth\":2},\"scene\":{\"xaxis\":{\"backgroundcolor\":\"#E5ECF6\",\"gridcolor\":\"white\",\"linecolor\":\"white\",\"showbackground\":true,\"ticks\":\"\",\"zerolinecolor\":\"white\",\"gridwidth\":2},\"yaxis\":{\"backgroundcolor\":\"#E5ECF6\",\"gridcolor\":\"white\",\"linecolor\":\"white\",\"showbackground\":true,\"ticks\":\"\",\"zerolinecolor\":\"white\",\"gridwidth\":2},\"zaxis\":{\"backgroundcolor\":\"#E5ECF6\",\"gridcolor\":\"white\",\"linecolor\":\"white\",\"showbackground\":true,\"ticks\":\"\",\"zerolinecolor\":\"white\",\"gridwidth\":2}},\"shapedefaults\":{\"line\":{\"color\":\"#2a3f5f\"}},\"annotationdefaults\":{\"arrowcolor\":\"#2a3f5f\",\"arrowhead\":0,\"arrowwidth\":1},\"geo\":{\"bgcolor\":\"white\",\"landcolor\":\"#E5ECF6\",\"subunitcolor\":\"white\",\"showland\":true,\"showlakes\":true,\"lakecolor\":\"white\"},\"title\":{\"x\":0.05},\"mapbox\":{\"style\":\"light\"}}}},                        {\"responsive\": true}                    ).then(function(){\n",
              "                            \n",
              "var gd = document.getElementById('0ffa22ec-6cc5-486f-9164-9a1131a3361e');\n",
              "var x = new MutationObserver(function (mutations, observer) {{\n",
              "        var display = window.getComputedStyle(gd).display;\n",
              "        if (!display || display === 'none') {{\n",
              "            console.log([gd, 'removed!']);\n",
              "            Plotly.purge(gd);\n",
              "            observer.disconnect();\n",
              "        }}\n",
              "}});\n",
              "\n",
              "// Listen for the removal of the full notebook cells\n",
              "var notebookContainer = gd.closest('#notebook-container');\n",
              "if (notebookContainer) {{\n",
              "    x.observe(notebookContainer, {childList: true});\n",
              "}}\n",
              "\n",
              "// Listen for the clearing of the current output cell\n",
              "var outputEl = gd.closest('.output');\n",
              "if (outputEl) {{\n",
              "    x.observe(outputEl, {childList: true});\n",
              "}}\n",
              "\n",
              "                        })                };                            </script>        </div>\n",
              "</body>\n",
              "</html>"
            ]
          },
          "metadata": {},
          "output_type": "display_data"
        }
      ],
      "source": [
        "from optuna.visualization import plot_param_importances\n",
        "plot_param_importances(study)\n"
      ],
      "id": "dVvbOALcVdpB"
    },
    {
      "cell_type": "code",
      "execution_count": null,
      "metadata": {
        "colab": {
          "base_uri": "https://localhost:8080/"
        },
        "id": "N4lijEeSZZIf",
        "outputId": "2f2db38b-bbf7-4364-acc8-db533c925b78"
      },
      "outputs": [
        {
          "name": "stdout",
          "output_type": "stream",
          "text": [
            "Accuracy: 0.9619922816487914\n",
            "time 2.814879894256592\n"
          ]
        }
      ],
      "source": [
        "rs=NIA\n",
        "hgb = HistGradientBoostingClassifier(random_state=rs)\n",
        "classif=Pipeline([('hgb',hgb)])\n",
        "classif.set_params(**study.best_params)\n",
        "(bacopt3, tiempo)=default_hp(classif, X_train, y_train, X_test, y_test)"
      ],
      "id": "N4lijEeSZZIf"
    },
    {
      "cell_type": "code",
      "execution_count": null,
      "metadata": {
        "colab": {
          "base_uri": "https://localhost:8080/"
        },
        "id": "HLLMurXWhWZM",
        "outputId": "26853c6c-ec36-4a21-bfa7-f0affa3da6a8"
      },
      "outputs": [
        {
          "name": "stdout",
          "output_type": "stream",
          "text": [
            "Fitting 3 folds for each of 30 candidates, totalling 90 fits\n",
            "Accuracy:  0.9625151218126288\n",
            "Best hyper-parameters: {'hgb__learning_rate': 0.1811789094764627, 'hgb__max_depth': 10} and their score (inner evaluation): 0.9611125688114625\n",
            "time 177.27368927001953\n"
          ]
        }
      ],
      "source": [
        "from scipy.stats import randint as sp_randint\n",
        "from scipy.stats import uniform\n",
        "import time\n",
        "rs=NIA\n",
        "hgb = HistGradientBoostingClassifier(random_state=rs)\n",
        "clf=Pipeline([('hgb',hgb)])\n",
        "param_grid = {'hgb__max_depth': sp_randint(3,20),\n",
        "              'hgb__learning_rate': uniform(0.01,0.5)}\n",
        "(Accur3,best_params,inner_score,timer3)=default_RS(clf, X_train, y_train, X_test, y_test,param_grid,30)"
      ],
      "id": "HLLMurXWhWZM"
    },
    {
      "cell_type": "markdown",
      "metadata": {
        "id": "jUBN-UGjDMHI"
      },
      "source": [
        "### XGBoost"
      ],
      "id": "jUBN-UGjDMHI"
    },
    {
      "cell_type": "markdown",
      "metadata": {
        "id": "-S9bdnSiaBx5"
      },
      "source": [
        "#### Early stopping\n"
      ],
      "id": "-S9bdnSiaBx5"
    },
    {
      "cell_type": "code",
      "execution_count": null,
      "metadata": {
        "colab": {
          "base_uri": "https://localhost:8080/"
        },
        "id": "njLUrbDG3QdY",
        "outputId": "1b981063-993e-4f87-bc5a-4f2b40e01dad"
      },
      "outputs": [
        {
          "name": "stdout",
          "output_type": "stream",
          "text": [
            "(15470, 118) (15470,)\n",
            "(7621, 118) (7621,)\n"
          ]
        }
      ],
      "source": [
        "rs=NIA\n",
        "X_val1, X_val2, y_val1, y_val2 = train_test_split(X_train,y_train, test_size=0.33, random_state=rs,stratify=y_train)\n",
        "print(X_val1.shape, y_val1.shape)\n",
        "print(X_val2.shape, y_val2.shape)"
      ],
      "id": "njLUrbDG3QdY"
    },
    {
      "cell_type": "code",
      "execution_count": null,
      "metadata": {
        "id": "w6jwU_dc3phx"
      },
      "outputs": [],
      "source": [
        "dtrain = xgb.DMatrix(X_val1, label=y_val1)\n",
        "dval = xgb.DMatrix(X_val2, label=y_val2)"
      ],
      "id": "w6jwU_dc3phx"
    },
    {
      "cell_type": "code",
      "execution_count": null,
      "metadata": {
        "colab": {
          "background_save": true,
          "base_uri": "https://localhost:8080/"
        },
        "id": "UQh2gYOwOGx_",
        "outputId": "c7ddd0a5-61e3-47fd-da3e-49f6fdd18983"
      },
      "outputs": [
        {
          "name": "stderr",
          "output_type": "stream",
          "text": [
            "[I 2023-05-31 11:10:43,806] A new study created in memory with name: no-name-a20b3be7-0545-4847-92ec-ecb101192171\n",
            "/usr/local/lib/python3.10/dist-packages/xgboost/sklearn.py:835: UserWarning:\n",
            "\n",
            "`early_stopping_rounds` in `fit` method is deprecated for better compatibility with scikit-learn, use `early_stopping_rounds` in constructor or`set_params` instead.\n",
            "\n",
            "[I 2023-05-31 11:11:14,426] Trial 0 finished with value: 0.9940928169288369 and parameters: {'max_depth': 19, 'learning_rate': 0.39256342573577924}. Best is trial 0 with value: 0.9940928169288369.\n",
            "[I 2023-05-31 11:12:14,270] Trial 1 finished with value: 0.9944819630922034 and parameters: {'max_depth': 10, 'learning_rate': 0.08329836959885639}. Best is trial 1 with value: 0.9944819630922034.\n",
            "[I 2023-05-31 11:12:44,419] Trial 2 finished with value: 0.9943593634878296 and parameters: {'max_depth': 23, 'learning_rate': 0.37016014518398765}. Best is trial 1 with value: 0.9944819630922034.\n",
            "[I 2023-05-31 11:13:38,949] Trial 3 finished with value: 0.9941245004466912 and parameters: {'max_depth': 15, 'learning_rate': 0.4512119948308989}. Best is trial 1 with value: 0.9944819630922034.\n",
            "[I 2023-05-31 11:15:02,393] Trial 4 finished with value: 0.9943988518669397 and parameters: {'max_depth': 10, 'learning_rate': 0.052623625505710966}. Best is trial 1 with value: 0.9944819630922034.\n",
            "[I 2023-05-31 11:15:26,529] Trial 5 finished with value: 0.9937615533040804 and parameters: {'max_depth': 5, 'learning_rate': 0.36682890415143493}. Best is trial 1 with value: 0.9944819630922034.\n",
            "[I 2023-05-31 11:17:30,205] Trial 6 finished with value: 0.9939431323464839 and parameters: {'max_depth': 30, 'learning_rate': 0.022506349411674634}. Best is trial 1 with value: 0.9944819630922034.\n",
            "[I 2023-05-31 11:18:25,597] Trial 7 finished with value: 0.9942474375585787 and parameters: {'max_depth': 14, 'learning_rate': 0.2983130571462346}. Best is trial 1 with value: 0.9944819630922034.\n",
            "[I 2023-05-31 11:18:51,621] Trial 8 finished with value: 0.9943534571063388 and parameters: {'max_depth': 5, 'learning_rate': 0.19831225883498602}. Best is trial 1 with value: 0.9944819630922034.\n",
            "[I 2023-05-31 11:19:57,175] Trial 9 finished with value: 0.9942865884301749 and parameters: {'max_depth': 10, 'learning_rate': 0.05264940243427644}. Best is trial 1 with value: 0.9944819630922034.\n",
            "[I 2023-05-31 11:21:09,257] Trial 10 finished with value: 0.9942320809667026 and parameters: {'max_depth': 21, 'learning_rate': 0.1667479139216704}. Best is trial 1 with value: 0.9944819630922034.\n",
            "[I 2023-05-31 11:22:22,517] Trial 11 finished with value: 0.9944000753316771 and parameters: {'max_depth': 10, 'learning_rate': 0.08756237737027489}. Best is trial 1 with value: 0.9944819630922034.\n",
            "[I 2023-05-31 11:23:19,606] Trial 12 finished with value: 0.9943434584462436 and parameters: {'max_depth': 10, 'learning_rate': 0.1266652790802077}. Best is trial 1 with value: 0.9944819630922034.\n",
            "[I 2023-05-31 11:24:20,885] Trial 13 finished with value: 0.994564694621514 and parameters: {'max_depth': 8, 'learning_rate': 0.11273771779259359}. Best is trial 13 with value: 0.994564694621514.\n",
            "[I 2023-05-31 11:24:47,938] Trial 14 finished with value: 0.9939081581303704 and parameters: {'max_depth': 3, 'learning_rate': 0.128629019169689}. Best is trial 13 with value: 0.994564694621514.\n",
            "[I 2023-05-31 11:25:23,257] Trial 15 finished with value: 0.9942859134151474 and parameters: {'max_depth': 7, 'learning_rate': 0.1957549623154758}. Best is trial 13 with value: 0.994564694621514.\n",
            "[I 2023-05-31 11:26:00,134] Trial 16 finished with value: 0.9943526555259936 and parameters: {'max_depth': 13, 'learning_rate': 0.24030170099574155}. Best is trial 13 with value: 0.994564694621514.\n",
            "[I 2023-05-31 11:27:59,104] Trial 17 finished with value: 0.9937665737283476 and parameters: {'max_depth': 17, 'learning_rate': 0.015058186472181267}. Best is trial 13 with value: 0.994564694621514.\n",
            "[I 2023-05-31 11:28:59,036] Trial 18 finished with value: 0.9944628939176758 and parameters: {'max_depth': 7, 'learning_rate': 0.10336979473218216}. Best is trial 13 with value: 0.994564694621514.\n",
            "[I 2023-05-31 11:29:41,273] Trial 19 finished with value: 0.994346791332942 and parameters: {'max_depth': 13, 'learning_rate': 0.15189853099151285}. Best is trial 13 with value: 0.994564694621514.\n",
            "[I 2023-05-31 11:31:10,248] Trial 20 finished with value: 0.9944373277235085 and parameters: {'max_depth': 26, 'learning_rate': 0.07784282802590818}. Best is trial 13 with value: 0.994564694621514.\n",
            "[I 2023-05-31 11:32:04,904] Trial 21 finished with value: 0.9947068696616859 and parameters: {'max_depth': 7, 'learning_rate': 0.09542336203077385}. Best is trial 21 with value: 0.9947068696616859.\n",
            "[I 2023-05-31 11:32:59,652] Trial 22 finished with value: 0.9946661156293992 and parameters: {'max_depth': 7, 'learning_rate': 0.11558537234069775}. Best is trial 21 with value: 0.9947068696616859.\n",
            "[I 2023-05-31 11:33:41,063] Trial 23 finished with value: 0.9945978125463019 and parameters: {'max_depth': 7, 'learning_rate': 0.1420123526771237}. Best is trial 21 with value: 0.9947068696616859.\n",
            "[I 2023-05-31 11:34:06,457] Trial 24 finished with value: 0.9939950241267246 and parameters: {'max_depth': 3, 'learning_rate': 0.1645465947293425}. Best is trial 21 with value: 0.9947068696616859.\n",
            "[I 2023-05-31 11:34:35,193] Trial 25 finished with value: 0.9944980368875462 and parameters: {'max_depth': 6, 'learning_rate': 0.22758536418364628}. Best is trial 21 with value: 0.9947068696616859.\n",
            "[I 2023-05-31 11:35:53,773] Trial 26 finished with value: 0.9944267384252642 and parameters: {'max_depth': 12, 'learning_rate': 0.12985068449420306}. Best is trial 21 with value: 0.9947068696616859.\n",
            "[I 2023-05-31 11:36:19,293] Trial 27 finished with value: 0.9939143176424965 and parameters: {'max_depth': 3, 'learning_rate': 0.2048270462271464}. Best is trial 21 with value: 0.9947068696616859.\n",
            "[I 2023-05-31 11:36:48,689] Trial 28 finished with value: 0.9941627231726247 and parameters: {'max_depth': 8, 'learning_rate': 0.26921281448185685}. Best is trial 21 with value: 0.9947068696616859.\n",
            "[I 2023-05-31 11:38:30,802] Trial 29 finished with value: 0.9943410958936474 and parameters: {'max_depth': 18, 'learning_rate': 0.04756025786727963}. Best is trial 21 with value: 0.9947068696616859.\n"
          ]
        },
        {
          "name": "stdout",
          "output_type": "stream",
          "text": [
            "time 1666.998575925827\n",
            "The best trial is : \n",
            "FrozenTrial(number=21, state=TrialState.COMPLETE, values=[0.9947068696616859], datetime_start=datetime.datetime(2023, 5, 31, 11, 31, 10, 251191), datetime_complete=datetime.datetime(2023, 5, 31, 11, 32, 4, 903858), params={'max_depth': 7, 'learning_rate': 0.09542336203077385}, user_attrs={'act_iters': 465}, system_attrs={}, intermediate_values={}, distributions={'max_depth': IntDistribution(high=30, log=False, low=3, step=1), 'learning_rate': FloatDistribution(high=0.5, log=False, low=0.01, step=None)}, trial_id=21, value=None)\n",
            "The best value is : \n",
            "0.9947068696616859\n",
            "The best parameters are : \n",
            "{'max_depth': 7, 'learning_rate': 0.09542336203077385}\n"
          ]
        }
      ],
      "source": [
        "from pandas.core.common import random_state\n",
        "import optuna\n",
        "import time\n",
        "from sklearn import metrics\n",
        "from sklearn.model_selection import cross_val_score, KFold\n",
        "from sklearn.ensemble import ExtraTreesClassifier\n",
        "from sklearn.model_selection import StratifiedKFold\n",
        "inicio = time.time()\n",
        "cv_inner = StratifiedKFold(n_splits=3, random_state=rs, shuffle=True)\n",
        "rs=NIA\n",
        "np.random.seed(NIA)\n",
        "def _objective(trial):\n",
        "    xgbc__max_depth = trial.suggest_int('max_depth',3,30)\n",
        "    xgbc__learning_rate = trial.suggest_float(\"learning_rate\",0.01,0.5)\n",
        "    model = xgb.XGBClassifier(max_depth=xgbc__max_depth, learning_rate=xgbc__learning_rate,n_estimators=500,eval_metric='auc',random_state=rs)\n",
        "    model.fit(X_val1,y_val1,eval_set = [(X_val2,y_val2)],early_stopping_rounds =100,verbose=0)\n",
        "    results = model.evals_result()['validation_0']['auc']\n",
        "    result = results[-1]\n",
        "    trial.set_user_attr('act_iters', len(results))\n",
        "    return result\n",
        "\n",
        "# Step 4: Running it\n",
        "study = optuna.create_study(direction=\"maximize\")\n",
        "study.optimize( _objective, n_trials=30)\n",
        "\n",
        "fin=time.time()\n",
        "print('time',fin-inicio)\n",
        "timeopt4=fin-inicio\n",
        "# Getting the best trial:\n",
        "print(f\"The best trial is : \\n{study.best_trial}\")\n",
        "# Getting the best score:\n",
        "print(f\"The best value is : \\n{study.best_value}\")\n",
        "# Getting the best parameters:\n",
        "print(f\"The best parameters are : \\n{study.best_params}\")"
      ],
      "id": "UQh2gYOwOGx_"
    },
    {
      "cell_type": "code",
      "execution_count": null,
      "metadata": {
        "colab": {
          "background_save": true
        },
        "id": "IwNpjK9_QXwD",
        "outputId": "a55db02c-8437-49f3-db92-85c609fba071"
      },
      "outputs": [
        {
          "name": "stdout",
          "output_type": "stream",
          "text": [
            "Precision: 0.9947068696616859\n",
            "Best hyperparameters: {'max_depth': 7, 'learning_rate': 0.09542336203077385}\n"
          ]
        }
      ],
      "source": [
        "\n",
        "trial = study.best_trial\n",
        "print('Precision: {}'.format(trial.value))\n",
        "print(\"Best hyperparameters: {}\".format(trial.params))"
      ],
      "id": "IwNpjK9_QXwD"
    },
    {
      "cell_type": "code",
      "execution_count": null,
      "metadata": {
        "colab": {
          "background_save": true
        },
        "id": "52TzvLpmQlYo",
        "outputId": "94f62509-4bc1-4ac6-a6bc-14ece4f4ea99"
      },
      "outputs": [
        {
          "name": "stdout",
          "output_type": "stream",
          "text": [
            "Accuracy: 0.9598991216232213\n",
            "time 16.194066762924194\n"
          ]
        }
      ],
      "source": [
        "rs=NIA\n",
        "xgbc = xgb.XGBClassifier(random_state=rs)\n",
        "xgbc.set_params(**study.best_params)\n",
        "classif=Pipeline([('xgbc',xgbc)])\n",
        "(bacopt4, tiempo)=default_hp(classif, X_train, y_train, X_test, y_test)"
      ],
      "id": "52TzvLpmQlYo"
    },
    {
      "cell_type": "code",
      "execution_count": null,
      "metadata": {
        "colab": {
          "base_uri": "https://localhost:8080/",
          "height": 542
        },
        "id": "Ny4bv4MMGbJF",
        "outputId": "b40d1788-f9d9-49dd-bafb-6e8c3d2e63ef"
      },
      "outputs": [
        {
          "data": {
            "text/html": [
              "<html>\n",
              "<head><meta charset=\"utf-8\" /></head>\n",
              "<body>\n",
              "    <div>            <script src=\"https://cdnjs.cloudflare.com/ajax/libs/mathjax/2.7.5/MathJax.js?config=TeX-AMS-MML_SVG\"></script><script type=\"text/javascript\">if (window.MathJax && window.MathJax.Hub && window.MathJax.Hub.Config) {window.MathJax.Hub.Config({SVG: {font: \"STIX-Web\"}});}</script>                <script type=\"text/javascript\">window.PlotlyConfig = {MathJaxConfig: 'local'};</script>\n",
              "        <script src=\"https://cdn.plot.ly/plotly-2.18.2.min.js\"></script>                <div id=\"9c5811be-50e6-44a5-aee5-2d1fd61d7ccf\" class=\"plotly-graph-div\" style=\"height:525px; width:100%;\"></div>            <script type=\"text/javascript\">                                    window.PLOTLYENV=window.PLOTLYENV || {};                                    if (document.getElementById(\"9c5811be-50e6-44a5-aee5-2d1fd61d7ccf\")) {                    Plotly.newPlot(                        \"9c5811be-50e6-44a5-aee5-2d1fd61d7ccf\",                        [{\"mode\":\"markers\",\"name\":\"Objective Value\",\"x\":[0,1,2,3,4,5,6,7,8,9,10,11,12,13,14,15,16,17,18,19,20,21,22,23,24,25,26,27,28,29],\"y\":[0.9940928169288369,0.9944819630922034,0.9943593634878296,0.9941245004466912,0.9943988518669397,0.9937615533040804,0.9939431323464839,0.9942474375585787,0.9943534571063388,0.9942865884301749,0.9942320809667026,0.9944000753316771,0.9943434584462436,0.994564694621514,0.9939081581303704,0.9942859134151474,0.9943526555259936,0.9937665737283476,0.9944628939176758,0.994346791332942,0.9944373277235085,0.9947068696616859,0.9946661156293992,0.9945978125463019,0.9939950241267246,0.9944980368875462,0.9944267384252642,0.9939143176424965,0.9941627231726247,0.9943410958936474],\"type\":\"scatter\"},{\"name\":\"Best Value\",\"x\":[0,1,2,3,4,5,6,7,8,9,10,11,12,13,14,15,16,17,18,19,20,21,22,23,24,25,26,27,28,29],\"y\":[0.9940928169288369,0.9944819630922034,0.9944819630922034,0.9944819630922034,0.9944819630922034,0.9944819630922034,0.9944819630922034,0.9944819630922034,0.9944819630922034,0.9944819630922034,0.9944819630922034,0.9944819630922034,0.9944819630922034,0.994564694621514,0.994564694621514,0.994564694621514,0.994564694621514,0.994564694621514,0.994564694621514,0.994564694621514,0.994564694621514,0.9947068696616859,0.9947068696616859,0.9947068696616859,0.9947068696616859,0.9947068696616859,0.9947068696616859,0.9947068696616859,0.9947068696616859,0.9947068696616859],\"type\":\"scatter\"}],                        {\"title\":{\"text\":\"Optimization History Plot\"},\"xaxis\":{\"title\":{\"text\":\"Trial\"}},\"yaxis\":{\"title\":{\"text\":\"Objective Value\"}},\"template\":{\"data\":{\"histogram2dcontour\":[{\"type\":\"histogram2dcontour\",\"colorbar\":{\"outlinewidth\":0,\"ticks\":\"\"},\"colorscale\":[[0.0,\"#0d0887\"],[0.1111111111111111,\"#46039f\"],[0.2222222222222222,\"#7201a8\"],[0.3333333333333333,\"#9c179e\"],[0.4444444444444444,\"#bd3786\"],[0.5555555555555556,\"#d8576b\"],[0.6666666666666666,\"#ed7953\"],[0.7777777777777778,\"#fb9f3a\"],[0.8888888888888888,\"#fdca26\"],[1.0,\"#f0f921\"]]}],\"choropleth\":[{\"type\":\"choropleth\",\"colorbar\":{\"outlinewidth\":0,\"ticks\":\"\"}}],\"histogram2d\":[{\"type\":\"histogram2d\",\"colorbar\":{\"outlinewidth\":0,\"ticks\":\"\"},\"colorscale\":[[0.0,\"#0d0887\"],[0.1111111111111111,\"#46039f\"],[0.2222222222222222,\"#7201a8\"],[0.3333333333333333,\"#9c179e\"],[0.4444444444444444,\"#bd3786\"],[0.5555555555555556,\"#d8576b\"],[0.6666666666666666,\"#ed7953\"],[0.7777777777777778,\"#fb9f3a\"],[0.8888888888888888,\"#fdca26\"],[1.0,\"#f0f921\"]]}],\"heatmap\":[{\"type\":\"heatmap\",\"colorbar\":{\"outlinewidth\":0,\"ticks\":\"\"},\"colorscale\":[[0.0,\"#0d0887\"],[0.1111111111111111,\"#46039f\"],[0.2222222222222222,\"#7201a8\"],[0.3333333333333333,\"#9c179e\"],[0.4444444444444444,\"#bd3786\"],[0.5555555555555556,\"#d8576b\"],[0.6666666666666666,\"#ed7953\"],[0.7777777777777778,\"#fb9f3a\"],[0.8888888888888888,\"#fdca26\"],[1.0,\"#f0f921\"]]}],\"heatmapgl\":[{\"type\":\"heatmapgl\",\"colorbar\":{\"outlinewidth\":0,\"ticks\":\"\"},\"colorscale\":[[0.0,\"#0d0887\"],[0.1111111111111111,\"#46039f\"],[0.2222222222222222,\"#7201a8\"],[0.3333333333333333,\"#9c179e\"],[0.4444444444444444,\"#bd3786\"],[0.5555555555555556,\"#d8576b\"],[0.6666666666666666,\"#ed7953\"],[0.7777777777777778,\"#fb9f3a\"],[0.8888888888888888,\"#fdca26\"],[1.0,\"#f0f921\"]]}],\"contourcarpet\":[{\"type\":\"contourcarpet\",\"colorbar\":{\"outlinewidth\":0,\"ticks\":\"\"}}],\"contour\":[{\"type\":\"contour\",\"colorbar\":{\"outlinewidth\":0,\"ticks\":\"\"},\"colorscale\":[[0.0,\"#0d0887\"],[0.1111111111111111,\"#46039f\"],[0.2222222222222222,\"#7201a8\"],[0.3333333333333333,\"#9c179e\"],[0.4444444444444444,\"#bd3786\"],[0.5555555555555556,\"#d8576b\"],[0.6666666666666666,\"#ed7953\"],[0.7777777777777778,\"#fb9f3a\"],[0.8888888888888888,\"#fdca26\"],[1.0,\"#f0f921\"]]}],\"surface\":[{\"type\":\"surface\",\"colorbar\":{\"outlinewidth\":0,\"ticks\":\"\"},\"colorscale\":[[0.0,\"#0d0887\"],[0.1111111111111111,\"#46039f\"],[0.2222222222222222,\"#7201a8\"],[0.3333333333333333,\"#9c179e\"],[0.4444444444444444,\"#bd3786\"],[0.5555555555555556,\"#d8576b\"],[0.6666666666666666,\"#ed7953\"],[0.7777777777777778,\"#fb9f3a\"],[0.8888888888888888,\"#fdca26\"],[1.0,\"#f0f921\"]]}],\"mesh3d\":[{\"type\":\"mesh3d\",\"colorbar\":{\"outlinewidth\":0,\"ticks\":\"\"}}],\"scatter\":[{\"fillpattern\":{\"fillmode\":\"overlay\",\"size\":10,\"solidity\":0.2},\"type\":\"scatter\"}],\"parcoords\":[{\"type\":\"parcoords\",\"line\":{\"colorbar\":{\"outlinewidth\":0,\"ticks\":\"\"}}}],\"scatterpolargl\":[{\"type\":\"scatterpolargl\",\"marker\":{\"colorbar\":{\"outlinewidth\":0,\"ticks\":\"\"}}}],\"bar\":[{\"error_x\":{\"color\":\"#2a3f5f\"},\"error_y\":{\"color\":\"#2a3f5f\"},\"marker\":{\"line\":{\"color\":\"#E5ECF6\",\"width\":0.5},\"pattern\":{\"fillmode\":\"overlay\",\"size\":10,\"solidity\":0.2}},\"type\":\"bar\"}],\"scattergeo\":[{\"type\":\"scattergeo\",\"marker\":{\"colorbar\":{\"outlinewidth\":0,\"ticks\":\"\"}}}],\"scatterpolar\":[{\"type\":\"scatterpolar\",\"marker\":{\"colorbar\":{\"outlinewidth\":0,\"ticks\":\"\"}}}],\"histogram\":[{\"marker\":{\"pattern\":{\"fillmode\":\"overlay\",\"size\":10,\"solidity\":0.2}},\"type\":\"histogram\"}],\"scattergl\":[{\"type\":\"scattergl\",\"marker\":{\"colorbar\":{\"outlinewidth\":0,\"ticks\":\"\"}}}],\"scatter3d\":[{\"type\":\"scatter3d\",\"line\":{\"colorbar\":{\"outlinewidth\":0,\"ticks\":\"\"}},\"marker\":{\"colorbar\":{\"outlinewidth\":0,\"ticks\":\"\"}}}],\"scattermapbox\":[{\"type\":\"scattermapbox\",\"marker\":{\"colorbar\":{\"outlinewidth\":0,\"ticks\":\"\"}}}],\"scatterternary\":[{\"type\":\"scatterternary\",\"marker\":{\"colorbar\":{\"outlinewidth\":0,\"ticks\":\"\"}}}],\"scattercarpet\":[{\"type\":\"scattercarpet\",\"marker\":{\"colorbar\":{\"outlinewidth\":0,\"ticks\":\"\"}}}],\"carpet\":[{\"aaxis\":{\"endlinecolor\":\"#2a3f5f\",\"gridcolor\":\"white\",\"linecolor\":\"white\",\"minorgridcolor\":\"white\",\"startlinecolor\":\"#2a3f5f\"},\"baxis\":{\"endlinecolor\":\"#2a3f5f\",\"gridcolor\":\"white\",\"linecolor\":\"white\",\"minorgridcolor\":\"white\",\"startlinecolor\":\"#2a3f5f\"},\"type\":\"carpet\"}],\"table\":[{\"cells\":{\"fill\":{\"color\":\"#EBF0F8\"},\"line\":{\"color\":\"white\"}},\"header\":{\"fill\":{\"color\":\"#C8D4E3\"},\"line\":{\"color\":\"white\"}},\"type\":\"table\"}],\"barpolar\":[{\"marker\":{\"line\":{\"color\":\"#E5ECF6\",\"width\":0.5},\"pattern\":{\"fillmode\":\"overlay\",\"size\":10,\"solidity\":0.2}},\"type\":\"barpolar\"}],\"pie\":[{\"automargin\":true,\"type\":\"pie\"}]},\"layout\":{\"autotypenumbers\":\"strict\",\"colorway\":[\"#636efa\",\"#EF553B\",\"#00cc96\",\"#ab63fa\",\"#FFA15A\",\"#19d3f3\",\"#FF6692\",\"#B6E880\",\"#FF97FF\",\"#FECB52\"],\"font\":{\"color\":\"#2a3f5f\"},\"hovermode\":\"closest\",\"hoverlabel\":{\"align\":\"left\"},\"paper_bgcolor\":\"white\",\"plot_bgcolor\":\"#E5ECF6\",\"polar\":{\"bgcolor\":\"#E5ECF6\",\"angularaxis\":{\"gridcolor\":\"white\",\"linecolor\":\"white\",\"ticks\":\"\"},\"radialaxis\":{\"gridcolor\":\"white\",\"linecolor\":\"white\",\"ticks\":\"\"}},\"ternary\":{\"bgcolor\":\"#E5ECF6\",\"aaxis\":{\"gridcolor\":\"white\",\"linecolor\":\"white\",\"ticks\":\"\"},\"baxis\":{\"gridcolor\":\"white\",\"linecolor\":\"white\",\"ticks\":\"\"},\"caxis\":{\"gridcolor\":\"white\",\"linecolor\":\"white\",\"ticks\":\"\"}},\"coloraxis\":{\"colorbar\":{\"outlinewidth\":0,\"ticks\":\"\"}},\"colorscale\":{\"sequential\":[[0.0,\"#0d0887\"],[0.1111111111111111,\"#46039f\"],[0.2222222222222222,\"#7201a8\"],[0.3333333333333333,\"#9c179e\"],[0.4444444444444444,\"#bd3786\"],[0.5555555555555556,\"#d8576b\"],[0.6666666666666666,\"#ed7953\"],[0.7777777777777778,\"#fb9f3a\"],[0.8888888888888888,\"#fdca26\"],[1.0,\"#f0f921\"]],\"sequentialminus\":[[0.0,\"#0d0887\"],[0.1111111111111111,\"#46039f\"],[0.2222222222222222,\"#7201a8\"],[0.3333333333333333,\"#9c179e\"],[0.4444444444444444,\"#bd3786\"],[0.5555555555555556,\"#d8576b\"],[0.6666666666666666,\"#ed7953\"],[0.7777777777777778,\"#fb9f3a\"],[0.8888888888888888,\"#fdca26\"],[1.0,\"#f0f921\"]],\"diverging\":[[0,\"#8e0152\"],[0.1,\"#c51b7d\"],[0.2,\"#de77ae\"],[0.3,\"#f1b6da\"],[0.4,\"#fde0ef\"],[0.5,\"#f7f7f7\"],[0.6,\"#e6f5d0\"],[0.7,\"#b8e186\"],[0.8,\"#7fbc41\"],[0.9,\"#4d9221\"],[1,\"#276419\"]]},\"xaxis\":{\"gridcolor\":\"white\",\"linecolor\":\"white\",\"ticks\":\"\",\"title\":{\"standoff\":15},\"zerolinecolor\":\"white\",\"automargin\":true,\"zerolinewidth\":2},\"yaxis\":{\"gridcolor\":\"white\",\"linecolor\":\"white\",\"ticks\":\"\",\"title\":{\"standoff\":15},\"zerolinecolor\":\"white\",\"automargin\":true,\"zerolinewidth\":2},\"scene\":{\"xaxis\":{\"backgroundcolor\":\"#E5ECF6\",\"gridcolor\":\"white\",\"linecolor\":\"white\",\"showbackground\":true,\"ticks\":\"\",\"zerolinecolor\":\"white\",\"gridwidth\":2},\"yaxis\":{\"backgroundcolor\":\"#E5ECF6\",\"gridcolor\":\"white\",\"linecolor\":\"white\",\"showbackground\":true,\"ticks\":\"\",\"zerolinecolor\":\"white\",\"gridwidth\":2},\"zaxis\":{\"backgroundcolor\":\"#E5ECF6\",\"gridcolor\":\"white\",\"linecolor\":\"white\",\"showbackground\":true,\"ticks\":\"\",\"zerolinecolor\":\"white\",\"gridwidth\":2}},\"shapedefaults\":{\"line\":{\"color\":\"#2a3f5f\"}},\"annotationdefaults\":{\"arrowcolor\":\"#2a3f5f\",\"arrowhead\":0,\"arrowwidth\":1},\"geo\":{\"bgcolor\":\"white\",\"landcolor\":\"#E5ECF6\",\"subunitcolor\":\"white\",\"showland\":true,\"showlakes\":true,\"lakecolor\":\"white\"},\"title\":{\"x\":0.05},\"mapbox\":{\"style\":\"light\"}}}},                        {\"responsive\": true}                    ).then(function(){\n",
              "                            \n",
              "var gd = document.getElementById('9c5811be-50e6-44a5-aee5-2d1fd61d7ccf');\n",
              "var x = new MutationObserver(function (mutations, observer) {{\n",
              "        var display = window.getComputedStyle(gd).display;\n",
              "        if (!display || display === 'none') {{\n",
              "            console.log([gd, 'removed!']);\n",
              "            Plotly.purge(gd);\n",
              "            observer.disconnect();\n",
              "        }}\n",
              "}});\n",
              "\n",
              "// Listen for the removal of the full notebook cells\n",
              "var notebookContainer = gd.closest('#notebook-container');\n",
              "if (notebookContainer) {{\n",
              "    x.observe(notebookContainer, {childList: true});\n",
              "}}\n",
              "\n",
              "// Listen for the clearing of the current output cell\n",
              "var outputEl = gd.closest('.output');\n",
              "if (outputEl) {{\n",
              "    x.observe(outputEl, {childList: true});\n",
              "}}\n",
              "\n",
              "                        })                };                            </script>        </div>\n",
              "</body>\n",
              "</html>"
            ]
          },
          "metadata": {},
          "output_type": "display_data"
        }
      ],
      "source": [
        "optuna.visualization.plot_optimization_history(study).show()"
      ],
      "id": "Ny4bv4MMGbJF"
    },
    {
      "cell_type": "code",
      "execution_count": null,
      "metadata": {
        "colab": {
          "base_uri": "https://localhost:8080/",
          "height": 542
        },
        "id": "aGiP8j7TGcQs",
        "outputId": "fc44e862-5b78-4962-fa6f-1614a8362d70"
      },
      "outputs": [
        {
          "data": {
            "text/html": [
              "<html>\n",
              "<head><meta charset=\"utf-8\" /></head>\n",
              "<body>\n",
              "    <div>            <script src=\"https://cdnjs.cloudflare.com/ajax/libs/mathjax/2.7.5/MathJax.js?config=TeX-AMS-MML_SVG\"></script><script type=\"text/javascript\">if (window.MathJax && window.MathJax.Hub && window.MathJax.Hub.Config) {window.MathJax.Hub.Config({SVG: {font: \"STIX-Web\"}});}</script>                <script type=\"text/javascript\">window.PlotlyConfig = {MathJaxConfig: 'local'};</script>\n",
              "        <script src=\"https://cdn.plot.ly/plotly-2.18.2.min.js\"></script>                <div id=\"95bc06de-7e9e-478b-9f23-272d04e1ecd4\" class=\"plotly-graph-div\" style=\"height:525px; width:100%;\"></div>            <script type=\"text/javascript\">                                    window.PLOTLYENV=window.PLOTLYENV || {};                                    if (document.getElementById(\"95bc06de-7e9e-478b-9f23-272d04e1ecd4\")) {                    Plotly.newPlot(                        \"95bc06de-7e9e-478b-9f23-272d04e1ecd4\",                        [{\"dimensions\":[{\"label\":\"Objective Value\",\"range\":[0.9937615533040804,0.9947068696616859],\"values\":[0.9940928169288369,0.9944819630922034,0.9943593634878296,0.9941245004466912,0.9943988518669397,0.9937615533040804,0.9939431323464839,0.9942474375585787,0.9943534571063388,0.9942865884301749,0.9942320809667026,0.9944000753316771,0.9943434584462436,0.994564694621514,0.9939081581303704,0.9942859134151474,0.9943526555259936,0.9937665737283476,0.9944628939176758,0.994346791332942,0.9944373277235085,0.9947068696616859,0.9946661156293992,0.9945978125463019,0.9939950241267246,0.9944980368875462,0.9944267384252642,0.9939143176424965,0.9941627231726247,0.9943410958936474]},{\"label\":\"learning_rate\",\"range\":[0.015058186472181267,0.4512119948308989],\"values\":[0.39256342573577924,0.08329836959885639,0.37016014518398765,0.4512119948308989,0.052623625505710966,0.36682890415143493,0.022506349411674634,0.2983130571462346,0.19831225883498602,0.05264940243427644,0.1667479139216704,0.08756237737027489,0.1266652790802077,0.11273771779259359,0.128629019169689,0.1957549623154758,0.24030170099574155,0.015058186472181267,0.10336979473218216,0.15189853099151285,0.07784282802590818,0.09542336203077385,0.11558537234069775,0.1420123526771237,0.1645465947293425,0.22758536418364628,0.12985068449420306,0.2048270462271464,0.26921281448185685,0.04756025786727963]},{\"label\":\"max_depth\",\"range\":[3,30],\"values\":[19,10,23,15,10,5,30,14,5,10,21,10,10,8,3,7,13,17,7,13,26,7,7,7,3,6,12,3,8,18]}],\"labelangle\":30,\"labelside\":\"bottom\",\"line\":{\"color\":[0.9940928169288369,0.9944819630922034,0.9943593634878296,0.9941245004466912,0.9943988518669397,0.9937615533040804,0.9939431323464839,0.9942474375585787,0.9943534571063388,0.9942865884301749,0.9942320809667026,0.9944000753316771,0.9943434584462436,0.994564694621514,0.9939081581303704,0.9942859134151474,0.9943526555259936,0.9937665737283476,0.9944628939176758,0.994346791332942,0.9944373277235085,0.9947068696616859,0.9946661156293992,0.9945978125463019,0.9939950241267246,0.9944980368875462,0.9944267384252642,0.9939143176424965,0.9941627231726247,0.9943410958936474],\"colorbar\":{\"title\":{\"text\":\"Objective Value\"}},\"colorscale\":[[0.0,\"rgb(247,251,255)\"],[0.125,\"rgb(222,235,247)\"],[0.25,\"rgb(198,219,239)\"],[0.375,\"rgb(158,202,225)\"],[0.5,\"rgb(107,174,214)\"],[0.625,\"rgb(66,146,198)\"],[0.75,\"rgb(33,113,181)\"],[0.875,\"rgb(8,81,156)\"],[1.0,\"rgb(8,48,107)\"]],\"reversescale\":false,\"showscale\":true},\"type\":\"parcoords\"}],                        {\"title\":{\"text\":\"Parallel Coordinate Plot\"},\"template\":{\"data\":{\"histogram2dcontour\":[{\"type\":\"histogram2dcontour\",\"colorbar\":{\"outlinewidth\":0,\"ticks\":\"\"},\"colorscale\":[[0.0,\"#0d0887\"],[0.1111111111111111,\"#46039f\"],[0.2222222222222222,\"#7201a8\"],[0.3333333333333333,\"#9c179e\"],[0.4444444444444444,\"#bd3786\"],[0.5555555555555556,\"#d8576b\"],[0.6666666666666666,\"#ed7953\"],[0.7777777777777778,\"#fb9f3a\"],[0.8888888888888888,\"#fdca26\"],[1.0,\"#f0f921\"]]}],\"choropleth\":[{\"type\":\"choropleth\",\"colorbar\":{\"outlinewidth\":0,\"ticks\":\"\"}}],\"histogram2d\":[{\"type\":\"histogram2d\",\"colorbar\":{\"outlinewidth\":0,\"ticks\":\"\"},\"colorscale\":[[0.0,\"#0d0887\"],[0.1111111111111111,\"#46039f\"],[0.2222222222222222,\"#7201a8\"],[0.3333333333333333,\"#9c179e\"],[0.4444444444444444,\"#bd3786\"],[0.5555555555555556,\"#d8576b\"],[0.6666666666666666,\"#ed7953\"],[0.7777777777777778,\"#fb9f3a\"],[0.8888888888888888,\"#fdca26\"],[1.0,\"#f0f921\"]]}],\"heatmap\":[{\"type\":\"heatmap\",\"colorbar\":{\"outlinewidth\":0,\"ticks\":\"\"},\"colorscale\":[[0.0,\"#0d0887\"],[0.1111111111111111,\"#46039f\"],[0.2222222222222222,\"#7201a8\"],[0.3333333333333333,\"#9c179e\"],[0.4444444444444444,\"#bd3786\"],[0.5555555555555556,\"#d8576b\"],[0.6666666666666666,\"#ed7953\"],[0.7777777777777778,\"#fb9f3a\"],[0.8888888888888888,\"#fdca26\"],[1.0,\"#f0f921\"]]}],\"heatmapgl\":[{\"type\":\"heatmapgl\",\"colorbar\":{\"outlinewidth\":0,\"ticks\":\"\"},\"colorscale\":[[0.0,\"#0d0887\"],[0.1111111111111111,\"#46039f\"],[0.2222222222222222,\"#7201a8\"],[0.3333333333333333,\"#9c179e\"],[0.4444444444444444,\"#bd3786\"],[0.5555555555555556,\"#d8576b\"],[0.6666666666666666,\"#ed7953\"],[0.7777777777777778,\"#fb9f3a\"],[0.8888888888888888,\"#fdca26\"],[1.0,\"#f0f921\"]]}],\"contourcarpet\":[{\"type\":\"contourcarpet\",\"colorbar\":{\"outlinewidth\":0,\"ticks\":\"\"}}],\"contour\":[{\"type\":\"contour\",\"colorbar\":{\"outlinewidth\":0,\"ticks\":\"\"},\"colorscale\":[[0.0,\"#0d0887\"],[0.1111111111111111,\"#46039f\"],[0.2222222222222222,\"#7201a8\"],[0.3333333333333333,\"#9c179e\"],[0.4444444444444444,\"#bd3786\"],[0.5555555555555556,\"#d8576b\"],[0.6666666666666666,\"#ed7953\"],[0.7777777777777778,\"#fb9f3a\"],[0.8888888888888888,\"#fdca26\"],[1.0,\"#f0f921\"]]}],\"surface\":[{\"type\":\"surface\",\"colorbar\":{\"outlinewidth\":0,\"ticks\":\"\"},\"colorscale\":[[0.0,\"#0d0887\"],[0.1111111111111111,\"#46039f\"],[0.2222222222222222,\"#7201a8\"],[0.3333333333333333,\"#9c179e\"],[0.4444444444444444,\"#bd3786\"],[0.5555555555555556,\"#d8576b\"],[0.6666666666666666,\"#ed7953\"],[0.7777777777777778,\"#fb9f3a\"],[0.8888888888888888,\"#fdca26\"],[1.0,\"#f0f921\"]]}],\"mesh3d\":[{\"type\":\"mesh3d\",\"colorbar\":{\"outlinewidth\":0,\"ticks\":\"\"}}],\"scatter\":[{\"fillpattern\":{\"fillmode\":\"overlay\",\"size\":10,\"solidity\":0.2},\"type\":\"scatter\"}],\"parcoords\":[{\"type\":\"parcoords\",\"line\":{\"colorbar\":{\"outlinewidth\":0,\"ticks\":\"\"}}}],\"scatterpolargl\":[{\"type\":\"scatterpolargl\",\"marker\":{\"colorbar\":{\"outlinewidth\":0,\"ticks\":\"\"}}}],\"bar\":[{\"error_x\":{\"color\":\"#2a3f5f\"},\"error_y\":{\"color\":\"#2a3f5f\"},\"marker\":{\"line\":{\"color\":\"#E5ECF6\",\"width\":0.5},\"pattern\":{\"fillmode\":\"overlay\",\"size\":10,\"solidity\":0.2}},\"type\":\"bar\"}],\"scattergeo\":[{\"type\":\"scattergeo\",\"marker\":{\"colorbar\":{\"outlinewidth\":0,\"ticks\":\"\"}}}],\"scatterpolar\":[{\"type\":\"scatterpolar\",\"marker\":{\"colorbar\":{\"outlinewidth\":0,\"ticks\":\"\"}}}],\"histogram\":[{\"marker\":{\"pattern\":{\"fillmode\":\"overlay\",\"size\":10,\"solidity\":0.2}},\"type\":\"histogram\"}],\"scattergl\":[{\"type\":\"scattergl\",\"marker\":{\"colorbar\":{\"outlinewidth\":0,\"ticks\":\"\"}}}],\"scatter3d\":[{\"type\":\"scatter3d\",\"line\":{\"colorbar\":{\"outlinewidth\":0,\"ticks\":\"\"}},\"marker\":{\"colorbar\":{\"outlinewidth\":0,\"ticks\":\"\"}}}],\"scattermapbox\":[{\"type\":\"scattermapbox\",\"marker\":{\"colorbar\":{\"outlinewidth\":0,\"ticks\":\"\"}}}],\"scatterternary\":[{\"type\":\"scatterternary\",\"marker\":{\"colorbar\":{\"outlinewidth\":0,\"ticks\":\"\"}}}],\"scattercarpet\":[{\"type\":\"scattercarpet\",\"marker\":{\"colorbar\":{\"outlinewidth\":0,\"ticks\":\"\"}}}],\"carpet\":[{\"aaxis\":{\"endlinecolor\":\"#2a3f5f\",\"gridcolor\":\"white\",\"linecolor\":\"white\",\"minorgridcolor\":\"white\",\"startlinecolor\":\"#2a3f5f\"},\"baxis\":{\"endlinecolor\":\"#2a3f5f\",\"gridcolor\":\"white\",\"linecolor\":\"white\",\"minorgridcolor\":\"white\",\"startlinecolor\":\"#2a3f5f\"},\"type\":\"carpet\"}],\"table\":[{\"cells\":{\"fill\":{\"color\":\"#EBF0F8\"},\"line\":{\"color\":\"white\"}},\"header\":{\"fill\":{\"color\":\"#C8D4E3\"},\"line\":{\"color\":\"white\"}},\"type\":\"table\"}],\"barpolar\":[{\"marker\":{\"line\":{\"color\":\"#E5ECF6\",\"width\":0.5},\"pattern\":{\"fillmode\":\"overlay\",\"size\":10,\"solidity\":0.2}},\"type\":\"barpolar\"}],\"pie\":[{\"automargin\":true,\"type\":\"pie\"}]},\"layout\":{\"autotypenumbers\":\"strict\",\"colorway\":[\"#636efa\",\"#EF553B\",\"#00cc96\",\"#ab63fa\",\"#FFA15A\",\"#19d3f3\",\"#FF6692\",\"#B6E880\",\"#FF97FF\",\"#FECB52\"],\"font\":{\"color\":\"#2a3f5f\"},\"hovermode\":\"closest\",\"hoverlabel\":{\"align\":\"left\"},\"paper_bgcolor\":\"white\",\"plot_bgcolor\":\"#E5ECF6\",\"polar\":{\"bgcolor\":\"#E5ECF6\",\"angularaxis\":{\"gridcolor\":\"white\",\"linecolor\":\"white\",\"ticks\":\"\"},\"radialaxis\":{\"gridcolor\":\"white\",\"linecolor\":\"white\",\"ticks\":\"\"}},\"ternary\":{\"bgcolor\":\"#E5ECF6\",\"aaxis\":{\"gridcolor\":\"white\",\"linecolor\":\"white\",\"ticks\":\"\"},\"baxis\":{\"gridcolor\":\"white\",\"linecolor\":\"white\",\"ticks\":\"\"},\"caxis\":{\"gridcolor\":\"white\",\"linecolor\":\"white\",\"ticks\":\"\"}},\"coloraxis\":{\"colorbar\":{\"outlinewidth\":0,\"ticks\":\"\"}},\"colorscale\":{\"sequential\":[[0.0,\"#0d0887\"],[0.1111111111111111,\"#46039f\"],[0.2222222222222222,\"#7201a8\"],[0.3333333333333333,\"#9c179e\"],[0.4444444444444444,\"#bd3786\"],[0.5555555555555556,\"#d8576b\"],[0.6666666666666666,\"#ed7953\"],[0.7777777777777778,\"#fb9f3a\"],[0.8888888888888888,\"#fdca26\"],[1.0,\"#f0f921\"]],\"sequentialminus\":[[0.0,\"#0d0887\"],[0.1111111111111111,\"#46039f\"],[0.2222222222222222,\"#7201a8\"],[0.3333333333333333,\"#9c179e\"],[0.4444444444444444,\"#bd3786\"],[0.5555555555555556,\"#d8576b\"],[0.6666666666666666,\"#ed7953\"],[0.7777777777777778,\"#fb9f3a\"],[0.8888888888888888,\"#fdca26\"],[1.0,\"#f0f921\"]],\"diverging\":[[0,\"#8e0152\"],[0.1,\"#c51b7d\"],[0.2,\"#de77ae\"],[0.3,\"#f1b6da\"],[0.4,\"#fde0ef\"],[0.5,\"#f7f7f7\"],[0.6,\"#e6f5d0\"],[0.7,\"#b8e186\"],[0.8,\"#7fbc41\"],[0.9,\"#4d9221\"],[1,\"#276419\"]]},\"xaxis\":{\"gridcolor\":\"white\",\"linecolor\":\"white\",\"ticks\":\"\",\"title\":{\"standoff\":15},\"zerolinecolor\":\"white\",\"automargin\":true,\"zerolinewidth\":2},\"yaxis\":{\"gridcolor\":\"white\",\"linecolor\":\"white\",\"ticks\":\"\",\"title\":{\"standoff\":15},\"zerolinecolor\":\"white\",\"automargin\":true,\"zerolinewidth\":2},\"scene\":{\"xaxis\":{\"backgroundcolor\":\"#E5ECF6\",\"gridcolor\":\"white\",\"linecolor\":\"white\",\"showbackground\":true,\"ticks\":\"\",\"zerolinecolor\":\"white\",\"gridwidth\":2},\"yaxis\":{\"backgroundcolor\":\"#E5ECF6\",\"gridcolor\":\"white\",\"linecolor\":\"white\",\"showbackground\":true,\"ticks\":\"\",\"zerolinecolor\":\"white\",\"gridwidth\":2},\"zaxis\":{\"backgroundcolor\":\"#E5ECF6\",\"gridcolor\":\"white\",\"linecolor\":\"white\",\"showbackground\":true,\"ticks\":\"\",\"zerolinecolor\":\"white\",\"gridwidth\":2}},\"shapedefaults\":{\"line\":{\"color\":\"#2a3f5f\"}},\"annotationdefaults\":{\"arrowcolor\":\"#2a3f5f\",\"arrowhead\":0,\"arrowwidth\":1},\"geo\":{\"bgcolor\":\"white\",\"landcolor\":\"#E5ECF6\",\"subunitcolor\":\"white\",\"showland\":true,\"showlakes\":true,\"lakecolor\":\"white\"},\"title\":{\"x\":0.05},\"mapbox\":{\"style\":\"light\"}}}},                        {\"responsive\": true}                    ).then(function(){\n",
              "                            \n",
              "var gd = document.getElementById('95bc06de-7e9e-478b-9f23-272d04e1ecd4');\n",
              "var x = new MutationObserver(function (mutations, observer) {{\n",
              "        var display = window.getComputedStyle(gd).display;\n",
              "        if (!display || display === 'none') {{\n",
              "            console.log([gd, 'removed!']);\n",
              "            Plotly.purge(gd);\n",
              "            observer.disconnect();\n",
              "        }}\n",
              "}});\n",
              "\n",
              "// Listen for the removal of the full notebook cells\n",
              "var notebookContainer = gd.closest('#notebook-container');\n",
              "if (notebookContainer) {{\n",
              "    x.observe(notebookContainer, {childList: true});\n",
              "}}\n",
              "\n",
              "// Listen for the clearing of the current output cell\n",
              "var outputEl = gd.closest('.output');\n",
              "if (outputEl) {{\n",
              "    x.observe(outputEl, {childList: true});\n",
              "}}\n",
              "\n",
              "                        })                };                            </script>        </div>\n",
              "</body>\n",
              "</html>"
            ]
          },
          "metadata": {},
          "output_type": "display_data"
        }
      ],
      "source": [
        "plot_parallel_coordinate(study)"
      ],
      "id": "aGiP8j7TGcQs"
    },
    {
      "cell_type": "code",
      "execution_count": null,
      "metadata": {
        "colab": {
          "base_uri": "https://localhost:8080/",
          "height": 542
        },
        "id": "BNsA2lkDGckO",
        "outputId": "7cd1641b-5328-4a14-9df8-1ddc067fb54d"
      },
      "outputs": [
        {
          "data": {
            "text/html": [
              "<html>\n",
              "<head><meta charset=\"utf-8\" /></head>\n",
              "<body>\n",
              "    <div>            <script src=\"https://cdnjs.cloudflare.com/ajax/libs/mathjax/2.7.5/MathJax.js?config=TeX-AMS-MML_SVG\"></script><script type=\"text/javascript\">if (window.MathJax && window.MathJax.Hub && window.MathJax.Hub.Config) {window.MathJax.Hub.Config({SVG: {font: \"STIX-Web\"}});}</script>                <script type=\"text/javascript\">window.PlotlyConfig = {MathJaxConfig: 'local'};</script>\n",
              "        <script src=\"https://cdn.plot.ly/plotly-2.18.2.min.js\"></script>                <div id=\"0f340647-4fcb-40ce-8866-4f90cd802867\" class=\"plotly-graph-div\" style=\"height:525px; width:100%;\"></div>            <script type=\"text/javascript\">                                    window.PLOTLYENV=window.PLOTLYENV || {};                                    if (document.getElementById(\"0f340647-4fcb-40ce-8866-4f90cd802867\")) {                    Plotly.newPlot(                        \"0f340647-4fcb-40ce-8866-4f90cd802867\",                        [{\"cliponaxis\":false,\"hovertemplate\":[\"max_depth (IntDistribution): 0.4371234792859955<extra></extra>\",\"learning_rate (FloatDistribution): 0.5628765207140045<extra></extra>\"],\"marker\":{\"color\":\"rgb(66,146,198)\"},\"orientation\":\"h\",\"text\":[\"0.44\",\"0.56\"],\"textposition\":\"outside\",\"x\":[0.4371234792859955,0.5628765207140045],\"y\":[\"max_depth\",\"learning_rate\"],\"type\":\"bar\"}],                        {\"showlegend\":false,\"title\":{\"text\":\"Hyperparameter Importances\"},\"xaxis\":{\"title\":{\"text\":\"Importance for Objective Value\"}},\"yaxis\":{\"title\":{\"text\":\"Hyperparameter\"}},\"template\":{\"data\":{\"histogram2dcontour\":[{\"type\":\"histogram2dcontour\",\"colorbar\":{\"outlinewidth\":0,\"ticks\":\"\"},\"colorscale\":[[0.0,\"#0d0887\"],[0.1111111111111111,\"#46039f\"],[0.2222222222222222,\"#7201a8\"],[0.3333333333333333,\"#9c179e\"],[0.4444444444444444,\"#bd3786\"],[0.5555555555555556,\"#d8576b\"],[0.6666666666666666,\"#ed7953\"],[0.7777777777777778,\"#fb9f3a\"],[0.8888888888888888,\"#fdca26\"],[1.0,\"#f0f921\"]]}],\"choropleth\":[{\"type\":\"choropleth\",\"colorbar\":{\"outlinewidth\":0,\"ticks\":\"\"}}],\"histogram2d\":[{\"type\":\"histogram2d\",\"colorbar\":{\"outlinewidth\":0,\"ticks\":\"\"},\"colorscale\":[[0.0,\"#0d0887\"],[0.1111111111111111,\"#46039f\"],[0.2222222222222222,\"#7201a8\"],[0.3333333333333333,\"#9c179e\"],[0.4444444444444444,\"#bd3786\"],[0.5555555555555556,\"#d8576b\"],[0.6666666666666666,\"#ed7953\"],[0.7777777777777778,\"#fb9f3a\"],[0.8888888888888888,\"#fdca26\"],[1.0,\"#f0f921\"]]}],\"heatmap\":[{\"type\":\"heatmap\",\"colorbar\":{\"outlinewidth\":0,\"ticks\":\"\"},\"colorscale\":[[0.0,\"#0d0887\"],[0.1111111111111111,\"#46039f\"],[0.2222222222222222,\"#7201a8\"],[0.3333333333333333,\"#9c179e\"],[0.4444444444444444,\"#bd3786\"],[0.5555555555555556,\"#d8576b\"],[0.6666666666666666,\"#ed7953\"],[0.7777777777777778,\"#fb9f3a\"],[0.8888888888888888,\"#fdca26\"],[1.0,\"#f0f921\"]]}],\"heatmapgl\":[{\"type\":\"heatmapgl\",\"colorbar\":{\"outlinewidth\":0,\"ticks\":\"\"},\"colorscale\":[[0.0,\"#0d0887\"],[0.1111111111111111,\"#46039f\"],[0.2222222222222222,\"#7201a8\"],[0.3333333333333333,\"#9c179e\"],[0.4444444444444444,\"#bd3786\"],[0.5555555555555556,\"#d8576b\"],[0.6666666666666666,\"#ed7953\"],[0.7777777777777778,\"#fb9f3a\"],[0.8888888888888888,\"#fdca26\"],[1.0,\"#f0f921\"]]}],\"contourcarpet\":[{\"type\":\"contourcarpet\",\"colorbar\":{\"outlinewidth\":0,\"ticks\":\"\"}}],\"contour\":[{\"type\":\"contour\",\"colorbar\":{\"outlinewidth\":0,\"ticks\":\"\"},\"colorscale\":[[0.0,\"#0d0887\"],[0.1111111111111111,\"#46039f\"],[0.2222222222222222,\"#7201a8\"],[0.3333333333333333,\"#9c179e\"],[0.4444444444444444,\"#bd3786\"],[0.5555555555555556,\"#d8576b\"],[0.6666666666666666,\"#ed7953\"],[0.7777777777777778,\"#fb9f3a\"],[0.8888888888888888,\"#fdca26\"],[1.0,\"#f0f921\"]]}],\"surface\":[{\"type\":\"surface\",\"colorbar\":{\"outlinewidth\":0,\"ticks\":\"\"},\"colorscale\":[[0.0,\"#0d0887\"],[0.1111111111111111,\"#46039f\"],[0.2222222222222222,\"#7201a8\"],[0.3333333333333333,\"#9c179e\"],[0.4444444444444444,\"#bd3786\"],[0.5555555555555556,\"#d8576b\"],[0.6666666666666666,\"#ed7953\"],[0.7777777777777778,\"#fb9f3a\"],[0.8888888888888888,\"#fdca26\"],[1.0,\"#f0f921\"]]}],\"mesh3d\":[{\"type\":\"mesh3d\",\"colorbar\":{\"outlinewidth\":0,\"ticks\":\"\"}}],\"scatter\":[{\"fillpattern\":{\"fillmode\":\"overlay\",\"size\":10,\"solidity\":0.2},\"type\":\"scatter\"}],\"parcoords\":[{\"type\":\"parcoords\",\"line\":{\"colorbar\":{\"outlinewidth\":0,\"ticks\":\"\"}}}],\"scatterpolargl\":[{\"type\":\"scatterpolargl\",\"marker\":{\"colorbar\":{\"outlinewidth\":0,\"ticks\":\"\"}}}],\"bar\":[{\"error_x\":{\"color\":\"#2a3f5f\"},\"error_y\":{\"color\":\"#2a3f5f\"},\"marker\":{\"line\":{\"color\":\"#E5ECF6\",\"width\":0.5},\"pattern\":{\"fillmode\":\"overlay\",\"size\":10,\"solidity\":0.2}},\"type\":\"bar\"}],\"scattergeo\":[{\"type\":\"scattergeo\",\"marker\":{\"colorbar\":{\"outlinewidth\":0,\"ticks\":\"\"}}}],\"scatterpolar\":[{\"type\":\"scatterpolar\",\"marker\":{\"colorbar\":{\"outlinewidth\":0,\"ticks\":\"\"}}}],\"histogram\":[{\"marker\":{\"pattern\":{\"fillmode\":\"overlay\",\"size\":10,\"solidity\":0.2}},\"type\":\"histogram\"}],\"scattergl\":[{\"type\":\"scattergl\",\"marker\":{\"colorbar\":{\"outlinewidth\":0,\"ticks\":\"\"}}}],\"scatter3d\":[{\"type\":\"scatter3d\",\"line\":{\"colorbar\":{\"outlinewidth\":0,\"ticks\":\"\"}},\"marker\":{\"colorbar\":{\"outlinewidth\":0,\"ticks\":\"\"}}}],\"scattermapbox\":[{\"type\":\"scattermapbox\",\"marker\":{\"colorbar\":{\"outlinewidth\":0,\"ticks\":\"\"}}}],\"scatterternary\":[{\"type\":\"scatterternary\",\"marker\":{\"colorbar\":{\"outlinewidth\":0,\"ticks\":\"\"}}}],\"scattercarpet\":[{\"type\":\"scattercarpet\",\"marker\":{\"colorbar\":{\"outlinewidth\":0,\"ticks\":\"\"}}}],\"carpet\":[{\"aaxis\":{\"endlinecolor\":\"#2a3f5f\",\"gridcolor\":\"white\",\"linecolor\":\"white\",\"minorgridcolor\":\"white\",\"startlinecolor\":\"#2a3f5f\"},\"baxis\":{\"endlinecolor\":\"#2a3f5f\",\"gridcolor\":\"white\",\"linecolor\":\"white\",\"minorgridcolor\":\"white\",\"startlinecolor\":\"#2a3f5f\"},\"type\":\"carpet\"}],\"table\":[{\"cells\":{\"fill\":{\"color\":\"#EBF0F8\"},\"line\":{\"color\":\"white\"}},\"header\":{\"fill\":{\"color\":\"#C8D4E3\"},\"line\":{\"color\":\"white\"}},\"type\":\"table\"}],\"barpolar\":[{\"marker\":{\"line\":{\"color\":\"#E5ECF6\",\"width\":0.5},\"pattern\":{\"fillmode\":\"overlay\",\"size\":10,\"solidity\":0.2}},\"type\":\"barpolar\"}],\"pie\":[{\"automargin\":true,\"type\":\"pie\"}]},\"layout\":{\"autotypenumbers\":\"strict\",\"colorway\":[\"#636efa\",\"#EF553B\",\"#00cc96\",\"#ab63fa\",\"#FFA15A\",\"#19d3f3\",\"#FF6692\",\"#B6E880\",\"#FF97FF\",\"#FECB52\"],\"font\":{\"color\":\"#2a3f5f\"},\"hovermode\":\"closest\",\"hoverlabel\":{\"align\":\"left\"},\"paper_bgcolor\":\"white\",\"plot_bgcolor\":\"#E5ECF6\",\"polar\":{\"bgcolor\":\"#E5ECF6\",\"angularaxis\":{\"gridcolor\":\"white\",\"linecolor\":\"white\",\"ticks\":\"\"},\"radialaxis\":{\"gridcolor\":\"white\",\"linecolor\":\"white\",\"ticks\":\"\"}},\"ternary\":{\"bgcolor\":\"#E5ECF6\",\"aaxis\":{\"gridcolor\":\"white\",\"linecolor\":\"white\",\"ticks\":\"\"},\"baxis\":{\"gridcolor\":\"white\",\"linecolor\":\"white\",\"ticks\":\"\"},\"caxis\":{\"gridcolor\":\"white\",\"linecolor\":\"white\",\"ticks\":\"\"}},\"coloraxis\":{\"colorbar\":{\"outlinewidth\":0,\"ticks\":\"\"}},\"colorscale\":{\"sequential\":[[0.0,\"#0d0887\"],[0.1111111111111111,\"#46039f\"],[0.2222222222222222,\"#7201a8\"],[0.3333333333333333,\"#9c179e\"],[0.4444444444444444,\"#bd3786\"],[0.5555555555555556,\"#d8576b\"],[0.6666666666666666,\"#ed7953\"],[0.7777777777777778,\"#fb9f3a\"],[0.8888888888888888,\"#fdca26\"],[1.0,\"#f0f921\"]],\"sequentialminus\":[[0.0,\"#0d0887\"],[0.1111111111111111,\"#46039f\"],[0.2222222222222222,\"#7201a8\"],[0.3333333333333333,\"#9c179e\"],[0.4444444444444444,\"#bd3786\"],[0.5555555555555556,\"#d8576b\"],[0.6666666666666666,\"#ed7953\"],[0.7777777777777778,\"#fb9f3a\"],[0.8888888888888888,\"#fdca26\"],[1.0,\"#f0f921\"]],\"diverging\":[[0,\"#8e0152\"],[0.1,\"#c51b7d\"],[0.2,\"#de77ae\"],[0.3,\"#f1b6da\"],[0.4,\"#fde0ef\"],[0.5,\"#f7f7f7\"],[0.6,\"#e6f5d0\"],[0.7,\"#b8e186\"],[0.8,\"#7fbc41\"],[0.9,\"#4d9221\"],[1,\"#276419\"]]},\"xaxis\":{\"gridcolor\":\"white\",\"linecolor\":\"white\",\"ticks\":\"\",\"title\":{\"standoff\":15},\"zerolinecolor\":\"white\",\"automargin\":true,\"zerolinewidth\":2},\"yaxis\":{\"gridcolor\":\"white\",\"linecolor\":\"white\",\"ticks\":\"\",\"title\":{\"standoff\":15},\"zerolinecolor\":\"white\",\"automargin\":true,\"zerolinewidth\":2},\"scene\":{\"xaxis\":{\"backgroundcolor\":\"#E5ECF6\",\"gridcolor\":\"white\",\"linecolor\":\"white\",\"showbackground\":true,\"ticks\":\"\",\"zerolinecolor\":\"white\",\"gridwidth\":2},\"yaxis\":{\"backgroundcolor\":\"#E5ECF6\",\"gridcolor\":\"white\",\"linecolor\":\"white\",\"showbackground\":true,\"ticks\":\"\",\"zerolinecolor\":\"white\",\"gridwidth\":2},\"zaxis\":{\"backgroundcolor\":\"#E5ECF6\",\"gridcolor\":\"white\",\"linecolor\":\"white\",\"showbackground\":true,\"ticks\":\"\",\"zerolinecolor\":\"white\",\"gridwidth\":2}},\"shapedefaults\":{\"line\":{\"color\":\"#2a3f5f\"}},\"annotationdefaults\":{\"arrowcolor\":\"#2a3f5f\",\"arrowhead\":0,\"arrowwidth\":1},\"geo\":{\"bgcolor\":\"white\",\"landcolor\":\"#E5ECF6\",\"subunitcolor\":\"white\",\"showland\":true,\"showlakes\":true,\"lakecolor\":\"white\"},\"title\":{\"x\":0.05},\"mapbox\":{\"style\":\"light\"}}}},                        {\"responsive\": true}                    ).then(function(){\n",
              "                            \n",
              "var gd = document.getElementById('0f340647-4fcb-40ce-8866-4f90cd802867');\n",
              "var x = new MutationObserver(function (mutations, observer) {{\n",
              "        var display = window.getComputedStyle(gd).display;\n",
              "        if (!display || display === 'none') {{\n",
              "            console.log([gd, 'removed!']);\n",
              "            Plotly.purge(gd);\n",
              "            observer.disconnect();\n",
              "        }}\n",
              "}});\n",
              "\n",
              "// Listen for the removal of the full notebook cells\n",
              "var notebookContainer = gd.closest('#notebook-container');\n",
              "if (notebookContainer) {{\n",
              "    x.observe(notebookContainer, {childList: true});\n",
              "}}\n",
              "\n",
              "// Listen for the clearing of the current output cell\n",
              "var outputEl = gd.closest('.output');\n",
              "if (outputEl) {{\n",
              "    x.observe(outputEl, {childList: true});\n",
              "}}\n",
              "\n",
              "                        })                };                            </script>        </div>\n",
              "</body>\n",
              "</html>"
            ]
          },
          "metadata": {},
          "output_type": "display_data"
        }
      ],
      "source": [
        "plot_param_importances(study)"
      ],
      "id": "BNsA2lkDGckO"
    },
    {
      "cell_type": "markdown",
      "metadata": {
        "id": "_9mpwKJIa92R"
      },
      "source": [
        "#### Pruning\n"
      ],
      "id": "_9mpwKJIa92R"
    },
    {
      "cell_type": "code",
      "execution_count": null,
      "metadata": {
        "colab": {
          "base_uri": "https://localhost:8080/"
        },
        "id": "95J1CD2BPOzw",
        "outputId": "75db490f-ead8-407b-b867-fcdc6a96c4fb"
      },
      "outputs": [
        {
          "name": "stderr",
          "output_type": "stream",
          "text": [
            "\u001b[32m[I 2023-04-30 17:06:57,583]\u001b[0m A new study created in memory with name: no-name-014ebdb7-7041-4ba1-ab83-36c24ea1919e\u001b[0m\n",
            "\u001b[32m[I 2023-04-30 17:07:59,997]\u001b[0m Trial 0 finished with value: 0.9921551201297145 and parameters: {'xgbc__max_depth': 8, 'xgbc__learning_rate': 0.17346769522296715}. Best is trial 0 with value: 0.9921551201297145.\u001b[0m\n",
            "\u001b[32m[I 2023-04-30 17:09:14,495]\u001b[0m Trial 1 finished with value: 0.9878770516698259 and parameters: {'xgbc__max_depth': 13, 'xgbc__learning_rate': 0.27146143865241784}. Best is trial 0 with value: 0.9921551201297145.\u001b[0m\n",
            "\u001b[32m[I 2023-04-30 17:10:52,832]\u001b[0m Trial 2 finished with value: 0.9876601255526006 and parameters: {'xgbc__max_depth': 27, 'xgbc__learning_rate': 0.15461108038286858}. Best is trial 0 with value: 0.9921551201297145.\u001b[0m\n",
            "\u001b[32m[I 2023-04-30 17:11:26,529]\u001b[0m Trial 3 finished with value: 0.984491606191928 and parameters: {'xgbc__max_depth': 24, 'xgbc__learning_rate': 0.49540110902711965}. Best is trial 0 with value: 0.9921551201297145.\u001b[0m\n",
            "\u001b[32m[I 2023-04-30 17:13:03,491]\u001b[0m Trial 4 finished with value: 0.9874842907218512 and parameters: {'xgbc__max_depth': 19, 'xgbc__learning_rate': 0.13377029960595463}. Best is trial 0 with value: 0.9921551201297145.\u001b[0m\n",
            "\u001b[32m[I 2023-04-30 17:13:09,075]\u001b[0m Trial 5 pruned. Trial was pruned at iteration 5.\u001b[0m\n",
            "\u001b[32m[I 2023-04-30 17:13:16,215]\u001b[0m Trial 6 pruned. Trial was pruned at iteration 5.\u001b[0m\n",
            "\u001b[32m[I 2023-04-30 17:13:18,843]\u001b[0m Trial 7 pruned. Trial was pruned at iteration 5.\u001b[0m\n",
            "\u001b[32m[I 2023-04-30 17:13:24,414]\u001b[0m Trial 8 pruned. Trial was pruned at iteration 5.\u001b[0m\n",
            "\u001b[32m[I 2023-04-30 17:14:20,181]\u001b[0m Trial 9 finished with value: 0.989851961977989 and parameters: {'xgbc__max_depth': 10, 'xgbc__learning_rate': 0.2540757445991562}. Best is trial 0 with value: 0.9921551201297145.\u001b[0m\n",
            "\u001b[32m[I 2023-04-30 17:14:21,469]\u001b[0m Trial 10 pruned. Trial was pruned at iteration 5.\u001b[0m\n",
            "\u001b[32m[I 2023-04-30 17:15:23,022]\u001b[0m Trial 11 finished with value: 0.990079557220566 and parameters: {'xgbc__max_depth': 11, 'xgbc__learning_rate': 0.2193249632396457}. Best is trial 0 with value: 0.9921551201297145.\u001b[0m\n",
            "\u001b[32m[I 2023-04-30 17:15:24,567]\u001b[0m Trial 12 pruned. Trial was pruned at iteration 5.\u001b[0m\n",
            "\u001b[32m[I 2023-04-30 17:15:30,275]\u001b[0m Trial 13 pruned. Trial was pruned at iteration 7.\u001b[0m\n",
            "\u001b[32m[I 2023-04-30 17:16:14,841]\u001b[0m Trial 14 finished with value: 0.9925450255339822 and parameters: {'xgbc__max_depth': 8, 'xgbc__learning_rate': 0.2099576960493812}. Best is trial 14 with value: 0.9925450255339822.\u001b[0m\n",
            "\u001b[32m[I 2023-04-30 17:16:52,584]\u001b[0m Trial 15 finished with value: 0.9913193395729957 and parameters: {'xgbc__max_depth': 7, 'xgbc__learning_rate': 0.35886388774742844}. Best is trial 14 with value: 0.9925450255339822.\u001b[0m\n",
            "\u001b[32m[I 2023-04-30 17:16:57,185]\u001b[0m Trial 16 pruned. Trial was pruned at iteration 5.\u001b[0m\n",
            "\u001b[32m[I 2023-04-30 17:16:59,532]\u001b[0m Trial 17 pruned. Trial was pruned at iteration 5.\u001b[0m\n",
            "\u001b[32m[I 2023-04-30 17:17:03,540]\u001b[0m Trial 18 pruned. Trial was pruned at iteration 5.\u001b[0m\n",
            "\u001b[32m[I 2023-04-30 17:17:08,329]\u001b[0m Trial 19 pruned. Trial was pruned at iteration 5.\u001b[0m\n",
            "\u001b[32m[I 2023-04-30 17:17:11,604]\u001b[0m Trial 20 pruned. Trial was pruned at iteration 5.\u001b[0m\n",
            "\u001b[32m[I 2023-04-30 17:17:15,206]\u001b[0m Trial 21 pruned. Trial was pruned at iteration 6.\u001b[0m\n",
            "\u001b[32m[I 2023-04-30 17:17:25,801]\u001b[0m Trial 22 pruned. Trial was pruned at iteration 22.\u001b[0m\n",
            "\u001b[32m[I 2023-04-30 17:17:32,029]\u001b[0m Trial 23 pruned. Trial was pruned at iteration 5.\u001b[0m\n",
            "\u001b[32m[I 2023-04-30 17:17:33,492]\u001b[0m Trial 24 pruned. Trial was pruned at iteration 5.\u001b[0m\n",
            "\u001b[32m[I 2023-04-30 17:18:04,414]\u001b[0m Trial 25 finished with value: 0.9921085773690314 and parameters: {'xgbc__max_depth': 6, 'xgbc__learning_rate': 0.29090827816333675}. Best is trial 14 with value: 0.9925450255339822.\u001b[0m\n",
            "\u001b[32m[I 2023-04-30 17:18:08,063]\u001b[0m Trial 26 pruned. Trial was pruned at iteration 5.\u001b[0m\n",
            "\u001b[32m[I 2023-04-30 17:18:11,984]\u001b[0m Trial 27 pruned. Trial was pruned at iteration 5.\u001b[0m\n",
            "\u001b[32m[I 2023-04-30 17:18:17,806]\u001b[0m Trial 28 pruned. Trial was pruned at iteration 5.\u001b[0m\n",
            "\u001b[32m[I 2023-04-30 17:19:01,610]\u001b[0m Trial 29 finished with value: 0.9910990041725555 and parameters: {'xgbc__max_depth': 8, 'xgbc__learning_rate': 0.27086012556582667}. Best is trial 14 with value: 0.9925450255339822.\u001b[0m\n"
          ]
        },
        {
          "name": "stdout",
          "output_type": "stream",
          "text": [
            "Number of finished trials: 30\n",
            "Best trial:\n",
            "  Value: 0.9925450255339822\n",
            "  Params: \n",
            "    xgbc__max_depth: 8\n",
            "    xgbc__learning_rate: 0.2099576960493812\n",
            "time 724.0830593109131\n"
          ]
        }
      ],
      "source": [
        "from pandas.core.common import random_state\n",
        "import optuna\n",
        "import time\n",
        "from sklearn import metrics\n",
        "from sklearn.model_selection import cross_val_score, KFold\n",
        "from sklearn.ensemble import ExtraTreesClassifier\n",
        "from sklearn.model_selection import StratifiedKFold\n",
        "inicio = time.time()\n",
        "rs=NIA\n",
        "cv_inner = StratifiedKFold(n_splits=3, random_state=rs, shuffle=True)\n",
        "np.random.seed(NIA)\n",
        "def objective(trial):\n",
        "    dtrain = xgb.DMatrix(X_train, label=y_train)\n",
        "\n",
        "    param = {\n",
        "        \"max_depth\" : trial.suggest_int(\"xgbc__max_depth\",3,30),\n",
        "        \"learning_rate\" : trial.suggest_float(\"xgbc__learning_rate\",0.01,0.5),\n",
        "        \"eval_metric\": \"auc\"\n",
        "    }\n",
        "\n",
        "    pruning_callback = optuna.integration.XGBoostPruningCallback(trial, \"test-auc\")\n",
        "    history = xgb.cv(param, dtrain, num_boost_round=100, callbacks=[pruning_callback])\n",
        "\n",
        "    mean_auc = history[\"test-auc-mean\"].values[-1]\n",
        "    return mean_auc\n",
        "\n",
        "\n",
        "if __name__ == \"__main__\":\n",
        "    pruner = optuna.pruners.MedianPruner(n_warmup_steps=5)\n",
        "    study = optuna.create_study(pruner=pruner, direction=\"maximize\")\n",
        "    study.optimize(objective, n_trials=30)\n",
        "\n",
        "    print(\"Number of finished trials: {}\".format(len(study.trials)))\n",
        "\n",
        "    print(\"Best trial:\")\n",
        "    trial = study.best_trial\n",
        "\n",
        "    print(\"  Value: {}\".format(trial.value))\n",
        "\n",
        "    print(\"  Params: \")\n",
        "    for key, value in trial.params.items():\n",
        "        print(\"    {}: {}\".format(key, value))\n",
        "fin=time.time()\n",
        "print('time',fin-inicio)\n",
        "timeopt5=fin-inicio"
      ],
      "id": "95J1CD2BPOzw"
    },
    {
      "cell_type": "code",
      "execution_count": null,
      "metadata": {
        "colab": {
          "base_uri": "https://localhost:8080/"
        },
        "id": "z7rMaSrCQtXY",
        "outputId": "681683a9-df24-4632-c50c-6cad37442188"
      },
      "outputs": [
        {
          "name": "stdout",
          "output_type": "stream",
          "text": [
            "time 725.438146352768\n",
            "  Number of finished trials:  30\n",
            "  Number of pruned trials:  19\n",
            "  Number of complete trials:  11\n"
          ]
        }
      ],
      "source": [
        "pruned_trials = [t for t in study.trials if t.state == optuna.trial.TrialState.PRUNED]\n",
        "complete_trials = [t for t in study.trials if t.state == optuna.trial.TrialState.COMPLETE]\n",
        "fin=time.time()\n",
        "print('time',fin-inicio)\n",
        "print(\"  Number of finished trials: \", len(study.trials))\n",
        "print(\"  Number of pruned trials: \", len(pruned_trials))\n",
        "print(\"  Number of complete trials: \", len(complete_trials))"
      ],
      "id": "z7rMaSrCQtXY"
    },
    {
      "cell_type": "code",
      "execution_count": null,
      "metadata": {
        "colab": {
          "base_uri": "https://localhost:8080/"
        },
        "id": "3ysD17-dQkLx",
        "outputId": "9600ad99-faf3-4ca9-d17b-a1b3c71b40ec"
      },
      "outputs": [
        {
          "name": "stdout",
          "output_type": "stream",
          "text": [
            "The best trial is : \n",
            "FrozenTrial(number=14, state=TrialState.COMPLETE, values=[0.9925450255339822], datetime_start=datetime.datetime(2023, 4, 30, 17, 15, 30, 281718), datetime_complete=datetime.datetime(2023, 4, 30, 17, 16, 14, 841014), params={'xgbc__max_depth': 8, 'xgbc__learning_rate': 0.2099576960493812}, user_attrs={}, system_attrs={}, intermediate_values={0: 0.9781020568336399, 1: 0.981346829792685, 2: 0.9847347953427935, 3: 0.9854030200674889, 4: 0.9865067699596696, 5: 0.9873012019196367, 6: 0.9877904870309777, 7: 0.9883430701214898, 8: 0.9888260779986314, 9: 0.9893869852384537, 10: 0.9898281370430362, 11: 0.989949559510626, 12: 0.9898356798065633, 13: 0.9901853946533098, 14: 0.9904375532624292, 15: 0.9906370201774911, 16: 0.9908045413487369, 17: 0.9911484523661044, 18: 0.9914061152780441, 19: 0.9914602815184691, 20: 0.9916034533001526, 21: 0.9917039582819392, 22: 0.9917866425752458, 23: 0.9918737599798213, 24: 0.9918256145019583, 25: 0.9918081049294569, 26: 0.992062548451279, 27: 0.9921142429653137, 28: 0.9921624602951331, 29: 0.9922335012852805, 30: 0.9922700469192387, 31: 0.9922990372916646, 32: 0.9923064080079032, 33: 0.9923587493703838, 34: 0.9923882362833641, 35: 0.9924175397953968, 36: 0.9924204394262314, 37: 0.9925437680990115, 38: 0.9925172011952778, 39: 0.992516524903149, 40: 0.992493061791134, 41: 0.9925062478312343, 42: 0.9925452257800974, 43: 0.9925402299348258, 44: 0.9925416383254538, 45: 0.9925894672007493, 46: 0.9925652374255766, 47: 0.9925882316316524, 48: 0.9925736705139827, 49: 0.9926071748053616, 50: 0.992605256721632, 51: 0.9926283296738069, 52: 0.9926506081947272, 53: 0.9926945354932825, 54: 0.9927053916941101, 55: 0.9926882258456065, 56: 0.9926939457234912, 57: 0.9926947774274256, 58: 0.9927259281605808, 59: 0.9927208775060857, 60: 0.9926954953916803, 61: 0.9927013138290035, 62: 0.9926940381708653, 63: 0.9925887706119813, 64: 0.9925872854681623, 65: 0.9925958129815423, 66: 0.9925993838698615, 67: 0.9926243753273823, 68: 0.9926080076772698, 69: 0.9925921976331905, 70: 0.9926069091857985, 71: 0.9925966430180306, 72: 0.9925408903666991, 73: 0.9925414827940625, 74: 0.992543363535602, 75: 0.9925377127664189, 76: 0.992543977861038, 77: 0.9925638259295386, 78: 0.9925787552962064, 79: 0.9926258199619701, 80: 0.9926545176973857, 81: 0.9926665053986338, 82: 0.9926627849076289, 83: 0.9926537453071108, 84: 0.992656789719037, 85: 0.9926630869721712, 86: 0.9925908862057472, 87: 0.9925898208017472, 88: 0.992591475452333, 89: 0.9925919769124217, 90: 0.9925961592967177, 91: 0.992586681909773, 92: 0.9925884342391279, 93: 0.9926001337517371, 94: 0.9925963220750987, 95: 0.9925859960676653, 96: 0.9925896202182187, 97: 0.9926020633420346, 98: 0.9925980705254641, 99: 0.9925450255339822}, distributions={'xgbc__max_depth': IntDistribution(high=30, log=False, low=3, step=1), 'xgbc__learning_rate': FloatDistribution(high=0.5, log=False, low=0.01, step=None)}, trial_id=14, value=None)\n",
            "The best value is : \n",
            "0.9925450255339822\n",
            "The best parameters are : \n",
            "{'xgbc__max_depth': 8, 'xgbc__learning_rate': 0.2099576960493812}\n",
            "Precision: 0.9925450255339822\n",
            "Best hyperparameters: {'xgbc__max_depth': 8, 'xgbc__learning_rate': 0.2099576960493812}\n"
          ]
        }
      ],
      "source": [
        "# Getting the best trial:\n",
        "print(f\"The best trial is : \\n{study.best_trial}\")\n",
        "# Getting the best score:\n",
        "print(f\"The best value is : \\n{study.best_value}\")\n",
        "# Getting the best parameters:\n",
        "print(f\"The best parameters are : \\n{study.best_params}\")\n",
        "trial = study.best_trial\n",
        "print('Precision: {}'.format(trial.value))\n",
        "print(\"Best hyperparameters: {}\".format(trial.params))"
      ],
      "id": "3ysD17-dQkLx"
    },
    {
      "cell_type": "code",
      "execution_count": null,
      "metadata": {
        "colab": {
          "base_uri": "https://localhost:8080/"
        },
        "id": "aKHCMK-VR3f0",
        "outputId": "5fb0ee3b-251b-451b-8fbb-cbeaf46c5583"
      },
      "outputs": [
        {
          "name": "stdout",
          "output_type": "stream",
          "text": [
            "Accuracy: 0.9631612283069346\n",
            "time 18.9885151386261\n"
          ]
        }
      ],
      "source": [
        "rs=NIA\n",
        "xgbc = xgb.XGBClassifier(random_state=rs)\n",
        "classif=Pipeline([('xgbc',xgbc)])\n",
        "classif.set_params(**study.best_params)\n",
        "(bacopt5, tiempo)=default_hp(classif, X_train, y_train, X_test, y_test)"
      ],
      "id": "aKHCMK-VR3f0"
    },
    {
      "cell_type": "code",
      "execution_count": null,
      "metadata": {
        "colab": {
          "base_uri": "https://localhost:8080/",
          "height": 562
        },
        "id": "-wPeXe5pGgNV",
        "outputId": "3569d0aa-6daa-4ea5-ab37-8880fae9a7b2"
      },
      "outputs": [
        {
          "data": {
            "text/html": [
              "<html>\n",
              "<head><meta charset=\"utf-8\" /></head>\n",
              "<body>\n",
              "    <div>            <script src=\"https://cdnjs.cloudflare.com/ajax/libs/mathjax/2.7.5/MathJax.js?config=TeX-AMS-MML_SVG\"></script><script type=\"text/javascript\">if (window.MathJax && window.MathJax.Hub && window.MathJax.Hub.Config) {window.MathJax.Hub.Config({SVG: {font: \"STIX-Web\"}});}</script>                <script type=\"text/javascript\">window.PlotlyConfig = {MathJaxConfig: 'local'};</script>\n",
              "        <script src=\"https://cdn.plot.ly/plotly-2.18.2.min.js\"></script>                <div id=\"48972997-2c7c-4e5d-91b6-7485de225cfa\" class=\"plotly-graph-div\" style=\"height:525px; width:100%;\"></div>            <script type=\"text/javascript\">                                    window.PLOTLYENV=window.PLOTLYENV || {};                                    if (document.getElementById(\"48972997-2c7c-4e5d-91b6-7485de225cfa\")) {                    Plotly.newPlot(                        \"48972997-2c7c-4e5d-91b6-7485de225cfa\",                        [{\"mode\":\"markers\",\"name\":\"Objective Value\",\"x\":[0,1,2,3,4,9,11,14,15,25,29],\"y\":[0.9921551201297145,0.9878770516698259,0.9876601255526006,0.984491606191928,0.9874842907218512,0.989851961977989,0.990079557220566,0.9925450255339822,0.9913193395729957,0.9921085773690314,0.9910990041725555],\"type\":\"scatter\"},{\"name\":\"Best Value\",\"x\":[0,1,2,3,4,9,11,14,15,25,29],\"y\":[0.9921551201297145,0.9921551201297145,0.9921551201297145,0.9921551201297145,0.9921551201297145,0.9921551201297145,0.9921551201297145,0.9925450255339822,0.9925450255339822,0.9925450255339822,0.9925450255339822],\"type\":\"scatter\"}],                        {\"title\":{\"text\":\"Optimization History Plot\"},\"xaxis\":{\"title\":{\"text\":\"Trial\"}},\"yaxis\":{\"title\":{\"text\":\"Objective Value\"}},\"template\":{\"data\":{\"histogram2dcontour\":[{\"type\":\"histogram2dcontour\",\"colorbar\":{\"outlinewidth\":0,\"ticks\":\"\"},\"colorscale\":[[0.0,\"#0d0887\"],[0.1111111111111111,\"#46039f\"],[0.2222222222222222,\"#7201a8\"],[0.3333333333333333,\"#9c179e\"],[0.4444444444444444,\"#bd3786\"],[0.5555555555555556,\"#d8576b\"],[0.6666666666666666,\"#ed7953\"],[0.7777777777777778,\"#fb9f3a\"],[0.8888888888888888,\"#fdca26\"],[1.0,\"#f0f921\"]]}],\"choropleth\":[{\"type\":\"choropleth\",\"colorbar\":{\"outlinewidth\":0,\"ticks\":\"\"}}],\"histogram2d\":[{\"type\":\"histogram2d\",\"colorbar\":{\"outlinewidth\":0,\"ticks\":\"\"},\"colorscale\":[[0.0,\"#0d0887\"],[0.1111111111111111,\"#46039f\"],[0.2222222222222222,\"#7201a8\"],[0.3333333333333333,\"#9c179e\"],[0.4444444444444444,\"#bd3786\"],[0.5555555555555556,\"#d8576b\"],[0.6666666666666666,\"#ed7953\"],[0.7777777777777778,\"#fb9f3a\"],[0.8888888888888888,\"#fdca26\"],[1.0,\"#f0f921\"]]}],\"heatmap\":[{\"type\":\"heatmap\",\"colorbar\":{\"outlinewidth\":0,\"ticks\":\"\"},\"colorscale\":[[0.0,\"#0d0887\"],[0.1111111111111111,\"#46039f\"],[0.2222222222222222,\"#7201a8\"],[0.3333333333333333,\"#9c179e\"],[0.4444444444444444,\"#bd3786\"],[0.5555555555555556,\"#d8576b\"],[0.6666666666666666,\"#ed7953\"],[0.7777777777777778,\"#fb9f3a\"],[0.8888888888888888,\"#fdca26\"],[1.0,\"#f0f921\"]]}],\"heatmapgl\":[{\"type\":\"heatmapgl\",\"colorbar\":{\"outlinewidth\":0,\"ticks\":\"\"},\"colorscale\":[[0.0,\"#0d0887\"],[0.1111111111111111,\"#46039f\"],[0.2222222222222222,\"#7201a8\"],[0.3333333333333333,\"#9c179e\"],[0.4444444444444444,\"#bd3786\"],[0.5555555555555556,\"#d8576b\"],[0.6666666666666666,\"#ed7953\"],[0.7777777777777778,\"#fb9f3a\"],[0.8888888888888888,\"#fdca26\"],[1.0,\"#f0f921\"]]}],\"contourcarpet\":[{\"type\":\"contourcarpet\",\"colorbar\":{\"outlinewidth\":0,\"ticks\":\"\"}}],\"contour\":[{\"type\":\"contour\",\"colorbar\":{\"outlinewidth\":0,\"ticks\":\"\"},\"colorscale\":[[0.0,\"#0d0887\"],[0.1111111111111111,\"#46039f\"],[0.2222222222222222,\"#7201a8\"],[0.3333333333333333,\"#9c179e\"],[0.4444444444444444,\"#bd3786\"],[0.5555555555555556,\"#d8576b\"],[0.6666666666666666,\"#ed7953\"],[0.7777777777777778,\"#fb9f3a\"],[0.8888888888888888,\"#fdca26\"],[1.0,\"#f0f921\"]]}],\"surface\":[{\"type\":\"surface\",\"colorbar\":{\"outlinewidth\":0,\"ticks\":\"\"},\"colorscale\":[[0.0,\"#0d0887\"],[0.1111111111111111,\"#46039f\"],[0.2222222222222222,\"#7201a8\"],[0.3333333333333333,\"#9c179e\"],[0.4444444444444444,\"#bd3786\"],[0.5555555555555556,\"#d8576b\"],[0.6666666666666666,\"#ed7953\"],[0.7777777777777778,\"#fb9f3a\"],[0.8888888888888888,\"#fdca26\"],[1.0,\"#f0f921\"]]}],\"mesh3d\":[{\"type\":\"mesh3d\",\"colorbar\":{\"outlinewidth\":0,\"ticks\":\"\"}}],\"scatter\":[{\"fillpattern\":{\"fillmode\":\"overlay\",\"size\":10,\"solidity\":0.2},\"type\":\"scatter\"}],\"parcoords\":[{\"type\":\"parcoords\",\"line\":{\"colorbar\":{\"outlinewidth\":0,\"ticks\":\"\"}}}],\"scatterpolargl\":[{\"type\":\"scatterpolargl\",\"marker\":{\"colorbar\":{\"outlinewidth\":0,\"ticks\":\"\"}}}],\"bar\":[{\"error_x\":{\"color\":\"#2a3f5f\"},\"error_y\":{\"color\":\"#2a3f5f\"},\"marker\":{\"line\":{\"color\":\"#E5ECF6\",\"width\":0.5},\"pattern\":{\"fillmode\":\"overlay\",\"size\":10,\"solidity\":0.2}},\"type\":\"bar\"}],\"scattergeo\":[{\"type\":\"scattergeo\",\"marker\":{\"colorbar\":{\"outlinewidth\":0,\"ticks\":\"\"}}}],\"scatterpolar\":[{\"type\":\"scatterpolar\",\"marker\":{\"colorbar\":{\"outlinewidth\":0,\"ticks\":\"\"}}}],\"histogram\":[{\"marker\":{\"pattern\":{\"fillmode\":\"overlay\",\"size\":10,\"solidity\":0.2}},\"type\":\"histogram\"}],\"scattergl\":[{\"type\":\"scattergl\",\"marker\":{\"colorbar\":{\"outlinewidth\":0,\"ticks\":\"\"}}}],\"scatter3d\":[{\"type\":\"scatter3d\",\"line\":{\"colorbar\":{\"outlinewidth\":0,\"ticks\":\"\"}},\"marker\":{\"colorbar\":{\"outlinewidth\":0,\"ticks\":\"\"}}}],\"scattermapbox\":[{\"type\":\"scattermapbox\",\"marker\":{\"colorbar\":{\"outlinewidth\":0,\"ticks\":\"\"}}}],\"scatterternary\":[{\"type\":\"scatterternary\",\"marker\":{\"colorbar\":{\"outlinewidth\":0,\"ticks\":\"\"}}}],\"scattercarpet\":[{\"type\":\"scattercarpet\",\"marker\":{\"colorbar\":{\"outlinewidth\":0,\"ticks\":\"\"}}}],\"carpet\":[{\"aaxis\":{\"endlinecolor\":\"#2a3f5f\",\"gridcolor\":\"white\",\"linecolor\":\"white\",\"minorgridcolor\":\"white\",\"startlinecolor\":\"#2a3f5f\"},\"baxis\":{\"endlinecolor\":\"#2a3f5f\",\"gridcolor\":\"white\",\"linecolor\":\"white\",\"minorgridcolor\":\"white\",\"startlinecolor\":\"#2a3f5f\"},\"type\":\"carpet\"}],\"table\":[{\"cells\":{\"fill\":{\"color\":\"#EBF0F8\"},\"line\":{\"color\":\"white\"}},\"header\":{\"fill\":{\"color\":\"#C8D4E3\"},\"line\":{\"color\":\"white\"}},\"type\":\"table\"}],\"barpolar\":[{\"marker\":{\"line\":{\"color\":\"#E5ECF6\",\"width\":0.5},\"pattern\":{\"fillmode\":\"overlay\",\"size\":10,\"solidity\":0.2}},\"type\":\"barpolar\"}],\"pie\":[{\"automargin\":true,\"type\":\"pie\"}]},\"layout\":{\"autotypenumbers\":\"strict\",\"colorway\":[\"#636efa\",\"#EF553B\",\"#00cc96\",\"#ab63fa\",\"#FFA15A\",\"#19d3f3\",\"#FF6692\",\"#B6E880\",\"#FF97FF\",\"#FECB52\"],\"font\":{\"color\":\"#2a3f5f\"},\"hovermode\":\"closest\",\"hoverlabel\":{\"align\":\"left\"},\"paper_bgcolor\":\"white\",\"plot_bgcolor\":\"#E5ECF6\",\"polar\":{\"bgcolor\":\"#E5ECF6\",\"angularaxis\":{\"gridcolor\":\"white\",\"linecolor\":\"white\",\"ticks\":\"\"},\"radialaxis\":{\"gridcolor\":\"white\",\"linecolor\":\"white\",\"ticks\":\"\"}},\"ternary\":{\"bgcolor\":\"#E5ECF6\",\"aaxis\":{\"gridcolor\":\"white\",\"linecolor\":\"white\",\"ticks\":\"\"},\"baxis\":{\"gridcolor\":\"white\",\"linecolor\":\"white\",\"ticks\":\"\"},\"caxis\":{\"gridcolor\":\"white\",\"linecolor\":\"white\",\"ticks\":\"\"}},\"coloraxis\":{\"colorbar\":{\"outlinewidth\":0,\"ticks\":\"\"}},\"colorscale\":{\"sequential\":[[0.0,\"#0d0887\"],[0.1111111111111111,\"#46039f\"],[0.2222222222222222,\"#7201a8\"],[0.3333333333333333,\"#9c179e\"],[0.4444444444444444,\"#bd3786\"],[0.5555555555555556,\"#d8576b\"],[0.6666666666666666,\"#ed7953\"],[0.7777777777777778,\"#fb9f3a\"],[0.8888888888888888,\"#fdca26\"],[1.0,\"#f0f921\"]],\"sequentialminus\":[[0.0,\"#0d0887\"],[0.1111111111111111,\"#46039f\"],[0.2222222222222222,\"#7201a8\"],[0.3333333333333333,\"#9c179e\"],[0.4444444444444444,\"#bd3786\"],[0.5555555555555556,\"#d8576b\"],[0.6666666666666666,\"#ed7953\"],[0.7777777777777778,\"#fb9f3a\"],[0.8888888888888888,\"#fdca26\"],[1.0,\"#f0f921\"]],\"diverging\":[[0,\"#8e0152\"],[0.1,\"#c51b7d\"],[0.2,\"#de77ae\"],[0.3,\"#f1b6da\"],[0.4,\"#fde0ef\"],[0.5,\"#f7f7f7\"],[0.6,\"#e6f5d0\"],[0.7,\"#b8e186\"],[0.8,\"#7fbc41\"],[0.9,\"#4d9221\"],[1,\"#276419\"]]},\"xaxis\":{\"gridcolor\":\"white\",\"linecolor\":\"white\",\"ticks\":\"\",\"title\":{\"standoff\":15},\"zerolinecolor\":\"white\",\"automargin\":true,\"zerolinewidth\":2},\"yaxis\":{\"gridcolor\":\"white\",\"linecolor\":\"white\",\"ticks\":\"\",\"title\":{\"standoff\":15},\"zerolinecolor\":\"white\",\"automargin\":true,\"zerolinewidth\":2},\"scene\":{\"xaxis\":{\"backgroundcolor\":\"#E5ECF6\",\"gridcolor\":\"white\",\"linecolor\":\"white\",\"showbackground\":true,\"ticks\":\"\",\"zerolinecolor\":\"white\",\"gridwidth\":2},\"yaxis\":{\"backgroundcolor\":\"#E5ECF6\",\"gridcolor\":\"white\",\"linecolor\":\"white\",\"showbackground\":true,\"ticks\":\"\",\"zerolinecolor\":\"white\",\"gridwidth\":2},\"zaxis\":{\"backgroundcolor\":\"#E5ECF6\",\"gridcolor\":\"white\",\"linecolor\":\"white\",\"showbackground\":true,\"ticks\":\"\",\"zerolinecolor\":\"white\",\"gridwidth\":2}},\"shapedefaults\":{\"line\":{\"color\":\"#2a3f5f\"}},\"annotationdefaults\":{\"arrowcolor\":\"#2a3f5f\",\"arrowhead\":0,\"arrowwidth\":1},\"geo\":{\"bgcolor\":\"white\",\"landcolor\":\"#E5ECF6\",\"subunitcolor\":\"white\",\"showland\":true,\"showlakes\":true,\"lakecolor\":\"white\"},\"title\":{\"x\":0.05},\"mapbox\":{\"style\":\"light\"}}}},                        {\"responsive\": true}                    ).then(function(){\n",
              "                            \n",
              "var gd = document.getElementById('48972997-2c7c-4e5d-91b6-7485de225cfa');\n",
              "var x = new MutationObserver(function (mutations, observer) {{\n",
              "        var display = window.getComputedStyle(gd).display;\n",
              "        if (!display || display === 'none') {{\n",
              "            console.log([gd, 'removed!']);\n",
              "            Plotly.purge(gd);\n",
              "            observer.disconnect();\n",
              "        }}\n",
              "}});\n",
              "\n",
              "// Listen for the removal of the full notebook cells\n",
              "var notebookContainer = gd.closest('#notebook-container');\n",
              "if (notebookContainer) {{\n",
              "    x.observe(notebookContainer, {childList: true});\n",
              "}}\n",
              "\n",
              "// Listen for the clearing of the current output cell\n",
              "var outputEl = gd.closest('.output');\n",
              "if (outputEl) {{\n",
              "    x.observe(outputEl, {childList: true});\n",
              "}}\n",
              "\n",
              "                        })                };                            </script>        </div>\n",
              "</body>\n",
              "</html>"
            ]
          },
          "metadata": {},
          "output_type": "display_data"
        }
      ],
      "source": [
        "optuna.visualization.plot_optimization_history(study).show()"
      ],
      "id": "-wPeXe5pGgNV"
    },
    {
      "cell_type": "code",
      "execution_count": null,
      "metadata": {
        "colab": {
          "base_uri": "https://localhost:8080/",
          "height": 562
        },
        "id": "N8wcJn3lGga-",
        "outputId": "f40b6739-841f-465b-9bcb-05a93f34627a"
      },
      "outputs": [
        {
          "data": {
            "text/html": [
              "<html>\n",
              "<head><meta charset=\"utf-8\" /></head>\n",
              "<body>\n",
              "    <div>            <script src=\"https://cdnjs.cloudflare.com/ajax/libs/mathjax/2.7.5/MathJax.js?config=TeX-AMS-MML_SVG\"></script><script type=\"text/javascript\">if (window.MathJax && window.MathJax.Hub && window.MathJax.Hub.Config) {window.MathJax.Hub.Config({SVG: {font: \"STIX-Web\"}});}</script>                <script type=\"text/javascript\">window.PlotlyConfig = {MathJaxConfig: 'local'};</script>\n",
              "        <script src=\"https://cdn.plot.ly/plotly-2.18.2.min.js\"></script>                <div id=\"de57ef5f-cdee-4b87-83b8-38503c76aa33\" class=\"plotly-graph-div\" style=\"height:525px; width:100%;\"></div>            <script type=\"text/javascript\">                                    window.PLOTLYENV=window.PLOTLYENV || {};                                    if (document.getElementById(\"de57ef5f-cdee-4b87-83b8-38503c76aa33\")) {                    Plotly.newPlot(                        \"de57ef5f-cdee-4b87-83b8-38503c76aa33\",                        [{\"dimensions\":[{\"label\":\"Objective Value\",\"range\":[0.984491606191928,0.9925450255339822],\"values\":[0.9921551201297145,0.9878770516698259,0.9876601255526006,0.984491606191928,0.9874842907218512,0.989851961977989,0.990079557220566,0.9925450255339822,0.9913193395729957,0.9921085773690314,0.9910990041725555]},{\"label\":\"xgbc__learning_rate\",\"range\":[0.13377029960595463,0.49540110902711965],\"values\":[0.17346769522296715,0.27146143865241784,0.15461108038286858,0.49540110902711965,0.13377029960595463,0.2540757445991562,0.2193249632396457,0.2099576960493812,0.35886388774742844,0.29090827816333675,0.27086012556582667]},{\"label\":\"xgbc__max_depth\",\"range\":[6,27],\"values\":[8,13,27,24,19,10,11,8,7,6,8]}],\"labelangle\":30,\"labelside\":\"bottom\",\"line\":{\"color\":[0.9921551201297145,0.9878770516698259,0.9876601255526006,0.984491606191928,0.9874842907218512,0.989851961977989,0.990079557220566,0.9925450255339822,0.9913193395729957,0.9921085773690314,0.9910990041725555],\"colorbar\":{\"title\":{\"text\":\"Objective Value\"}},\"colorscale\":[[0.0,\"rgb(247,251,255)\"],[0.125,\"rgb(222,235,247)\"],[0.25,\"rgb(198,219,239)\"],[0.375,\"rgb(158,202,225)\"],[0.5,\"rgb(107,174,214)\"],[0.625,\"rgb(66,146,198)\"],[0.75,\"rgb(33,113,181)\"],[0.875,\"rgb(8,81,156)\"],[1.0,\"rgb(8,48,107)\"]],\"reversescale\":false,\"showscale\":true},\"type\":\"parcoords\"}],                        {\"title\":{\"text\":\"Parallel Coordinate Plot\"},\"template\":{\"data\":{\"histogram2dcontour\":[{\"type\":\"histogram2dcontour\",\"colorbar\":{\"outlinewidth\":0,\"ticks\":\"\"},\"colorscale\":[[0.0,\"#0d0887\"],[0.1111111111111111,\"#46039f\"],[0.2222222222222222,\"#7201a8\"],[0.3333333333333333,\"#9c179e\"],[0.4444444444444444,\"#bd3786\"],[0.5555555555555556,\"#d8576b\"],[0.6666666666666666,\"#ed7953\"],[0.7777777777777778,\"#fb9f3a\"],[0.8888888888888888,\"#fdca26\"],[1.0,\"#f0f921\"]]}],\"choropleth\":[{\"type\":\"choropleth\",\"colorbar\":{\"outlinewidth\":0,\"ticks\":\"\"}}],\"histogram2d\":[{\"type\":\"histogram2d\",\"colorbar\":{\"outlinewidth\":0,\"ticks\":\"\"},\"colorscale\":[[0.0,\"#0d0887\"],[0.1111111111111111,\"#46039f\"],[0.2222222222222222,\"#7201a8\"],[0.3333333333333333,\"#9c179e\"],[0.4444444444444444,\"#bd3786\"],[0.5555555555555556,\"#d8576b\"],[0.6666666666666666,\"#ed7953\"],[0.7777777777777778,\"#fb9f3a\"],[0.8888888888888888,\"#fdca26\"],[1.0,\"#f0f921\"]]}],\"heatmap\":[{\"type\":\"heatmap\",\"colorbar\":{\"outlinewidth\":0,\"ticks\":\"\"},\"colorscale\":[[0.0,\"#0d0887\"],[0.1111111111111111,\"#46039f\"],[0.2222222222222222,\"#7201a8\"],[0.3333333333333333,\"#9c179e\"],[0.4444444444444444,\"#bd3786\"],[0.5555555555555556,\"#d8576b\"],[0.6666666666666666,\"#ed7953\"],[0.7777777777777778,\"#fb9f3a\"],[0.8888888888888888,\"#fdca26\"],[1.0,\"#f0f921\"]]}],\"heatmapgl\":[{\"type\":\"heatmapgl\",\"colorbar\":{\"outlinewidth\":0,\"ticks\":\"\"},\"colorscale\":[[0.0,\"#0d0887\"],[0.1111111111111111,\"#46039f\"],[0.2222222222222222,\"#7201a8\"],[0.3333333333333333,\"#9c179e\"],[0.4444444444444444,\"#bd3786\"],[0.5555555555555556,\"#d8576b\"],[0.6666666666666666,\"#ed7953\"],[0.7777777777777778,\"#fb9f3a\"],[0.8888888888888888,\"#fdca26\"],[1.0,\"#f0f921\"]]}],\"contourcarpet\":[{\"type\":\"contourcarpet\",\"colorbar\":{\"outlinewidth\":0,\"ticks\":\"\"}}],\"contour\":[{\"type\":\"contour\",\"colorbar\":{\"outlinewidth\":0,\"ticks\":\"\"},\"colorscale\":[[0.0,\"#0d0887\"],[0.1111111111111111,\"#46039f\"],[0.2222222222222222,\"#7201a8\"],[0.3333333333333333,\"#9c179e\"],[0.4444444444444444,\"#bd3786\"],[0.5555555555555556,\"#d8576b\"],[0.6666666666666666,\"#ed7953\"],[0.7777777777777778,\"#fb9f3a\"],[0.8888888888888888,\"#fdca26\"],[1.0,\"#f0f921\"]]}],\"surface\":[{\"type\":\"surface\",\"colorbar\":{\"outlinewidth\":0,\"ticks\":\"\"},\"colorscale\":[[0.0,\"#0d0887\"],[0.1111111111111111,\"#46039f\"],[0.2222222222222222,\"#7201a8\"],[0.3333333333333333,\"#9c179e\"],[0.4444444444444444,\"#bd3786\"],[0.5555555555555556,\"#d8576b\"],[0.6666666666666666,\"#ed7953\"],[0.7777777777777778,\"#fb9f3a\"],[0.8888888888888888,\"#fdca26\"],[1.0,\"#f0f921\"]]}],\"mesh3d\":[{\"type\":\"mesh3d\",\"colorbar\":{\"outlinewidth\":0,\"ticks\":\"\"}}],\"scatter\":[{\"fillpattern\":{\"fillmode\":\"overlay\",\"size\":10,\"solidity\":0.2},\"type\":\"scatter\"}],\"parcoords\":[{\"type\":\"parcoords\",\"line\":{\"colorbar\":{\"outlinewidth\":0,\"ticks\":\"\"}}}],\"scatterpolargl\":[{\"type\":\"scatterpolargl\",\"marker\":{\"colorbar\":{\"outlinewidth\":0,\"ticks\":\"\"}}}],\"bar\":[{\"error_x\":{\"color\":\"#2a3f5f\"},\"error_y\":{\"color\":\"#2a3f5f\"},\"marker\":{\"line\":{\"color\":\"#E5ECF6\",\"width\":0.5},\"pattern\":{\"fillmode\":\"overlay\",\"size\":10,\"solidity\":0.2}},\"type\":\"bar\"}],\"scattergeo\":[{\"type\":\"scattergeo\",\"marker\":{\"colorbar\":{\"outlinewidth\":0,\"ticks\":\"\"}}}],\"scatterpolar\":[{\"type\":\"scatterpolar\",\"marker\":{\"colorbar\":{\"outlinewidth\":0,\"ticks\":\"\"}}}],\"histogram\":[{\"marker\":{\"pattern\":{\"fillmode\":\"overlay\",\"size\":10,\"solidity\":0.2}},\"type\":\"histogram\"}],\"scattergl\":[{\"type\":\"scattergl\",\"marker\":{\"colorbar\":{\"outlinewidth\":0,\"ticks\":\"\"}}}],\"scatter3d\":[{\"type\":\"scatter3d\",\"line\":{\"colorbar\":{\"outlinewidth\":0,\"ticks\":\"\"}},\"marker\":{\"colorbar\":{\"outlinewidth\":0,\"ticks\":\"\"}}}],\"scattermapbox\":[{\"type\":\"scattermapbox\",\"marker\":{\"colorbar\":{\"outlinewidth\":0,\"ticks\":\"\"}}}],\"scatterternary\":[{\"type\":\"scatterternary\",\"marker\":{\"colorbar\":{\"outlinewidth\":0,\"ticks\":\"\"}}}],\"scattercarpet\":[{\"type\":\"scattercarpet\",\"marker\":{\"colorbar\":{\"outlinewidth\":0,\"ticks\":\"\"}}}],\"carpet\":[{\"aaxis\":{\"endlinecolor\":\"#2a3f5f\",\"gridcolor\":\"white\",\"linecolor\":\"white\",\"minorgridcolor\":\"white\",\"startlinecolor\":\"#2a3f5f\"},\"baxis\":{\"endlinecolor\":\"#2a3f5f\",\"gridcolor\":\"white\",\"linecolor\":\"white\",\"minorgridcolor\":\"white\",\"startlinecolor\":\"#2a3f5f\"},\"type\":\"carpet\"}],\"table\":[{\"cells\":{\"fill\":{\"color\":\"#EBF0F8\"},\"line\":{\"color\":\"white\"}},\"header\":{\"fill\":{\"color\":\"#C8D4E3\"},\"line\":{\"color\":\"white\"}},\"type\":\"table\"}],\"barpolar\":[{\"marker\":{\"line\":{\"color\":\"#E5ECF6\",\"width\":0.5},\"pattern\":{\"fillmode\":\"overlay\",\"size\":10,\"solidity\":0.2}},\"type\":\"barpolar\"}],\"pie\":[{\"automargin\":true,\"type\":\"pie\"}]},\"layout\":{\"autotypenumbers\":\"strict\",\"colorway\":[\"#636efa\",\"#EF553B\",\"#00cc96\",\"#ab63fa\",\"#FFA15A\",\"#19d3f3\",\"#FF6692\",\"#B6E880\",\"#FF97FF\",\"#FECB52\"],\"font\":{\"color\":\"#2a3f5f\"},\"hovermode\":\"closest\",\"hoverlabel\":{\"align\":\"left\"},\"paper_bgcolor\":\"white\",\"plot_bgcolor\":\"#E5ECF6\",\"polar\":{\"bgcolor\":\"#E5ECF6\",\"angularaxis\":{\"gridcolor\":\"white\",\"linecolor\":\"white\",\"ticks\":\"\"},\"radialaxis\":{\"gridcolor\":\"white\",\"linecolor\":\"white\",\"ticks\":\"\"}},\"ternary\":{\"bgcolor\":\"#E5ECF6\",\"aaxis\":{\"gridcolor\":\"white\",\"linecolor\":\"white\",\"ticks\":\"\"},\"baxis\":{\"gridcolor\":\"white\",\"linecolor\":\"white\",\"ticks\":\"\"},\"caxis\":{\"gridcolor\":\"white\",\"linecolor\":\"white\",\"ticks\":\"\"}},\"coloraxis\":{\"colorbar\":{\"outlinewidth\":0,\"ticks\":\"\"}},\"colorscale\":{\"sequential\":[[0.0,\"#0d0887\"],[0.1111111111111111,\"#46039f\"],[0.2222222222222222,\"#7201a8\"],[0.3333333333333333,\"#9c179e\"],[0.4444444444444444,\"#bd3786\"],[0.5555555555555556,\"#d8576b\"],[0.6666666666666666,\"#ed7953\"],[0.7777777777777778,\"#fb9f3a\"],[0.8888888888888888,\"#fdca26\"],[1.0,\"#f0f921\"]],\"sequentialminus\":[[0.0,\"#0d0887\"],[0.1111111111111111,\"#46039f\"],[0.2222222222222222,\"#7201a8\"],[0.3333333333333333,\"#9c179e\"],[0.4444444444444444,\"#bd3786\"],[0.5555555555555556,\"#d8576b\"],[0.6666666666666666,\"#ed7953\"],[0.7777777777777778,\"#fb9f3a\"],[0.8888888888888888,\"#fdca26\"],[1.0,\"#f0f921\"]],\"diverging\":[[0,\"#8e0152\"],[0.1,\"#c51b7d\"],[0.2,\"#de77ae\"],[0.3,\"#f1b6da\"],[0.4,\"#fde0ef\"],[0.5,\"#f7f7f7\"],[0.6,\"#e6f5d0\"],[0.7,\"#b8e186\"],[0.8,\"#7fbc41\"],[0.9,\"#4d9221\"],[1,\"#276419\"]]},\"xaxis\":{\"gridcolor\":\"white\",\"linecolor\":\"white\",\"ticks\":\"\",\"title\":{\"standoff\":15},\"zerolinecolor\":\"white\",\"automargin\":true,\"zerolinewidth\":2},\"yaxis\":{\"gridcolor\":\"white\",\"linecolor\":\"white\",\"ticks\":\"\",\"title\":{\"standoff\":15},\"zerolinecolor\":\"white\",\"automargin\":true,\"zerolinewidth\":2},\"scene\":{\"xaxis\":{\"backgroundcolor\":\"#E5ECF6\",\"gridcolor\":\"white\",\"linecolor\":\"white\",\"showbackground\":true,\"ticks\":\"\",\"zerolinecolor\":\"white\",\"gridwidth\":2},\"yaxis\":{\"backgroundcolor\":\"#E5ECF6\",\"gridcolor\":\"white\",\"linecolor\":\"white\",\"showbackground\":true,\"ticks\":\"\",\"zerolinecolor\":\"white\",\"gridwidth\":2},\"zaxis\":{\"backgroundcolor\":\"#E5ECF6\",\"gridcolor\":\"white\",\"linecolor\":\"white\",\"showbackground\":true,\"ticks\":\"\",\"zerolinecolor\":\"white\",\"gridwidth\":2}},\"shapedefaults\":{\"line\":{\"color\":\"#2a3f5f\"}},\"annotationdefaults\":{\"arrowcolor\":\"#2a3f5f\",\"arrowhead\":0,\"arrowwidth\":1},\"geo\":{\"bgcolor\":\"white\",\"landcolor\":\"#E5ECF6\",\"subunitcolor\":\"white\",\"showland\":true,\"showlakes\":true,\"lakecolor\":\"white\"},\"title\":{\"x\":0.05},\"mapbox\":{\"style\":\"light\"}}}},                        {\"responsive\": true}                    ).then(function(){\n",
              "                            \n",
              "var gd = document.getElementById('de57ef5f-cdee-4b87-83b8-38503c76aa33');\n",
              "var x = new MutationObserver(function (mutations, observer) {{\n",
              "        var display = window.getComputedStyle(gd).display;\n",
              "        if (!display || display === 'none') {{\n",
              "            console.log([gd, 'removed!']);\n",
              "            Plotly.purge(gd);\n",
              "            observer.disconnect();\n",
              "        }}\n",
              "}});\n",
              "\n",
              "// Listen for the removal of the full notebook cells\n",
              "var notebookContainer = gd.closest('#notebook-container');\n",
              "if (notebookContainer) {{\n",
              "    x.observe(notebookContainer, {childList: true});\n",
              "}}\n",
              "\n",
              "// Listen for the clearing of the current output cell\n",
              "var outputEl = gd.closest('.output');\n",
              "if (outputEl) {{\n",
              "    x.observe(outputEl, {childList: true});\n",
              "}}\n",
              "\n",
              "                        })                };                            </script>        </div>\n",
              "</body>\n",
              "</html>"
            ]
          },
          "metadata": {},
          "output_type": "display_data"
        }
      ],
      "source": [
        "plot_parallel_coordinate(study)"
      ],
      "id": "N8wcJn3lGga-"
    },
    {
      "cell_type": "code",
      "execution_count": null,
      "metadata": {
        "colab": {
          "base_uri": "https://localhost:8080/",
          "height": 562
        },
        "id": "mvg49c3VGgxP",
        "outputId": "99ae296f-74d5-46e1-9d3c-ea68c57966de"
      },
      "outputs": [
        {
          "data": {
            "text/html": [
              "<html>\n",
              "<head><meta charset=\"utf-8\" /></head>\n",
              "<body>\n",
              "    <div>            <script src=\"https://cdnjs.cloudflare.com/ajax/libs/mathjax/2.7.5/MathJax.js?config=TeX-AMS-MML_SVG\"></script><script type=\"text/javascript\">if (window.MathJax && window.MathJax.Hub && window.MathJax.Hub.Config) {window.MathJax.Hub.Config({SVG: {font: \"STIX-Web\"}});}</script>                <script type=\"text/javascript\">window.PlotlyConfig = {MathJaxConfig: 'local'};</script>\n",
              "        <script src=\"https://cdn.plot.ly/plotly-2.18.2.min.js\"></script>                <div id=\"51857298-a61c-498c-8bc3-f416edf5b5d9\" class=\"plotly-graph-div\" style=\"height:525px; width:100%;\"></div>            <script type=\"text/javascript\">                                    window.PLOTLYENV=window.PLOTLYENV || {};                                    if (document.getElementById(\"51857298-a61c-498c-8bc3-f416edf5b5d9\")) {                    Plotly.newPlot(                        \"51857298-a61c-498c-8bc3-f416edf5b5d9\",                        [{\"cliponaxis\":false,\"hovertemplate\":[\"xgbc__learning_rate (FloatDistribution): 0.11404798692932293<extra></extra>\",\"xgbc__max_depth (IntDistribution): 0.8859520130706771<extra></extra>\"],\"marker\":{\"color\":\"rgb(66,146,198)\"},\"orientation\":\"h\",\"text\":[\"0.11\",\"0.89\"],\"textposition\":\"outside\",\"x\":[0.11404798692932293,0.8859520130706771],\"y\":[\"xgbc__learning_rate\",\"xgbc__max_depth\"],\"type\":\"bar\"}],                        {\"showlegend\":false,\"title\":{\"text\":\"Hyperparameter Importances\"},\"xaxis\":{\"title\":{\"text\":\"Importance for Objective Value\"}},\"yaxis\":{\"title\":{\"text\":\"Hyperparameter\"}},\"template\":{\"data\":{\"histogram2dcontour\":[{\"type\":\"histogram2dcontour\",\"colorbar\":{\"outlinewidth\":0,\"ticks\":\"\"},\"colorscale\":[[0.0,\"#0d0887\"],[0.1111111111111111,\"#46039f\"],[0.2222222222222222,\"#7201a8\"],[0.3333333333333333,\"#9c179e\"],[0.4444444444444444,\"#bd3786\"],[0.5555555555555556,\"#d8576b\"],[0.6666666666666666,\"#ed7953\"],[0.7777777777777778,\"#fb9f3a\"],[0.8888888888888888,\"#fdca26\"],[1.0,\"#f0f921\"]]}],\"choropleth\":[{\"type\":\"choropleth\",\"colorbar\":{\"outlinewidth\":0,\"ticks\":\"\"}}],\"histogram2d\":[{\"type\":\"histogram2d\",\"colorbar\":{\"outlinewidth\":0,\"ticks\":\"\"},\"colorscale\":[[0.0,\"#0d0887\"],[0.1111111111111111,\"#46039f\"],[0.2222222222222222,\"#7201a8\"],[0.3333333333333333,\"#9c179e\"],[0.4444444444444444,\"#bd3786\"],[0.5555555555555556,\"#d8576b\"],[0.6666666666666666,\"#ed7953\"],[0.7777777777777778,\"#fb9f3a\"],[0.8888888888888888,\"#fdca26\"],[1.0,\"#f0f921\"]]}],\"heatmap\":[{\"type\":\"heatmap\",\"colorbar\":{\"outlinewidth\":0,\"ticks\":\"\"},\"colorscale\":[[0.0,\"#0d0887\"],[0.1111111111111111,\"#46039f\"],[0.2222222222222222,\"#7201a8\"],[0.3333333333333333,\"#9c179e\"],[0.4444444444444444,\"#bd3786\"],[0.5555555555555556,\"#d8576b\"],[0.6666666666666666,\"#ed7953\"],[0.7777777777777778,\"#fb9f3a\"],[0.8888888888888888,\"#fdca26\"],[1.0,\"#f0f921\"]]}],\"heatmapgl\":[{\"type\":\"heatmapgl\",\"colorbar\":{\"outlinewidth\":0,\"ticks\":\"\"},\"colorscale\":[[0.0,\"#0d0887\"],[0.1111111111111111,\"#46039f\"],[0.2222222222222222,\"#7201a8\"],[0.3333333333333333,\"#9c179e\"],[0.4444444444444444,\"#bd3786\"],[0.5555555555555556,\"#d8576b\"],[0.6666666666666666,\"#ed7953\"],[0.7777777777777778,\"#fb9f3a\"],[0.8888888888888888,\"#fdca26\"],[1.0,\"#f0f921\"]]}],\"contourcarpet\":[{\"type\":\"contourcarpet\",\"colorbar\":{\"outlinewidth\":0,\"ticks\":\"\"}}],\"contour\":[{\"type\":\"contour\",\"colorbar\":{\"outlinewidth\":0,\"ticks\":\"\"},\"colorscale\":[[0.0,\"#0d0887\"],[0.1111111111111111,\"#46039f\"],[0.2222222222222222,\"#7201a8\"],[0.3333333333333333,\"#9c179e\"],[0.4444444444444444,\"#bd3786\"],[0.5555555555555556,\"#d8576b\"],[0.6666666666666666,\"#ed7953\"],[0.7777777777777778,\"#fb9f3a\"],[0.8888888888888888,\"#fdca26\"],[1.0,\"#f0f921\"]]}],\"surface\":[{\"type\":\"surface\",\"colorbar\":{\"outlinewidth\":0,\"ticks\":\"\"},\"colorscale\":[[0.0,\"#0d0887\"],[0.1111111111111111,\"#46039f\"],[0.2222222222222222,\"#7201a8\"],[0.3333333333333333,\"#9c179e\"],[0.4444444444444444,\"#bd3786\"],[0.5555555555555556,\"#d8576b\"],[0.6666666666666666,\"#ed7953\"],[0.7777777777777778,\"#fb9f3a\"],[0.8888888888888888,\"#fdca26\"],[1.0,\"#f0f921\"]]}],\"mesh3d\":[{\"type\":\"mesh3d\",\"colorbar\":{\"outlinewidth\":0,\"ticks\":\"\"}}],\"scatter\":[{\"fillpattern\":{\"fillmode\":\"overlay\",\"size\":10,\"solidity\":0.2},\"type\":\"scatter\"}],\"parcoords\":[{\"type\":\"parcoords\",\"line\":{\"colorbar\":{\"outlinewidth\":0,\"ticks\":\"\"}}}],\"scatterpolargl\":[{\"type\":\"scatterpolargl\",\"marker\":{\"colorbar\":{\"outlinewidth\":0,\"ticks\":\"\"}}}],\"bar\":[{\"error_x\":{\"color\":\"#2a3f5f\"},\"error_y\":{\"color\":\"#2a3f5f\"},\"marker\":{\"line\":{\"color\":\"#E5ECF6\",\"width\":0.5},\"pattern\":{\"fillmode\":\"overlay\",\"size\":10,\"solidity\":0.2}},\"type\":\"bar\"}],\"scattergeo\":[{\"type\":\"scattergeo\",\"marker\":{\"colorbar\":{\"outlinewidth\":0,\"ticks\":\"\"}}}],\"scatterpolar\":[{\"type\":\"scatterpolar\",\"marker\":{\"colorbar\":{\"outlinewidth\":0,\"ticks\":\"\"}}}],\"histogram\":[{\"marker\":{\"pattern\":{\"fillmode\":\"overlay\",\"size\":10,\"solidity\":0.2}},\"type\":\"histogram\"}],\"scattergl\":[{\"type\":\"scattergl\",\"marker\":{\"colorbar\":{\"outlinewidth\":0,\"ticks\":\"\"}}}],\"scatter3d\":[{\"type\":\"scatter3d\",\"line\":{\"colorbar\":{\"outlinewidth\":0,\"ticks\":\"\"}},\"marker\":{\"colorbar\":{\"outlinewidth\":0,\"ticks\":\"\"}}}],\"scattermapbox\":[{\"type\":\"scattermapbox\",\"marker\":{\"colorbar\":{\"outlinewidth\":0,\"ticks\":\"\"}}}],\"scatterternary\":[{\"type\":\"scatterternary\",\"marker\":{\"colorbar\":{\"outlinewidth\":0,\"ticks\":\"\"}}}],\"scattercarpet\":[{\"type\":\"scattercarpet\",\"marker\":{\"colorbar\":{\"outlinewidth\":0,\"ticks\":\"\"}}}],\"carpet\":[{\"aaxis\":{\"endlinecolor\":\"#2a3f5f\",\"gridcolor\":\"white\",\"linecolor\":\"white\",\"minorgridcolor\":\"white\",\"startlinecolor\":\"#2a3f5f\"},\"baxis\":{\"endlinecolor\":\"#2a3f5f\",\"gridcolor\":\"white\",\"linecolor\":\"white\",\"minorgridcolor\":\"white\",\"startlinecolor\":\"#2a3f5f\"},\"type\":\"carpet\"}],\"table\":[{\"cells\":{\"fill\":{\"color\":\"#EBF0F8\"},\"line\":{\"color\":\"white\"}},\"header\":{\"fill\":{\"color\":\"#C8D4E3\"},\"line\":{\"color\":\"white\"}},\"type\":\"table\"}],\"barpolar\":[{\"marker\":{\"line\":{\"color\":\"#E5ECF6\",\"width\":0.5},\"pattern\":{\"fillmode\":\"overlay\",\"size\":10,\"solidity\":0.2}},\"type\":\"barpolar\"}],\"pie\":[{\"automargin\":true,\"type\":\"pie\"}]},\"layout\":{\"autotypenumbers\":\"strict\",\"colorway\":[\"#636efa\",\"#EF553B\",\"#00cc96\",\"#ab63fa\",\"#FFA15A\",\"#19d3f3\",\"#FF6692\",\"#B6E880\",\"#FF97FF\",\"#FECB52\"],\"font\":{\"color\":\"#2a3f5f\"},\"hovermode\":\"closest\",\"hoverlabel\":{\"align\":\"left\"},\"paper_bgcolor\":\"white\",\"plot_bgcolor\":\"#E5ECF6\",\"polar\":{\"bgcolor\":\"#E5ECF6\",\"angularaxis\":{\"gridcolor\":\"white\",\"linecolor\":\"white\",\"ticks\":\"\"},\"radialaxis\":{\"gridcolor\":\"white\",\"linecolor\":\"white\",\"ticks\":\"\"}},\"ternary\":{\"bgcolor\":\"#E5ECF6\",\"aaxis\":{\"gridcolor\":\"white\",\"linecolor\":\"white\",\"ticks\":\"\"},\"baxis\":{\"gridcolor\":\"white\",\"linecolor\":\"white\",\"ticks\":\"\"},\"caxis\":{\"gridcolor\":\"white\",\"linecolor\":\"white\",\"ticks\":\"\"}},\"coloraxis\":{\"colorbar\":{\"outlinewidth\":0,\"ticks\":\"\"}},\"colorscale\":{\"sequential\":[[0.0,\"#0d0887\"],[0.1111111111111111,\"#46039f\"],[0.2222222222222222,\"#7201a8\"],[0.3333333333333333,\"#9c179e\"],[0.4444444444444444,\"#bd3786\"],[0.5555555555555556,\"#d8576b\"],[0.6666666666666666,\"#ed7953\"],[0.7777777777777778,\"#fb9f3a\"],[0.8888888888888888,\"#fdca26\"],[1.0,\"#f0f921\"]],\"sequentialminus\":[[0.0,\"#0d0887\"],[0.1111111111111111,\"#46039f\"],[0.2222222222222222,\"#7201a8\"],[0.3333333333333333,\"#9c179e\"],[0.4444444444444444,\"#bd3786\"],[0.5555555555555556,\"#d8576b\"],[0.6666666666666666,\"#ed7953\"],[0.7777777777777778,\"#fb9f3a\"],[0.8888888888888888,\"#fdca26\"],[1.0,\"#f0f921\"]],\"diverging\":[[0,\"#8e0152\"],[0.1,\"#c51b7d\"],[0.2,\"#de77ae\"],[0.3,\"#f1b6da\"],[0.4,\"#fde0ef\"],[0.5,\"#f7f7f7\"],[0.6,\"#e6f5d0\"],[0.7,\"#b8e186\"],[0.8,\"#7fbc41\"],[0.9,\"#4d9221\"],[1,\"#276419\"]]},\"xaxis\":{\"gridcolor\":\"white\",\"linecolor\":\"white\",\"ticks\":\"\",\"title\":{\"standoff\":15},\"zerolinecolor\":\"white\",\"automargin\":true,\"zerolinewidth\":2},\"yaxis\":{\"gridcolor\":\"white\",\"linecolor\":\"white\",\"ticks\":\"\",\"title\":{\"standoff\":15},\"zerolinecolor\":\"white\",\"automargin\":true,\"zerolinewidth\":2},\"scene\":{\"xaxis\":{\"backgroundcolor\":\"#E5ECF6\",\"gridcolor\":\"white\",\"linecolor\":\"white\",\"showbackground\":true,\"ticks\":\"\",\"zerolinecolor\":\"white\",\"gridwidth\":2},\"yaxis\":{\"backgroundcolor\":\"#E5ECF6\",\"gridcolor\":\"white\",\"linecolor\":\"white\",\"showbackground\":true,\"ticks\":\"\",\"zerolinecolor\":\"white\",\"gridwidth\":2},\"zaxis\":{\"backgroundcolor\":\"#E5ECF6\",\"gridcolor\":\"white\",\"linecolor\":\"white\",\"showbackground\":true,\"ticks\":\"\",\"zerolinecolor\":\"white\",\"gridwidth\":2}},\"shapedefaults\":{\"line\":{\"color\":\"#2a3f5f\"}},\"annotationdefaults\":{\"arrowcolor\":\"#2a3f5f\",\"arrowhead\":0,\"arrowwidth\":1},\"geo\":{\"bgcolor\":\"white\",\"landcolor\":\"#E5ECF6\",\"subunitcolor\":\"white\",\"showland\":true,\"showlakes\":true,\"lakecolor\":\"white\"},\"title\":{\"x\":0.05},\"mapbox\":{\"style\":\"light\"}}}},                        {\"responsive\": true}                    ).then(function(){\n",
              "                            \n",
              "var gd = document.getElementById('51857298-a61c-498c-8bc3-f416edf5b5d9');\n",
              "var x = new MutationObserver(function (mutations, observer) {{\n",
              "        var display = window.getComputedStyle(gd).display;\n",
              "        if (!display || display === 'none') {{\n",
              "            console.log([gd, 'removed!']);\n",
              "            Plotly.purge(gd);\n",
              "            observer.disconnect();\n",
              "        }}\n",
              "}});\n",
              "\n",
              "// Listen for the removal of the full notebook cells\n",
              "var notebookContainer = gd.closest('#notebook-container');\n",
              "if (notebookContainer) {{\n",
              "    x.observe(notebookContainer, {childList: true});\n",
              "}}\n",
              "\n",
              "// Listen for the clearing of the current output cell\n",
              "var outputEl = gd.closest('.output');\n",
              "if (outputEl) {{\n",
              "    x.observe(outputEl, {childList: true});\n",
              "}}\n",
              "\n",
              "                        })                };                            </script>        </div>\n",
              "</body>\n",
              "</html>"
            ]
          },
          "metadata": {},
          "output_type": "display_data"
        }
      ],
      "source": [
        "plot_param_importances(study)"
      ],
      "id": "mvg49c3VGgxP"
    },
    {
      "cell_type": "markdown",
      "metadata": {
        "id": "crtH6uqtfHiI"
      },
      "source": [
        "#### n_estimators as an hyperparameter"
      ],
      "id": "crtH6uqtfHiI"
    },
    {
      "cell_type": "code",
      "execution_count": null,
      "metadata": {
        "colab": {
          "base_uri": "https://localhost:8080/"
        },
        "id": "bA6ANf1RDP8e",
        "outputId": "2120059c-9f91-4e3a-d0e6-49ac804ba745"
      },
      "outputs": [
        {
          "name": "stderr",
          "output_type": "stream",
          "text": [
            "\u001b[32m[I 2023-04-30 17:20:26,840]\u001b[0m A new study created in memory with name: no-name-12040cfd-2393-439e-97e3-3c89292ae257\u001b[0m\n",
            "\u001b[32m[I 2023-04-30 17:23:02,239]\u001b[0m Trial 0 finished with value: 0.9618399737415145 and parameters: {'xgbc__max_depth': 9, 'xgbc__learning_rate': 0.08954879139284809, 'xgbc__n_estimators': 340}. Best is trial 0 with value: 0.9618399737415145.\u001b[0m\n",
            "\u001b[32m[I 2023-04-30 17:26:18,923]\u001b[0m Trial 1 finished with value: 0.9622642270576454 and parameters: {'xgbc__max_depth': 21, 'xgbc__learning_rate': 0.28640006362546966, 'xgbc__n_estimators': 430}. Best is trial 1 with value: 0.9622642270576454.\u001b[0m\n",
            "\u001b[32m[I 2023-04-30 17:28:17,089]\u001b[0m Trial 2 finished with value: 0.9609149317622451 and parameters: {'xgbc__max_depth': 26, 'xgbc__learning_rate': 0.48302617196901354, 'xgbc__n_estimators': 261}. Best is trial 1 with value: 0.9622642270576454.\u001b[0m\n",
            "\u001b[32m[I 2023-04-30 17:29:06,791]\u001b[0m Trial 3 finished with value: 0.9604906411586098 and parameters: {'xgbc__max_depth': 26, 'xgbc__learning_rate': 0.3382636342054182, 'xgbc__n_estimators': 73}. Best is trial 1 with value: 0.9622642270576454.\u001b[0m\n",
            "\u001b[32m[I 2023-04-30 17:30:12,717]\u001b[0m Trial 4 finished with value: 0.9608091248465974 and parameters: {'xgbc__max_depth': 25, 'xgbc__learning_rate': 0.4723633507814906, 'xgbc__n_estimators': 114}. Best is trial 1 with value: 0.9622642270576454.\u001b[0m\n",
            "\u001b[32m[I 2023-04-30 17:32:04,261]\u001b[0m Trial 5 finished with value: 0.9586558409538152 and parameters: {'xgbc__max_depth': 27, 'xgbc__learning_rate': 0.07196283443883787, 'xgbc__n_estimators': 142}. Best is trial 1 with value: 0.9622642270576454.\u001b[0m\n",
            "\u001b[32m[I 2023-04-30 17:35:13,343]\u001b[0m Trial 6 finished with value: 0.960748427925365 and parameters: {'xgbc__max_depth': 13, 'xgbc__learning_rate': 0.4049735072259106, 'xgbc__n_estimators': 487}. Best is trial 1 with value: 0.9622642270576454.\u001b[0m\n",
            "\u001b[32m[I 2023-04-30 17:37:21,551]\u001b[0m Trial 7 finished with value: 0.9617034846431078 and parameters: {'xgbc__max_depth': 16, 'xgbc__learning_rate': 0.481132866882474, 'xgbc__n_estimators': 291}. Best is trial 1 with value: 0.9622642270576454.\u001b[0m\n",
            "\u001b[32m[I 2023-04-30 17:38:34,631]\u001b[0m Trial 8 finished with value: 0.9604147456851247 and parameters: {'xgbc__max_depth': 11, 'xgbc__learning_rate': 0.13914827652511857, 'xgbc__n_estimators': 130}. Best is trial 1 with value: 0.9622642270576454.\u001b[0m\n",
            "\u001b[32m[I 2023-04-30 17:40:12,352]\u001b[0m Trial 9 finished with value: 0.9630681632811072 and parameters: {'xgbc__max_depth': 5, 'xgbc__learning_rate': 0.44712232903552135, 'xgbc__n_estimators': 392}. Best is trial 9 with value: 0.9630681632811072.\u001b[0m\n",
            "\u001b[32m[I 2023-04-30 17:41:10,141]\u001b[0m Trial 10 finished with value: 0.9607033498036294 and parameters: {'xgbc__max_depth': 3, 'xgbc__learning_rate': 0.20076357989822263, 'xgbc__n_estimators': 382}. Best is trial 9 with value: 0.9630681632811072.\u001b[0m\n",
            "\u001b[32m[I 2023-04-30 17:44:44,798]\u001b[0m Trial 11 finished with value: 0.961127159061881 and parameters: {'xgbc__max_depth': 20, 'xgbc__learning_rate': 0.2993161210159115, 'xgbc__n_estimators': 478}. Best is trial 9 with value: 0.9630681632811072.\u001b[0m\n",
            "\u001b[32m[I 2023-04-30 17:47:38,862]\u001b[0m Trial 12 finished with value: 0.9620673319298995 and parameters: {'xgbc__max_depth': 20, 'xgbc__learning_rate': 0.3626796355486678, 'xgbc__n_estimators': 401}. Best is trial 9 with value: 0.9630681632811072.\u001b[0m\n",
            "\u001b[32m[I 2023-04-30 17:48:42,289]\u001b[0m Trial 13 finished with value: 0.9615219574705547 and parameters: {'xgbc__max_depth': 3, 'xgbc__learning_rate': 0.24430079570948446, 'xgbc__n_estimators': 423}. Best is trial 9 with value: 0.9630681632811072.\u001b[0m\n",
            "\u001b[32m[I 2023-04-30 17:50:37,886]\u001b[0m Trial 14 finished with value: 0.9613696701444572 and parameters: {'xgbc__max_depth': 20, 'xgbc__learning_rate': 0.39160599254039136, 'xgbc__n_estimators': 238}. Best is trial 9 with value: 0.9630681632811072.\u001b[0m\n",
            "\u001b[32m[I 2023-04-30 17:53:30,989]\u001b[0m Trial 15 finished with value: 0.9626737770501124 and parameters: {'xgbc__max_depth': 30, 'xgbc__learning_rate': 0.2858440731516625, 'xgbc__n_estimators': 353}. Best is trial 9 with value: 0.9630681632811072.\u001b[0m\n",
            "\u001b[32m[I 2023-04-30 17:56:29,936]\u001b[0m Trial 16 finished with value: 0.9628405485777535 and parameters: {'xgbc__max_depth': 30, 'xgbc__learning_rate': 0.2093336134856303, 'xgbc__n_estimators': 335}. Best is trial 9 with value: 0.9630681632811072.\u001b[0m\n",
            "\u001b[32m[I 2023-04-30 17:57:36,541]\u001b[0m Trial 17 finished with value: 0.962977203123326 and parameters: {'xgbc__max_depth': 7, 'xgbc__learning_rate': 0.20241979552462216, 'xgbc__n_estimators': 192}. Best is trial 9 with value: 0.9630681632811072.\u001b[0m\n",
            "\u001b[32m[I 2023-04-30 17:58:43,071]\u001b[0m Trial 18 finished with value: 0.9612032600225998 and parameters: {'xgbc__max_depth': 7, 'xgbc__learning_rate': 0.15653635246471648, 'xgbc__n_estimators': 188}. Best is trial 9 with value: 0.9630681632811072.\u001b[0m\n",
            "\u001b[32m[I 2023-04-30 17:59:42,033]\u001b[0m Trial 19 finished with value: 0.9628562213607165 and parameters: {'xgbc__max_depth': 6, 'xgbc__learning_rate': 0.43091847750307916, 'xgbc__n_estimators': 206}. Best is trial 9 with value: 0.9630681632811072.\u001b[0m\n",
            "\u001b[32m[I 2023-04-30 18:02:03,605]\u001b[0m Trial 20 finished with value: 0.9615517227184301 and parameters: {'xgbc__max_depth': 14, 'xgbc__learning_rate': 0.33902180180800806, 'xgbc__n_estimators': 309}. Best is trial 9 with value: 0.9630681632811072.\u001b[0m\n",
            "\u001b[32m[I 2023-04-30 18:03:09,004]\u001b[0m Trial 21 finished with value: 0.9426615392842708 and parameters: {'xgbc__max_depth': 6, 'xgbc__learning_rate': 0.012992979014056105, 'xgbc__n_estimators': 210}. Best is trial 9 with value: 0.9630681632811072.\u001b[0m\n",
            "\u001b[32m[I 2023-04-30 18:04:02,816]\u001b[0m Trial 22 finished with value: 0.9623858542590981 and parameters: {'xgbc__max_depth': 6, 'xgbc__learning_rate': 0.43834615507796026, 'xgbc__n_estimators': 186}. Best is trial 9 with value: 0.9630681632811072.\u001b[0m\n",
            "\u001b[32m[I 2023-04-30 18:05:48,470]\u001b[0m Trial 23 finished with value: 0.9614914435401971 and parameters: {'xgbc__max_depth': 9, 'xgbc__learning_rate': 0.4397959408116767, 'xgbc__n_estimators': 263}. Best is trial 9 with value: 0.9630681632811072.\u001b[0m\n",
            "\u001b[32m[I 2023-04-30 18:06:41,899]\u001b[0m Trial 24 finished with value: 0.9623406866264332 and parameters: {'xgbc__max_depth': 5, 'xgbc__learning_rate': 0.4177852193831189, 'xgbc__n_estimators': 220}. Best is trial 9 with value: 0.9630681632811072.\u001b[0m\n",
            "\u001b[32m[I 2023-04-30 18:07:54,966]\u001b[0m Trial 25 finished with value: 0.9617035039411376 and parameters: {'xgbc__max_depth': 9, 'xgbc__learning_rate': 0.44446565839072755, 'xgbc__n_estimators': 172}. Best is trial 9 with value: 0.9630681632811072.\u001b[0m\n",
            "\u001b[32m[I 2023-04-30 18:08:24,347]\u001b[0m Trial 26 finished with value: 0.9599293691310381 and parameters: {'xgbc__max_depth': 11, 'xgbc__learning_rate': 0.3769035016871007, 'xgbc__n_estimators': 54}. Best is trial 9 with value: 0.9630681632811072.\u001b[0m\n",
            "\u001b[32m[I 2023-04-30 18:09:10,397]\u001b[0m Trial 27 finished with value: 0.9626742432639294 and parameters: {'xgbc__max_depth': 4, 'xgbc__learning_rate': 0.48526263395926345, 'xgbc__n_estimators': 243}. Best is trial 9 with value: 0.9630681632811072.\u001b[0m\n",
            "\u001b[32m[I 2023-04-30 18:10:06,613]\u001b[0m Trial 28 finished with value: 0.9615522674630311 and parameters: {'xgbc__max_depth': 7, 'xgbc__learning_rate': 0.33863957295325203, 'xgbc__n_estimators': 160}. Best is trial 9 with value: 0.9630681632811072.\u001b[0m\n",
            "\u001b[32m[I 2023-04-30 18:11:01,086]\u001b[0m Trial 29 finished with value: 0.960763801393206 and parameters: {'xgbc__max_depth': 11, 'xgbc__learning_rate': 0.49866757196092865, 'xgbc__n_estimators': 108}. Best is trial 9 with value: 0.9630681632811072.\u001b[0m\n"
          ]
        },
        {
          "name": "stdout",
          "output_type": "stream",
          "text": [
            "time 3034.2490525245667\n"
          ]
        }
      ],
      "source": [
        "from pandas.core.common import random_state\n",
        "import optuna\n",
        "import time\n",
        "from sklearn import metrics\n",
        "from sklearn import tree\n",
        "from sklearn.model_selection import cross_val_score, KFold\n",
        "from sklearn.ensemble import ExtraTreesClassifier\n",
        "from sklearn.model_selection import StratifiedKFold\n",
        "inicio = time.time()\n",
        "rs=NIA\n",
        "np.random.seed(NIA)\n",
        "def objective(trial):\n",
        "    xgbc__max_depth = trial.suggest_int('xgbc__max_depth',3,30)\n",
        "    xgbc__learning_rate = trial.suggest_float(\"xgbc__learning_rate\",0.01,0.5)\n",
        "    xgbc__n_estimators= trial.suggest_int('xgbc__n_estimators', 50, 500)\n",
        "    classifier_obj = Pipeline([('xgbc',xgb.XGBClassifier(max_depth=xgbc__max_depth, learning_rate=xgbc__learning_rate,n_estimators=xgbc__n_estimators,random_state=rs))])\n",
        "\n",
        "\n",
        "    # Step 3: Scoring method:\n",
        "    score = cross_val_score(classifier_obj, X_train, y_train,scoring='balanced_accuracy', n_jobs=-1, cv=cv_inner)\n",
        "    accuracy = score.mean()\n",
        "    return accuracy\n",
        "\n",
        "# Step 4: Running it\n",
        "study = optuna.create_study(direction=\"maximize\")\n",
        "study.optimize(objective, n_trials=30)\n",
        "\n",
        "fin=time.time()\n",
        "print('time',fin-inicio)\n",
        "timeopt6=fin-inicio"
      ],
      "id": "bA6ANf1RDP8e"
    },
    {
      "cell_type": "code",
      "execution_count": null,
      "metadata": {
        "colab": {
          "base_uri": "https://localhost:8080/",
          "height": 701
        },
        "id": "0vPjpLV9c3JX",
        "outputId": "5a05edd3-3a56-42c2-ac2e-6803f6c6e514"
      },
      "outputs": [
        {
          "name": "stdout",
          "output_type": "stream",
          "text": [
            "The best trial is : \n",
            "FrozenTrial(number=9, state=TrialState.COMPLETE, values=[0.9630681632811072], datetime_start=datetime.datetime(2023, 4, 30, 17, 38, 34, 632825), datetime_complete=datetime.datetime(2023, 4, 30, 17, 40, 12, 352489), params={'xgbc__max_depth': 5, 'xgbc__learning_rate': 0.44712232903552135, 'xgbc__n_estimators': 392}, user_attrs={}, system_attrs={}, intermediate_values={}, distributions={'xgbc__max_depth': IntDistribution(high=30, log=False, low=3, step=1), 'xgbc__learning_rate': FloatDistribution(high=0.5, log=False, low=0.01, step=None), 'xgbc__n_estimators': IntDistribution(high=500, log=False, low=50, step=1)}, trial_id=9, value=None)\n",
            "The best value is : \n",
            "0.9630681632811072\n",
            "The best parameters are : \n",
            "{'xgbc__max_depth': 5, 'xgbc__learning_rate': 0.44712232903552135, 'xgbc__n_estimators': 392}\n",
            "Precision: 0.9630681632811072\n",
            "Best hyperparameters: {'xgbc__max_depth': 5, 'xgbc__learning_rate': 0.44712232903552135, 'xgbc__n_estimators': 392}\n"
          ]
        },
        {
          "data": {
            "text/html": [
              "<html>\n",
              "<head><meta charset=\"utf-8\" /></head>\n",
              "<body>\n",
              "    <div>            <script src=\"https://cdnjs.cloudflare.com/ajax/libs/mathjax/2.7.5/MathJax.js?config=TeX-AMS-MML_SVG\"></script><script type=\"text/javascript\">if (window.MathJax && window.MathJax.Hub && window.MathJax.Hub.Config) {window.MathJax.Hub.Config({SVG: {font: \"STIX-Web\"}});}</script>                <script type=\"text/javascript\">window.PlotlyConfig = {MathJaxConfig: 'local'};</script>\n",
              "        <script src=\"https://cdn.plot.ly/plotly-2.18.2.min.js\"></script>                <div id=\"91220d99-80b7-4829-818b-63e8f566124d\" class=\"plotly-graph-div\" style=\"height:525px; width:100%;\"></div>            <script type=\"text/javascript\">                                    window.PLOTLYENV=window.PLOTLYENV || {};                                    if (document.getElementById(\"91220d99-80b7-4829-818b-63e8f566124d\")) {                    Plotly.newPlot(                        \"91220d99-80b7-4829-818b-63e8f566124d\",                        [{\"mode\":\"markers\",\"name\":\"Objective Value\",\"x\":[0,1,2,3,4,5,6,7,8,9,10,11,12,13,14,15,16,17,18,19,20,21,22,23,24,25,26,27,28,29],\"y\":[0.9618399737415145,0.9622642270576454,0.9609149317622451,0.9604906411586098,0.9608091248465974,0.9586558409538152,0.960748427925365,0.9617034846431078,0.9604147456851247,0.9630681632811072,0.9607033498036294,0.961127159061881,0.9620673319298995,0.9615219574705547,0.9613696701444572,0.9626737770501124,0.9628405485777535,0.962977203123326,0.9612032600225998,0.9628562213607165,0.9615517227184301,0.9426615392842708,0.9623858542590981,0.9614914435401971,0.9623406866264332,0.9617035039411376,0.9599293691310381,0.9626742432639294,0.9615522674630311,0.960763801393206],\"type\":\"scatter\"},{\"name\":\"Best Value\",\"x\":[0,1,2,3,4,5,6,7,8,9,10,11,12,13,14,15,16,17,18,19,20,21,22,23,24,25,26,27,28,29],\"y\":[0.9618399737415145,0.9622642270576454,0.9622642270576454,0.9622642270576454,0.9622642270576454,0.9622642270576454,0.9622642270576454,0.9622642270576454,0.9622642270576454,0.9630681632811072,0.9630681632811072,0.9630681632811072,0.9630681632811072,0.9630681632811072,0.9630681632811072,0.9630681632811072,0.9630681632811072,0.9630681632811072,0.9630681632811072,0.9630681632811072,0.9630681632811072,0.9630681632811072,0.9630681632811072,0.9630681632811072,0.9630681632811072,0.9630681632811072,0.9630681632811072,0.9630681632811072,0.9630681632811072,0.9630681632811072],\"type\":\"scatter\"}],                        {\"title\":{\"text\":\"Optimization History Plot\"},\"xaxis\":{\"title\":{\"text\":\"Trial\"}},\"yaxis\":{\"title\":{\"text\":\"Objective Value\"}},\"template\":{\"data\":{\"histogram2dcontour\":[{\"type\":\"histogram2dcontour\",\"colorbar\":{\"outlinewidth\":0,\"ticks\":\"\"},\"colorscale\":[[0.0,\"#0d0887\"],[0.1111111111111111,\"#46039f\"],[0.2222222222222222,\"#7201a8\"],[0.3333333333333333,\"#9c179e\"],[0.4444444444444444,\"#bd3786\"],[0.5555555555555556,\"#d8576b\"],[0.6666666666666666,\"#ed7953\"],[0.7777777777777778,\"#fb9f3a\"],[0.8888888888888888,\"#fdca26\"],[1.0,\"#f0f921\"]]}],\"choropleth\":[{\"type\":\"choropleth\",\"colorbar\":{\"outlinewidth\":0,\"ticks\":\"\"}}],\"histogram2d\":[{\"type\":\"histogram2d\",\"colorbar\":{\"outlinewidth\":0,\"ticks\":\"\"},\"colorscale\":[[0.0,\"#0d0887\"],[0.1111111111111111,\"#46039f\"],[0.2222222222222222,\"#7201a8\"],[0.3333333333333333,\"#9c179e\"],[0.4444444444444444,\"#bd3786\"],[0.5555555555555556,\"#d8576b\"],[0.6666666666666666,\"#ed7953\"],[0.7777777777777778,\"#fb9f3a\"],[0.8888888888888888,\"#fdca26\"],[1.0,\"#f0f921\"]]}],\"heatmap\":[{\"type\":\"heatmap\",\"colorbar\":{\"outlinewidth\":0,\"ticks\":\"\"},\"colorscale\":[[0.0,\"#0d0887\"],[0.1111111111111111,\"#46039f\"],[0.2222222222222222,\"#7201a8\"],[0.3333333333333333,\"#9c179e\"],[0.4444444444444444,\"#bd3786\"],[0.5555555555555556,\"#d8576b\"],[0.6666666666666666,\"#ed7953\"],[0.7777777777777778,\"#fb9f3a\"],[0.8888888888888888,\"#fdca26\"],[1.0,\"#f0f921\"]]}],\"heatmapgl\":[{\"type\":\"heatmapgl\",\"colorbar\":{\"outlinewidth\":0,\"ticks\":\"\"},\"colorscale\":[[0.0,\"#0d0887\"],[0.1111111111111111,\"#46039f\"],[0.2222222222222222,\"#7201a8\"],[0.3333333333333333,\"#9c179e\"],[0.4444444444444444,\"#bd3786\"],[0.5555555555555556,\"#d8576b\"],[0.6666666666666666,\"#ed7953\"],[0.7777777777777778,\"#fb9f3a\"],[0.8888888888888888,\"#fdca26\"],[1.0,\"#f0f921\"]]}],\"contourcarpet\":[{\"type\":\"contourcarpet\",\"colorbar\":{\"outlinewidth\":0,\"ticks\":\"\"}}],\"contour\":[{\"type\":\"contour\",\"colorbar\":{\"outlinewidth\":0,\"ticks\":\"\"},\"colorscale\":[[0.0,\"#0d0887\"],[0.1111111111111111,\"#46039f\"],[0.2222222222222222,\"#7201a8\"],[0.3333333333333333,\"#9c179e\"],[0.4444444444444444,\"#bd3786\"],[0.5555555555555556,\"#d8576b\"],[0.6666666666666666,\"#ed7953\"],[0.7777777777777778,\"#fb9f3a\"],[0.8888888888888888,\"#fdca26\"],[1.0,\"#f0f921\"]]}],\"surface\":[{\"type\":\"surface\",\"colorbar\":{\"outlinewidth\":0,\"ticks\":\"\"},\"colorscale\":[[0.0,\"#0d0887\"],[0.1111111111111111,\"#46039f\"],[0.2222222222222222,\"#7201a8\"],[0.3333333333333333,\"#9c179e\"],[0.4444444444444444,\"#bd3786\"],[0.5555555555555556,\"#d8576b\"],[0.6666666666666666,\"#ed7953\"],[0.7777777777777778,\"#fb9f3a\"],[0.8888888888888888,\"#fdca26\"],[1.0,\"#f0f921\"]]}],\"mesh3d\":[{\"type\":\"mesh3d\",\"colorbar\":{\"outlinewidth\":0,\"ticks\":\"\"}}],\"scatter\":[{\"fillpattern\":{\"fillmode\":\"overlay\",\"size\":10,\"solidity\":0.2},\"type\":\"scatter\"}],\"parcoords\":[{\"type\":\"parcoords\",\"line\":{\"colorbar\":{\"outlinewidth\":0,\"ticks\":\"\"}}}],\"scatterpolargl\":[{\"type\":\"scatterpolargl\",\"marker\":{\"colorbar\":{\"outlinewidth\":0,\"ticks\":\"\"}}}],\"bar\":[{\"error_x\":{\"color\":\"#2a3f5f\"},\"error_y\":{\"color\":\"#2a3f5f\"},\"marker\":{\"line\":{\"color\":\"#E5ECF6\",\"width\":0.5},\"pattern\":{\"fillmode\":\"overlay\",\"size\":10,\"solidity\":0.2}},\"type\":\"bar\"}],\"scattergeo\":[{\"type\":\"scattergeo\",\"marker\":{\"colorbar\":{\"outlinewidth\":0,\"ticks\":\"\"}}}],\"scatterpolar\":[{\"type\":\"scatterpolar\",\"marker\":{\"colorbar\":{\"outlinewidth\":0,\"ticks\":\"\"}}}],\"histogram\":[{\"marker\":{\"pattern\":{\"fillmode\":\"overlay\",\"size\":10,\"solidity\":0.2}},\"type\":\"histogram\"}],\"scattergl\":[{\"type\":\"scattergl\",\"marker\":{\"colorbar\":{\"outlinewidth\":0,\"ticks\":\"\"}}}],\"scatter3d\":[{\"type\":\"scatter3d\",\"line\":{\"colorbar\":{\"outlinewidth\":0,\"ticks\":\"\"}},\"marker\":{\"colorbar\":{\"outlinewidth\":0,\"ticks\":\"\"}}}],\"scattermapbox\":[{\"type\":\"scattermapbox\",\"marker\":{\"colorbar\":{\"outlinewidth\":0,\"ticks\":\"\"}}}],\"scatterternary\":[{\"type\":\"scatterternary\",\"marker\":{\"colorbar\":{\"outlinewidth\":0,\"ticks\":\"\"}}}],\"scattercarpet\":[{\"type\":\"scattercarpet\",\"marker\":{\"colorbar\":{\"outlinewidth\":0,\"ticks\":\"\"}}}],\"carpet\":[{\"aaxis\":{\"endlinecolor\":\"#2a3f5f\",\"gridcolor\":\"white\",\"linecolor\":\"white\",\"minorgridcolor\":\"white\",\"startlinecolor\":\"#2a3f5f\"},\"baxis\":{\"endlinecolor\":\"#2a3f5f\",\"gridcolor\":\"white\",\"linecolor\":\"white\",\"minorgridcolor\":\"white\",\"startlinecolor\":\"#2a3f5f\"},\"type\":\"carpet\"}],\"table\":[{\"cells\":{\"fill\":{\"color\":\"#EBF0F8\"},\"line\":{\"color\":\"white\"}},\"header\":{\"fill\":{\"color\":\"#C8D4E3\"},\"line\":{\"color\":\"white\"}},\"type\":\"table\"}],\"barpolar\":[{\"marker\":{\"line\":{\"color\":\"#E5ECF6\",\"width\":0.5},\"pattern\":{\"fillmode\":\"overlay\",\"size\":10,\"solidity\":0.2}},\"type\":\"barpolar\"}],\"pie\":[{\"automargin\":true,\"type\":\"pie\"}]},\"layout\":{\"autotypenumbers\":\"strict\",\"colorway\":[\"#636efa\",\"#EF553B\",\"#00cc96\",\"#ab63fa\",\"#FFA15A\",\"#19d3f3\",\"#FF6692\",\"#B6E880\",\"#FF97FF\",\"#FECB52\"],\"font\":{\"color\":\"#2a3f5f\"},\"hovermode\":\"closest\",\"hoverlabel\":{\"align\":\"left\"},\"paper_bgcolor\":\"white\",\"plot_bgcolor\":\"#E5ECF6\",\"polar\":{\"bgcolor\":\"#E5ECF6\",\"angularaxis\":{\"gridcolor\":\"white\",\"linecolor\":\"white\",\"ticks\":\"\"},\"radialaxis\":{\"gridcolor\":\"white\",\"linecolor\":\"white\",\"ticks\":\"\"}},\"ternary\":{\"bgcolor\":\"#E5ECF6\",\"aaxis\":{\"gridcolor\":\"white\",\"linecolor\":\"white\",\"ticks\":\"\"},\"baxis\":{\"gridcolor\":\"white\",\"linecolor\":\"white\",\"ticks\":\"\"},\"caxis\":{\"gridcolor\":\"white\",\"linecolor\":\"white\",\"ticks\":\"\"}},\"coloraxis\":{\"colorbar\":{\"outlinewidth\":0,\"ticks\":\"\"}},\"colorscale\":{\"sequential\":[[0.0,\"#0d0887\"],[0.1111111111111111,\"#46039f\"],[0.2222222222222222,\"#7201a8\"],[0.3333333333333333,\"#9c179e\"],[0.4444444444444444,\"#bd3786\"],[0.5555555555555556,\"#d8576b\"],[0.6666666666666666,\"#ed7953\"],[0.7777777777777778,\"#fb9f3a\"],[0.8888888888888888,\"#fdca26\"],[1.0,\"#f0f921\"]],\"sequentialminus\":[[0.0,\"#0d0887\"],[0.1111111111111111,\"#46039f\"],[0.2222222222222222,\"#7201a8\"],[0.3333333333333333,\"#9c179e\"],[0.4444444444444444,\"#bd3786\"],[0.5555555555555556,\"#d8576b\"],[0.6666666666666666,\"#ed7953\"],[0.7777777777777778,\"#fb9f3a\"],[0.8888888888888888,\"#fdca26\"],[1.0,\"#f0f921\"]],\"diverging\":[[0,\"#8e0152\"],[0.1,\"#c51b7d\"],[0.2,\"#de77ae\"],[0.3,\"#f1b6da\"],[0.4,\"#fde0ef\"],[0.5,\"#f7f7f7\"],[0.6,\"#e6f5d0\"],[0.7,\"#b8e186\"],[0.8,\"#7fbc41\"],[0.9,\"#4d9221\"],[1,\"#276419\"]]},\"xaxis\":{\"gridcolor\":\"white\",\"linecolor\":\"white\",\"ticks\":\"\",\"title\":{\"standoff\":15},\"zerolinecolor\":\"white\",\"automargin\":true,\"zerolinewidth\":2},\"yaxis\":{\"gridcolor\":\"white\",\"linecolor\":\"white\",\"ticks\":\"\",\"title\":{\"standoff\":15},\"zerolinecolor\":\"white\",\"automargin\":true,\"zerolinewidth\":2},\"scene\":{\"xaxis\":{\"backgroundcolor\":\"#E5ECF6\",\"gridcolor\":\"white\",\"linecolor\":\"white\",\"showbackground\":true,\"ticks\":\"\",\"zerolinecolor\":\"white\",\"gridwidth\":2},\"yaxis\":{\"backgroundcolor\":\"#E5ECF6\",\"gridcolor\":\"white\",\"linecolor\":\"white\",\"showbackground\":true,\"ticks\":\"\",\"zerolinecolor\":\"white\",\"gridwidth\":2},\"zaxis\":{\"backgroundcolor\":\"#E5ECF6\",\"gridcolor\":\"white\",\"linecolor\":\"white\",\"showbackground\":true,\"ticks\":\"\",\"zerolinecolor\":\"white\",\"gridwidth\":2}},\"shapedefaults\":{\"line\":{\"color\":\"#2a3f5f\"}},\"annotationdefaults\":{\"arrowcolor\":\"#2a3f5f\",\"arrowhead\":0,\"arrowwidth\":1},\"geo\":{\"bgcolor\":\"white\",\"landcolor\":\"#E5ECF6\",\"subunitcolor\":\"white\",\"showland\":true,\"showlakes\":true,\"lakecolor\":\"white\"},\"title\":{\"x\":0.05},\"mapbox\":{\"style\":\"light\"}}}},                        {\"responsive\": true}                    ).then(function(){\n",
              "                            \n",
              "var gd = document.getElementById('91220d99-80b7-4829-818b-63e8f566124d');\n",
              "var x = new MutationObserver(function (mutations, observer) {{\n",
              "        var display = window.getComputedStyle(gd).display;\n",
              "        if (!display || display === 'none') {{\n",
              "            console.log([gd, 'removed!']);\n",
              "            Plotly.purge(gd);\n",
              "            observer.disconnect();\n",
              "        }}\n",
              "}});\n",
              "\n",
              "// Listen for the removal of the full notebook cells\n",
              "var notebookContainer = gd.closest('#notebook-container');\n",
              "if (notebookContainer) {{\n",
              "    x.observe(notebookContainer, {childList: true});\n",
              "}}\n",
              "\n",
              "// Listen for the clearing of the current output cell\n",
              "var outputEl = gd.closest('.output');\n",
              "if (outputEl) {{\n",
              "    x.observe(outputEl, {childList: true});\n",
              "}}\n",
              "\n",
              "                        })                };                            </script>        </div>\n",
              "</body>\n",
              "</html>"
            ]
          },
          "metadata": {},
          "output_type": "display_data"
        }
      ],
      "source": [
        "# Getting the best trial:\n",
        "print(f\"The best trial is : \\n{study.best_trial}\")\n",
        "# Getting the best score:\n",
        "print(f\"The best value is : \\n{study.best_value}\")\n",
        "# Getting the best parameters:\n",
        "print(f\"The best parameters are : \\n{study.best_params}\")\n",
        "trial = study.best_trial\n",
        "print('Precision: {}'.format(trial.value))\n",
        "print(\"Best hyperparameters: {}\".format(trial.params))\n",
        "optuna.visualization.plot_optimization_history(study).show()"
      ],
      "id": "0vPjpLV9c3JX"
    },
    {
      "cell_type": "code",
      "execution_count": null,
      "metadata": {
        "colab": {
          "base_uri": "https://localhost:8080/",
          "height": 562
        },
        "id": "xLE5LTi2oYLu",
        "outputId": "61ee4c84-9e30-42aa-a6ed-2f65faaa8b4c"
      },
      "outputs": [
        {
          "data": {
            "text/html": [
              "<html>\n",
              "<head><meta charset=\"utf-8\" /></head>\n",
              "<body>\n",
              "    <div>            <script src=\"https://cdnjs.cloudflare.com/ajax/libs/mathjax/2.7.5/MathJax.js?config=TeX-AMS-MML_SVG\"></script><script type=\"text/javascript\">if (window.MathJax && window.MathJax.Hub && window.MathJax.Hub.Config) {window.MathJax.Hub.Config({SVG: {font: \"STIX-Web\"}});}</script>                <script type=\"text/javascript\">window.PlotlyConfig = {MathJaxConfig: 'local'};</script>\n",
              "        <script src=\"https://cdn.plot.ly/plotly-2.18.2.min.js\"></script>                <div id=\"38f62904-bc98-453b-b769-fe52fcd55884\" class=\"plotly-graph-div\" style=\"height:525px; width:100%;\"></div>            <script type=\"text/javascript\">                                    window.PLOTLYENV=window.PLOTLYENV || {};                                    if (document.getElementById(\"38f62904-bc98-453b-b769-fe52fcd55884\")) {                    Plotly.newPlot(                        \"38f62904-bc98-453b-b769-fe52fcd55884\",                        [{\"dimensions\":[{\"label\":\"Objective Value\",\"range\":[0.9426615392842708,0.9630681632811072],\"values\":[0.9618399737415145,0.9622642270576454,0.9609149317622451,0.9604906411586098,0.9608091248465974,0.9586558409538152,0.960748427925365,0.9617034846431078,0.9604147456851247,0.9630681632811072,0.9607033498036294,0.961127159061881,0.9620673319298995,0.9615219574705547,0.9613696701444572,0.9626737770501124,0.9628405485777535,0.962977203123326,0.9612032600225998,0.9628562213607165,0.9615517227184301,0.9426615392842708,0.9623858542590981,0.9614914435401971,0.9623406866264332,0.9617035039411376,0.9599293691310381,0.9626742432639294,0.9615522674630311,0.960763801393206]},{\"label\":\"xgbc__learning_rate\",\"range\":[0.012992979014056105,0.49866757196092865],\"values\":[0.08954879139284809,0.28640006362546966,0.48302617196901354,0.3382636342054182,0.4723633507814906,0.07196283443883787,0.4049735072259106,0.481132866882474,0.13914827652511857,0.44712232903552135,0.20076357989822263,0.2993161210159115,0.3626796355486678,0.24430079570948446,0.39160599254039136,0.2858440731516625,0.2093336134856303,0.20241979552462216,0.15653635246471648,0.43091847750307916,0.33902180180800806,0.012992979014056105,0.43834615507796026,0.4397959408116767,0.4177852193831189,0.44446565839072755,0.3769035016871007,0.48526263395926345,0.33863957295325203,0.49866757196092865]},{\"label\":\"xgbc__max_depth\",\"range\":[3,30],\"values\":[9,21,26,26,25,27,13,16,11,5,3,20,20,3,20,30,30,7,7,6,14,6,6,9,5,9,11,4,7,11]},{\"label\":\"xgbc__n_estimators\",\"range\":[54,487],\"values\":[340,430,261,73,114,142,487,291,130,392,382,478,401,423,238,353,335,192,188,206,309,210,186,263,220,172,54,243,160,108]}],\"labelangle\":30,\"labelside\":\"bottom\",\"line\":{\"color\":[0.9618399737415145,0.9622642270576454,0.9609149317622451,0.9604906411586098,0.9608091248465974,0.9586558409538152,0.960748427925365,0.9617034846431078,0.9604147456851247,0.9630681632811072,0.9607033498036294,0.961127159061881,0.9620673319298995,0.9615219574705547,0.9613696701444572,0.9626737770501124,0.9628405485777535,0.962977203123326,0.9612032600225998,0.9628562213607165,0.9615517227184301,0.9426615392842708,0.9623858542590981,0.9614914435401971,0.9623406866264332,0.9617035039411376,0.9599293691310381,0.9626742432639294,0.9615522674630311,0.960763801393206],\"colorbar\":{\"title\":{\"text\":\"Objective Value\"}},\"colorscale\":[[0.0,\"rgb(247,251,255)\"],[0.125,\"rgb(222,235,247)\"],[0.25,\"rgb(198,219,239)\"],[0.375,\"rgb(158,202,225)\"],[0.5,\"rgb(107,174,214)\"],[0.625,\"rgb(66,146,198)\"],[0.75,\"rgb(33,113,181)\"],[0.875,\"rgb(8,81,156)\"],[1.0,\"rgb(8,48,107)\"]],\"reversescale\":false,\"showscale\":true},\"type\":\"parcoords\"}],                        {\"title\":{\"text\":\"Parallel Coordinate Plot\"},\"template\":{\"data\":{\"histogram2dcontour\":[{\"type\":\"histogram2dcontour\",\"colorbar\":{\"outlinewidth\":0,\"ticks\":\"\"},\"colorscale\":[[0.0,\"#0d0887\"],[0.1111111111111111,\"#46039f\"],[0.2222222222222222,\"#7201a8\"],[0.3333333333333333,\"#9c179e\"],[0.4444444444444444,\"#bd3786\"],[0.5555555555555556,\"#d8576b\"],[0.6666666666666666,\"#ed7953\"],[0.7777777777777778,\"#fb9f3a\"],[0.8888888888888888,\"#fdca26\"],[1.0,\"#f0f921\"]]}],\"choropleth\":[{\"type\":\"choropleth\",\"colorbar\":{\"outlinewidth\":0,\"ticks\":\"\"}}],\"histogram2d\":[{\"type\":\"histogram2d\",\"colorbar\":{\"outlinewidth\":0,\"ticks\":\"\"},\"colorscale\":[[0.0,\"#0d0887\"],[0.1111111111111111,\"#46039f\"],[0.2222222222222222,\"#7201a8\"],[0.3333333333333333,\"#9c179e\"],[0.4444444444444444,\"#bd3786\"],[0.5555555555555556,\"#d8576b\"],[0.6666666666666666,\"#ed7953\"],[0.7777777777777778,\"#fb9f3a\"],[0.8888888888888888,\"#fdca26\"],[1.0,\"#f0f921\"]]}],\"heatmap\":[{\"type\":\"heatmap\",\"colorbar\":{\"outlinewidth\":0,\"ticks\":\"\"},\"colorscale\":[[0.0,\"#0d0887\"],[0.1111111111111111,\"#46039f\"],[0.2222222222222222,\"#7201a8\"],[0.3333333333333333,\"#9c179e\"],[0.4444444444444444,\"#bd3786\"],[0.5555555555555556,\"#d8576b\"],[0.6666666666666666,\"#ed7953\"],[0.7777777777777778,\"#fb9f3a\"],[0.8888888888888888,\"#fdca26\"],[1.0,\"#f0f921\"]]}],\"heatmapgl\":[{\"type\":\"heatmapgl\",\"colorbar\":{\"outlinewidth\":0,\"ticks\":\"\"},\"colorscale\":[[0.0,\"#0d0887\"],[0.1111111111111111,\"#46039f\"],[0.2222222222222222,\"#7201a8\"],[0.3333333333333333,\"#9c179e\"],[0.4444444444444444,\"#bd3786\"],[0.5555555555555556,\"#d8576b\"],[0.6666666666666666,\"#ed7953\"],[0.7777777777777778,\"#fb9f3a\"],[0.8888888888888888,\"#fdca26\"],[1.0,\"#f0f921\"]]}],\"contourcarpet\":[{\"type\":\"contourcarpet\",\"colorbar\":{\"outlinewidth\":0,\"ticks\":\"\"}}],\"contour\":[{\"type\":\"contour\",\"colorbar\":{\"outlinewidth\":0,\"ticks\":\"\"},\"colorscale\":[[0.0,\"#0d0887\"],[0.1111111111111111,\"#46039f\"],[0.2222222222222222,\"#7201a8\"],[0.3333333333333333,\"#9c179e\"],[0.4444444444444444,\"#bd3786\"],[0.5555555555555556,\"#d8576b\"],[0.6666666666666666,\"#ed7953\"],[0.7777777777777778,\"#fb9f3a\"],[0.8888888888888888,\"#fdca26\"],[1.0,\"#f0f921\"]]}],\"surface\":[{\"type\":\"surface\",\"colorbar\":{\"outlinewidth\":0,\"ticks\":\"\"},\"colorscale\":[[0.0,\"#0d0887\"],[0.1111111111111111,\"#46039f\"],[0.2222222222222222,\"#7201a8\"],[0.3333333333333333,\"#9c179e\"],[0.4444444444444444,\"#bd3786\"],[0.5555555555555556,\"#d8576b\"],[0.6666666666666666,\"#ed7953\"],[0.7777777777777778,\"#fb9f3a\"],[0.8888888888888888,\"#fdca26\"],[1.0,\"#f0f921\"]]}],\"mesh3d\":[{\"type\":\"mesh3d\",\"colorbar\":{\"outlinewidth\":0,\"ticks\":\"\"}}],\"scatter\":[{\"fillpattern\":{\"fillmode\":\"overlay\",\"size\":10,\"solidity\":0.2},\"type\":\"scatter\"}],\"parcoords\":[{\"type\":\"parcoords\",\"line\":{\"colorbar\":{\"outlinewidth\":0,\"ticks\":\"\"}}}],\"scatterpolargl\":[{\"type\":\"scatterpolargl\",\"marker\":{\"colorbar\":{\"outlinewidth\":0,\"ticks\":\"\"}}}],\"bar\":[{\"error_x\":{\"color\":\"#2a3f5f\"},\"error_y\":{\"color\":\"#2a3f5f\"},\"marker\":{\"line\":{\"color\":\"#E5ECF6\",\"width\":0.5},\"pattern\":{\"fillmode\":\"overlay\",\"size\":10,\"solidity\":0.2}},\"type\":\"bar\"}],\"scattergeo\":[{\"type\":\"scattergeo\",\"marker\":{\"colorbar\":{\"outlinewidth\":0,\"ticks\":\"\"}}}],\"scatterpolar\":[{\"type\":\"scatterpolar\",\"marker\":{\"colorbar\":{\"outlinewidth\":0,\"ticks\":\"\"}}}],\"histogram\":[{\"marker\":{\"pattern\":{\"fillmode\":\"overlay\",\"size\":10,\"solidity\":0.2}},\"type\":\"histogram\"}],\"scattergl\":[{\"type\":\"scattergl\",\"marker\":{\"colorbar\":{\"outlinewidth\":0,\"ticks\":\"\"}}}],\"scatter3d\":[{\"type\":\"scatter3d\",\"line\":{\"colorbar\":{\"outlinewidth\":0,\"ticks\":\"\"}},\"marker\":{\"colorbar\":{\"outlinewidth\":0,\"ticks\":\"\"}}}],\"scattermapbox\":[{\"type\":\"scattermapbox\",\"marker\":{\"colorbar\":{\"outlinewidth\":0,\"ticks\":\"\"}}}],\"scatterternary\":[{\"type\":\"scatterternary\",\"marker\":{\"colorbar\":{\"outlinewidth\":0,\"ticks\":\"\"}}}],\"scattercarpet\":[{\"type\":\"scattercarpet\",\"marker\":{\"colorbar\":{\"outlinewidth\":0,\"ticks\":\"\"}}}],\"carpet\":[{\"aaxis\":{\"endlinecolor\":\"#2a3f5f\",\"gridcolor\":\"white\",\"linecolor\":\"white\",\"minorgridcolor\":\"white\",\"startlinecolor\":\"#2a3f5f\"},\"baxis\":{\"endlinecolor\":\"#2a3f5f\",\"gridcolor\":\"white\",\"linecolor\":\"white\",\"minorgridcolor\":\"white\",\"startlinecolor\":\"#2a3f5f\"},\"type\":\"carpet\"}],\"table\":[{\"cells\":{\"fill\":{\"color\":\"#EBF0F8\"},\"line\":{\"color\":\"white\"}},\"header\":{\"fill\":{\"color\":\"#C8D4E3\"},\"line\":{\"color\":\"white\"}},\"type\":\"table\"}],\"barpolar\":[{\"marker\":{\"line\":{\"color\":\"#E5ECF6\",\"width\":0.5},\"pattern\":{\"fillmode\":\"overlay\",\"size\":10,\"solidity\":0.2}},\"type\":\"barpolar\"}],\"pie\":[{\"automargin\":true,\"type\":\"pie\"}]},\"layout\":{\"autotypenumbers\":\"strict\",\"colorway\":[\"#636efa\",\"#EF553B\",\"#00cc96\",\"#ab63fa\",\"#FFA15A\",\"#19d3f3\",\"#FF6692\",\"#B6E880\",\"#FF97FF\",\"#FECB52\"],\"font\":{\"color\":\"#2a3f5f\"},\"hovermode\":\"closest\",\"hoverlabel\":{\"align\":\"left\"},\"paper_bgcolor\":\"white\",\"plot_bgcolor\":\"#E5ECF6\",\"polar\":{\"bgcolor\":\"#E5ECF6\",\"angularaxis\":{\"gridcolor\":\"white\",\"linecolor\":\"white\",\"ticks\":\"\"},\"radialaxis\":{\"gridcolor\":\"white\",\"linecolor\":\"white\",\"ticks\":\"\"}},\"ternary\":{\"bgcolor\":\"#E5ECF6\",\"aaxis\":{\"gridcolor\":\"white\",\"linecolor\":\"white\",\"ticks\":\"\"},\"baxis\":{\"gridcolor\":\"white\",\"linecolor\":\"white\",\"ticks\":\"\"},\"caxis\":{\"gridcolor\":\"white\",\"linecolor\":\"white\",\"ticks\":\"\"}},\"coloraxis\":{\"colorbar\":{\"outlinewidth\":0,\"ticks\":\"\"}},\"colorscale\":{\"sequential\":[[0.0,\"#0d0887\"],[0.1111111111111111,\"#46039f\"],[0.2222222222222222,\"#7201a8\"],[0.3333333333333333,\"#9c179e\"],[0.4444444444444444,\"#bd3786\"],[0.5555555555555556,\"#d8576b\"],[0.6666666666666666,\"#ed7953\"],[0.7777777777777778,\"#fb9f3a\"],[0.8888888888888888,\"#fdca26\"],[1.0,\"#f0f921\"]],\"sequentialminus\":[[0.0,\"#0d0887\"],[0.1111111111111111,\"#46039f\"],[0.2222222222222222,\"#7201a8\"],[0.3333333333333333,\"#9c179e\"],[0.4444444444444444,\"#bd3786\"],[0.5555555555555556,\"#d8576b\"],[0.6666666666666666,\"#ed7953\"],[0.7777777777777778,\"#fb9f3a\"],[0.8888888888888888,\"#fdca26\"],[1.0,\"#f0f921\"]],\"diverging\":[[0,\"#8e0152\"],[0.1,\"#c51b7d\"],[0.2,\"#de77ae\"],[0.3,\"#f1b6da\"],[0.4,\"#fde0ef\"],[0.5,\"#f7f7f7\"],[0.6,\"#e6f5d0\"],[0.7,\"#b8e186\"],[0.8,\"#7fbc41\"],[0.9,\"#4d9221\"],[1,\"#276419\"]]},\"xaxis\":{\"gridcolor\":\"white\",\"linecolor\":\"white\",\"ticks\":\"\",\"title\":{\"standoff\":15},\"zerolinecolor\":\"white\",\"automargin\":true,\"zerolinewidth\":2},\"yaxis\":{\"gridcolor\":\"white\",\"linecolor\":\"white\",\"ticks\":\"\",\"title\":{\"standoff\":15},\"zerolinecolor\":\"white\",\"automargin\":true,\"zerolinewidth\":2},\"scene\":{\"xaxis\":{\"backgroundcolor\":\"#E5ECF6\",\"gridcolor\":\"white\",\"linecolor\":\"white\",\"showbackground\":true,\"ticks\":\"\",\"zerolinecolor\":\"white\",\"gridwidth\":2},\"yaxis\":{\"backgroundcolor\":\"#E5ECF6\",\"gridcolor\":\"white\",\"linecolor\":\"white\",\"showbackground\":true,\"ticks\":\"\",\"zerolinecolor\":\"white\",\"gridwidth\":2},\"zaxis\":{\"backgroundcolor\":\"#E5ECF6\",\"gridcolor\":\"white\",\"linecolor\":\"white\",\"showbackground\":true,\"ticks\":\"\",\"zerolinecolor\":\"white\",\"gridwidth\":2}},\"shapedefaults\":{\"line\":{\"color\":\"#2a3f5f\"}},\"annotationdefaults\":{\"arrowcolor\":\"#2a3f5f\",\"arrowhead\":0,\"arrowwidth\":1},\"geo\":{\"bgcolor\":\"white\",\"landcolor\":\"#E5ECF6\",\"subunitcolor\":\"white\",\"showland\":true,\"showlakes\":true,\"lakecolor\":\"white\"},\"title\":{\"x\":0.05},\"mapbox\":{\"style\":\"light\"}}}},                        {\"responsive\": true}                    ).then(function(){\n",
              "                            \n",
              "var gd = document.getElementById('38f62904-bc98-453b-b769-fe52fcd55884');\n",
              "var x = new MutationObserver(function (mutations, observer) {{\n",
              "        var display = window.getComputedStyle(gd).display;\n",
              "        if (!display || display === 'none') {{\n",
              "            console.log([gd, 'removed!']);\n",
              "            Plotly.purge(gd);\n",
              "            observer.disconnect();\n",
              "        }}\n",
              "}});\n",
              "\n",
              "// Listen for the removal of the full notebook cells\n",
              "var notebookContainer = gd.closest('#notebook-container');\n",
              "if (notebookContainer) {{\n",
              "    x.observe(notebookContainer, {childList: true});\n",
              "}}\n",
              "\n",
              "// Listen for the clearing of the current output cell\n",
              "var outputEl = gd.closest('.output');\n",
              "if (outputEl) {{\n",
              "    x.observe(outputEl, {childList: true});\n",
              "}}\n",
              "\n",
              "                        })                };                            </script>        </div>\n",
              "</body>\n",
              "</html>"
            ]
          },
          "metadata": {},
          "output_type": "display_data"
        }
      ],
      "source": [
        "from optuna.visualization import plot_parallel_coordinate\n",
        "\n",
        "plot_parallel_coordinate(study)\n"
      ],
      "id": "xLE5LTi2oYLu"
    },
    {
      "cell_type": "code",
      "execution_count": null,
      "metadata": {
        "colab": {
          "base_uri": "https://localhost:8080/",
          "height": 562
        },
        "id": "9c8rLt-8oZbv",
        "outputId": "53c20a0c-9681-400b-bc54-aa605b9f8b1c"
      },
      "outputs": [
        {
          "data": {
            "text/html": [
              "<html>\n",
              "<head><meta charset=\"utf-8\" /></head>\n",
              "<body>\n",
              "    <div>            <script src=\"https://cdnjs.cloudflare.com/ajax/libs/mathjax/2.7.5/MathJax.js?config=TeX-AMS-MML_SVG\"></script><script type=\"text/javascript\">if (window.MathJax && window.MathJax.Hub && window.MathJax.Hub.Config) {window.MathJax.Hub.Config({SVG: {font: \"STIX-Web\"}});}</script>                <script type=\"text/javascript\">window.PlotlyConfig = {MathJaxConfig: 'local'};</script>\n",
              "        <script src=\"https://cdn.plot.ly/plotly-2.18.2.min.js\"></script>                <div id=\"15f9d737-2ca7-4e81-a5e0-490851be0e06\" class=\"plotly-graph-div\" style=\"height:525px; width:100%;\"></div>            <script type=\"text/javascript\">                                    window.PLOTLYENV=window.PLOTLYENV || {};                                    if (document.getElementById(\"15f9d737-2ca7-4e81-a5e0-490851be0e06\")) {                    Plotly.newPlot(                        \"15f9d737-2ca7-4e81-a5e0-490851be0e06\",                        [{\"cliponaxis\":false,\"hovertemplate\":[\"xgbc__max_depth (IntDistribution): 0.0661540765297895<extra></extra>\",\"xgbc__n_estimators (IntDistribution): 0.1879952817443259<extra></extra>\",\"xgbc__learning_rate (FloatDistribution): 0.7458506417258847<extra></extra>\"],\"marker\":{\"color\":\"rgb(66,146,198)\"},\"orientation\":\"h\",\"text\":[\"0.07\",\"0.19\",\"0.75\"],\"textposition\":\"outside\",\"x\":[0.0661540765297895,0.1879952817443259,0.7458506417258847],\"y\":[\"xgbc__max_depth\",\"xgbc__n_estimators\",\"xgbc__learning_rate\"],\"type\":\"bar\"}],                        {\"showlegend\":false,\"title\":{\"text\":\"Hyperparameter Importances\"},\"xaxis\":{\"title\":{\"text\":\"Importance for Objective Value\"}},\"yaxis\":{\"title\":{\"text\":\"Hyperparameter\"}},\"template\":{\"data\":{\"histogram2dcontour\":[{\"type\":\"histogram2dcontour\",\"colorbar\":{\"outlinewidth\":0,\"ticks\":\"\"},\"colorscale\":[[0.0,\"#0d0887\"],[0.1111111111111111,\"#46039f\"],[0.2222222222222222,\"#7201a8\"],[0.3333333333333333,\"#9c179e\"],[0.4444444444444444,\"#bd3786\"],[0.5555555555555556,\"#d8576b\"],[0.6666666666666666,\"#ed7953\"],[0.7777777777777778,\"#fb9f3a\"],[0.8888888888888888,\"#fdca26\"],[1.0,\"#f0f921\"]]}],\"choropleth\":[{\"type\":\"choropleth\",\"colorbar\":{\"outlinewidth\":0,\"ticks\":\"\"}}],\"histogram2d\":[{\"type\":\"histogram2d\",\"colorbar\":{\"outlinewidth\":0,\"ticks\":\"\"},\"colorscale\":[[0.0,\"#0d0887\"],[0.1111111111111111,\"#46039f\"],[0.2222222222222222,\"#7201a8\"],[0.3333333333333333,\"#9c179e\"],[0.4444444444444444,\"#bd3786\"],[0.5555555555555556,\"#d8576b\"],[0.6666666666666666,\"#ed7953\"],[0.7777777777777778,\"#fb9f3a\"],[0.8888888888888888,\"#fdca26\"],[1.0,\"#f0f921\"]]}],\"heatmap\":[{\"type\":\"heatmap\",\"colorbar\":{\"outlinewidth\":0,\"ticks\":\"\"},\"colorscale\":[[0.0,\"#0d0887\"],[0.1111111111111111,\"#46039f\"],[0.2222222222222222,\"#7201a8\"],[0.3333333333333333,\"#9c179e\"],[0.4444444444444444,\"#bd3786\"],[0.5555555555555556,\"#d8576b\"],[0.6666666666666666,\"#ed7953\"],[0.7777777777777778,\"#fb9f3a\"],[0.8888888888888888,\"#fdca26\"],[1.0,\"#f0f921\"]]}],\"heatmapgl\":[{\"type\":\"heatmapgl\",\"colorbar\":{\"outlinewidth\":0,\"ticks\":\"\"},\"colorscale\":[[0.0,\"#0d0887\"],[0.1111111111111111,\"#46039f\"],[0.2222222222222222,\"#7201a8\"],[0.3333333333333333,\"#9c179e\"],[0.4444444444444444,\"#bd3786\"],[0.5555555555555556,\"#d8576b\"],[0.6666666666666666,\"#ed7953\"],[0.7777777777777778,\"#fb9f3a\"],[0.8888888888888888,\"#fdca26\"],[1.0,\"#f0f921\"]]}],\"contourcarpet\":[{\"type\":\"contourcarpet\",\"colorbar\":{\"outlinewidth\":0,\"ticks\":\"\"}}],\"contour\":[{\"type\":\"contour\",\"colorbar\":{\"outlinewidth\":0,\"ticks\":\"\"},\"colorscale\":[[0.0,\"#0d0887\"],[0.1111111111111111,\"#46039f\"],[0.2222222222222222,\"#7201a8\"],[0.3333333333333333,\"#9c179e\"],[0.4444444444444444,\"#bd3786\"],[0.5555555555555556,\"#d8576b\"],[0.6666666666666666,\"#ed7953\"],[0.7777777777777778,\"#fb9f3a\"],[0.8888888888888888,\"#fdca26\"],[1.0,\"#f0f921\"]]}],\"surface\":[{\"type\":\"surface\",\"colorbar\":{\"outlinewidth\":0,\"ticks\":\"\"},\"colorscale\":[[0.0,\"#0d0887\"],[0.1111111111111111,\"#46039f\"],[0.2222222222222222,\"#7201a8\"],[0.3333333333333333,\"#9c179e\"],[0.4444444444444444,\"#bd3786\"],[0.5555555555555556,\"#d8576b\"],[0.6666666666666666,\"#ed7953\"],[0.7777777777777778,\"#fb9f3a\"],[0.8888888888888888,\"#fdca26\"],[1.0,\"#f0f921\"]]}],\"mesh3d\":[{\"type\":\"mesh3d\",\"colorbar\":{\"outlinewidth\":0,\"ticks\":\"\"}}],\"scatter\":[{\"fillpattern\":{\"fillmode\":\"overlay\",\"size\":10,\"solidity\":0.2},\"type\":\"scatter\"}],\"parcoords\":[{\"type\":\"parcoords\",\"line\":{\"colorbar\":{\"outlinewidth\":0,\"ticks\":\"\"}}}],\"scatterpolargl\":[{\"type\":\"scatterpolargl\",\"marker\":{\"colorbar\":{\"outlinewidth\":0,\"ticks\":\"\"}}}],\"bar\":[{\"error_x\":{\"color\":\"#2a3f5f\"},\"error_y\":{\"color\":\"#2a3f5f\"},\"marker\":{\"line\":{\"color\":\"#E5ECF6\",\"width\":0.5},\"pattern\":{\"fillmode\":\"overlay\",\"size\":10,\"solidity\":0.2}},\"type\":\"bar\"}],\"scattergeo\":[{\"type\":\"scattergeo\",\"marker\":{\"colorbar\":{\"outlinewidth\":0,\"ticks\":\"\"}}}],\"scatterpolar\":[{\"type\":\"scatterpolar\",\"marker\":{\"colorbar\":{\"outlinewidth\":0,\"ticks\":\"\"}}}],\"histogram\":[{\"marker\":{\"pattern\":{\"fillmode\":\"overlay\",\"size\":10,\"solidity\":0.2}},\"type\":\"histogram\"}],\"scattergl\":[{\"type\":\"scattergl\",\"marker\":{\"colorbar\":{\"outlinewidth\":0,\"ticks\":\"\"}}}],\"scatter3d\":[{\"type\":\"scatter3d\",\"line\":{\"colorbar\":{\"outlinewidth\":0,\"ticks\":\"\"}},\"marker\":{\"colorbar\":{\"outlinewidth\":0,\"ticks\":\"\"}}}],\"scattermapbox\":[{\"type\":\"scattermapbox\",\"marker\":{\"colorbar\":{\"outlinewidth\":0,\"ticks\":\"\"}}}],\"scatterternary\":[{\"type\":\"scatterternary\",\"marker\":{\"colorbar\":{\"outlinewidth\":0,\"ticks\":\"\"}}}],\"scattercarpet\":[{\"type\":\"scattercarpet\",\"marker\":{\"colorbar\":{\"outlinewidth\":0,\"ticks\":\"\"}}}],\"carpet\":[{\"aaxis\":{\"endlinecolor\":\"#2a3f5f\",\"gridcolor\":\"white\",\"linecolor\":\"white\",\"minorgridcolor\":\"white\",\"startlinecolor\":\"#2a3f5f\"},\"baxis\":{\"endlinecolor\":\"#2a3f5f\",\"gridcolor\":\"white\",\"linecolor\":\"white\",\"minorgridcolor\":\"white\",\"startlinecolor\":\"#2a3f5f\"},\"type\":\"carpet\"}],\"table\":[{\"cells\":{\"fill\":{\"color\":\"#EBF0F8\"},\"line\":{\"color\":\"white\"}},\"header\":{\"fill\":{\"color\":\"#C8D4E3\"},\"line\":{\"color\":\"white\"}},\"type\":\"table\"}],\"barpolar\":[{\"marker\":{\"line\":{\"color\":\"#E5ECF6\",\"width\":0.5},\"pattern\":{\"fillmode\":\"overlay\",\"size\":10,\"solidity\":0.2}},\"type\":\"barpolar\"}],\"pie\":[{\"automargin\":true,\"type\":\"pie\"}]},\"layout\":{\"autotypenumbers\":\"strict\",\"colorway\":[\"#636efa\",\"#EF553B\",\"#00cc96\",\"#ab63fa\",\"#FFA15A\",\"#19d3f3\",\"#FF6692\",\"#B6E880\",\"#FF97FF\",\"#FECB52\"],\"font\":{\"color\":\"#2a3f5f\"},\"hovermode\":\"closest\",\"hoverlabel\":{\"align\":\"left\"},\"paper_bgcolor\":\"white\",\"plot_bgcolor\":\"#E5ECF6\",\"polar\":{\"bgcolor\":\"#E5ECF6\",\"angularaxis\":{\"gridcolor\":\"white\",\"linecolor\":\"white\",\"ticks\":\"\"},\"radialaxis\":{\"gridcolor\":\"white\",\"linecolor\":\"white\",\"ticks\":\"\"}},\"ternary\":{\"bgcolor\":\"#E5ECF6\",\"aaxis\":{\"gridcolor\":\"white\",\"linecolor\":\"white\",\"ticks\":\"\"},\"baxis\":{\"gridcolor\":\"white\",\"linecolor\":\"white\",\"ticks\":\"\"},\"caxis\":{\"gridcolor\":\"white\",\"linecolor\":\"white\",\"ticks\":\"\"}},\"coloraxis\":{\"colorbar\":{\"outlinewidth\":0,\"ticks\":\"\"}},\"colorscale\":{\"sequential\":[[0.0,\"#0d0887\"],[0.1111111111111111,\"#46039f\"],[0.2222222222222222,\"#7201a8\"],[0.3333333333333333,\"#9c179e\"],[0.4444444444444444,\"#bd3786\"],[0.5555555555555556,\"#d8576b\"],[0.6666666666666666,\"#ed7953\"],[0.7777777777777778,\"#fb9f3a\"],[0.8888888888888888,\"#fdca26\"],[1.0,\"#f0f921\"]],\"sequentialminus\":[[0.0,\"#0d0887\"],[0.1111111111111111,\"#46039f\"],[0.2222222222222222,\"#7201a8\"],[0.3333333333333333,\"#9c179e\"],[0.4444444444444444,\"#bd3786\"],[0.5555555555555556,\"#d8576b\"],[0.6666666666666666,\"#ed7953\"],[0.7777777777777778,\"#fb9f3a\"],[0.8888888888888888,\"#fdca26\"],[1.0,\"#f0f921\"]],\"diverging\":[[0,\"#8e0152\"],[0.1,\"#c51b7d\"],[0.2,\"#de77ae\"],[0.3,\"#f1b6da\"],[0.4,\"#fde0ef\"],[0.5,\"#f7f7f7\"],[0.6,\"#e6f5d0\"],[0.7,\"#b8e186\"],[0.8,\"#7fbc41\"],[0.9,\"#4d9221\"],[1,\"#276419\"]]},\"xaxis\":{\"gridcolor\":\"white\",\"linecolor\":\"white\",\"ticks\":\"\",\"title\":{\"standoff\":15},\"zerolinecolor\":\"white\",\"automargin\":true,\"zerolinewidth\":2},\"yaxis\":{\"gridcolor\":\"white\",\"linecolor\":\"white\",\"ticks\":\"\",\"title\":{\"standoff\":15},\"zerolinecolor\":\"white\",\"automargin\":true,\"zerolinewidth\":2},\"scene\":{\"xaxis\":{\"backgroundcolor\":\"#E5ECF6\",\"gridcolor\":\"white\",\"linecolor\":\"white\",\"showbackground\":true,\"ticks\":\"\",\"zerolinecolor\":\"white\",\"gridwidth\":2},\"yaxis\":{\"backgroundcolor\":\"#E5ECF6\",\"gridcolor\":\"white\",\"linecolor\":\"white\",\"showbackground\":true,\"ticks\":\"\",\"zerolinecolor\":\"white\",\"gridwidth\":2},\"zaxis\":{\"backgroundcolor\":\"#E5ECF6\",\"gridcolor\":\"white\",\"linecolor\":\"white\",\"showbackground\":true,\"ticks\":\"\",\"zerolinecolor\":\"white\",\"gridwidth\":2}},\"shapedefaults\":{\"line\":{\"color\":\"#2a3f5f\"}},\"annotationdefaults\":{\"arrowcolor\":\"#2a3f5f\",\"arrowhead\":0,\"arrowwidth\":1},\"geo\":{\"bgcolor\":\"white\",\"landcolor\":\"#E5ECF6\",\"subunitcolor\":\"white\",\"showland\":true,\"showlakes\":true,\"lakecolor\":\"white\"},\"title\":{\"x\":0.05},\"mapbox\":{\"style\":\"light\"}}}},                        {\"responsive\": true}                    ).then(function(){\n",
              "                            \n",
              "var gd = document.getElementById('15f9d737-2ca7-4e81-a5e0-490851be0e06');\n",
              "var x = new MutationObserver(function (mutations, observer) {{\n",
              "        var display = window.getComputedStyle(gd).display;\n",
              "        if (!display || display === 'none') {{\n",
              "            console.log([gd, 'removed!']);\n",
              "            Plotly.purge(gd);\n",
              "            observer.disconnect();\n",
              "        }}\n",
              "}});\n",
              "\n",
              "// Listen for the removal of the full notebook cells\n",
              "var notebookContainer = gd.closest('#notebook-container');\n",
              "if (notebookContainer) {{\n",
              "    x.observe(notebookContainer, {childList: true});\n",
              "}}\n",
              "\n",
              "// Listen for the clearing of the current output cell\n",
              "var outputEl = gd.closest('.output');\n",
              "if (outputEl) {{\n",
              "    x.observe(outputEl, {childList: true});\n",
              "}}\n",
              "\n",
              "                        })                };                            </script>        </div>\n",
              "</body>\n",
              "</html>"
            ]
          },
          "metadata": {},
          "output_type": "display_data"
        }
      ],
      "source": [
        "from optuna.visualization import plot_param_importances\n",
        "plot_param_importances(study)\n"
      ],
      "id": "9c8rLt-8oZbv"
    },
    {
      "cell_type": "code",
      "execution_count": null,
      "metadata": {
        "colab": {
          "base_uri": "https://localhost:8080/"
        },
        "id": "g-1HQkhfaF6-",
        "outputId": "6b480d24-ec4f-4e9b-f7b8-e0f660602b5d"
      },
      "outputs": [
        {
          "name": "stdout",
          "output_type": "stream",
          "text": [
            "Accuracy: 0.9657466960248124\n",
            "time 48.17772102355957\n"
          ]
        }
      ],
      "source": [
        "rs=NIA\n",
        "xgbc = xgb.XGBClassifier(random_state=rs)\n",
        "classif=Pipeline([('xgbc',xgbc)])\n",
        "classif.set_params(**study.best_params)\n",
        "(bacopt6, tiempo)=default_hp(classif, X_train, y_train, X_test, y_test)"
      ],
      "id": "g-1HQkhfaF6-"
    },
    {
      "cell_type": "code",
      "execution_count": null,
      "metadata": {
        "colab": {
          "background_save": true,
          "base_uri": "https://localhost:8080/"
        },
        "id": "K_RSCXxUiWmh",
        "outputId": "049a2dd5-2808-494b-b99f-e2d803e40b21"
      },
      "outputs": [
        {
          "name": "stdout",
          "output_type": "stream",
          "text": [
            "Fitting 3 folds for each of 30 candidates, totalling 90 fits\n",
            "Accuracy:  0.9612224353055379\n",
            "Best hyper-parameters: {'xgbc__learning_rate': 0.38138370229444646, 'xgbc__max_depth': 20} and their score (inner evaluation): 0.9618096252056505\n",
            "time 1502.8171002864838\n"
          ]
        }
      ],
      "source": [
        "import time\n",
        "from scipy.stats import randint as sp_randint\n",
        "from scipy.stats import uniform\n",
        "rs=NIA\n",
        "xgbc = xgb.XGBClassifier(random_state=rs)\n",
        "clf=Pipeline([('xgbc',xgbc)])\n",
        "param_grid = {'xgbc__max_depth': sp_randint(3,30),\n",
        "              'xgbc__learning_rate': uniform(0.01,0.5)}\n",
        "(Accur4,best_params,inner_score,timer4)=default_RS(clf, X_train, y_train, X_test, y_test,param_grid,30)"
      ],
      "id": "K_RSCXxUiWmh"
    },
    {
      "cell_type": "markdown",
      "metadata": {
        "id": "uvWK6AzzlKZi"
      },
      "source": [
        "# Results"
      ],
      "id": "uvWK6AzzlKZi"
    },
    {
      "cell_type": "markdown",
      "metadata": {
        "id": "pHCuWxjalRA3"
      },
      "source": [
        "## Optuna results"
      ],
      "id": "pHCuWxjalRA3"
    },
    {
      "cell_type": "code",
      "execution_count": null,
      "metadata": {
        "colab": {
          "base_uri": "https://localhost:8080/"
        },
        "id": "EjI1cod5lQWu",
        "outputId": "69b5564c-72bb-4cd4-8453-e27e2395762f"
      },
      "outputs": [
        {
          "name": "stdout",
          "output_type": "stream",
          "text": [
            "+------------------------+--------------------+--------------------+--------------------+--------------------+\n",
            "|       Algorithm        |  Default accuracy  |    Default time    |  Optimal Accuracy  |    Optimal time    |\n",
            "+------------------------+--------------------+--------------------+--------------------+--------------------+\n",
            "|      Extra Trees       | 0.9537436655065463 | 7.868129014968872  | 0.9568215356204276 |  411.728595495224  |\n",
            "|          SVM           | 0.9432483746478206 | 16.514610528945923 | 0.954636494069181  | 778.9429323673248  |\n",
            "| Hist Gradient Boosting | 0.9588529677770674 |  4.83767557144165  | 0.9597148850533892 | 384.4442620277405  |\n",
            "| XGBoost Early stopping | 0.9634690153183227 | 33.11443471908569  | 0.9643616544735658 | 1332.8631887435913 |\n",
            "|    XGBoost Pruning     | 0.9634690153183227 | 33.11443471908569  | 0.9631612283069346 | 724.0830593109131  |\n",
            "|  XGBoost n_estimators  | 0.9634690153183227 | 33.11443471908569  | 0.9657466960248124 | 3034.2490525245667 |\n",
            "+------------------------+--------------------+--------------------+--------------------+--------------------+\n"
          ]
        }
      ],
      "source": [
        "from tabulate import tabulate\n",
        "from prettytable import PrettyTable\n",
        "\n",
        "# Specify the Column Names while initializing the Table\n",
        "myTable = PrettyTable([\"Algorithm\", \"Default accuracy\", \"Default time\", \"Optimal Accuracy\",\"Optimal time\"])\n",
        "# Add rows\n",
        "myTable.add_row([\"Extra Trees\", bac1,tiempo1 ,bacopt1,tiempoopt1 ])\n",
        "myTable.add_row([\"SVM\",bac2,tiempo2 ,bacopt2,timeopt2])\n",
        "myTable.add_row([\"Hist Gradient Boosting\", bac3,tiempo3 ,bacopt3,timeopt3])\n",
        "myTable.add_row([\"XGBoost Early stopping\", bac4,tiempo4 ,bacopt4,timeopt4])\n",
        "myTable.add_row([\"XGBoost Pruning\", bac4,tiempo4 ,bacopt5,timeopt5])\n",
        "myTable.add_row([\"XGBoost n_estimators\", bac4,tiempo4 ,bacopt6,timeopt6])\n",
        "\n",
        "\n",
        "print(myTable)"
      ],
      "id": "EjI1cod5lQWu"
    },
    {
      "cell_type": "markdown",
      "metadata": {
        "id": "i8Rrqm_YpT3j"
      },
      "source": [
        "## Randomized Search Results"
      ],
      "id": "i8Rrqm_YpT3j"
    },
    {
      "cell_type": "code",
      "execution_count": null,
      "metadata": {
        "colab": {
          "base_uri": "https://localhost:8080/"
        },
        "id": "kzKvC3telU6S",
        "outputId": "f8a1c837-fe32-49d9-be3f-1adb2c2e7e67"
      },
      "outputs": [
        {
          "name": "stdout",
          "output_type": "stream",
          "text": [
            "+------------------------+--------------------+--------------------+--------------------+--------------------+\n",
            "|       Algorithm        |  Default accuracy  |    Default time    |  Optimal Accuracy  |    Optimal time    |\n",
            "+------------------------+--------------------+--------------------+--------------------+--------------------+\n",
            "|      Extra Trees       | 0.9537436655065463 | 7.868129014968872  | 0.9479273812060516 |  567.701746225357  |\n",
            "|          SVM           | 0.9432483746478206 | 16.514610528945923 | 0.9545442337287213 | 993.8959851264954  |\n",
            "| Hist Gradient Boosting | 0.9588529677770674 |  4.83767557144165  | 0.9625151218126288 | 174.63683581352234 |\n",
            "|        XGBoost         | 0.9634690153183227 | 33.11443471908569  | 0.9625764708667756 | 1472.6912276744843 |\n",
            "+------------------------+--------------------+--------------------+--------------------+--------------------+\n"
          ]
        }
      ],
      "source": [
        "from tabulate import tabulate\n",
        "from prettytable import PrettyTable\n",
        "\n",
        "# Specify the Column Names while initializing the Table\n",
        "myTable = PrettyTable([\"Algorithm\", \"Default accuracy\", \"Default time\", \"Optimal Accuracy\",\"Optimal time\"])\n",
        "# Add rows\n",
        "myTable.add_row([\"Extra Trees\", bac1,tiempo1 ,Accur1,timer1 ])\n",
        "myTable.add_row([\"SVM\",bac2,tiempo2 ,Accur2,timer2])\n",
        "myTable.add_row([\"Hist Gradient Boosting\", bac3,tiempo3 ,Accur3,timer3])\n",
        "myTable.add_row([\"XGBoost\", bac4,tiempo4 ,Accur4,timer4])\n",
        "\n",
        "\n",
        "print(myTable)"
      ],
      "id": "kzKvC3telU6S"
    },
    {
      "cell_type": "code",
      "execution_count": null,
      "metadata": {
        "id": "TcyGX364cigY"
      },
      "outputs": [],
      "source": [],
      "id": "TcyGX364cigY"
    }
  ],
  "metadata": {
    "colab": {
      "provenance": [],
      "toc_visible": true
    },
    "kernelspec": {
      "display_name": "Python 3 (ipykernel)",
      "language": "python",
      "name": "python3"
    },
    "language_info": {
      "codemirror_mode": {
        "name": "ipython",
        "version": 3
      },
      "file_extension": ".py",
      "mimetype": "text/x-python",
      "name": "python",
      "nbconvert_exporter": "python",
      "pygments_lexer": "ipython3",
      "version": "3.9.12"
    }
  },
  "nbformat": 4,
  "nbformat_minor": 5
}